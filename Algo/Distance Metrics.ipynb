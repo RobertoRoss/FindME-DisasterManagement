{
 "metadata": {
  "name": "",
  "signature": "sha256:b8aa2110a08717b3365ee0df9bfe6e18e3b2dfe9d4ddf52a1cd5012040eab0fc"
 },
 "nbformat": 3,
 "nbformat_minor": 0,
 "worksheets": [
  {
   "cells": [
    {
     "cell_type": "code",
     "collapsed": false,
     "input": [
      "import numpy as np\n",
      "import scipy.io as io\n",
      "from glob import glob\n",
      "import Image\n",
      "import fnmatch\n",
      "import os\n",
      "import h5py\n",
      "from sklearn import metrics,svm\n",
      "import matplotlib.pyplot as plt\n",
      "%matplotlib inline\n",
      "import pandas as pd\n",
      "import pickle \n",
      "from sklearn.grid_search import GridSearchCV\n",
      "from sklearn.neighbors import NearestNeighbors\n",
      "from skimage import viewer"
     ],
     "language": "python",
     "metadata": {},
     "outputs": [
      {
       "output_type": "stream",
       "stream": "stdout",
       "text": [
        "Recommended matplotlib backend is `Agg` for full skimage.viewer functionality.\n"
       ]
      }
     ],
     "prompt_number": 1
    },
    {
     "cell_type": "code",
     "collapsed": false,
     "input": [
      "data_path = '/nfs/bigeye/asarya/google_hack/FindME-DisasterManagement/Algo/data/shared/info/unrest_names.mat'\n",
      "names = io.loadmat(data_path)"
     ],
     "language": "python",
     "metadata": {},
     "outputs": [],
     "prompt_number": 2
    },
    {
     "cell_type": "code",
     "collapsed": false,
     "input": [
      "ground_truth = []\n",
      "for i in range(0, 750):\n",
      "    ground_truth.append(names['nameInfo'][0,i][0][0][0][1][0])\n",
      "ground_truth = np.array(ground_truth);"
     ],
     "language": "python",
     "metadata": {},
     "outputs": [],
     "prompt_number": 3
    },
    {
     "cell_type": "code",
     "collapsed": false,
     "input": [
      "ground_truth[0]"
     ],
     "language": "python",
     "metadata": {},
     "outputs": [
      {
       "metadata": {},
       "output_type": "pyout",
       "prompt_number": 4,
       "text": [
        "array([1, 2, 3, 4], dtype=uint8)"
       ]
      }
     ],
     "prompt_number": 4
    },
    {
     "cell_type": "code",
     "collapsed": false,
     "input": [
      "img_path='/nfs/bigeye/asarya/google_hack/FindME-DisasterManagement/Algo/data/images/lfw/'\n",
      "image_data=glob(img_path)"
     ],
     "language": "python",
     "metadata": {},
     "outputs": [],
     "prompt_number": 5
    },
    {
     "cell_type": "code",
     "collapsed": false,
     "input": [
      "matches = []\n",
      "for root, dirnames, filenames in os.walk(img_path):\n",
      "  for filename in fnmatch.filter(filenames, '*.jpg'):\n",
      "      matches.append(os.path.join(root, filename))"
     ],
     "language": "python",
     "metadata": {},
     "outputs": [],
     "prompt_number": 6
    },
    {
     "cell_type": "code",
     "collapsed": false,
     "input": [
      "matches=sorted(matches)"
     ],
     "language": "python",
     "metadata": {},
     "outputs": [],
     "prompt_number": 7
    },
    {
     "cell_type": "code",
     "collapsed": false,
     "input": [
      "file_path='/nfs/bigeye/asarya/google_hack/FindME-DisasterManagement/Algo/data/lfw_vj/SIFT_1pix_PCA64_GMM512/features/poolfv/1/'\n",
      "feature_files=sorted(glob(file_path+'*feat_*.mat'))"
     ],
     "language": "python",
     "metadata": {},
     "outputs": [],
     "prompt_number": 8
    },
    {
     "cell_type": "code",
     "collapsed": false,
     "input": [
      "data={}\n",
      "for file_name in feature_files:\n",
      "    chunk=np.array(h5py.File(file_name)['chunk'])\n",
      "    index=np.array(h5py.File(file_name)['index'])\n",
      "    index=tuple([item for sublist in  index.tolist() for item in sublist ])\n",
      "    for i in range(0,134):\n",
      "        data[index[i]]=chunk[i,:]\n",
      "train_data=[]\n",
      "for item in data.items():\n",
      "    train_data.append(item[1])\n",
      "train_data=np.array(train_data)"
     ],
     "language": "python",
     "metadata": {},
     "outputs": [],
     "prompt_number": 9
    },
    {
     "cell_type": "code",
     "collapsed": false,
     "input": [
      "neigh = NearestNeighbors(n_neighbors=5, radius=1.0, algorithm='brute',leaf_size=100)"
     ],
     "language": "python",
     "metadata": {},
     "outputs": [],
     "prompt_number": 10
    },
    {
     "cell_type": "code",
     "collapsed": false,
     "input": [
      "neigh.fit(train_data)  "
     ],
     "language": "python",
     "metadata": {},
     "outputs": [
      {
       "metadata": {},
       "output_type": "pyout",
       "prompt_number": 11,
       "text": [
        "NearestNeighbors(algorithm='brute', leaf_size=100, metric='minkowski',\n",
        "         metric_params=None, n_neighbors=5, p=2, radius=1.0)"
       ]
      }
     ],
     "prompt_number": 11
    },
    {
     "cell_type": "code",
     "collapsed": false,
     "input": [
      "for i in range(0, 100):\n",
      "    print i, '=>', neigh.kneighbors(train_data[i,:], 10, return_distance=False)"
     ],
     "language": "python",
     "metadata": {},
     "outputs": [
      {
       "output_type": "stream",
       "stream": "stdout",
       "text": [
        "0 => "
       ]
      },
      {
       "output_type": "stream",
       "stream": "stdout",
       "text": [
        "[[   0 1000 1385 1140 1006  997 1393 1341  989  981]]\n",
        "1 => "
       ]
      },
      {
       "output_type": "stream",
       "stream": "stdout",
       "text": [
        "[[   1  274  631  995 1580  435 1317 1399 1080 1542]]\n",
        "2 => "
       ]
      },
      {
       "output_type": "stream",
       "stream": "stdout",
       "text": [
        "[[   2  459    3  460  994  388  924 1552 1397 1305]]\n",
        "3 => "
       ]
      },
      {
       "output_type": "stream",
       "stream": "stdout",
       "text": [
        "[[  3 726 609  28 238 987 220 171 715 437]]\n",
        "4 => "
       ]
      },
      {
       "output_type": "stream",
       "stream": "stdout",
       "text": [
        "[[   4  220  218  167 1099  591  892  195  199  156]]\n",
        "5 => "
       ]
      },
      {
       "output_type": "stream",
       "stream": "stdout",
       "text": [
        "[[   5   11   21   17   16   23 1550  432  138  196]]\n",
        "6 => "
       ]
      },
      {
       "output_type": "stream",
       "stream": "stdout",
       "text": [
        "[[  6  12  14   8  13  26 276 647 141  18]]\n",
        "7 => "
       ]
      },
      {
       "output_type": "stream",
       "stream": "stdout",
       "text": [
        "[[   7  700   39 1137  598  488   22   16  767  419]]\n",
        "8 => "
       ]
      },
      {
       "output_type": "stream",
       "stream": "stdout",
       "text": [
        "[[   8   12    6   14 1594  311  648 1511  456  885]]\n",
        "9 => "
       ]
      },
      {
       "output_type": "stream",
       "stream": "stdout",
       "text": [
        "[[   9   15 1364  411  845  865   17 1263   78 1324]]\n",
        "10 => "
       ]
      },
      {
       "output_type": "stream",
       "stream": "stdout",
       "text": [
        "[[  10 1236   17  565 1551 1505  417  585  560  551]]\n",
        "11 => "
       ]
      },
      {
       "output_type": "stream",
       "stream": "stdout",
       "text": [
        "[[  11    5   16  148   17   23   21 1509  190  138]]\n",
        "12 => "
       ]
      },
      {
       "output_type": "stream",
       "stream": "stdout",
       "text": [
        "[[  12   14    6    8   13   18  276 1528 1224 1264]]\n",
        "13 => "
       ]
      },
      {
       "output_type": "stream",
       "stream": "stdout",
       "text": [
        "[[  13   14   18   23   12    6   16  141  647 1037]]\n",
        "14 => "
       ]
      },
      {
       "output_type": "stream",
       "stream": "stdout",
       "text": [
        "[[  14   12    6   13   18  647    8 1431 1528  279]]\n",
        "15 => "
       ]
      },
      {
       "output_type": "stream",
       "stream": "stdout",
       "text": [
        "[[  15    9   17 1364 1234  682  845  654  685 1512]]\n",
        "16 => "
       ]
      },
      {
       "output_type": "stream",
       "stream": "stdout",
       "text": [
        "[[ 16  21  17  11   5  18  23  13 699 558]]\n",
        "17 => "
       ]
      },
      {
       "output_type": "stream",
       "stream": "stdout",
       "text": [
        "[[17 16  5 15 11 18 21 10 23 34]]\n",
        "18 => "
       ]
      },
      {
       "output_type": "stream",
       "stream": "stdout",
       "text": [
        "[[ 18  13  12  14  16  23 467  17 486 689]]\n",
        "19 => "
       ]
      },
      {
       "output_type": "stream",
       "stream": "stdout",
       "text": [
        "[[  19   23   18  654  716  532 1174  278 1444  317]]\n",
        "20 => "
       ]
      },
      {
       "output_type": "stream",
       "stream": "stdout",
       "text": [
        "[[  20   70 1595  534 1384 1178   19  664  632  530]]\n",
        "21 => "
       ]
      },
      {
       "output_type": "stream",
       "stream": "stdout",
       "text": [
        "[[  21   16    5   11   17 1512  693  562  699 1146]]\n",
        "22 => "
       ]
      },
      {
       "output_type": "stream",
       "stream": "stdout",
       "text": [
        "[[  22  848  641  612  658  789  629 1398   10  137]]\n",
        "23 => "
       ]
      },
      {
       "output_type": "stream",
       "stream": "stdout",
       "text": [
        "[[  23   13   16   18   11   19    5 1354 1410   17]]\n",
        "24 => "
       ]
      },
      {
       "output_type": "stream",
       "stream": "stdout",
       "text": [
        "[[  24 1594  263 1338 1264    8 1531 1270 1044 1352]]\n",
        "25 => "
       ]
      },
      {
       "output_type": "stream",
       "stream": "stdout",
       "text": [
        "[[  25  647  224 1431 1287  241 1449 1179 1037 1463]]\n",
        "26 => "
       ]
      },
      {
       "output_type": "stream",
       "stream": "stdout",
       "text": [
        "[[  26    6 1463 1476 1431 1224   14   48  373  862]]\n",
        "27 => "
       ]
      },
      {
       "output_type": "stream",
       "stream": "stdout",
       "text": [
        "[[  27  799 1449  412  751 1187 1177  746  803 1555]]\n",
        "28 => "
       ]
      },
      {
       "output_type": "stream",
       "stream": "stdout",
       "text": [
        "[[  28  223  697  171  842  151  988 1311  987  419]]\n",
        "29 => "
       ]
      },
      {
       "output_type": "stream",
       "stream": "stdout",
       "text": [
        "[[  29 1307 1390   71 1378 1438 1484 1069 1100  849]]\n",
        "30 => "
       ]
      },
      {
       "output_type": "stream",
       "stream": "stdout",
       "text": [
        "[[  30 1158   70 1444  320 1595  317 1013 1503 1110]]\n",
        "31 => "
       ]
      },
      {
       "output_type": "stream",
       "stream": "stdout",
       "text": [
        "[[  31 1025   34  841 1031 1313  173 1568  628  706]]\n",
        "32 => "
       ]
      },
      {
       "output_type": "stream",
       "stream": "stdout",
       "text": [
        "[[  32  657 1228 1044  280  778 1493  359  764  391]]\n",
        "33 => "
       ]
      },
      {
       "output_type": "stream",
       "stream": "stdout",
       "text": [
        "[[  33  856 1373 1217 1375 1379  708 1490 1495  298]]\n",
        "34 => "
       ]
      },
      {
       "output_type": "stream",
       "stream": "stdout",
       "text": [
        "[[  34   31  483 1282  196 1563   17  998  560   35]]\n",
        "35 => "
       ]
      },
      {
       "output_type": "stream",
       "stream": "stdout",
       "text": [
        "[[  35 1456   79  715  175  641  559  210   34 1383]]\n",
        "36 => "
       ]
      },
      {
       "output_type": "stream",
       "stream": "stdout",
       "text": [
        "[[  36  339  523   37  798 1605  255 1121  526 1293]]\n",
        "37 => "
       ]
      },
      {
       "output_type": "stream",
       "stream": "stdout",
       "text": [
        "[[  37  565 1200 1160   36  832  551  184  318 1505]]\n",
        "38 => "
       ]
      },
      {
       "output_type": "stream",
       "stream": "stdout",
       "text": [
        "[[  38  803  647  280 1528 1153  770 1311   14 1543]]\n",
        "39 => "
       ]
      },
      {
       "output_type": "stream",
       "stream": "stdout",
       "text": [
        "[[  39  821  488  448  449 1500  767  191 1230 1556]]\n",
        "40 => "
       ]
      },
      {
       "output_type": "stream",
       "stream": "stdout",
       "text": [
        "[[  40 1235 1042  671  426 1354  717  499   77  327]]\n",
        "41 => "
       ]
      },
      {
       "output_type": "stream",
       "stream": "stdout",
       "text": [
        "[[  41  821  319 1090  768  487  449 1500  498  427]]\n",
        "42 => "
       ]
      },
      {
       "output_type": "stream",
       "stream": "stdout",
       "text": [
        "[[  42  633 1157 1386 1425 1263 1570 1229  183  113]]\n",
        "43 => "
       ]
      },
      {
       "output_type": "stream",
       "stream": "stdout",
       "text": [
        "[[  43  700  451 1370  697  734  218 1099  220  791]]\n",
        "44 => "
       ]
      },
      {
       "output_type": "stream",
       "stream": "stdout",
       "text": [
        "[[  44  680 1212 1082 1083  798  523  686   97 1594]]\n",
        "45 => "
       ]
      },
      {
       "output_type": "stream",
       "stream": "stdout",
       "text": [
        "[[  45   46  473  948  887  514 1494 1540 1592 1128]]\n",
        "46 => "
       ]
      },
      {
       "output_type": "stream",
       "stream": "stdout",
       "text": [
        "[[  46  510  178  204   45  341  152 1108  645  202]]\n",
        "47 => "
       ]
      },
      {
       "output_type": "stream",
       "stream": "stdout",
       "text": [
        "[[  47 1344  205  879  624  370 1435 1496 1112  601]]\n",
        "48 => "
       ]
      },
      {
       "output_type": "stream",
       "stream": "stdout",
       "text": [
        "[[  48    6   26  709   14 1431  232 1313 1160 1290]]\n",
        "49 => "
       ]
      },
      {
       "output_type": "stream",
       "stream": "stdout",
       "text": [
        "[[  49  439  777 1354 1108 1013 1161 1312 1298  671]]\n",
        "50 => "
       ]
      },
      {
       "output_type": "stream",
       "stream": "stdout",
       "text": [
        "[[ 50 776 754 372 329 767 920 495 447 234]]\n",
        "51 => "
       ]
      },
      {
       "output_type": "stream",
       "stream": "stdout",
       "text": [
        "[[  51  802  634  342 1604 1299  952 1292 1088 1022]]\n",
        "52 => "
       ]
      },
      {
       "output_type": "stream",
       "stream": "stdout",
       "text": [
        "[[  52 1544 1511  949  884 1114 1432  943  384  885]]\n",
        "53 => "
       ]
      },
      {
       "output_type": "stream",
       "stream": "stdout",
       "text": [
        "[[  53 1600 1165  552 1293  536 1467  733  410   36]]\n",
        "54 => "
       ]
      },
      {
       "output_type": "stream",
       "stream": "stdout",
       "text": [
        "[[  54  951  110  304  114 1341 1478  731 1502  950]]\n",
        "55 => "
       ]
      },
      {
       "output_type": "stream",
       "stream": "stdout",
       "text": [
        "[[  55 1114 1443   56 1348 1167   57  875  943  956]]\n",
        "56 => "
       ]
      },
      {
       "output_type": "stream",
       "stream": "stdout",
       "text": [
        "[[  56   57 1347  968 1348   55  255  415   36 1091]]\n",
        "57 => "
       ]
      },
      {
       "output_type": "stream",
       "stream": "stdout",
       "text": [
        "[[  57   56   55 1414  771 1442 1221 1150 1440 1512]]\n",
        "58 => "
       ]
      },
      {
       "output_type": "stream",
       "stream": "stdout",
       "text": [
        "[[  58  192  170 1219  506  405  708  206 1382  581]]\n",
        "59 => "
       ]
      },
      {
       "output_type": "stream",
       "stream": "stdout",
       "text": [
        "[[  59 1509  165  152 1161  207   61  190  707  196]]\n",
        "60 => "
       ]
      },
      {
       "output_type": "stream",
       "stream": "stdout",
       "text": [
        "[[  60   63 1375  486  681 1459 1586  791 1585  859]]\n",
        "61 => "
       ]
      },
      {
       "output_type": "stream",
       "stream": "stdout",
       "text": [
        "[[  61   59  222 1038  913 1120  172  665 1420  583]]\n",
        "62 => "
       ]
      },
      {
       "output_type": "stream",
       "stream": "stdout",
       "text": [
        "[[  62   63  655  658  675  860  137 1507 1588 1185]]\n",
        "63 => "
       ]
      },
      {
       "output_type": "stream",
       "stream": "stdout",
       "text": [
        "[[  63  574  852 1410  194  591 1408  856  791 1107]]\n",
        "64 => "
       ]
      },
      {
       "output_type": "stream",
       "stream": "stdout",
       "text": [
        "[[  64  673 1379 1375 1253  504  494   61  913 1416]]\n",
        "65 => "
       ]
      },
      {
       "output_type": "stream",
       "stream": "stdout",
       "text": [
        "[[  65 1568  174  638  413 1195  868  190 1107 1386]]\n",
        "66 => "
       ]
      },
      {
       "output_type": "stream",
       "stream": "stdout",
       "text": [
        "[[  66 1352 1258 1021  330  118 1055 1323  375  323]]\n",
        "67 => "
       ]
      },
      {
       "output_type": "stream",
       "stream": "stdout",
       "text": [
        "[[  67  320  327  317 1355 1072  543  671 1298  749]]\n",
        "68 => "
       ]
      },
      {
       "output_type": "stream",
       "stream": "stdout",
       "text": [
        "[[  68  489  310  487  135  240 1361   41 1356 1071]]\n",
        "69 => "
       ]
      },
      {
       "output_type": "stream",
       "stream": "stdout",
       "text": [
        "[[  69 1237 1085  635  233  690 1024 1433 1084  273]]\n",
        "70 => "
       ]
      },
      {
       "output_type": "stream",
       "stream": "stdout",
       "text": [
        "[[  70   20   30 1384 1595  534   21 1286 1503  626]]\n",
        "71 => "
       ]
      },
      {
       "output_type": "stream",
       "stream": "stdout",
       "text": [
        "[[  71  946  562  269   29 1100   75  281  334  514]]\n",
        "72 => "
       ]
      },
      {
       "output_type": "stream",
       "stream": "stdout",
       "text": [
        "[[  72   75 1128 1181  352  877 1263 1386 1582 1096]]\n",
        "73 => "
       ]
      },
      {
       "output_type": "stream",
       "stream": "stdout",
       "text": [
        "[[  73 1072  845  273 1195   74 1347 1318  320 1587]]\n",
        "74 => "
       ]
      },
      {
       "output_type": "stream",
       "stream": "stdout",
       "text": [
        "[[  74   75 1054  771   73  733 1599  914 1462  956]]\n",
        "75 => "
       ]
      },
      {
       "output_type": "stream",
       "stream": "stdout",
       "text": [
        "[[  75   72   74  227 1054  247  547 1064 1306 1434]]\n",
        "76 => "
       ]
      },
      {
       "output_type": "stream",
       "stream": "stdout",
       "text": [
        "[[  76 1491 1246 1421  590  159 1490  683 1304 1379]]\n",
        "77 => "
       ]
      },
      {
       "output_type": "stream",
       "stream": "stdout",
       "text": [
        "[[  77  597  426 1452 1353   40 1235  467 1419 1247]]\n",
        "78 => "
       ]
      },
      {
       "output_type": "stream",
       "stream": "stdout",
       "text": [
        "[[  78  273 1347 1237 1048  614  445 1366  760  557]]\n",
        "79 => "
       ]
      },
      {
       "output_type": "stream",
       "stream": "stdout",
       "text": [
        "[[  79 1146   35 1603  848  776  847 1599  113 1227]]\n",
        "80 => "
       ]
      },
      {
       "output_type": "stream",
       "stream": "stdout",
       "text": [
        "[[  80  318 1165  282 1207  775  955  944  936  947]]\n",
        "81 => "
       ]
      },
      {
       "output_type": "stream",
       "stream": "stdout",
       "text": [
        "[[  81  914 1582  748 1589 1411  227   42 1227  577]]\n",
        "82 => "
       ]
      },
      {
       "output_type": "stream",
       "stream": "stdout",
       "text": [
        "[[  82   83  625  721  563 1183  745 1589  884   21]]\n",
        "83 => "
       ]
      },
      {
       "output_type": "stream",
       "stream": "stdout",
       "text": [
        "[[  83   82  611 1183  262   78  482   17 1422  179]]\n",
        "84 => "
       ]
      },
      {
       "output_type": "stream",
       "stream": "stdout",
       "text": [
        "[[  84  283   85 1071  500  330  284  296 1294  756]]\n",
        "85 => "
       ]
      },
      {
       "output_type": "stream",
       "stream": "stdout",
       "text": [
        "[[  85 1042 1297 1351  299  500  323 1264  231  296]]\n",
        "86 => "
       ]
      },
      {
       "output_type": "stream",
       "stream": "stdout",
       "text": [
        "[[  86   89  381 1233  312  506  242 1117  326  941]]\n",
        "87 => "
       ]
      },
      {
       "output_type": "stream",
       "stream": "stdout",
       "text": [
        "[[  87   88   89  946 1227 1433  847  227 1229 1372]]\n",
        "88 => "
       ]
      },
      {
       "output_type": "stream",
       "stream": "stdout",
       "text": [
        "[[  88   89  948   87 1145 1084  882  406  642 1422]]\n",
        "89 => "
       ]
      },
      {
       "output_type": "stream",
       "stream": "stdout",
       "text": [
        "[[  89   88  948   87   86 1073  581 1084  273   91]]\n",
        "90 => "
       ]
      },
      {
       "output_type": "stream",
       "stream": "stdout",
       "text": [
        "[[  90   91  298  134  658 1315  742  365  130  945]]\n",
        "91 => "
       ]
      },
      {
       "output_type": "stream",
       "stream": "stdout",
       "text": [
        "[[  91   90  945   92  298   89  134  573  506 1236]]\n",
        "92 => "
       ]
      },
      {
       "output_type": "stream",
       "stream": "stdout",
       "text": [
        "[[  92  298 1012   91  289 1189  673   76  401 1379]]\n",
        "93 => "
       ]
      },
      {
       "output_type": "stream",
       "stream": "stdout",
       "text": [
        "[[  93 1313 1142  261 1278   95  264  515  709 1314]]\n",
        "94 => "
       ]
      },
      {
       "output_type": "stream",
       "stream": "stdout",
       "text": [
        "[[  94  118  859 1583 1406  450  525 1487  727  687]]\n",
        "95 => "
       ]
      },
      {
       "output_type": "stream",
       "stream": "stdout",
       "text": [
        "[[  95  280  746 1153  276  232   14  940    6 1101]]\n",
        "96 => "
       ]
      },
      {
       "output_type": "stream",
       "stream": "stdout",
       "text": [
        "[[  96  543 1119  277 1368  632  818  749 1345  964]]\n",
        "97 => "
       ]
      },
      {
       "output_type": "stream",
       "stream": "stdout",
       "text": [
        "[[  97  553 1054  680 1207   44 1165 1192  111  919]]\n",
        "98 => "
       ]
      },
      {
       "output_type": "stream",
       "stream": "stdout",
       "text": [
        "[[  98  302  910 1363  364  501  516 1349 1063  810]]\n",
        "99 => "
       ]
      },
      {
       "output_type": "stream",
       "stream": "stdout",
       "text": [
        "[[  99 1451  421 1378  547  780 1558 1476  553 1357]]\n"
       ]
      }
     ],
     "prompt_number": 10
    },
    {
     "cell_type": "code",
     "collapsed": false,
     "input": [
      "train_data"
     ],
     "language": "python",
     "metadata": {},
     "outputs": [
      {
       "metadata": {},
       "output_type": "pyout",
       "prompt_number": 54,
       "text": [
        "array([[ -1.32831617e-03,   1.18417270e-03,   5.61289722e-04, ...,\n",
        "         -2.35438533e-03,  -3.34512116e-03,   3.88356810e-03],\n",
        "       [ -7.37586292e-04,   8.48646683e-04,  -1.47068140e-03, ...,\n",
        "         -5.63994888e-03,   1.23547073e-02,  -4.35955776e-03],\n",
        "       [  2.04113553e-06,   3.86396414e-06,   5.41477766e-06, ...,\n",
        "         -5.09104939e-05,   1.74928326e-04,   1.22399560e-05],\n",
        "       ..., \n",
        "       [  1.62694091e-03,  -8.27537500e-04,   1.00270740e-03, ...,\n",
        "          1.25418417e-04,  -1.30543398e-04,  -1.35843700e-04],\n",
        "       [ -8.48500174e-04,  -8.71778466e-04,   3.89022083e-04, ...,\n",
        "         -1.06912434e-04,   1.38233023e-04,  -1.28089901e-04],\n",
        "       [  9.47543979e-03,  -1.03422161e-02,  -1.34848198e-02, ...,\n",
        "         -1.47517445e-03,  -9.34426498e-04,  -2.16728915e-03]], dtype=float32)"
       ]
      }
     ],
     "prompt_number": 54
    },
    {
     "cell_type": "code",
     "collapsed": false,
     "input": [
      "query='Abdoulaye_Wade_0001.jpg'"
     ],
     "language": "python",
     "metadata": {},
     "outputs": [],
     "prompt_number": 17
    },
    {
     "cell_type": "code",
     "collapsed": false,
     "input": [
      "Im=Image.open(matches[900])\n",
      "plt.imshow(Im)"
     ],
     "language": "python",
     "metadata": {},
     "outputs": [
      {
       "ename": "NameError",
       "evalue": "name 'matched' is not defined",
       "output_type": "pyerr",
       "traceback": [
        "\u001b[1;31m---------------------------------------------------------------------------\u001b[0m\n\u001b[1;31mNameError\u001b[0m                                 Traceback (most recent call last)",
        "\u001b[1;32m<ipython-input-12-80f723c1a40c>\u001b[0m in \u001b[0;36m<module>\u001b[1;34m()\u001b[0m\n\u001b[1;32m----> 1\u001b[1;33m \u001b[0mmatched\u001b[0m\u001b[1;33m[\u001b[0m\u001b[1;36m0\u001b[0m\u001b[1;33m]\u001b[0m\u001b[1;33m\u001b[0m\u001b[0m\n\u001b[0m",
        "\u001b[1;31mNameError\u001b[0m: name 'matched' is not defined"
       ]
      }
     ],
     "prompt_number": 12
    },
    {
     "cell_type": "code",
     "collapsed": false,
     "input": [
      "for match"
     ],
     "language": "python",
     "metadata": {},
     "outputs": [
      {
       "metadata": {},
       "output_type": "pyout",
       "prompt_number": 13,
       "text": [
        "'/nfs/bigeye/asarya/google_hack/FindME-DisasterManagement/Algo/data/images/lfw/Abdoulaye_Wade/Abdoulaye_Wade_0001.jpg'"
       ]
      }
     ],
     "prompt_number": 13
    },
    {
     "cell_type": "code",
     "collapsed": false,
     "input": [
      "import ntpath\n",
      "indx=0\n",
      "for item in matches:\n",
      "    if ntpath.basename(item)==query:\n",
      "        break\n",
      "    indx+=1\n",
      "query_data=train_data[indx,:]"
     ],
     "language": "python",
     "metadata": {},
     "outputs": [],
     "prompt_number": 19
    },
    {
     "cell_type": "code",
     "collapsed": false,
     "input": [],
     "language": "python",
     "metadata": {},
     "outputs": [
      {
       "metadata": {},
       "output_type": "pyout",
       "prompt_number": 20,
       "text": [
        "array([-0.00132832,  0.00118417,  0.00056129, ..., -0.00235439,\n",
        "       -0.00334512,  0.00388357], dtype=float32)"
       ]
      }
     ],
     "prompt_number": 20
    },
    {
     "cell_type": "code",
     "collapsed": false,
     "input": [],
     "language": "python",
     "metadata": {},
     "outputs": [],
     "prompt_number": 15
    },
    {
     "cell_type": "code",
     "collapsed": false,
     "input": [],
     "language": "python",
     "metadata": {},
     "outputs": []
    }
   ],
   "metadata": {}
  }
 ]
}