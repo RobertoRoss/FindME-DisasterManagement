{
 "metadata": {
  "name": "",
  "signature": "sha256:47ba9fcf438e31e5198a41b7c898577c79ba7cb6cf58d358bfd9c7c08601d3f5"
 },
 "nbformat": 3,
 "nbformat_minor": 0,
 "worksheets": [
  {
   "cells": [
    {
     "cell_type": "code",
     "collapsed": false,
     "input": [
      "import dlib, sys, os\n",
      "from skimage import io\n",
      "import skimage\n",
      "import matplotlib.pyplot as plt\n",
      "import cv2\n",
      "import numpy as np\n",
      "from skimage.feature import daisy,local_binary_pattern\n",
      "from skimage.color import rgb2gray\n",
      "from yael import ynumpy\n",
      "import sqlite3\n",
      "import pickle\n",
      "from sklearn.metrics import pairwise_distances\n",
      "from metric_learn import LSML, ITML, LMNN, SDML\n",
      "from metric_learn.lmnn import python_LMNN\n",
      "%matplotlib inline"
     ],
     "language": "python",
     "metadata": {},
     "outputs": [],
     "prompt_number": 31
    },
    {
     "cell_type": "code",
     "collapsed": false,
     "input": [
      "image_loc='/home/ankit/Pictures/hacks.jpg'"
     ],
     "language": "python",
     "metadata": {},
     "outputs": [],
     "prompt_number": 2
    },
    {
     "cell_type": "code",
     "collapsed": false,
     "input": [
      "daisy_features=[]\n",
      "detector = dlib.get_frontal_face_detector()\n",
      "win = dlib.image_window()\n",
      "img = io.imread(image_loc)\n",
      "dets = detector(img,1)\n",
      "print \"number of faces detected: \", len(dets)\n",
      "for d in dets:\n",
      "    print \"  detection position left,top,right,bottom:\", d.left(), d.top(), d.right(), d.bottom()\n",
      "    det_face=img[d.top():d.bottom(),d.left() : d.right()]\n",
      "    descs= daisy(skimage.color.rgb2gray(det_face), step=1, radius=10, histograms=8,\n",
      "                         orientations=8,normalization='l1')\n",
      "    daisy_desc=np.reshape(descs,[descs.shape[0]*descs.shape[1],descs.shape[2]])\n",
      "    daisy_features.append(daisy_desc)\n",
      "daisy_features=np.array(daisy_features)\n",
      "features=np.vstack(daisy_features)"
     ],
     "language": "python",
     "metadata": {},
     "outputs": [
      {
       "output_type": "stream",
       "stream": "stdout",
       "text": [
        "number of faces detected:  5\n",
        "  detection position left,top,right,bottom: 115 125 205 214\n",
        "  detection position left,top,right,bottom:"
       ]
      },
      {
       "output_type": "stream",
       "stream": "stdout",
       "text": [
        " 315 52 377 114\n",
        "  detection position left,top,right,bottom: 734 145 809 220\n",
        "  detection position left,top,right,bottom:"
       ]
      },
      {
       "output_type": "stream",
       "stream": "stdout",
       "text": [
        " 179 62 253 137\n",
        "  detection position left,top,right,bottom: 598 87 660 149\n"
       ]
      }
     ],
     "prompt_number": 100
    },
    {
     "cell_type": "code",
     "collapsed": false,
     "input": [
      "daisy_features[1][0:100,:].shape"
     ],
     "language": "python",
     "metadata": {},
     "outputs": [
      {
       "metadata": {},
       "output_type": "pyout",
       "prompt_number": 134,
       "text": [
        "(100, 200)"
       ]
      }
     ],
     "prompt_number": 134
    },
    {
     "cell_type": "code",
     "collapsed": false,
     "input": [
      "sample.shape"
     ],
     "language": "python",
     "metadata": {},
     "outputs": [
      {
       "metadata": {},
       "output_type": "pyout",
       "prompt_number": 144,
       "text": [
        "(128000, 64)"
       ]
      }
     ],
     "prompt_number": 144
    },
    {
     "cell_type": "code",
     "collapsed": false,
     "input": [
      "k = 256\n",
      "n_sample = k * 500\n",
      "\n",
      "# choose n_sample descriptors at random\n",
      "sample_indices = np.random.choice(features.shape[0], n_sample)\n",
      "sample = features[sample_indices]\n",
      "\n",
      "# until now sample was in uint8. Convert to float32\n",
      "sample = sample.astype('float32')\n",
      "\n",
      "# compute mean and covariance matrix for the PCA\n",
      "mean = sample.mean(axis = 0)\n",
      "sample = sample - mean\n",
      "cov = np.dot(sample.T, sample)\n",
      "\n",
      "# compute PCA matrix and keep only 64 dimensions\n",
      "eigvals, eigvecs = np.linalg.eig(cov)\n",
      "perm = eigvals.argsort()                   # sort by increasing eigenvalue\n",
      "pca_transform = eigvecs[:, perm[64:128]]   # eigenvectors for the 64 last eigenvalues\n",
      "\n",
      "# transform sample with PCA (note that numpy imposes line-vectors,\n",
      "# so we right-multiply the vectors)\n",
      "sample = np.dot(sample, pca_transform)\n",
      "\n",
      "# train GMM\n",
      "gmm = ynumpy.gmm_learn(sample, k)"
     ],
     "language": "python",
     "metadata": {},
     "outputs": [],
     "prompt_number": 4
    },
    {
     "cell_type": "code",
     "collapsed": false,
     "input": [
      "for image_desc in daisy_features:\n",
      "    print image_desc.shape"
     ],
     "language": "python",
     "metadata": {},
     "outputs": [
      {
       "output_type": "stream",
       "stream": "stdout",
       "text": [
        "(4830, 200)\n",
        "(1764, 200)\n",
        "(3025, 200)\n",
        "(2970, 200)\n",
        "(1764, 200)\n"
       ]
      }
     ],
     "prompt_number": 6
    },
    {
     "cell_type": "code",
     "collapsed": false,
     "input": [
      "image_fvs = []\n",
      "for image_desc in daisy_features:\n",
      "   # apply the PCA to the image descriptor\n",
      "   image_desc = image_desc.astype('float32')\n",
      "   image_desc = np.dot(image_desc - mean, pca_transform)\n",
      "   # compute the Fisher vector, using only the derivative w.r.t mu\n",
      "   fv = ynumpy.fisher(gmm, image_desc, include = 'mu')\n",
      "   image_fvs.append(fv)\n",
      "\n",
      "# make one matrix with all FVs\n",
      "image_fvs = np.vstack(image_fvs)\n",
      "\n",
      "# normalizations are done on all descriptors at once\n",
      "\n",
      "# power-normalization\n",
      "image_fvs = np.sign(image_fvs) * np.abs(image_fvs) ** 0.5\n",
      "\n",
      "# L2 normalize\n",
      "norms = np.sqrt(np.sum(image_fvs ** 2, 1))\n",
      "image_fvs /= norms.reshape(-1, 1)\n",
      "\n",
      "# handle images with 0 local descriptor (100 = far away from \"normal\" images)\n",
      "image_fvs[np.isnan(image_fvs)] = 100"
     ],
     "language": "python",
     "metadata": {},
     "outputs": [],
     "prompt_number": 13
    },
    {
     "cell_type": "code",
     "collapsed": false,
     "input": [
      "image_fvs.shape"
     ],
     "language": "python",
     "metadata": {},
     "outputs": [
      {
       "metadata": {},
       "output_type": "pyout",
       "prompt_number": 29,
       "text": [
        "(1624, 16384)"
       ]
      }
     ],
     "prompt_number": 29
    },
    {
     "cell_type": "code",
     "collapsed": false,
     "input": [
      "len(train_labels)"
     ],
     "language": "python",
     "metadata": {},
     "outputs": [
      {
       "metadata": {},
       "output_type": "pyout",
       "prompt_number": 30,
       "text": [
        "1624"
       ]
      }
     ],
     "prompt_number": 30
    },
    {
     "cell_type": "heading",
     "level": 2,
     "metadata": {},
     "source": [
      "METRIC LEARNING"
     ]
    },
    {
     "cell_type": "code",
     "collapsed": false,
     "input": [
      "def class_separation(X, labels):\n",
      "  unique_labels, label_inds = np.unique(labels, return_inverse=True)\n",
      "  ratio = 0\n",
      "  for li in xrange(len(unique_labels)):\n",
      "    Xc = X[label_inds==li]\n",
      "    Xnc = X[label_inds!=li]\n",
      "    ratio += pairwise_distances(Xc).mean() / pairwise_distances(Xc,Xnc).mean()\n",
      "  return ratio / len(unique_labels)"
     ],
     "language": "python",
     "metadata": {},
     "outputs": [],
     "prompt_number": 32
    },
    {
     "cell_type": "code",
     "collapsed": false,
     "input": [
      "k = 1\n",
      "# Test both impls, if available.\n",
      "for LMNN_cls in set((LMNN, python_LMNN)):\n",
      "  lmnn = LMNN_cls(k=k, learn_rate=1e-6)\n",
      "  lmnn.fit(image_fvs, train_labels, verbose=True)\n",
      "\n",
      "  csep = class_separation(lmnn.transform(), train_labels)\n",
      "  #assertLess(csep, 0.25)"
     ],
     "language": "python",
     "metadata": {},
     "outputs": [
      {
       "ename": "MemoryError",
       "evalue": "",
       "output_type": "pyerr",
       "traceback": [
        "\u001b[1;31m---------------------------------------------------------------------------\u001b[0m\n\u001b[1;31mMemoryError\u001b[0m                               Traceback (most recent call last)",
        "\u001b[1;32m<ipython-input-35-d77a5af5c9ff>\u001b[0m in \u001b[0;36m<module>\u001b[1;34m()\u001b[0m\n\u001b[0;32m      3\u001b[0m \u001b[1;32mfor\u001b[0m \u001b[0mLMNN_cls\u001b[0m \u001b[1;32min\u001b[0m \u001b[0mset\u001b[0m\u001b[1;33m(\u001b[0m\u001b[1;33m(\u001b[0m\u001b[0mLMNN\u001b[0m\u001b[1;33m,\u001b[0m \u001b[0mpython_LMNN\u001b[0m\u001b[1;33m)\u001b[0m\u001b[1;33m)\u001b[0m\u001b[1;33m:\u001b[0m\u001b[1;33m\u001b[0m\u001b[0m\n\u001b[0;32m      4\u001b[0m   \u001b[0mlmnn\u001b[0m \u001b[1;33m=\u001b[0m \u001b[0mLMNN_cls\u001b[0m\u001b[1;33m(\u001b[0m\u001b[0mk\u001b[0m\u001b[1;33m=\u001b[0m\u001b[0mk\u001b[0m\u001b[1;33m,\u001b[0m \u001b[0mlearn_rate\u001b[0m\u001b[1;33m=\u001b[0m\u001b[1;36m1e-6\u001b[0m\u001b[1;33m)\u001b[0m\u001b[1;33m\u001b[0m\u001b[0m\n\u001b[1;32m----> 5\u001b[1;33m   \u001b[0mlmnn\u001b[0m\u001b[1;33m.\u001b[0m\u001b[0mfit\u001b[0m\u001b[1;33m(\u001b[0m\u001b[0mimage_fvs\u001b[0m\u001b[1;33m,\u001b[0m \u001b[0mtrain_labels\u001b[0m\u001b[1;33m,\u001b[0m \u001b[0mverbose\u001b[0m\u001b[1;33m=\u001b[0m\u001b[0mTrue\u001b[0m\u001b[1;33m)\u001b[0m\u001b[1;33m\u001b[0m\u001b[0m\n\u001b[0m\u001b[0;32m      6\u001b[0m \u001b[1;33m\u001b[0m\u001b[0m\n\u001b[0;32m      7\u001b[0m   \u001b[0mcsep\u001b[0m \u001b[1;33m=\u001b[0m \u001b[0mclass_separation\u001b[0m\u001b[1;33m(\u001b[0m\u001b[0mlmnn\u001b[0m\u001b[1;33m.\u001b[0m\u001b[0mtransform\u001b[0m\u001b[1;33m(\u001b[0m\u001b[1;33m)\u001b[0m\u001b[1;33m,\u001b[0m \u001b[0mtrain_labels\u001b[0m\u001b[1;33m)\u001b[0m\u001b[1;33m\u001b[0m\u001b[0m\n",
        "\u001b[1;32m/home/ankit/anaconda/lib/python2.7/site-packages/metric_learn-0.1.0-py2.7.egg/metric_learn/lmnn.pyc\u001b[0m in \u001b[0;36mfit\u001b[1;34m(self, X, labels, verbose)\u001b[0m\n\u001b[0;32m     83\u001b[0m       \u001b[1;31m# Compute pairwise distances under current metric\u001b[0m\u001b[1;33m\u001b[0m\u001b[1;33m\u001b[0m\u001b[0m\n\u001b[0;32m     84\u001b[0m       \u001b[0mLx\u001b[0m \u001b[1;33m=\u001b[0m \u001b[0mL\u001b[0m\u001b[1;33m.\u001b[0m\u001b[0mdot\u001b[0m\u001b[1;33m(\u001b[0m\u001b[0mself\u001b[0m\u001b[1;33m.\u001b[0m\u001b[0mX\u001b[0m\u001b[1;33m.\u001b[0m\u001b[0mT\u001b[0m\u001b[1;33m)\u001b[0m\u001b[1;33m.\u001b[0m\u001b[0mT\u001b[0m\u001b[1;33m\u001b[0m\u001b[0m\n\u001b[1;32m---> 85\u001b[1;33m       \u001b[0mg0\u001b[0m \u001b[1;33m=\u001b[0m \u001b[0m_pairwise_L2\u001b[0m\u001b[1;33m(\u001b[0m\u001b[1;33m*\u001b[0m\u001b[0mLx\u001b[0m\u001b[1;33m[\u001b[0m\u001b[0mimpostors\u001b[0m\u001b[1;33m]\u001b[0m\u001b[1;33m)\u001b[0m\u001b[1;33m\u001b[0m\u001b[0m\n\u001b[0m\u001b[0;32m     86\u001b[0m       \u001b[0mNi\u001b[0m \u001b[1;33m=\u001b[0m \u001b[1;33m(\u001b[0m\u001b[1;33m(\u001b[0m\u001b[0mLx\u001b[0m\u001b[1;33m[\u001b[0m\u001b[1;33m:\u001b[0m\u001b[1;33m,\u001b[0m\u001b[0mNone\u001b[0m\u001b[1;33m,\u001b[0m\u001b[1;33m:\u001b[0m\u001b[1;33m]\u001b[0m \u001b[1;33m-\u001b[0m \u001b[0mLx\u001b[0m\u001b[1;33m[\u001b[0m\u001b[0mtarget_neighbors\u001b[0m\u001b[1;33m]\u001b[0m\u001b[1;33m)\u001b[0m\u001b[1;33m**\u001b[0m\u001b[1;36m2\u001b[0m\u001b[1;33m)\u001b[0m\u001b[1;33m.\u001b[0m\u001b[0msum\u001b[0m\u001b[1;33m(\u001b[0m\u001b[0maxis\u001b[0m\u001b[1;33m=\u001b[0m\u001b[1;36m2\u001b[0m\u001b[1;33m)\u001b[0m \u001b[1;33m+\u001b[0m \u001b[1;36m1\u001b[0m\u001b[1;33m\u001b[0m\u001b[0m\n\u001b[0;32m     87\u001b[0m       \u001b[0mg1\u001b[0m\u001b[1;33m,\u001b[0m\u001b[0mg2\u001b[0m \u001b[1;33m=\u001b[0m \u001b[0mNi\u001b[0m\u001b[1;33m[\u001b[0m\u001b[0mimpostors\u001b[0m\u001b[1;33m]\u001b[0m\u001b[1;33m\u001b[0m\u001b[0m\n",
        "\u001b[1;31mMemoryError\u001b[0m: "
       ]
      }
     ],
     "prompt_number": 35
    },
    {
     "cell_type": "code",
     "collapsed": false,
     "input": [
      "descs= daisy(skimage.color.rgb2gray(new), step=1, radius=10, histograms=8,\n",
      "                         orientations=8,normalization='l1')\n",
      "daisy_desc=np.reshape(descs,[descs.shape[0]*descs.shape[1],descs.shape[2]])"
     ],
     "language": "python",
     "metadata": {},
     "outputs": [],
     "prompt_number": 120
    },
    {
     "cell_type": "code",
     "collapsed": false,
     "input": [
      "daisy_desc.shape"
     ],
     "language": "python",
     "metadata": {},
     "outputs": [
      {
       "metadata": {},
       "output_type": "pyout",
       "prompt_number": 121,
       "text": [
        "(4830, 200)"
       ]
      }
     ],
     "prompt_number": 121
    },
    {
     "cell_type": "code",
     "collapsed": false,
     "input": [
      "sqlite3.sqlite_v\n"
     ],
     "language": "python",
     "metadata": {},
     "outputs": [
      {
       "metadata": {},
       "output_type": "pyout",
       "prompt_number": 18,
       "text": [
        "'3.8.4.1'"
       ]
      }
     ],
     "prompt_number": 18
    },
    {
     "cell_type": "code",
     "collapsed": false,
     "input": [
      "#!/usr/bin/python\n",
      "# -*- coding: utf-8 -*-\n",
      "\n",
      "import sqlite3 as lite\n",
      "import sys\n",
      "\n",
      "con = None\n",
      "\n",
      "try:\n",
      "    person_identifier = {}    # hash map for storing person ids\n",
      "    con = lite.connect('../../db/facedb.litedb')\n",
      "    \n",
      "    cur = con.cursor()    \n",
      "   \n",
      "    cur.execute('SELECT DISTINCT person_id from images ORDER BY person_id;')\n",
      "    data = cur.fetchall()  \n",
      "    count=0\n",
      "    for d in data:\n",
      "        person_identifier[d[0]]=count\n",
      "        count+=1\n",
      "    \n",
      "except lite.Error, e:\n",
      "    \n",
      "    print \"Error %s:\" % e.args[0]\n",
      "    sys.exit(1)\n",
      "    \n",
      "finally:\n",
      "    \n",
      "    if con:\n",
      "        con.close()"
     ],
     "language": "python",
     "metadata": {},
     "outputs": [],
     "prompt_number": 19
    },
    {
     "cell_type": "heading",
     "level": 3,
     "metadata": {},
     "source": [
      "FEATURE GENERATION"
     ]
    },
    {
     "cell_type": "code",
     "collapsed": false,
     "input": [
      "con = None\n",
      "\n",
      "tmpfs_loc = '/run/user/1000'\n",
      "\n",
      "#LBP parameters\n",
      "radius=2\n",
      "METHOD='uniform'\n",
      "n_points=8*radius\n",
      "\n",
      "train_labels=[]\n",
      "try:\n",
      "    con = lite.connect('../../db/facedb.litedb')\n",
      "    \n",
      "    cur = con.cursor()    \n",
      "    detector = dlib.get_frontal_face_detector()\n",
      "    win = dlib.image_window()\n",
      "    daisy_features=[]\n",
      "    lbp_features=[]\n",
      "    val=0\n",
      "    for row in cur.execute('SELECT id, person_id, image from images ORDER BY person_id;'):\n",
      "        print val\n",
      "        img_id = row[0]\n",
      "        person_id = row[1]\n",
      "        train_labels.append(person_identifier[person_id])\n",
      "        blob = row[2]\n",
      "        img_filename = tmpfs_loc + os.sep + '%d.jpg' % img_id\n",
      "        tmp_img= open(img_filename,'w')\n",
      "        tmp_img.write(blob)\n",
      "        tmp_img.close()\n",
      "        \n",
      "        #Face detection and feature compuatation\n",
      "        \n",
      "        img = io.imread(img_filename)\n",
      "        dets = detector(img,1)\n",
      "        #print \"number of faces detected: \", len(dets)\n",
      "        #print person_id\n",
      "        \n",
      "        if len(dets)>0:\n",
      "            max_d = dets[0]; max_area = 0\n",
      "            for d in dets:\n",
      "                 #print \"  detection position left,top,right,bottom:\", d.left(), d.top(), d.right(), d.bottom()\n",
      "                 area = abs(d.top() - d.bottom()) * abs(d.left() - d.right())\n",
      "                 if area > max_area:\n",
      "                        max_area = area\n",
      "                        max_d = d\n",
      "            #taking max as rectangle might contain a negative value\n",
      "            t = min(max(0,max_d.top()),img.shape[0])\n",
      "            b = min(max(0,max_d.bottom()),img.shape[0])\n",
      "            l = min(max(0,max_d.left()),img.shape[1])\n",
      "            r = min(max(0,max_d.right()),img.shape[1])\n",
      "            det_face=img[t:b, l:r]\n",
      "        else:\n",
      "            [m,n,_]=img.shape\n",
      "            det_face=img[m/4:3*m/4,n/4 : 3*n/4]\n",
      "        det_face = rgb2gray(det_face)\n",
      "        \n",
      "        descs= daisy(skimage.color.rgb2gray(det_face), step=4, radius=10, histograms=8,\n",
      "                         orientations=8,normalization='l1')\n",
      "        daisy_desc=np.reshape(descs,[descs.shape[0]*descs.shape[1],descs.shape[2]])\n",
      "        daisy_features.append(daisy_desc)\n",
      "    #    lbp= local_binary_pattern(det_face,n_points,radius,METHOD)\n",
      "     #   lbp_features.append(lbp)\n",
      "        # Remove image from memory\n",
      "        os.remove(img_filename)\n",
      "        val+=1\n",
      "        #print row\n",
      "    daisy_features=np.array(daisy_features)\n",
      "   # features=np.vstack(daisy_features)\n",
      "     \n",
      "except lite.Error, e:\n",
      "    \n",
      "    print \"Error %s:\" % e.args[0]\n",
      "    sys.exit(1)\n",
      "    \n",
      "finally:\n",
      "    \n",
      "    if con:\n",
      "        con.close()"
     ],
     "language": "python",
     "metadata": {},
     "outputs": [
      {
       "output_type": "stream",
       "stream": "stdout",
       "text": [
        "0\n",
        "1"
       ]
      },
      {
       "output_type": "stream",
       "stream": "stdout",
       "text": [
        "\n",
        "2"
       ]
      },
      {
       "output_type": "stream",
       "stream": "stdout",
       "text": [
        "\n",
        "3"
       ]
      },
      {
       "output_type": "stream",
       "stream": "stdout",
       "text": [
        "\n",
        "4"
       ]
      },
      {
       "output_type": "stream",
       "stream": "stdout",
       "text": [
        "\n",
        "5"
       ]
      },
      {
       "output_type": "stream",
       "stream": "stdout",
       "text": [
        "\n",
        "6"
       ]
      },
      {
       "output_type": "stream",
       "stream": "stdout",
       "text": [
        "\n",
        "7"
       ]
      },
      {
       "output_type": "stream",
       "stream": "stdout",
       "text": [
        "\n",
        "8"
       ]
      },
      {
       "output_type": "stream",
       "stream": "stdout",
       "text": [
        "\n",
        "9"
       ]
      },
      {
       "output_type": "stream",
       "stream": "stdout",
       "text": [
        "\n",
        "10"
       ]
      },
      {
       "output_type": "stream",
       "stream": "stdout",
       "text": [
        "\n",
        "11"
       ]
      },
      {
       "output_type": "stream",
       "stream": "stdout",
       "text": [
        "\n",
        "12"
       ]
      },
      {
       "output_type": "stream",
       "stream": "stdout",
       "text": [
        "\n",
        "13"
       ]
      },
      {
       "output_type": "stream",
       "stream": "stdout",
       "text": [
        "\n",
        "14"
       ]
      },
      {
       "output_type": "stream",
       "stream": "stdout",
       "text": [
        "\n",
        "15"
       ]
      },
      {
       "output_type": "stream",
       "stream": "stdout",
       "text": [
        "\n",
        "16"
       ]
      },
      {
       "output_type": "stream",
       "stream": "stdout",
       "text": [
        "\n",
        "17"
       ]
      },
      {
       "output_type": "stream",
       "stream": "stdout",
       "text": [
        "\n",
        "18"
       ]
      },
      {
       "output_type": "stream",
       "stream": "stdout",
       "text": [
        "\n",
        "19"
       ]
      },
      {
       "output_type": "stream",
       "stream": "stdout",
       "text": [
        "\n",
        "20"
       ]
      },
      {
       "output_type": "stream",
       "stream": "stdout",
       "text": [
        "\n",
        "21"
       ]
      },
      {
       "output_type": "stream",
       "stream": "stdout",
       "text": [
        "\n",
        "22"
       ]
      },
      {
       "output_type": "stream",
       "stream": "stdout",
       "text": [
        "\n",
        "23"
       ]
      },
      {
       "output_type": "stream",
       "stream": "stdout",
       "text": [
        "\n",
        "24"
       ]
      },
      {
       "output_type": "stream",
       "stream": "stdout",
       "text": [
        "\n",
        "25"
       ]
      },
      {
       "output_type": "stream",
       "stream": "stdout",
       "text": [
        "\n",
        "26"
       ]
      },
      {
       "output_type": "stream",
       "stream": "stdout",
       "text": [
        "\n",
        "27"
       ]
      },
      {
       "output_type": "stream",
       "stream": "stdout",
       "text": [
        "\n",
        "28"
       ]
      },
      {
       "output_type": "stream",
       "stream": "stdout",
       "text": [
        "\n",
        "29"
       ]
      },
      {
       "output_type": "stream",
       "stream": "stdout",
       "text": [
        "\n",
        "30"
       ]
      },
      {
       "output_type": "stream",
       "stream": "stdout",
       "text": [
        "\n",
        "31"
       ]
      },
      {
       "output_type": "stream",
       "stream": "stdout",
       "text": [
        "\n",
        "32"
       ]
      },
      {
       "output_type": "stream",
       "stream": "stdout",
       "text": [
        "\n",
        "33"
       ]
      },
      {
       "output_type": "stream",
       "stream": "stdout",
       "text": [
        "\n",
        "34"
       ]
      },
      {
       "output_type": "stream",
       "stream": "stdout",
       "text": [
        "\n",
        "35"
       ]
      },
      {
       "output_type": "stream",
       "stream": "stdout",
       "text": [
        "\n",
        "36"
       ]
      },
      {
       "output_type": "stream",
       "stream": "stdout",
       "text": [
        "\n",
        "37"
       ]
      },
      {
       "output_type": "stream",
       "stream": "stdout",
       "text": [
        "\n",
        "38"
       ]
      },
      {
       "output_type": "stream",
       "stream": "stdout",
       "text": [
        "\n",
        "39"
       ]
      },
      {
       "output_type": "stream",
       "stream": "stdout",
       "text": [
        "\n",
        "40"
       ]
      },
      {
       "output_type": "stream",
       "stream": "stdout",
       "text": [
        "\n",
        "41"
       ]
      },
      {
       "output_type": "stream",
       "stream": "stdout",
       "text": [
        "\n",
        "42"
       ]
      },
      {
       "output_type": "stream",
       "stream": "stdout",
       "text": [
        "\n",
        "43"
       ]
      },
      {
       "output_type": "stream",
       "stream": "stdout",
       "text": [
        "\n",
        "44"
       ]
      },
      {
       "output_type": "stream",
       "stream": "stdout",
       "text": [
        "\n",
        "45"
       ]
      },
      {
       "output_type": "stream",
       "stream": "stdout",
       "text": [
        "\n",
        "46"
       ]
      },
      {
       "output_type": "stream",
       "stream": "stdout",
       "text": [
        "\n",
        "47"
       ]
      },
      {
       "output_type": "stream",
       "stream": "stdout",
       "text": [
        "\n",
        "48"
       ]
      },
      {
       "output_type": "stream",
       "stream": "stdout",
       "text": [
        "\n",
        "49"
       ]
      },
      {
       "output_type": "stream",
       "stream": "stdout",
       "text": [
        "\n",
        "50"
       ]
      },
      {
       "output_type": "stream",
       "stream": "stdout",
       "text": [
        "\n",
        "51"
       ]
      },
      {
       "output_type": "stream",
       "stream": "stdout",
       "text": [
        "\n",
        "52"
       ]
      },
      {
       "output_type": "stream",
       "stream": "stdout",
       "text": [
        "\n",
        "53"
       ]
      },
      {
       "output_type": "stream",
       "stream": "stdout",
       "text": [
        "\n",
        "54"
       ]
      },
      {
       "output_type": "stream",
       "stream": "stdout",
       "text": [
        "\n",
        "55"
       ]
      },
      {
       "output_type": "stream",
       "stream": "stdout",
       "text": [
        "\n",
        "56"
       ]
      },
      {
       "output_type": "stream",
       "stream": "stdout",
       "text": [
        "\n",
        "57"
       ]
      },
      {
       "output_type": "stream",
       "stream": "stdout",
       "text": [
        "\n",
        "58"
       ]
      },
      {
       "output_type": "stream",
       "stream": "stdout",
       "text": [
        "\n",
        "59"
       ]
      },
      {
       "output_type": "stream",
       "stream": "stdout",
       "text": [
        "\n",
        "60"
       ]
      },
      {
       "output_type": "stream",
       "stream": "stdout",
       "text": [
        "\n",
        "61"
       ]
      },
      {
       "output_type": "stream",
       "stream": "stdout",
       "text": [
        "\n",
        "62"
       ]
      },
      {
       "output_type": "stream",
       "stream": "stdout",
       "text": [
        "\n",
        "63"
       ]
      },
      {
       "output_type": "stream",
       "stream": "stdout",
       "text": [
        "\n",
        "64"
       ]
      },
      {
       "output_type": "stream",
       "stream": "stdout",
       "text": [
        "\n",
        "65"
       ]
      },
      {
       "output_type": "stream",
       "stream": "stdout",
       "text": [
        "\n",
        "66"
       ]
      },
      {
       "output_type": "stream",
       "stream": "stdout",
       "text": [
        "\n",
        "67"
       ]
      },
      {
       "output_type": "stream",
       "stream": "stdout",
       "text": [
        "\n",
        "68"
       ]
      },
      {
       "output_type": "stream",
       "stream": "stdout",
       "text": [
        "\n",
        "69"
       ]
      },
      {
       "output_type": "stream",
       "stream": "stdout",
       "text": [
        "\n",
        "70"
       ]
      },
      {
       "output_type": "stream",
       "stream": "stdout",
       "text": [
        "\n",
        "71"
       ]
      },
      {
       "output_type": "stream",
       "stream": "stdout",
       "text": [
        "\n",
        "72"
       ]
      },
      {
       "output_type": "stream",
       "stream": "stdout",
       "text": [
        "\n",
        "73"
       ]
      },
      {
       "output_type": "stream",
       "stream": "stdout",
       "text": [
        "\n",
        "74"
       ]
      },
      {
       "output_type": "stream",
       "stream": "stdout",
       "text": [
        "\n",
        "75"
       ]
      },
      {
       "output_type": "stream",
       "stream": "stdout",
       "text": [
        "\n",
        "76"
       ]
      },
      {
       "output_type": "stream",
       "stream": "stdout",
       "text": [
        "\n",
        "77"
       ]
      },
      {
       "output_type": "stream",
       "stream": "stdout",
       "text": [
        "\n",
        "78"
       ]
      },
      {
       "output_type": "stream",
       "stream": "stdout",
       "text": [
        "\n",
        "79"
       ]
      },
      {
       "output_type": "stream",
       "stream": "stdout",
       "text": [
        "\n",
        "80"
       ]
      },
      {
       "output_type": "stream",
       "stream": "stdout",
       "text": [
        "\n",
        "81"
       ]
      },
      {
       "output_type": "stream",
       "stream": "stdout",
       "text": [
        "\n",
        "82"
       ]
      },
      {
       "output_type": "stream",
       "stream": "stdout",
       "text": [
        "\n",
        "83"
       ]
      },
      {
       "output_type": "stream",
       "stream": "stdout",
       "text": [
        "\n",
        "84"
       ]
      },
      {
       "output_type": "stream",
       "stream": "stdout",
       "text": [
        "\n",
        "85"
       ]
      },
      {
       "output_type": "stream",
       "stream": "stdout",
       "text": [
        "\n",
        "86"
       ]
      },
      {
       "output_type": "stream",
       "stream": "stdout",
       "text": [
        "\n",
        "87"
       ]
      },
      {
       "output_type": "stream",
       "stream": "stdout",
       "text": [
        "\n",
        "88"
       ]
      },
      {
       "output_type": "stream",
       "stream": "stdout",
       "text": [
        "\n",
        "89"
       ]
      },
      {
       "output_type": "stream",
       "stream": "stdout",
       "text": [
        "\n",
        "90"
       ]
      },
      {
       "output_type": "stream",
       "stream": "stdout",
       "text": [
        "\n",
        "91"
       ]
      },
      {
       "output_type": "stream",
       "stream": "stdout",
       "text": [
        "\n",
        "92"
       ]
      },
      {
       "output_type": "stream",
       "stream": "stdout",
       "text": [
        "\n",
        "93"
       ]
      },
      {
       "output_type": "stream",
       "stream": "stdout",
       "text": [
        "\n",
        "94"
       ]
      },
      {
       "output_type": "stream",
       "stream": "stdout",
       "text": [
        "\n",
        "95"
       ]
      },
      {
       "output_type": "stream",
       "stream": "stdout",
       "text": [
        "\n",
        "96"
       ]
      },
      {
       "output_type": "stream",
       "stream": "stdout",
       "text": [
        "\n",
        "97"
       ]
      },
      {
       "output_type": "stream",
       "stream": "stdout",
       "text": [
        "\n",
        "98"
       ]
      },
      {
       "output_type": "stream",
       "stream": "stdout",
       "text": [
        "\n",
        "99"
       ]
      },
      {
       "output_type": "stream",
       "stream": "stdout",
       "text": [
        "\n",
        "100"
       ]
      },
      {
       "output_type": "stream",
       "stream": "stdout",
       "text": [
        "\n",
        "101"
       ]
      },
      {
       "output_type": "stream",
       "stream": "stdout",
       "text": [
        "\n",
        "102"
       ]
      },
      {
       "output_type": "stream",
       "stream": "stdout",
       "text": [
        "\n",
        "103"
       ]
      },
      {
       "output_type": "stream",
       "stream": "stdout",
       "text": [
        "\n",
        "104"
       ]
      },
      {
       "output_type": "stream",
       "stream": "stdout",
       "text": [
        "\n",
        "105"
       ]
      },
      {
       "output_type": "stream",
       "stream": "stdout",
       "text": [
        "\n",
        "106"
       ]
      },
      {
       "output_type": "stream",
       "stream": "stdout",
       "text": [
        "\n",
        "107"
       ]
      },
      {
       "output_type": "stream",
       "stream": "stdout",
       "text": [
        "\n",
        "108"
       ]
      },
      {
       "output_type": "stream",
       "stream": "stdout",
       "text": [
        "\n",
        "109"
       ]
      },
      {
       "output_type": "stream",
       "stream": "stdout",
       "text": [
        "\n",
        "110"
       ]
      },
      {
       "output_type": "stream",
       "stream": "stdout",
       "text": [
        "\n",
        "111"
       ]
      },
      {
       "output_type": "stream",
       "stream": "stdout",
       "text": [
        "\n",
        "112"
       ]
      },
      {
       "output_type": "stream",
       "stream": "stdout",
       "text": [
        "\n",
        "113"
       ]
      },
      {
       "output_type": "stream",
       "stream": "stdout",
       "text": [
        "\n",
        "114"
       ]
      },
      {
       "output_type": "stream",
       "stream": "stdout",
       "text": [
        "\n",
        "115"
       ]
      },
      {
       "output_type": "stream",
       "stream": "stdout",
       "text": [
        "\n",
        "116"
       ]
      },
      {
       "output_type": "stream",
       "stream": "stdout",
       "text": [
        "\n",
        "117"
       ]
      },
      {
       "output_type": "stream",
       "stream": "stdout",
       "text": [
        "\n",
        "118"
       ]
      },
      {
       "output_type": "stream",
       "stream": "stdout",
       "text": [
        "\n",
        "119"
       ]
      },
      {
       "output_type": "stream",
       "stream": "stdout",
       "text": [
        "\n",
        "120"
       ]
      },
      {
       "output_type": "stream",
       "stream": "stdout",
       "text": [
        "\n",
        "121"
       ]
      },
      {
       "output_type": "stream",
       "stream": "stdout",
       "text": [
        "\n",
        "122"
       ]
      },
      {
       "output_type": "stream",
       "stream": "stdout",
       "text": [
        "\n",
        "123"
       ]
      },
      {
       "output_type": "stream",
       "stream": "stdout",
       "text": [
        "\n",
        "124"
       ]
      },
      {
       "output_type": "stream",
       "stream": "stdout",
       "text": [
        "\n",
        "125"
       ]
      },
      {
       "output_type": "stream",
       "stream": "stdout",
       "text": [
        "\n",
        "126"
       ]
      },
      {
       "output_type": "stream",
       "stream": "stdout",
       "text": [
        "\n",
        "127"
       ]
      },
      {
       "output_type": "stream",
       "stream": "stdout",
       "text": [
        "\n",
        "128"
       ]
      },
      {
       "output_type": "stream",
       "stream": "stdout",
       "text": [
        "\n",
        "129"
       ]
      },
      {
       "output_type": "stream",
       "stream": "stdout",
       "text": [
        "\n",
        "130"
       ]
      },
      {
       "output_type": "stream",
       "stream": "stdout",
       "text": [
        "\n",
        "131"
       ]
      },
      {
       "output_type": "stream",
       "stream": "stdout",
       "text": [
        "\n",
        "132"
       ]
      },
      {
       "output_type": "stream",
       "stream": "stdout",
       "text": [
        "\n",
        "133"
       ]
      },
      {
       "output_type": "stream",
       "stream": "stdout",
       "text": [
        "\n",
        "134"
       ]
      },
      {
       "output_type": "stream",
       "stream": "stdout",
       "text": [
        "\n",
        "135"
       ]
      },
      {
       "output_type": "stream",
       "stream": "stdout",
       "text": [
        "\n",
        "136"
       ]
      },
      {
       "output_type": "stream",
       "stream": "stdout",
       "text": [
        "\n",
        "137"
       ]
      },
      {
       "output_type": "stream",
       "stream": "stdout",
       "text": [
        "\n",
        "138"
       ]
      },
      {
       "output_type": "stream",
       "stream": "stdout",
       "text": [
        "\n",
        "139"
       ]
      },
      {
       "output_type": "stream",
       "stream": "stdout",
       "text": [
        "\n",
        "140"
       ]
      },
      {
       "output_type": "stream",
       "stream": "stdout",
       "text": [
        "\n",
        "141"
       ]
      },
      {
       "output_type": "stream",
       "stream": "stdout",
       "text": [
        "\n",
        "142"
       ]
      },
      {
       "output_type": "stream",
       "stream": "stdout",
       "text": [
        "\n",
        "143"
       ]
      },
      {
       "output_type": "stream",
       "stream": "stdout",
       "text": [
        "\n",
        "144"
       ]
      },
      {
       "output_type": "stream",
       "stream": "stdout",
       "text": [
        "\n",
        "145"
       ]
      },
      {
       "output_type": "stream",
       "stream": "stdout",
       "text": [
        "\n",
        "146"
       ]
      },
      {
       "output_type": "stream",
       "stream": "stdout",
       "text": [
        "\n",
        "147"
       ]
      },
      {
       "output_type": "stream",
       "stream": "stdout",
       "text": [
        "\n",
        "148"
       ]
      },
      {
       "output_type": "stream",
       "stream": "stdout",
       "text": [
        "\n",
        "149"
       ]
      },
      {
       "output_type": "stream",
       "stream": "stdout",
       "text": [
        "\n",
        "150"
       ]
      },
      {
       "output_type": "stream",
       "stream": "stdout",
       "text": [
        "\n",
        "151"
       ]
      },
      {
       "output_type": "stream",
       "stream": "stdout",
       "text": [
        "\n",
        "152"
       ]
      },
      {
       "output_type": "stream",
       "stream": "stdout",
       "text": [
        "\n",
        "153"
       ]
      },
      {
       "output_type": "stream",
       "stream": "stdout",
       "text": [
        "\n",
        "154"
       ]
      },
      {
       "output_type": "stream",
       "stream": "stdout",
       "text": [
        "\n",
        "155"
       ]
      },
      {
       "output_type": "stream",
       "stream": "stdout",
       "text": [
        "\n",
        "156"
       ]
      },
      {
       "output_type": "stream",
       "stream": "stdout",
       "text": [
        "\n",
        "157"
       ]
      },
      {
       "output_type": "stream",
       "stream": "stdout",
       "text": [
        "\n",
        "158"
       ]
      },
      {
       "output_type": "stream",
       "stream": "stdout",
       "text": [
        "\n",
        "159"
       ]
      },
      {
       "output_type": "stream",
       "stream": "stdout",
       "text": [
        "\n",
        "160"
       ]
      },
      {
       "output_type": "stream",
       "stream": "stdout",
       "text": [
        "\n",
        "161"
       ]
      },
      {
       "output_type": "stream",
       "stream": "stdout",
       "text": [
        "\n",
        "162"
       ]
      },
      {
       "output_type": "stream",
       "stream": "stdout",
       "text": [
        "\n",
        "163"
       ]
      },
      {
       "output_type": "stream",
       "stream": "stdout",
       "text": [
        "\n",
        "164"
       ]
      },
      {
       "output_type": "stream",
       "stream": "stdout",
       "text": [
        "\n",
        "165"
       ]
      },
      {
       "output_type": "stream",
       "stream": "stdout",
       "text": [
        "\n",
        "166"
       ]
      },
      {
       "output_type": "stream",
       "stream": "stdout",
       "text": [
        "\n",
        "167"
       ]
      },
      {
       "output_type": "stream",
       "stream": "stdout",
       "text": [
        "\n",
        "168"
       ]
      },
      {
       "output_type": "stream",
       "stream": "stdout",
       "text": [
        "\n",
        "169"
       ]
      },
      {
       "output_type": "stream",
       "stream": "stdout",
       "text": [
        "\n",
        "170"
       ]
      },
      {
       "output_type": "stream",
       "stream": "stdout",
       "text": [
        "\n",
        "171"
       ]
      },
      {
       "output_type": "stream",
       "stream": "stdout",
       "text": [
        "\n",
        "172"
       ]
      },
      {
       "output_type": "stream",
       "stream": "stdout",
       "text": [
        "\n",
        "173"
       ]
      },
      {
       "output_type": "stream",
       "stream": "stdout",
       "text": [
        "\n",
        "174"
       ]
      },
      {
       "output_type": "stream",
       "stream": "stdout",
       "text": [
        "\n",
        "175"
       ]
      },
      {
       "output_type": "stream",
       "stream": "stdout",
       "text": [
        "\n",
        "176"
       ]
      },
      {
       "output_type": "stream",
       "stream": "stdout",
       "text": [
        "\n",
        "177"
       ]
      },
      {
       "output_type": "stream",
       "stream": "stdout",
       "text": [
        "\n",
        "178"
       ]
      },
      {
       "output_type": "stream",
       "stream": "stdout",
       "text": [
        "\n",
        "179"
       ]
      },
      {
       "output_type": "stream",
       "stream": "stdout",
       "text": [
        "\n",
        "180"
       ]
      },
      {
       "output_type": "stream",
       "stream": "stdout",
       "text": [
        "\n",
        "181"
       ]
      },
      {
       "output_type": "stream",
       "stream": "stdout",
       "text": [
        "\n",
        "182"
       ]
      },
      {
       "output_type": "stream",
       "stream": "stdout",
       "text": [
        "\n",
        "183"
       ]
      },
      {
       "output_type": "stream",
       "stream": "stdout",
       "text": [
        "\n",
        "184"
       ]
      },
      {
       "output_type": "stream",
       "stream": "stdout",
       "text": [
        "\n",
        "185"
       ]
      },
      {
       "output_type": "stream",
       "stream": "stdout",
       "text": [
        "\n",
        "186"
       ]
      },
      {
       "output_type": "stream",
       "stream": "stdout",
       "text": [
        "\n",
        "187"
       ]
      },
      {
       "output_type": "stream",
       "stream": "stdout",
       "text": [
        "\n",
        "188"
       ]
      },
      {
       "output_type": "stream",
       "stream": "stdout",
       "text": [
        "\n",
        "189"
       ]
      },
      {
       "output_type": "stream",
       "stream": "stdout",
       "text": [
        "\n",
        "190"
       ]
      },
      {
       "output_type": "stream",
       "stream": "stdout",
       "text": [
        "\n",
        "191"
       ]
      },
      {
       "output_type": "stream",
       "stream": "stdout",
       "text": [
        "\n",
        "192"
       ]
      },
      {
       "output_type": "stream",
       "stream": "stdout",
       "text": [
        "\n",
        "193"
       ]
      },
      {
       "output_type": "stream",
       "stream": "stdout",
       "text": [
        "\n",
        "194"
       ]
      },
      {
       "output_type": "stream",
       "stream": "stdout",
       "text": [
        "\n",
        "195"
       ]
      },
      {
       "output_type": "stream",
       "stream": "stdout",
       "text": [
        "\n",
        "196"
       ]
      },
      {
       "output_type": "stream",
       "stream": "stdout",
       "text": [
        "\n",
        "197"
       ]
      },
      {
       "output_type": "stream",
       "stream": "stdout",
       "text": [
        "\n",
        "198"
       ]
      },
      {
       "output_type": "stream",
       "stream": "stdout",
       "text": [
        "\n",
        "199"
       ]
      },
      {
       "output_type": "stream",
       "stream": "stdout",
       "text": [
        "\n",
        "200"
       ]
      },
      {
       "output_type": "stream",
       "stream": "stdout",
       "text": [
        "\n",
        "201"
       ]
      },
      {
       "output_type": "stream",
       "stream": "stdout",
       "text": [
        "\n",
        "202"
       ]
      },
      {
       "output_type": "stream",
       "stream": "stdout",
       "text": [
        "\n",
        "203"
       ]
      },
      {
       "output_type": "stream",
       "stream": "stdout",
       "text": [
        "\n",
        "204"
       ]
      },
      {
       "output_type": "stream",
       "stream": "stdout",
       "text": [
        "\n",
        "205"
       ]
      },
      {
       "output_type": "stream",
       "stream": "stdout",
       "text": [
        "\n",
        "206"
       ]
      },
      {
       "output_type": "stream",
       "stream": "stdout",
       "text": [
        "\n",
        "207"
       ]
      },
      {
       "output_type": "stream",
       "stream": "stdout",
       "text": [
        "\n",
        "208"
       ]
      },
      {
       "output_type": "stream",
       "stream": "stdout",
       "text": [
        "\n",
        "209"
       ]
      },
      {
       "output_type": "stream",
       "stream": "stdout",
       "text": [
        "\n",
        "210"
       ]
      },
      {
       "output_type": "stream",
       "stream": "stdout",
       "text": [
        "\n",
        "211"
       ]
      },
      {
       "output_type": "stream",
       "stream": "stdout",
       "text": [
        "\n",
        "212"
       ]
      },
      {
       "output_type": "stream",
       "stream": "stdout",
       "text": [
        "\n",
        "213"
       ]
      },
      {
       "output_type": "stream",
       "stream": "stdout",
       "text": [
        "\n",
        "214"
       ]
      },
      {
       "output_type": "stream",
       "stream": "stdout",
       "text": [
        "\n",
        "215"
       ]
      },
      {
       "output_type": "stream",
       "stream": "stdout",
       "text": [
        "\n",
        "216"
       ]
      },
      {
       "output_type": "stream",
       "stream": "stdout",
       "text": [
        "\n",
        "217"
       ]
      },
      {
       "output_type": "stream",
       "stream": "stdout",
       "text": [
        "\n",
        "218"
       ]
      },
      {
       "output_type": "stream",
       "stream": "stdout",
       "text": [
        "\n",
        "219"
       ]
      },
      {
       "output_type": "stream",
       "stream": "stdout",
       "text": [
        "\n",
        "220"
       ]
      },
      {
       "output_type": "stream",
       "stream": "stdout",
       "text": [
        "\n",
        "221"
       ]
      },
      {
       "output_type": "stream",
       "stream": "stdout",
       "text": [
        "\n",
        "222"
       ]
      },
      {
       "output_type": "stream",
       "stream": "stdout",
       "text": [
        "\n",
        "223"
       ]
      },
      {
       "output_type": "stream",
       "stream": "stdout",
       "text": [
        "\n",
        "224"
       ]
      },
      {
       "output_type": "stream",
       "stream": "stdout",
       "text": [
        "\n",
        "225"
       ]
      },
      {
       "output_type": "stream",
       "stream": "stdout",
       "text": [
        "\n",
        "226"
       ]
      },
      {
       "output_type": "stream",
       "stream": "stdout",
       "text": [
        "\n",
        "227"
       ]
      },
      {
       "output_type": "stream",
       "stream": "stdout",
       "text": [
        "\n",
        "228"
       ]
      },
      {
       "output_type": "stream",
       "stream": "stdout",
       "text": [
        "\n",
        "229"
       ]
      },
      {
       "output_type": "stream",
       "stream": "stdout",
       "text": [
        "\n",
        "230"
       ]
      },
      {
       "output_type": "stream",
       "stream": "stdout",
       "text": [
        "\n",
        "231"
       ]
      },
      {
       "output_type": "stream",
       "stream": "stdout",
       "text": [
        "\n",
        "232"
       ]
      },
      {
       "output_type": "stream",
       "stream": "stdout",
       "text": [
        "\n",
        "233"
       ]
      },
      {
       "output_type": "stream",
       "stream": "stdout",
       "text": [
        "\n",
        "234"
       ]
      },
      {
       "output_type": "stream",
       "stream": "stdout",
       "text": [
        "\n",
        "235"
       ]
      },
      {
       "output_type": "stream",
       "stream": "stdout",
       "text": [
        "\n",
        "236"
       ]
      },
      {
       "output_type": "stream",
       "stream": "stdout",
       "text": [
        "\n",
        "237"
       ]
      },
      {
       "output_type": "stream",
       "stream": "stdout",
       "text": [
        "\n",
        "238"
       ]
      },
      {
       "output_type": "stream",
       "stream": "stdout",
       "text": [
        "\n",
        "239"
       ]
      },
      {
       "output_type": "stream",
       "stream": "stdout",
       "text": [
        "\n",
        "240"
       ]
      },
      {
       "output_type": "stream",
       "stream": "stdout",
       "text": [
        "\n",
        "241"
       ]
      },
      {
       "output_type": "stream",
       "stream": "stdout",
       "text": [
        "\n",
        "242"
       ]
      },
      {
       "output_type": "stream",
       "stream": "stdout",
       "text": [
        "\n",
        "243"
       ]
      },
      {
       "output_type": "stream",
       "stream": "stdout",
       "text": [
        "\n",
        "244"
       ]
      },
      {
       "output_type": "stream",
       "stream": "stdout",
       "text": [
        "\n",
        "245"
       ]
      },
      {
       "output_type": "stream",
       "stream": "stdout",
       "text": [
        "\n",
        "246"
       ]
      },
      {
       "output_type": "stream",
       "stream": "stdout",
       "text": [
        "\n",
        "247"
       ]
      },
      {
       "output_type": "stream",
       "stream": "stdout",
       "text": [
        "\n",
        "248"
       ]
      },
      {
       "output_type": "stream",
       "stream": "stdout",
       "text": [
        "\n",
        "249"
       ]
      },
      {
       "output_type": "stream",
       "stream": "stdout",
       "text": [
        "\n",
        "250"
       ]
      },
      {
       "output_type": "stream",
       "stream": "stdout",
       "text": [
        "\n",
        "251"
       ]
      },
      {
       "output_type": "stream",
       "stream": "stdout",
       "text": [
        "\n",
        "252"
       ]
      },
      {
       "output_type": "stream",
       "stream": "stdout",
       "text": [
        "\n",
        "253"
       ]
      },
      {
       "output_type": "stream",
       "stream": "stdout",
       "text": [
        "\n",
        "254"
       ]
      },
      {
       "output_type": "stream",
       "stream": "stdout",
       "text": [
        "\n",
        "255"
       ]
      },
      {
       "output_type": "stream",
       "stream": "stdout",
       "text": [
        "\n",
        "256"
       ]
      },
      {
       "output_type": "stream",
       "stream": "stdout",
       "text": [
        "\n",
        "257"
       ]
      },
      {
       "output_type": "stream",
       "stream": "stdout",
       "text": [
        "\n",
        "258"
       ]
      },
      {
       "output_type": "stream",
       "stream": "stdout",
       "text": [
        "\n",
        "259"
       ]
      },
      {
       "output_type": "stream",
       "stream": "stdout",
       "text": [
        "\n",
        "260"
       ]
      },
      {
       "output_type": "stream",
       "stream": "stdout",
       "text": [
        "\n",
        "261"
       ]
      },
      {
       "output_type": "stream",
       "stream": "stdout",
       "text": [
        "\n",
        "262"
       ]
      },
      {
       "output_type": "stream",
       "stream": "stdout",
       "text": [
        "\n",
        "263"
       ]
      },
      {
       "output_type": "stream",
       "stream": "stdout",
       "text": [
        "\n",
        "264"
       ]
      },
      {
       "output_type": "stream",
       "stream": "stdout",
       "text": [
        "\n",
        "265"
       ]
      },
      {
       "output_type": "stream",
       "stream": "stdout",
       "text": [
        "\n",
        "266"
       ]
      },
      {
       "output_type": "stream",
       "stream": "stdout",
       "text": [
        "\n",
        "267"
       ]
      },
      {
       "output_type": "stream",
       "stream": "stdout",
       "text": [
        "\n",
        "268"
       ]
      },
      {
       "output_type": "stream",
       "stream": "stdout",
       "text": [
        "\n",
        "269"
       ]
      },
      {
       "output_type": "stream",
       "stream": "stdout",
       "text": [
        "\n",
        "270"
       ]
      },
      {
       "output_type": "stream",
       "stream": "stdout",
       "text": [
        "\n",
        "271"
       ]
      },
      {
       "output_type": "stream",
       "stream": "stdout",
       "text": [
        "\n",
        "272"
       ]
      },
      {
       "output_type": "stream",
       "stream": "stdout",
       "text": [
        "\n",
        "273"
       ]
      },
      {
       "output_type": "stream",
       "stream": "stdout",
       "text": [
        "\n",
        "274"
       ]
      },
      {
       "output_type": "stream",
       "stream": "stdout",
       "text": [
        "\n",
        "275"
       ]
      },
      {
       "output_type": "stream",
       "stream": "stdout",
       "text": [
        "\n",
        "276"
       ]
      },
      {
       "output_type": "stream",
       "stream": "stdout",
       "text": [
        "\n",
        "277"
       ]
      },
      {
       "output_type": "stream",
       "stream": "stdout",
       "text": [
        "\n",
        "278"
       ]
      },
      {
       "output_type": "stream",
       "stream": "stdout",
       "text": [
        "\n",
        "279"
       ]
      },
      {
       "output_type": "stream",
       "stream": "stdout",
       "text": [
        "\n",
        "280"
       ]
      },
      {
       "output_type": "stream",
       "stream": "stdout",
       "text": [
        "\n",
        "281"
       ]
      },
      {
       "output_type": "stream",
       "stream": "stdout",
       "text": [
        "\n",
        "282"
       ]
      },
      {
       "output_type": "stream",
       "stream": "stdout",
       "text": [
        "\n",
        "283"
       ]
      },
      {
       "output_type": "stream",
       "stream": "stdout",
       "text": [
        "\n",
        "284"
       ]
      },
      {
       "output_type": "stream",
       "stream": "stdout",
       "text": [
        "\n",
        "285"
       ]
      },
      {
       "output_type": "stream",
       "stream": "stdout",
       "text": [
        "\n",
        "286"
       ]
      },
      {
       "output_type": "stream",
       "stream": "stdout",
       "text": [
        "\n",
        "287"
       ]
      },
      {
       "output_type": "stream",
       "stream": "stdout",
       "text": [
        "\n",
        "288"
       ]
      },
      {
       "output_type": "stream",
       "stream": "stdout",
       "text": [
        "\n",
        "289"
       ]
      },
      {
       "output_type": "stream",
       "stream": "stdout",
       "text": [
        "\n",
        "290"
       ]
      },
      {
       "output_type": "stream",
       "stream": "stdout",
       "text": [
        "\n",
        "291"
       ]
      },
      {
       "output_type": "stream",
       "stream": "stdout",
       "text": [
        "\n",
        "292"
       ]
      },
      {
       "output_type": "stream",
       "stream": "stdout",
       "text": [
        "\n",
        "293"
       ]
      },
      {
       "output_type": "stream",
       "stream": "stdout",
       "text": [
        "\n",
        "294"
       ]
      },
      {
       "output_type": "stream",
       "stream": "stdout",
       "text": [
        "\n",
        "295"
       ]
      },
      {
       "output_type": "stream",
       "stream": "stdout",
       "text": [
        "\n",
        "296"
       ]
      },
      {
       "output_type": "stream",
       "stream": "stdout",
       "text": [
        "\n",
        "297"
       ]
      },
      {
       "output_type": "stream",
       "stream": "stdout",
       "text": [
        "\n",
        "298"
       ]
      },
      {
       "output_type": "stream",
       "stream": "stdout",
       "text": [
        "\n",
        "299"
       ]
      },
      {
       "output_type": "stream",
       "stream": "stdout",
       "text": [
        "\n",
        "300"
       ]
      },
      {
       "output_type": "stream",
       "stream": "stdout",
       "text": [
        "\n",
        "301"
       ]
      },
      {
       "output_type": "stream",
       "stream": "stdout",
       "text": [
        "\n",
        "302"
       ]
      },
      {
       "output_type": "stream",
       "stream": "stdout",
       "text": [
        "\n",
        "303"
       ]
      },
      {
       "output_type": "stream",
       "stream": "stdout",
       "text": [
        "\n",
        "304"
       ]
      },
      {
       "output_type": "stream",
       "stream": "stdout",
       "text": [
        "\n",
        "305"
       ]
      },
      {
       "output_type": "stream",
       "stream": "stdout",
       "text": [
        "\n",
        "306"
       ]
      },
      {
       "output_type": "stream",
       "stream": "stdout",
       "text": [
        "\n",
        "307"
       ]
      },
      {
       "output_type": "stream",
       "stream": "stdout",
       "text": [
        "\n",
        "308"
       ]
      },
      {
       "output_type": "stream",
       "stream": "stdout",
       "text": [
        "\n",
        "309"
       ]
      },
      {
       "output_type": "stream",
       "stream": "stdout",
       "text": [
        "\n",
        "310"
       ]
      },
      {
       "output_type": "stream",
       "stream": "stdout",
       "text": [
        "\n",
        "311"
       ]
      },
      {
       "output_type": "stream",
       "stream": "stdout",
       "text": [
        "\n",
        "312"
       ]
      },
      {
       "output_type": "stream",
       "stream": "stdout",
       "text": [
        "\n",
        "313"
       ]
      },
      {
       "output_type": "stream",
       "stream": "stdout",
       "text": [
        "\n",
        "314"
       ]
      },
      {
       "output_type": "stream",
       "stream": "stdout",
       "text": [
        "\n",
        "315"
       ]
      },
      {
       "output_type": "stream",
       "stream": "stdout",
       "text": [
        "\n",
        "316"
       ]
      },
      {
       "output_type": "stream",
       "stream": "stdout",
       "text": [
        "\n",
        "317"
       ]
      },
      {
       "output_type": "stream",
       "stream": "stdout",
       "text": [
        "\n",
        "318"
       ]
      },
      {
       "output_type": "stream",
       "stream": "stdout",
       "text": [
        "\n",
        "319"
       ]
      },
      {
       "output_type": "stream",
       "stream": "stdout",
       "text": [
        "\n",
        "320"
       ]
      },
      {
       "output_type": "stream",
       "stream": "stdout",
       "text": [
        "\n",
        "321"
       ]
      },
      {
       "output_type": "stream",
       "stream": "stdout",
       "text": [
        "\n",
        "322"
       ]
      },
      {
       "output_type": "stream",
       "stream": "stdout",
       "text": [
        "\n",
        "323"
       ]
      },
      {
       "output_type": "stream",
       "stream": "stdout",
       "text": [
        "\n",
        "324"
       ]
      },
      {
       "output_type": "stream",
       "stream": "stdout",
       "text": [
        "\n",
        "325"
       ]
      },
      {
       "output_type": "stream",
       "stream": "stdout",
       "text": [
        "\n",
        "326"
       ]
      },
      {
       "output_type": "stream",
       "stream": "stdout",
       "text": [
        "\n",
        "327"
       ]
      },
      {
       "output_type": "stream",
       "stream": "stdout",
       "text": [
        "\n",
        "328"
       ]
      },
      {
       "output_type": "stream",
       "stream": "stdout",
       "text": [
        "\n",
        "329"
       ]
      },
      {
       "output_type": "stream",
       "stream": "stdout",
       "text": [
        "\n",
        "330"
       ]
      },
      {
       "output_type": "stream",
       "stream": "stdout",
       "text": [
        "\n",
        "331"
       ]
      },
      {
       "output_type": "stream",
       "stream": "stdout",
       "text": [
        "\n",
        "332"
       ]
      },
      {
       "output_type": "stream",
       "stream": "stdout",
       "text": [
        "\n",
        "333"
       ]
      },
      {
       "output_type": "stream",
       "stream": "stdout",
       "text": [
        "\n",
        "334"
       ]
      },
      {
       "output_type": "stream",
       "stream": "stdout",
       "text": [
        "\n",
        "335"
       ]
      },
      {
       "output_type": "stream",
       "stream": "stdout",
       "text": [
        "\n",
        "336"
       ]
      },
      {
       "output_type": "stream",
       "stream": "stdout",
       "text": [
        "\n",
        "337"
       ]
      },
      {
       "output_type": "stream",
       "stream": "stdout",
       "text": [
        "\n",
        "338"
       ]
      },
      {
       "output_type": "stream",
       "stream": "stdout",
       "text": [
        "\n",
        "339"
       ]
      },
      {
       "output_type": "stream",
       "stream": "stdout",
       "text": [
        "\n",
        "340"
       ]
      },
      {
       "output_type": "stream",
       "stream": "stdout",
       "text": [
        "\n",
        "341"
       ]
      },
      {
       "output_type": "stream",
       "stream": "stdout",
       "text": [
        "\n",
        "342"
       ]
      },
      {
       "output_type": "stream",
       "stream": "stdout",
       "text": [
        "\n",
        "343"
       ]
      },
      {
       "output_type": "stream",
       "stream": "stdout",
       "text": [
        "\n",
        "344"
       ]
      },
      {
       "output_type": "stream",
       "stream": "stdout",
       "text": [
        "\n",
        "345"
       ]
      },
      {
       "output_type": "stream",
       "stream": "stdout",
       "text": [
        "\n",
        "346"
       ]
      },
      {
       "output_type": "stream",
       "stream": "stdout",
       "text": [
        "\n",
        "347"
       ]
      },
      {
       "output_type": "stream",
       "stream": "stdout",
       "text": [
        "\n",
        "348"
       ]
      },
      {
       "output_type": "stream",
       "stream": "stdout",
       "text": [
        "\n",
        "349"
       ]
      },
      {
       "output_type": "stream",
       "stream": "stdout",
       "text": [
        "\n",
        "350"
       ]
      },
      {
       "output_type": "stream",
       "stream": "stdout",
       "text": [
        "\n",
        "351"
       ]
      },
      {
       "output_type": "stream",
       "stream": "stdout",
       "text": [
        "\n",
        "352"
       ]
      },
      {
       "output_type": "stream",
       "stream": "stdout",
       "text": [
        "\n",
        "353"
       ]
      },
      {
       "output_type": "stream",
       "stream": "stdout",
       "text": [
        "\n",
        "354"
       ]
      },
      {
       "output_type": "stream",
       "stream": "stdout",
       "text": [
        "\n",
        "355"
       ]
      },
      {
       "output_type": "stream",
       "stream": "stdout",
       "text": [
        "\n",
        "356"
       ]
      },
      {
       "output_type": "stream",
       "stream": "stdout",
       "text": [
        "\n",
        "357"
       ]
      },
      {
       "output_type": "stream",
       "stream": "stdout",
       "text": [
        "\n",
        "358"
       ]
      },
      {
       "output_type": "stream",
       "stream": "stdout",
       "text": [
        "\n",
        "359"
       ]
      },
      {
       "output_type": "stream",
       "stream": "stdout",
       "text": [
        "\n",
        "360"
       ]
      },
      {
       "output_type": "stream",
       "stream": "stdout",
       "text": [
        "\n",
        "361"
       ]
      },
      {
       "output_type": "stream",
       "stream": "stdout",
       "text": [
        "\n",
        "362"
       ]
      },
      {
       "output_type": "stream",
       "stream": "stdout",
       "text": [
        "\n",
        "363"
       ]
      },
      {
       "output_type": "stream",
       "stream": "stdout",
       "text": [
        "\n",
        "364"
       ]
      },
      {
       "output_type": "stream",
       "stream": "stdout",
       "text": [
        "\n",
        "365"
       ]
      },
      {
       "output_type": "stream",
       "stream": "stdout",
       "text": [
        "\n",
        "366"
       ]
      },
      {
       "output_type": "stream",
       "stream": "stdout",
       "text": [
        "\n",
        "367"
       ]
      },
      {
       "output_type": "stream",
       "stream": "stdout",
       "text": [
        "\n",
        "368"
       ]
      },
      {
       "output_type": "stream",
       "stream": "stdout",
       "text": [
        "\n",
        "369"
       ]
      },
      {
       "output_type": "stream",
       "stream": "stdout",
       "text": [
        "\n",
        "370"
       ]
      },
      {
       "output_type": "stream",
       "stream": "stdout",
       "text": [
        "\n",
        "371"
       ]
      },
      {
       "output_type": "stream",
       "stream": "stdout",
       "text": [
        "\n",
        "372"
       ]
      },
      {
       "output_type": "stream",
       "stream": "stdout",
       "text": [
        "\n",
        "373"
       ]
      },
      {
       "output_type": "stream",
       "stream": "stdout",
       "text": [
        "\n",
        "374"
       ]
      },
      {
       "output_type": "stream",
       "stream": "stdout",
       "text": [
        "\n",
        "375"
       ]
      },
      {
       "output_type": "stream",
       "stream": "stdout",
       "text": [
        "\n",
        "376"
       ]
      },
      {
       "output_type": "stream",
       "stream": "stdout",
       "text": [
        "\n",
        "377"
       ]
      },
      {
       "output_type": "stream",
       "stream": "stdout",
       "text": [
        "\n",
        "378"
       ]
      },
      {
       "output_type": "stream",
       "stream": "stdout",
       "text": [
        "\n",
        "379"
       ]
      },
      {
       "output_type": "stream",
       "stream": "stdout",
       "text": [
        "\n",
        "380"
       ]
      },
      {
       "output_type": "stream",
       "stream": "stdout",
       "text": [
        "\n",
        "381"
       ]
      },
      {
       "output_type": "stream",
       "stream": "stdout",
       "text": [
        "\n",
        "382"
       ]
      },
      {
       "output_type": "stream",
       "stream": "stdout",
       "text": [
        "\n",
        "383"
       ]
      },
      {
       "output_type": "stream",
       "stream": "stdout",
       "text": [
        "\n",
        "384"
       ]
      },
      {
       "output_type": "stream",
       "stream": "stdout",
       "text": [
        "\n",
        "385"
       ]
      },
      {
       "output_type": "stream",
       "stream": "stdout",
       "text": [
        "\n",
        "386"
       ]
      },
      {
       "output_type": "stream",
       "stream": "stdout",
       "text": [
        "\n",
        "387"
       ]
      },
      {
       "output_type": "stream",
       "stream": "stdout",
       "text": [
        "\n",
        "388"
       ]
      },
      {
       "output_type": "stream",
       "stream": "stdout",
       "text": [
        "\n",
        "389"
       ]
      },
      {
       "output_type": "stream",
       "stream": "stdout",
       "text": [
        "\n",
        "390"
       ]
      },
      {
       "output_type": "stream",
       "stream": "stdout",
       "text": [
        "\n",
        "391"
       ]
      },
      {
       "output_type": "stream",
       "stream": "stdout",
       "text": [
        "\n",
        "392"
       ]
      },
      {
       "output_type": "stream",
       "stream": "stdout",
       "text": [
        "\n",
        "393"
       ]
      },
      {
       "output_type": "stream",
       "stream": "stdout",
       "text": [
        "\n",
        "394"
       ]
      },
      {
       "output_type": "stream",
       "stream": "stdout",
       "text": [
        "\n",
        "395"
       ]
      },
      {
       "output_type": "stream",
       "stream": "stdout",
       "text": [
        "\n",
        "396"
       ]
      },
      {
       "output_type": "stream",
       "stream": "stdout",
       "text": [
        "\n",
        "397"
       ]
      },
      {
       "output_type": "stream",
       "stream": "stdout",
       "text": [
        "\n",
        "398"
       ]
      },
      {
       "output_type": "stream",
       "stream": "stdout",
       "text": [
        "\n",
        "399"
       ]
      },
      {
       "output_type": "stream",
       "stream": "stdout",
       "text": [
        "\n",
        "400"
       ]
      },
      {
       "output_type": "stream",
       "stream": "stdout",
       "text": [
        "\n",
        "401"
       ]
      },
      {
       "output_type": "stream",
       "stream": "stdout",
       "text": [
        "\n",
        "402"
       ]
      },
      {
       "output_type": "stream",
       "stream": "stdout",
       "text": [
        "\n",
        "403"
       ]
      },
      {
       "output_type": "stream",
       "stream": "stdout",
       "text": [
        "\n",
        "404"
       ]
      },
      {
       "output_type": "stream",
       "stream": "stdout",
       "text": [
        "\n",
        "405"
       ]
      },
      {
       "output_type": "stream",
       "stream": "stdout",
       "text": [
        "\n",
        "406"
       ]
      },
      {
       "output_type": "stream",
       "stream": "stdout",
       "text": [
        "\n",
        "407"
       ]
      },
      {
       "output_type": "stream",
       "stream": "stdout",
       "text": [
        "\n",
        "408"
       ]
      },
      {
       "output_type": "stream",
       "stream": "stdout",
       "text": [
        "\n",
        "409"
       ]
      },
      {
       "output_type": "stream",
       "stream": "stdout",
       "text": [
        "\n",
        "410"
       ]
      },
      {
       "output_type": "stream",
       "stream": "stdout",
       "text": [
        "\n",
        "411"
       ]
      },
      {
       "output_type": "stream",
       "stream": "stdout",
       "text": [
        "\n",
        "412"
       ]
      },
      {
       "output_type": "stream",
       "stream": "stdout",
       "text": [
        "\n",
        "413"
       ]
      },
      {
       "output_type": "stream",
       "stream": "stdout",
       "text": [
        "\n",
        "414"
       ]
      },
      {
       "output_type": "stream",
       "stream": "stdout",
       "text": [
        "\n",
        "415"
       ]
      },
      {
       "output_type": "stream",
       "stream": "stdout",
       "text": [
        "\n",
        "416"
       ]
      },
      {
       "output_type": "stream",
       "stream": "stdout",
       "text": [
        "\n",
        "417"
       ]
      },
      {
       "output_type": "stream",
       "stream": "stdout",
       "text": [
        "\n",
        "418"
       ]
      },
      {
       "output_type": "stream",
       "stream": "stdout",
       "text": [
        "\n",
        "419"
       ]
      },
      {
       "output_type": "stream",
       "stream": "stdout",
       "text": [
        "\n",
        "420"
       ]
      },
      {
       "output_type": "stream",
       "stream": "stdout",
       "text": [
        "\n",
        "421"
       ]
      },
      {
       "output_type": "stream",
       "stream": "stdout",
       "text": [
        "\n",
        "422"
       ]
      },
      {
       "output_type": "stream",
       "stream": "stdout",
       "text": [
        "\n",
        "423"
       ]
      },
      {
       "output_type": "stream",
       "stream": "stdout",
       "text": [
        "\n",
        "424"
       ]
      },
      {
       "output_type": "stream",
       "stream": "stdout",
       "text": [
        "\n",
        "425"
       ]
      },
      {
       "output_type": "stream",
       "stream": "stdout",
       "text": [
        "\n",
        "426"
       ]
      },
      {
       "output_type": "stream",
       "stream": "stdout",
       "text": [
        "\n",
        "427"
       ]
      },
      {
       "output_type": "stream",
       "stream": "stdout",
       "text": [
        "\n",
        "428"
       ]
      },
      {
       "output_type": "stream",
       "stream": "stdout",
       "text": [
        "\n",
        "429"
       ]
      },
      {
       "output_type": "stream",
       "stream": "stdout",
       "text": [
        "\n",
        "430"
       ]
      },
      {
       "output_type": "stream",
       "stream": "stdout",
       "text": [
        "\n",
        "431"
       ]
      },
      {
       "output_type": "stream",
       "stream": "stdout",
       "text": [
        "\n",
        "432"
       ]
      },
      {
       "output_type": "stream",
       "stream": "stdout",
       "text": [
        "\n",
        "433"
       ]
      },
      {
       "output_type": "stream",
       "stream": "stdout",
       "text": [
        "\n",
        "434"
       ]
      },
      {
       "output_type": "stream",
       "stream": "stdout",
       "text": [
        "\n",
        "435"
       ]
      },
      {
       "output_type": "stream",
       "stream": "stdout",
       "text": [
        "\n",
        "436"
       ]
      },
      {
       "output_type": "stream",
       "stream": "stdout",
       "text": [
        "\n",
        "437"
       ]
      },
      {
       "output_type": "stream",
       "stream": "stdout",
       "text": [
        "\n",
        "438"
       ]
      },
      {
       "output_type": "stream",
       "stream": "stdout",
       "text": [
        "\n",
        "439"
       ]
      },
      {
       "output_type": "stream",
       "stream": "stdout",
       "text": [
        "\n",
        "440"
       ]
      },
      {
       "output_type": "stream",
       "stream": "stdout",
       "text": [
        "\n",
        "441"
       ]
      },
      {
       "output_type": "stream",
       "stream": "stdout",
       "text": [
        "\n",
        "442"
       ]
      },
      {
       "output_type": "stream",
       "stream": "stdout",
       "text": [
        "\n",
        "443"
       ]
      },
      {
       "output_type": "stream",
       "stream": "stdout",
       "text": [
        "\n",
        "444"
       ]
      },
      {
       "output_type": "stream",
       "stream": "stdout",
       "text": [
        "\n",
        "445"
       ]
      },
      {
       "output_type": "stream",
       "stream": "stdout",
       "text": [
        "\n",
        "446"
       ]
      },
      {
       "output_type": "stream",
       "stream": "stdout",
       "text": [
        "\n",
        "447"
       ]
      },
      {
       "output_type": "stream",
       "stream": "stdout",
       "text": [
        "\n",
        "448"
       ]
      },
      {
       "output_type": "stream",
       "stream": "stdout",
       "text": [
        "\n",
        "449"
       ]
      },
      {
       "output_type": "stream",
       "stream": "stdout",
       "text": [
        "\n",
        "450"
       ]
      },
      {
       "output_type": "stream",
       "stream": "stdout",
       "text": [
        "\n",
        "451"
       ]
      },
      {
       "output_type": "stream",
       "stream": "stdout",
       "text": [
        "\n",
        "452"
       ]
      },
      {
       "output_type": "stream",
       "stream": "stdout",
       "text": [
        "\n",
        "453"
       ]
      },
      {
       "output_type": "stream",
       "stream": "stdout",
       "text": [
        "\n",
        "454"
       ]
      },
      {
       "output_type": "stream",
       "stream": "stdout",
       "text": [
        "\n",
        "455"
       ]
      },
      {
       "output_type": "stream",
       "stream": "stdout",
       "text": [
        "\n",
        "456"
       ]
      },
      {
       "output_type": "stream",
       "stream": "stdout",
       "text": [
        "\n",
        "457"
       ]
      },
      {
       "output_type": "stream",
       "stream": "stdout",
       "text": [
        "\n",
        "458"
       ]
      },
      {
       "output_type": "stream",
       "stream": "stdout",
       "text": [
        "\n",
        "459"
       ]
      },
      {
       "output_type": "stream",
       "stream": "stdout",
       "text": [
        "\n",
        "460"
       ]
      },
      {
       "output_type": "stream",
       "stream": "stdout",
       "text": [
        "\n",
        "461"
       ]
      },
      {
       "output_type": "stream",
       "stream": "stdout",
       "text": [
        "\n",
        "462"
       ]
      },
      {
       "output_type": "stream",
       "stream": "stdout",
       "text": [
        "\n",
        "463"
       ]
      },
      {
       "output_type": "stream",
       "stream": "stdout",
       "text": [
        "\n",
        "464"
       ]
      },
      {
       "output_type": "stream",
       "stream": "stdout",
       "text": [
        "\n",
        "465"
       ]
      },
      {
       "output_type": "stream",
       "stream": "stdout",
       "text": [
        "\n",
        "466"
       ]
      },
      {
       "output_type": "stream",
       "stream": "stdout",
       "text": [
        "\n",
        "467"
       ]
      },
      {
       "output_type": "stream",
       "stream": "stdout",
       "text": [
        "\n",
        "468"
       ]
      },
      {
       "output_type": "stream",
       "stream": "stdout",
       "text": [
        "\n",
        "469"
       ]
      },
      {
       "output_type": "stream",
       "stream": "stdout",
       "text": [
        "\n",
        "470"
       ]
      },
      {
       "output_type": "stream",
       "stream": "stdout",
       "text": [
        "\n",
        "471"
       ]
      },
      {
       "output_type": "stream",
       "stream": "stdout",
       "text": [
        "\n",
        "472"
       ]
      },
      {
       "output_type": "stream",
       "stream": "stdout",
       "text": [
        "\n",
        "473"
       ]
      },
      {
       "output_type": "stream",
       "stream": "stdout",
       "text": [
        "\n",
        "474"
       ]
      },
      {
       "output_type": "stream",
       "stream": "stdout",
       "text": [
        "\n",
        "475"
       ]
      },
      {
       "output_type": "stream",
       "stream": "stdout",
       "text": [
        "\n",
        "476"
       ]
      },
      {
       "output_type": "stream",
       "stream": "stdout",
       "text": [
        "\n",
        "477"
       ]
      },
      {
       "output_type": "stream",
       "stream": "stdout",
       "text": [
        "\n",
        "478"
       ]
      },
      {
       "output_type": "stream",
       "stream": "stdout",
       "text": [
        "\n",
        "479"
       ]
      },
      {
       "output_type": "stream",
       "stream": "stdout",
       "text": [
        "\n",
        "480"
       ]
      },
      {
       "output_type": "stream",
       "stream": "stdout",
       "text": [
        "\n",
        "481"
       ]
      },
      {
       "output_type": "stream",
       "stream": "stdout",
       "text": [
        "\n",
        "482"
       ]
      },
      {
       "output_type": "stream",
       "stream": "stdout",
       "text": [
        "\n",
        "483"
       ]
      },
      {
       "output_type": "stream",
       "stream": "stdout",
       "text": [
        "\n",
        "484"
       ]
      },
      {
       "output_type": "stream",
       "stream": "stdout",
       "text": [
        "\n",
        "485"
       ]
      },
      {
       "output_type": "stream",
       "stream": "stdout",
       "text": [
        "\n",
        "486"
       ]
      },
      {
       "output_type": "stream",
       "stream": "stdout",
       "text": [
        "\n",
        "487"
       ]
      },
      {
       "output_type": "stream",
       "stream": "stdout",
       "text": [
        "\n",
        "488"
       ]
      },
      {
       "output_type": "stream",
       "stream": "stdout",
       "text": [
        "\n",
        "489"
       ]
      },
      {
       "output_type": "stream",
       "stream": "stdout",
       "text": [
        "\n",
        "490"
       ]
      },
      {
       "output_type": "stream",
       "stream": "stdout",
       "text": [
        "\n",
        "491"
       ]
      },
      {
       "output_type": "stream",
       "stream": "stdout",
       "text": [
        "\n",
        "492"
       ]
      },
      {
       "output_type": "stream",
       "stream": "stdout",
       "text": [
        "\n",
        "493"
       ]
      },
      {
       "output_type": "stream",
       "stream": "stdout",
       "text": [
        "\n",
        "494"
       ]
      },
      {
       "output_type": "stream",
       "stream": "stdout",
       "text": [
        "\n",
        "495"
       ]
      },
      {
       "output_type": "stream",
       "stream": "stdout",
       "text": [
        "\n",
        "496"
       ]
      },
      {
       "output_type": "stream",
       "stream": "stdout",
       "text": [
        "\n",
        "497"
       ]
      },
      {
       "output_type": "stream",
       "stream": "stdout",
       "text": [
        "\n",
        "498"
       ]
      },
      {
       "output_type": "stream",
       "stream": "stdout",
       "text": [
        "\n",
        "499"
       ]
      },
      {
       "output_type": "stream",
       "stream": "stdout",
       "text": [
        "\n",
        "500"
       ]
      },
      {
       "output_type": "stream",
       "stream": "stdout",
       "text": [
        "\n",
        "501"
       ]
      },
      {
       "output_type": "stream",
       "stream": "stdout",
       "text": [
        "\n",
        "502"
       ]
      },
      {
       "output_type": "stream",
       "stream": "stdout",
       "text": [
        "\n",
        "503"
       ]
      },
      {
       "output_type": "stream",
       "stream": "stdout",
       "text": [
        "\n",
        "504"
       ]
      },
      {
       "output_type": "stream",
       "stream": "stdout",
       "text": [
        "\n",
        "505"
       ]
      },
      {
       "output_type": "stream",
       "stream": "stdout",
       "text": [
        "\n",
        "506"
       ]
      },
      {
       "output_type": "stream",
       "stream": "stdout",
       "text": [
        "\n",
        "507"
       ]
      },
      {
       "output_type": "stream",
       "stream": "stdout",
       "text": [
        "\n",
        "508"
       ]
      },
      {
       "output_type": "stream",
       "stream": "stdout",
       "text": [
        "\n",
        "509"
       ]
      },
      {
       "output_type": "stream",
       "stream": "stdout",
       "text": [
        "\n",
        "510"
       ]
      },
      {
       "output_type": "stream",
       "stream": "stdout",
       "text": [
        "\n",
        "511"
       ]
      },
      {
       "output_type": "stream",
       "stream": "stdout",
       "text": [
        "\n",
        "512"
       ]
      },
      {
       "output_type": "stream",
       "stream": "stdout",
       "text": [
        "\n",
        "513"
       ]
      },
      {
       "output_type": "stream",
       "stream": "stdout",
       "text": [
        "\n",
        "514"
       ]
      },
      {
       "output_type": "stream",
       "stream": "stdout",
       "text": [
        "\n",
        "515"
       ]
      },
      {
       "output_type": "stream",
       "stream": "stdout",
       "text": [
        "\n",
        "516"
       ]
      },
      {
       "output_type": "stream",
       "stream": "stdout",
       "text": [
        "\n",
        "517"
       ]
      },
      {
       "output_type": "stream",
       "stream": "stdout",
       "text": [
        "\n",
        "518"
       ]
      },
      {
       "output_type": "stream",
       "stream": "stdout",
       "text": [
        "\n",
        "519"
       ]
      },
      {
       "output_type": "stream",
       "stream": "stdout",
       "text": [
        "\n",
        "520"
       ]
      },
      {
       "output_type": "stream",
       "stream": "stdout",
       "text": [
        "\n",
        "521"
       ]
      },
      {
       "output_type": "stream",
       "stream": "stdout",
       "text": [
        "\n",
        "522"
       ]
      },
      {
       "output_type": "stream",
       "stream": "stdout",
       "text": [
        "\n",
        "523"
       ]
      },
      {
       "output_type": "stream",
       "stream": "stdout",
       "text": [
        "\n",
        "524"
       ]
      },
      {
       "output_type": "stream",
       "stream": "stdout",
       "text": [
        "\n",
        "525"
       ]
      },
      {
       "output_type": "stream",
       "stream": "stdout",
       "text": [
        "\n",
        "526"
       ]
      },
      {
       "output_type": "stream",
       "stream": "stdout",
       "text": [
        "\n",
        "527"
       ]
      },
      {
       "output_type": "stream",
       "stream": "stdout",
       "text": [
        "\n",
        "528"
       ]
      },
      {
       "output_type": "stream",
       "stream": "stdout",
       "text": [
        "\n",
        "529"
       ]
      },
      {
       "output_type": "stream",
       "stream": "stdout",
       "text": [
        "\n",
        "530"
       ]
      },
      {
       "output_type": "stream",
       "stream": "stdout",
       "text": [
        "\n",
        "531"
       ]
      },
      {
       "output_type": "stream",
       "stream": "stdout",
       "text": [
        "\n",
        "532"
       ]
      },
      {
       "output_type": "stream",
       "stream": "stdout",
       "text": [
        "\n",
        "533"
       ]
      },
      {
       "output_type": "stream",
       "stream": "stdout",
       "text": [
        "\n",
        "534"
       ]
      },
      {
       "output_type": "stream",
       "stream": "stdout",
       "text": [
        "\n",
        "535"
       ]
      },
      {
       "output_type": "stream",
       "stream": "stdout",
       "text": [
        "\n",
        "536"
       ]
      },
      {
       "output_type": "stream",
       "stream": "stdout",
       "text": [
        "\n",
        "537"
       ]
      },
      {
       "output_type": "stream",
       "stream": "stdout",
       "text": [
        "\n",
        "538"
       ]
      },
      {
       "output_type": "stream",
       "stream": "stdout",
       "text": [
        "\n",
        "539"
       ]
      },
      {
       "output_type": "stream",
       "stream": "stdout",
       "text": [
        "\n",
        "540"
       ]
      },
      {
       "output_type": "stream",
       "stream": "stdout",
       "text": [
        "\n",
        "541"
       ]
      },
      {
       "output_type": "stream",
       "stream": "stdout",
       "text": [
        "\n",
        "542"
       ]
      },
      {
       "output_type": "stream",
       "stream": "stdout",
       "text": [
        "\n",
        "543"
       ]
      },
      {
       "output_type": "stream",
       "stream": "stdout",
       "text": [
        "\n",
        "544"
       ]
      },
      {
       "output_type": "stream",
       "stream": "stdout",
       "text": [
        "\n",
        "545"
       ]
      },
      {
       "output_type": "stream",
       "stream": "stdout",
       "text": [
        "\n",
        "546"
       ]
      },
      {
       "output_type": "stream",
       "stream": "stdout",
       "text": [
        "\n",
        "547"
       ]
      },
      {
       "output_type": "stream",
       "stream": "stdout",
       "text": [
        "\n",
        "548"
       ]
      },
      {
       "output_type": "stream",
       "stream": "stdout",
       "text": [
        "\n",
        "549"
       ]
      },
      {
       "output_type": "stream",
       "stream": "stdout",
       "text": [
        "\n",
        "550"
       ]
      },
      {
       "output_type": "stream",
       "stream": "stdout",
       "text": [
        "\n",
        "551"
       ]
      },
      {
       "output_type": "stream",
       "stream": "stdout",
       "text": [
        "\n",
        "552"
       ]
      },
      {
       "output_type": "stream",
       "stream": "stdout",
       "text": [
        "\n",
        "553"
       ]
      },
      {
       "output_type": "stream",
       "stream": "stdout",
       "text": [
        "\n",
        "554"
       ]
      },
      {
       "output_type": "stream",
       "stream": "stdout",
       "text": [
        "\n",
        "555"
       ]
      },
      {
       "output_type": "stream",
       "stream": "stdout",
       "text": [
        "\n",
        "556"
       ]
      },
      {
       "output_type": "stream",
       "stream": "stdout",
       "text": [
        "\n",
        "557"
       ]
      },
      {
       "output_type": "stream",
       "stream": "stdout",
       "text": [
        "\n",
        "558"
       ]
      },
      {
       "output_type": "stream",
       "stream": "stdout",
       "text": [
        "\n",
        "559"
       ]
      },
      {
       "output_type": "stream",
       "stream": "stdout",
       "text": [
        "\n",
        "560"
       ]
      },
      {
       "output_type": "stream",
       "stream": "stdout",
       "text": [
        "\n",
        "561"
       ]
      },
      {
       "output_type": "stream",
       "stream": "stdout",
       "text": [
        "\n",
        "562"
       ]
      },
      {
       "output_type": "stream",
       "stream": "stdout",
       "text": [
        "\n",
        "563"
       ]
      },
      {
       "output_type": "stream",
       "stream": "stdout",
       "text": [
        "\n",
        "564"
       ]
      },
      {
       "output_type": "stream",
       "stream": "stdout",
       "text": [
        "\n",
        "565"
       ]
      },
      {
       "output_type": "stream",
       "stream": "stdout",
       "text": [
        "\n",
        "566"
       ]
      },
      {
       "output_type": "stream",
       "stream": "stdout",
       "text": [
        "\n",
        "567"
       ]
      },
      {
       "output_type": "stream",
       "stream": "stdout",
       "text": [
        "\n",
        "568"
       ]
      },
      {
       "output_type": "stream",
       "stream": "stdout",
       "text": [
        "\n",
        "569"
       ]
      },
      {
       "output_type": "stream",
       "stream": "stdout",
       "text": [
        "\n",
        "570"
       ]
      },
      {
       "output_type": "stream",
       "stream": "stdout",
       "text": [
        "\n",
        "571"
       ]
      },
      {
       "output_type": "stream",
       "stream": "stdout",
       "text": [
        "\n",
        "572"
       ]
      },
      {
       "output_type": "stream",
       "stream": "stdout",
       "text": [
        "\n",
        "573"
       ]
      },
      {
       "output_type": "stream",
       "stream": "stdout",
       "text": [
        "\n",
        "574"
       ]
      },
      {
       "output_type": "stream",
       "stream": "stdout",
       "text": [
        "\n",
        "575"
       ]
      },
      {
       "output_type": "stream",
       "stream": "stdout",
       "text": [
        "\n",
        "576"
       ]
      },
      {
       "output_type": "stream",
       "stream": "stdout",
       "text": [
        "\n",
        "577"
       ]
      },
      {
       "output_type": "stream",
       "stream": "stdout",
       "text": [
        "\n",
        "578"
       ]
      },
      {
       "output_type": "stream",
       "stream": "stdout",
       "text": [
        "\n",
        "579"
       ]
      },
      {
       "output_type": "stream",
       "stream": "stdout",
       "text": [
        "\n",
        "580"
       ]
      },
      {
       "output_type": "stream",
       "stream": "stdout",
       "text": [
        "\n",
        "581"
       ]
      },
      {
       "output_type": "stream",
       "stream": "stdout",
       "text": [
        "\n",
        "582"
       ]
      },
      {
       "output_type": "stream",
       "stream": "stdout",
       "text": [
        "\n",
        "583"
       ]
      },
      {
       "output_type": "stream",
       "stream": "stdout",
       "text": [
        "\n",
        "584"
       ]
      },
      {
       "output_type": "stream",
       "stream": "stdout",
       "text": [
        "\n",
        "585"
       ]
      },
      {
       "output_type": "stream",
       "stream": "stdout",
       "text": [
        "\n",
        "586"
       ]
      },
      {
       "output_type": "stream",
       "stream": "stdout",
       "text": [
        "\n",
        "587"
       ]
      },
      {
       "output_type": "stream",
       "stream": "stdout",
       "text": [
        "\n",
        "588"
       ]
      },
      {
       "output_type": "stream",
       "stream": "stdout",
       "text": [
        "\n",
        "589"
       ]
      },
      {
       "output_type": "stream",
       "stream": "stdout",
       "text": [
        "\n",
        "590"
       ]
      },
      {
       "output_type": "stream",
       "stream": "stdout",
       "text": [
        "\n",
        "591"
       ]
      },
      {
       "output_type": "stream",
       "stream": "stdout",
       "text": [
        "\n",
        "592"
       ]
      },
      {
       "output_type": "stream",
       "stream": "stdout",
       "text": [
        "\n",
        "593"
       ]
      },
      {
       "output_type": "stream",
       "stream": "stdout",
       "text": [
        "\n",
        "594"
       ]
      },
      {
       "output_type": "stream",
       "stream": "stdout",
       "text": [
        "\n",
        "595"
       ]
      },
      {
       "output_type": "stream",
       "stream": "stdout",
       "text": [
        "\n",
        "596"
       ]
      },
      {
       "output_type": "stream",
       "stream": "stdout",
       "text": [
        "\n",
        "597"
       ]
      },
      {
       "output_type": "stream",
       "stream": "stdout",
       "text": [
        "\n",
        "598"
       ]
      },
      {
       "output_type": "stream",
       "stream": "stdout",
       "text": [
        "\n",
        "599"
       ]
      },
      {
       "output_type": "stream",
       "stream": "stdout",
       "text": [
        "\n",
        "600"
       ]
      },
      {
       "output_type": "stream",
       "stream": "stdout",
       "text": [
        "\n",
        "601"
       ]
      },
      {
       "output_type": "stream",
       "stream": "stdout",
       "text": [
        "\n",
        "602"
       ]
      },
      {
       "output_type": "stream",
       "stream": "stdout",
       "text": [
        "\n",
        "603"
       ]
      },
      {
       "output_type": "stream",
       "stream": "stdout",
       "text": [
        "\n",
        "604"
       ]
      },
      {
       "output_type": "stream",
       "stream": "stdout",
       "text": [
        "\n",
        "605"
       ]
      },
      {
       "output_type": "stream",
       "stream": "stdout",
       "text": [
        "\n",
        "606"
       ]
      },
      {
       "output_type": "stream",
       "stream": "stdout",
       "text": [
        "\n",
        "607"
       ]
      },
      {
       "output_type": "stream",
       "stream": "stdout",
       "text": [
        "\n",
        "608"
       ]
      },
      {
       "output_type": "stream",
       "stream": "stdout",
       "text": [
        "\n",
        "609"
       ]
      },
      {
       "output_type": "stream",
       "stream": "stdout",
       "text": [
        "\n",
        "610"
       ]
      },
      {
       "output_type": "stream",
       "stream": "stdout",
       "text": [
        "\n",
        "611"
       ]
      },
      {
       "output_type": "stream",
       "stream": "stdout",
       "text": [
        "\n",
        "612"
       ]
      },
      {
       "output_type": "stream",
       "stream": "stdout",
       "text": [
        "\n",
        "613"
       ]
      },
      {
       "output_type": "stream",
       "stream": "stdout",
       "text": [
        "\n",
        "614"
       ]
      },
      {
       "output_type": "stream",
       "stream": "stdout",
       "text": [
        "\n",
        "615"
       ]
      },
      {
       "output_type": "stream",
       "stream": "stdout",
       "text": [
        "\n",
        "616"
       ]
      },
      {
       "output_type": "stream",
       "stream": "stdout",
       "text": [
        "\n",
        "617"
       ]
      },
      {
       "output_type": "stream",
       "stream": "stdout",
       "text": [
        "\n",
        "618"
       ]
      },
      {
       "output_type": "stream",
       "stream": "stdout",
       "text": [
        "\n",
        "619"
       ]
      },
      {
       "output_type": "stream",
       "stream": "stdout",
       "text": [
        "\n",
        "620"
       ]
      },
      {
       "output_type": "stream",
       "stream": "stdout",
       "text": [
        "\n",
        "621"
       ]
      },
      {
       "output_type": "stream",
       "stream": "stdout",
       "text": [
        "\n",
        "622"
       ]
      },
      {
       "output_type": "stream",
       "stream": "stdout",
       "text": [
        "\n",
        "623"
       ]
      },
      {
       "output_type": "stream",
       "stream": "stdout",
       "text": [
        "\n",
        "624"
       ]
      },
      {
       "output_type": "stream",
       "stream": "stdout",
       "text": [
        "\n",
        "625"
       ]
      },
      {
       "output_type": "stream",
       "stream": "stdout",
       "text": [
        "\n",
        "626"
       ]
      },
      {
       "output_type": "stream",
       "stream": "stdout",
       "text": [
        "\n",
        "627"
       ]
      },
      {
       "output_type": "stream",
       "stream": "stdout",
       "text": [
        "\n",
        "628"
       ]
      },
      {
       "output_type": "stream",
       "stream": "stdout",
       "text": [
        "\n",
        "629"
       ]
      },
      {
       "output_type": "stream",
       "stream": "stdout",
       "text": [
        "\n",
        "630"
       ]
      },
      {
       "output_type": "stream",
       "stream": "stdout",
       "text": [
        "\n",
        "631"
       ]
      },
      {
       "output_type": "stream",
       "stream": "stdout",
       "text": [
        "\n",
        "632"
       ]
      },
      {
       "output_type": "stream",
       "stream": "stdout",
       "text": [
        "\n",
        "633"
       ]
      },
      {
       "output_type": "stream",
       "stream": "stdout",
       "text": [
        "\n",
        "634"
       ]
      },
      {
       "output_type": "stream",
       "stream": "stdout",
       "text": [
        "\n",
        "635"
       ]
      },
      {
       "output_type": "stream",
       "stream": "stdout",
       "text": [
        "\n",
        "636"
       ]
      },
      {
       "output_type": "stream",
       "stream": "stdout",
       "text": [
        "\n",
        "637"
       ]
      },
      {
       "output_type": "stream",
       "stream": "stdout",
       "text": [
        "\n",
        "638"
       ]
      },
      {
       "output_type": "stream",
       "stream": "stdout",
       "text": [
        "\n",
        "639"
       ]
      },
      {
       "output_type": "stream",
       "stream": "stdout",
       "text": [
        "\n",
        "640"
       ]
      },
      {
       "output_type": "stream",
       "stream": "stdout",
       "text": [
        "\n",
        "641"
       ]
      },
      {
       "output_type": "stream",
       "stream": "stdout",
       "text": [
        "\n",
        "642"
       ]
      },
      {
       "output_type": "stream",
       "stream": "stdout",
       "text": [
        "\n",
        "643"
       ]
      },
      {
       "output_type": "stream",
       "stream": "stdout",
       "text": [
        "\n",
        "644"
       ]
      },
      {
       "output_type": "stream",
       "stream": "stdout",
       "text": [
        "\n",
        "645"
       ]
      },
      {
       "output_type": "stream",
       "stream": "stdout",
       "text": [
        "\n",
        "646"
       ]
      },
      {
       "output_type": "stream",
       "stream": "stdout",
       "text": [
        "\n",
        "647"
       ]
      },
      {
       "output_type": "stream",
       "stream": "stdout",
       "text": [
        "\n",
        "648"
       ]
      },
      {
       "output_type": "stream",
       "stream": "stdout",
       "text": [
        "\n",
        "649"
       ]
      },
      {
       "output_type": "stream",
       "stream": "stdout",
       "text": [
        "\n",
        "650"
       ]
      },
      {
       "output_type": "stream",
       "stream": "stdout",
       "text": [
        "\n",
        "651"
       ]
      },
      {
       "output_type": "stream",
       "stream": "stdout",
       "text": [
        "\n",
        "652"
       ]
      },
      {
       "output_type": "stream",
       "stream": "stdout",
       "text": [
        "\n",
        "653"
       ]
      },
      {
       "output_type": "stream",
       "stream": "stdout",
       "text": [
        "\n",
        "654"
       ]
      },
      {
       "output_type": "stream",
       "stream": "stdout",
       "text": [
        "\n",
        "655"
       ]
      },
      {
       "output_type": "stream",
       "stream": "stdout",
       "text": [
        "\n",
        "656"
       ]
      },
      {
       "output_type": "stream",
       "stream": "stdout",
       "text": [
        "\n",
        "657"
       ]
      },
      {
       "output_type": "stream",
       "stream": "stdout",
       "text": [
        "\n",
        "658"
       ]
      },
      {
       "output_type": "stream",
       "stream": "stdout",
       "text": [
        "\n",
        "659"
       ]
      },
      {
       "output_type": "stream",
       "stream": "stdout",
       "text": [
        "\n",
        "660"
       ]
      },
      {
       "output_type": "stream",
       "stream": "stdout",
       "text": [
        "\n",
        "661"
       ]
      },
      {
       "output_type": "stream",
       "stream": "stdout",
       "text": [
        "\n",
        "662"
       ]
      },
      {
       "output_type": "stream",
       "stream": "stdout",
       "text": [
        "\n",
        "663"
       ]
      },
      {
       "output_type": "stream",
       "stream": "stdout",
       "text": [
        "\n",
        "664"
       ]
      },
      {
       "output_type": "stream",
       "stream": "stdout",
       "text": [
        "\n",
        "665"
       ]
      },
      {
       "output_type": "stream",
       "stream": "stdout",
       "text": [
        "\n",
        "666"
       ]
      },
      {
       "output_type": "stream",
       "stream": "stdout",
       "text": [
        "\n",
        "667"
       ]
      },
      {
       "output_type": "stream",
       "stream": "stdout",
       "text": [
        "\n",
        "668"
       ]
      },
      {
       "output_type": "stream",
       "stream": "stdout",
       "text": [
        "\n",
        "669"
       ]
      },
      {
       "output_type": "stream",
       "stream": "stdout",
       "text": [
        "\n",
        "670"
       ]
      },
      {
       "output_type": "stream",
       "stream": "stdout",
       "text": [
        "\n",
        "671"
       ]
      },
      {
       "output_type": "stream",
       "stream": "stdout",
       "text": [
        "\n",
        "672"
       ]
      },
      {
       "output_type": "stream",
       "stream": "stdout",
       "text": [
        "\n",
        "673"
       ]
      },
      {
       "output_type": "stream",
       "stream": "stdout",
       "text": [
        "\n",
        "674"
       ]
      },
      {
       "output_type": "stream",
       "stream": "stdout",
       "text": [
        "\n",
        "675"
       ]
      },
      {
       "output_type": "stream",
       "stream": "stdout",
       "text": [
        "\n",
        "676"
       ]
      },
      {
       "output_type": "stream",
       "stream": "stdout",
       "text": [
        "\n",
        "677"
       ]
      },
      {
       "output_type": "stream",
       "stream": "stdout",
       "text": [
        "\n",
        "678"
       ]
      },
      {
       "output_type": "stream",
       "stream": "stdout",
       "text": [
        "\n",
        "679"
       ]
      },
      {
       "output_type": "stream",
       "stream": "stdout",
       "text": [
        "\n",
        "680"
       ]
      },
      {
       "output_type": "stream",
       "stream": "stdout",
       "text": [
        "\n",
        "681"
       ]
      },
      {
       "output_type": "stream",
       "stream": "stdout",
       "text": [
        "\n",
        "682"
       ]
      },
      {
       "output_type": "stream",
       "stream": "stdout",
       "text": [
        "\n",
        "683"
       ]
      },
      {
       "output_type": "stream",
       "stream": "stdout",
       "text": [
        "\n",
        "684"
       ]
      },
      {
       "output_type": "stream",
       "stream": "stdout",
       "text": [
        "\n",
        "685"
       ]
      },
      {
       "output_type": "stream",
       "stream": "stdout",
       "text": [
        "\n",
        "686"
       ]
      },
      {
       "output_type": "stream",
       "stream": "stdout",
       "text": [
        "\n",
        "687"
       ]
      },
      {
       "output_type": "stream",
       "stream": "stdout",
       "text": [
        "\n",
        "688"
       ]
      },
      {
       "output_type": "stream",
       "stream": "stdout",
       "text": [
        "\n",
        "689"
       ]
      },
      {
       "output_type": "stream",
       "stream": "stdout",
       "text": [
        "\n",
        "690"
       ]
      },
      {
       "output_type": "stream",
       "stream": "stdout",
       "text": [
        "\n",
        "691"
       ]
      },
      {
       "output_type": "stream",
       "stream": "stdout",
       "text": [
        "\n",
        "692"
       ]
      },
      {
       "output_type": "stream",
       "stream": "stdout",
       "text": [
        "\n",
        "693"
       ]
      },
      {
       "output_type": "stream",
       "stream": "stdout",
       "text": [
        "\n",
        "694"
       ]
      },
      {
       "output_type": "stream",
       "stream": "stdout",
       "text": [
        "\n",
        "695"
       ]
      },
      {
       "output_type": "stream",
       "stream": "stdout",
       "text": [
        "\n",
        "696"
       ]
      },
      {
       "output_type": "stream",
       "stream": "stdout",
       "text": [
        "\n",
        "697"
       ]
      },
      {
       "output_type": "stream",
       "stream": "stdout",
       "text": [
        "\n",
        "698"
       ]
      },
      {
       "output_type": "stream",
       "stream": "stdout",
       "text": [
        "\n",
        "699"
       ]
      },
      {
       "output_type": "stream",
       "stream": "stdout",
       "text": [
        "\n",
        "700"
       ]
      },
      {
       "output_type": "stream",
       "stream": "stdout",
       "text": [
        "\n",
        "701"
       ]
      },
      {
       "output_type": "stream",
       "stream": "stdout",
       "text": [
        "\n",
        "702"
       ]
      },
      {
       "output_type": "stream",
       "stream": "stdout",
       "text": [
        "\n",
        "703"
       ]
      },
      {
       "output_type": "stream",
       "stream": "stdout",
       "text": [
        "\n",
        "704"
       ]
      },
      {
       "output_type": "stream",
       "stream": "stdout",
       "text": [
        "\n",
        "705"
       ]
      },
      {
       "output_type": "stream",
       "stream": "stdout",
       "text": [
        "\n",
        "706"
       ]
      },
      {
       "output_type": "stream",
       "stream": "stdout",
       "text": [
        "\n",
        "707"
       ]
      },
      {
       "output_type": "stream",
       "stream": "stdout",
       "text": [
        "\n",
        "708"
       ]
      },
      {
       "output_type": "stream",
       "stream": "stdout",
       "text": [
        "\n",
        "709"
       ]
      },
      {
       "output_type": "stream",
       "stream": "stdout",
       "text": [
        "\n",
        "710"
       ]
      },
      {
       "output_type": "stream",
       "stream": "stdout",
       "text": [
        "\n",
        "711"
       ]
      },
      {
       "output_type": "stream",
       "stream": "stdout",
       "text": [
        "\n",
        "712"
       ]
      },
      {
       "output_type": "stream",
       "stream": "stdout",
       "text": [
        "\n",
        "713"
       ]
      },
      {
       "output_type": "stream",
       "stream": "stdout",
       "text": [
        "\n",
        "714"
       ]
      },
      {
       "output_type": "stream",
       "stream": "stdout",
       "text": [
        "\n",
        "715"
       ]
      },
      {
       "output_type": "stream",
       "stream": "stdout",
       "text": [
        "\n",
        "716"
       ]
      },
      {
       "output_type": "stream",
       "stream": "stdout",
       "text": [
        "\n",
        "717"
       ]
      },
      {
       "output_type": "stream",
       "stream": "stdout",
       "text": [
        "\n",
        "718"
       ]
      },
      {
       "output_type": "stream",
       "stream": "stdout",
       "text": [
        "\n",
        "719"
       ]
      },
      {
       "output_type": "stream",
       "stream": "stdout",
       "text": [
        "\n",
        "720"
       ]
      },
      {
       "output_type": "stream",
       "stream": "stdout",
       "text": [
        "\n",
        "721"
       ]
      },
      {
       "output_type": "stream",
       "stream": "stdout",
       "text": [
        "\n",
        "722"
       ]
      },
      {
       "output_type": "stream",
       "stream": "stdout",
       "text": [
        "\n",
        "723"
       ]
      },
      {
       "output_type": "stream",
       "stream": "stdout",
       "text": [
        "\n",
        "724"
       ]
      },
      {
       "output_type": "stream",
       "stream": "stdout",
       "text": [
        "\n",
        "725"
       ]
      },
      {
       "output_type": "stream",
       "stream": "stdout",
       "text": [
        "\n",
        "726"
       ]
      },
      {
       "output_type": "stream",
       "stream": "stdout",
       "text": [
        "\n",
        "727"
       ]
      },
      {
       "output_type": "stream",
       "stream": "stdout",
       "text": [
        "\n",
        "728"
       ]
      },
      {
       "output_type": "stream",
       "stream": "stdout",
       "text": [
        "\n",
        "729"
       ]
      },
      {
       "output_type": "stream",
       "stream": "stdout",
       "text": [
        "\n",
        "730"
       ]
      },
      {
       "output_type": "stream",
       "stream": "stdout",
       "text": [
        "\n",
        "731"
       ]
      },
      {
       "output_type": "stream",
       "stream": "stdout",
       "text": [
        "\n",
        "732"
       ]
      },
      {
       "output_type": "stream",
       "stream": "stdout",
       "text": [
        "\n",
        "733"
       ]
      },
      {
       "output_type": "stream",
       "stream": "stdout",
       "text": [
        "\n",
        "734"
       ]
      },
      {
       "output_type": "stream",
       "stream": "stdout",
       "text": [
        "\n",
        "735"
       ]
      },
      {
       "output_type": "stream",
       "stream": "stdout",
       "text": [
        "\n",
        "736"
       ]
      },
      {
       "output_type": "stream",
       "stream": "stdout",
       "text": [
        "\n",
        "737"
       ]
      },
      {
       "output_type": "stream",
       "stream": "stdout",
       "text": [
        "\n",
        "738"
       ]
      },
      {
       "output_type": "stream",
       "stream": "stdout",
       "text": [
        "\n",
        "739"
       ]
      },
      {
       "output_type": "stream",
       "stream": "stdout",
       "text": [
        "\n",
        "740"
       ]
      },
      {
       "output_type": "stream",
       "stream": "stdout",
       "text": [
        "\n",
        "741"
       ]
      },
      {
       "output_type": "stream",
       "stream": "stdout",
       "text": [
        "\n",
        "742"
       ]
      },
      {
       "output_type": "stream",
       "stream": "stdout",
       "text": [
        "\n",
        "743"
       ]
      },
      {
       "output_type": "stream",
       "stream": "stdout",
       "text": [
        "\n",
        "744"
       ]
      },
      {
       "output_type": "stream",
       "stream": "stdout",
       "text": [
        "\n",
        "745"
       ]
      },
      {
       "output_type": "stream",
       "stream": "stdout",
       "text": [
        "\n",
        "746"
       ]
      },
      {
       "output_type": "stream",
       "stream": "stdout",
       "text": [
        "\n",
        "747"
       ]
      },
      {
       "output_type": "stream",
       "stream": "stdout",
       "text": [
        "\n",
        "748"
       ]
      },
      {
       "output_type": "stream",
       "stream": "stdout",
       "text": [
        "\n",
        "749"
       ]
      },
      {
       "output_type": "stream",
       "stream": "stdout",
       "text": [
        "\n",
        "750"
       ]
      },
      {
       "output_type": "stream",
       "stream": "stdout",
       "text": [
        "\n",
        "751"
       ]
      },
      {
       "output_type": "stream",
       "stream": "stdout",
       "text": [
        "\n",
        "752"
       ]
      },
      {
       "output_type": "stream",
       "stream": "stdout",
       "text": [
        "\n",
        "753"
       ]
      },
      {
       "output_type": "stream",
       "stream": "stdout",
       "text": [
        "\n",
        "754"
       ]
      },
      {
       "output_type": "stream",
       "stream": "stdout",
       "text": [
        "\n",
        "755"
       ]
      },
      {
       "output_type": "stream",
       "stream": "stdout",
       "text": [
        "\n",
        "756"
       ]
      },
      {
       "output_type": "stream",
       "stream": "stdout",
       "text": [
        "\n",
        "757"
       ]
      },
      {
       "output_type": "stream",
       "stream": "stdout",
       "text": [
        "\n",
        "758"
       ]
      },
      {
       "output_type": "stream",
       "stream": "stdout",
       "text": [
        "\n",
        "759"
       ]
      },
      {
       "output_type": "stream",
       "stream": "stdout",
       "text": [
        "\n",
        "760"
       ]
      },
      {
       "output_type": "stream",
       "stream": "stdout",
       "text": [
        "\n",
        "761"
       ]
      },
      {
       "output_type": "stream",
       "stream": "stdout",
       "text": [
        "\n",
        "762"
       ]
      },
      {
       "output_type": "stream",
       "stream": "stdout",
       "text": [
        "\n",
        "763"
       ]
      },
      {
       "output_type": "stream",
       "stream": "stdout",
       "text": [
        "\n",
        "764"
       ]
      },
      {
       "output_type": "stream",
       "stream": "stdout",
       "text": [
        "\n",
        "765"
       ]
      },
      {
       "output_type": "stream",
       "stream": "stdout",
       "text": [
        "\n",
        "766"
       ]
      },
      {
       "output_type": "stream",
       "stream": "stdout",
       "text": [
        "\n",
        "767"
       ]
      },
      {
       "output_type": "stream",
       "stream": "stdout",
       "text": [
        "\n",
        "768"
       ]
      },
      {
       "output_type": "stream",
       "stream": "stdout",
       "text": [
        "\n",
        "769"
       ]
      },
      {
       "output_type": "stream",
       "stream": "stdout",
       "text": [
        "\n",
        "770"
       ]
      },
      {
       "output_type": "stream",
       "stream": "stdout",
       "text": [
        "\n",
        "771"
       ]
      },
      {
       "output_type": "stream",
       "stream": "stdout",
       "text": [
        "\n",
        "772"
       ]
      },
      {
       "output_type": "stream",
       "stream": "stdout",
       "text": [
        "\n",
        "773"
       ]
      },
      {
       "output_type": "stream",
       "stream": "stdout",
       "text": [
        "\n",
        "774"
       ]
      },
      {
       "output_type": "stream",
       "stream": "stdout",
       "text": [
        "\n",
        "775"
       ]
      },
      {
       "output_type": "stream",
       "stream": "stdout",
       "text": [
        "\n",
        "776"
       ]
      },
      {
       "output_type": "stream",
       "stream": "stdout",
       "text": [
        "\n",
        "777"
       ]
      },
      {
       "output_type": "stream",
       "stream": "stdout",
       "text": [
        "\n",
        "778"
       ]
      },
      {
       "output_type": "stream",
       "stream": "stdout",
       "text": [
        "\n",
        "779"
       ]
      },
      {
       "output_type": "stream",
       "stream": "stdout",
       "text": [
        "\n",
        "780"
       ]
      },
      {
       "output_type": "stream",
       "stream": "stdout",
       "text": [
        "\n",
        "781"
       ]
      },
      {
       "output_type": "stream",
       "stream": "stdout",
       "text": [
        "\n",
        "782"
       ]
      },
      {
       "output_type": "stream",
       "stream": "stdout",
       "text": [
        "\n",
        "783"
       ]
      },
      {
       "output_type": "stream",
       "stream": "stdout",
       "text": [
        "\n",
        "784"
       ]
      },
      {
       "output_type": "stream",
       "stream": "stdout",
       "text": [
        "\n",
        "785"
       ]
      },
      {
       "output_type": "stream",
       "stream": "stdout",
       "text": [
        "\n",
        "786"
       ]
      },
      {
       "output_type": "stream",
       "stream": "stdout",
       "text": [
        "\n",
        "787"
       ]
      },
      {
       "output_type": "stream",
       "stream": "stdout",
       "text": [
        "\n",
        "788"
       ]
      },
      {
       "output_type": "stream",
       "stream": "stdout",
       "text": [
        "\n",
        "789"
       ]
      },
      {
       "output_type": "stream",
       "stream": "stdout",
       "text": [
        "\n",
        "790"
       ]
      },
      {
       "output_type": "stream",
       "stream": "stdout",
       "text": [
        "\n",
        "791"
       ]
      },
      {
       "output_type": "stream",
       "stream": "stdout",
       "text": [
        "\n",
        "792"
       ]
      },
      {
       "output_type": "stream",
       "stream": "stdout",
       "text": [
        "\n",
        "793"
       ]
      },
      {
       "output_type": "stream",
       "stream": "stdout",
       "text": [
        "\n",
        "794"
       ]
      },
      {
       "output_type": "stream",
       "stream": "stdout",
       "text": [
        "\n",
        "795"
       ]
      },
      {
       "output_type": "stream",
       "stream": "stdout",
       "text": [
        "\n",
        "796"
       ]
      },
      {
       "output_type": "stream",
       "stream": "stdout",
       "text": [
        "\n",
        "797"
       ]
      },
      {
       "output_type": "stream",
       "stream": "stdout",
       "text": [
        "\n",
        "798"
       ]
      },
      {
       "output_type": "stream",
       "stream": "stdout",
       "text": [
        "\n",
        "799"
       ]
      },
      {
       "output_type": "stream",
       "stream": "stdout",
       "text": [
        "\n",
        "800"
       ]
      },
      {
       "output_type": "stream",
       "stream": "stdout",
       "text": [
        "\n",
        "801"
       ]
      },
      {
       "output_type": "stream",
       "stream": "stdout",
       "text": [
        "\n",
        "802"
       ]
      },
      {
       "output_type": "stream",
       "stream": "stdout",
       "text": [
        "\n",
        "803"
       ]
      },
      {
       "output_type": "stream",
       "stream": "stdout",
       "text": [
        "\n",
        "804"
       ]
      },
      {
       "output_type": "stream",
       "stream": "stdout",
       "text": [
        "\n",
        "805"
       ]
      },
      {
       "output_type": "stream",
       "stream": "stdout",
       "text": [
        "\n",
        "806"
       ]
      },
      {
       "output_type": "stream",
       "stream": "stdout",
       "text": [
        "\n",
        "807"
       ]
      },
      {
       "output_type": "stream",
       "stream": "stdout",
       "text": [
        "\n",
        "808"
       ]
      },
      {
       "output_type": "stream",
       "stream": "stdout",
       "text": [
        "\n",
        "809"
       ]
      },
      {
       "output_type": "stream",
       "stream": "stdout",
       "text": [
        "\n",
        "810"
       ]
      },
      {
       "output_type": "stream",
       "stream": "stdout",
       "text": [
        "\n",
        "811"
       ]
      },
      {
       "output_type": "stream",
       "stream": "stdout",
       "text": [
        "\n",
        "812"
       ]
      },
      {
       "output_type": "stream",
       "stream": "stdout",
       "text": [
        "\n",
        "813"
       ]
      },
      {
       "output_type": "stream",
       "stream": "stdout",
       "text": [
        "\n",
        "814"
       ]
      },
      {
       "output_type": "stream",
       "stream": "stdout",
       "text": [
        "\n",
        "815"
       ]
      },
      {
       "output_type": "stream",
       "stream": "stdout",
       "text": [
        "\n",
        "816"
       ]
      },
      {
       "output_type": "stream",
       "stream": "stdout",
       "text": [
        "\n",
        "817"
       ]
      },
      {
       "output_type": "stream",
       "stream": "stdout",
       "text": [
        "\n",
        "818"
       ]
      },
      {
       "output_type": "stream",
       "stream": "stdout",
       "text": [
        "\n",
        "819"
       ]
      },
      {
       "output_type": "stream",
       "stream": "stdout",
       "text": [
        "\n",
        "820"
       ]
      },
      {
       "output_type": "stream",
       "stream": "stdout",
       "text": [
        "\n",
        "821"
       ]
      },
      {
       "output_type": "stream",
       "stream": "stdout",
       "text": [
        "\n",
        "822"
       ]
      },
      {
       "output_type": "stream",
       "stream": "stdout",
       "text": [
        "\n",
        "823"
       ]
      },
      {
       "output_type": "stream",
       "stream": "stdout",
       "text": [
        "\n",
        "824"
       ]
      },
      {
       "output_type": "stream",
       "stream": "stdout",
       "text": [
        "\n",
        "825"
       ]
      },
      {
       "output_type": "stream",
       "stream": "stdout",
       "text": [
        "\n",
        "826"
       ]
      },
      {
       "output_type": "stream",
       "stream": "stdout",
       "text": [
        "\n",
        "827"
       ]
      },
      {
       "output_type": "stream",
       "stream": "stdout",
       "text": [
        "\n",
        "828"
       ]
      },
      {
       "output_type": "stream",
       "stream": "stdout",
       "text": [
        "\n",
        "829"
       ]
      },
      {
       "output_type": "stream",
       "stream": "stdout",
       "text": [
        "\n",
        "830"
       ]
      },
      {
       "output_type": "stream",
       "stream": "stdout",
       "text": [
        "\n",
        "831"
       ]
      },
      {
       "output_type": "stream",
       "stream": "stdout",
       "text": [
        "\n",
        "832"
       ]
      },
      {
       "output_type": "stream",
       "stream": "stdout",
       "text": [
        "\n",
        "833"
       ]
      },
      {
       "output_type": "stream",
       "stream": "stdout",
       "text": [
        "\n",
        "834"
       ]
      },
      {
       "output_type": "stream",
       "stream": "stdout",
       "text": [
        "\n",
        "835"
       ]
      },
      {
       "output_type": "stream",
       "stream": "stdout",
       "text": [
        "\n",
        "836"
       ]
      },
      {
       "output_type": "stream",
       "stream": "stdout",
       "text": [
        "\n",
        "837"
       ]
      },
      {
       "output_type": "stream",
       "stream": "stdout",
       "text": [
        "\n",
        "838"
       ]
      },
      {
       "output_type": "stream",
       "stream": "stdout",
       "text": [
        "\n",
        "839"
       ]
      },
      {
       "output_type": "stream",
       "stream": "stdout",
       "text": [
        "\n",
        "840"
       ]
      },
      {
       "output_type": "stream",
       "stream": "stdout",
       "text": [
        "\n",
        "841"
       ]
      },
      {
       "output_type": "stream",
       "stream": "stdout",
       "text": [
        "\n",
        "842"
       ]
      },
      {
       "output_type": "stream",
       "stream": "stdout",
       "text": [
        "\n",
        "843"
       ]
      },
      {
       "output_type": "stream",
       "stream": "stdout",
       "text": [
        "\n",
        "844"
       ]
      },
      {
       "output_type": "stream",
       "stream": "stdout",
       "text": [
        "\n",
        "845"
       ]
      },
      {
       "output_type": "stream",
       "stream": "stdout",
       "text": [
        "\n",
        "846"
       ]
      },
      {
       "output_type": "stream",
       "stream": "stdout",
       "text": [
        "\n",
        "847"
       ]
      },
      {
       "output_type": "stream",
       "stream": "stdout",
       "text": [
        "\n",
        "848"
       ]
      },
      {
       "output_type": "stream",
       "stream": "stdout",
       "text": [
        "\n",
        "849"
       ]
      },
      {
       "output_type": "stream",
       "stream": "stdout",
       "text": [
        "\n",
        "850"
       ]
      },
      {
       "output_type": "stream",
       "stream": "stdout",
       "text": [
        "\n",
        "851"
       ]
      },
      {
       "output_type": "stream",
       "stream": "stdout",
       "text": [
        "\n",
        "852"
       ]
      },
      {
       "output_type": "stream",
       "stream": "stdout",
       "text": [
        "\n",
        "853"
       ]
      },
      {
       "output_type": "stream",
       "stream": "stdout",
       "text": [
        "\n",
        "854"
       ]
      },
      {
       "output_type": "stream",
       "stream": "stdout",
       "text": [
        "\n",
        "855"
       ]
      },
      {
       "output_type": "stream",
       "stream": "stdout",
       "text": [
        "\n",
        "856"
       ]
      },
      {
       "output_type": "stream",
       "stream": "stdout",
       "text": [
        "\n",
        "857"
       ]
      },
      {
       "output_type": "stream",
       "stream": "stdout",
       "text": [
        "\n",
        "858"
       ]
      },
      {
       "output_type": "stream",
       "stream": "stdout",
       "text": [
        "\n",
        "859"
       ]
      },
      {
       "output_type": "stream",
       "stream": "stdout",
       "text": [
        "\n",
        "860"
       ]
      },
      {
       "output_type": "stream",
       "stream": "stdout",
       "text": [
        "\n",
        "861"
       ]
      },
      {
       "output_type": "stream",
       "stream": "stdout",
       "text": [
        "\n",
        "862"
       ]
      },
      {
       "output_type": "stream",
       "stream": "stdout",
       "text": [
        "\n",
        "863"
       ]
      },
      {
       "output_type": "stream",
       "stream": "stdout",
       "text": [
        "\n",
        "864"
       ]
      },
      {
       "output_type": "stream",
       "stream": "stdout",
       "text": [
        "\n",
        "865"
       ]
      },
      {
       "output_type": "stream",
       "stream": "stdout",
       "text": [
        "\n",
        "866"
       ]
      },
      {
       "output_type": "stream",
       "stream": "stdout",
       "text": [
        "\n",
        "867"
       ]
      },
      {
       "output_type": "stream",
       "stream": "stdout",
       "text": [
        "\n",
        "868"
       ]
      },
      {
       "output_type": "stream",
       "stream": "stdout",
       "text": [
        "\n",
        "869"
       ]
      },
      {
       "output_type": "stream",
       "stream": "stdout",
       "text": [
        "\n",
        "870"
       ]
      },
      {
       "output_type": "stream",
       "stream": "stdout",
       "text": [
        "\n",
        "871"
       ]
      },
      {
       "output_type": "stream",
       "stream": "stdout",
       "text": [
        "\n",
        "872"
       ]
      },
      {
       "output_type": "stream",
       "stream": "stdout",
       "text": [
        "\n",
        "873"
       ]
      },
      {
       "output_type": "stream",
       "stream": "stdout",
       "text": [
        "\n",
        "874"
       ]
      },
      {
       "output_type": "stream",
       "stream": "stdout",
       "text": [
        "\n",
        "875"
       ]
      },
      {
       "output_type": "stream",
       "stream": "stdout",
       "text": [
        "\n",
        "876"
       ]
      },
      {
       "output_type": "stream",
       "stream": "stdout",
       "text": [
        "\n",
        "877"
       ]
      },
      {
       "output_type": "stream",
       "stream": "stdout",
       "text": [
        "\n",
        "878"
       ]
      },
      {
       "output_type": "stream",
       "stream": "stdout",
       "text": [
        "\n",
        "879"
       ]
      },
      {
       "output_type": "stream",
       "stream": "stdout",
       "text": [
        "\n",
        "880"
       ]
      },
      {
       "output_type": "stream",
       "stream": "stdout",
       "text": [
        "\n",
        "881"
       ]
      },
      {
       "output_type": "stream",
       "stream": "stdout",
       "text": [
        "\n",
        "882"
       ]
      },
      {
       "output_type": "stream",
       "stream": "stdout",
       "text": [
        "\n",
        "883"
       ]
      },
      {
       "output_type": "stream",
       "stream": "stdout",
       "text": [
        "\n",
        "884"
       ]
      },
      {
       "output_type": "stream",
       "stream": "stdout",
       "text": [
        "\n",
        "885"
       ]
      },
      {
       "output_type": "stream",
       "stream": "stdout",
       "text": [
        "\n",
        "886"
       ]
      },
      {
       "output_type": "stream",
       "stream": "stdout",
       "text": [
        "\n",
        "887"
       ]
      },
      {
       "output_type": "stream",
       "stream": "stdout",
       "text": [
        "\n",
        "888"
       ]
      },
      {
       "output_type": "stream",
       "stream": "stdout",
       "text": [
        "\n",
        "889"
       ]
      },
      {
       "output_type": "stream",
       "stream": "stdout",
       "text": [
        "\n",
        "890"
       ]
      },
      {
       "output_type": "stream",
       "stream": "stdout",
       "text": [
        "\n",
        "891"
       ]
      },
      {
       "output_type": "stream",
       "stream": "stdout",
       "text": [
        "\n",
        "892"
       ]
      },
      {
       "output_type": "stream",
       "stream": "stdout",
       "text": [
        "\n",
        "893"
       ]
      },
      {
       "output_type": "stream",
       "stream": "stdout",
       "text": [
        "\n",
        "894"
       ]
      },
      {
       "output_type": "stream",
       "stream": "stdout",
       "text": [
        "\n",
        "895"
       ]
      },
      {
       "output_type": "stream",
       "stream": "stdout",
       "text": [
        "\n",
        "896"
       ]
      },
      {
       "output_type": "stream",
       "stream": "stdout",
       "text": [
        "\n",
        "897"
       ]
      },
      {
       "output_type": "stream",
       "stream": "stdout",
       "text": [
        "\n",
        "898"
       ]
      },
      {
       "output_type": "stream",
       "stream": "stdout",
       "text": [
        "\n",
        "899"
       ]
      },
      {
       "output_type": "stream",
       "stream": "stdout",
       "text": [
        "\n",
        "900"
       ]
      },
      {
       "output_type": "stream",
       "stream": "stdout",
       "text": [
        "\n",
        "901"
       ]
      },
      {
       "output_type": "stream",
       "stream": "stdout",
       "text": [
        "\n",
        "902"
       ]
      },
      {
       "output_type": "stream",
       "stream": "stdout",
       "text": [
        "\n",
        "903"
       ]
      },
      {
       "output_type": "stream",
       "stream": "stdout",
       "text": [
        "\n",
        "904"
       ]
      },
      {
       "output_type": "stream",
       "stream": "stdout",
       "text": [
        "\n",
        "905"
       ]
      },
      {
       "output_type": "stream",
       "stream": "stdout",
       "text": [
        "\n",
        "906"
       ]
      },
      {
       "output_type": "stream",
       "stream": "stdout",
       "text": [
        "\n",
        "907"
       ]
      },
      {
       "output_type": "stream",
       "stream": "stdout",
       "text": [
        "\n",
        "908"
       ]
      },
      {
       "output_type": "stream",
       "stream": "stdout",
       "text": [
        "\n",
        "909"
       ]
      },
      {
       "output_type": "stream",
       "stream": "stdout",
       "text": [
        "\n",
        "910"
       ]
      },
      {
       "output_type": "stream",
       "stream": "stdout",
       "text": [
        "\n",
        "911"
       ]
      },
      {
       "output_type": "stream",
       "stream": "stdout",
       "text": [
        "\n",
        "912"
       ]
      },
      {
       "output_type": "stream",
       "stream": "stdout",
       "text": [
        "\n",
        "913"
       ]
      },
      {
       "output_type": "stream",
       "stream": "stdout",
       "text": [
        "\n",
        "914"
       ]
      },
      {
       "output_type": "stream",
       "stream": "stdout",
       "text": [
        "\n",
        "915"
       ]
      },
      {
       "output_type": "stream",
       "stream": "stdout",
       "text": [
        "\n",
        "916"
       ]
      },
      {
       "output_type": "stream",
       "stream": "stdout",
       "text": [
        "\n",
        "917"
       ]
      },
      {
       "output_type": "stream",
       "stream": "stdout",
       "text": [
        "\n",
        "918"
       ]
      },
      {
       "output_type": "stream",
       "stream": "stdout",
       "text": [
        "\n",
        "919"
       ]
      },
      {
       "output_type": "stream",
       "stream": "stdout",
       "text": [
        "\n",
        "920"
       ]
      },
      {
       "output_type": "stream",
       "stream": "stdout",
       "text": [
        "\n",
        "921"
       ]
      },
      {
       "output_type": "stream",
       "stream": "stdout",
       "text": [
        "\n",
        "922"
       ]
      },
      {
       "output_type": "stream",
       "stream": "stdout",
       "text": [
        "\n",
        "923"
       ]
      },
      {
       "output_type": "stream",
       "stream": "stdout",
       "text": [
        "\n",
        "924"
       ]
      },
      {
       "output_type": "stream",
       "stream": "stdout",
       "text": [
        "\n",
        "925"
       ]
      },
      {
       "output_type": "stream",
       "stream": "stdout",
       "text": [
        "\n",
        "926"
       ]
      },
      {
       "output_type": "stream",
       "stream": "stdout",
       "text": [
        "\n",
        "927"
       ]
      },
      {
       "output_type": "stream",
       "stream": "stdout",
       "text": [
        "\n",
        "928"
       ]
      },
      {
       "output_type": "stream",
       "stream": "stdout",
       "text": [
        "\n",
        "929"
       ]
      },
      {
       "output_type": "stream",
       "stream": "stdout",
       "text": [
        "\n",
        "930"
       ]
      },
      {
       "output_type": "stream",
       "stream": "stdout",
       "text": [
        "\n",
        "931"
       ]
      },
      {
       "output_type": "stream",
       "stream": "stdout",
       "text": [
        "\n",
        "932"
       ]
      },
      {
       "output_type": "stream",
       "stream": "stdout",
       "text": [
        "\n",
        "933"
       ]
      },
      {
       "output_type": "stream",
       "stream": "stdout",
       "text": [
        "\n",
        "934"
       ]
      },
      {
       "output_type": "stream",
       "stream": "stdout",
       "text": [
        "\n",
        "935"
       ]
      },
      {
       "output_type": "stream",
       "stream": "stdout",
       "text": [
        "\n",
        "936"
       ]
      },
      {
       "output_type": "stream",
       "stream": "stdout",
       "text": [
        "\n",
        "937"
       ]
      },
      {
       "output_type": "stream",
       "stream": "stdout",
       "text": [
        "\n",
        "938"
       ]
      },
      {
       "output_type": "stream",
       "stream": "stdout",
       "text": [
        "\n",
        "939"
       ]
      },
      {
       "output_type": "stream",
       "stream": "stdout",
       "text": [
        "\n",
        "940"
       ]
      },
      {
       "output_type": "stream",
       "stream": "stdout",
       "text": [
        "\n",
        "941"
       ]
      },
      {
       "output_type": "stream",
       "stream": "stdout",
       "text": [
        "\n",
        "942"
       ]
      },
      {
       "output_type": "stream",
       "stream": "stdout",
       "text": [
        "\n",
        "943"
       ]
      },
      {
       "output_type": "stream",
       "stream": "stdout",
       "text": [
        "\n",
        "944"
       ]
      },
      {
       "output_type": "stream",
       "stream": "stdout",
       "text": [
        "\n",
        "945"
       ]
      },
      {
       "output_type": "stream",
       "stream": "stdout",
       "text": [
        "\n",
        "946"
       ]
      },
      {
       "output_type": "stream",
       "stream": "stdout",
       "text": [
        "\n",
        "947"
       ]
      },
      {
       "output_type": "stream",
       "stream": "stdout",
       "text": [
        "\n",
        "948"
       ]
      },
      {
       "output_type": "stream",
       "stream": "stdout",
       "text": [
        "\n",
        "949"
       ]
      },
      {
       "output_type": "stream",
       "stream": "stdout",
       "text": [
        "\n",
        "950"
       ]
      },
      {
       "output_type": "stream",
       "stream": "stdout",
       "text": [
        "\n",
        "951"
       ]
      },
      {
       "output_type": "stream",
       "stream": "stdout",
       "text": [
        "\n",
        "952"
       ]
      },
      {
       "output_type": "stream",
       "stream": "stdout",
       "text": [
        "\n",
        "953"
       ]
      },
      {
       "output_type": "stream",
       "stream": "stdout",
       "text": [
        "\n",
        "954"
       ]
      },
      {
       "output_type": "stream",
       "stream": "stdout",
       "text": [
        "\n",
        "955"
       ]
      },
      {
       "output_type": "stream",
       "stream": "stdout",
       "text": [
        "\n",
        "956"
       ]
      },
      {
       "output_type": "stream",
       "stream": "stdout",
       "text": [
        "\n",
        "957"
       ]
      },
      {
       "output_type": "stream",
       "stream": "stdout",
       "text": [
        "\n",
        "958"
       ]
      },
      {
       "output_type": "stream",
       "stream": "stdout",
       "text": [
        "\n",
        "959"
       ]
      },
      {
       "output_type": "stream",
       "stream": "stdout",
       "text": [
        "\n",
        "960"
       ]
      },
      {
       "output_type": "stream",
       "stream": "stdout",
       "text": [
        "\n",
        "961"
       ]
      },
      {
       "output_type": "stream",
       "stream": "stdout",
       "text": [
        "\n",
        "962"
       ]
      },
      {
       "output_type": "stream",
       "stream": "stdout",
       "text": [
        "\n",
        "963"
       ]
      },
      {
       "output_type": "stream",
       "stream": "stdout",
       "text": [
        "\n",
        "964"
       ]
      },
      {
       "output_type": "stream",
       "stream": "stdout",
       "text": [
        "\n",
        "965"
       ]
      },
      {
       "output_type": "stream",
       "stream": "stdout",
       "text": [
        "\n",
        "966"
       ]
      },
      {
       "output_type": "stream",
       "stream": "stdout",
       "text": [
        "\n",
        "967"
       ]
      },
      {
       "output_type": "stream",
       "stream": "stdout",
       "text": [
        "\n",
        "968"
       ]
      },
      {
       "output_type": "stream",
       "stream": "stdout",
       "text": [
        "\n",
        "969"
       ]
      },
      {
       "output_type": "stream",
       "stream": "stdout",
       "text": [
        "\n",
        "970"
       ]
      },
      {
       "output_type": "stream",
       "stream": "stdout",
       "text": [
        "\n",
        "971"
       ]
      },
      {
       "output_type": "stream",
       "stream": "stdout",
       "text": [
        "\n",
        "972"
       ]
      },
      {
       "output_type": "stream",
       "stream": "stdout",
       "text": [
        "\n",
        "973"
       ]
      },
      {
       "output_type": "stream",
       "stream": "stdout",
       "text": [
        "\n",
        "974"
       ]
      },
      {
       "output_type": "stream",
       "stream": "stdout",
       "text": [
        "\n",
        "975"
       ]
      },
      {
       "output_type": "stream",
       "stream": "stdout",
       "text": [
        "\n",
        "976"
       ]
      },
      {
       "output_type": "stream",
       "stream": "stdout",
       "text": [
        "\n",
        "977"
       ]
      },
      {
       "output_type": "stream",
       "stream": "stdout",
       "text": [
        "\n",
        "978"
       ]
      },
      {
       "output_type": "stream",
       "stream": "stdout",
       "text": [
        "\n",
        "979"
       ]
      },
      {
       "output_type": "stream",
       "stream": "stdout",
       "text": [
        "\n",
        "980"
       ]
      },
      {
       "output_type": "stream",
       "stream": "stdout",
       "text": [
        "\n",
        "981"
       ]
      },
      {
       "output_type": "stream",
       "stream": "stdout",
       "text": [
        "\n",
        "982"
       ]
      },
      {
       "output_type": "stream",
       "stream": "stdout",
       "text": [
        "\n",
        "983"
       ]
      },
      {
       "output_type": "stream",
       "stream": "stdout",
       "text": [
        "\n",
        "984"
       ]
      },
      {
       "output_type": "stream",
       "stream": "stdout",
       "text": [
        "\n",
        "985"
       ]
      },
      {
       "output_type": "stream",
       "stream": "stdout",
       "text": [
        "\n",
        "986"
       ]
      },
      {
       "output_type": "stream",
       "stream": "stdout",
       "text": [
        "\n",
        "987"
       ]
      },
      {
       "output_type": "stream",
       "stream": "stdout",
       "text": [
        "\n",
        "988"
       ]
      },
      {
       "output_type": "stream",
       "stream": "stdout",
       "text": [
        "\n",
        "989"
       ]
      },
      {
       "output_type": "stream",
       "stream": "stdout",
       "text": [
        "\n",
        "990"
       ]
      },
      {
       "output_type": "stream",
       "stream": "stdout",
       "text": [
        "\n",
        "991"
       ]
      },
      {
       "output_type": "stream",
       "stream": "stdout",
       "text": [
        "\n",
        "992"
       ]
      },
      {
       "output_type": "stream",
       "stream": "stdout",
       "text": [
        "\n",
        "993"
       ]
      },
      {
       "output_type": "stream",
       "stream": "stdout",
       "text": [
        "\n",
        "994"
       ]
      },
      {
       "output_type": "stream",
       "stream": "stdout",
       "text": [
        "\n",
        "995"
       ]
      },
      {
       "output_type": "stream",
       "stream": "stdout",
       "text": [
        "\n",
        "996"
       ]
      },
      {
       "output_type": "stream",
       "stream": "stdout",
       "text": [
        "\n",
        "997"
       ]
      },
      {
       "output_type": "stream",
       "stream": "stdout",
       "text": [
        "\n",
        "998"
       ]
      },
      {
       "output_type": "stream",
       "stream": "stdout",
       "text": [
        "\n",
        "999"
       ]
      },
      {
       "output_type": "stream",
       "stream": "stdout",
       "text": [
        "\n",
        "1000"
       ]
      },
      {
       "output_type": "stream",
       "stream": "stdout",
       "text": [
        "\n",
        "1001"
       ]
      },
      {
       "output_type": "stream",
       "stream": "stdout",
       "text": [
        "\n",
        "1002"
       ]
      },
      {
       "output_type": "stream",
       "stream": "stdout",
       "text": [
        "\n",
        "1003"
       ]
      },
      {
       "output_type": "stream",
       "stream": "stdout",
       "text": [
        "\n",
        "1004"
       ]
      },
      {
       "output_type": "stream",
       "stream": "stdout",
       "text": [
        "\n",
        "1005"
       ]
      },
      {
       "output_type": "stream",
       "stream": "stdout",
       "text": [
        "\n",
        "1006"
       ]
      },
      {
       "output_type": "stream",
       "stream": "stdout",
       "text": [
        "\n",
        "1007"
       ]
      },
      {
       "output_type": "stream",
       "stream": "stdout",
       "text": [
        "\n",
        "1008"
       ]
      },
      {
       "output_type": "stream",
       "stream": "stdout",
       "text": [
        "\n",
        "1009"
       ]
      },
      {
       "output_type": "stream",
       "stream": "stdout",
       "text": [
        "\n",
        "1010"
       ]
      },
      {
       "output_type": "stream",
       "stream": "stdout",
       "text": [
        "\n",
        "1011"
       ]
      },
      {
       "output_type": "stream",
       "stream": "stdout",
       "text": [
        "\n",
        "1012"
       ]
      },
      {
       "output_type": "stream",
       "stream": "stdout",
       "text": [
        "\n",
        "1013"
       ]
      },
      {
       "output_type": "stream",
       "stream": "stdout",
       "text": [
        "\n",
        "1014"
       ]
      },
      {
       "output_type": "stream",
       "stream": "stdout",
       "text": [
        "\n",
        "1015"
       ]
      },
      {
       "output_type": "stream",
       "stream": "stdout",
       "text": [
        "\n",
        "1016"
       ]
      },
      {
       "output_type": "stream",
       "stream": "stdout",
       "text": [
        "\n",
        "1017"
       ]
      },
      {
       "output_type": "stream",
       "stream": "stdout",
       "text": [
        "\n",
        "1018"
       ]
      },
      {
       "output_type": "stream",
       "stream": "stdout",
       "text": [
        "\n",
        "1019"
       ]
      },
      {
       "output_type": "stream",
       "stream": "stdout",
       "text": [
        "\n",
        "1020"
       ]
      },
      {
       "output_type": "stream",
       "stream": "stdout",
       "text": [
        "\n",
        "1021"
       ]
      },
      {
       "output_type": "stream",
       "stream": "stdout",
       "text": [
        "\n",
        "1022"
       ]
      },
      {
       "output_type": "stream",
       "stream": "stdout",
       "text": [
        "\n",
        "1023"
       ]
      },
      {
       "output_type": "stream",
       "stream": "stdout",
       "text": [
        "\n",
        "1024"
       ]
      },
      {
       "output_type": "stream",
       "stream": "stdout",
       "text": [
        "\n",
        "1025"
       ]
      },
      {
       "output_type": "stream",
       "stream": "stdout",
       "text": [
        "\n",
        "1026"
       ]
      },
      {
       "output_type": "stream",
       "stream": "stdout",
       "text": [
        "\n",
        "1027"
       ]
      },
      {
       "output_type": "stream",
       "stream": "stdout",
       "text": [
        "\n",
        "1028"
       ]
      },
      {
       "output_type": "stream",
       "stream": "stdout",
       "text": [
        "\n",
        "1029"
       ]
      },
      {
       "output_type": "stream",
       "stream": "stdout",
       "text": [
        "\n",
        "1030"
       ]
      },
      {
       "output_type": "stream",
       "stream": "stdout",
       "text": [
        "\n",
        "1031"
       ]
      },
      {
       "output_type": "stream",
       "stream": "stdout",
       "text": [
        "\n",
        "1032"
       ]
      },
      {
       "output_type": "stream",
       "stream": "stdout",
       "text": [
        "\n",
        "1033"
       ]
      },
      {
       "output_type": "stream",
       "stream": "stdout",
       "text": [
        "\n",
        "1034"
       ]
      },
      {
       "output_type": "stream",
       "stream": "stdout",
       "text": [
        "\n",
        "1035"
       ]
      },
      {
       "output_type": "stream",
       "stream": "stdout",
       "text": [
        "\n",
        "1036"
       ]
      },
      {
       "output_type": "stream",
       "stream": "stdout",
       "text": [
        "\n",
        "1037"
       ]
      },
      {
       "output_type": "stream",
       "stream": "stdout",
       "text": [
        "\n",
        "1038"
       ]
      },
      {
       "output_type": "stream",
       "stream": "stdout",
       "text": [
        "\n",
        "1039"
       ]
      },
      {
       "output_type": "stream",
       "stream": "stdout",
       "text": [
        "\n",
        "1040"
       ]
      },
      {
       "output_type": "stream",
       "stream": "stdout",
       "text": [
        "\n",
        "1041"
       ]
      },
      {
       "output_type": "stream",
       "stream": "stdout",
       "text": [
        "\n",
        "1042"
       ]
      },
      {
       "output_type": "stream",
       "stream": "stdout",
       "text": [
        "\n",
        "1043"
       ]
      },
      {
       "output_type": "stream",
       "stream": "stdout",
       "text": [
        "\n",
        "1044"
       ]
      },
      {
       "output_type": "stream",
       "stream": "stdout",
       "text": [
        "\n",
        "1045"
       ]
      },
      {
       "output_type": "stream",
       "stream": "stdout",
       "text": [
        "\n",
        "1046"
       ]
      },
      {
       "output_type": "stream",
       "stream": "stdout",
       "text": [
        "\n",
        "1047"
       ]
      },
      {
       "output_type": "stream",
       "stream": "stdout",
       "text": [
        "\n",
        "1048"
       ]
      },
      {
       "output_type": "stream",
       "stream": "stdout",
       "text": [
        "\n",
        "1049"
       ]
      },
      {
       "output_type": "stream",
       "stream": "stdout",
       "text": [
        "\n",
        "1050"
       ]
      },
      {
       "output_type": "stream",
       "stream": "stdout",
       "text": [
        "\n",
        "1051"
       ]
      },
      {
       "output_type": "stream",
       "stream": "stdout",
       "text": [
        "\n",
        "1052"
       ]
      },
      {
       "output_type": "stream",
       "stream": "stdout",
       "text": [
        "\n",
        "1053"
       ]
      },
      {
       "output_type": "stream",
       "stream": "stdout",
       "text": [
        "\n",
        "1054"
       ]
      },
      {
       "output_type": "stream",
       "stream": "stdout",
       "text": [
        "\n",
        "1055"
       ]
      },
      {
       "output_type": "stream",
       "stream": "stdout",
       "text": [
        "\n",
        "1056"
       ]
      },
      {
       "output_type": "stream",
       "stream": "stdout",
       "text": [
        "\n",
        "1057"
       ]
      },
      {
       "output_type": "stream",
       "stream": "stdout",
       "text": [
        "\n",
        "1058"
       ]
      },
      {
       "output_type": "stream",
       "stream": "stdout",
       "text": [
        "\n",
        "1059"
       ]
      },
      {
       "output_type": "stream",
       "stream": "stdout",
       "text": [
        "\n",
        "1060"
       ]
      },
      {
       "output_type": "stream",
       "stream": "stdout",
       "text": [
        "\n",
        "1061"
       ]
      },
      {
       "output_type": "stream",
       "stream": "stdout",
       "text": [
        "\n",
        "1062"
       ]
      },
      {
       "output_type": "stream",
       "stream": "stdout",
       "text": [
        "\n",
        "1063"
       ]
      },
      {
       "output_type": "stream",
       "stream": "stdout",
       "text": [
        "\n",
        "1064"
       ]
      },
      {
       "output_type": "stream",
       "stream": "stdout",
       "text": [
        "\n",
        "1065"
       ]
      },
      {
       "output_type": "stream",
       "stream": "stdout",
       "text": [
        "\n",
        "1066"
       ]
      },
      {
       "output_type": "stream",
       "stream": "stdout",
       "text": [
        "\n",
        "1067"
       ]
      },
      {
       "output_type": "stream",
       "stream": "stdout",
       "text": [
        "\n",
        "1068"
       ]
      },
      {
       "output_type": "stream",
       "stream": "stdout",
       "text": [
        "\n",
        "1069"
       ]
      },
      {
       "output_type": "stream",
       "stream": "stdout",
       "text": [
        "\n",
        "1070"
       ]
      },
      {
       "output_type": "stream",
       "stream": "stdout",
       "text": [
        "\n",
        "1071"
       ]
      },
      {
       "output_type": "stream",
       "stream": "stdout",
       "text": [
        "\n",
        "1072"
       ]
      },
      {
       "output_type": "stream",
       "stream": "stdout",
       "text": [
        "\n",
        "1073"
       ]
      },
      {
       "output_type": "stream",
       "stream": "stdout",
       "text": [
        "\n",
        "1074"
       ]
      },
      {
       "output_type": "stream",
       "stream": "stdout",
       "text": [
        "\n",
        "1075"
       ]
      },
      {
       "output_type": "stream",
       "stream": "stdout",
       "text": [
        "\n",
        "1076"
       ]
      },
      {
       "output_type": "stream",
       "stream": "stdout",
       "text": [
        "\n",
        "1077"
       ]
      },
      {
       "output_type": "stream",
       "stream": "stdout",
       "text": [
        "\n",
        "1078"
       ]
      },
      {
       "output_type": "stream",
       "stream": "stdout",
       "text": [
        "\n",
        "1079"
       ]
      },
      {
       "output_type": "stream",
       "stream": "stdout",
       "text": [
        "\n",
        "1080"
       ]
      },
      {
       "output_type": "stream",
       "stream": "stdout",
       "text": [
        "\n",
        "1081"
       ]
      },
      {
       "output_type": "stream",
       "stream": "stdout",
       "text": [
        "\n",
        "1082"
       ]
      },
      {
       "output_type": "stream",
       "stream": "stdout",
       "text": [
        "\n",
        "1083"
       ]
      },
      {
       "output_type": "stream",
       "stream": "stdout",
       "text": [
        "\n",
        "1084"
       ]
      },
      {
       "output_type": "stream",
       "stream": "stdout",
       "text": [
        "\n",
        "1085"
       ]
      },
      {
       "output_type": "stream",
       "stream": "stdout",
       "text": [
        "\n",
        "1086"
       ]
      },
      {
       "output_type": "stream",
       "stream": "stdout",
       "text": [
        "\n",
        "1087"
       ]
      },
      {
       "output_type": "stream",
       "stream": "stdout",
       "text": [
        "\n",
        "1088"
       ]
      },
      {
       "output_type": "stream",
       "stream": "stdout",
       "text": [
        "\n",
        "1089"
       ]
      },
      {
       "output_type": "stream",
       "stream": "stdout",
       "text": [
        "\n",
        "1090"
       ]
      },
      {
       "output_type": "stream",
       "stream": "stdout",
       "text": [
        "\n",
        "1091"
       ]
      },
      {
       "output_type": "stream",
       "stream": "stdout",
       "text": [
        "\n",
        "1092"
       ]
      },
      {
       "output_type": "stream",
       "stream": "stdout",
       "text": [
        "\n",
        "1093"
       ]
      },
      {
       "output_type": "stream",
       "stream": "stdout",
       "text": [
        "\n",
        "1094"
       ]
      },
      {
       "output_type": "stream",
       "stream": "stdout",
       "text": [
        "\n",
        "1095"
       ]
      },
      {
       "output_type": "stream",
       "stream": "stdout",
       "text": [
        "\n",
        "1096"
       ]
      },
      {
       "output_type": "stream",
       "stream": "stdout",
       "text": [
        "\n",
        "1097"
       ]
      },
      {
       "output_type": "stream",
       "stream": "stdout",
       "text": [
        "\n",
        "1098"
       ]
      },
      {
       "output_type": "stream",
       "stream": "stdout",
       "text": [
        "\n",
        "1099"
       ]
      },
      {
       "output_type": "stream",
       "stream": "stdout",
       "text": [
        "\n",
        "1100"
       ]
      },
      {
       "output_type": "stream",
       "stream": "stdout",
       "text": [
        "\n",
        "1101"
       ]
      },
      {
       "output_type": "stream",
       "stream": "stdout",
       "text": [
        "\n",
        "1102"
       ]
      },
      {
       "output_type": "stream",
       "stream": "stdout",
       "text": [
        "\n",
        "1103"
       ]
      },
      {
       "output_type": "stream",
       "stream": "stdout",
       "text": [
        "\n",
        "1104"
       ]
      },
      {
       "output_type": "stream",
       "stream": "stdout",
       "text": [
        "\n",
        "1105"
       ]
      },
      {
       "output_type": "stream",
       "stream": "stdout",
       "text": [
        "\n",
        "1106"
       ]
      },
      {
       "output_type": "stream",
       "stream": "stdout",
       "text": [
        "\n",
        "1107"
       ]
      },
      {
       "output_type": "stream",
       "stream": "stdout",
       "text": [
        "\n",
        "1108"
       ]
      },
      {
       "output_type": "stream",
       "stream": "stdout",
       "text": [
        "\n",
        "1109"
       ]
      },
      {
       "output_type": "stream",
       "stream": "stdout",
       "text": [
        "\n",
        "1110"
       ]
      },
      {
       "output_type": "stream",
       "stream": "stdout",
       "text": [
        "\n",
        "1111"
       ]
      },
      {
       "output_type": "stream",
       "stream": "stdout",
       "text": [
        "\n",
        "1112"
       ]
      },
      {
       "output_type": "stream",
       "stream": "stdout",
       "text": [
        "\n",
        "1113"
       ]
      },
      {
       "output_type": "stream",
       "stream": "stdout",
       "text": [
        "\n",
        "1114"
       ]
      },
      {
       "output_type": "stream",
       "stream": "stdout",
       "text": [
        "\n",
        "1115"
       ]
      },
      {
       "output_type": "stream",
       "stream": "stdout",
       "text": [
        "\n",
        "1116"
       ]
      },
      {
       "output_type": "stream",
       "stream": "stdout",
       "text": [
        "\n",
        "1117"
       ]
      },
      {
       "output_type": "stream",
       "stream": "stdout",
       "text": [
        "\n",
        "1118"
       ]
      },
      {
       "output_type": "stream",
       "stream": "stdout",
       "text": [
        "\n",
        "1119"
       ]
      },
      {
       "output_type": "stream",
       "stream": "stdout",
       "text": [
        "\n",
        "1120"
       ]
      },
      {
       "output_type": "stream",
       "stream": "stdout",
       "text": [
        "\n",
        "1121"
       ]
      },
      {
       "output_type": "stream",
       "stream": "stdout",
       "text": [
        "\n",
        "1122"
       ]
      },
      {
       "output_type": "stream",
       "stream": "stdout",
       "text": [
        "\n",
        "1123"
       ]
      },
      {
       "output_type": "stream",
       "stream": "stdout",
       "text": [
        "\n",
        "1124"
       ]
      },
      {
       "output_type": "stream",
       "stream": "stdout",
       "text": [
        "\n",
        "1125"
       ]
      },
      {
       "output_type": "stream",
       "stream": "stdout",
       "text": [
        "\n",
        "1126"
       ]
      },
      {
       "output_type": "stream",
       "stream": "stdout",
       "text": [
        "\n",
        "1127"
       ]
      },
      {
       "output_type": "stream",
       "stream": "stdout",
       "text": [
        "\n",
        "1128"
       ]
      },
      {
       "output_type": "stream",
       "stream": "stdout",
       "text": [
        "\n",
        "1129"
       ]
      },
      {
       "output_type": "stream",
       "stream": "stdout",
       "text": [
        "\n",
        "1130"
       ]
      },
      {
       "output_type": "stream",
       "stream": "stdout",
       "text": [
        "\n",
        "1131"
       ]
      },
      {
       "output_type": "stream",
       "stream": "stdout",
       "text": [
        "\n",
        "1132"
       ]
      },
      {
       "output_type": "stream",
       "stream": "stdout",
       "text": [
        "\n",
        "1133"
       ]
      },
      {
       "output_type": "stream",
       "stream": "stdout",
       "text": [
        "\n",
        "1134"
       ]
      },
      {
       "output_type": "stream",
       "stream": "stdout",
       "text": [
        "\n",
        "1135"
       ]
      },
      {
       "output_type": "stream",
       "stream": "stdout",
       "text": [
        "\n",
        "1136"
       ]
      },
      {
       "output_type": "stream",
       "stream": "stdout",
       "text": [
        "\n",
        "1137"
       ]
      },
      {
       "output_type": "stream",
       "stream": "stdout",
       "text": [
        "\n",
        "1138"
       ]
      },
      {
       "output_type": "stream",
       "stream": "stdout",
       "text": [
        "\n",
        "1139"
       ]
      },
      {
       "output_type": "stream",
       "stream": "stdout",
       "text": [
        "\n",
        "1140"
       ]
      },
      {
       "output_type": "stream",
       "stream": "stdout",
       "text": [
        "\n",
        "1141"
       ]
      },
      {
       "output_type": "stream",
       "stream": "stdout",
       "text": [
        "\n",
        "1142"
       ]
      },
      {
       "output_type": "stream",
       "stream": "stdout",
       "text": [
        "\n",
        "1143"
       ]
      },
      {
       "output_type": "stream",
       "stream": "stdout",
       "text": [
        "\n",
        "1144"
       ]
      },
      {
       "output_type": "stream",
       "stream": "stdout",
       "text": [
        "\n",
        "1145"
       ]
      },
      {
       "output_type": "stream",
       "stream": "stdout",
       "text": [
        "\n",
        "1146"
       ]
      },
      {
       "output_type": "stream",
       "stream": "stdout",
       "text": [
        "\n",
        "1147"
       ]
      },
      {
       "output_type": "stream",
       "stream": "stdout",
       "text": [
        "\n",
        "1148"
       ]
      },
      {
       "output_type": "stream",
       "stream": "stdout",
       "text": [
        "\n",
        "1149"
       ]
      },
      {
       "output_type": "stream",
       "stream": "stdout",
       "text": [
        "\n",
        "1150"
       ]
      },
      {
       "output_type": "stream",
       "stream": "stdout",
       "text": [
        "\n",
        "1151"
       ]
      },
      {
       "output_type": "stream",
       "stream": "stdout",
       "text": [
        "\n",
        "1152"
       ]
      },
      {
       "output_type": "stream",
       "stream": "stdout",
       "text": [
        "\n",
        "1153"
       ]
      },
      {
       "output_type": "stream",
       "stream": "stdout",
       "text": [
        "\n",
        "1154"
       ]
      },
      {
       "output_type": "stream",
       "stream": "stdout",
       "text": [
        "\n",
        "1155"
       ]
      },
      {
       "output_type": "stream",
       "stream": "stdout",
       "text": [
        "\n",
        "1156"
       ]
      },
      {
       "output_type": "stream",
       "stream": "stdout",
       "text": [
        "\n",
        "1157"
       ]
      },
      {
       "output_type": "stream",
       "stream": "stdout",
       "text": [
        "\n",
        "1158"
       ]
      },
      {
       "output_type": "stream",
       "stream": "stdout",
       "text": [
        "\n",
        "1159"
       ]
      },
      {
       "output_type": "stream",
       "stream": "stdout",
       "text": [
        "\n",
        "1160"
       ]
      },
      {
       "output_type": "stream",
       "stream": "stdout",
       "text": [
        "\n",
        "1161"
       ]
      },
      {
       "output_type": "stream",
       "stream": "stdout",
       "text": [
        "\n",
        "1162"
       ]
      },
      {
       "output_type": "stream",
       "stream": "stdout",
       "text": [
        "\n",
        "1163"
       ]
      },
      {
       "output_type": "stream",
       "stream": "stdout",
       "text": [
        "\n",
        "1164"
       ]
      },
      {
       "output_type": "stream",
       "stream": "stdout",
       "text": [
        "\n",
        "1165"
       ]
      },
      {
       "output_type": "stream",
       "stream": "stdout",
       "text": [
        "\n",
        "1166"
       ]
      },
      {
       "output_type": "stream",
       "stream": "stdout",
       "text": [
        "\n",
        "1167"
       ]
      },
      {
       "output_type": "stream",
       "stream": "stdout",
       "text": [
        "\n",
        "1168"
       ]
      },
      {
       "output_type": "stream",
       "stream": "stdout",
       "text": [
        "\n",
        "1169"
       ]
      },
      {
       "output_type": "stream",
       "stream": "stdout",
       "text": [
        "\n",
        "1170"
       ]
      },
      {
       "output_type": "stream",
       "stream": "stdout",
       "text": [
        "\n",
        "1171"
       ]
      },
      {
       "output_type": "stream",
       "stream": "stdout",
       "text": [
        "\n",
        "1172"
       ]
      },
      {
       "output_type": "stream",
       "stream": "stdout",
       "text": [
        "\n",
        "1173"
       ]
      },
      {
       "output_type": "stream",
       "stream": "stdout",
       "text": [
        "\n",
        "1174"
       ]
      },
      {
       "output_type": "stream",
       "stream": "stdout",
       "text": [
        "\n",
        "1175"
       ]
      },
      {
       "output_type": "stream",
       "stream": "stdout",
       "text": [
        "\n",
        "1176"
       ]
      },
      {
       "output_type": "stream",
       "stream": "stdout",
       "text": [
        "\n",
        "1177"
       ]
      },
      {
       "output_type": "stream",
       "stream": "stdout",
       "text": [
        "\n",
        "1178"
       ]
      },
      {
       "output_type": "stream",
       "stream": "stdout",
       "text": [
        "\n",
        "1179"
       ]
      },
      {
       "output_type": "stream",
       "stream": "stdout",
       "text": [
        "\n",
        "1180"
       ]
      },
      {
       "output_type": "stream",
       "stream": "stdout",
       "text": [
        "\n",
        "1181"
       ]
      },
      {
       "output_type": "stream",
       "stream": "stdout",
       "text": [
        "\n",
        "1182"
       ]
      },
      {
       "output_type": "stream",
       "stream": "stdout",
       "text": [
        "\n",
        "1183"
       ]
      },
      {
       "output_type": "stream",
       "stream": "stdout",
       "text": [
        "\n",
        "1184"
       ]
      },
      {
       "output_type": "stream",
       "stream": "stdout",
       "text": [
        "\n",
        "1185"
       ]
      },
      {
       "output_type": "stream",
       "stream": "stdout",
       "text": [
        "\n",
        "1186"
       ]
      },
      {
       "output_type": "stream",
       "stream": "stdout",
       "text": [
        "\n",
        "1187"
       ]
      },
      {
       "output_type": "stream",
       "stream": "stdout",
       "text": [
        "\n",
        "1188"
       ]
      },
      {
       "output_type": "stream",
       "stream": "stdout",
       "text": [
        "\n",
        "1189"
       ]
      },
      {
       "output_type": "stream",
       "stream": "stdout",
       "text": [
        "\n",
        "1190"
       ]
      },
      {
       "output_type": "stream",
       "stream": "stdout",
       "text": [
        "\n",
        "1191"
       ]
      },
      {
       "output_type": "stream",
       "stream": "stdout",
       "text": [
        "\n",
        "1192"
       ]
      },
      {
       "output_type": "stream",
       "stream": "stdout",
       "text": [
        "\n",
        "1193"
       ]
      },
      {
       "output_type": "stream",
       "stream": "stdout",
       "text": [
        "\n",
        "1194"
       ]
      },
      {
       "output_type": "stream",
       "stream": "stdout",
       "text": [
        "\n",
        "1195"
       ]
      },
      {
       "output_type": "stream",
       "stream": "stdout",
       "text": [
        "\n",
        "1196"
       ]
      },
      {
       "output_type": "stream",
       "stream": "stdout",
       "text": [
        "\n",
        "1197"
       ]
      },
      {
       "output_type": "stream",
       "stream": "stdout",
       "text": [
        "\n",
        "1198"
       ]
      },
      {
       "output_type": "stream",
       "stream": "stdout",
       "text": [
        "\n",
        "1199"
       ]
      },
      {
       "output_type": "stream",
       "stream": "stdout",
       "text": [
        "\n",
        "1200"
       ]
      },
      {
       "output_type": "stream",
       "stream": "stdout",
       "text": [
        "\n",
        "1201"
       ]
      },
      {
       "output_type": "stream",
       "stream": "stdout",
       "text": [
        "\n",
        "1202"
       ]
      },
      {
       "output_type": "stream",
       "stream": "stdout",
       "text": [
        "\n",
        "1203"
       ]
      },
      {
       "output_type": "stream",
       "stream": "stdout",
       "text": [
        "\n",
        "1204"
       ]
      },
      {
       "output_type": "stream",
       "stream": "stdout",
       "text": [
        "\n",
        "1205"
       ]
      },
      {
       "output_type": "stream",
       "stream": "stdout",
       "text": [
        "\n",
        "1206"
       ]
      },
      {
       "output_type": "stream",
       "stream": "stdout",
       "text": [
        "\n",
        "1207"
       ]
      },
      {
       "output_type": "stream",
       "stream": "stdout",
       "text": [
        "\n",
        "1208"
       ]
      },
      {
       "output_type": "stream",
       "stream": "stdout",
       "text": [
        "\n",
        "1209"
       ]
      },
      {
       "output_type": "stream",
       "stream": "stdout",
       "text": [
        "\n",
        "1210"
       ]
      },
      {
       "output_type": "stream",
       "stream": "stdout",
       "text": [
        "\n",
        "1211"
       ]
      },
      {
       "output_type": "stream",
       "stream": "stdout",
       "text": [
        "\n",
        "1212"
       ]
      },
      {
       "output_type": "stream",
       "stream": "stdout",
       "text": [
        "\n",
        "1213"
       ]
      },
      {
       "output_type": "stream",
       "stream": "stdout",
       "text": [
        "\n",
        "1214"
       ]
      },
      {
       "output_type": "stream",
       "stream": "stdout",
       "text": [
        "\n",
        "1215"
       ]
      },
      {
       "output_type": "stream",
       "stream": "stdout",
       "text": [
        "\n",
        "1216"
       ]
      },
      {
       "output_type": "stream",
       "stream": "stdout",
       "text": [
        "\n",
        "1217"
       ]
      },
      {
       "output_type": "stream",
       "stream": "stdout",
       "text": [
        "\n",
        "1218"
       ]
      },
      {
       "output_type": "stream",
       "stream": "stdout",
       "text": [
        "\n",
        "1219"
       ]
      },
      {
       "output_type": "stream",
       "stream": "stdout",
       "text": [
        "\n",
        "1220"
       ]
      },
      {
       "output_type": "stream",
       "stream": "stdout",
       "text": [
        "\n",
        "1221"
       ]
      },
      {
       "output_type": "stream",
       "stream": "stdout",
       "text": [
        "\n",
        "1222"
       ]
      },
      {
       "output_type": "stream",
       "stream": "stdout",
       "text": [
        "\n",
        "1223"
       ]
      },
      {
       "output_type": "stream",
       "stream": "stdout",
       "text": [
        "\n",
        "1224"
       ]
      },
      {
       "output_type": "stream",
       "stream": "stdout",
       "text": [
        "\n",
        "1225"
       ]
      },
      {
       "output_type": "stream",
       "stream": "stdout",
       "text": [
        "\n",
        "1226"
       ]
      },
      {
       "output_type": "stream",
       "stream": "stdout",
       "text": [
        "\n",
        "1227"
       ]
      },
      {
       "output_type": "stream",
       "stream": "stdout",
       "text": [
        "\n",
        "1228"
       ]
      },
      {
       "output_type": "stream",
       "stream": "stdout",
       "text": [
        "\n",
        "1229"
       ]
      },
      {
       "output_type": "stream",
       "stream": "stdout",
       "text": [
        "\n",
        "1230"
       ]
      },
      {
       "output_type": "stream",
       "stream": "stdout",
       "text": [
        "\n",
        "1231"
       ]
      },
      {
       "output_type": "stream",
       "stream": "stdout",
       "text": [
        "\n",
        "1232"
       ]
      },
      {
       "output_type": "stream",
       "stream": "stdout",
       "text": [
        "\n",
        "1233"
       ]
      },
      {
       "output_type": "stream",
       "stream": "stdout",
       "text": [
        "\n",
        "1234"
       ]
      },
      {
       "output_type": "stream",
       "stream": "stdout",
       "text": [
        "\n",
        "1235"
       ]
      },
      {
       "output_type": "stream",
       "stream": "stdout",
       "text": [
        "\n",
        "1236"
       ]
      },
      {
       "output_type": "stream",
       "stream": "stdout",
       "text": [
        "\n",
        "1237"
       ]
      },
      {
       "output_type": "stream",
       "stream": "stdout",
       "text": [
        "\n",
        "1238"
       ]
      },
      {
       "output_type": "stream",
       "stream": "stdout",
       "text": [
        "\n",
        "1239"
       ]
      },
      {
       "output_type": "stream",
       "stream": "stdout",
       "text": [
        "\n",
        "1240"
       ]
      },
      {
       "output_type": "stream",
       "stream": "stdout",
       "text": [
        "\n",
        "1241"
       ]
      },
      {
       "output_type": "stream",
       "stream": "stdout",
       "text": [
        "\n",
        "1242"
       ]
      },
      {
       "output_type": "stream",
       "stream": "stdout",
       "text": [
        "\n",
        "1243"
       ]
      },
      {
       "output_type": "stream",
       "stream": "stdout",
       "text": [
        "\n",
        "1244"
       ]
      },
      {
       "output_type": "stream",
       "stream": "stdout",
       "text": [
        "\n",
        "1245"
       ]
      },
      {
       "output_type": "stream",
       "stream": "stdout",
       "text": [
        "\n",
        "1246"
       ]
      },
      {
       "output_type": "stream",
       "stream": "stdout",
       "text": [
        "\n",
        "1247"
       ]
      },
      {
       "output_type": "stream",
       "stream": "stdout",
       "text": [
        "\n",
        "1248"
       ]
      },
      {
       "output_type": "stream",
       "stream": "stdout",
       "text": [
        "\n",
        "1249"
       ]
      },
      {
       "output_type": "stream",
       "stream": "stdout",
       "text": [
        "\n",
        "1250"
       ]
      },
      {
       "output_type": "stream",
       "stream": "stdout",
       "text": [
        "\n",
        "1251"
       ]
      },
      {
       "output_type": "stream",
       "stream": "stdout",
       "text": [
        "\n",
        "1252"
       ]
      },
      {
       "output_type": "stream",
       "stream": "stdout",
       "text": [
        "\n",
        "1253"
       ]
      },
      {
       "output_type": "stream",
       "stream": "stdout",
       "text": [
        "\n",
        "1254"
       ]
      },
      {
       "output_type": "stream",
       "stream": "stdout",
       "text": [
        "\n",
        "1255"
       ]
      },
      {
       "output_type": "stream",
       "stream": "stdout",
       "text": [
        "\n",
        "1256"
       ]
      },
      {
       "output_type": "stream",
       "stream": "stdout",
       "text": [
        "\n",
        "1257"
       ]
      },
      {
       "output_type": "stream",
       "stream": "stdout",
       "text": [
        "\n",
        "1258"
       ]
      },
      {
       "output_type": "stream",
       "stream": "stdout",
       "text": [
        "\n",
        "1259"
       ]
      },
      {
       "output_type": "stream",
       "stream": "stdout",
       "text": [
        "\n",
        "1260"
       ]
      },
      {
       "output_type": "stream",
       "stream": "stdout",
       "text": [
        "\n",
        "1261"
       ]
      },
      {
       "output_type": "stream",
       "stream": "stdout",
       "text": [
        "\n",
        "1262"
       ]
      },
      {
       "output_type": "stream",
       "stream": "stdout",
       "text": [
        "\n",
        "1263"
       ]
      },
      {
       "output_type": "stream",
       "stream": "stdout",
       "text": [
        "\n",
        "1264"
       ]
      },
      {
       "output_type": "stream",
       "stream": "stdout",
       "text": [
        "\n",
        "1265"
       ]
      },
      {
       "output_type": "stream",
       "stream": "stdout",
       "text": [
        "\n",
        "1266"
       ]
      },
      {
       "output_type": "stream",
       "stream": "stdout",
       "text": [
        "\n",
        "1267"
       ]
      },
      {
       "output_type": "stream",
       "stream": "stdout",
       "text": [
        "\n",
        "1268"
       ]
      },
      {
       "output_type": "stream",
       "stream": "stdout",
       "text": [
        "\n",
        "1269"
       ]
      },
      {
       "output_type": "stream",
       "stream": "stdout",
       "text": [
        "\n",
        "1270"
       ]
      },
      {
       "output_type": "stream",
       "stream": "stdout",
       "text": [
        "\n",
        "1271"
       ]
      },
      {
       "output_type": "stream",
       "stream": "stdout",
       "text": [
        "\n",
        "1272"
       ]
      },
      {
       "output_type": "stream",
       "stream": "stdout",
       "text": [
        "\n",
        "1273"
       ]
      },
      {
       "output_type": "stream",
       "stream": "stdout",
       "text": [
        "\n",
        "1274"
       ]
      },
      {
       "output_type": "stream",
       "stream": "stdout",
       "text": [
        "\n",
        "1275"
       ]
      },
      {
       "output_type": "stream",
       "stream": "stdout",
       "text": [
        "\n",
        "1276"
       ]
      },
      {
       "output_type": "stream",
       "stream": "stdout",
       "text": [
        "\n",
        "1277"
       ]
      },
      {
       "output_type": "stream",
       "stream": "stdout",
       "text": [
        "\n",
        "1278"
       ]
      },
      {
       "output_type": "stream",
       "stream": "stdout",
       "text": [
        "\n",
        "1279"
       ]
      },
      {
       "output_type": "stream",
       "stream": "stdout",
       "text": [
        "\n",
        "1280"
       ]
      },
      {
       "output_type": "stream",
       "stream": "stdout",
       "text": [
        "\n",
        "1281"
       ]
      },
      {
       "output_type": "stream",
       "stream": "stdout",
       "text": [
        "\n",
        "1282"
       ]
      },
      {
       "output_type": "stream",
       "stream": "stdout",
       "text": [
        "\n",
        "1283"
       ]
      },
      {
       "output_type": "stream",
       "stream": "stdout",
       "text": [
        "\n",
        "1284"
       ]
      },
      {
       "output_type": "stream",
       "stream": "stdout",
       "text": [
        "\n",
        "1285"
       ]
      },
      {
       "output_type": "stream",
       "stream": "stdout",
       "text": [
        "\n",
        "1286"
       ]
      },
      {
       "output_type": "stream",
       "stream": "stdout",
       "text": [
        "\n",
        "1287"
       ]
      },
      {
       "output_type": "stream",
       "stream": "stdout",
       "text": [
        "\n",
        "1288"
       ]
      },
      {
       "output_type": "stream",
       "stream": "stdout",
       "text": [
        "\n",
        "1289"
       ]
      },
      {
       "output_type": "stream",
       "stream": "stdout",
       "text": [
        "\n",
        "1290"
       ]
      },
      {
       "output_type": "stream",
       "stream": "stdout",
       "text": [
        "\n",
        "1291"
       ]
      },
      {
       "output_type": "stream",
       "stream": "stdout",
       "text": [
        "\n",
        "1292"
       ]
      },
      {
       "output_type": "stream",
       "stream": "stdout",
       "text": [
        "\n",
        "1293"
       ]
      },
      {
       "output_type": "stream",
       "stream": "stdout",
       "text": [
        "\n",
        "1294"
       ]
      },
      {
       "output_type": "stream",
       "stream": "stdout",
       "text": [
        "\n",
        "1295"
       ]
      },
      {
       "output_type": "stream",
       "stream": "stdout",
       "text": [
        "\n",
        "1296"
       ]
      },
      {
       "output_type": "stream",
       "stream": "stdout",
       "text": [
        "\n",
        "1297"
       ]
      },
      {
       "output_type": "stream",
       "stream": "stdout",
       "text": [
        "\n",
        "1298"
       ]
      },
      {
       "output_type": "stream",
       "stream": "stdout",
       "text": [
        "\n",
        "1299"
       ]
      },
      {
       "output_type": "stream",
       "stream": "stdout",
       "text": [
        "\n",
        "1300"
       ]
      },
      {
       "output_type": "stream",
       "stream": "stdout",
       "text": [
        "\n",
        "1301"
       ]
      },
      {
       "output_type": "stream",
       "stream": "stdout",
       "text": [
        "\n",
        "1302"
       ]
      },
      {
       "output_type": "stream",
       "stream": "stdout",
       "text": [
        "\n",
        "1303"
       ]
      },
      {
       "output_type": "stream",
       "stream": "stdout",
       "text": [
        "\n",
        "1304"
       ]
      },
      {
       "output_type": "stream",
       "stream": "stdout",
       "text": [
        "\n",
        "1305"
       ]
      },
      {
       "output_type": "stream",
       "stream": "stdout",
       "text": [
        "\n",
        "1306"
       ]
      },
      {
       "output_type": "stream",
       "stream": "stdout",
       "text": [
        "\n",
        "1307"
       ]
      },
      {
       "output_type": "stream",
       "stream": "stdout",
       "text": [
        "\n",
        "1308"
       ]
      },
      {
       "output_type": "stream",
       "stream": "stdout",
       "text": [
        "\n",
        "1309"
       ]
      },
      {
       "output_type": "stream",
       "stream": "stdout",
       "text": [
        "\n",
        "1310"
       ]
      },
      {
       "output_type": "stream",
       "stream": "stdout",
       "text": [
        "\n",
        "1311"
       ]
      },
      {
       "output_type": "stream",
       "stream": "stdout",
       "text": [
        "\n",
        "1312"
       ]
      },
      {
       "output_type": "stream",
       "stream": "stdout",
       "text": [
        "\n",
        "1313"
       ]
      },
      {
       "output_type": "stream",
       "stream": "stdout",
       "text": [
        "\n",
        "1314"
       ]
      },
      {
       "output_type": "stream",
       "stream": "stdout",
       "text": [
        "\n",
        "1315"
       ]
      },
      {
       "output_type": "stream",
       "stream": "stdout",
       "text": [
        "\n",
        "1316"
       ]
      },
      {
       "output_type": "stream",
       "stream": "stdout",
       "text": [
        "\n",
        "1317"
       ]
      },
      {
       "output_type": "stream",
       "stream": "stdout",
       "text": [
        "\n",
        "1318"
       ]
      },
      {
       "output_type": "stream",
       "stream": "stdout",
       "text": [
        "\n",
        "1319"
       ]
      },
      {
       "output_type": "stream",
       "stream": "stdout",
       "text": [
        "\n",
        "1320"
       ]
      },
      {
       "output_type": "stream",
       "stream": "stdout",
       "text": [
        "\n",
        "1321"
       ]
      },
      {
       "output_type": "stream",
       "stream": "stdout",
       "text": [
        "\n",
        "1322"
       ]
      },
      {
       "output_type": "stream",
       "stream": "stdout",
       "text": [
        "\n",
        "1323"
       ]
      },
      {
       "output_type": "stream",
       "stream": "stdout",
       "text": [
        "\n",
        "1324"
       ]
      },
      {
       "output_type": "stream",
       "stream": "stdout",
       "text": [
        "\n",
        "1325"
       ]
      },
      {
       "output_type": "stream",
       "stream": "stdout",
       "text": [
        "\n",
        "1326"
       ]
      },
      {
       "output_type": "stream",
       "stream": "stdout",
       "text": [
        "\n",
        "1327"
       ]
      },
      {
       "output_type": "stream",
       "stream": "stdout",
       "text": [
        "\n",
        "1328"
       ]
      },
      {
       "output_type": "stream",
       "stream": "stdout",
       "text": [
        "\n",
        "1329"
       ]
      },
      {
       "output_type": "stream",
       "stream": "stdout",
       "text": [
        "\n",
        "1330"
       ]
      },
      {
       "output_type": "stream",
       "stream": "stdout",
       "text": [
        "\n",
        "1331"
       ]
      },
      {
       "output_type": "stream",
       "stream": "stdout",
       "text": [
        "\n",
        "1332"
       ]
      },
      {
       "output_type": "stream",
       "stream": "stdout",
       "text": [
        "\n",
        "1333"
       ]
      },
      {
       "output_type": "stream",
       "stream": "stdout",
       "text": [
        "\n",
        "1334"
       ]
      },
      {
       "output_type": "stream",
       "stream": "stdout",
       "text": [
        "\n",
        "1335"
       ]
      },
      {
       "output_type": "stream",
       "stream": "stdout",
       "text": [
        "\n",
        "1336"
       ]
      },
      {
       "output_type": "stream",
       "stream": "stdout",
       "text": [
        "\n",
        "1337"
       ]
      },
      {
       "output_type": "stream",
       "stream": "stdout",
       "text": [
        "\n",
        "1338"
       ]
      },
      {
       "output_type": "stream",
       "stream": "stdout",
       "text": [
        "\n",
        "1339"
       ]
      },
      {
       "output_type": "stream",
       "stream": "stdout",
       "text": [
        "\n",
        "1340"
       ]
      },
      {
       "output_type": "stream",
       "stream": "stdout",
       "text": [
        "\n",
        "1341"
       ]
      },
      {
       "output_type": "stream",
       "stream": "stdout",
       "text": [
        "\n",
        "1342"
       ]
      },
      {
       "output_type": "stream",
       "stream": "stdout",
       "text": [
        "\n",
        "1343"
       ]
      },
      {
       "output_type": "stream",
       "stream": "stdout",
       "text": [
        "\n",
        "1344"
       ]
      },
      {
       "output_type": "stream",
       "stream": "stdout",
       "text": [
        "\n",
        "1345"
       ]
      },
      {
       "output_type": "stream",
       "stream": "stdout",
       "text": [
        "\n",
        "1346"
       ]
      },
      {
       "output_type": "stream",
       "stream": "stdout",
       "text": [
        "\n",
        "1347"
       ]
      },
      {
       "output_type": "stream",
       "stream": "stdout",
       "text": [
        "\n",
        "1348"
       ]
      },
      {
       "output_type": "stream",
       "stream": "stdout",
       "text": [
        "\n",
        "1349"
       ]
      },
      {
       "output_type": "stream",
       "stream": "stdout",
       "text": [
        "\n",
        "1350"
       ]
      },
      {
       "output_type": "stream",
       "stream": "stdout",
       "text": [
        "\n",
        "1351"
       ]
      },
      {
       "output_type": "stream",
       "stream": "stdout",
       "text": [
        "\n",
        "1352"
       ]
      },
      {
       "output_type": "stream",
       "stream": "stdout",
       "text": [
        "\n",
        "1353"
       ]
      },
      {
       "output_type": "stream",
       "stream": "stdout",
       "text": [
        "\n",
        "1354"
       ]
      },
      {
       "output_type": "stream",
       "stream": "stdout",
       "text": [
        "\n",
        "1355"
       ]
      },
      {
       "output_type": "stream",
       "stream": "stdout",
       "text": [
        "\n",
        "1356"
       ]
      },
      {
       "output_type": "stream",
       "stream": "stdout",
       "text": [
        "\n",
        "1357"
       ]
      },
      {
       "output_type": "stream",
       "stream": "stdout",
       "text": [
        "\n",
        "1358"
       ]
      },
      {
       "output_type": "stream",
       "stream": "stdout",
       "text": [
        "\n",
        "1359"
       ]
      },
      {
       "output_type": "stream",
       "stream": "stdout",
       "text": [
        "\n",
        "1360"
       ]
      },
      {
       "output_type": "stream",
       "stream": "stdout",
       "text": [
        "\n",
        "1361"
       ]
      },
      {
       "output_type": "stream",
       "stream": "stdout",
       "text": [
        "\n",
        "1362"
       ]
      },
      {
       "output_type": "stream",
       "stream": "stdout",
       "text": [
        "\n",
        "1363"
       ]
      },
      {
       "output_type": "stream",
       "stream": "stdout",
       "text": [
        "\n",
        "1364"
       ]
      },
      {
       "output_type": "stream",
       "stream": "stdout",
       "text": [
        "\n",
        "1365"
       ]
      },
      {
       "output_type": "stream",
       "stream": "stdout",
       "text": [
        "\n",
        "1366"
       ]
      },
      {
       "output_type": "stream",
       "stream": "stdout",
       "text": [
        "\n",
        "1367"
       ]
      },
      {
       "output_type": "stream",
       "stream": "stdout",
       "text": [
        "\n",
        "1368"
       ]
      },
      {
       "output_type": "stream",
       "stream": "stdout",
       "text": [
        "\n",
        "1369"
       ]
      },
      {
       "output_type": "stream",
       "stream": "stdout",
       "text": [
        "\n",
        "1370"
       ]
      },
      {
       "output_type": "stream",
       "stream": "stdout",
       "text": [
        "\n",
        "1371"
       ]
      },
      {
       "output_type": "stream",
       "stream": "stdout",
       "text": [
        "\n",
        "1372"
       ]
      },
      {
       "output_type": "stream",
       "stream": "stdout",
       "text": [
        "\n",
        "1373"
       ]
      },
      {
       "output_type": "stream",
       "stream": "stdout",
       "text": [
        "\n",
        "1374"
       ]
      },
      {
       "output_type": "stream",
       "stream": "stdout",
       "text": [
        "\n",
        "1375"
       ]
      },
      {
       "output_type": "stream",
       "stream": "stdout",
       "text": [
        "\n",
        "1376"
       ]
      },
      {
       "output_type": "stream",
       "stream": "stdout",
       "text": [
        "\n",
        "1377"
       ]
      },
      {
       "output_type": "stream",
       "stream": "stdout",
       "text": [
        "\n",
        "1378"
       ]
      },
      {
       "output_type": "stream",
       "stream": "stdout",
       "text": [
        "\n",
        "1379"
       ]
      },
      {
       "output_type": "stream",
       "stream": "stdout",
       "text": [
        "\n",
        "1380"
       ]
      },
      {
       "output_type": "stream",
       "stream": "stdout",
       "text": [
        "\n",
        "1381"
       ]
      },
      {
       "output_type": "stream",
       "stream": "stdout",
       "text": [
        "\n",
        "1382"
       ]
      },
      {
       "output_type": "stream",
       "stream": "stdout",
       "text": [
        "\n",
        "1383"
       ]
      },
      {
       "output_type": "stream",
       "stream": "stdout",
       "text": [
        "\n",
        "1384"
       ]
      },
      {
       "output_type": "stream",
       "stream": "stdout",
       "text": [
        "\n",
        "1385"
       ]
      },
      {
       "output_type": "stream",
       "stream": "stdout",
       "text": [
        "\n",
        "1386"
       ]
      },
      {
       "output_type": "stream",
       "stream": "stdout",
       "text": [
        "\n",
        "1387"
       ]
      },
      {
       "output_type": "stream",
       "stream": "stdout",
       "text": [
        "\n",
        "1388"
       ]
      },
      {
       "output_type": "stream",
       "stream": "stdout",
       "text": [
        "\n",
        "1389"
       ]
      },
      {
       "output_type": "stream",
       "stream": "stdout",
       "text": [
        "\n",
        "1390"
       ]
      },
      {
       "output_type": "stream",
       "stream": "stdout",
       "text": [
        "\n",
        "1391"
       ]
      },
      {
       "output_type": "stream",
       "stream": "stdout",
       "text": [
        "\n",
        "1392"
       ]
      },
      {
       "output_type": "stream",
       "stream": "stdout",
       "text": [
        "\n",
        "1393"
       ]
      },
      {
       "output_type": "stream",
       "stream": "stdout",
       "text": [
        "\n",
        "1394"
       ]
      },
      {
       "output_type": "stream",
       "stream": "stdout",
       "text": [
        "\n",
        "1395"
       ]
      },
      {
       "output_type": "stream",
       "stream": "stdout",
       "text": [
        "\n",
        "1396"
       ]
      },
      {
       "output_type": "stream",
       "stream": "stdout",
       "text": [
        "\n",
        "1397"
       ]
      },
      {
       "output_type": "stream",
       "stream": "stdout",
       "text": [
        "\n",
        "1398"
       ]
      },
      {
       "output_type": "stream",
       "stream": "stdout",
       "text": [
        "\n",
        "1399"
       ]
      },
      {
       "output_type": "stream",
       "stream": "stdout",
       "text": [
        "\n",
        "1400"
       ]
      },
      {
       "output_type": "stream",
       "stream": "stdout",
       "text": [
        "\n",
        "1401"
       ]
      },
      {
       "output_type": "stream",
       "stream": "stdout",
       "text": [
        "\n",
        "1402"
       ]
      },
      {
       "output_type": "stream",
       "stream": "stdout",
       "text": [
        "\n",
        "1403"
       ]
      },
      {
       "output_type": "stream",
       "stream": "stdout",
       "text": [
        "\n",
        "1404"
       ]
      },
      {
       "output_type": "stream",
       "stream": "stdout",
       "text": [
        "\n",
        "1405"
       ]
      },
      {
       "output_type": "stream",
       "stream": "stdout",
       "text": [
        "\n",
        "1406"
       ]
      },
      {
       "output_type": "stream",
       "stream": "stdout",
       "text": [
        "\n",
        "1407"
       ]
      },
      {
       "output_type": "stream",
       "stream": "stdout",
       "text": [
        "\n",
        "1408"
       ]
      },
      {
       "output_type": "stream",
       "stream": "stdout",
       "text": [
        "\n",
        "1409"
       ]
      },
      {
       "output_type": "stream",
       "stream": "stdout",
       "text": [
        "\n",
        "1410"
       ]
      },
      {
       "output_type": "stream",
       "stream": "stdout",
       "text": [
        "\n",
        "1411"
       ]
      },
      {
       "output_type": "stream",
       "stream": "stdout",
       "text": [
        "\n",
        "1412"
       ]
      },
      {
       "output_type": "stream",
       "stream": "stdout",
       "text": [
        "\n",
        "1413"
       ]
      },
      {
       "output_type": "stream",
       "stream": "stdout",
       "text": [
        "\n",
        "1414"
       ]
      },
      {
       "output_type": "stream",
       "stream": "stdout",
       "text": [
        "\n",
        "1415"
       ]
      },
      {
       "output_type": "stream",
       "stream": "stdout",
       "text": [
        "\n",
        "1416"
       ]
      },
      {
       "output_type": "stream",
       "stream": "stdout",
       "text": [
        "\n",
        "1417"
       ]
      },
      {
       "output_type": "stream",
       "stream": "stdout",
       "text": [
        "\n",
        "1418"
       ]
      },
      {
       "output_type": "stream",
       "stream": "stdout",
       "text": [
        "\n",
        "1419"
       ]
      },
      {
       "output_type": "stream",
       "stream": "stdout",
       "text": [
        "\n",
        "1420"
       ]
      },
      {
       "output_type": "stream",
       "stream": "stdout",
       "text": [
        "\n",
        "1421"
       ]
      },
      {
       "output_type": "stream",
       "stream": "stdout",
       "text": [
        "\n",
        "1422"
       ]
      },
      {
       "output_type": "stream",
       "stream": "stdout",
       "text": [
        "\n",
        "1423"
       ]
      },
      {
       "output_type": "stream",
       "stream": "stdout",
       "text": [
        "\n",
        "1424"
       ]
      },
      {
       "output_type": "stream",
       "stream": "stdout",
       "text": [
        "\n",
        "1425"
       ]
      },
      {
       "output_type": "stream",
       "stream": "stdout",
       "text": [
        "\n",
        "1426"
       ]
      },
      {
       "output_type": "stream",
       "stream": "stdout",
       "text": [
        "\n",
        "1427"
       ]
      },
      {
       "output_type": "stream",
       "stream": "stdout",
       "text": [
        "\n",
        "1428"
       ]
      },
      {
       "output_type": "stream",
       "stream": "stdout",
       "text": [
        "\n",
        "1429"
       ]
      },
      {
       "output_type": "stream",
       "stream": "stdout",
       "text": [
        "\n",
        "1430"
       ]
      },
      {
       "output_type": "stream",
       "stream": "stdout",
       "text": [
        "\n",
        "1431"
       ]
      },
      {
       "output_type": "stream",
       "stream": "stdout",
       "text": [
        "\n",
        "1432"
       ]
      },
      {
       "output_type": "stream",
       "stream": "stdout",
       "text": [
        "\n",
        "1433"
       ]
      },
      {
       "output_type": "stream",
       "stream": "stdout",
       "text": [
        "\n",
        "1434"
       ]
      },
      {
       "output_type": "stream",
       "stream": "stdout",
       "text": [
        "\n",
        "1435"
       ]
      },
      {
       "output_type": "stream",
       "stream": "stdout",
       "text": [
        "\n",
        "1436"
       ]
      },
      {
       "output_type": "stream",
       "stream": "stdout",
       "text": [
        "\n",
        "1437"
       ]
      },
      {
       "output_type": "stream",
       "stream": "stdout",
       "text": [
        "\n",
        "1438"
       ]
      },
      {
       "output_type": "stream",
       "stream": "stdout",
       "text": [
        "\n",
        "1439"
       ]
      },
      {
       "output_type": "stream",
       "stream": "stdout",
       "text": [
        "\n",
        "1440"
       ]
      },
      {
       "output_type": "stream",
       "stream": "stdout",
       "text": [
        "\n",
        "1441"
       ]
      },
      {
       "output_type": "stream",
       "stream": "stdout",
       "text": [
        "\n",
        "1442"
       ]
      },
      {
       "output_type": "stream",
       "stream": "stdout",
       "text": [
        "\n",
        "1443"
       ]
      },
      {
       "output_type": "stream",
       "stream": "stdout",
       "text": [
        "\n",
        "1444"
       ]
      },
      {
       "output_type": "stream",
       "stream": "stdout",
       "text": [
        "\n",
        "1445"
       ]
      },
      {
       "output_type": "stream",
       "stream": "stdout",
       "text": [
        "\n",
        "1446"
       ]
      },
      {
       "output_type": "stream",
       "stream": "stdout",
       "text": [
        "\n",
        "1447"
       ]
      },
      {
       "output_type": "stream",
       "stream": "stdout",
       "text": [
        "\n",
        "1448"
       ]
      },
      {
       "output_type": "stream",
       "stream": "stdout",
       "text": [
        "\n",
        "1449"
       ]
      },
      {
       "output_type": "stream",
       "stream": "stdout",
       "text": [
        "\n",
        "1450"
       ]
      },
      {
       "output_type": "stream",
       "stream": "stdout",
       "text": [
        "\n",
        "1451"
       ]
      },
      {
       "output_type": "stream",
       "stream": "stdout",
       "text": [
        "\n",
        "1452"
       ]
      },
      {
       "output_type": "stream",
       "stream": "stdout",
       "text": [
        "\n",
        "1453"
       ]
      },
      {
       "output_type": "stream",
       "stream": "stdout",
       "text": [
        "\n",
        "1454"
       ]
      },
      {
       "output_type": "stream",
       "stream": "stdout",
       "text": [
        "\n",
        "1455"
       ]
      },
      {
       "output_type": "stream",
       "stream": "stdout",
       "text": [
        "\n",
        "1456"
       ]
      },
      {
       "output_type": "stream",
       "stream": "stdout",
       "text": [
        "\n",
        "1457"
       ]
      },
      {
       "output_type": "stream",
       "stream": "stdout",
       "text": [
        "\n",
        "1458"
       ]
      },
      {
       "output_type": "stream",
       "stream": "stdout",
       "text": [
        "\n",
        "1459"
       ]
      },
      {
       "output_type": "stream",
       "stream": "stdout",
       "text": [
        "\n",
        "1460"
       ]
      },
      {
       "output_type": "stream",
       "stream": "stdout",
       "text": [
        "\n",
        "1461"
       ]
      },
      {
       "output_type": "stream",
       "stream": "stdout",
       "text": [
        "\n",
        "1462"
       ]
      },
      {
       "output_type": "stream",
       "stream": "stdout",
       "text": [
        "\n",
        "1463"
       ]
      },
      {
       "output_type": "stream",
       "stream": "stdout",
       "text": [
        "\n",
        "1464"
       ]
      },
      {
       "output_type": "stream",
       "stream": "stdout",
       "text": [
        "\n",
        "1465"
       ]
      },
      {
       "output_type": "stream",
       "stream": "stdout",
       "text": [
        "\n",
        "1466"
       ]
      },
      {
       "output_type": "stream",
       "stream": "stdout",
       "text": [
        "\n",
        "1467"
       ]
      },
      {
       "output_type": "stream",
       "stream": "stdout",
       "text": [
        "\n",
        "1468"
       ]
      },
      {
       "output_type": "stream",
       "stream": "stdout",
       "text": [
        "\n",
        "1469"
       ]
      },
      {
       "output_type": "stream",
       "stream": "stdout",
       "text": [
        "\n",
        "1470"
       ]
      },
      {
       "output_type": "stream",
       "stream": "stdout",
       "text": [
        "\n",
        "1471"
       ]
      },
      {
       "output_type": "stream",
       "stream": "stdout",
       "text": [
        "\n",
        "1472"
       ]
      },
      {
       "output_type": "stream",
       "stream": "stdout",
       "text": [
        "\n",
        "1473"
       ]
      },
      {
       "output_type": "stream",
       "stream": "stdout",
       "text": [
        "\n",
        "1474"
       ]
      },
      {
       "output_type": "stream",
       "stream": "stdout",
       "text": [
        "\n",
        "1475"
       ]
      },
      {
       "output_type": "stream",
       "stream": "stdout",
       "text": [
        "\n",
        "1476"
       ]
      },
      {
       "output_type": "stream",
       "stream": "stdout",
       "text": [
        "\n",
        "1477"
       ]
      },
      {
       "output_type": "stream",
       "stream": "stdout",
       "text": [
        "\n",
        "1478"
       ]
      },
      {
       "output_type": "stream",
       "stream": "stdout",
       "text": [
        "\n",
        "1479"
       ]
      },
      {
       "output_type": "stream",
       "stream": "stdout",
       "text": [
        "\n",
        "1480"
       ]
      },
      {
       "output_type": "stream",
       "stream": "stdout",
       "text": [
        "\n",
        "1481"
       ]
      },
      {
       "output_type": "stream",
       "stream": "stdout",
       "text": [
        "\n",
        "1482"
       ]
      },
      {
       "output_type": "stream",
       "stream": "stdout",
       "text": [
        "\n",
        "1483"
       ]
      },
      {
       "output_type": "stream",
       "stream": "stdout",
       "text": [
        "\n",
        "1484"
       ]
      },
      {
       "output_type": "stream",
       "stream": "stdout",
       "text": [
        "\n",
        "1485"
       ]
      },
      {
       "output_type": "stream",
       "stream": "stdout",
       "text": [
        "\n",
        "1486"
       ]
      },
      {
       "output_type": "stream",
       "stream": "stdout",
       "text": [
        "\n",
        "1487"
       ]
      },
      {
       "output_type": "stream",
       "stream": "stdout",
       "text": [
        "\n",
        "1488"
       ]
      },
      {
       "output_type": "stream",
       "stream": "stdout",
       "text": [
        "\n",
        "1489"
       ]
      },
      {
       "output_type": "stream",
       "stream": "stdout",
       "text": [
        "\n",
        "1490"
       ]
      },
      {
       "output_type": "stream",
       "stream": "stdout",
       "text": [
        "\n",
        "1491"
       ]
      },
      {
       "output_type": "stream",
       "stream": "stdout",
       "text": [
        "\n",
        "1492"
       ]
      },
      {
       "output_type": "stream",
       "stream": "stdout",
       "text": [
        "\n",
        "1493"
       ]
      },
      {
       "output_type": "stream",
       "stream": "stdout",
       "text": [
        "\n",
        "1494"
       ]
      },
      {
       "output_type": "stream",
       "stream": "stdout",
       "text": [
        "\n",
        "1495"
       ]
      },
      {
       "output_type": "stream",
       "stream": "stdout",
       "text": [
        "\n",
        "1496"
       ]
      },
      {
       "output_type": "stream",
       "stream": "stdout",
       "text": [
        "\n",
        "1497"
       ]
      },
      {
       "output_type": "stream",
       "stream": "stdout",
       "text": [
        "\n",
        "1498"
       ]
      },
      {
       "output_type": "stream",
       "stream": "stdout",
       "text": [
        "\n",
        "1499"
       ]
      },
      {
       "output_type": "stream",
       "stream": "stdout",
       "text": [
        "\n",
        "1500"
       ]
      },
      {
       "output_type": "stream",
       "stream": "stdout",
       "text": [
        "\n",
        "1501"
       ]
      },
      {
       "output_type": "stream",
       "stream": "stdout",
       "text": [
        "\n",
        "1502"
       ]
      },
      {
       "output_type": "stream",
       "stream": "stdout",
       "text": [
        "\n",
        "1503"
       ]
      },
      {
       "output_type": "stream",
       "stream": "stdout",
       "text": [
        "\n",
        "1504"
       ]
      },
      {
       "output_type": "stream",
       "stream": "stdout",
       "text": [
        "\n",
        "1505"
       ]
      },
      {
       "output_type": "stream",
       "stream": "stdout",
       "text": [
        "\n",
        "1506"
       ]
      },
      {
       "output_type": "stream",
       "stream": "stdout",
       "text": [
        "\n",
        "1507"
       ]
      },
      {
       "output_type": "stream",
       "stream": "stdout",
       "text": [
        "\n",
        "1508"
       ]
      },
      {
       "output_type": "stream",
       "stream": "stdout",
       "text": [
        "\n",
        "1509"
       ]
      },
      {
       "output_type": "stream",
       "stream": "stdout",
       "text": [
        "\n",
        "1510"
       ]
      },
      {
       "output_type": "stream",
       "stream": "stdout",
       "text": [
        "\n",
        "1511"
       ]
      },
      {
       "output_type": "stream",
       "stream": "stdout",
       "text": [
        "\n",
        "1512"
       ]
      },
      {
       "output_type": "stream",
       "stream": "stdout",
       "text": [
        "\n",
        "1513"
       ]
      },
      {
       "output_type": "stream",
       "stream": "stdout",
       "text": [
        "\n",
        "1514"
       ]
      },
      {
       "output_type": "stream",
       "stream": "stdout",
       "text": [
        "\n",
        "1515"
       ]
      },
      {
       "output_type": "stream",
       "stream": "stdout",
       "text": [
        "\n",
        "1516"
       ]
      },
      {
       "output_type": "stream",
       "stream": "stdout",
       "text": [
        "\n",
        "1517"
       ]
      },
      {
       "output_type": "stream",
       "stream": "stdout",
       "text": [
        "\n",
        "1518"
       ]
      },
      {
       "output_type": "stream",
       "stream": "stdout",
       "text": [
        "\n",
        "1519"
       ]
      },
      {
       "output_type": "stream",
       "stream": "stdout",
       "text": [
        "\n",
        "1520"
       ]
      },
      {
       "output_type": "stream",
       "stream": "stdout",
       "text": [
        "\n",
        "1521"
       ]
      },
      {
       "output_type": "stream",
       "stream": "stdout",
       "text": [
        "\n",
        "1522"
       ]
      },
      {
       "output_type": "stream",
       "stream": "stdout",
       "text": [
        "\n",
        "1523"
       ]
      },
      {
       "output_type": "stream",
       "stream": "stdout",
       "text": [
        "\n",
        "1524"
       ]
      },
      {
       "output_type": "stream",
       "stream": "stdout",
       "text": [
        "\n",
        "1525"
       ]
      },
      {
       "output_type": "stream",
       "stream": "stdout",
       "text": [
        "\n",
        "1526"
       ]
      },
      {
       "output_type": "stream",
       "stream": "stdout",
       "text": [
        "\n",
        "1527"
       ]
      },
      {
       "output_type": "stream",
       "stream": "stdout",
       "text": [
        "\n",
        "1528"
       ]
      },
      {
       "output_type": "stream",
       "stream": "stdout",
       "text": [
        "\n",
        "1529"
       ]
      },
      {
       "output_type": "stream",
       "stream": "stdout",
       "text": [
        "\n",
        "1530"
       ]
      },
      {
       "output_type": "stream",
       "stream": "stdout",
       "text": [
        "\n",
        "1531"
       ]
      },
      {
       "output_type": "stream",
       "stream": "stdout",
       "text": [
        "\n",
        "1532"
       ]
      },
      {
       "output_type": "stream",
       "stream": "stdout",
       "text": [
        "\n",
        "1533"
       ]
      },
      {
       "output_type": "stream",
       "stream": "stdout",
       "text": [
        "\n",
        "1534"
       ]
      },
      {
       "output_type": "stream",
       "stream": "stdout",
       "text": [
        "\n",
        "1535"
       ]
      },
      {
       "output_type": "stream",
       "stream": "stdout",
       "text": [
        "\n",
        "1536"
       ]
      },
      {
       "output_type": "stream",
       "stream": "stdout",
       "text": [
        "\n",
        "1537"
       ]
      },
      {
       "output_type": "stream",
       "stream": "stdout",
       "text": [
        "\n",
        "1538"
       ]
      },
      {
       "output_type": "stream",
       "stream": "stdout",
       "text": [
        "\n",
        "1539"
       ]
      },
      {
       "output_type": "stream",
       "stream": "stdout",
       "text": [
        "\n",
        "1540"
       ]
      },
      {
       "output_type": "stream",
       "stream": "stdout",
       "text": [
        "\n",
        "1541"
       ]
      },
      {
       "output_type": "stream",
       "stream": "stdout",
       "text": [
        "\n",
        "1542"
       ]
      },
      {
       "output_type": "stream",
       "stream": "stdout",
       "text": [
        "\n",
        "1543"
       ]
      },
      {
       "output_type": "stream",
       "stream": "stdout",
       "text": [
        "\n",
        "1544"
       ]
      },
      {
       "output_type": "stream",
       "stream": "stdout",
       "text": [
        "\n",
        "1545"
       ]
      },
      {
       "output_type": "stream",
       "stream": "stdout",
       "text": [
        "\n",
        "1546"
       ]
      },
      {
       "output_type": "stream",
       "stream": "stdout",
       "text": [
        "\n",
        "1547"
       ]
      },
      {
       "output_type": "stream",
       "stream": "stdout",
       "text": [
        "\n",
        "1548"
       ]
      },
      {
       "output_type": "stream",
       "stream": "stdout",
       "text": [
        "\n",
        "1549"
       ]
      },
      {
       "output_type": "stream",
       "stream": "stdout",
       "text": [
        "\n",
        "1550"
       ]
      },
      {
       "output_type": "stream",
       "stream": "stdout",
       "text": [
        "\n",
        "1551"
       ]
      },
      {
       "output_type": "stream",
       "stream": "stdout",
       "text": [
        "\n",
        "1552"
       ]
      },
      {
       "output_type": "stream",
       "stream": "stdout",
       "text": [
        "\n",
        "1553"
       ]
      },
      {
       "output_type": "stream",
       "stream": "stdout",
       "text": [
        "\n",
        "1554"
       ]
      },
      {
       "output_type": "stream",
       "stream": "stdout",
       "text": [
        "\n",
        "1555"
       ]
      },
      {
       "output_type": "stream",
       "stream": "stdout",
       "text": [
        "\n",
        "1556"
       ]
      },
      {
       "output_type": "stream",
       "stream": "stdout",
       "text": [
        "\n",
        "1557"
       ]
      },
      {
       "output_type": "stream",
       "stream": "stdout",
       "text": [
        "\n",
        "1558"
       ]
      },
      {
       "output_type": "stream",
       "stream": "stdout",
       "text": [
        "\n",
        "1559"
       ]
      },
      {
       "output_type": "stream",
       "stream": "stdout",
       "text": [
        "\n",
        "1560"
       ]
      },
      {
       "output_type": "stream",
       "stream": "stdout",
       "text": [
        "\n",
        "1561"
       ]
      },
      {
       "output_type": "stream",
       "stream": "stdout",
       "text": [
        "\n",
        "1562"
       ]
      },
      {
       "output_type": "stream",
       "stream": "stdout",
       "text": [
        "\n",
        "1563"
       ]
      },
      {
       "output_type": "stream",
       "stream": "stdout",
       "text": [
        "\n",
        "1564"
       ]
      },
      {
       "output_type": "stream",
       "stream": "stdout",
       "text": [
        "\n",
        "1565"
       ]
      },
      {
       "output_type": "stream",
       "stream": "stdout",
       "text": [
        "\n",
        "1566"
       ]
      },
      {
       "output_type": "stream",
       "stream": "stdout",
       "text": [
        "\n",
        "1567"
       ]
      },
      {
       "output_type": "stream",
       "stream": "stdout",
       "text": [
        "\n",
        "1568"
       ]
      },
      {
       "output_type": "stream",
       "stream": "stdout",
       "text": [
        "\n",
        "1569"
       ]
      },
      {
       "output_type": "stream",
       "stream": "stdout",
       "text": [
        "\n",
        "1570"
       ]
      },
      {
       "output_type": "stream",
       "stream": "stdout",
       "text": [
        "\n",
        "1571"
       ]
      },
      {
       "output_type": "stream",
       "stream": "stdout",
       "text": [
        "\n",
        "1572"
       ]
      },
      {
       "output_type": "stream",
       "stream": "stdout",
       "text": [
        "\n",
        "1573"
       ]
      },
      {
       "output_type": "stream",
       "stream": "stdout",
       "text": [
        "\n",
        "1574"
       ]
      },
      {
       "output_type": "stream",
       "stream": "stdout",
       "text": [
        "\n",
        "1575"
       ]
      },
      {
       "output_type": "stream",
       "stream": "stdout",
       "text": [
        "\n",
        "1576"
       ]
      },
      {
       "output_type": "stream",
       "stream": "stdout",
       "text": [
        "\n",
        "1577"
       ]
      },
      {
       "output_type": "stream",
       "stream": "stdout",
       "text": [
        "\n",
        "1578"
       ]
      },
      {
       "output_type": "stream",
       "stream": "stdout",
       "text": [
        "\n",
        "1579"
       ]
      },
      {
       "output_type": "stream",
       "stream": "stdout",
       "text": [
        "\n",
        "1580"
       ]
      },
      {
       "output_type": "stream",
       "stream": "stdout",
       "text": [
        "\n",
        "1581"
       ]
      },
      {
       "output_type": "stream",
       "stream": "stdout",
       "text": [
        "\n",
        "1582"
       ]
      },
      {
       "output_type": "stream",
       "stream": "stdout",
       "text": [
        "\n",
        "1583"
       ]
      },
      {
       "output_type": "stream",
       "stream": "stdout",
       "text": [
        "\n",
        "1584"
       ]
      },
      {
       "output_type": "stream",
       "stream": "stdout",
       "text": [
        "\n",
        "1585"
       ]
      },
      {
       "output_type": "stream",
       "stream": "stdout",
       "text": [
        "\n",
        "1586"
       ]
      },
      {
       "output_type": "stream",
       "stream": "stdout",
       "text": [
        "\n",
        "1587"
       ]
      },
      {
       "output_type": "stream",
       "stream": "stdout",
       "text": [
        "\n",
        "1588"
       ]
      },
      {
       "output_type": "stream",
       "stream": "stdout",
       "text": [
        "\n",
        "1589"
       ]
      },
      {
       "output_type": "stream",
       "stream": "stdout",
       "text": [
        "\n",
        "1590"
       ]
      },
      {
       "output_type": "stream",
       "stream": "stdout",
       "text": [
        "\n",
        "1591"
       ]
      },
      {
       "output_type": "stream",
       "stream": "stdout",
       "text": [
        "\n",
        "1592"
       ]
      },
      {
       "output_type": "stream",
       "stream": "stdout",
       "text": [
        "\n",
        "1593"
       ]
      },
      {
       "output_type": "stream",
       "stream": "stdout",
       "text": [
        "\n",
        "1594"
       ]
      },
      {
       "output_type": "stream",
       "stream": "stdout",
       "text": [
        "\n",
        "1595"
       ]
      },
      {
       "output_type": "stream",
       "stream": "stdout",
       "text": [
        "\n",
        "1596"
       ]
      },
      {
       "output_type": "stream",
       "stream": "stdout",
       "text": [
        "\n",
        "1597"
       ]
      },
      {
       "output_type": "stream",
       "stream": "stdout",
       "text": [
        "\n",
        "1598"
       ]
      },
      {
       "output_type": "stream",
       "stream": "stdout",
       "text": [
        "\n",
        "1599"
       ]
      },
      {
       "output_type": "stream",
       "stream": "stdout",
       "text": [
        "\n",
        "1600"
       ]
      },
      {
       "output_type": "stream",
       "stream": "stdout",
       "text": [
        "\n",
        "1601"
       ]
      },
      {
       "output_type": "stream",
       "stream": "stdout",
       "text": [
        "\n",
        "1602"
       ]
      },
      {
       "output_type": "stream",
       "stream": "stdout",
       "text": [
        "\n",
        "1603"
       ]
      },
      {
       "output_type": "stream",
       "stream": "stdout",
       "text": [
        "\n",
        "1604"
       ]
      },
      {
       "output_type": "stream",
       "stream": "stdout",
       "text": [
        "\n",
        "1605"
       ]
      },
      {
       "output_type": "stream",
       "stream": "stdout",
       "text": [
        "\n",
        "1606"
       ]
      },
      {
       "output_type": "stream",
       "stream": "stdout",
       "text": [
        "\n",
        "1607"
       ]
      },
      {
       "output_type": "stream",
       "stream": "stdout",
       "text": [
        "\n",
        "1608"
       ]
      },
      {
       "output_type": "stream",
       "stream": "stdout",
       "text": [
        "\n",
        "1609"
       ]
      },
      {
       "output_type": "stream",
       "stream": "stdout",
       "text": [
        "\n",
        "1610"
       ]
      },
      {
       "output_type": "stream",
       "stream": "stdout",
       "text": [
        "\n",
        "1611"
       ]
      },
      {
       "output_type": "stream",
       "stream": "stdout",
       "text": [
        "\n",
        "1612"
       ]
      },
      {
       "output_type": "stream",
       "stream": "stdout",
       "text": [
        "\n",
        "1613"
       ]
      },
      {
       "output_type": "stream",
       "stream": "stdout",
       "text": [
        "\n",
        "1614"
       ]
      },
      {
       "output_type": "stream",
       "stream": "stdout",
       "text": [
        "\n",
        "1615"
       ]
      },
      {
       "output_type": "stream",
       "stream": "stdout",
       "text": [
        "\n",
        "1616"
       ]
      },
      {
       "output_type": "stream",
       "stream": "stdout",
       "text": [
        "\n",
        "1617"
       ]
      },
      {
       "output_type": "stream",
       "stream": "stdout",
       "text": [
        "\n",
        "1618"
       ]
      },
      {
       "output_type": "stream",
       "stream": "stdout",
       "text": [
        "\n",
        "1619"
       ]
      },
      {
       "output_type": "stream",
       "stream": "stdout",
       "text": [
        "\n",
        "1620"
       ]
      },
      {
       "output_type": "stream",
       "stream": "stdout",
       "text": [
        "\n",
        "1621"
       ]
      },
      {
       "output_type": "stream",
       "stream": "stdout",
       "text": [
        "\n",
        "1622"
       ]
      },
      {
       "output_type": "stream",
       "stream": "stdout",
       "text": [
        "\n",
        "1623"
       ]
      },
      {
       "output_type": "stream",
       "stream": "stdout",
       "text": [
        "\n"
       ]
      }
     ],
     "prompt_number": 20
    },
    {
     "cell_type": "code",
     "collapsed": false,
     "input": [
      "d[0]"
     ],
     "language": "python",
     "metadata": {},
     "outputs": [
      {
       "metadata": {},
       "output_type": "pyout",
       "prompt_number": 18,
       "text": [
        "u'zz_zz\\x00'"
       ]
      }
     ],
     "prompt_number": 18
    },
    {
     "cell_type": "code",
     "collapsed": false,
     "input": [
      "k = 256\n",
      "n_sample = k * 500\n",
      " \n",
      "# choose n_sample descriptors at random\n",
      "sample_indices = np.random.choice(np.vstack(daisy_features).shape[0], n_sample)\n",
      "sample = np.vstack(daisy_features)[sample_indices]\n",
      " \n",
      "# until now sample was in uint8. Convert to float32\n",
      "sample = sample.astype('float32')\n",
      " \n",
      "# compute mean and covariance matrix for the PCA\n",
      "mean = sample.mean(axis = 0)\n",
      "sample = sample - mean\n",
      "cov = np.dot(sample.T, sample)\n",
      " \n",
      "# compute PCA matrix and keep only 64 dimensions\n",
      "eigvals, eigvecs = np.linalg.eig(cov)\n",
      "perm = eigvals.argsort()                   # sort by increasing eigenvalue\n",
      "pca_transform = eigvecs[:, perm[64:128]]   # eigenvectors for the 64 last eigenvalues\n",
      " \n",
      "# transform sample with PCA (note that numpy imposes line-vectors,\n",
      "# so we right-multiply the vectors)\n",
      "sample = np.dot(sample, pca_transform)\n",
      " \n",
      "# train GMM\n",
      "gmm = ynumpy.gmm_learn(sample, k)"
     ],
     "language": "python",
     "metadata": {},
     "outputs": [],
     "prompt_number": 22
    },
    {
     "cell_type": "code",
     "collapsed": false,
     "input": [
      "image_fvs = []\n",
      "for image_desc in daisy_features:\n",
      "   # apply the PCA to the image descriptor\n",
      "   image_desc = image_desc.astype('float32')\n",
      "   image_desc = np.dot(image_desc - mean, pca_transform)\n",
      "   # compute the Fisher vector, using only the derivative w.r.t mu\n",
      "   fv = ynumpy.fisher(gmm, image_desc, include = 'mu')\n",
      "   image_fvs.append(fv)\n",
      "\n",
      "# make one matrix with all FVs\n",
      "image_fvs = np.vstack(image_fvs)\n",
      "\n",
      "# normalizations are done on all descriptors at once\n",
      "\n",
      "# power-normalization\n",
      "image_fvs = np.sign(image_fvs) * np.abs(image_fvs) ** 0.5\n",
      "\n",
      "# L2 normalize\n",
      "norms = np.sqrt(np.sum(image_fvs ** 2, 1))\n",
      "image_fvs /= norms.reshape(-1, 1)\n",
      "\n",
      "# handle images with 0 local descriptor (100 = far away from \"normal\" images)\n",
      "image_fvs[np.isnan(image_fvs)] = 100"
     ],
     "language": "python",
     "metadata": {},
     "outputs": [],
     "prompt_number": 26
    },
    {
     "cell_type": "code",
     "collapsed": false,
     "input": [
      "#pickle.dump(daisy_features,open('daisy_features','w'))"
     ],
     "language": "python",
     "metadata": {},
     "outputs": [],
     "prompt_number": 27
    },
    {
     "cell_type": "code",
     "collapsed": false,
     "input": [
      "mx = 0\n",
      "for x in lbp_features:\n",
      "    print x.shape\n",
      "    v = np.max(x)\n",
      "    if v > mx:\n",
      "        mx = v\n",
      "print mx"
     ],
     "language": "python",
     "metadata": {},
     "outputs": [
      {
       "output_type": "stream",
       "stream": "stdout",
       "text": [
        "(129, 129)\n",
        "(90, 90)\n",
        "(125, 125)\n",
        "(108, 108)\n",
        "(90, 90)\n",
        "(108, 108)\n",
        "(108, 108)\n",
        "(108, 108)\n",
        "(90, 90)\n",
        "(108, 108)\n",
        "(90, 90)\n",
        "(108, 108)\n",
        "(90, 90)\n",
        "(108, 108)\n",
        "(108, 108)\n",
        "(108, 108)\n",
        "(108, 108)\n",
        "(90, 90)\n",
        "(90, 90)\n",
        "(90, 90)\n",
        "(108, 107)\n",
        "(90, 90)\n",
        "(108, 108)\n",
        "(108, 108)\n",
        "(90, 90)\n",
        "(108, 108)\n",
        "(108, 108)\n",
        "(90, 90)\n",
        "(108, 108)\n",
        "(90, 90)\n",
        "(108, 108)\n",
        "(108, 108)\n",
        "(90, 90)\n",
        "(90, 90)\n",
        "(90, 90)\n",
        "(90, 90)\n",
        "(90, 90)\n",
        "(108, 108)\n",
        "(108, 108)\n",
        "(108, 108)\n",
        "(108, 108)\n",
        "(129, 129)\n",
        "(108, 108)\n",
        "(108, 108)\n",
        "(108, 108)\n",
        "(90, 90)\n",
        "(108, 108)\n",
        "(108, 108)\n",
        "(108, 108)\n",
        "(108, 108)\n",
        "(108, 108)\n",
        "(108, 108)\n",
        "(108, 108)\n",
        "(108, 108)\n",
        "(108, 108)\n",
        "(108, 108)\n",
        "(108, 108)\n",
        "(90, 90)\n",
        "(90, 90)\n",
        "(108, 108)\n",
        "(108, 108)\n",
        "(108, 108)\n",
        "(108, 108)\n",
        "(90, 90)\n",
        "(129, 129)\n",
        "(108, 108)\n",
        "(108, 108)\n",
        "(90, 90)\n",
        "(90, 90)\n",
        "(108, 108)\n",
        "(108, 108)\n",
        "(108, 108)\n",
        "(90, 90)\n",
        "(75, 75)\n",
        "(90, 90)\n",
        "(108, 108)\n",
        "(108, 108)\n",
        "(90, 90)\n",
        "(108, 108)\n",
        "(90, 90)\n",
        "(108, 108)\n",
        "(108, 108)\n",
        "(108, 108)\n",
        "(129, 129)\n",
        "(108, 108)\n",
        "(90, 90)\n",
        "(108, 108)\n",
        "(90, 90)\n",
        "(108, 108)\n",
        "(108, 108)\n",
        "(108, 108)\n",
        "(108, 108)\n",
        "(90, 90)\n",
        "(108, 108)\n",
        "(90, 90)\n",
        "(108, 108)\n",
        "(108, 108)\n",
        "(90, 90)\n",
        "(90, 90)\n",
        "(90, 90)\n",
        "(108, 108)\n",
        "(108, 108)\n",
        "(108, 108)\n",
        "(108, 108)\n",
        "(90, 90)\n",
        "(108, 108)\n",
        "(90, 90)\n",
        "(108, 108)\n",
        "(90, 90)\n",
        "(90, 90)\n",
        "(108, 108)\n",
        "(108, 108)\n",
        "(90, 90)\n",
        "(108, 108)\n",
        "(90, 90)\n",
        "(90, 90)\n",
        "(90, 90)\n",
        "(108, 108)\n",
        "(108, 108)\n",
        "(108, 108)\n",
        "(90, 90)\n",
        "(108, 108)\n",
        "(90, 90)\n",
        "(108, 108)\n",
        "(129, 129)\n",
        "(108, 108)\n",
        "(108, 108)\n",
        "(108, 108)\n",
        "(108, 108)\n",
        "(108, 108)\n",
        "(108, 108)\n",
        "(90, 90)\n",
        "(108, 108)\n",
        "(108, 108)\n",
        "(90, 90)\n",
        "(90, 90)\n",
        "(108, 108)\n",
        "(108, 108)\n",
        "(108, 108)\n",
        "(108, 108)\n",
        "(108, 108)\n",
        "(108, 108)\n",
        "(108, 108)\n",
        "(108, 108)\n",
        "(108, 108)\n",
        "(108, 108)\n",
        "(108, 108)\n",
        "(90, 90)\n",
        "(108, 108)\n",
        "(108, 108)\n",
        "(108, 108)\n",
        "(108, 108)\n",
        "(108, 108)\n",
        "(90, 90)\n",
        "(108, 108)\n",
        "(108, 108)\n",
        "(108, 108)\n",
        "(90, 90)\n",
        "(108, 108)\n",
        "(108, 108)\n",
        "(108, 108)\n",
        "(90, 90)\n",
        "(129, 129)\n",
        "(108, 108)\n",
        "(108, 108)\n",
        "(108, 108)\n",
        "(108, 108)\n",
        "(108, 108)\n",
        "(108, 108)\n",
        "(108, 108)\n",
        "(108, 108)\n",
        "(108, 108)\n",
        "(108, 108)\n",
        "(108, 108)\n",
        "(108, 108)\n",
        "(108, 108)\n",
        "(129, 129)\n",
        "(90, 90)\n",
        "(108, 108)\n",
        "(90, 90)\n",
        "(108, 108)\n",
        "(108, 108)\n",
        "(108, 108)\n",
        "(108, 108)\n",
        "(108, 108)\n",
        "(108, 108)\n",
        "(108, 108)\n",
        "(108, 108)\n",
        "(129, 129)\n",
        "(108, 108)\n",
        "(90, 90)\n",
        "(129, 129)\n",
        "(108, 108)\n",
        "(90, 90)\n",
        "(90, 90)\n",
        "(90, 90)\n",
        "(90, 90)\n",
        "(90, 90)\n",
        "(90, 90)\n",
        "(108, 108)\n",
        "(108, 108)\n",
        "(108, 108)\n",
        "(108, 108)\n",
        "(74, 75)\n",
        "(108, 108)\n",
        "(108, 108)\n",
        "(108, 108)\n",
        "(90, 90)\n",
        "(108, 108)\n",
        "(108, 108)\n",
        "(90, 90)\n",
        "(108, 108)\n",
        "(108, 108)\n",
        "(108, 108)\n",
        "(108, 108)\n",
        "(108, 108)\n",
        "(90, 90)\n",
        "(90, 90)\n",
        "(108, 108)\n",
        "(108, 108)\n",
        "(108, 108)\n",
        "(90, 90)\n",
        "(108, 108)\n",
        "(108, 108)\n",
        "(108, 108)\n",
        "(108, 108)\n",
        "(108, 108)\n",
        "(90, 90)\n",
        "(108, 108)\n",
        "(90, 90)\n",
        "(108, 108)\n",
        "(90, 90)\n",
        "(108, 108)\n",
        "(108, 108)\n",
        "(108, 108)\n",
        "(108, 108)\n",
        "(108, 108)\n",
        "(108, 108)\n",
        "(90, 90)\n",
        "(108, 108)\n",
        "(108, 108)\n",
        "(108, 108)\n",
        "(108, 108)\n",
        "(90, 90)\n",
        "(74, 75)\n",
        "(108, 108)\n",
        "(108, 108)\n",
        "(108, 108)\n",
        "(90, 90)\n",
        "(108, 108)\n",
        "(90, 90)\n",
        "(108, 108)\n",
        "(108, 108)\n",
        "(90, 90)\n",
        "(90, 90)\n",
        "(108, 108)\n",
        "(90, 90)\n",
        "(108, 108)\n",
        "(129, 129)\n",
        "(108, 108)\n",
        "(108, 108)\n",
        "(108, 108)\n",
        "(129, 129)\n",
        "(108, 108)\n",
        "(108, 108)\n",
        "(108, 108)\n",
        "(90, 90)\n",
        "(108, 108)\n",
        "(108, 108)\n",
        "(129, 129)\n",
        "(108, 108)\n",
        "(108, 108)\n",
        "(108, 108)\n",
        "(129, 129)\n",
        "(90, 90)\n",
        "(90, 90)\n",
        "(108, 108)\n",
        "(108, 108)\n",
        "(108, 108)\n",
        "(108, 108)\n",
        "(108, 108)\n",
        "(108, 108)\n",
        "(90, 90)\n",
        "(108, 108)\n",
        "(108, 108)\n",
        "(108, 108)\n",
        "(108, 108)\n",
        "(90, 90)\n",
        "(108, 108)\n",
        "(108, 108)\n",
        "(90, 90)\n",
        "(108, 108)\n",
        "(108, 108)\n",
        "(90, 90)\n",
        "(90, 90)\n",
        "(108, 108)\n",
        "(108, 108)\n",
        "(108, 108)\n",
        "(90, 90)\n",
        "(108, 108)\n",
        "(90, 90)\n",
        "(108, 108)\n",
        "(108, 108)\n",
        "(108, 108)\n",
        "(108, 108)\n",
        "(129, 129)\n",
        "(108, 108)\n",
        "(90, 90)\n",
        "(90, 90)\n",
        "(90, 90)\n",
        "(129, 129)\n",
        "(108, 108)\n",
        "(108, 108)\n",
        "(108, 108)\n",
        "(90, 90)\n",
        "(90, 90)\n",
        "(108, 108)\n",
        "(108, 108)\n",
        "(108, 108)\n",
        "(90, 90)\n",
        "(108, 108)\n",
        "(108, 108)\n",
        "(108, 108)\n",
        "(90, 90)\n",
        "(90, 90)\n",
        "(90, 90)\n",
        "(108, 108)\n",
        "(108, 108)\n",
        "(108, 108)\n",
        "(108, 108)\n",
        "(108, 108)\n",
        "(108, 108)\n",
        "(108, 108)\n",
        "(108, 108)\n",
        "(108, 108)\n",
        "(90, 90)\n",
        "(108, 108)\n",
        "(108, 108)\n",
        "(108, 108)\n",
        "(108, 108)\n",
        "(90, 90)\n",
        "(108, 108)\n",
        "(129, 129)\n",
        "(108, 108)\n",
        "(90, 90)\n",
        "(108, 108)\n",
        "(108, 108)\n",
        "(108, 108)\n",
        "(108, 108)\n",
        "(108, 108)\n",
        "(90, 90)\n",
        "(108, 108)\n",
        "(129, 129)\n",
        "(108, 108)\n",
        "(154, 155)\n",
        "(90, 90)\n",
        "(108, 108)\n",
        "(108, 108)\n",
        "(108, 108)\n",
        "(108, 108)\n",
        "(108, 108)\n",
        "(108, 108)\n",
        "(108, 108)\n",
        "(90, 90)\n",
        "(108, 108)\n",
        "(108, 108)\n",
        "(108, 108)\n",
        "(90, 90)\n",
        "(108, 108)\n",
        "(90, 90)\n",
        "(90, 90)\n",
        "(108, 108)\n",
        "(108, 108)\n",
        "(90, 90)\n",
        "(108, 108)\n",
        "(108, 108)\n",
        "(108, 108)\n",
        "(108, 108)\n",
        "(90, 90)\n",
        "(108, 108)\n",
        "(125, 125)\n",
        "(108, 108)\n",
        "(108, 108)\n",
        "(108, 108)\n",
        "(108, 108)\n",
        "(108, 108)\n",
        "(108, 108)\n",
        "(108, 108)\n",
        "(108, 108)\n",
        "(108, 108)\n",
        "(108, 108)\n",
        "(90, 90)\n",
        "(90, 90)\n",
        "(108, 108)\n",
        "(108, 108)\n",
        "(90, 90)\n",
        "(108, 108)\n",
        "(108, 108)\n",
        "(108, 108)\n",
        "(108, 108)\n",
        "(90, 90)\n",
        "(108, 108)\n",
        "(108, 108)\n",
        "(108, 108)\n",
        "(108, 108)\n",
        "(108, 108)\n",
        "(108, 108)\n",
        "(129, 129)\n",
        "(108, 108)\n",
        "(108, 108)\n",
        "(108, 108)\n",
        "(108, 108)\n",
        "(108, 108)\n",
        "(108, 108)\n",
        "(108, 108)\n",
        "(108, 108)\n",
        "(108, 108)\n",
        "(108, 108)\n",
        "(108, 108)\n",
        "(108, 108)\n",
        "(108, 108)\n",
        "(90, 90)\n",
        "(90, 90)\n",
        "(108, 108)\n",
        "(108, 108)\n",
        "(90, 90)\n",
        "(108, 108)\n",
        "(108, 108)\n",
        "(108, 108)\n",
        "(108, 108)\n",
        "(90, 90)\n",
        "(108, 108)\n",
        "(108, 108)\n",
        "(108, 108)\n",
        "(108, 108)\n",
        "(108, 108)\n",
        "(129, 129)\n",
        "(108, 108)\n",
        "(108, 108)\n",
        "(108, 108)\n",
        "(108, 108)\n",
        "(108, 108)\n",
        "(108, 108)\n",
        "(108, 108)\n",
        "(90, 90)\n",
        "(90, 90)\n",
        "(108, 108)\n",
        "(108, 108)\n",
        "(108, 108)\n",
        "(108, 108)\n",
        "(90, 90)\n",
        "(108, 108)\n",
        "(108, 108)\n",
        "(108, 108)\n",
        "(108, 108)\n",
        "(108, 108)\n",
        "(108, 108)\n",
        "(108, 108)\n",
        "(108, 108)\n",
        "(108, 108)\n",
        "(108, 108)\n",
        "(108, 108)\n",
        "(90, 90)\n",
        "(108, 102)\n",
        "(129, 129)\n",
        "(108, 108)\n",
        "(108, 108)\n",
        "(108, 108)\n",
        "(108, 108)\n",
        "(108, 108)\n",
        "(108, 108)\n",
        "(90, 90)\n",
        "(108, 108)\n",
        "(129, 129)\n",
        "(108, 108)\n",
        "(108, 108)\n",
        "(108, 108)\n",
        "(108, 108)\n",
        "(108, 108)\n",
        "(108, 108)\n",
        "(108, 108)\n",
        "(108, 108)\n",
        "(129, 129)\n",
        "(90, 90)\n",
        "(108, 108)\n",
        "(90, 90)\n",
        "(108, 108)\n",
        "(108, 108)\n",
        "(90, 90)\n",
        "(108, 108)\n",
        "(108, 108)\n",
        "(108, 108)\n",
        "(90, 90)\n",
        "(108, 108)\n",
        "(108, 108)\n",
        "(108, 108)\n",
        "(108, 108)\n",
        "(108, 108)\n",
        "(108, 108)\n",
        "(108, 108)\n",
        "(90, 90)\n",
        "(108, 108)\n",
        "(108, 108)\n",
        "(108, 108)\n",
        "(90, 90)\n",
        "(108, 108)\n",
        "(108, 108)\n",
        "(129, 129)\n",
        "(108, 108)\n",
        "(108, 108)\n",
        "(108, 108)\n",
        "(90, 90)\n",
        "(108, 108)\n",
        "(108, 108)\n",
        "(108, 108)\n",
        "(90, 90)\n",
        "(90, 90)\n",
        "(90, 90)\n",
        "(90, 90)\n",
        "(108, 108)\n",
        "(90, 90)\n",
        "(108, 108)\n",
        "(108, 108)\n",
        "(90, 90)\n",
        "(90, 90)\n",
        "(108, 108)\n",
        "(108, 108)\n",
        "(108, 108)\n",
        "(108, 108)\n",
        "(108, 108)\n",
        "(90, 90)\n",
        "(89, 85)\n",
        "(108, 108)\n",
        "(108, 108)\n",
        "(125, 125)\n",
        "(90, 90)\n",
        "(90, 90)\n",
        "(108, 108)\n",
        "(108, 108)\n",
        "(90, 90)\n",
        "(90, 90)\n",
        "(90, 90)\n",
        "(108, 108)\n",
        "(108, 108)\n",
        "(90, 90)\n",
        "(108, 108)\n",
        "(108, 108)\n",
        "(90, 90)\n",
        "(108, 108)\n",
        "(108, 108)\n",
        "(108, 108)\n",
        "(108, 108)\n",
        "(108, 108)\n",
        "(108, 108)\n",
        "(90, 90)\n",
        "(108, 108)\n",
        "(108, 108)\n",
        "(108, 108)\n",
        "(108, 108)\n",
        "(90, 90)\n",
        "(108, 108)\n",
        "(108, 108)\n",
        "(108, 108)\n",
        "(108, 108)\n",
        "(108, 108)\n",
        "(108, 108)\n",
        "(108, 108)\n",
        "(108, 108)\n",
        "(90, 90)\n",
        "(90, 90)\n",
        "(108, 108)\n",
        "(108, 108)\n",
        "(108, 108)\n",
        "(108, 108)\n",
        "(90, 90)\n",
        "(108, 108)\n",
        "(108, 108)\n",
        "(108, 108)\n",
        "(108, 108)\n",
        "(108, 108)\n",
        "(108, 108)\n",
        "(108, 108)\n",
        "(108, 108)\n",
        "(108, 108)\n",
        "(108, 108)\n",
        "(108, 108)\n",
        "(108, 108)\n",
        "(90, 90)\n",
        "(108, 108)\n",
        "(108, 108)\n",
        "(108, 108)\n",
        "(90, 90)\n",
        "(108, 108)\n",
        "(108, 108)\n",
        "(108, 108)\n",
        "(108, 108)\n",
        "(108, 108)\n",
        "(108, 108)\n",
        "(108, 108)\n",
        "(129, 129)\n",
        "(129, 129)\n",
        "(108, 108)\n",
        "(108, 108)\n",
        "(108, 108)\n",
        "(108, 108)\n",
        "(108, 108)\n",
        "(129, 129)\n",
        "(108, 108)\n",
        "(108, 108)\n",
        "(90, 90)\n",
        "(108, 108)\n",
        "(108, 108)\n",
        "(108, 108)\n",
        "(129, 129)\n",
        "(90, 90)\n",
        "(108, 108)\n",
        "(108, 108)\n",
        "(108, 108)\n",
        "(108, 108)\n",
        "(108, 108)\n",
        "(108, 108)\n",
        "(108, 108)\n",
        "(108, 108)\n",
        "(108, 108)\n",
        "(108, 108)\n",
        "(108, 108)\n",
        "(108, 108)\n",
        "(90, 90)\n",
        "(108, 108)\n",
        "(108, 108)\n",
        "(90, 90)\n",
        "(108, 108)\n",
        "(90, 85)\n",
        "(108, 108)\n",
        "(108, 108)\n",
        "(90, 90)\n",
        "(108, 108)\n",
        "(108, 108)\n",
        "(108, 108)\n",
        "(108, 108)\n",
        "(108, 108)\n",
        "(90, 90)\n",
        "(129, 129)\n",
        "(108, 108)\n",
        "(90, 90)\n",
        "(108, 108)\n",
        "(108, 108)\n",
        "(108, 108)\n",
        "(108, 108)\n",
        "(129, 129)\n",
        "(108, 108)\n",
        "(108, 108)\n",
        "(129, 129)\n",
        "(108, 108)\n",
        "(108, 108)\n",
        "(90, 90)\n",
        "(129, 129)\n",
        "(129, 129)\n",
        "(108, 108)\n",
        "(108, 108)\n",
        "(108, 108)\n",
        "(129, 129)\n",
        "(129, 129)\n",
        "(129, 129)\n",
        "(90, 90)\n",
        "(108, 108)\n",
        "(90, 90)\n",
        "(108, 108)\n",
        "(108, 108)\n",
        "(108, 108)\n",
        "(108, 108)\n",
        "(108, 108)\n",
        "(108, 108)\n",
        "(108, 108)\n",
        "(108, 108)\n",
        "(90, 90)\n",
        "(108, 108)\n",
        "(108, 108)\n",
        "(108, 108)\n",
        "(108, 108)\n",
        "(108, 108)\n",
        "(108, 108)\n",
        "(108, 108)\n",
        "(108, 108)\n",
        "(108, 108)\n",
        "(90, 90)\n",
        "(90, 90)\n",
        "(108, 108)\n",
        "(108, 108)\n",
        "(90, 90)\n",
        "(90, 90)\n",
        "(108, 108)\n",
        "(90, 90)\n",
        "(90, 90)\n",
        "(108, 108)\n",
        "(90, 90)\n",
        "(90, 90)\n",
        "(108, 108)\n",
        "(108, 108)\n",
        "(108, 108)\n",
        "(90, 90)\n",
        "(90, 90)\n",
        "(108, 108)\n",
        "(108, 108)\n",
        "(129, 129)\n",
        "(90, 90)\n",
        "(90, 90)\n",
        "(108, 108)\n",
        "(108, 108)\n",
        "(108, 108)\n",
        "(90, 90)\n",
        "(108, 108)\n",
        "(108, 108)\n",
        "(129, 129)\n",
        "(90, 90)\n",
        "(108, 108)\n",
        "(108, 108)\n",
        "(108, 108)\n",
        "(108, 108)\n",
        "(90, 90)\n",
        "(90, 90)\n",
        "(108, 108)\n",
        "(108, 108)\n",
        "(90, 90)\n",
        "(108, 108)\n",
        "(108, 108)\n",
        "(108, 108)\n",
        "(108, 108)\n",
        "(154, 155)\n",
        "(108, 108)\n",
        "(108, 108)\n",
        "(108, 108)\n",
        "(108, 108)\n",
        "(108, 108)\n",
        "(108, 108)\n",
        "(129, 129)\n",
        "(90, 90)\n",
        "(108, 108)\n",
        "(90, 90)\n",
        "(90, 90)\n",
        "(108, 108)\n",
        "(108, 108)\n",
        "(90, 90)\n",
        "(90, 90)\n",
        "(108, 108)\n",
        "(108, 108)\n",
        "(108, 108)\n",
        "(108, 108)\n",
        "(108, 108)\n",
        "(108, 108)\n",
        "(90, 90)\n",
        "(90, 90)\n",
        "(108, 108)\n",
        "(108, 108)\n",
        "(108, 108)\n",
        "(108, 108)\n",
        "(108, 108)\n",
        "(108, 108)\n",
        "(108, 108)\n",
        "(90, 90)\n",
        "(108, 108)\n",
        "(108, 108)\n",
        "(108, 108)\n",
        "(129, 129)\n",
        "(90, 90)\n",
        "(108, 108)\n",
        "(90, 90)\n",
        "(108, 108)\n",
        "(108, 108)\n",
        "(108, 108)\n",
        "(90, 90)\n",
        "(108, 108)\n",
        "(129, 129)\n",
        "(154, 155)\n",
        "(108, 108)\n",
        "(90, 90)\n",
        "(108, 108)\n",
        "(108, 108)\n",
        "(108, 108)\n",
        "(90, 90)\n",
        "(74, 75)\n",
        "(90, 90)\n",
        "(108, 108)\n",
        "(108, 108)\n",
        "(90, 90)\n",
        "(108, 108)\n",
        "(108, 108)\n",
        "(108, 108)\n",
        "(108, 108)\n",
        "(108, 108)\n",
        "(108, 108)\n",
        "(108, 108)\n",
        "(108, 108)\n",
        "(108, 108)\n",
        "(108, 108)\n",
        "(108, 108)\n",
        "(108, 108)\n",
        "(108, 108)\n",
        "(108, 108)\n",
        "(90, 90)\n",
        "(108, 108)\n",
        "(90, 90)\n",
        "(108, 108)\n",
        "(108, 108)\n",
        "(90, 90)\n",
        "(108, 108)\n",
        "(90, 90)\n",
        "(108, 108)\n",
        "(108, 108)\n",
        "(108, 108)\n",
        "(108, 108)\n",
        "(108, 108)\n",
        "(108, 108)\n",
        "(108, 108)\n",
        "(90, 90)\n",
        "(90, 90)\n",
        "(108, 108)\n",
        "(108, 108)\n",
        "(108, 108)\n",
        "(108, 108)\n",
        "(129, 129)\n",
        "(108, 108)\n",
        "(108, 108)\n",
        "(108, 108)\n",
        "(90, 90)\n",
        "(108, 108)\n",
        "(108, 108)\n",
        "(108, 108)\n",
        "(108, 108)\n",
        "(90, 90)\n",
        "(108, 108)\n",
        "(108, 108)\n",
        "(108, 108)\n",
        "(108, 108)\n",
        "(108, 108)\n",
        "(90, 90)\n",
        "(108, 108)\n",
        "(108, 108)\n",
        "(90, 90)\n",
        "(90, 90)\n",
        "(129, 129)\n",
        "(108, 108)\n",
        "(108, 108)\n",
        "(108, 108)\n",
        "(108, 108)\n",
        "(108, 108)\n",
        "(108, 108)\n",
        "(108, 108)\n",
        "(108, 108)\n",
        "(108, 108)\n",
        "(108, 108)\n",
        "(108, 108)\n",
        "(90, 90)\n",
        "(108, 108)\n",
        "(90, 90)\n",
        "(108, 108)\n",
        "(90, 90)\n",
        "(108, 108)\n",
        "(108, 108)\n",
        "(108, 108)\n",
        "(108, 108)\n",
        "(90, 90)\n",
        "(108, 108)\n",
        "(75, 75)\n",
        "(90, 90)\n",
        "(108, 108)\n",
        "(108, 108)\n",
        "(155, 155)\n",
        "(90, 85)\n",
        "(108, 108)\n",
        "(90, 90)\n",
        "(108, 108)\n",
        "(108, 108)\n",
        "(90, 90)\n",
        "(129, 129)\n",
        "(108, 108)\n",
        "(108, 108)\n",
        "(108, 108)\n",
        "(108, 108)\n",
        "(108, 108)\n",
        "(108, 108)\n",
        "(108, 108)\n",
        "(108, 108)\n",
        "(108, 108)\n",
        "(108, 108)\n",
        "(108, 108)\n",
        "(90, 90)\n",
        "(129, 129)\n",
        "(108, 108)\n",
        "(90, 90)\n",
        "(108, 108)\n",
        "(108, 108)\n",
        "(108, 108)\n",
        "(108, 108)\n",
        "(108, 108)\n",
        "(108, 108)\n",
        "(108, 108)\n",
        "(90, 90)\n",
        "(108, 108)\n",
        "(108, 108)\n",
        "(155, 155)\n",
        "(108, 108)\n",
        "(108, 108)\n",
        "(108, 108)\n",
        "(129, 129)\n",
        "(108, 108)\n",
        "(108, 108)\n",
        "(108, 108)\n",
        "(108, 108)\n",
        "(108, 108)\n",
        "(90, 90)\n",
        "(90, 90)\n",
        "(108, 108)\n",
        "(90, 90)\n",
        "(108, 108)\n",
        "(90, 90)\n",
        "(90, 90)\n",
        "(108, 108)\n",
        "(108, 108)\n",
        "(108, 108)\n",
        "(108, 108)\n",
        "(108, 108)\n",
        "(90, 90)\n",
        "(108, 108)\n",
        "(90, 90)\n",
        "(108, 108)\n",
        "(90, 90)\n",
        "(108, 108)\n",
        "(108, 108)\n",
        "(108, 108)\n",
        "(102, 102)\n",
        "(108, 108)\n",
        "(108, 108)\n",
        "(108, 108)\n",
        "(108, 108)\n",
        "(108, 100)\n",
        "(108, 108)\n",
        "(108, 108)\n",
        "(90, 90)\n",
        "(108, 108)\n",
        "(108, 108)\n",
        "(108, 108)\n",
        "(90, 90)\n",
        "(90, 90)\n",
        "(90, 90)\n",
        "(108, 108)\n",
        "(90, 90)\n",
        "(108, 108)\n",
        "(108, 108)\n",
        "(108, 108)\n",
        "(90, 90)\n",
        "(108, 108)\n",
        "(108, 108)\n",
        "(108, 108)\n",
        "(129, 129)\n",
        "(108, 108)\n",
        "(108, 108)\n",
        "(108, 108)\n",
        "(129, 129)\n",
        "(108, 108)\n",
        "(108, 108)\n",
        "(108, 108)\n",
        "(90, 90)\n",
        "(129, 129)\n",
        "(108, 108)\n",
        "(90, 90)\n",
        "(108, 108)\n",
        "(90, 90)\n",
        "(108, 108)\n",
        "(108, 108)\n",
        "(108, 108)\n",
        "(108, 108)\n",
        "(75, 75)\n",
        "(129, 129)\n",
        "(108, 108)\n",
        "(108, 108)\n",
        "(108, 108)\n",
        "(108, 108)\n",
        "(108, 108)\n",
        "(129, 129)\n",
        "(108, 108)\n",
        "(108, 108)\n",
        "(108, 108)\n",
        "(108, 108)\n",
        "(108, 108)\n",
        "(108, 108)\n",
        "(108, 108)\n",
        "(108, 108)\n",
        "(108, 108)\n",
        "(108, 108)\n",
        "(108, 108)\n",
        "(129, 129)\n",
        "(108, 108)\n",
        "(108, 108)\n",
        "(108, 108)\n",
        "(108, 108)\n",
        "(108, 108)\n",
        "(129, 129)\n",
        "(108, 108)\n",
        "(108, 108)\n",
        "(108, 108)\n",
        "(108, 108)\n",
        "(129, 129)\n",
        "(108, 108)\n",
        "(108, 108)\n",
        "(108, 108)\n",
        "(108, 108)\n",
        "(108, 108)\n",
        "(108, 108)\n",
        "(90, 90)\n",
        "(90, 90)\n",
        "(108, 108)\n",
        "(90, 90)\n",
        "(108, 108)\n",
        "(90, 90)\n",
        "(108, 108)\n",
        "(108, 108)\n",
        "(108, 108)\n",
        "(108, 108)\n",
        "(108, 108)\n",
        "(90, 90)\n",
        "(90, 90)\n",
        "(108, 108)\n",
        "(90, 90)\n",
        "(108, 108)\n",
        "(108, 108)\n",
        "(90, 90)\n",
        "(108, 108)\n",
        "(108, 108)\n",
        "(90, 90)\n",
        "(108, 108)\n",
        "(129, 129)\n",
        "(108, 108)\n",
        "(108, 108)\n",
        "(90, 90)\n",
        "(108, 108)\n",
        "(74, 75)\n",
        "(108, 108)\n",
        "(129, 129)\n",
        "(108, 108)\n",
        "(90, 90)\n",
        "(108, 108)\n",
        "(108, 108)\n",
        "(108, 108)\n",
        "(108, 108)\n",
        "(108, 108)\n",
        "(108, 108)\n",
        "(90, 90)\n",
        "(108, 108)\n",
        "(108, 108)\n",
        "(90, 90)\n",
        "(108, 108)\n",
        "(108, 108)\n",
        "(129, 129)\n",
        "(90, 90)\n",
        "(90, 90)\n",
        "(108, 108)\n",
        "(108, 108)\n",
        "(108, 108)\n",
        "(90, 90)\n",
        "(90, 90)\n",
        "(108, 108)\n",
        "(108, 108)\n",
        "(108, 108)\n",
        "(90, 90)\n",
        "(90, 90)\n",
        "(108, 108)\n",
        "(108, 108)\n",
        "(90, 90)\n",
        "(108, 108)\n",
        "(108, 108)\n",
        "(108, 108)\n",
        "(108, 108)\n",
        "(90, 90)\n",
        "(108, 108)\n",
        "(90, 90)\n",
        "(108, 108)\n",
        "(108, 108)\n",
        "(74, 75)\n",
        "(108, 108)\n",
        "(108, 108)\n",
        "(108, 108)\n",
        "(90, 90)\n",
        "(108, 108)\n",
        "(90, 90)\n",
        "(108, 108)\n",
        "(108, 108)\n",
        "(108, 108)\n",
        "(90, 90)\n",
        "(108, 108)\n",
        "(129, 129)\n",
        "(129, 129)\n",
        "(108, 108)\n",
        "(108, 108)\n",
        "(108, 108)\n",
        "(108, 108)\n",
        "(108, 108)\n",
        "(108, 108)\n",
        "(108, 108)\n",
        "(108, 108)\n",
        "(108, 108)\n",
        "(90, 90)"
       ]
      },
      {
       "output_type": "stream",
       "stream": "stdout",
       "text": [
        "\n",
        "(108, 108)\n",
        "(108, 108)\n",
        "(108, 108)\n",
        "(108, 108)\n",
        "(108, 108)\n",
        "(90, 90)\n",
        "(108, 108)\n",
        "(108, 108)\n",
        "(108, 108)\n",
        "(108, 108)\n",
        "(129, 129)\n",
        "(108, 108)\n",
        "(108, 108)\n",
        "(108, 108)\n",
        "(108, 108)\n",
        "(108, 108)\n",
        "(90, 90)\n",
        "(108, 108)\n",
        "(108, 108)\n",
        "(108, 108)\n",
        "(108, 108)\n",
        "(108, 108)\n",
        "(90, 90)\n",
        "(90, 90)\n",
        "(90, 90)\n",
        "(90, 90)\n",
        "(108, 108)\n",
        "(90, 90)\n",
        "(108, 108)\n",
        "(108, 108)\n",
        "(108, 108)\n",
        "(108, 108)\n",
        "(108, 108)\n",
        "(90, 90)\n",
        "(108, 108)\n",
        "(108, 108)\n",
        "(108, 108)\n",
        "(108, 108)\n",
        "(129, 129)\n",
        "(108, 108)\n",
        "(90, 90)\n",
        "(90, 90)\n",
        "(108, 108)\n",
        "(108, 108)\n",
        "(90, 90)\n",
        "(108, 108)\n",
        "(90, 90)\n",
        "(90, 90)\n",
        "(108, 108)\n",
        "(108, 108)\n",
        "(90, 90)\n",
        "(108, 108)\n",
        "(108, 108)\n",
        "(108, 108)\n",
        "(108, 108)\n",
        "(108, 108)\n",
        "(108, 108)\n",
        "(90, 90)\n",
        "(108, 108)\n",
        "(108, 108)\n",
        "(108, 108)\n",
        "(90, 90)\n",
        "(90, 90)\n",
        "(108, 108)\n",
        "(108, 108)\n",
        "(90, 90)\n",
        "(108, 108)\n",
        "(108, 108)\n",
        "(108, 108)\n",
        "(108, 108)\n",
        "(108, 108)\n",
        "(108, 108)\n",
        "(108, 108)\n",
        "(90, 90)\n",
        "(90, 90)\n",
        "(90, 90)\n",
        "(90, 90)\n",
        "(75, 75)\n",
        "(108, 108)\n",
        "(108, 108)\n",
        "(108, 108)\n",
        "(125, 125)\n",
        "(74, 75)\n",
        "(90, 90)\n",
        "(108, 108)\n",
        "(108, 108)\n",
        "(108, 108)\n",
        "(90, 90)\n",
        "(108, 108)\n",
        "(74, 75)\n",
        "(90, 90)\n",
        "(108, 108)\n",
        "(90, 90)\n",
        "(108, 108)\n",
        "(90, 90)\n",
        "(108, 108)\n",
        "(129, 129)\n",
        "(108, 108)\n",
        "(90, 90)\n",
        "(154, 155)\n",
        "(108, 108)\n",
        "(108, 108)\n",
        "(90, 90)\n",
        "(108, 108)\n",
        "(108, 108)\n",
        "(90, 90)\n",
        "(108, 108)\n",
        "(108, 108)\n",
        "(90, 90)\n",
        "(108, 108)\n",
        "(108, 108)\n",
        "(108, 108)\n",
        "(74, 75)\n",
        "(129, 129)\n",
        "(186, 186)\n",
        "(108, 108)\n",
        "(108, 108)\n",
        "(108, 108)\n",
        "(90, 90)\n",
        "(90, 90)\n",
        "(108, 108)\n",
        "(108, 108)\n",
        "(129, 129)\n",
        "(90, 90)\n",
        "(108, 108)\n",
        "(90, 90)\n",
        "(90, 90)\n",
        "(108, 108)\n",
        "(108, 108)\n",
        "(108, 108)\n",
        "(108, 108)\n",
        "(90, 90)\n",
        "(90, 90)\n",
        "(90, 90)\n",
        "(108, 108)\n",
        "(108, 108)\n",
        "(108, 108)\n",
        "(129, 129)\n",
        "(108, 108)\n",
        "(108, 108)\n",
        "(90, 90)\n",
        "(90, 90)\n",
        "(108, 108)\n",
        "(108, 108)\n",
        "(108, 108)\n",
        "(108, 108)\n",
        "(108, 108)\n",
        "(108, 108)\n",
        "(108, 108)\n",
        "(108, 108)\n",
        "(108, 108)\n",
        "(108, 108)\n",
        "(108, 108)\n",
        "(108, 108)\n",
        "(90, 90)\n",
        "(90, 90)\n",
        "(129, 129)\n",
        "(90, 90)\n",
        "(90, 90)\n",
        "(108, 108)\n",
        "(108, 108)\n",
        "(108, 108)\n",
        "(90, 90)\n",
        "(108, 108)\n",
        "(108, 108)\n",
        "(108, 108)\n",
        "(108, 108)\n",
        "(129, 129)\n",
        "(108, 108)\n",
        "(108, 108)\n",
        "(90, 90)\n",
        "(108, 108)\n",
        "(108, 108)\n",
        "(108, 108)\n",
        "(108, 108)\n",
        "(108, 108)\n",
        "(90, 90)\n",
        "(129, 129)\n",
        "(108, 108)\n",
        "(108, 108)\n",
        "(108, 108)\n",
        "(108, 108)\n",
        "(129, 129)\n",
        "(108, 108)\n",
        "(108, 108)\n",
        "(108, 108)\n",
        "(108, 108)\n",
        "(108, 108)\n",
        "(108, 108)\n",
        "(108, 108)\n",
        "(90, 90)\n",
        "(108, 108)\n",
        "(108, 108)\n",
        "(108, 108)\n",
        "(108, 108)\n",
        "(108, 108)\n",
        "(90, 90)\n",
        "(108, 108)\n",
        "(108, 108)\n",
        "(108, 108)\n",
        "(90, 90)\n",
        "(108, 108)\n",
        "(90, 90)\n",
        "(108, 108)\n",
        "(108, 108)\n",
        "(108, 108)\n",
        "(108, 108)\n",
        "(108, 108)\n",
        "(108, 108)\n",
        "(108, 108)\n",
        "(90, 90)\n",
        "(129, 129)\n",
        "(108, 108)\n",
        "(108, 108)\n",
        "(108, 108)\n",
        "(108, 108)\n",
        "(108, 108)\n",
        "(108, 108)\n",
        "(90, 90)\n",
        "(108, 108)\n",
        "(108, 108)\n",
        "(90, 90)\n",
        "(108, 108)\n",
        "(90, 90)\n",
        "(90, 90)\n",
        "(108, 108)\n",
        "(108, 108)\n",
        "(108, 108)\n",
        "(108, 108)\n",
        "(108, 108)\n",
        "(108, 108)\n",
        "(108, 108)\n",
        "(108, 108)\n",
        "(108, 108)\n",
        "(108, 108)\n",
        "(108, 108)\n",
        "(90, 90)\n",
        "(108, 108)\n",
        "(108, 108)\n",
        "(108, 108)\n",
        "(108, 108)\n",
        "(129, 129)\n",
        "(108, 108)\n",
        "(108, 108)\n",
        "(108, 108)\n",
        "(108, 108)\n",
        "(108, 108)\n",
        "(90, 90)\n",
        "(108, 108)\n",
        "(108, 108)\n",
        "(90, 90)\n",
        "(108, 108)\n",
        "(108, 108)\n",
        "(108, 108)\n",
        "(108, 108)\n",
        "(90, 90)\n",
        "(90, 90)\n",
        "(108, 108)\n",
        "(108, 108)\n",
        "(108, 108)\n",
        "(108, 108)\n",
        "(90, 90)\n",
        "(108, 108)\n",
        "(90, 90)\n",
        "(108, 108)\n",
        "(108, 108)\n",
        "(90, 90)\n",
        "(90, 90)\n",
        "(108, 108)\n",
        "(108, 108)\n",
        "(90, 90)\n",
        "(108, 108)\n",
        "(108, 108)\n",
        "(108, 108)\n",
        "(90, 90)\n",
        "(108, 108)\n",
        "(90, 90)\n",
        "(108, 108)\n",
        "(90, 90)\n",
        "(108, 108)\n",
        "(90, 90)\n",
        "(90, 90)\n",
        "(90, 90)\n",
        "(129, 129)\n",
        "(90, 90)\n",
        "(90, 90)\n",
        "(90, 90)\n",
        "(108, 108)\n",
        "(90, 90)\n",
        "(108, 108)\n",
        "(129, 129)\n",
        "(108, 108)\n",
        "(90, 90)\n",
        "(108, 108)\n",
        "(108, 108)\n",
        "(108, 108)\n",
        "(108, 108)\n",
        "(90, 90)\n",
        "(108, 108)\n",
        "(90, 90)\n",
        "(108, 108)\n",
        "(108, 108)\n",
        "(108, 108)\n",
        "(108, 108)\n",
        "(90, 90)\n",
        "(108, 108)\n",
        "(108, 108)\n",
        "(108, 108)\n",
        "(108, 108)\n",
        "(108, 108)\n",
        "(108, 108)\n",
        "(90, 90)\n",
        "(108, 108)\n",
        "(108, 108)\n",
        "(108, 108)\n",
        "(90, 90)\n",
        "(108, 108)\n",
        "(90, 90)\n",
        "(108, 108)\n",
        "(90, 90)\n",
        "(108, 108)\n",
        "(90, 90)\n",
        "(108, 108)\n",
        "(108, 108)\n",
        "(90, 90)\n",
        "(90, 90)\n",
        "(108, 90)\n",
        "(90, 90)\n",
        "(108, 108)\n",
        "(108, 108)\n",
        "(108, 108)\n",
        "(90, 90)\n",
        "(90, 90)\n",
        "(108, 108)\n",
        "(90, 90)\n",
        "(108, 108)\n",
        "(108, 108)\n",
        "(108, 108)\n",
        "(108, 108)\n",
        "(108, 108)\n",
        "(108, 108)\n",
        "(108, 108)\n",
        "(108, 108)\n",
        "(108, 108)\n",
        "(90, 90)\n",
        "(108, 108)\n",
        "(108, 108)\n",
        "(90, 90)\n",
        "(108, 108)\n",
        "(90, 90)\n",
        "(108, 108)\n",
        "(108, 108)\n",
        "(129, 129)\n",
        "(129, 129)\n",
        "(108, 108)\n",
        "(108, 108)\n",
        "(108, 108)\n",
        "(108, 108)\n",
        "(108, 108)\n",
        "(108, 108)\n",
        "(90, 90)\n",
        "(90, 90)\n",
        "(129, 129)\n",
        "(108, 108)\n",
        "(108, 108)\n",
        "(108, 108)\n",
        "(90, 90)\n",
        "(74, 75)\n",
        "(108, 108)\n",
        "(108, 108)\n",
        "(90, 90)\n",
        "(74, 75)\n",
        "(74, 75)\n",
        "(90, 90)\n",
        "(90, 90)\n",
        "(125, 125)\n",
        "(90, 90)\n",
        "(108, 108)\n",
        "(108, 108)\n",
        "(108, 108)\n",
        "(90, 90)\n",
        "(108, 108)\n",
        "(108, 108)\n",
        "(90, 90)\n",
        "(108, 108)\n",
        "(108, 108)\n",
        "(108, 108)\n",
        "(108, 108)\n",
        "(90, 90)\n",
        "(108, 108)\n",
        "(108, 108)\n",
        "(108, 108)\n",
        "(108, 108)\n",
        "(108, 108)\n",
        "(108, 108)\n",
        "(90, 90)\n",
        "(74, 75)\n",
        "(108, 108)\n",
        "(108, 108)\n",
        "(90, 90)\n",
        "(108, 108)\n",
        "(108, 108)\n",
        "(90, 90)\n",
        "(108, 108)\n",
        "(108, 108)\n",
        "(90, 90)\n",
        "(108, 108)\n",
        "(108, 108)\n",
        "(108, 108)\n",
        "(108, 108)\n",
        "(108, 108)\n",
        "(74, 75)\n",
        "(90, 90)\n",
        "(90, 90)\n",
        "(90, 90)\n",
        "(90, 90)\n",
        "(90, 90)\n",
        "(108, 108)\n",
        "(108, 108)\n",
        "(108, 108)\n",
        "(90, 90)\n",
        "(108, 108)\n",
        "(108, 108)\n",
        "(108, 108)\n",
        "(129, 129)\n",
        "(90, 90)\n",
        "(108, 108)\n",
        "(90, 90)\n",
        "(108, 108)\n",
        "(108, 108)\n",
        "(108, 108)\n",
        "(108, 108)\n",
        "(108, 108)\n",
        "(108, 108)\n",
        "(108, 108)\n",
        "(108, 108)\n",
        "(108, 108)\n",
        "(108, 108)\n",
        "(108, 108)\n",
        "(108, 108)\n",
        "(108, 108)\n",
        "(108, 108)\n",
        "(90, 90)\n",
        "(90, 90)\n",
        "(108, 108)\n",
        "(129, 129)\n",
        "(108, 108)\n",
        "(108, 108)\n",
        "(108, 108)\n",
        "(108, 108)\n",
        "(108, 108)\n",
        "(108, 108)\n",
        "(90, 90)\n",
        "(108, 108)\n",
        "(108, 108)\n",
        "(108, 108)\n",
        "(108, 108)\n",
        "(90, 90)\n",
        "(90, 90)\n",
        "(108, 108)\n",
        "(108, 108)\n",
        "(108, 108)\n",
        "(90, 90)\n",
        "(129, 129)\n",
        "(108, 108)\n",
        "(108, 108)\n",
        "(108, 108)\n",
        "(90, 90)\n",
        "(108, 108)\n",
        "(108, 108)\n",
        "(108, 108)\n",
        "(108, 108)\n",
        "(90, 90)\n",
        "(108, 108)\n",
        "(90, 90)\n",
        "(108, 108)\n",
        "(108, 108)\n",
        "(108, 108)\n",
        "(108, 108)\n",
        "(108, 108)\n",
        "(108, 108)\n",
        "(108, 108)\n",
        "(129, 129)\n",
        "(108, 108)\n",
        "(108, 108)\n",
        "(108, 108)\n",
        "(108, 108)\n",
        "(108, 108)\n",
        "(90, 90)\n",
        "(90, 90)\n",
        "(108, 108)\n",
        "(90, 90)\n",
        "(90, 90)\n",
        "(108, 108)\n",
        "(108, 108)\n",
        "(108, 108)\n",
        "(108, 108)\n",
        "(108, 108)\n",
        "(108, 108)\n",
        "(90, 90)\n",
        "(108, 108)\n",
        "(90, 90)\n",
        "(90, 90)\n",
        "(90, 90)\n",
        "(108, 108)\n",
        "(108, 108)\n",
        "(555, 554)\n",
        "(555, 555)\n",
        "(958, 959)\n",
        "(799, 799)\n",
        "(321, 321)\n",
        "(223, 223)\n",
        "(665, 666)\n",
        "(958, 958)\n",
        "(462, 462)\n",
        "(385, 385)\n",
        "(385, 385)\n",
        "(462, 462)\n",
        "(555, 555)\n",
        "(555, 555)\n",
        "(666, 666)\n",
        "(462, 462)\n",
        "17.0\n"
       ]
      }
     ],
     "prompt_number": 13
    },
    {
     "cell_type": "code",
     "collapsed": false,
     "input": [
      "lbp_feat = []\n",
      "for x in lbp_features:\n",
      "    lbp_feat.extend(np.atleast_2d(x.flatten()).T.tolist())"
     ],
     "language": "python",
     "metadata": {},
     "outputs": [
      {
       "ename": "NameError",
       "evalue": "name 'lbp_features' is not defined",
       "output_type": "pyerr",
       "traceback": [
        "\u001b[1;31m---------------------------------------------------------------------------\u001b[0m\n\u001b[1;31mNameError\u001b[0m                                 Traceback (most recent call last)",
        "\u001b[1;32m<ipython-input-1-b9a4d3e6e8d1>\u001b[0m in \u001b[0;36m<module>\u001b[1;34m()\u001b[0m\n\u001b[0;32m      1\u001b[0m \u001b[0mlbp_feat\u001b[0m \u001b[1;33m=\u001b[0m \u001b[1;33m[\u001b[0m\u001b[1;33m]\u001b[0m\u001b[1;33m\u001b[0m\u001b[0m\n\u001b[1;32m----> 2\u001b[1;33m \u001b[1;32mfor\u001b[0m \u001b[0mx\u001b[0m \u001b[1;32min\u001b[0m \u001b[0mlbp_features\u001b[0m\u001b[1;33m:\u001b[0m\u001b[1;33m\u001b[0m\u001b[0m\n\u001b[0m\u001b[0;32m      3\u001b[0m     \u001b[0mlbp_feat\u001b[0m\u001b[1;33m.\u001b[0m\u001b[0mextend\u001b[0m\u001b[1;33m(\u001b[0m\u001b[0mnp\u001b[0m\u001b[1;33m.\u001b[0m\u001b[0matleast_2d\u001b[0m\u001b[1;33m(\u001b[0m\u001b[0mx\u001b[0m\u001b[1;33m.\u001b[0m\u001b[0mflatten\u001b[0m\u001b[1;33m(\u001b[0m\u001b[1;33m)\u001b[0m\u001b[1;33m)\u001b[0m\u001b[1;33m.\u001b[0m\u001b[0mT\u001b[0m\u001b[1;33m.\u001b[0m\u001b[0mtolist\u001b[0m\u001b[1;33m(\u001b[0m\u001b[1;33m)\u001b[0m\u001b[1;33m)\u001b[0m\u001b[1;33m\u001b[0m\u001b[0m\n",
        "\u001b[1;31mNameError\u001b[0m: name 'lbp_features' is not defined"
       ]
      }
     ],
     "prompt_number": 1
    },
    {
     "cell_type": "code",
     "collapsed": false,
     "input": [
      "len(lbp_feat)"
     ],
     "language": "python",
     "metadata": {},
     "outputs": [
      {
       "metadata": {},
       "output_type": "pyout",
       "prompt_number": 20,
       "text": [
        "1624"
       ]
      }
     ],
     "prompt_number": 20
    },
    {
     "cell_type": "code",
     "collapsed": false,
     "input": [
      "features = np.array(lbp_feat).flatten()"
     ],
     "language": "python",
     "metadata": {},
     "outputs": [],
     "prompt_number": 21
    },
    {
     "cell_type": "code",
     "collapsed": false,
     "input": [
      "features.shape"
     ],
     "language": "python",
     "metadata": {},
     "outputs": [
      {
       "metadata": {},
       "output_type": "pyout",
       "prompt_number": 23,
       "text": [
        "(1624,)"
       ]
      }
     ],
     "prompt_number": 23
    },
    {
     "cell_type": "code",
     "collapsed": false,
     "input": [
      "\n",
      "k = 256\n",
      "n_sample = k * 500\n",
      "\n",
      "# choose n_sample descriptors at random\n",
      "sample_indices = np.random.choice(features.shape[0], n_sample)\n",
      "sample = features[sample_indices]\n",
      "\n",
      "# until now sample was in uint8. Convert to float32\n",
      "sample = sample.astype('float32')\n",
      "\n",
      "# compute mean and covariance matrix for the PCA\n",
      "mean = sample.mean(axis = 0)\n",
      "sample = sample - mean\n",
      "cov = np.dot(sample.T, sample)\n",
      "\n",
      "# compute PCA matrix and keep only 64 dimensions\n",
      "#eigvals, eigvecs = np.linalg.eig(cov)\n",
      "#perm = eigvals.argsort()                   # sort by increasing eigenvalue\n",
      "#pca_transform = eigvecs[:, perm[64:128]]   # eigenvectors for the 64 last eigenvalues\n",
      "\n",
      "# transform sample with PCA (note that numpy imposes line-vectors,\n",
      "# so we right-multiply the vectors)\n",
      "#sample = np.dot(sample, pca_transform)\n",
      "\n",
      "# train GMM\n",
      "gmm = ynumpy.gmm_learn(sample, k)"
     ],
     "language": "python",
     "metadata": {},
     "outputs": [
      {
       "ename": "ValueError",
       "evalue": "setting an array element with a sequence.",
       "output_type": "pyerr",
       "traceback": [
        "\u001b[1;31m---------------------------------------------------------------------------\u001b[0m\n\u001b[1;31mValueError\u001b[0m                                Traceback (most recent call last)",
        "\u001b[1;32m<ipython-input-24-738db4290183>\u001b[0m in \u001b[0;36m<module>\u001b[1;34m()\u001b[0m\n\u001b[0;32m      8\u001b[0m \u001b[1;33m\u001b[0m\u001b[0m\n\u001b[0;32m      9\u001b[0m \u001b[1;31m# until now sample was in uint8. Convert to float32\u001b[0m\u001b[1;33m\u001b[0m\u001b[1;33m\u001b[0m\u001b[0m\n\u001b[1;32m---> 10\u001b[1;33m \u001b[0msample\u001b[0m \u001b[1;33m=\u001b[0m \u001b[0msample\u001b[0m\u001b[1;33m.\u001b[0m\u001b[0mastype\u001b[0m\u001b[1;33m(\u001b[0m\u001b[1;34m'float32'\u001b[0m\u001b[1;33m)\u001b[0m\u001b[1;33m\u001b[0m\u001b[0m\n\u001b[0m\u001b[0;32m     11\u001b[0m \u001b[1;33m\u001b[0m\u001b[0m\n\u001b[0;32m     12\u001b[0m \u001b[1;31m# compute mean and covariance matrix for the PCA\u001b[0m\u001b[1;33m\u001b[0m\u001b[1;33m\u001b[0m\u001b[0m\n",
        "\u001b[1;31mValueError\u001b[0m: setting an array element with a sequence."
       ]
      }
     ],
     "prompt_number": 24
    },
    {
     "cell_type": "code",
     "collapsed": false,
     "input": [],
     "language": "python",
     "metadata": {},
     "outputs": []
    },
    {
     "cell_type": "markdown",
     "metadata": {},
     "source": [
      "daisy_features"
     ]
    },
    {
     "cell_type": "code",
     "collapsed": false,
     "input": [
      "test_img= open('/run/user/1000/x.jpg','w')\n",
      "img_n='/run/user/1000/x.jpg'\n",
      "test_img.write(data[100][0])\n",
      "test_img.close()\n"
     ],
     "language": "python",
     "metadata": {},
     "outputs": [],
     "prompt_number": 59
    },
    {
     "cell_type": "code",
     "collapsed": false,
     "input": [
      "\n",
      "img.shape\n"
     ],
     "language": "python",
     "metadata": {},
     "outputs": [
      {
       "metadata": {},
       "output_type": "pyout",
       "prompt_number": 122,
       "text": [
        "(250, 250, 3)"
       ]
      }
     ],
     "prompt_number": 122
    },
    {
     "cell_type": "code",
     "collapsed": false,
     "input": [
      "len(dets)"
     ],
     "language": "python",
     "metadata": {},
     "outputs": [
      {
       "metadata": {},
       "output_type": "pyout",
       "prompt_number": 120,
       "text": [
        "0"
       ]
      }
     ],
     "prompt_number": 120
    },
    {
     "cell_type": "code",
     "collapsed": false,
     "input": [
      "img=plt.imread(img_n)"
     ],
     "language": "python",
     "metadata": {},
     "outputs": [],
     "prompt_number": 62
    },
    {
     "cell_type": "code",
     "collapsed": false,
     "input": [
      "plt.imshow(det_face)"
     ],
     "language": "python",
     "metadata": {},
     "outputs": [
      {
       "metadata": {},
       "output_type": "pyout",
       "prompt_number": 124,
       "text": [
        "<matplotlib.image.AxesImage at 0x7f305812afd0>"
       ]
      },
      {
       "metadata": {},
       "output_type": "display_data",
       "png": "[encoded data removed]",
       "text": [
        "<matplotlib.figure.Figure at 0x7f30581c8390>"
       ]
      }
     ],
     "prompt_number": 124
    },
    {
     "cell_type": "code",
     "collapsed": false,
     "input": [
      "blob"
     ],
     "language": "python",
     "metadata": {},
     "outputs": [
      {
       "metadata": {},
       "output_type": "pyout",
       "prompt_number": 99,
       "text": [
        "<read-write buffer ptr 0x7023aa0, size 288996 at 0x7023a60>"
       ]
      }
     ],
     "prompt_number": 99
    },
    {
     "cell_type": "code",
     "collapsed": false,
     "input": [
      "count=0\n",
      "for d in data:\n",
      "    name[d]=count\n",
      "    count+=1"
     ],
     "language": "python",
     "metadata": {},
     "outputs": [],
     "prompt_number": 83
    },
    {
     "cell_type": "code",
     "collapsed": false,
     "input": [],
     "language": "python",
     "metadata": {},
     "outputs": [
      {
       "metadata": {},
       "output_type": "pyout",
       "prompt_number": 84,
       "text": [
        "{(u'Abdoulaye_Wade\\x00',): 0,\n",
        " (u'Abdulaziz_Kamilov\\x00',): 1,\n",
        " (u'Abdullah_Gul\\x00',): 2,\n",
        " (u'Adelina_Avila\\x00',): 3,\n",
        " (u'Adolfo_Rodriguez_Saa\\x00',): 4,\n",
        " (u'Adrian_Fernandez\\x00',): 5,\n",
        " (u'Ahmad_Jbarah\\x00',): 6,\n",
        " (u'Ahmad_Masood\\x00',): 7,\n",
        " (u'Ahmed_Chalabi\\x00',): 8,\n",
        " (u'Aicha_El_Ouafi\\x00',): 9,\n",
        " (u'Aishwarya_Rai\\x00',): 10,\n",
        " (u'Al_Gore\\x00',): 11,\n",
        " (u'Al_Pacino\\x00',): 12,\n",
        " (u'Alanis_Morissette\\x00',): 13,\n",
        " (u'Alanna_Ubach\\x00',): 14,\n",
        " (u'Alberto_Sordi\\x00',): 15,\n",
        " (u'Alejandro_Atchugarry\\x00',): 16,\n",
        " (u'Alex_Barros\\x00',): 17,\n",
        " (u'Alex_Cabrera\\x00',): 18,\n",
        " (u'Alex_Gonzalez\\x00',): 19,\n",
        " (u'Alex_Sink\\x00',): 20,\n",
        " (u'Alexa_Vega\\x00',): 21,\n",
        " (u'Alexander_Losyukov\\x00',): 22,\n",
        " (u'Alexandra_Rozovskaya\\x00',): 23,\n",
        " (u'Aline_Chretien\\x00',): 24,\n",
        " (u'Alison_Lohman\\x00',): 25,\n",
        " (u'Alistair_MacDonald\\x00',): 26,\n",
        " (u'Allan_Houston\\x00',): 27,\n",
        " (u'Allyson_Felix\\x00',): 28,\n",
        " (u'Amanda_Coetzer\\x00',): 29,\n",
        " (u'Ambrose_Lee\\x00',): 30,\n",
        " (u'Amram_Mitzna\\x00',): 31,\n",
        " (u'Amy_Redford\\x00',): 32,\n",
        " (u'Amy_Yasbeck\\x00',): 33,\n",
        " (u'Ana_Guevara\\x00',): 34,\n",
        " (u'Anders_Fogh_Rasmussen\\x00',): 35,\n",
        " (u'Andre_Bucher\\x00',): 36,\n",
        " (u'Andrea_Yates\\x00',): 37,\n",
        " (u'Andreas_Vinciguerra\\x00',): 38,\n",
        " (u'Andres_Pastrana\\x00',): 39,\n",
        " (u'Andrew_Luster\\x00',): 40,\n",
        " (u'Andrew_Weissmann\\x00',): 41,\n",
        " (u'Andy_Madikians\\x00',): 42,\n",
        " (u'Andy_Roddick\\x00',): 43,\n",
        " (u'Andy_Rooney\\x00',): 44,\n",
        " (u'Andy_Warhol\\x00',): 45,\n",
        " (u'Anette_Hosoi\\x00',): 46,\n",
        " (u'Angela_Merkel\\x00',): 47,\n",
        " (u'Anibal_Ibarra\\x00',): 48,\n",
        " (u'Ann_Morgan\\x00',): 49,\n",
        " (u'Anna_Chicherova\\x00',): 50,\n",
        " (u'Anna_Nicole_Smith\\x00',): 51,\n",
        " (u'Anthony_Lee_Johnson\\x00',): 52,\n",
        " (u'Antonio_Palocci\\x00',): 53,\n",
        " (u'Aretha_Franklin\\x00',): 54,\n",
        " (u'Ariel_Sharon\\x00',): 55,\n",
        " (u'Armand_Sargen\\x00',): 56,\n",
        " (u'Art_Cooper\\x00',): 57,\n",
        " (u'Assad_Ahmadi\\x00',): 58,\n",
        " (u'Astou_Ndiaye-Diatta\\x00',): 59,\n",
        " (u'Audrey_Sauret\\x00',): 60,\n",
        " (u'Azra_Akin\\x00',): 61,\n",
        " (u'BB_King\\x00',): 62,\n",
        " (u'BJ_Habibie\\x00',): 63,\n",
        " (u'Barbara_Bodine\\x00',): 64,\n",
        " (u'Barbora_Strycova\\x00',): 65,\n",
        " (u'Barrett_Jackman\\x00',): 66,\n",
        " (u'Barry_Alvarez\\x00',): 67,\n",
        " (u'Ben_Cahoon\\x00',): 68,\n",
        " (u'Ben_Kingsley\\x00',): 69,\n",
        " (u'Benjamin_McKenzie\\x00',): 70,\n",
        " (u'Bernadette_Peters\\x00',): 71,\n",
        " (u'Bernard_Landry\\x00',): 72,\n",
        " (u'Bernard_Lord\\x00',): 73,\n",
        " (u'Bernard_Siegel\\x00',): 74,\n",
        " (u'Bertrand_Bonello\\x00',): 75,\n",
        " (u'Beth_Blough\\x00',): 76,\n",
        " (u'Bettina_Rheims\\x00',): 77,\n",
        " (u'Biljana_Plavsic\\x00',): 78,\n",
        " (u'Bill_Bradley\\x00',): 79,\n",
        " (u'Bill_Byrne\\x00',): 80,\n",
        " (u'Bill_Herrion\\x00',): 81,\n",
        " (u'Bill_King\\x00',): 82,\n",
        " (u'Bill_Sizemore\\x00',): 83,\n",
        " (u'Billy_Bob_Thornton\\x00',): 84,\n",
        " (u'Billy_Tibbets\\x00',): 85,\n",
        " (u'Blythe_Hartley\\x00',): 86,\n",
        " (u'Bob_Cantrell\\x00',): 87,\n",
        " (u'Bob_Krueger\\x00',): 88,\n",
        " (u'Brajesh_Mishra\\x00',): 89,\n",
        " (u'Brandon_Boyd\\x00',): 90,\n",
        " (u'Brandon_Fails\\x00',): 91,\n",
        " (u'Brandon_Inge\\x00',): 92,\n",
        " (u'Brandon_Jones\\x00',): 93,\n",
        " (u'Brandon_Lloyd\\x00',): 94,\n",
        " (u'Branko_Crvenkovski\\x00',): 95,\n",
        " (u'Brendan_Stai\\x00',): 96,\n",
        " (u'Brian_Gregory\\x00',): 97,\n",
        " (u'Brian_Meadors\\x00',): 98,\n",
        " (u'Brian_Scalabrine\\x00',): 99,\n",
        " (u'Britney_Spears\\x00',): 100,\n",
        " (u'Brooke_Gordon\\x00',): 101,\n",
        " (u'Brooke_Shields\\x00',): 102,\n",
        " (u'Bruce_Paltrow\\x00',): 103,\n",
        " (u'Bryan_Adams\\x00',): 104,\n",
        " (u'Bryan_Murray\\x00',): 105,\n",
        " (u'Bryan_Thomas\\x00',): 106,\n",
        " (u'Calvin_Joseph_Coleman\\x00',): 107,\n",
        " (u'Carin_Koch\\x00',): 108,\n",
        " (u'Carl_Levin\\x00',): 109,\n",
        " (u'Carlos_Ruiz\\x00',): 110,\n",
        " (u'Caroline_Kennedy\\x00',): 111,\n",
        " (u'Casey_Crowder\\x00',): 112,\n",
        " (u'Cate_Blanchett\\x00',): 113,\n",
        " (u'Catherine_Woodard\\x00',): 114,\n",
        " (u'Catherine_Zeta-Jones\\x00',): 115,\n",
        " (u'Cecilia_Cheung\\x00',): 116,\n",
        " (u'Celso_Lafer\\x00',): 117,\n",
        " (u'Chang_Dae-whan\\x00',): 118,\n",
        " (u'Chante_Jawan_Mallard\\x00',): 119,\n",
        " (u'Charles_Bronson\\x00',): 120,\n",
        " (u'Charlie_Deane\\x00',): 121,\n",
        " (u'Charlie_Sheen\\x00',): 122,\n",
        " (u'Charlotte_Casiraghi\\x00',): 123,\n",
        " (u'Chen_Kaige\\x00',): 124,\n",
        " (u'Chin-Feng_Chen\\x00',): 125,\n",
        " (u'Chip_Burrus\\x00',): 126,\n",
        " (u'Chistian_Stahl\\x00',): 127,\n",
        " (u'Choi_Sung-hong\\x00',): 128,\n",
        " (u'Chok_Tong_Goh\\x00',): 129,\n",
        " (u'Chris_Andrews\\x00',): 130,\n",
        " (u'Chris_Forsyth\\x00',): 131,\n",
        " (u'Chris_Gratton\\x00',): 132,\n",
        " (u'Chris_Hernandez\\x00',): 133,\n",
        " (u'Chris_Tucker\\x00',): 134,\n",
        " (u'Christian_Gimenez\\x00',): 135,\n",
        " (u'Christian_Von_Wernich\\x00',): 136,\n",
        " (u'Christine_Gregoire\\x00',): 137,\n",
        " (u'Christine_Todd_Whitman\\x00',): 138,\n",
        " (u'Christopher_Patten\\x00',): 139,\n",
        " (u'Christopher_Russell\\x00',): 140,\n",
        " (u'Chyung_Dai-chul\\x00',): 141,\n",
        " (u'Cindy_Crawford\\x00',): 142,\n",
        " (u'Cindy_Taylor\\x00',): 143,\n",
        " (u'Claire_Leger\\x00',): 144,\n",
        " (u'Claudette_Robinson\\x00',): 145,\n",
        " (u'Claudio_Abbado\\x00',): 146,\n",
        " (u'Clifford_Etienne\\x00',): 147,\n",
        " (u'Colin_Campbell\\x00',): 148,\n",
        " (u'Compay_Segundo\\x00',): 149,\n",
        " (u'Condoleezza_Rice\\x00',): 150,\n",
        " (u'Corey_Maggette\\x00',): 151,\n",
        " (u'Craig_David\\x00',): 152,\n",
        " (u'Craig_Fitzgibbon\\x00',): 153,\n",
        " (u'Cristina_Fernandez\\x00',): 154,\n",
        " (u'Daisy_Fuentes\\x00',): 155,\n",
        " (u'Dale_Earnhardt_Jr\\x00',): 156,\n",
        " (u'Dana_Vollmer\\x00',): 157,\n",
        " (u'Daniel_Osorno\\x00',): 158,\n",
        " (u'Daniel_Pearl\\x00',): 159,\n",
        " (u'Daniele_Bergamin\\x00',): 160,\n",
        " (u'Danis_Tanovic\\x00',): 161,\n",
        " (u'Darcy_Regier\\x00',): 162,\n",
        " (u'Darrell_Dickey\\x00',): 163,\n",
        " (u'Darryl_McDaniels\\x00',): 164,\n",
        " (u'Dave_Matthews\\x00',): 165,\n",
        " (u'Dave_Ragone\\x00',): 166,\n",
        " (u'David_Canary\\x00',): 167,\n",
        " (u'David_Dewhurst\\x00',): 168,\n",
        " (u'David_Dodge\\x00',): 169,\n",
        " (u'David_Hasselhoff\\x00',): 170,\n",
        " (u'David_Ho\\x00',): 171,\n",
        " (u'David_Myers\\x00',): 172,\n",
        " (u'David_Provost\\x00',): 173,\n",
        " (u'David_Sibleyk\\x00',): 174,\n",
        " (u'David_Zeplowitz\\x00',): 175,\n",
        " (u'Dean_Jacek\\x00',): 176,\n",
        " (u'Dean_Sheremet\\x00',): 177,\n",
        " (u'Deniz_Baykal\\x00',): 178,\n",
        " (u'Denzel_Washington\\x00',): 179,\n",
        " (u'Desiree_Lemosi\\x00',): 180,\n",
        " (u'Diane_Green\\x00',): 181,\n",
        " (u'Diane_Ladd\\x00',): 182,\n",
        " (u'Dianne_Reeves\\x00',): 183,\n",
        " (u'Dick_Bennett\\x00',): 184,\n",
        " (u'Dick_Posthumus\\x00',): 185,\n",
        " (u'Dieter_Zetsche\\x00',): 186,\n",
        " (u'Dinah_Turner\\x00',): 187,\n",
        " (u'Dolma_Tsering\\x00',): 188,\n",
        " (u'Dominique_Perben\\x00',): 189,\n",
        " (u'Don_Henley\\x00',): 190,\n",
        " (u'Donald_Evans\\x00',): 191,\n",
        " (u'Donald_Keck\\x00',): 192,\n",
        " (u'Donald_Keyser\\x00',): 193,\n",
        " (u'Donna_Brazile\\x00',): 194,\n",
        " (u'Donna_Ralston\\x00',): 195,\n",
        " (u'Donnie_Brennan\\x00',): 196,\n",
        " (u'Doris_Schroeder\\x00',): 197,\n",
        " (u'Doug_Duncan\\x00',): 198,\n",
        " (u'Doug_Moe\\x00',): 199,\n",
        " (u'Douglas_Paal\\x00',): 200,\n",
        " (u'Dragan_Covic\\x00',): 201,\n",
        " (u'Duncan_Fletcher\\x00',): 202,\n",
        " (u'Earl_Campbell\\x00',): 203,\n",
        " (u'Edie_Falco\\x00',): 204,\n",
        " (u'Edmund_Stoiber\\x00',): 205,\n",
        " (u'Efrain_Rios_Montt\\x00',): 206,\n",
        " (u'Einars_Repse\\x00',): 207,\n",
        " (u'Elena_Tihomirova\\x00',): 208,\n",
        " (u'Eliza_Dushku\\x00',): 209,\n",
        " (u'Eliza_Manningham-Buller\\x00',): 210,\n",
        " (u'Elizabeth_Regan\\x00',): 211,\n",
        " (u'Ellen_Pompeo\\x00',): 212,\n",
        " (u'Elvis_Presley\\x00',): 213,\n",
        " (u'Emily_Robison\\x00',): 214,\n",
        " (u'Emma_Nicholson\\x00',): 215,\n",
        " (u'Emma_Watson\\x00',): 216,\n",
        " (u'Emmanuel_Filiberto\\x00',): 217,\n",
        " (u'Enrique_Haroldo_Gorriaran_Merlo\\x00',): 218,\n",
        " (u'Eric_Christian_Olsen\\x00',): 219,\n",
        " (u'Eric_Hinske\\x00',): 220,\n",
        " (u'Eric_Shinseki\\x00',): 221,\n",
        " (u'Erick_Barkley\\x00',): 222,\n",
        " (u'Erin_Hershey_Presley\\x00',): 223,\n",
        " (u'Ernest_Hollings\\x00',): 224,\n",
        " (u'Erskine_Bowles\\x00',): 225,\n",
        " (u'Erwin_Abdullah\\x00',): 226,\n",
        " (u'Evander_Holyfield\\x00',): 227,\n",
        " (u'Fabian_Vargas\\x00',): 228,\n",
        " (u'Fabricio_Oberto\\x00',): 229,\n",
        " (u'Fayssal_Mekdad\\x00',): 230,\n",
        " (u'Federico_Trillo\\x00',): 231,\n",
        " (u'Ferenc_Madl\\x00',): 232,\n",
        " (u'Flor_Montulo\\x00',): 233,\n",
        " (u'Francisco_Garcia\\x00',): 234,\n",
        " (u'Frank_Beamer\\x00',): 235,\n",
        " (u'Frank_Zappa\\x00',): 236,\n",
        " (u'Franklin_Damann\\x00',): 237,\n",
        " (u'Franz_Muentefering\\x00',): 238,\n",
        " (u'Gabriel_Farhi\\x00',): 239,\n",
        " (u'Gael_Garcia_Bermal\\x00',): 240,\n",
        " (u'Gala_Leon_Garcia\\x00',): 241,\n",
        " (u'Gao_Qiang\\x00',): 242,\n",
        " (u'Garry_Alejano\\x00',): 243,\n",
        " (u'Gary_Bergeron\\x00',): 244,\n",
        " (u'Gary_Coleman\\x00',): 245,\n",
        " (u'Gary_Gitnick\\x00',): 246,\n",
        " (u'Gary_Williams\\x00',): 247,\n",
        " (u'Gavyn_Arthur\\x00',): 248,\n",
        " (u'George_Lucas\\x00',): 249,\n",
        " (u'George_Maxwell_Richards\\x00',): 250,\n",
        " (u'Georgi_Parvanov\\x00',): 251,\n",
        " (u'Gerald_Fitch\\x00',): 252,\n",
        " (u'Gerard_Tronche\\x00',): 253,\n",
        " (u'Gerardo_Gambala\\x00',): 254,\n",
        " (u'Gerhard_Schroeder\\x00',): 255,\n",
        " (u'German_Khan\\x00',): 256,\n",
        " (u'Gholamreza_Aghazadeh\\x00',): 257,\n",
        " (u'Giancarlo_Fisichella\\x00',): 258,\n",
        " (u'Gilberto_Simoni\\x00',): 259,\n",
        " (u'Gilles_Panizzi\\x00',): 260,\n",
        " (u'Gina_Torres\\x00',): 261,\n",
        " (u'Gisele_Bundchen\\x00',): 262,\n",
        " (u'Giselle_Estefania_Tavarelli\\x00',): 263,\n",
        " (u'Gong_Ruina\\x00',): 264,\n",
        " (u'Goran_Zivkovic\\x00',): 265,\n",
        " (u'Grace_Kelly\\x00',): 266,\n",
        " (u'Gracia_Burnham\\x00',): 267,\n",
        " (u'Grady_Irvin_Jr\\x00',): 268,\n",
        " (u'Graham_Bentley\\x00',): 269,\n",
        " (u'Gregg_Popovich\\x00',): 270,\n",
        " (u'Guido_Westerwelle\\x00',): 271,\n",
        " (u'Gustavo_Cisneros\\x00',): 272,\n",
        " (u'Gwendal_Peizerat\\x00',): 273,\n",
        " (u'Hal_McCoy\\x00',): 274,\n",
        " (u'Hama_Arba_Diallo\\x00',): 275,\n",
        " (u'Hamad_Bin_Jassim\\x00',): 276,\n",
        " (u'Hamid_Karzai\\x00',): 277,\n",
        " (u'Hank_Aaron\\x00',): 278,\n",
        " (u'Hank_McKinnell\\x00',): 279,\n",
        " (u'Hans_Eichel\\x00',): 280,\n",
        " (u'Harbhajan_Singh\\x00',): 281,\n",
        " (u'Harold_Scott\\x00',): 282,\n",
        " (u'Harry_Belafonte\\x00',): 283,\n",
        " (u'Harry_Schmidt\\x00',): 284,\n",
        " (u'Hartmut_Mehdorn\\x00',): 285,\n",
        " (u'Hashan_Tillakaratne\\x00',): 286,\n",
        " (u'Hassanal_Bolkiah\\x00',): 287,\n",
        " (u'Haydar_Aliyev\\x00',): 288,\n",
        " (u'Heather_Whitestone_McCallum\\x00',): 289,\n",
        " (u'Hedayat_Amin_Arsala\\x00',): 290,\n",
        " (u'Heidi_Klum\\x00',): 291,\n",
        " (u'Helen_Darling\\x00',): 292,\n",
        " (u'Henk_Bekedam\\x00',): 293,\n",
        " (u'Henry_Castellanos\\x00',): 294,\n",
        " (u'Hernan_Crespo\\x00',): 295,\n",
        " (u'Hideki_Matsui\\x00',): 296,\n",
        " (u'Hideki_Sato\\x00',): 297,\n",
        " (u'Hisao_Oguchi\\x00',): 298,\n",
        " (u'Hitomi_Soga\\x00',): 299,\n",
        " (u'Hrithik_Roshan\\x00',): 300,\n",
        " (u'Hugo_Colace\\x00',): 301,\n",
        " (u'Hunter_Bates\\x00',): 302,\n",
        " (u'Iban_Mayo\\x00',): 303,\n",
        " (u'Ilie_Nastase\\x00',): 304,\n",
        " (u'Imelda_Marcos\\x00',): 305,\n",
        " (u'Inocencio_Arias\\x00',): 306,\n",
        " (u'Intisar_Ajouri\\x00',): 307,\n",
        " (u'Ion_Tiriac\\x00',): 308,\n",
        " (u'Irene_Kahn\\x00',): 309,\n",
        " (u'Irina_Framtsova\\x00',): 310,\n",
        " (u'Isaiah_Washington\\x00',): 311,\n",
        " (u'Iva_Majoli\\x00',): 312,\n",
        " (u'Iveta_Benesova\\x00',): 313,\n",
        " (u'Jacqueline_Marris\\x00',): 314,\n",
        " (u'James_Becker\\x00',): 315,\n",
        " (u'James_Cameron\\x00',): 316,\n",
        " (u'James_Coburn\\x00',): 317,\n",
        " (u'James_Coviello\\x00',): 318,\n",
        " (u'James_Hughes\\x00',): 319,\n",
        " (u'James_Kelly\\x00',): 320,\n",
        " (u'James_McPherson\\x00',): 321,\n",
        " (u'James_Morris\\x00',): 322,\n",
        " (u'James_Murdoch\\x00',): 323,\n",
        " (u'James_Robertson_Jr\\x00',): 324,\n",
        " (u'James_Williams\\x00',): 325,\n",
        " (u'Jamling_Norgay\\x00',): 326,\n",
        " (u'Janet_Thorpe\\x00',): 327,\n",
        " (u'Janice_Abreu\\x00',): 328,\n",
        " (u'Janice_Goldfinger\\x00',): 329,\n",
        " (u'Janine_Pietsch\\x00',): 330,\n",
        " (u'Jaqueline_Godoy\\x00',): 331,\n",
        " (u'Jason_Biggs\\x00',): 332,\n",
        " (u'Jason_Campbell\\x00',): 333,\n",
        " (u'Jason_Lezak\\x00',): 334,\n",
        " (u'Javier_Camara\\x00',): 335,\n",
        " (u'Jaymon_Crabb\\x00',): 336,\n",
        " (u'Jeanette_Gray\\x00',): 337,\n",
        " (u'Jeff_Bzdelik\\x00',): 338,\n",
        " (u'Jeffery_Hendren\\x00',): 339,\n",
        " (u'Jeffrey_Ashby\\x00',): 340,\n",
        " (u'Jennifer_Furminger\\x00',): 341,\n",
        " (u'Jennifer_Tilly\\x00',): 342,\n",
        " (u'Jerome_Jenkins\\x00',): 343,\n",
        " (u'Jerry_Jones\\x00',): 344,\n",
        " (u'Jerry_Sexton\\x00',): 345,\n",
        " (u'Jesse_Jackson\\x00',): 346,\n",
        " (u'Jia_Qinglin\\x00',): 347,\n",
        " (u'Jim_Bollman\\x00',): 348,\n",
        " (u'Jim_Harrick\\x00',): 349,\n",
        " (u'Jim_Letten\\x00',): 350,\n",
        " (u'Jim_Otto\\x00',): 351,\n",
        " (u'Jim_Ryan\\x00',): 352,\n",
        " (u'Jim_Spinoza\\x00',): 353,\n",
        " (u'Jim_Thome\\x00',): 354,\n",
        " (u'Jim_Wong\\x00',): 355,\n",
        " (u'Jimmy_Iovine\\x00',): 356,\n",
        " (u'Jimmy_Lee\\x00',): 357,\n",
        " (u'Joe_Calzaghe\\x00',): 358,\n",
        " (u'Joe_Finley\\x00',): 359,\n",
        " (u'Joe_Leonard\\x00',): 360,\n",
        " (u'Joe_Mantello\\x00',): 361,\n",
        " (u'Joe_Pantoliano\\x00',): 362,\n",
        " (u'Joel_Todd\\x00',): 363,\n",
        " (u'Joey_Buttafuoco\\x00',): 364,\n",
        " (u'John_Anderson\\x00',): 365,\n",
        " (u'John_Engler\\x00',): 366,\n",
        " (u'John_Gruden\\x00',): 367,\n",
        " (u'John_Herrington\\x00',): 368,\n",
        " (u'John_Manley\\x00',): 369,\n",
        " (u'John_McEnroe\\x00',): 370,\n",
        " (u'John_Moxley\\x00',): 371,\n",
        " (u'John_Perrota\\x00',): 372,\n",
        " (u'John_Rusnak\\x00',): 373,\n",
        " (u'John_Sidgmore\\x00',): 374,\n",
        " (u'Johnny_Carson\\x00',): 375,\n",
        " (u'Jolanta_Kwasniewski\\x00',): 376,\n",
        " (u'Jon_Corzine\\x00',): 377,\n",
        " (u'Jon_Kitna\\x00',): 378,\n",
        " (u'Jonathan_Byrd\\x00',): 379,\n",
        " (u'Jonathan_Horton\\x00',): 380,\n",
        " (u'Jorge_Marquez-Ruarte\\x00',): 381,\n",
        " (u'Joschka_Fischer\\x00',): 382,\n",
        " (u'Jose_Lina\\x00',): 383,\n",
        " (u'Jose_Lopez_Beltran\\x00',): 384,\n",
        " (u'Jose_Woldenberg\\x00',): 385,\n",
        " (u'Josh_Kronfeld\\x00',): 386,\n",
        " (u'Juan_Antonio_Samaranch\\x00',): 387,\n",
        " (u'Juan_Valencia_Osorio\\x00',): 388,\n",
        " (u'Judd_Davies\\x00',): 389,\n",
        " (u'Judy_Locy\\x00',): 390,\n",
        " (u'Juergen_Braehmer\\x00',): 391,\n",
        " (u'Juergen_Schrempp\\x00',): 392,\n",
        " (u'Justin_Gatlin\\x00',): 393,\n",
        " (u'Justin_Wilson\\x00',): 394,\n",
        " (u'Kajsa_Bergqvist\\x00',): 395,\n",
        " (u'Kaoru_Hasuike\\x00',): 396,\n",
        " (u'Kareena_Kapoor\\x00',): 397,\n",
        " (u'Karen_Clarkson\\x00',): 398,\n",
        " (u'Katherine_Harris\\x00',): 399,\n",
        " (u'Kathleen_Glynn\\x00',): 400,\n",
        " (u'Kathryn_Bigelow\\x00',): 401,\n",
        " (u'Kathy_Baker\\x00',): 402,\n",
        " (u'Katie_Wagner\\x00',): 403,\n",
        " (u'Keith_Foulke\\x00',): 404,\n",
        " (u'Keith_Lowen\\x00',): 405,\n",
        " (u'Keith_Urban\\x00',): 406,\n",
        " (u'Keith_Van_Horn\\x00',): 407,\n",
        " (u'Kelly_Osbourne\\x00',): 408,\n",
        " (u'Ken_Dorsey\\x00',): 409,\n",
        " (u'Ken_Kutaragi\\x00',): 410,\n",
        " (u'Kenny_Brack\\x00',): 411,\n",
        " (u'Kevin_Marshall\\x00',): 412,\n",
        " (u'Kevin_Sorbo\\x00',): 413,\n",
        " (u'Khalid_Khannouchi\\x00',): 414,\n",
        " (u'Kim_Clijsters\\x00',): 415,\n",
        " (u'Kim_Dae-jung\\x00',): 416,\n",
        " (u'Kim_Yong-il\\x00',): 417,\n",
        " (u'Kimberly_Stewart\\x00',): 418,\n",
        " (u'Kimi_Raikkonen\\x00',): 419,\n",
        " (u'Kimora_Lee\\x00',): 420,\n",
        " (u'King_Gyanendra\\x00',): 421,\n",
        " (u'Kirsten_Clark\\x00',): 422,\n",
        " (u'Kjell_Magne_Bondevik\\x00',): 423,\n",
        " (u'Kofi_Annan\\x00',): 424,\n",
        " (u'Kristanna_Loken\\x00',): 425,\n",
        " (u'Kurt_Thomas\\x00',): 426,\n",
        " (u'Kurt_Warner\\x00',): 427,\n",
        " (u'Kyra_Sedgwick\\x00',): 428,\n",
        " (u'LK_Advani\\x00',): 429,\n",
        " (u'Lana_Clarkson\\x00',): 430,\n",
        " (u'Lane_Bryant\\x00',): 431,\n",
        " (u'Larry_Beinfest\\x00',): 432,\n",
        " (u'Larry_Flynt\\x00',): 433,\n",
        " (u'Larry_Lindsey\\x00',): 434,\n",
        " (u'Lars_Burgsmuller\\x00',): 435,\n",
        " (u'Laura_Pausini\\x00',): 436,\n",
        " (u'Lawrence_Di_Rita\\x00',): 437,\n",
        " (u'Lee_Ann_Knight\\x00',): 438,\n",
        " (u'Lee_Byung-woong\\x00',): 439,\n",
        " (u'Lee_Hyung-taik\\x00',): 440,\n",
        " (u'Lee_Tae-sik\\x00',): 441,\n",
        " (u'Leland_Chapman\\x00',): 442,\n",
        " (u'Lennart_Johansson\\x00',): 443,\n",
        " (u'Leonard_Schrank\\x00',): 444,\n",
        " (u'Leslie_Wiser_Jr\\x00',): 445,\n",
        " (u'Lili_Marinho\\x00',): 446,\n",
        " (u'Lili_Taylor\\x00',): 447,\n",
        " (u'Lincoln_Chafee\\x00',): 448,\n",
        " (u'Linda_Franklin\\x00',): 449,\n",
        " (u'Linda_Ham\\x00',): 450,\n",
        " (u'Linda_Mason\\x00',): 451,\n",
        " (u'Liu_Ye\\x00',): 452,\n",
        " (u'Lucia_Kenny_Anthony\\x00',): 453,\n",
        " (u'Ludwig_Ovalle\\x00',): 454,\n",
        " (u'Luis_Sanchez\\x00',): 455,\n",
        " (u'Luke_Ridnour\\x00',): 456,\n",
        " (u'Luke_Smith\\x00',): 457,\n",
        " (u'Luke_Walton\\x00',): 458,\n",
        " (u'Lutz_Freitag\\x00',): 459,\n",
        " (u'Lynne_Slepian\\x00',): 460,\n",
        " (u'Maha_Habib\\x00',): 461,\n",
        " (u'Manuel_Gehring\\x00',): 462,\n",
        " (u'Marc_Bulger\\x00',): 463,\n",
        " (u'Marcus_Garrettson\\x00',): 464,\n",
        " (u'Marcus_Gronholm\\x00',): 465,\n",
        " (u'Margerry_Bakley\\x00',): 466,\n",
        " (u'Maria_Burks\\x00',): 467,\n",
        " (u'Mariana_Gonzalez\\x00',): 468,\n",
        " (u'Mariana_Ohata\\x00',): 469,\n",
        " (u'Marieta_Chrousala\\x00',): 470,\n",
        " (u'Mario_Dominguez\\x00',): 471,\n",
        " (u'Marion_Fahnestock\\x00',): 472,\n",
        " (u'Mark_Bellhorn\\x00',): 473,\n",
        " (u'Mark_Lazarus\\x00',): 474,\n",
        " (u'Mark_Richt\\x00',): 475,\n",
        " (u'Mark_Sisk\\x00',): 476,\n",
        " (u'Mark_Warner\\x00',): 477,\n",
        " (u'Marta_Dominguz\\x00',): 478,\n",
        " (u'Martin_Brooke\\x00',): 479,\n",
        " (u'Martin_Gecht\\x00',): 480,\n",
        " (u'Martin_Sheen\\x00',): 481,\n",
        " (u'Martina_Hingis\\x00',): 482,\n",
        " (u'Martina_McBride\\x00',): 483,\n",
        " (u'Mary_Elizabeth_Mastrantonio\\x00',): 484,\n",
        " (u'Mary_Lou_Markakis\\x00',): 485,\n",
        " (u'Massoud_Barzani\\x00',): 486,\n",
        " (u'Matt_Dillon\\x00',): 487,\n",
        " (u'Matt_Doherty\\x00',): 488,\n",
        " (u'Matt_Siebrandt\\x00',): 489,\n",
        " (u'Matthew_Broderick\\x00',): 490,\n",
        " (u'Mauro_Viza\\x00',): 491,\n",
        " (u'Max_Mosley\\x00',): 492,\n",
        " (u'Mayumi_Moriyama\\x00',): 493,\n",
        " (u'Mehdi_Baala\\x00',): 494,\n",
        " (u'Mel_Brooks\\x00',): 495,\n",
        " (u'Melina_Kanakaredes\\x00',): 496,\n",
        " (u'Mercedes_Amor\\x00',): 497,\n",
        " (u'Mesut_Yilmaz\\x00',): 498,\n",
        " (u'Michael_Capellas\\x00',): 499,\n",
        " (u'Michael_Deutsch\\x00',): 500,\n",
        " (u'Michael_Jasny\\x00',): 501,\n",
        " (u'Michael_Keaton\\x00',): 502,\n",
        " (u'Michael_Lopez-Alegria\\x00',): 503,\n",
        " (u'Michael_McNeely\\x00',): 504,\n",
        " (u'Michael_Shane_Jolly\\x00',): 505,\n",
        " (u'Michel_Duclos\\x00',): 506,\n",
        " (u'Michel_Therrien\\x00',): 507,\n",
        " (u'Mickey_Gilley\\x00',): 508,\n",
        " (u'Micky_Ward\\x00',): 509,\n",
        " (u'Miguel_Aldana_Ibarra\\x00',): 510,\n",
        " (u'Miguel_Angel_Rodriguez\\x00',): 511,\n",
        " (u'Mike_Alden\\x00',): 512,\n",
        " (u'Mike_Bair\\x00',): 513,\n",
        " (u'Mike_Davis\\x00',): 514,\n",
        " (u'Mike_Helton\\x00',): 515,\n",
        " (u'Mike_Matthews\\x00',): 516,\n",
        " (u'Mike_Samp\\x00',): 517,\n",
        " (u'Mike_Smith\\x00',): 518,\n",
        " (u'Mike_Szymanczyk\\x00',): 519,\n",
        " (u'Mohamed_Hammam\\x00',): 520,\n",
        " (u'Mohammad_Aktar\\x00',): 521,\n",
        " (u'Mohammad_Khatami\\x00',): 522,\n",
        " (u'Mohammed_Al_Hindi\\x00',): 523,\n",
        " (u'Mohammed_Baqir_al-Hakim\\x00',): 524,\n",
        " (u'Momir_Nikolic\\x00',): 525,\n",
        " (u'Monica_Gabrielle\\x00',): 526,\n",
        " (u'Monique_Garbrecht-Enfeldt\\x00',): 527,\n",
        " (u'Muhammad_Saeed_al-Sahhaf\\x00',): 528,\n",
        " (u'Naji_Sabri\\x00',): 529,\n",
        " (u'Nancy_Greenlaw\\x00',): 530,\n",
        " (u'Nancy_Smith\\x00',): 531,\n",
        " (u'Narendra_Modi\\x00',): 532,\n",
        " (u'Nasser_al-Kidwa\\x00',): 533,\n",
        " (u'Nastassia_Kinski\\x00',): 534,\n",
        " (u'Natalia_Motuziuk\\x00',): 535,\n",
        " (u'Natalya_Sazanovich\\x00',): 536,\n",
        " (u'Natanaela_Barnova\\x00',): 537,\n",
        " (u'Natasha_Henstridge\\x00',): 538,\n",
        " (u'Nate_Huffman\\x00',): 539,\n",
        " (u'Nawabzada_Nasrullah_Khan\\x00',): 540,\n",
        " (u'Nick_Markakis\\x00',): 541,\n",
        " (u'Nick_Rimando\\x00',): 542,\n",
        " (u'Nicola_Bono\\x00',): 543,\n",
        " (u'Nicolas_Macrozonaris\\x00',): 544,\n",
        " (u'Nicolas_Massu\\x00',): 545,\n",
        " (u'Nikolay_Davydenko\\x00',): 546,\n",
        " (u'Nizar_Trabelsi\\x00',): 547,\n",
        " (u'Nobuyuki_Idei\\x00',): 548,\n",
        " (u'Norm_Macdonald\\x00',): 549,\n",
        " (u'Nuon_Chea\\x00',): 550,\n",
        " (u'Oliver_Neuville\\x00',): 551,\n",
        " (u'Olivia_Newton-John\\x00',): 552,\n",
        " (u'Olivier_Rochus\\x00',): 553,\n",
        " (u'Oscar_DLeon\\x00',): 554,\n",
        " (u'Ozzy_Osbourne\\x00',): 555,\n",
        " (u'Paddy_Long\\x00',): 556,\n",
        " (u'Padraig_Harrington\\x00',): 557,\n",
        " (u'Pascal_Quignard\\x00',): 558,\n",
        " (u'Pat_Riley\\x00',): 559,\n",
        " (u'Patrice_Chereau\\x00',): 560,\n",
        " (u'Patrick_Coleman\\x00',): 561,\n",
        " (u'Patrick_Dennehy\\x00',): 562,\n",
        " (u'Patrick_Roy\\x00',): 563,\n",
        " (u'Paul_Coppin\\x00',): 564,\n",
        " (u'Paul_Hogan\\x00',): 565,\n",
        " (u'Paul_Johnson\\x00',): 566,\n",
        " (u'Paul_Lockhart\\x00',): 567,\n",
        " (u'Paul_Reiser\\x00',): 568,\n",
        " (u'Paul_Walker\\x00',): 569,\n",
        " (u'Paula_Prentiss\\x00',): 570,\n",
        " (u'Pauley_Perrette\\x00',): 571,\n",
        " (u'Pauline_Phillips\\x00',): 572,\n",
        " (u'Perry_Farrell\\x00',): 573,\n",
        " (u'Perry_Gibbs\\x00',): 574,\n",
        " (u'Peter_Albertsen\\x00',): 575,\n",
        " (u'Peter_Care\\x00',): 576,\n",
        " (u'Peter_Caruana\\x00',): 577,\n",
        " (u'Peter_Fisher\\x00',): 578,\n",
        " (u'Peter_Goldmark\\x00',): 579,\n",
        " (u'Peter_Harrison\\x00',): 580,\n",
        " (u'Peter_Hartz\\x00',): 581,\n",
        " (u'Peter_Harvey\\x00',): 582,\n",
        " (u'Peter_Rasch\\x00',): 583,\n",
        " (u'Peter_Rasmussen\\x00',): 584,\n",
        " (u'Phil_Bredesen\\x00',): 585,\n",
        " (u'Pierre_Boulanger\\x00',): 586,\n",
        " (u'Pinar_del_Rio\\x00',): 587,\n",
        " (u'Placido_Domingo\\x00',): 588,\n",
        " (u'Prince_Claus\\x00',): 589,\n",
        " (u'Prince_Edward\\x00',): 590,\n",
        " (u'Priyanka_Chopra\\x00',): 591,\n",
        " (u'Radovan_Karadzic\\x00',): 592,\n",
        " (u'Rainer_Geulen\\x00',): 593,\n",
        " (u'Raja_Qureshi\\x00',): 594,\n",
        " (u'Raja_Zafar-ul-Haq\\x00',): 595,\n",
        " (u'Rand_Beers\\x00',): 596,\n",
        " (u'Rand_Miller\\x00',): 597,\n",
        " (u'Raoul_Ruiz\\x00',): 598,\n",
        " (u'Raul_Cubas\\x00',): 599,\n",
        " (u'Red_Auerbach\\x00',): 600,\n",
        " (u'Ren_Qingjin\\x00',): 601,\n",
        " (u'Richard_Crenna\\x00',): 602,\n",
        " (u'Richard_Daley\\x00',): 603,\n",
        " (u'Richard_Jewell\\x00',): 604,\n",
        " (u'Richard_Naughton\\x00',): 605,\n",
        " (u'Richard_Paul_Evans\\x00',): 606,\n",
        " (u'Rick_Lu\\x00',): 607,\n",
        " (u'Rick_Pitino\\x00',): 608,\n",
        " (u'Rick_Romley\\x00',): 609,\n",
        " (u'Ricky_Barnes\\x00',): 610,\n",
        " (u'Rita_Moreno\\x00',): 611,\n",
        " (u'Rita_Wilson\\x00',): 612,\n",
        " (u'Robert_Hyatt\\x00',): 613,\n",
        " (u'Robert_Torricelli\\x00',): 614,\n",
        " (u'Robert_Weitzel\\x00',): 615,\n",
        " (u'Robert_Woody_Johnson\\x00',): 616,\n",
        " (u'Roberta_Combs\\x00',): 617,\n",
        " (u'Roberto_Benigni\\x00',): 618,\n",
        " (u'Roberto_Carlos\\x00',): 619,\n",
        " (u'Roberto_Cercelletta\\x00',): 620,\n",
        " (u'Roberto_Marinho\\x00',): 621,\n",
        " (u'Roberto_Tovar\\x00',): 622,\n",
        " (u'Rod_Blagojevich\\x00',): 623,\n",
        " (u'Rod_Bryden\\x00',): 624,\n",
        " (u'Rodolfo_Abalos\\x00',): 625,\n",
        " (u'Rodrigo_de_la_Cerna\\x00',): 626,\n",
        " (u'Roger_Federer\\x00',): 627,\n",
        " (u'Ron_Gonzales\\x00',): 628,\n",
        " (u'Ronald_Perelman\\x00',): 629,\n",
        " (u'Ronald_Post\\x00',): 630,\n",
        " (u'Ronde_Barber\\x00',): 631,\n",
        " (u'Roy_Jones_Jr\\x00',): 632,\n",
        " (u'Ruben_Wolkowyski\\x00',): 633,\n",
        " (u'Russell_Crowe\\x00',): 634,\n",
        " (u'Ryan_Leaf\\x00',): 635,\n",
        " (u'Sachiko_Yamada\\x00',): 636,\n",
        " (u'Salma_Hayek\\x00',): 637,\n",
        " (u'Sam_Brownback\\x00',): 638,\n",
        " (u'Sam_Torrance\\x00',): 639,\n",
        " (u'Samuel_Waksal\\x00',): 640,\n",
        " (u'Sasha_Cohen\\x00',): 641,\n",
        " (u'Scott_McClellan\\x00',): 642,\n",
        " (u'Scott_Wallach\\x00',): 643,\n",
        " (u'Scott_Weiland\\x00',): 644,\n",
        " (u'Sean_OKeefe\\x00',): 645,\n",
        " (u'Sean_Patrick_Thomas\\x00',): 646,\n",
        " (u'Sebastian_Cuattrin\\x00',): 647,\n",
        " (u'Sebastien_Grosjean\\x00',): 648,\n",
        " (u'Serena_Karlan\\x00',): 649,\n",
        " (u'Sereyvuth_Kem\\x00',): 650,\n",
        " (u'Seydou_Diarra\\x00',): 651,\n",
        " (u'Sherri_Coale\\x00',): 652,\n",
        " (u'Shireen_Amir_Begum\\x00',): 653,\n",
        " (u'Shobha_De\\x00',): 654,\n",
        " (u'Shoshana_Johnson\\x00',): 655,\n",
        " (u'Sidney_Kimmel\\x00',): 656,\n",
        " (u'Silvio_Berlusconi\\x00',): 657,\n",
        " (u'Simon_Larose\\x00',): 658,\n",
        " (u'Sonia_Lopez\\x00',): 659,\n",
        " (u'Soon_Yi\\x00',): 660,\n",
        " (u'Stan_Kasten\\x00',): 661,\n",
        " (u'Stanley_Ho\\x00',): 662,\n",
        " (u'Stanley_Nelson\\x00',): 663,\n",
        " (u'Steffi_Graf\\x00',): 664,\n",
        " (u'Stephane_Rochon\\x00',): 665,\n",
        " (u'Stephanie_Zimbalist\\x00',): 666,\n",
        " (u'Stephen_Ambrose\\x00',): 667,\n",
        " (u'Stephen_Arigbabu\\x00',): 668,\n",
        " (u'Stephen_Daldry\\x00',): 669,\n",
        " (u'Steve_Alford\\x00',): 670,\n",
        " (u'Steve_Blankenship\\x00',): 671,\n",
        " (u'Steve_Karsay\\x00',): 672,\n",
        " (u'Steve_Peace\\x00',): 673,\n",
        " (u'Steve_Redgrave\\x00',): 674,\n",
        " (u'Steven_Craig\\x00',): 675,\n",
        " (u'Steven_Feldman\\x00',): 676,\n",
        " (u'Steven_Seagal\\x00',): 677,\n",
        " (u'Strom_Thurmond\\x00',): 678,\n",
        " (u'Stuart_Townsend\\x00',): 679,\n",
        " (u'Stuart_Whitman\\x00',): 680,\n",
        " (u'Supachai_Panitchpakdi\\x00',): 681,\n",
        " (u'Suzanne_Torrance\\x00',): 682,\n",
        " (u'Suzie_McConnell_Serio\\x00',): 683,\n",
        " (u'Syed_Ibrahim\\x00',): 684,\n",
        " (u'Sylvia_Plachy\\x00',): 685,\n",
        " (u'Takahiro_Mori\\x00',): 686,\n",
        " (u'Tariq_Aziz\\x00',): 687,\n",
        " (u'Tatiana_Gratcheva\\x00',): 688,\n",
        " (u'Tatiana_Panova\\x00',): 689,\n",
        " (u'Tavis_Smiley\\x00',): 690,\n",
        " (u'Teresa_Worbis\\x00',): 691,\n",
        " (u'Terri_Clark\\x00',): 692,\n",
        " (u'Terry_Lynn_Barton\\x00',): 693,\n",
        " (u'Thalia\\x00',): 694,\n",
        " (u'Theresa_May\\x00',): 695,\n",
        " (u'Thierry_Falise\\x00',): 696,\n",
        " (u'Thomas_OBrien\\x00',): 697,\n",
        " (u'Thomas_Ulrich\\x00',): 698,\n",
        " (u'Tia_Mowry\\x00',): 699,\n",
        " (u'Tiffany_Limos\\x00',): 700,\n",
        " (u'Tim_Chapman\\x00',): 701,\n",
        " (u'Tim_Curley\\x00',): 702,\n",
        " (u'Tim_Howard\\x00',): 703,\n",
        " (u'Tim_Salmon\\x00',): 704,\n",
        " (u'Timothy_Wirth\\x00',): 705,\n",
        " (u'Tina_Brown\\x00',): 706,\n",
        " (u'Todd_Haynes\\x00',): 707,\n",
        " (u'Tom_Coverdale\\x00',): 708,\n",
        " (u'Tom_McClintock\\x00',): 709,\n",
        " (u'Tom_Moss\\x00',): 710,\n",
        " (u'Tom_Vilsack\\x00',): 711,\n",
        " (u'Tommy_Lasorda\\x00',): 712,\n",
        " (u'Tommy_Maddox\\x00',): 713,\n",
        " (u'Toni_Braxton\\x00',): 714,\n",
        " (u'Tono_Suratman\\x00',): 715,\n",
        " (u'Tony_Stewart\\x00',): 716,\n",
        " (u'Tora_Takagi\\x00',): 717,\n",
        " (u'Tori_Amos\\x00',): 718,\n",
        " (u'Trent_Lott\\x00',): 719,\n",
        " (u'Trevor_Watson\\x00',): 720,\n",
        " (u'Ty_Votaw\\x00',): 721,\n",
        " (u'Tyra_Banks\\x00',): 722,\n",
        " (u'Uri_Lopolianski\\x00',): 723,\n",
        " (u'Vagit_Alekperov\\x00',): 724,\n",
        " (u'Val_Ackerman\\x00',): 725,\n",
        " (u'Vanessa_Williams\\x00',): 726,\n",
        " (u'Victor_Kraatz\\x00',): 727,\n",
        " (u'Victoria_Beckham\\x00',): 728,\n",
        " (u'Vivica_Fox\\x00',): 729,\n",
        " (u'Walter_Mondale\\x00',): 730,\n",
        " (u'Wanda_de_la_Jesus\\x00',): 731,\n",
        " (u'Wang_Yingfan\\x00',): 732,\n",
        " (u'Warren_Buffett\\x00',): 733,\n",
        " (u'Wayne_Brady\\x00',): 734,\n",
        " (u'Werner_Schlager\\x00',): 735,\n",
        " (u'William_Harrison\\x00',): 736,\n",
        " (u'William_Macy\\x00',): 737,\n",
        " (u'William_Murabito\\x00',): 738,\n",
        " (u'William_Swor\\x00',): 739,\n",
        " (u'Willie_Nelson\\x00',): 740,\n",
        " (u'Wilma_McNabb\\x00',): 741,\n",
        " (u'Wolfgang_Clement\\x00',): 742,\n",
        " (u'Wolfgang_Schwarz\\x00',): 743,\n",
        " (u'Xanana_Gusmao\\x00',): 744,\n",
        " (u'Xavier_Malisse\\x00',): 745,\n",
        " (u'Yang_Pao-yu\\x00',): 746,\n",
        " (u'Zhong_Nanshan\\x00',): 747,\n",
        " (u'Zoe_Ball\\x00',): 748,\n",
        " (u'Zorica_Radovic\\x00',): 749,\n",
        " (u'zz_zz\\x00',): 750}"
       ]
      }
     ],
     "prompt_number": 84
    },
    {
     "cell_type": "code",
     "collapsed": false,
     "input": [],
     "language": "python",
     "metadata": {},
     "outputs": []
    }
   ],
   "metadata": {}
  }
 ]
}