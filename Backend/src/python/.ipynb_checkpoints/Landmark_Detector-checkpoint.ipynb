{
 "metadata": {
  "name": "",
  "signature": "sha256:34c3d8bd5f9bd5a6d971bfd694bc74e085a55799659a7cd4b2540bc08fe00549"
 },
 "nbformat": 3,
 "nbformat_minor": 0,
 "worksheets": [
  {
   "cells": [
    {
     "cell_type": "code",
     "collapsed": false,
     "input": [
      "import dlib, sys, os\n",
      "from skimage import io\n",
      "import skimage\n",
      "import matplotlib.pyplot as plt\n",
      "import cv2\n",
      "import numpy as np\n",
      "from skimage.feature import daisy,local_binary_pattern\n",
      "from skimage.color import rgb2gray\n",
      "from yael import ynumpy\n",
      "import sqlite3\n",
      "import pickle\n",
      "%matplotlib inline"
     ],
     "language": "python",
     "metadata": {},
     "outputs": [
      {
       "ename": "ImportError",
       "evalue": "No module named yael",
       "output_type": "pyerr",
       "traceback": [
        "\u001b[1;31m---------------------------------------------------------------------------\u001b[0m\n\u001b[1;31mImportError\u001b[0m                               Traceback (most recent call last)",
        "\u001b[1;32m<ipython-input-1-39a8d5ae6e21>\u001b[0m in \u001b[0;36m<module>\u001b[1;34m()\u001b[0m\n\u001b[0;32m      7\u001b[0m \u001b[1;32mfrom\u001b[0m \u001b[0mskimage\u001b[0m\u001b[1;33m.\u001b[0m\u001b[0mfeature\u001b[0m \u001b[1;32mimport\u001b[0m \u001b[0mdaisy\u001b[0m\u001b[1;33m,\u001b[0m\u001b[0mlocal_binary_pattern\u001b[0m\u001b[1;33m\u001b[0m\u001b[0m\n\u001b[0;32m      8\u001b[0m \u001b[1;32mfrom\u001b[0m \u001b[0mskimage\u001b[0m\u001b[1;33m.\u001b[0m\u001b[0mcolor\u001b[0m \u001b[1;32mimport\u001b[0m \u001b[0mrgb2gray\u001b[0m\u001b[1;33m\u001b[0m\u001b[0m\n\u001b[1;32m----> 9\u001b[1;33m \u001b[1;32mfrom\u001b[0m \u001b[0myael\u001b[0m \u001b[1;32mimport\u001b[0m \u001b[0mynumpy\u001b[0m\u001b[1;33m\u001b[0m\u001b[0m\n\u001b[0m\u001b[0;32m     10\u001b[0m \u001b[1;32mimport\u001b[0m \u001b[0msqlite3\u001b[0m\u001b[1;33m\u001b[0m\u001b[0m\n\u001b[0;32m     11\u001b[0m \u001b[1;32mimport\u001b[0m \u001b[0mpickle\u001b[0m\u001b[1;33m\u001b[0m\u001b[0m\n",
        "\u001b[1;31mImportError\u001b[0m: No module named yael"
       ]
      }
     ],
     "prompt_number": 1
    },
    {
     "cell_type": "code",
     "collapsed": false,
     "input": [
      "image_loc='/home/ankit/Pictures/hacks.jpg'"
     ],
     "language": "python",
     "metadata": {},
     "outputs": [],
     "prompt_number": 2
    },
    {
     "cell_type": "code",
     "collapsed": false,
     "input": [
      "daisy_features=[]\n",
      "detector = dlib.get_frontal_face_detector()\n",
      "win = dlib.image_window()\n",
      "img = io.imread(image_loc)\n",
      "dets = detector(img,1)\n",
      "print \"number of faces detected: \", len(dets)\n",
      "for d in dets:\n",
      "    print \"  detection position left,top,right,bottom:\", d.left(), d.top(), d.right(), d.bottom()\n",
      "    det_face=img[d.top():d.bottom(),d.left() : d.right()]\n",
      "    descs= daisy(skimage.color.rgb2gray(det_face), step=1, radius=10, histograms=8,\n",
      "                         orientations=8,normalization='l1')\n",
      "    daisy_desc=np.reshape(descs,[descs.shape[0]*descs.shape[1],descs.shape[2]])\n",
      "    daisy_features.append(daisy_desc)\n",
      "daisy_features=np.array(daisy_features)\n",
      "features=np.vstack(daisy_features)"
     ],
     "language": "python",
     "metadata": {},
     "outputs": [
      {
       "output_type": "stream",
       "stream": "stdout",
       "text": [
        "number of faces detected:  5\n",
        "  detection position left,top,right,bottom: 115 125 205 214\n",
        "  detection position left,top,right,bottom:"
       ]
      },
      {
       "output_type": "stream",
       "stream": "stdout",
       "text": [
        " 315 52 377 114\n",
        "  detection position left,top,right,bottom: 734 145 809 220\n",
        "  detection position left,top,right,bottom:"
       ]
      },
      {
       "output_type": "stream",
       "stream": "stdout",
       "text": [
        " 179 62 253 137\n",
        "  detection position left,top,right,bottom: 598 87 660 149\n"
       ]
      }
     ],
     "prompt_number": 100
    },
    {
     "cell_type": "code",
     "collapsed": false,
     "input": [
      "daisy_features[1][0:100,:].shape"
     ],
     "language": "python",
     "metadata": {},
     "outputs": [
      {
       "metadata": {},
       "output_type": "pyout",
       "prompt_number": 134,
       "text": [
        "(100, 200)"
       ]
      }
     ],
     "prompt_number": 134
    },
    {
     "cell_type": "code",
     "collapsed": false,
     "input": [
      "sample.shape"
     ],
     "language": "python",
     "metadata": {},
     "outputs": [
      {
       "metadata": {},
       "output_type": "pyout",
       "prompt_number": 144,
       "text": [
        "(128000, 64)"
       ]
      }
     ],
     "prompt_number": 144
    },
    {
     "cell_type": "code",
     "collapsed": false,
     "input": [
      "k = 256\n",
      "n_sample = k * 500\n",
      "\n",
      "# choose n_sample descriptors at random\n",
      "sample_indices = np.random.choice(features.shape[0], n_sample)\n",
      "sample = features[sample_indices]\n",
      "\n",
      "# until now sample was in uint8. Convert to float32\n",
      "sample = sample.astype('float32')\n",
      "\n",
      "# compute mean and covariance matrix for the PCA\n",
      "mean = sample.mean(axis = 0)\n",
      "sample = sample - mean\n",
      "cov = np.dot(sample.T, sample)\n",
      "\n",
      "# compute PCA matrix and keep only 64 dimensions\n",
      "eigvals, eigvecs = np.linalg.eig(cov)\n",
      "perm = eigvals.argsort()                   # sort by increasing eigenvalue\n",
      "pca_transform = eigvecs[:, perm[64:128]]   # eigenvectors for the 64 last eigenvalues\n",
      "\n",
      "# transform sample with PCA (note that numpy imposes line-vectors,\n",
      "# so we right-multiply the vectors)\n",
      "sample = np.dot(sample, pca_transform)\n",
      "\n",
      "# train GMM\n",
      "gmm = ynumpy.gmm_learn(sample, k)"
     ],
     "language": "python",
     "metadata": {},
     "outputs": [],
     "prompt_number": 4
    },
    {
     "cell_type": "code",
     "collapsed": false,
     "input": [
      "for image_desc in daisy_features:\n",
      "    print image_desc.shape"
     ],
     "language": "python",
     "metadata": {},
     "outputs": [
      {
       "output_type": "stream",
       "stream": "stdout",
       "text": [
        "(4830, 200)\n",
        "(1764, 200)\n",
        "(3025, 200)\n",
        "(2970, 200)\n",
        "(1764, 200)\n"
       ]
      }
     ],
     "prompt_number": 6
    },
    {
     "cell_type": "code",
     "collapsed": false,
     "input": [
      "image_fvs = []\n",
      "for image_desc in daisy_features:\n",
      "   # apply the PCA to the image descriptor\n",
      "   image_desc = image_desc.astype('float32')\n",
      "   image_desc = np.dot(image_desc - mean, pca_transform)\n",
      "   # compute the Fisher vector, using only the derivative w.r.t mu\n",
      "   fv = ynumpy.fisher(gmm, image_desc, include = 'mu')\n",
      "   image_fvs.append(fv)\n",
      "\n",
      "# make one matrix with all FVs\n",
      "image_fvs = np.vstack(image_fvs)\n",
      "\n",
      "# normalizations are done on all descriptors at once\n",
      "\n",
      "# power-normalization\n",
      "image_fvs = np.sign(image_fvs) * np.abs(image_fvs) ** 0.5\n",
      "\n",
      "# L2 normalize\n",
      "norms = np.sqrt(np.sum(image_fvs ** 2, 1))\n",
      "image_fvs /= norms.reshape(-1, 1)\n",
      "\n",
      "# handle images with 0 local descriptor (100 = far away from \"normal\" images)\n",
      "image_fvs[np.isnan(image_fvs)] = 100"
     ],
     "language": "python",
     "metadata": {},
     "outputs": [],
     "prompt_number": 13
    },
    {
     "cell_type": "code",
     "collapsed": false,
     "input": [],
     "language": "python",
     "metadata": {},
     "outputs": [],
     "prompt_number": 15
    },
    {
     "cell_type": "code",
     "collapsed": false,
     "input": [],
     "language": "python",
     "metadata": {},
     "outputs": [],
     "prompt_number": 11
    },
    {
     "cell_type": "code",
     "collapsed": false,
     "input": [],
     "language": "python",
     "metadata": {},
     "outputs": [],
     "prompt_number": 16
    },
    {
     "cell_type": "code",
     "collapsed": false,
     "input": [],
     "language": "python",
     "metadata": {},
     "outputs": [],
     "prompt_number": 16
    },
    {
     "cell_type": "code",
     "collapsed": false,
     "input": [
      "descs= daisy(skimage.color.rgb2gray(new), step=1, radius=10, histograms=8,\n",
      "                         orientations=8,normalization='l1')\n",
      "daisy_desc=np.reshape(descs,[descs.shape[0]*descs.shape[1],descs.shape[2]])"
     ],
     "language": "python",
     "metadata": {},
     "outputs": [],
     "prompt_number": 120
    },
    {
     "cell_type": "code",
     "collapsed": false,
     "input": [
      "daisy_desc.shape"
     ],
     "language": "python",
     "metadata": {},
     "outputs": [
      {
       "metadata": {},
       "output_type": "pyout",
       "prompt_number": 121,
       "text": [
        "(4830, 200)"
       ]
      }
     ],
     "prompt_number": 121
    },
    {
     "cell_type": "code",
     "collapsed": false,
     "input": [
      "sqlite3.sqlite_v\n"
     ],
     "language": "python",
     "metadata": {},
     "outputs": [
      {
       "metadata": {},
       "output_type": "pyout",
       "prompt_number": 18,
       "text": [
        "'3.8.4.1'"
       ]
      }
     ],
     "prompt_number": 18
    },
    {
     "cell_type": "code",
     "collapsed": false,
     "input": [
      "#!/usr/bin/python\n",
      "# -*- coding: utf-8 -*-\n",
      "\n",
      "import sqlite3 as lite\n",
      "import sys\n",
      "\n",
      "con = None\n",
      "\n",
      "try:\n",
      "    person_identifier = {}    # hash map for storing person ids\n",
      "    con = lite.connect('../../db/facedb.litedb')\n",
      "    \n",
      "    cur = con.cursor()    \n",
      "   \n",
      "    cur.execute('SELECT DISTINCT person_id from images ORDER BY person_id;')\n",
      "    data = cur.fetchall()  \n",
      "    count=0\n",
      "    for d in data:\n",
      "        person_identifier[d]=count\n",
      "        count+=1\n",
      "    \n",
      "except lite.Error, e:\n",
      "    \n",
      "    print \"Error %s:\" % e.args[0]\n",
      "    sys.exit(1)\n",
      "    \n",
      "finally:\n",
      "    \n",
      "    if con:\n",
      "        con.close()"
     ],
     "language": "python",
     "metadata": {},
     "outputs": [],
     "prompt_number": 5
    },
    {
     "cell_type": "heading",
     "level": 3,
     "metadata": {},
     "source": [
      "FEATURE GENERATION"
     ]
    },
    {
     "cell_type": "code",
     "collapsed": false,
     "input": [
      "con = None\n",
      "\n",
      "tmpfs_loc = '/run/user/1000'\n",
      "\n",
      "#LBP parameters\n",
      "radius=2\n",
      "METHOD='uniform'\n",
      "n_points=8*radius\n",
      "\n",
      "\n",
      "try:\n",
      "    person_identifier = {}    # hash map for storing person ids\n",
      "    con = lite.connect('../../db/facedb.litedb')\n",
      "    \n",
      "    cur = con.cursor()    \n",
      "    detector = dlib.get_frontal_face_detector()\n",
      "    win = dlib.image_window()\n",
      "    daisy_features=[]\n",
      "    lbp_features=[]\n",
      "    val=0\n",
      "    for row in cur.execute('SELECT id, person_id, image from images ORDER BY person_id;'):\n",
      "        print val\n",
      "        img_id = row[0]\n",
      "        person_id = row[1]\n",
      "        blob = row[2]\n",
      "        img_filename = tmpfs_loc + os.sep + '%d.jpg' % img_id\n",
      "        tmp_img= open(img_filename,'w')\n",
      "        tmp_img.write(blob)\n",
      "        tmp_img.close()\n",
      "        \n",
      "        #Face detection and feature compuatation\n",
      "        \n",
      "        img = io.imread(img_filename)\n",
      "        dets = detector(img,1)\n",
      "        #print \"number of faces detected: \", len(dets)\n",
      "        #print person_id\n",
      "        \n",
      "        if len(dets)>0:\n",
      "            max_d = dets[0]; max_area = 0\n",
      "            for d in dets:\n",
      "                 #print \"  detection position left,top,right,bottom:\", d.left(), d.top(), d.right(), d.bottom()\n",
      "                 area = abs(d.top() - d.bottom()) * abs(d.left() - d.right())\n",
      "                 if area > max_area:\n",
      "                        max_area = area\n",
      "                        max_d = d\n",
      "            #taking max as rectangle might contain a negative value\n",
      "            t = min(max(0,max_d.top()),img.shape[0])\n",
      "            b = min(max(0,max_d.bottom()),img.shape[0])\n",
      "            l = min(max(0,max_d.left()),img.shape[1])\n",
      "            r = min(max(0,max_d.right()),img.shape[1])\n",
      "            det_face=img[t:b, l:r]\n",
      "        else:\n",
      "            [m,n,_]=img.shape\n",
      "            det_face=img[m/4:3*m/4,n/4 : 3*n/4]\n",
      "        det_face = rgb2gray(det_face)\n",
      "        \n",
      "        descs= daisy(skimage.color.rgb2gray(det_face), step=4, radius=10, histograms=8,\n",
      "                         orientations=8,normalization='l1')\n",
      "        daisy_desc=np.reshape(descs,[descs.shape[0]*descs.shape[1],descs.shape[2]])\n",
      "        daisy_features.append(daisy_desc)\n",
      "    #    lbp= local_binary_pattern(det_face,n_points,radius,METHOD)\n",
      "     #   lbp_features.append(lbp)\n",
      "        # Remove image from memory\n",
      "        os.remove(img_filename)\n",
      "        val+=1\n",
      "        #print row\n",
      "    daisy_features=np.array(daisy_features)\n",
      "    features=np.vstack(daisy_features)\n",
      "     \n",
      "except lite.Error, e:\n",
      "    \n",
      "    print \"Error %s:\" % e.args[0]\n",
      "    sys.exit(1)\n",
      "    \n",
      "finally:\n",
      "    \n",
      "    if con:\n",
      "        con.close()"
     ],
     "language": "python",
     "metadata": {},
     "outputs": [
      {
       "output_type": "stream",
       "stream": "stdout",
       "text": [
        "0\n",
        "1"
       ]
      },
      {
       "output_type": "stream",
       "stream": "stdout",
       "text": [
        "\n",
        "2"
       ]
      },
      {
       "output_type": "stream",
       "stream": "stdout",
       "text": [
        "\n",
        "3"
       ]
      },
      {
       "output_type": "stream",
       "stream": "stdout",
       "text": [
        "\n",
        "4"
       ]
      },
      {
       "output_type": "stream",
       "stream": "stdout",
       "text": [
        "\n",
        "5"
       ]
      },
      {
       "output_type": "stream",
       "stream": "stdout",
       "text": [
        "\n",
        "6"
       ]
      },
      {
       "output_type": "stream",
       "stream": "stdout",
       "text": [
        "\n",
        "7"
       ]
      },
      {
       "output_type": "stream",
       "stream": "stdout",
       "text": [
        "\n",
        "8"
       ]
      },
      {
       "output_type": "stream",
       "stream": "stdout",
       "text": [
        "\n",
        "9"
       ]
      },
      {
       "output_type": "stream",
       "stream": "stdout",
       "text": [
        "\n",
        "10"
       ]
      },
      {
       "output_type": "stream",
       "stream": "stdout",
       "text": [
        "\n",
        "11"
       ]
      },
      {
       "output_type": "stream",
       "stream": "stdout",
       "text": [
        "\n",
        "12"
       ]
      },
      {
       "output_type": "stream",
       "stream": "stdout",
       "text": [
        "\n",
        "13"
       ]
      },
      {
       "output_type": "stream",
       "stream": "stdout",
       "text": [
        "\n",
        "14"
       ]
      },
      {
       "output_type": "stream",
       "stream": "stdout",
       "text": [
        "\n",
        "15"
       ]
      },
      {
       "output_type": "stream",
       "stream": "stdout",
       "text": [
        "\n",
        "16"
       ]
      },
      {
       "output_type": "stream",
       "stream": "stdout",
       "text": [
        "\n",
        "17"
       ]
      },
      {
       "output_type": "stream",
       "stream": "stdout",
       "text": [
        "\n",
        "18"
       ]
      },
      {
       "output_type": "stream",
       "stream": "stdout",
       "text": [
        "\n",
        "19"
       ]
      },
      {
       "output_type": "stream",
       "stream": "stdout",
       "text": [
        "\n",
        "20"
       ]
      },
      {
       "output_type": "stream",
       "stream": "stdout",
       "text": [
        "\n",
        "21"
       ]
      },
      {
       "output_type": "stream",
       "stream": "stdout",
       "text": [
        "\n",
        "22"
       ]
      },
      {
       "output_type": "stream",
       "stream": "stdout",
       "text": [
        "\n",
        "23"
       ]
      },
      {
       "output_type": "stream",
       "stream": "stdout",
       "text": [
        "\n",
        "24"
       ]
      },
      {
       "output_type": "stream",
       "stream": "stdout",
       "text": [
        "\n",
        "25"
       ]
      },
      {
       "output_type": "stream",
       "stream": "stdout",
       "text": [
        "\n",
        "26"
       ]
      },
      {
       "output_type": "stream",
       "stream": "stdout",
       "text": [
        "\n",
        "27"
       ]
      },
      {
       "output_type": "stream",
       "stream": "stdout",
       "text": [
        "\n",
        "28"
       ]
      },
      {
       "output_type": "stream",
       "stream": "stdout",
       "text": [
        "\n",
        "29"
       ]
      },
      {
       "output_type": "stream",
       "stream": "stdout",
       "text": [
        "\n",
        "30"
       ]
      },
      {
       "output_type": "stream",
       "stream": "stdout",
       "text": [
        "\n",
        "31"
       ]
      },
      {
       "output_type": "stream",
       "stream": "stdout",
       "text": [
        "\n",
        "32"
       ]
      },
      {
       "output_type": "stream",
       "stream": "stdout",
       "text": [
        "\n",
        "33"
       ]
      },
      {
       "output_type": "stream",
       "stream": "stdout",
       "text": [
        "\n",
        "34"
       ]
      },
      {
       "output_type": "stream",
       "stream": "stdout",
       "text": [
        "\n",
        "35"
       ]
      },
      {
       "output_type": "stream",
       "stream": "stdout",
       "text": [
        "\n",
        "36"
       ]
      },
      {
       "output_type": "stream",
       "stream": "stdout",
       "text": [
        "\n",
        "37"
       ]
      },
      {
       "output_type": "stream",
       "stream": "stdout",
       "text": [
        "\n",
        "38"
       ]
      },
      {
       "output_type": "stream",
       "stream": "stdout",
       "text": [
        "\n",
        "39"
       ]
      },
      {
       "output_type": "stream",
       "stream": "stdout",
       "text": [
        "\n",
        "40"
       ]
      },
      {
       "output_type": "stream",
       "stream": "stdout",
       "text": [
        "\n",
        "41"
       ]
      },
      {
       "output_type": "stream",
       "stream": "stdout",
       "text": [
        "\n",
        "42"
       ]
      },
      {
       "output_type": "stream",
       "stream": "stdout",
       "text": [
        "\n",
        "43"
       ]
      },
      {
       "output_type": "stream",
       "stream": "stdout",
       "text": [
        "\n",
        "44"
       ]
      },
      {
       "output_type": "stream",
       "stream": "stdout",
       "text": [
        "\n",
        "45"
       ]
      },
      {
       "output_type": "stream",
       "stream": "stdout",
       "text": [
        "\n",
        "46"
       ]
      },
      {
       "output_type": "stream",
       "stream": "stdout",
       "text": [
        "\n",
        "47"
       ]
      },
      {
       "output_type": "stream",
       "stream": "stdout",
       "text": [
        "\n",
        "48"
       ]
      },
      {
       "output_type": "stream",
       "stream": "stdout",
       "text": [
        "\n",
        "49"
       ]
      },
      {
       "output_type": "stream",
       "stream": "stdout",
       "text": [
        "\n",
        "50"
       ]
      },
      {
       "output_type": "stream",
       "stream": "stdout",
       "text": [
        "\n",
        "51"
       ]
      },
      {
       "output_type": "stream",
       "stream": "stdout",
       "text": [
        "\n",
        "52"
       ]
      },
      {
       "output_type": "stream",
       "stream": "stdout",
       "text": [
        "\n",
        "53"
       ]
      },
      {
       "output_type": "stream",
       "stream": "stdout",
       "text": [
        "\n",
        "54"
       ]
      },
      {
       "output_type": "stream",
       "stream": "stdout",
       "text": [
        "\n",
        "55"
       ]
      },
      {
       "output_type": "stream",
       "stream": "stdout",
       "text": [
        "\n",
        "56"
       ]
      },
      {
       "output_type": "stream",
       "stream": "stdout",
       "text": [
        "\n",
        "57"
       ]
      },
      {
       "output_type": "stream",
       "stream": "stdout",
       "text": [
        "\n",
        "58"
       ]
      },
      {
       "output_type": "stream",
       "stream": "stdout",
       "text": [
        "\n",
        "59"
       ]
      },
      {
       "output_type": "stream",
       "stream": "stdout",
       "text": [
        "\n",
        "60"
       ]
      },
      {
       "output_type": "stream",
       "stream": "stdout",
       "text": [
        "\n",
        "61"
       ]
      },
      {
       "output_type": "stream",
       "stream": "stdout",
       "text": [
        "\n",
        "62"
       ]
      },
      {
       "output_type": "stream",
       "stream": "stdout",
       "text": [
        "\n",
        "63"
       ]
      },
      {
       "output_type": "stream",
       "stream": "stdout",
       "text": [
        "\n",
        "64"
       ]
      },
      {
       "output_type": "stream",
       "stream": "stdout",
       "text": [
        "\n",
        "65"
       ]
      },
      {
       "output_type": "stream",
       "stream": "stdout",
       "text": [
        "\n",
        "66"
       ]
      },
      {
       "output_type": "stream",
       "stream": "stdout",
       "text": [
        "\n",
        "67"
       ]
      },
      {
       "output_type": "stream",
       "stream": "stdout",
       "text": [
        "\n",
        "68"
       ]
      },
      {
       "output_type": "stream",
       "stream": "stdout",
       "text": [
        "\n",
        "69"
       ]
      },
      {
       "output_type": "stream",
       "stream": "stdout",
       "text": [
        "\n",
        "70"
       ]
      },
      {
       "output_type": "stream",
       "stream": "stdout",
       "text": [
        "\n",
        "71"
       ]
      },
      {
       "output_type": "stream",
       "stream": "stdout",
       "text": [
        "\n",
        "72"
       ]
      },
      {
       "output_type": "stream",
       "stream": "stdout",
       "text": [
        "\n",
        "73"
       ]
      },
      {
       "output_type": "stream",
       "stream": "stdout",
       "text": [
        "\n",
        "74"
       ]
      },
      {
       "output_type": "stream",
       "stream": "stdout",
       "text": [
        "\n",
        "75"
       ]
      },
      {
       "output_type": "stream",
       "stream": "stdout",
       "text": [
        "\n",
        "76"
       ]
      },
      {
       "output_type": "stream",
       "stream": "stdout",
       "text": [
        "\n",
        "77"
       ]
      },
      {
       "output_type": "stream",
       "stream": "stdout",
       "text": [
        "\n",
        "78"
       ]
      },
      {
       "output_type": "stream",
       "stream": "stdout",
       "text": [
        "\n",
        "79"
       ]
      },
      {
       "output_type": "stream",
       "stream": "stdout",
       "text": [
        "\n",
        "80"
       ]
      },
      {
       "output_type": "stream",
       "stream": "stdout",
       "text": [
        "\n",
        "81"
       ]
      },
      {
       "output_type": "stream",
       "stream": "stdout",
       "text": [
        "\n",
        "82"
       ]
      },
      {
       "output_type": "stream",
       "stream": "stdout",
       "text": [
        "\n",
        "83"
       ]
      },
      {
       "output_type": "stream",
       "stream": "stdout",
       "text": [
        "\n",
        "84"
       ]
      },
      {
       "output_type": "stream",
       "stream": "stdout",
       "text": [
        "\n",
        "85"
       ]
      },
      {
       "output_type": "stream",
       "stream": "stdout",
       "text": [
        "\n",
        "86"
       ]
      },
      {
       "output_type": "stream",
       "stream": "stdout",
       "text": [
        "\n",
        "87"
       ]
      },
      {
       "output_type": "stream",
       "stream": "stdout",
       "text": [
        "\n",
        "88"
       ]
      },
      {
       "output_type": "stream",
       "stream": "stdout",
       "text": [
        "\n",
        "89"
       ]
      },
      {
       "output_type": "stream",
       "stream": "stdout",
       "text": [
        "\n",
        "90"
       ]
      },
      {
       "output_type": "stream",
       "stream": "stdout",
       "text": [
        "\n",
        "91"
       ]
      },
      {
       "output_type": "stream",
       "stream": "stdout",
       "text": [
        "\n",
        "92"
       ]
      },
      {
       "output_type": "stream",
       "stream": "stdout",
       "text": [
        "\n",
        "93"
       ]
      },
      {
       "output_type": "stream",
       "stream": "stdout",
       "text": [
        "\n",
        "94"
       ]
      },
      {
       "output_type": "stream",
       "stream": "stdout",
       "text": [
        "\n",
        "95"
       ]
      },
      {
       "output_type": "stream",
       "stream": "stdout",
       "text": [
        "\n",
        "96"
       ]
      },
      {
       "output_type": "stream",
       "stream": "stdout",
       "text": [
        "\n",
        "97"
       ]
      },
      {
       "output_type": "stream",
       "stream": "stdout",
       "text": [
        "\n",
        "98"
       ]
      },
      {
       "output_type": "stream",
       "stream": "stdout",
       "text": [
        "\n",
        "99"
       ]
      },
      {
       "output_type": "stream",
       "stream": "stdout",
       "text": [
        "\n",
        "100"
       ]
      },
      {
       "output_type": "stream",
       "stream": "stdout",
       "text": [
        "\n",
        "101"
       ]
      },
      {
       "output_type": "stream",
       "stream": "stdout",
       "text": [
        "\n",
        "102"
       ]
      },
      {
       "output_type": "stream",
       "stream": "stdout",
       "text": [
        "\n",
        "103"
       ]
      },
      {
       "output_type": "stream",
       "stream": "stdout",
       "text": [
        "\n",
        "104"
       ]
      },
      {
       "output_type": "stream",
       "stream": "stdout",
       "text": [
        "\n",
        "105"
       ]
      },
      {
       "output_type": "stream",
       "stream": "stdout",
       "text": [
        "\n",
        "106"
       ]
      },
      {
       "output_type": "stream",
       "stream": "stdout",
       "text": [
        "\n",
        "107"
       ]
      },
      {
       "output_type": "stream",
       "stream": "stdout",
       "text": [
        "\n",
        "108"
       ]
      },
      {
       "output_type": "stream",
       "stream": "stdout",
       "text": [
        "\n",
        "109"
       ]
      },
      {
       "output_type": "stream",
       "stream": "stdout",
       "text": [
        "\n",
        "110"
       ]
      },
      {
       "output_type": "stream",
       "stream": "stdout",
       "text": [
        "\n",
        "111"
       ]
      },
      {
       "output_type": "stream",
       "stream": "stdout",
       "text": [
        "\n",
        "112"
       ]
      },
      {
       "output_type": "stream",
       "stream": "stdout",
       "text": [
        "\n",
        "113"
       ]
      },
      {
       "output_type": "stream",
       "stream": "stdout",
       "text": [
        "\n",
        "114"
       ]
      },
      {
       "output_type": "stream",
       "stream": "stdout",
       "text": [
        "\n",
        "115"
       ]
      },
      {
       "output_type": "stream",
       "stream": "stdout",
       "text": [
        "\n",
        "116"
       ]
      },
      {
       "output_type": "stream",
       "stream": "stdout",
       "text": [
        "\n",
        "117"
       ]
      },
      {
       "output_type": "stream",
       "stream": "stdout",
       "text": [
        "\n",
        "118"
       ]
      },
      {
       "output_type": "stream",
       "stream": "stdout",
       "text": [
        "\n",
        "119"
       ]
      },
      {
       "output_type": "stream",
       "stream": "stdout",
       "text": [
        "\n",
        "120"
       ]
      },
      {
       "output_type": "stream",
       "stream": "stdout",
       "text": [
        "\n",
        "121"
       ]
      },
      {
       "output_type": "stream",
       "stream": "stdout",
       "text": [
        "\n",
        "122"
       ]
      },
      {
       "output_type": "stream",
       "stream": "stdout",
       "text": [
        "\n",
        "123"
       ]
      },
      {
       "output_type": "stream",
       "stream": "stdout",
       "text": [
        "\n",
        "124"
       ]
      },
      {
       "output_type": "stream",
       "stream": "stdout",
       "text": [
        "\n",
        "125"
       ]
      },
      {
       "output_type": "stream",
       "stream": "stdout",
       "text": [
        "\n",
        "126"
       ]
      },
      {
       "output_type": "stream",
       "stream": "stdout",
       "text": [
        "\n",
        "127"
       ]
      },
      {
       "output_type": "stream",
       "stream": "stdout",
       "text": [
        "\n",
        "128"
       ]
      },
      {
       "output_type": "stream",
       "stream": "stdout",
       "text": [
        "\n",
        "129"
       ]
      },
      {
       "output_type": "stream",
       "stream": "stdout",
       "text": [
        "\n",
        "130"
       ]
      },
      {
       "output_type": "stream",
       "stream": "stdout",
       "text": [
        "\n",
        "131"
       ]
      },
      {
       "output_type": "stream",
       "stream": "stdout",
       "text": [
        "\n",
        "132"
       ]
      },
      {
       "output_type": "stream",
       "stream": "stdout",
       "text": [
        "\n",
        "133"
       ]
      },
      {
       "output_type": "stream",
       "stream": "stdout",
       "text": [
        "\n",
        "134"
       ]
      },
      {
       "output_type": "stream",
       "stream": "stdout",
       "text": [
        "\n",
        "135"
       ]
      },
      {
       "output_type": "stream",
       "stream": "stdout",
       "text": [
        "\n",
        "136"
       ]
      },
      {
       "output_type": "stream",
       "stream": "stdout",
       "text": [
        "\n",
        "137"
       ]
      },
      {
       "output_type": "stream",
       "stream": "stdout",
       "text": [
        "\n",
        "138"
       ]
      },
      {
       "output_type": "stream",
       "stream": "stdout",
       "text": [
        "\n",
        "139"
       ]
      },
      {
       "output_type": "stream",
       "stream": "stdout",
       "text": [
        "\n",
        "140"
       ]
      },
      {
       "output_type": "stream",
       "stream": "stdout",
       "text": [
        "\n",
        "141"
       ]
      },
      {
       "output_type": "stream",
       "stream": "stdout",
       "text": [
        "\n",
        "142"
       ]
      },
      {
       "output_type": "stream",
       "stream": "stdout",
       "text": [
        "\n",
        "143"
       ]
      },
      {
       "output_type": "stream",
       "stream": "stdout",
       "text": [
        "\n",
        "144"
       ]
      },
      {
       "output_type": "stream",
       "stream": "stdout",
       "text": [
        "\n",
        "145"
       ]
      },
      {
       "output_type": "stream",
       "stream": "stdout",
       "text": [
        "\n",
        "146"
       ]
      },
      {
       "output_type": "stream",
       "stream": "stdout",
       "text": [
        "\n",
        "147"
       ]
      },
      {
       "output_type": "stream",
       "stream": "stdout",
       "text": [
        "\n",
        "148"
       ]
      },
      {
       "output_type": "stream",
       "stream": "stdout",
       "text": [
        "\n",
        "149"
       ]
      },
      {
       "output_type": "stream",
       "stream": "stdout",
       "text": [
        "\n",
        "150"
       ]
      },
      {
       "output_type": "stream",
       "stream": "stdout",
       "text": [
        "\n",
        "151"
       ]
      },
      {
       "output_type": "stream",
       "stream": "stdout",
       "text": [
        "\n",
        "152"
       ]
      },
      {
       "output_type": "stream",
       "stream": "stdout",
       "text": [
        "\n",
        "153"
       ]
      },
      {
       "output_type": "stream",
       "stream": "stdout",
       "text": [
        "\n",
        "154"
       ]
      },
      {
       "output_type": "stream",
       "stream": "stdout",
       "text": [
        "\n",
        "155"
       ]
      },
      {
       "output_type": "stream",
       "stream": "stdout",
       "text": [
        "\n",
        "156"
       ]
      },
      {
       "output_type": "stream",
       "stream": "stdout",
       "text": [
        "\n",
        "157"
       ]
      },
      {
       "output_type": "stream",
       "stream": "stdout",
       "text": [
        "\n",
        "158"
       ]
      },
      {
       "output_type": "stream",
       "stream": "stdout",
       "text": [
        "\n",
        "159"
       ]
      },
      {
       "output_type": "stream",
       "stream": "stdout",
       "text": [
        "\n",
        "160"
       ]
      },
      {
       "output_type": "stream",
       "stream": "stdout",
       "text": [
        "\n",
        "161"
       ]
      },
      {
       "output_type": "stream",
       "stream": "stdout",
       "text": [
        "\n",
        "162"
       ]
      },
      {
       "output_type": "stream",
       "stream": "stdout",
       "text": [
        "\n",
        "163"
       ]
      },
      {
       "output_type": "stream",
       "stream": "stdout",
       "text": [
        "\n",
        "164"
       ]
      },
      {
       "output_type": "stream",
       "stream": "stdout",
       "text": [
        "\n",
        "165"
       ]
      },
      {
       "output_type": "stream",
       "stream": "stdout",
       "text": [
        "\n",
        "166"
       ]
      },
      {
       "output_type": "stream",
       "stream": "stdout",
       "text": [
        "\n",
        "167"
       ]
      },
      {
       "output_type": "stream",
       "stream": "stdout",
       "text": [
        "\n",
        "168"
       ]
      },
      {
       "output_type": "stream",
       "stream": "stdout",
       "text": [
        "\n",
        "169"
       ]
      },
      {
       "output_type": "stream",
       "stream": "stdout",
       "text": [
        "\n",
        "170"
       ]
      },
      {
       "output_type": "stream",
       "stream": "stdout",
       "text": [
        "\n",
        "171"
       ]
      },
      {
       "output_type": "stream",
       "stream": "stdout",
       "text": [
        "\n",
        "172"
       ]
      },
      {
       "output_type": "stream",
       "stream": "stdout",
       "text": [
        "\n",
        "173"
       ]
      },
      {
       "output_type": "stream",
       "stream": "stdout",
       "text": [
        "\n",
        "174"
       ]
      },
      {
       "output_type": "stream",
       "stream": "stdout",
       "text": [
        "\n",
        "175"
       ]
      },
      {
       "output_type": "stream",
       "stream": "stdout",
       "text": [
        "\n",
        "176"
       ]
      },
      {
       "output_type": "stream",
       "stream": "stdout",
       "text": [
        "\n",
        "177"
       ]
      },
      {
       "output_type": "stream",
       "stream": "stdout",
       "text": [
        "\n",
        "178"
       ]
      },
      {
       "output_type": "stream",
       "stream": "stdout",
       "text": [
        "\n",
        "179"
       ]
      },
      {
       "output_type": "stream",
       "stream": "stdout",
       "text": [
        "\n",
        "180"
       ]
      },
      {
       "output_type": "stream",
       "stream": "stdout",
       "text": [
        "\n",
        "181"
       ]
      },
      {
       "output_type": "stream",
       "stream": "stdout",
       "text": [
        "\n",
        "182"
       ]
      },
      {
       "output_type": "stream",
       "stream": "stdout",
       "text": [
        "\n",
        "183"
       ]
      },
      {
       "output_type": "stream",
       "stream": "stdout",
       "text": [
        "\n",
        "184"
       ]
      },
      {
       "output_type": "stream",
       "stream": "stdout",
       "text": [
        "\n",
        "185"
       ]
      },
      {
       "output_type": "stream",
       "stream": "stdout",
       "text": [
        "\n",
        "186"
       ]
      },
      {
       "output_type": "stream",
       "stream": "stdout",
       "text": [
        "\n",
        "187"
       ]
      },
      {
       "output_type": "stream",
       "stream": "stdout",
       "text": [
        "\n",
        "188"
       ]
      },
      {
       "output_type": "stream",
       "stream": "stdout",
       "text": [
        "\n",
        "189"
       ]
      },
      {
       "output_type": "stream",
       "stream": "stdout",
       "text": [
        "\n",
        "190"
       ]
      },
      {
       "output_type": "stream",
       "stream": "stdout",
       "text": [
        "\n",
        "191"
       ]
      },
      {
       "output_type": "stream",
       "stream": "stdout",
       "text": [
        "\n",
        "192"
       ]
      },
      {
       "output_type": "stream",
       "stream": "stdout",
       "text": [
        "\n",
        "193"
       ]
      },
      {
       "output_type": "stream",
       "stream": "stdout",
       "text": [
        "\n",
        "194"
       ]
      },
      {
       "output_type": "stream",
       "stream": "stdout",
       "text": [
        "\n",
        "195"
       ]
      },
      {
       "output_type": "stream",
       "stream": "stdout",
       "text": [
        "\n",
        "196"
       ]
      },
      {
       "output_type": "stream",
       "stream": "stdout",
       "text": [
        "\n",
        "197"
       ]
      },
      {
       "output_type": "stream",
       "stream": "stdout",
       "text": [
        "\n",
        "198"
       ]
      },
      {
       "output_type": "stream",
       "stream": "stdout",
       "text": [
        "\n",
        "199"
       ]
      },
      {
       "output_type": "stream",
       "stream": "stdout",
       "text": [
        "\n",
        "200"
       ]
      },
      {
       "output_type": "stream",
       "stream": "stdout",
       "text": [
        "\n",
        "201"
       ]
      },
      {
       "output_type": "stream",
       "stream": "stdout",
       "text": [
        "\n",
        "202"
       ]
      },
      {
       "output_type": "stream",
       "stream": "stdout",
       "text": [
        "\n",
        "203"
       ]
      },
      {
       "output_type": "stream",
       "stream": "stdout",
       "text": [
        "\n",
        "204"
       ]
      },
      {
       "output_type": "stream",
       "stream": "stdout",
       "text": [
        "\n",
        "205"
       ]
      },
      {
       "output_type": "stream",
       "stream": "stdout",
       "text": [
        "\n",
        "206"
       ]
      },
      {
       "output_type": "stream",
       "stream": "stdout",
       "text": [
        "\n",
        "207"
       ]
      },
      {
       "output_type": "stream",
       "stream": "stdout",
       "text": [
        "\n",
        "208"
       ]
      },
      {
       "output_type": "stream",
       "stream": "stdout",
       "text": [
        "\n",
        "209"
       ]
      },
      {
       "output_type": "stream",
       "stream": "stdout",
       "text": [
        "\n",
        "210"
       ]
      },
      {
       "output_type": "stream",
       "stream": "stdout",
       "text": [
        "\n",
        "211"
       ]
      },
      {
       "output_type": "stream",
       "stream": "stdout",
       "text": [
        "\n",
        "212"
       ]
      },
      {
       "output_type": "stream",
       "stream": "stdout",
       "text": [
        "\n",
        "213"
       ]
      },
      {
       "output_type": "stream",
       "stream": "stdout",
       "text": [
        "\n",
        "214"
       ]
      },
      {
       "output_type": "stream",
       "stream": "stdout",
       "text": [
        "\n",
        "215"
       ]
      },
      {
       "output_type": "stream",
       "stream": "stdout",
       "text": [
        "\n",
        "216"
       ]
      },
      {
       "output_type": "stream",
       "stream": "stdout",
       "text": [
        "\n",
        "217"
       ]
      },
      {
       "output_type": "stream",
       "stream": "stdout",
       "text": [
        "\n",
        "218"
       ]
      },
      {
       "output_type": "stream",
       "stream": "stdout",
       "text": [
        "\n",
        "219"
       ]
      },
      {
       "output_type": "stream",
       "stream": "stdout",
       "text": [
        "\n",
        "220"
       ]
      },
      {
       "output_type": "stream",
       "stream": "stdout",
       "text": [
        "\n",
        "221"
       ]
      },
      {
       "output_type": "stream",
       "stream": "stdout",
       "text": [
        "\n",
        "222"
       ]
      },
      {
       "output_type": "stream",
       "stream": "stdout",
       "text": [
        "\n",
        "223"
       ]
      },
      {
       "output_type": "stream",
       "stream": "stdout",
       "text": [
        "\n",
        "224"
       ]
      },
      {
       "output_type": "stream",
       "stream": "stdout",
       "text": [
        "\n",
        "225"
       ]
      },
      {
       "output_type": "stream",
       "stream": "stdout",
       "text": [
        "\n",
        "226"
       ]
      },
      {
       "output_type": "stream",
       "stream": "stdout",
       "text": [
        "\n",
        "227"
       ]
      },
      {
       "output_type": "stream",
       "stream": "stdout",
       "text": [
        "\n",
        "228"
       ]
      },
      {
       "output_type": "stream",
       "stream": "stdout",
       "text": [
        "\n",
        "229"
       ]
      },
      {
       "output_type": "stream",
       "stream": "stdout",
       "text": [
        "\n",
        "230"
       ]
      },
      {
       "output_type": "stream",
       "stream": "stdout",
       "text": [
        "\n",
        "231"
       ]
      },
      {
       "output_type": "stream",
       "stream": "stdout",
       "text": [
        "\n",
        "232"
       ]
      },
      {
       "output_type": "stream",
       "stream": "stdout",
       "text": [
        "\n",
        "233"
       ]
      },
      {
       "output_type": "stream",
       "stream": "stdout",
       "text": [
        "\n",
        "234"
       ]
      },
      {
       "output_type": "stream",
       "stream": "stdout",
       "text": [
        "\n",
        "235"
       ]
      },
      {
       "output_type": "stream",
       "stream": "stdout",
       "text": [
        "\n",
        "236"
       ]
      },
      {
       "output_type": "stream",
       "stream": "stdout",
       "text": [
        "\n",
        "237"
       ]
      },
      {
       "output_type": "stream",
       "stream": "stdout",
       "text": [
        "\n",
        "238"
       ]
      },
      {
       "output_type": "stream",
       "stream": "stdout",
       "text": [
        "\n",
        "239"
       ]
      },
      {
       "output_type": "stream",
       "stream": "stdout",
       "text": [
        "\n",
        "240"
       ]
      },
      {
       "output_type": "stream",
       "stream": "stdout",
       "text": [
        "\n",
        "241"
       ]
      },
      {
       "output_type": "stream",
       "stream": "stdout",
       "text": [
        "\n",
        "242"
       ]
      },
      {
       "output_type": "stream",
       "stream": "stdout",
       "text": [
        "\n",
        "243"
       ]
      },
      {
       "output_type": "stream",
       "stream": "stdout",
       "text": [
        "\n",
        "244"
       ]
      },
      {
       "output_type": "stream",
       "stream": "stdout",
       "text": [
        "\n",
        "245"
       ]
      },
      {
       "output_type": "stream",
       "stream": "stdout",
       "text": [
        "\n",
        "246"
       ]
      },
      {
       "output_type": "stream",
       "stream": "stdout",
       "text": [
        "\n",
        "247"
       ]
      },
      {
       "output_type": "stream",
       "stream": "stdout",
       "text": [
        "\n",
        "248"
       ]
      },
      {
       "output_type": "stream",
       "stream": "stdout",
       "text": [
        "\n",
        "249"
       ]
      },
      {
       "output_type": "stream",
       "stream": "stdout",
       "text": [
        "\n",
        "250"
       ]
      },
      {
       "output_type": "stream",
       "stream": "stdout",
       "text": [
        "\n",
        "251"
       ]
      },
      {
       "output_type": "stream",
       "stream": "stdout",
       "text": [
        "\n",
        "252"
       ]
      },
      {
       "output_type": "stream",
       "stream": "stdout",
       "text": [
        "\n",
        "253"
       ]
      },
      {
       "output_type": "stream",
       "stream": "stdout",
       "text": [
        "\n",
        "254"
       ]
      },
      {
       "output_type": "stream",
       "stream": "stdout",
       "text": [
        "\n",
        "255"
       ]
      },
      {
       "output_type": "stream",
       "stream": "stdout",
       "text": [
        "\n",
        "256"
       ]
      },
      {
       "output_type": "stream",
       "stream": "stdout",
       "text": [
        "\n",
        "257"
       ]
      },
      {
       "output_type": "stream",
       "stream": "stdout",
       "text": [
        "\n",
        "258"
       ]
      },
      {
       "output_type": "stream",
       "stream": "stdout",
       "text": [
        "\n",
        "259"
       ]
      },
      {
       "output_type": "stream",
       "stream": "stdout",
       "text": [
        "\n",
        "260"
       ]
      },
      {
       "output_type": "stream",
       "stream": "stdout",
       "text": [
        "\n",
        "261"
       ]
      },
      {
       "output_type": "stream",
       "stream": "stdout",
       "text": [
        "\n",
        "262"
       ]
      },
      {
       "output_type": "stream",
       "stream": "stdout",
       "text": [
        "\n",
        "263"
       ]
      },
      {
       "output_type": "stream",
       "stream": "stdout",
       "text": [
        "\n",
        "264"
       ]
      },
      {
       "output_type": "stream",
       "stream": "stdout",
       "text": [
        "\n",
        "265"
       ]
      },
      {
       "output_type": "stream",
       "stream": "stdout",
       "text": [
        "\n",
        "266"
       ]
      },
      {
       "output_type": "stream",
       "stream": "stdout",
       "text": [
        "\n",
        "267"
       ]
      },
      {
       "output_type": "stream",
       "stream": "stdout",
       "text": [
        "\n",
        "268"
       ]
      },
      {
       "output_type": "stream",
       "stream": "stdout",
       "text": [
        "\n",
        "269"
       ]
      },
      {
       "output_type": "stream",
       "stream": "stdout",
       "text": [
        "\n",
        "270"
       ]
      },
      {
       "output_type": "stream",
       "stream": "stdout",
       "text": [
        "\n",
        "271"
       ]
      },
      {
       "output_type": "stream",
       "stream": "stdout",
       "text": [
        "\n",
        "272"
       ]
      },
      {
       "output_type": "stream",
       "stream": "stdout",
       "text": [
        "\n",
        "273"
       ]
      },
      {
       "output_type": "stream",
       "stream": "stdout",
       "text": [
        "\n",
        "274"
       ]
      },
      {
       "output_type": "stream",
       "stream": "stdout",
       "text": [
        "\n",
        "275"
       ]
      },
      {
       "output_type": "stream",
       "stream": "stdout",
       "text": [
        "\n",
        "276"
       ]
      },
      {
       "output_type": "stream",
       "stream": "stdout",
       "text": [
        "\n",
        "277"
       ]
      },
      {
       "output_type": "stream",
       "stream": "stdout",
       "text": [
        "\n",
        "278"
       ]
      },
      {
       "output_type": "stream",
       "stream": "stdout",
       "text": [
        "\n",
        "279"
       ]
      },
      {
       "output_type": "stream",
       "stream": "stdout",
       "text": [
        "\n",
        "280"
       ]
      },
      {
       "output_type": "stream",
       "stream": "stdout",
       "text": [
        "\n",
        "281"
       ]
      },
      {
       "output_type": "stream",
       "stream": "stdout",
       "text": [
        "\n",
        "282"
       ]
      },
      {
       "output_type": "stream",
       "stream": "stdout",
       "text": [
        "\n",
        "283"
       ]
      },
      {
       "output_type": "stream",
       "stream": "stdout",
       "text": [
        "\n",
        "284"
       ]
      },
      {
       "output_type": "stream",
       "stream": "stdout",
       "text": [
        "\n",
        "285"
       ]
      },
      {
       "output_type": "stream",
       "stream": "stdout",
       "text": [
        "\n",
        "286"
       ]
      },
      {
       "output_type": "stream",
       "stream": "stdout",
       "text": [
        "\n",
        "287"
       ]
      },
      {
       "output_type": "stream",
       "stream": "stdout",
       "text": [
        "\n",
        "288"
       ]
      },
      {
       "output_type": "stream",
       "stream": "stdout",
       "text": [
        "\n",
        "289"
       ]
      },
      {
       "output_type": "stream",
       "stream": "stdout",
       "text": [
        "\n",
        "290"
       ]
      },
      {
       "output_type": "stream",
       "stream": "stdout",
       "text": [
        "\n",
        "291"
       ]
      },
      {
       "output_type": "stream",
       "stream": "stdout",
       "text": [
        "\n",
        "292"
       ]
      },
      {
       "output_type": "stream",
       "stream": "stdout",
       "text": [
        "\n",
        "293"
       ]
      },
      {
       "output_type": "stream",
       "stream": "stdout",
       "text": [
        "\n",
        "294"
       ]
      },
      {
       "output_type": "stream",
       "stream": "stdout",
       "text": [
        "\n",
        "295"
       ]
      },
      {
       "output_type": "stream",
       "stream": "stdout",
       "text": [
        "\n",
        "296"
       ]
      },
      {
       "output_type": "stream",
       "stream": "stdout",
       "text": [
        "\n",
        "297"
       ]
      },
      {
       "output_type": "stream",
       "stream": "stdout",
       "text": [
        "\n",
        "298"
       ]
      },
      {
       "output_type": "stream",
       "stream": "stdout",
       "text": [
        "\n",
        "299"
       ]
      },
      {
       "output_type": "stream",
       "stream": "stdout",
       "text": [
        "\n",
        "300"
       ]
      },
      {
       "output_type": "stream",
       "stream": "stdout",
       "text": [
        "\n",
        "301"
       ]
      },
      {
       "output_type": "stream",
       "stream": "stdout",
       "text": [
        "\n",
        "302"
       ]
      },
      {
       "output_type": "stream",
       "stream": "stdout",
       "text": [
        "\n",
        "303"
       ]
      },
      {
       "output_type": "stream",
       "stream": "stdout",
       "text": [
        "\n",
        "304"
       ]
      },
      {
       "output_type": "stream",
       "stream": "stdout",
       "text": [
        "\n",
        "305"
       ]
      },
      {
       "output_type": "stream",
       "stream": "stdout",
       "text": [
        "\n",
        "306"
       ]
      },
      {
       "output_type": "stream",
       "stream": "stdout",
       "text": [
        "\n",
        "307"
       ]
      },
      {
       "output_type": "stream",
       "stream": "stdout",
       "text": [
        "\n",
        "308"
       ]
      },
      {
       "output_type": "stream",
       "stream": "stdout",
       "text": [
        "\n",
        "309"
       ]
      },
      {
       "output_type": "stream",
       "stream": "stdout",
       "text": [
        "\n",
        "310"
       ]
      },
      {
       "output_type": "stream",
       "stream": "stdout",
       "text": [
        "\n",
        "311"
       ]
      },
      {
       "output_type": "stream",
       "stream": "stdout",
       "text": [
        "\n",
        "312"
       ]
      },
      {
       "output_type": "stream",
       "stream": "stdout",
       "text": [
        "\n",
        "313"
       ]
      },
      {
       "output_type": "stream",
       "stream": "stdout",
       "text": [
        "\n",
        "314"
       ]
      },
      {
       "output_type": "stream",
       "stream": "stdout",
       "text": [
        "\n",
        "315"
       ]
      },
      {
       "output_type": "stream",
       "stream": "stdout",
       "text": [
        "\n",
        "316"
       ]
      },
      {
       "output_type": "stream",
       "stream": "stdout",
       "text": [
        "\n",
        "317"
       ]
      },
      {
       "output_type": "stream",
       "stream": "stdout",
       "text": [
        "\n",
        "318"
       ]
      },
      {
       "output_type": "stream",
       "stream": "stdout",
       "text": [
        "\n",
        "319"
       ]
      },
      {
       "output_type": "stream",
       "stream": "stdout",
       "text": [
        "\n",
        "320"
       ]
      },
      {
       "output_type": "stream",
       "stream": "stdout",
       "text": [
        "\n",
        "321"
       ]
      },
      {
       "output_type": "stream",
       "stream": "stdout",
       "text": [
        "\n",
        "322"
       ]
      },
      {
       "output_type": "stream",
       "stream": "stdout",
       "text": [
        "\n",
        "323"
       ]
      },
      {
       "output_type": "stream",
       "stream": "stdout",
       "text": [
        "\n",
        "324"
       ]
      },
      {
       "output_type": "stream",
       "stream": "stdout",
       "text": [
        "\n",
        "325"
       ]
      },
      {
       "output_type": "stream",
       "stream": "stdout",
       "text": [
        "\n",
        "326"
       ]
      },
      {
       "output_type": "stream",
       "stream": "stdout",
       "text": [
        "\n",
        "327"
       ]
      },
      {
       "output_type": "stream",
       "stream": "stdout",
       "text": [
        "\n",
        "328"
       ]
      },
      {
       "output_type": "stream",
       "stream": "stdout",
       "text": [
        "\n",
        "329"
       ]
      },
      {
       "output_type": "stream",
       "stream": "stdout",
       "text": [
        "\n",
        "330"
       ]
      },
      {
       "output_type": "stream",
       "stream": "stdout",
       "text": [
        "\n",
        "331"
       ]
      },
      {
       "output_type": "stream",
       "stream": "stdout",
       "text": [
        "\n",
        "332"
       ]
      },
      {
       "output_type": "stream",
       "stream": "stdout",
       "text": [
        "\n",
        "333"
       ]
      },
      {
       "output_type": "stream",
       "stream": "stdout",
       "text": [
        "\n",
        "334"
       ]
      },
      {
       "output_type": "stream",
       "stream": "stdout",
       "text": [
        "\n",
        "335"
       ]
      },
      {
       "output_type": "stream",
       "stream": "stdout",
       "text": [
        "\n",
        "336"
       ]
      },
      {
       "output_type": "stream",
       "stream": "stdout",
       "text": [
        "\n",
        "337"
       ]
      },
      {
       "output_type": "stream",
       "stream": "stdout",
       "text": [
        "\n",
        "338"
       ]
      },
      {
       "output_type": "stream",
       "stream": "stdout",
       "text": [
        "\n",
        "339"
       ]
      },
      {
       "output_type": "stream",
       "stream": "stdout",
       "text": [
        "\n",
        "340"
       ]
      },
      {
       "output_type": "stream",
       "stream": "stdout",
       "text": [
        "\n",
        "341"
       ]
      },
      {
       "output_type": "stream",
       "stream": "stdout",
       "text": [
        "\n",
        "342"
       ]
      },
      {
       "output_type": "stream",
       "stream": "stdout",
       "text": [
        "\n",
        "343"
       ]
      },
      {
       "output_type": "stream",
       "stream": "stdout",
       "text": [
        "\n",
        "344"
       ]
      },
      {
       "output_type": "stream",
       "stream": "stdout",
       "text": [
        "\n",
        "345"
       ]
      },
      {
       "output_type": "stream",
       "stream": "stdout",
       "text": [
        "\n",
        "346"
       ]
      },
      {
       "output_type": "stream",
       "stream": "stdout",
       "text": [
        "\n",
        "347"
       ]
      },
      {
       "output_type": "stream",
       "stream": "stdout",
       "text": [
        "\n",
        "348"
       ]
      },
      {
       "output_type": "stream",
       "stream": "stdout",
       "text": [
        "\n",
        "349"
       ]
      },
      {
       "output_type": "stream",
       "stream": "stdout",
       "text": [
        "\n",
        "350"
       ]
      },
      {
       "output_type": "stream",
       "stream": "stdout",
       "text": [
        "\n",
        "351"
       ]
      },
      {
       "output_type": "stream",
       "stream": "stdout",
       "text": [
        "\n",
        "352"
       ]
      },
      {
       "output_type": "stream",
       "stream": "stdout",
       "text": [
        "\n",
        "353"
       ]
      },
      {
       "output_type": "stream",
       "stream": "stdout",
       "text": [
        "\n",
        "354"
       ]
      },
      {
       "output_type": "stream",
       "stream": "stdout",
       "text": [
        "\n",
        "355"
       ]
      },
      {
       "output_type": "stream",
       "stream": "stdout",
       "text": [
        "\n",
        "356"
       ]
      },
      {
       "output_type": "stream",
       "stream": "stdout",
       "text": [
        "\n",
        "357"
       ]
      },
      {
       "output_type": "stream",
       "stream": "stdout",
       "text": [
        "\n",
        "358"
       ]
      },
      {
       "output_type": "stream",
       "stream": "stdout",
       "text": [
        "\n",
        "359"
       ]
      },
      {
       "output_type": "stream",
       "stream": "stdout",
       "text": [
        "\n",
        "360"
       ]
      },
      {
       "output_type": "stream",
       "stream": "stdout",
       "text": [
        "\n",
        "361"
       ]
      },
      {
       "output_type": "stream",
       "stream": "stdout",
       "text": [
        "\n",
        "362"
       ]
      },
      {
       "output_type": "stream",
       "stream": "stdout",
       "text": [
        "\n",
        "363"
       ]
      },
      {
       "output_type": "stream",
       "stream": "stdout",
       "text": [
        "\n",
        "364"
       ]
      },
      {
       "output_type": "stream",
       "stream": "stdout",
       "text": [
        "\n",
        "365"
       ]
      },
      {
       "output_type": "stream",
       "stream": "stdout",
       "text": [
        "\n",
        "366"
       ]
      },
      {
       "output_type": "stream",
       "stream": "stdout",
       "text": [
        "\n",
        "367"
       ]
      },
      {
       "output_type": "stream",
       "stream": "stdout",
       "text": [
        "\n",
        "368"
       ]
      },
      {
       "output_type": "stream",
       "stream": "stdout",
       "text": [
        "\n",
        "369"
       ]
      },
      {
       "output_type": "stream",
       "stream": "stdout",
       "text": [
        "\n",
        "370"
       ]
      },
      {
       "output_type": "stream",
       "stream": "stdout",
       "text": [
        "\n",
        "371"
       ]
      },
      {
       "output_type": "stream",
       "stream": "stdout",
       "text": [
        "\n",
        "372"
       ]
      },
      {
       "output_type": "stream",
       "stream": "stdout",
       "text": [
        "\n",
        "373"
       ]
      },
      {
       "output_type": "stream",
       "stream": "stdout",
       "text": [
        "\n",
        "374"
       ]
      },
      {
       "output_type": "stream",
       "stream": "stdout",
       "text": [
        "\n",
        "375"
       ]
      },
      {
       "output_type": "stream",
       "stream": "stdout",
       "text": [
        "\n",
        "376"
       ]
      },
      {
       "output_type": "stream",
       "stream": "stdout",
       "text": [
        "\n",
        "377"
       ]
      },
      {
       "output_type": "stream",
       "stream": "stdout",
       "text": [
        "\n",
        "378"
       ]
      },
      {
       "output_type": "stream",
       "stream": "stdout",
       "text": [
        "\n",
        "379"
       ]
      },
      {
       "output_type": "stream",
       "stream": "stdout",
       "text": [
        "\n",
        "380"
       ]
      },
      {
       "output_type": "stream",
       "stream": "stdout",
       "text": [
        "\n",
        "381"
       ]
      },
      {
       "output_type": "stream",
       "stream": "stdout",
       "text": [
        "\n",
        "382"
       ]
      },
      {
       "output_type": "stream",
       "stream": "stdout",
       "text": [
        "\n",
        "383"
       ]
      },
      {
       "output_type": "stream",
       "stream": "stdout",
       "text": [
        "\n",
        "384"
       ]
      },
      {
       "output_type": "stream",
       "stream": "stdout",
       "text": [
        "\n",
        "385"
       ]
      },
      {
       "output_type": "stream",
       "stream": "stdout",
       "text": [
        "\n",
        "386"
       ]
      },
      {
       "output_type": "stream",
       "stream": "stdout",
       "text": [
        "\n",
        "387"
       ]
      },
      {
       "output_type": "stream",
       "stream": "stdout",
       "text": [
        "\n",
        "388"
       ]
      },
      {
       "output_type": "stream",
       "stream": "stdout",
       "text": [
        "\n",
        "389"
       ]
      },
      {
       "output_type": "stream",
       "stream": "stdout",
       "text": [
        "\n",
        "390"
       ]
      },
      {
       "output_type": "stream",
       "stream": "stdout",
       "text": [
        "\n",
        "391"
       ]
      },
      {
       "output_type": "stream",
       "stream": "stdout",
       "text": [
        "\n",
        "392"
       ]
      },
      {
       "output_type": "stream",
       "stream": "stdout",
       "text": [
        "\n",
        "393"
       ]
      },
      {
       "output_type": "stream",
       "stream": "stdout",
       "text": [
        "\n",
        "394"
       ]
      },
      {
       "output_type": "stream",
       "stream": "stdout",
       "text": [
        "\n",
        "395"
       ]
      },
      {
       "output_type": "stream",
       "stream": "stdout",
       "text": [
        "\n",
        "396"
       ]
      },
      {
       "output_type": "stream",
       "stream": "stdout",
       "text": [
        "\n",
        "397"
       ]
      },
      {
       "output_type": "stream",
       "stream": "stdout",
       "text": [
        "\n",
        "398"
       ]
      },
      {
       "output_type": "stream",
       "stream": "stdout",
       "text": [
        "\n",
        "399"
       ]
      },
      {
       "output_type": "stream",
       "stream": "stdout",
       "text": [
        "\n",
        "400"
       ]
      },
      {
       "output_type": "stream",
       "stream": "stdout",
       "text": [
        "\n",
        "401"
       ]
      },
      {
       "output_type": "stream",
       "stream": "stdout",
       "text": [
        "\n",
        "402"
       ]
      },
      {
       "output_type": "stream",
       "stream": "stdout",
       "text": [
        "\n",
        "403"
       ]
      },
      {
       "output_type": "stream",
       "stream": "stdout",
       "text": [
        "\n",
        "404"
       ]
      },
      {
       "output_type": "stream",
       "stream": "stdout",
       "text": [
        "\n",
        "405"
       ]
      },
      {
       "output_type": "stream",
       "stream": "stdout",
       "text": [
        "\n",
        "406"
       ]
      },
      {
       "output_type": "stream",
       "stream": "stdout",
       "text": [
        "\n",
        "407"
       ]
      },
      {
       "output_type": "stream",
       "stream": "stdout",
       "text": [
        "\n",
        "408"
       ]
      },
      {
       "output_type": "stream",
       "stream": "stdout",
       "text": [
        "\n",
        "409"
       ]
      },
      {
       "output_type": "stream",
       "stream": "stdout",
       "text": [
        "\n",
        "410"
       ]
      },
      {
       "output_type": "stream",
       "stream": "stdout",
       "text": [
        "\n",
        "411"
       ]
      },
      {
       "output_type": "stream",
       "stream": "stdout",
       "text": [
        "\n",
        "412"
       ]
      },
      {
       "output_type": "stream",
       "stream": "stdout",
       "text": [
        "\n",
        "413"
       ]
      },
      {
       "output_type": "stream",
       "stream": "stdout",
       "text": [
        "\n",
        "414"
       ]
      },
      {
       "output_type": "stream",
       "stream": "stdout",
       "text": [
        "\n",
        "415"
       ]
      },
      {
       "output_type": "stream",
       "stream": "stdout",
       "text": [
        "\n",
        "416"
       ]
      },
      {
       "output_type": "stream",
       "stream": "stdout",
       "text": [
        "\n",
        "417"
       ]
      },
      {
       "output_type": "stream",
       "stream": "stdout",
       "text": [
        "\n",
        "418"
       ]
      },
      {
       "output_type": "stream",
       "stream": "stdout",
       "text": [
        "\n",
        "419"
       ]
      },
      {
       "output_type": "stream",
       "stream": "stdout",
       "text": [
        "\n",
        "420"
       ]
      },
      {
       "output_type": "stream",
       "stream": "stdout",
       "text": [
        "\n",
        "421"
       ]
      },
      {
       "output_type": "stream",
       "stream": "stdout",
       "text": [
        "\n",
        "422"
       ]
      },
      {
       "output_type": "stream",
       "stream": "stdout",
       "text": [
        "\n",
        "423"
       ]
      },
      {
       "output_type": "stream",
       "stream": "stdout",
       "text": [
        "\n",
        "424"
       ]
      },
      {
       "output_type": "stream",
       "stream": "stdout",
       "text": [
        "\n",
        "425"
       ]
      },
      {
       "output_type": "stream",
       "stream": "stdout",
       "text": [
        "\n",
        "426"
       ]
      },
      {
       "output_type": "stream",
       "stream": "stdout",
       "text": [
        "\n",
        "427"
       ]
      },
      {
       "output_type": "stream",
       "stream": "stdout",
       "text": [
        "\n",
        "428"
       ]
      },
      {
       "output_type": "stream",
       "stream": "stdout",
       "text": [
        "\n",
        "429"
       ]
      },
      {
       "output_type": "stream",
       "stream": "stdout",
       "text": [
        "\n",
        "430"
       ]
      },
      {
       "output_type": "stream",
       "stream": "stdout",
       "text": [
        "\n",
        "431"
       ]
      },
      {
       "output_type": "stream",
       "stream": "stdout",
       "text": [
        "\n",
        "432"
       ]
      },
      {
       "output_type": "stream",
       "stream": "stdout",
       "text": [
        "\n",
        "433"
       ]
      },
      {
       "output_type": "stream",
       "stream": "stdout",
       "text": [
        "\n",
        "434"
       ]
      },
      {
       "output_type": "stream",
       "stream": "stdout",
       "text": [
        "\n",
        "435"
       ]
      },
      {
       "output_type": "stream",
       "stream": "stdout",
       "text": [
        "\n",
        "436"
       ]
      },
      {
       "output_type": "stream",
       "stream": "stdout",
       "text": [
        "\n",
        "437"
       ]
      },
      {
       "output_type": "stream",
       "stream": "stdout",
       "text": [
        "\n",
        "438"
       ]
      },
      {
       "output_type": "stream",
       "stream": "stdout",
       "text": [
        "\n",
        "439"
       ]
      },
      {
       "output_type": "stream",
       "stream": "stdout",
       "text": [
        "\n",
        "440"
       ]
      },
      {
       "output_type": "stream",
       "stream": "stdout",
       "text": [
        "\n",
        "441"
       ]
      },
      {
       "output_type": "stream",
       "stream": "stdout",
       "text": [
        "\n",
        "442"
       ]
      },
      {
       "output_type": "stream",
       "stream": "stdout",
       "text": [
        "\n",
        "443"
       ]
      },
      {
       "output_type": "stream",
       "stream": "stdout",
       "text": [
        "\n",
        "444"
       ]
      },
      {
       "output_type": "stream",
       "stream": "stdout",
       "text": [
        "\n",
        "445"
       ]
      },
      {
       "output_type": "stream",
       "stream": "stdout",
       "text": [
        "\n",
        "446"
       ]
      },
      {
       "output_type": "stream",
       "stream": "stdout",
       "text": [
        "\n",
        "447"
       ]
      },
      {
       "output_type": "stream",
       "stream": "stdout",
       "text": [
        "\n",
        "448"
       ]
      },
      {
       "output_type": "stream",
       "stream": "stdout",
       "text": [
        "\n",
        "449"
       ]
      },
      {
       "output_type": "stream",
       "stream": "stdout",
       "text": [
        "\n",
        "450"
       ]
      },
      {
       "output_type": "stream",
       "stream": "stdout",
       "text": [
        "\n",
        "451"
       ]
      },
      {
       "output_type": "stream",
       "stream": "stdout",
       "text": [
        "\n",
        "452"
       ]
      },
      {
       "output_type": "stream",
       "stream": "stdout",
       "text": [
        "\n",
        "453"
       ]
      },
      {
       "output_type": "stream",
       "stream": "stdout",
       "text": [
        "\n",
        "454"
       ]
      },
      {
       "output_type": "stream",
       "stream": "stdout",
       "text": [
        "\n",
        "455"
       ]
      },
      {
       "output_type": "stream",
       "stream": "stdout",
       "text": [
        "\n",
        "456"
       ]
      },
      {
       "output_type": "stream",
       "stream": "stdout",
       "text": [
        "\n",
        "457"
       ]
      },
      {
       "output_type": "stream",
       "stream": "stdout",
       "text": [
        "\n",
        "458"
       ]
      },
      {
       "output_type": "stream",
       "stream": "stdout",
       "text": [
        "\n",
        "459"
       ]
      },
      {
       "output_type": "stream",
       "stream": "stdout",
       "text": [
        "\n",
        "460"
       ]
      },
      {
       "output_type": "stream",
       "stream": "stdout",
       "text": [
        "\n",
        "461"
       ]
      },
      {
       "output_type": "stream",
       "stream": "stdout",
       "text": [
        "\n",
        "462"
       ]
      },
      {
       "output_type": "stream",
       "stream": "stdout",
       "text": [
        "\n",
        "463"
       ]
      },
      {
       "output_type": "stream",
       "stream": "stdout",
       "text": [
        "\n",
        "464"
       ]
      },
      {
       "output_type": "stream",
       "stream": "stdout",
       "text": [
        "\n",
        "465"
       ]
      },
      {
       "output_type": "stream",
       "stream": "stdout",
       "text": [
        "\n",
        "466"
       ]
      },
      {
       "output_type": "stream",
       "stream": "stdout",
       "text": [
        "\n",
        "467"
       ]
      },
      {
       "output_type": "stream",
       "stream": "stdout",
       "text": [
        "\n",
        "468"
       ]
      },
      {
       "output_type": "stream",
       "stream": "stdout",
       "text": [
        "\n",
        "469"
       ]
      },
      {
       "output_type": "stream",
       "stream": "stdout",
       "text": [
        "\n",
        "470"
       ]
      },
      {
       "output_type": "stream",
       "stream": "stdout",
       "text": [
        "\n",
        "471"
       ]
      },
      {
       "output_type": "stream",
       "stream": "stdout",
       "text": [
        "\n",
        "472"
       ]
      },
      {
       "output_type": "stream",
       "stream": "stdout",
       "text": [
        "\n",
        "473"
       ]
      },
      {
       "output_type": "stream",
       "stream": "stdout",
       "text": [
        "\n",
        "474"
       ]
      },
      {
       "output_type": "stream",
       "stream": "stdout",
       "text": [
        "\n",
        "475"
       ]
      },
      {
       "output_type": "stream",
       "stream": "stdout",
       "text": [
        "\n",
        "476"
       ]
      },
      {
       "output_type": "stream",
       "stream": "stdout",
       "text": [
        "\n",
        "477"
       ]
      },
      {
       "output_type": "stream",
       "stream": "stdout",
       "text": [
        "\n",
        "478"
       ]
      },
      {
       "output_type": "stream",
       "stream": "stdout",
       "text": [
        "\n",
        "479"
       ]
      },
      {
       "output_type": "stream",
       "stream": "stdout",
       "text": [
        "\n",
        "480"
       ]
      },
      {
       "output_type": "stream",
       "stream": "stdout",
       "text": [
        "\n",
        "481"
       ]
      },
      {
       "output_type": "stream",
       "stream": "stdout",
       "text": [
        "\n",
        "482"
       ]
      },
      {
       "output_type": "stream",
       "stream": "stdout",
       "text": [
        "\n",
        "483"
       ]
      },
      {
       "output_type": "stream",
       "stream": "stdout",
       "text": [
        "\n",
        "484"
       ]
      },
      {
       "output_type": "stream",
       "stream": "stdout",
       "text": [
        "\n",
        "485"
       ]
      },
      {
       "output_type": "stream",
       "stream": "stdout",
       "text": [
        "\n",
        "486"
       ]
      },
      {
       "output_type": "stream",
       "stream": "stdout",
       "text": [
        "\n",
        "487"
       ]
      },
      {
       "output_type": "stream",
       "stream": "stdout",
       "text": [
        "\n",
        "488"
       ]
      },
      {
       "output_type": "stream",
       "stream": "stdout",
       "text": [
        "\n",
        "489"
       ]
      },
      {
       "output_type": "stream",
       "stream": "stdout",
       "text": [
        "\n",
        "490"
       ]
      },
      {
       "output_type": "stream",
       "stream": "stdout",
       "text": [
        "\n",
        "491"
       ]
      },
      {
       "output_type": "stream",
       "stream": "stdout",
       "text": [
        "\n",
        "492"
       ]
      },
      {
       "output_type": "stream",
       "stream": "stdout",
       "text": [
        "\n",
        "493"
       ]
      },
      {
       "output_type": "stream",
       "stream": "stdout",
       "text": [
        "\n",
        "494"
       ]
      },
      {
       "output_type": "stream",
       "stream": "stdout",
       "text": [
        "\n",
        "495"
       ]
      },
      {
       "output_type": "stream",
       "stream": "stdout",
       "text": [
        "\n",
        "496"
       ]
      },
      {
       "output_type": "stream",
       "stream": "stdout",
       "text": [
        "\n",
        "497"
       ]
      },
      {
       "output_type": "stream",
       "stream": "stdout",
       "text": [
        "\n",
        "498"
       ]
      },
      {
       "output_type": "stream",
       "stream": "stdout",
       "text": [
        "\n",
        "499"
       ]
      },
      {
       "output_type": "stream",
       "stream": "stdout",
       "text": [
        "\n",
        "500"
       ]
      },
      {
       "output_type": "stream",
       "stream": "stdout",
       "text": [
        "\n",
        "501"
       ]
      },
      {
       "output_type": "stream",
       "stream": "stdout",
       "text": [
        "\n",
        "502"
       ]
      },
      {
       "output_type": "stream",
       "stream": "stdout",
       "text": [
        "\n",
        "503"
       ]
      },
      {
       "output_type": "stream",
       "stream": "stdout",
       "text": [
        "\n",
        "504"
       ]
      },
      {
       "output_type": "stream",
       "stream": "stdout",
       "text": [
        "\n",
        "505"
       ]
      },
      {
       "output_type": "stream",
       "stream": "stdout",
       "text": [
        "\n",
        "506"
       ]
      },
      {
       "output_type": "stream",
       "stream": "stdout",
       "text": [
        "\n",
        "507"
       ]
      },
      {
       "output_type": "stream",
       "stream": "stdout",
       "text": [
        "\n",
        "508"
       ]
      },
      {
       "output_type": "stream",
       "stream": "stdout",
       "text": [
        "\n",
        "509"
       ]
      },
      {
       "output_type": "stream",
       "stream": "stdout",
       "text": [
        "\n",
        "510"
       ]
      },
      {
       "output_type": "stream",
       "stream": "stdout",
       "text": [
        "\n",
        "511"
       ]
      },
      {
       "output_type": "stream",
       "stream": "stdout",
       "text": [
        "\n",
        "512"
       ]
      },
      {
       "output_type": "stream",
       "stream": "stdout",
       "text": [
        "\n",
        "513"
       ]
      },
      {
       "output_type": "stream",
       "stream": "stdout",
       "text": [
        "\n",
        "514"
       ]
      },
      {
       "output_type": "stream",
       "stream": "stdout",
       "text": [
        "\n",
        "515"
       ]
      },
      {
       "output_type": "stream",
       "stream": "stdout",
       "text": [
        "\n",
        "516"
       ]
      },
      {
       "output_type": "stream",
       "stream": "stdout",
       "text": [
        "\n",
        "517"
       ]
      },
      {
       "output_type": "stream",
       "stream": "stdout",
       "text": [
        "\n",
        "518"
       ]
      },
      {
       "output_type": "stream",
       "stream": "stdout",
       "text": [
        "\n",
        "519"
       ]
      },
      {
       "output_type": "stream",
       "stream": "stdout",
       "text": [
        "\n",
        "520"
       ]
      },
      {
       "output_type": "stream",
       "stream": "stdout",
       "text": [
        "\n",
        "521"
       ]
      },
      {
       "output_type": "stream",
       "stream": "stdout",
       "text": [
        "\n",
        "522"
       ]
      },
      {
       "output_type": "stream",
       "stream": "stdout",
       "text": [
        "\n",
        "523"
       ]
      },
      {
       "output_type": "stream",
       "stream": "stdout",
       "text": [
        "\n",
        "524"
       ]
      },
      {
       "output_type": "stream",
       "stream": "stdout",
       "text": [
        "\n",
        "525"
       ]
      },
      {
       "output_type": "stream",
       "stream": "stdout",
       "text": [
        "\n",
        "526"
       ]
      },
      {
       "output_type": "stream",
       "stream": "stdout",
       "text": [
        "\n",
        "527"
       ]
      },
      {
       "output_type": "stream",
       "stream": "stdout",
       "text": [
        "\n",
        "528"
       ]
      },
      {
       "output_type": "stream",
       "stream": "stdout",
       "text": [
        "\n",
        "529"
       ]
      },
      {
       "output_type": "stream",
       "stream": "stdout",
       "text": [
        "\n",
        "530"
       ]
      },
      {
       "output_type": "stream",
       "stream": "stdout",
       "text": [
        "\n",
        "531"
       ]
      },
      {
       "output_type": "stream",
       "stream": "stdout",
       "text": [
        "\n",
        "532"
       ]
      },
      {
       "output_type": "stream",
       "stream": "stdout",
       "text": [
        "\n",
        "533"
       ]
      },
      {
       "output_type": "stream",
       "stream": "stdout",
       "text": [
        "\n",
        "534"
       ]
      },
      {
       "output_type": "stream",
       "stream": "stdout",
       "text": [
        "\n",
        "535"
       ]
      },
      {
       "output_type": "stream",
       "stream": "stdout",
       "text": [
        "\n",
        "536"
       ]
      },
      {
       "output_type": "stream",
       "stream": "stdout",
       "text": [
        "\n",
        "537"
       ]
      },
      {
       "output_type": "stream",
       "stream": "stdout",
       "text": [
        "\n",
        "538"
       ]
      },
      {
       "output_type": "stream",
       "stream": "stdout",
       "text": [
        "\n",
        "539"
       ]
      },
      {
       "output_type": "stream",
       "stream": "stdout",
       "text": [
        "\n",
        "540"
       ]
      },
      {
       "output_type": "stream",
       "stream": "stdout",
       "text": [
        "\n",
        "541"
       ]
      },
      {
       "output_type": "stream",
       "stream": "stdout",
       "text": [
        "\n",
        "542"
       ]
      },
      {
       "output_type": "stream",
       "stream": "stdout",
       "text": [
        "\n",
        "543"
       ]
      },
      {
       "output_type": "stream",
       "stream": "stdout",
       "text": [
        "\n",
        "544"
       ]
      },
      {
       "output_type": "stream",
       "stream": "stdout",
       "text": [
        "\n",
        "545"
       ]
      },
      {
       "output_type": "stream",
       "stream": "stdout",
       "text": [
        "\n",
        "546"
       ]
      },
      {
       "output_type": "stream",
       "stream": "stdout",
       "text": [
        "\n",
        "547"
       ]
      },
      {
       "output_type": "stream",
       "stream": "stdout",
       "text": [
        "\n",
        "548"
       ]
      },
      {
       "output_type": "stream",
       "stream": "stdout",
       "text": [
        "\n",
        "549"
       ]
      },
      {
       "output_type": "stream",
       "stream": "stdout",
       "text": [
        "\n",
        "550"
       ]
      },
      {
       "output_type": "stream",
       "stream": "stdout",
       "text": [
        "\n",
        "551"
       ]
      },
      {
       "output_type": "stream",
       "stream": "stdout",
       "text": [
        "\n",
        "552"
       ]
      },
      {
       "output_type": "stream",
       "stream": "stdout",
       "text": [
        "\n",
        "553"
       ]
      },
      {
       "output_type": "stream",
       "stream": "stdout",
       "text": [
        "\n",
        "554"
       ]
      },
      {
       "output_type": "stream",
       "stream": "stdout",
       "text": [
        "\n",
        "555"
       ]
      },
      {
       "output_type": "stream",
       "stream": "stdout",
       "text": [
        "\n",
        "556"
       ]
      },
      {
       "output_type": "stream",
       "stream": "stdout",
       "text": [
        "\n",
        "557"
       ]
      },
      {
       "output_type": "stream",
       "stream": "stdout",
       "text": [
        "\n",
        "558"
       ]
      },
      {
       "output_type": "stream",
       "stream": "stdout",
       "text": [
        "\n",
        "559"
       ]
      },
      {
       "output_type": "stream",
       "stream": "stdout",
       "text": [
        "\n",
        "560"
       ]
      },
      {
       "output_type": "stream",
       "stream": "stdout",
       "text": [
        "\n",
        "561"
       ]
      },
      {
       "output_type": "stream",
       "stream": "stdout",
       "text": [
        "\n",
        "562"
       ]
      },
      {
       "output_type": "stream",
       "stream": "stdout",
       "text": [
        "\n",
        "563"
       ]
      },
      {
       "output_type": "stream",
       "stream": "stdout",
       "text": [
        "\n",
        "564"
       ]
      },
      {
       "output_type": "stream",
       "stream": "stdout",
       "text": [
        "\n",
        "565"
       ]
      },
      {
       "output_type": "stream",
       "stream": "stdout",
       "text": [
        "\n",
        "566"
       ]
      },
      {
       "output_type": "stream",
       "stream": "stdout",
       "text": [
        "\n",
        "567"
       ]
      },
      {
       "output_type": "stream",
       "stream": "stdout",
       "text": [
        "\n",
        "568"
       ]
      },
      {
       "output_type": "stream",
       "stream": "stdout",
       "text": [
        "\n",
        "569"
       ]
      },
      {
       "output_type": "stream",
       "stream": "stdout",
       "text": [
        "\n",
        "570"
       ]
      },
      {
       "output_type": "stream",
       "stream": "stdout",
       "text": [
        "\n",
        "571"
       ]
      },
      {
       "output_type": "stream",
       "stream": "stdout",
       "text": [
        "\n",
        "572"
       ]
      },
      {
       "output_type": "stream",
       "stream": "stdout",
       "text": [
        "\n",
        "573"
       ]
      },
      {
       "output_type": "stream",
       "stream": "stdout",
       "text": [
        "\n",
        "574"
       ]
      },
      {
       "output_type": "stream",
       "stream": "stdout",
       "text": [
        "\n",
        "575"
       ]
      },
      {
       "output_type": "stream",
       "stream": "stdout",
       "text": [
        "\n",
        "576"
       ]
      },
      {
       "output_type": "stream",
       "stream": "stdout",
       "text": [
        "\n",
        "577"
       ]
      },
      {
       "output_type": "stream",
       "stream": "stdout",
       "text": [
        "\n",
        "578"
       ]
      },
      {
       "output_type": "stream",
       "stream": "stdout",
       "text": [
        "\n",
        "579"
       ]
      },
      {
       "output_type": "stream",
       "stream": "stdout",
       "text": [
        "\n",
        "580"
       ]
      },
      {
       "output_type": "stream",
       "stream": "stdout",
       "text": [
        "\n",
        "581"
       ]
      },
      {
       "output_type": "stream",
       "stream": "stdout",
       "text": [
        "\n",
        "582"
       ]
      },
      {
       "output_type": "stream",
       "stream": "stdout",
       "text": [
        "\n",
        "583"
       ]
      },
      {
       "output_type": "stream",
       "stream": "stdout",
       "text": [
        "\n",
        "584"
       ]
      },
      {
       "output_type": "stream",
       "stream": "stdout",
       "text": [
        "\n",
        "585"
       ]
      },
      {
       "output_type": "stream",
       "stream": "stdout",
       "text": [
        "\n",
        "586"
       ]
      },
      {
       "output_type": "stream",
       "stream": "stdout",
       "text": [
        "\n",
        "587"
       ]
      },
      {
       "output_type": "stream",
       "stream": "stdout",
       "text": [
        "\n",
        "588"
       ]
      },
      {
       "output_type": "stream",
       "stream": "stdout",
       "text": [
        "\n",
        "589"
       ]
      },
      {
       "output_type": "stream",
       "stream": "stdout",
       "text": [
        "\n",
        "590"
       ]
      },
      {
       "output_type": "stream",
       "stream": "stdout",
       "text": [
        "\n",
        "591"
       ]
      },
      {
       "output_type": "stream",
       "stream": "stdout",
       "text": [
        "\n",
        "592"
       ]
      },
      {
       "output_type": "stream",
       "stream": "stdout",
       "text": [
        "\n",
        "593"
       ]
      },
      {
       "output_type": "stream",
       "stream": "stdout",
       "text": [
        "\n",
        "594"
       ]
      },
      {
       "output_type": "stream",
       "stream": "stdout",
       "text": [
        "\n",
        "595"
       ]
      },
      {
       "output_type": "stream",
       "stream": "stdout",
       "text": [
        "\n",
        "596"
       ]
      },
      {
       "output_type": "stream",
       "stream": "stdout",
       "text": [
        "\n",
        "597"
       ]
      },
      {
       "output_type": "stream",
       "stream": "stdout",
       "text": [
        "\n",
        "598"
       ]
      },
      {
       "output_type": "stream",
       "stream": "stdout",
       "text": [
        "\n",
        "599"
       ]
      },
      {
       "output_type": "stream",
       "stream": "stdout",
       "text": [
        "\n",
        "600"
       ]
      },
      {
       "output_type": "stream",
       "stream": "stdout",
       "text": [
        "\n",
        "601"
       ]
      },
      {
       "output_type": "stream",
       "stream": "stdout",
       "text": [
        "\n",
        "602"
       ]
      },
      {
       "output_type": "stream",
       "stream": "stdout",
       "text": [
        "\n",
        "603"
       ]
      },
      {
       "output_type": "stream",
       "stream": "stdout",
       "text": [
        "\n",
        "604"
       ]
      },
      {
       "output_type": "stream",
       "stream": "stdout",
       "text": [
        "\n",
        "605"
       ]
      },
      {
       "output_type": "stream",
       "stream": "stdout",
       "text": [
        "\n",
        "606"
       ]
      },
      {
       "output_type": "stream",
       "stream": "stdout",
       "text": [
        "\n",
        "607"
       ]
      },
      {
       "output_type": "stream",
       "stream": "stdout",
       "text": [
        "\n",
        "608"
       ]
      },
      {
       "output_type": "stream",
       "stream": "stdout",
       "text": [
        "\n",
        "609"
       ]
      },
      {
       "output_type": "stream",
       "stream": "stdout",
       "text": [
        "\n",
        "610"
       ]
      },
      {
       "output_type": "stream",
       "stream": "stdout",
       "text": [
        "\n",
        "611"
       ]
      },
      {
       "output_type": "stream",
       "stream": "stdout",
       "text": [
        "\n",
        "612"
       ]
      },
      {
       "output_type": "stream",
       "stream": "stdout",
       "text": [
        "\n",
        "613"
       ]
      },
      {
       "output_type": "stream",
       "stream": "stdout",
       "text": [
        "\n",
        "614"
       ]
      },
      {
       "output_type": "stream",
       "stream": "stdout",
       "text": [
        "\n",
        "615"
       ]
      },
      {
       "output_type": "stream",
       "stream": "stdout",
       "text": [
        "\n",
        "616"
       ]
      },
      {
       "output_type": "stream",
       "stream": "stdout",
       "text": [
        "\n",
        "617"
       ]
      },
      {
       "output_type": "stream",
       "stream": "stdout",
       "text": [
        "\n",
        "618"
       ]
      },
      {
       "output_type": "stream",
       "stream": "stdout",
       "text": [
        "\n",
        "619"
       ]
      },
      {
       "output_type": "stream",
       "stream": "stdout",
       "text": [
        "\n",
        "620"
       ]
      },
      {
       "output_type": "stream",
       "stream": "stdout",
       "text": [
        "\n",
        "621"
       ]
      },
      {
       "output_type": "stream",
       "stream": "stdout",
       "text": [
        "\n",
        "622"
       ]
      },
      {
       "output_type": "stream",
       "stream": "stdout",
       "text": [
        "\n",
        "623"
       ]
      },
      {
       "output_type": "stream",
       "stream": "stdout",
       "text": [
        "\n",
        "624"
       ]
      },
      {
       "output_type": "stream",
       "stream": "stdout",
       "text": [
        "\n",
        "625"
       ]
      },
      {
       "output_type": "stream",
       "stream": "stdout",
       "text": [
        "\n",
        "626"
       ]
      },
      {
       "output_type": "stream",
       "stream": "stdout",
       "text": [
        "\n",
        "627"
       ]
      },
      {
       "output_type": "stream",
       "stream": "stdout",
       "text": [
        "\n",
        "628"
       ]
      },
      {
       "output_type": "stream",
       "stream": "stdout",
       "text": [
        "\n",
        "629"
       ]
      },
      {
       "output_type": "stream",
       "stream": "stdout",
       "text": [
        "\n",
        "630"
       ]
      },
      {
       "output_type": "stream",
       "stream": "stdout",
       "text": [
        "\n",
        "631"
       ]
      },
      {
       "output_type": "stream",
       "stream": "stdout",
       "text": [
        "\n",
        "632"
       ]
      },
      {
       "output_type": "stream",
       "stream": "stdout",
       "text": [
        "\n",
        "633"
       ]
      },
      {
       "output_type": "stream",
       "stream": "stdout",
       "text": [
        "\n",
        "634"
       ]
      },
      {
       "output_type": "stream",
       "stream": "stdout",
       "text": [
        "\n",
        "635"
       ]
      },
      {
       "output_type": "stream",
       "stream": "stdout",
       "text": [
        "\n",
        "636"
       ]
      },
      {
       "output_type": "stream",
       "stream": "stdout",
       "text": [
        "\n",
        "637"
       ]
      },
      {
       "output_type": "stream",
       "stream": "stdout",
       "text": [
        "\n",
        "638"
       ]
      },
      {
       "output_type": "stream",
       "stream": "stdout",
       "text": [
        "\n",
        "639"
       ]
      },
      {
       "output_type": "stream",
       "stream": "stdout",
       "text": [
        "\n",
        "640"
       ]
      },
      {
       "output_type": "stream",
       "stream": "stdout",
       "text": [
        "\n",
        "641"
       ]
      },
      {
       "output_type": "stream",
       "stream": "stdout",
       "text": [
        "\n",
        "642"
       ]
      },
      {
       "output_type": "stream",
       "stream": "stdout",
       "text": [
        "\n",
        "643"
       ]
      },
      {
       "output_type": "stream",
       "stream": "stdout",
       "text": [
        "\n",
        "644"
       ]
      },
      {
       "output_type": "stream",
       "stream": "stdout",
       "text": [
        "\n",
        "645"
       ]
      },
      {
       "output_type": "stream",
       "stream": "stdout",
       "text": [
        "\n",
        "646"
       ]
      },
      {
       "output_type": "stream",
       "stream": "stdout",
       "text": [
        "\n",
        "647"
       ]
      },
      {
       "output_type": "stream",
       "stream": "stdout",
       "text": [
        "\n",
        "648"
       ]
      },
      {
       "output_type": "stream",
       "stream": "stdout",
       "text": [
        "\n",
        "649"
       ]
      },
      {
       "output_type": "stream",
       "stream": "stdout",
       "text": [
        "\n",
        "650"
       ]
      },
      {
       "output_type": "stream",
       "stream": "stdout",
       "text": [
        "\n",
        "651"
       ]
      },
      {
       "output_type": "stream",
       "stream": "stdout",
       "text": [
        "\n",
        "652"
       ]
      },
      {
       "output_type": "stream",
       "stream": "stdout",
       "text": [
        "\n",
        "653"
       ]
      },
      {
       "output_type": "stream",
       "stream": "stdout",
       "text": [
        "\n",
        "654"
       ]
      },
      {
       "output_type": "stream",
       "stream": "stdout",
       "text": [
        "\n",
        "655"
       ]
      },
      {
       "output_type": "stream",
       "stream": "stdout",
       "text": [
        "\n",
        "656"
       ]
      },
      {
       "output_type": "stream",
       "stream": "stdout",
       "text": [
        "\n",
        "657"
       ]
      },
      {
       "output_type": "stream",
       "stream": "stdout",
       "text": [
        "\n",
        "658"
       ]
      },
      {
       "output_type": "stream",
       "stream": "stdout",
       "text": [
        "\n",
        "659"
       ]
      },
      {
       "output_type": "stream",
       "stream": "stdout",
       "text": [
        "\n",
        "660"
       ]
      },
      {
       "output_type": "stream",
       "stream": "stdout",
       "text": [
        "\n",
        "661"
       ]
      },
      {
       "output_type": "stream",
       "stream": "stdout",
       "text": [
        "\n",
        "662"
       ]
      },
      {
       "output_type": "stream",
       "stream": "stdout",
       "text": [
        "\n",
        "663"
       ]
      },
      {
       "output_type": "stream",
       "stream": "stdout",
       "text": [
        "\n",
        "664"
       ]
      },
      {
       "output_type": "stream",
       "stream": "stdout",
       "text": [
        "\n",
        "665"
       ]
      },
      {
       "output_type": "stream",
       "stream": "stdout",
       "text": [
        "\n",
        "666"
       ]
      },
      {
       "output_type": "stream",
       "stream": "stdout",
       "text": [
        "\n",
        "667"
       ]
      },
      {
       "output_type": "stream",
       "stream": "stdout",
       "text": [
        "\n",
        "668"
       ]
      },
      {
       "output_type": "stream",
       "stream": "stdout",
       "text": [
        "\n",
        "669"
       ]
      },
      {
       "output_type": "stream",
       "stream": "stdout",
       "text": [
        "\n",
        "670"
       ]
      },
      {
       "output_type": "stream",
       "stream": "stdout",
       "text": [
        "\n",
        "671"
       ]
      },
      {
       "output_type": "stream",
       "stream": "stdout",
       "text": [
        "\n",
        "672"
       ]
      },
      {
       "output_type": "stream",
       "stream": "stdout",
       "text": [
        "\n",
        "673"
       ]
      },
      {
       "output_type": "stream",
       "stream": "stdout",
       "text": [
        "\n",
        "674"
       ]
      },
      {
       "output_type": "stream",
       "stream": "stdout",
       "text": [
        "\n",
        "675"
       ]
      },
      {
       "output_type": "stream",
       "stream": "stdout",
       "text": [
        "\n",
        "676"
       ]
      },
      {
       "output_type": "stream",
       "stream": "stdout",
       "text": [
        "\n",
        "677"
       ]
      },
      {
       "output_type": "stream",
       "stream": "stdout",
       "text": [
        "\n",
        "678"
       ]
      },
      {
       "output_type": "stream",
       "stream": "stdout",
       "text": [
        "\n",
        "679"
       ]
      },
      {
       "output_type": "stream",
       "stream": "stdout",
       "text": [
        "\n",
        "680"
       ]
      },
      {
       "output_type": "stream",
       "stream": "stdout",
       "text": [
        "\n",
        "681"
       ]
      },
      {
       "output_type": "stream",
       "stream": "stdout",
       "text": [
        "\n",
        "682"
       ]
      },
      {
       "output_type": "stream",
       "stream": "stdout",
       "text": [
        "\n",
        "683"
       ]
      },
      {
       "output_type": "stream",
       "stream": "stdout",
       "text": [
        "\n",
        "684"
       ]
      },
      {
       "output_type": "stream",
       "stream": "stdout",
       "text": [
        "\n",
        "685"
       ]
      },
      {
       "output_type": "stream",
       "stream": "stdout",
       "text": [
        "\n",
        "686"
       ]
      },
      {
       "output_type": "stream",
       "stream": "stdout",
       "text": [
        "\n",
        "687"
       ]
      },
      {
       "output_type": "stream",
       "stream": "stdout",
       "text": [
        "\n",
        "688"
       ]
      },
      {
       "output_type": "stream",
       "stream": "stdout",
       "text": [
        "\n",
        "689"
       ]
      },
      {
       "output_type": "stream",
       "stream": "stdout",
       "text": [
        "\n",
        "690"
       ]
      },
      {
       "output_type": "stream",
       "stream": "stdout",
       "text": [
        "\n",
        "691"
       ]
      },
      {
       "output_type": "stream",
       "stream": "stdout",
       "text": [
        "\n",
        "692"
       ]
      },
      {
       "output_type": "stream",
       "stream": "stdout",
       "text": [
        "\n",
        "693"
       ]
      },
      {
       "output_type": "stream",
       "stream": "stdout",
       "text": [
        "\n",
        "694"
       ]
      },
      {
       "output_type": "stream",
       "stream": "stdout",
       "text": [
        "\n",
        "695"
       ]
      },
      {
       "output_type": "stream",
       "stream": "stdout",
       "text": [
        "\n",
        "696"
       ]
      },
      {
       "output_type": "stream",
       "stream": "stdout",
       "text": [
        "\n",
        "697"
       ]
      },
      {
       "output_type": "stream",
       "stream": "stdout",
       "text": [
        "\n",
        "698"
       ]
      },
      {
       "output_type": "stream",
       "stream": "stdout",
       "text": [
        "\n",
        "699"
       ]
      },
      {
       "output_type": "stream",
       "stream": "stdout",
       "text": [
        "\n",
        "700"
       ]
      },
      {
       "output_type": "stream",
       "stream": "stdout",
       "text": [
        "\n",
        "701"
       ]
      },
      {
       "output_type": "stream",
       "stream": "stdout",
       "text": [
        "\n",
        "702"
       ]
      },
      {
       "output_type": "stream",
       "stream": "stdout",
       "text": [
        "\n",
        "703"
       ]
      },
      {
       "output_type": "stream",
       "stream": "stdout",
       "text": [
        "\n",
        "704"
       ]
      },
      {
       "output_type": "stream",
       "stream": "stdout",
       "text": [
        "\n",
        "705"
       ]
      },
      {
       "output_type": "stream",
       "stream": "stdout",
       "text": [
        "\n",
        "706"
       ]
      },
      {
       "output_type": "stream",
       "stream": "stdout",
       "text": [
        "\n",
        "707"
       ]
      },
      {
       "output_type": "stream",
       "stream": "stdout",
       "text": [
        "\n",
        "708"
       ]
      },
      {
       "output_type": "stream",
       "stream": "stdout",
       "text": [
        "\n",
        "709"
       ]
      },
      {
       "output_type": "stream",
       "stream": "stdout",
       "text": [
        "\n",
        "710"
       ]
      },
      {
       "output_type": "stream",
       "stream": "stdout",
       "text": [
        "\n",
        "711"
       ]
      },
      {
       "output_type": "stream",
       "stream": "stdout",
       "text": [
        "\n",
        "712"
       ]
      },
      {
       "output_type": "stream",
       "stream": "stdout",
       "text": [
        "\n",
        "713"
       ]
      },
      {
       "output_type": "stream",
       "stream": "stdout",
       "text": [
        "\n",
        "714"
       ]
      },
      {
       "output_type": "stream",
       "stream": "stdout",
       "text": [
        "\n",
        "715"
       ]
      },
      {
       "output_type": "stream",
       "stream": "stdout",
       "text": [
        "\n",
        "716"
       ]
      },
      {
       "output_type": "stream",
       "stream": "stdout",
       "text": [
        "\n",
        "717"
       ]
      },
      {
       "output_type": "stream",
       "stream": "stdout",
       "text": [
        "\n",
        "718"
       ]
      },
      {
       "output_type": "stream",
       "stream": "stdout",
       "text": [
        "\n",
        "719"
       ]
      },
      {
       "output_type": "stream",
       "stream": "stdout",
       "text": [
        "\n",
        "720"
       ]
      },
      {
       "output_type": "stream",
       "stream": "stdout",
       "text": [
        "\n",
        "721"
       ]
      },
      {
       "output_type": "stream",
       "stream": "stdout",
       "text": [
        "\n",
        "722"
       ]
      },
      {
       "output_type": "stream",
       "stream": "stdout",
       "text": [
        "\n",
        "723"
       ]
      },
      {
       "output_type": "stream",
       "stream": "stdout",
       "text": [
        "\n",
        "724"
       ]
      },
      {
       "output_type": "stream",
       "stream": "stdout",
       "text": [
        "\n",
        "725"
       ]
      },
      {
       "output_type": "stream",
       "stream": "stdout",
       "text": [
        "\n",
        "726"
       ]
      },
      {
       "output_type": "stream",
       "stream": "stdout",
       "text": [
        "\n",
        "727"
       ]
      },
      {
       "output_type": "stream",
       "stream": "stdout",
       "text": [
        "\n",
        "728"
       ]
      },
      {
       "output_type": "stream",
       "stream": "stdout",
       "text": [
        "\n",
        "729"
       ]
      },
      {
       "output_type": "stream",
       "stream": "stdout",
       "text": [
        "\n",
        "730"
       ]
      },
      {
       "output_type": "stream",
       "stream": "stdout",
       "text": [
        "\n",
        "731"
       ]
      },
      {
       "output_type": "stream",
       "stream": "stdout",
       "text": [
        "\n",
        "732"
       ]
      },
      {
       "output_type": "stream",
       "stream": "stdout",
       "text": [
        "\n",
        "733"
       ]
      },
      {
       "output_type": "stream",
       "stream": "stdout",
       "text": [
        "\n",
        "734"
       ]
      },
      {
       "output_type": "stream",
       "stream": "stdout",
       "text": [
        "\n",
        "735"
       ]
      },
      {
       "output_type": "stream",
       "stream": "stdout",
       "text": [
        "\n",
        "736"
       ]
      },
      {
       "output_type": "stream",
       "stream": "stdout",
       "text": [
        "\n",
        "737"
       ]
      },
      {
       "output_type": "stream",
       "stream": "stdout",
       "text": [
        "\n",
        "738"
       ]
      },
      {
       "output_type": "stream",
       "stream": "stdout",
       "text": [
        "\n",
        "739"
       ]
      },
      {
       "output_type": "stream",
       "stream": "stdout",
       "text": [
        "\n",
        "740"
       ]
      },
      {
       "output_type": "stream",
       "stream": "stdout",
       "text": [
        "\n",
        "741"
       ]
      },
      {
       "output_type": "stream",
       "stream": "stdout",
       "text": [
        "\n",
        "742"
       ]
      },
      {
       "output_type": "stream",
       "stream": "stdout",
       "text": [
        "\n",
        "743"
       ]
      },
      {
       "output_type": "stream",
       "stream": "stdout",
       "text": [
        "\n",
        "744"
       ]
      },
      {
       "output_type": "stream",
       "stream": "stdout",
       "text": [
        "\n",
        "745"
       ]
      },
      {
       "output_type": "stream",
       "stream": "stdout",
       "text": [
        "\n",
        "746"
       ]
      },
      {
       "output_type": "stream",
       "stream": "stdout",
       "text": [
        "\n",
        "747"
       ]
      },
      {
       "output_type": "stream",
       "stream": "stdout",
       "text": [
        "\n",
        "748"
       ]
      },
      {
       "output_type": "stream",
       "stream": "stdout",
       "text": [
        "\n",
        "749"
       ]
      },
      {
       "output_type": "stream",
       "stream": "stdout",
       "text": [
        "\n",
        "750"
       ]
      },
      {
       "output_type": "stream",
       "stream": "stdout",
       "text": [
        "\n",
        "751"
       ]
      },
      {
       "output_type": "stream",
       "stream": "stdout",
       "text": [
        "\n",
        "752"
       ]
      },
      {
       "output_type": "stream",
       "stream": "stdout",
       "text": [
        "\n",
        "753"
       ]
      },
      {
       "output_type": "stream",
       "stream": "stdout",
       "text": [
        "\n",
        "754"
       ]
      },
      {
       "output_type": "stream",
       "stream": "stdout",
       "text": [
        "\n",
        "755"
       ]
      },
      {
       "output_type": "stream",
       "stream": "stdout",
       "text": [
        "\n",
        "756"
       ]
      },
      {
       "output_type": "stream",
       "stream": "stdout",
       "text": [
        "\n",
        "757"
       ]
      },
      {
       "output_type": "stream",
       "stream": "stdout",
       "text": [
        "\n",
        "758"
       ]
      },
      {
       "output_type": "stream",
       "stream": "stdout",
       "text": [
        "\n",
        "759"
       ]
      },
      {
       "output_type": "stream",
       "stream": "stdout",
       "text": [
        "\n",
        "760"
       ]
      },
      {
       "output_type": "stream",
       "stream": "stdout",
       "text": [
        "\n",
        "761"
       ]
      },
      {
       "output_type": "stream",
       "stream": "stdout",
       "text": [
        "\n",
        "762"
       ]
      },
      {
       "output_type": "stream",
       "stream": "stdout",
       "text": [
        "\n",
        "763"
       ]
      },
      {
       "output_type": "stream",
       "stream": "stdout",
       "text": [
        "\n",
        "764"
       ]
      },
      {
       "output_type": "stream",
       "stream": "stdout",
       "text": [
        "\n",
        "765"
       ]
      },
      {
       "output_type": "stream",
       "stream": "stdout",
       "text": [
        "\n",
        "766"
       ]
      },
      {
       "output_type": "stream",
       "stream": "stdout",
       "text": [
        "\n",
        "767"
       ]
      },
      {
       "output_type": "stream",
       "stream": "stdout",
       "text": [
        "\n",
        "768"
       ]
      },
      {
       "output_type": "stream",
       "stream": "stdout",
       "text": [
        "\n",
        "769"
       ]
      },
      {
       "output_type": "stream",
       "stream": "stdout",
       "text": [
        "\n",
        "770"
       ]
      },
      {
       "output_type": "stream",
       "stream": "stdout",
       "text": [
        "\n",
        "771"
       ]
      },
      {
       "output_type": "stream",
       "stream": "stdout",
       "text": [
        "\n",
        "772"
       ]
      },
      {
       "output_type": "stream",
       "stream": "stdout",
       "text": [
        "\n",
        "773"
       ]
      },
      {
       "output_type": "stream",
       "stream": "stdout",
       "text": [
        "\n",
        "774"
       ]
      },
      {
       "output_type": "stream",
       "stream": "stdout",
       "text": [
        "\n",
        "775"
       ]
      },
      {
       "output_type": "stream",
       "stream": "stdout",
       "text": [
        "\n",
        "776"
       ]
      },
      {
       "output_type": "stream",
       "stream": "stdout",
       "text": [
        "\n",
        "777"
       ]
      },
      {
       "output_type": "stream",
       "stream": "stdout",
       "text": [
        "\n",
        "778"
       ]
      },
      {
       "output_type": "stream",
       "stream": "stdout",
       "text": [
        "\n",
        "779"
       ]
      },
      {
       "output_type": "stream",
       "stream": "stdout",
       "text": [
        "\n",
        "780"
       ]
      },
      {
       "output_type": "stream",
       "stream": "stdout",
       "text": [
        "\n",
        "781"
       ]
      },
      {
       "output_type": "stream",
       "stream": "stdout",
       "text": [
        "\n",
        "782"
       ]
      },
      {
       "output_type": "stream",
       "stream": "stdout",
       "text": [
        "\n",
        "783"
       ]
      },
      {
       "output_type": "stream",
       "stream": "stdout",
       "text": [
        "\n",
        "784"
       ]
      },
      {
       "output_type": "stream",
       "stream": "stdout",
       "text": [
        "\n",
        "785"
       ]
      },
      {
       "output_type": "stream",
       "stream": "stdout",
       "text": [
        "\n",
        "786"
       ]
      },
      {
       "output_type": "stream",
       "stream": "stdout",
       "text": [
        "\n",
        "787"
       ]
      },
      {
       "output_type": "stream",
       "stream": "stdout",
       "text": [
        "\n",
        "788"
       ]
      },
      {
       "output_type": "stream",
       "stream": "stdout",
       "text": [
        "\n",
        "789"
       ]
      },
      {
       "output_type": "stream",
       "stream": "stdout",
       "text": [
        "\n",
        "790"
       ]
      },
      {
       "output_type": "stream",
       "stream": "stdout",
       "text": [
        "\n",
        "791"
       ]
      },
      {
       "output_type": "stream",
       "stream": "stdout",
       "text": [
        "\n",
        "792"
       ]
      },
      {
       "output_type": "stream",
       "stream": "stdout",
       "text": [
        "\n",
        "793"
       ]
      },
      {
       "output_type": "stream",
       "stream": "stdout",
       "text": [
        "\n",
        "794"
       ]
      },
      {
       "output_type": "stream",
       "stream": "stdout",
       "text": [
        "\n",
        "795"
       ]
      },
      {
       "output_type": "stream",
       "stream": "stdout",
       "text": [
        "\n",
        "796"
       ]
      },
      {
       "output_type": "stream",
       "stream": "stdout",
       "text": [
        "\n",
        "797"
       ]
      },
      {
       "output_type": "stream",
       "stream": "stdout",
       "text": [
        "\n",
        "798"
       ]
      },
      {
       "output_type": "stream",
       "stream": "stdout",
       "text": [
        "\n",
        "799"
       ]
      },
      {
       "output_type": "stream",
       "stream": "stdout",
       "text": [
        "\n",
        "800"
       ]
      },
      {
       "output_type": "stream",
       "stream": "stdout",
       "text": [
        "\n",
        "801"
       ]
      },
      {
       "output_type": "stream",
       "stream": "stdout",
       "text": [
        "\n",
        "802"
       ]
      },
      {
       "output_type": "stream",
       "stream": "stdout",
       "text": [
        "\n",
        "803"
       ]
      },
      {
       "output_type": "stream",
       "stream": "stdout",
       "text": [
        "\n",
        "804"
       ]
      },
      {
       "output_type": "stream",
       "stream": "stdout",
       "text": [
        "\n",
        "805"
       ]
      },
      {
       "output_type": "stream",
       "stream": "stdout",
       "text": [
        "\n",
        "806"
       ]
      },
      {
       "output_type": "stream",
       "stream": "stdout",
       "text": [
        "\n",
        "807"
       ]
      },
      {
       "output_type": "stream",
       "stream": "stdout",
       "text": [
        "\n",
        "808"
       ]
      },
      {
       "output_type": "stream",
       "stream": "stdout",
       "text": [
        "\n",
        "809"
       ]
      },
      {
       "output_type": "stream",
       "stream": "stdout",
       "text": [
        "\n",
        "810"
       ]
      },
      {
       "output_type": "stream",
       "stream": "stdout",
       "text": [
        "\n",
        "811"
       ]
      },
      {
       "output_type": "stream",
       "stream": "stdout",
       "text": [
        "\n",
        "812"
       ]
      },
      {
       "output_type": "stream",
       "stream": "stdout",
       "text": [
        "\n",
        "813"
       ]
      },
      {
       "output_type": "stream",
       "stream": "stdout",
       "text": [
        "\n",
        "814"
       ]
      },
      {
       "output_type": "stream",
       "stream": "stdout",
       "text": [
        "\n",
        "815"
       ]
      },
      {
       "output_type": "stream",
       "stream": "stdout",
       "text": [
        "\n",
        "816"
       ]
      },
      {
       "output_type": "stream",
       "stream": "stdout",
       "text": [
        "\n",
        "817"
       ]
      },
      {
       "output_type": "stream",
       "stream": "stdout",
       "text": [
        "\n",
        "818"
       ]
      },
      {
       "output_type": "stream",
       "stream": "stdout",
       "text": [
        "\n",
        "819"
       ]
      },
      {
       "output_type": "stream",
       "stream": "stdout",
       "text": [
        "\n",
        "820"
       ]
      },
      {
       "output_type": "stream",
       "stream": "stdout",
       "text": [
        "\n",
        "821"
       ]
      },
      {
       "output_type": "stream",
       "stream": "stdout",
       "text": [
        "\n",
        "822"
       ]
      },
      {
       "output_type": "stream",
       "stream": "stdout",
       "text": [
        "\n",
        "823"
       ]
      },
      {
       "output_type": "stream",
       "stream": "stdout",
       "text": [
        "\n",
        "824"
       ]
      },
      {
       "output_type": "stream",
       "stream": "stdout",
       "text": [
        "\n",
        "825"
       ]
      },
      {
       "output_type": "stream",
       "stream": "stdout",
       "text": [
        "\n",
        "826"
       ]
      },
      {
       "output_type": "stream",
       "stream": "stdout",
       "text": [
        "\n",
        "827"
       ]
      },
      {
       "output_type": "stream",
       "stream": "stdout",
       "text": [
        "\n",
        "828"
       ]
      },
      {
       "output_type": "stream",
       "stream": "stdout",
       "text": [
        "\n",
        "829"
       ]
      },
      {
       "output_type": "stream",
       "stream": "stdout",
       "text": [
        "\n",
        "830"
       ]
      },
      {
       "output_type": "stream",
       "stream": "stdout",
       "text": [
        "\n",
        "831"
       ]
      },
      {
       "output_type": "stream",
       "stream": "stdout",
       "text": [
        "\n",
        "832"
       ]
      },
      {
       "output_type": "stream",
       "stream": "stdout",
       "text": [
        "\n",
        "833"
       ]
      },
      {
       "output_type": "stream",
       "stream": "stdout",
       "text": [
        "\n",
        "834"
       ]
      },
      {
       "output_type": "stream",
       "stream": "stdout",
       "text": [
        "\n",
        "835"
       ]
      },
      {
       "output_type": "stream",
       "stream": "stdout",
       "text": [
        "\n",
        "836"
       ]
      },
      {
       "output_type": "stream",
       "stream": "stdout",
       "text": [
        "\n",
        "837"
       ]
      },
      {
       "output_type": "stream",
       "stream": "stdout",
       "text": [
        "\n",
        "838"
       ]
      },
      {
       "output_type": "stream",
       "stream": "stdout",
       "text": [
        "\n",
        "839"
       ]
      },
      {
       "output_type": "stream",
       "stream": "stdout",
       "text": [
        "\n",
        "840"
       ]
      },
      {
       "output_type": "stream",
       "stream": "stdout",
       "text": [
        "\n",
        "841"
       ]
      },
      {
       "output_type": "stream",
       "stream": "stdout",
       "text": [
        "\n",
        "842"
       ]
      },
      {
       "output_type": "stream",
       "stream": "stdout",
       "text": [
        "\n",
        "843"
       ]
      },
      {
       "output_type": "stream",
       "stream": "stdout",
       "text": [
        "\n",
        "844"
       ]
      },
      {
       "output_type": "stream",
       "stream": "stdout",
       "text": [
        "\n",
        "845"
       ]
      },
      {
       "output_type": "stream",
       "stream": "stdout",
       "text": [
        "\n",
        "846"
       ]
      },
      {
       "output_type": "stream",
       "stream": "stdout",
       "text": [
        "\n",
        "847"
       ]
      },
      {
       "output_type": "stream",
       "stream": "stdout",
       "text": [
        "\n",
        "848"
       ]
      },
      {
       "output_type": "stream",
       "stream": "stdout",
       "text": [
        "\n",
        "849"
       ]
      },
      {
       "output_type": "stream",
       "stream": "stdout",
       "text": [
        "\n",
        "850"
       ]
      },
      {
       "output_type": "stream",
       "stream": "stdout",
       "text": [
        "\n",
        "851"
       ]
      },
      {
       "output_type": "stream",
       "stream": "stdout",
       "text": [
        "\n",
        "852"
       ]
      },
      {
       "output_type": "stream",
       "stream": "stdout",
       "text": [
        "\n",
        "853"
       ]
      },
      {
       "output_type": "stream",
       "stream": "stdout",
       "text": [
        "\n",
        "854"
       ]
      },
      {
       "output_type": "stream",
       "stream": "stdout",
       "text": [
        "\n",
        "855"
       ]
      },
      {
       "output_type": "stream",
       "stream": "stdout",
       "text": [
        "\n",
        "856"
       ]
      },
      {
       "output_type": "stream",
       "stream": "stdout",
       "text": [
        "\n",
        "857"
       ]
      },
      {
       "output_type": "stream",
       "stream": "stdout",
       "text": [
        "\n",
        "858"
       ]
      },
      {
       "output_type": "stream",
       "stream": "stdout",
       "text": [
        "\n",
        "859"
       ]
      },
      {
       "output_type": "stream",
       "stream": "stdout",
       "text": [
        "\n",
        "860"
       ]
      },
      {
       "output_type": "stream",
       "stream": "stdout",
       "text": [
        "\n",
        "861"
       ]
      },
      {
       "output_type": "stream",
       "stream": "stdout",
       "text": [
        "\n",
        "862"
       ]
      },
      {
       "output_type": "stream",
       "stream": "stdout",
       "text": [
        "\n",
        "863"
       ]
      },
      {
       "output_type": "stream",
       "stream": "stdout",
       "text": [
        "\n",
        "864"
       ]
      },
      {
       "output_type": "stream",
       "stream": "stdout",
       "text": [
        "\n",
        "865"
       ]
      },
      {
       "output_type": "stream",
       "stream": "stdout",
       "text": [
        "\n",
        "866"
       ]
      },
      {
       "output_type": "stream",
       "stream": "stdout",
       "text": [
        "\n",
        "867"
       ]
      },
      {
       "output_type": "stream",
       "stream": "stdout",
       "text": [
        "\n",
        "868"
       ]
      },
      {
       "output_type": "stream",
       "stream": "stdout",
       "text": [
        "\n",
        "869"
       ]
      },
      {
       "output_type": "stream",
       "stream": "stdout",
       "text": [
        "\n",
        "870"
       ]
      },
      {
       "output_type": "stream",
       "stream": "stdout",
       "text": [
        "\n",
        "871"
       ]
      },
      {
       "output_type": "stream",
       "stream": "stdout",
       "text": [
        "\n",
        "872"
       ]
      },
      {
       "output_type": "stream",
       "stream": "stdout",
       "text": [
        "\n",
        "873"
       ]
      },
      {
       "output_type": "stream",
       "stream": "stdout",
       "text": [
        "\n",
        "874"
       ]
      },
      {
       "output_type": "stream",
       "stream": "stdout",
       "text": [
        "\n",
        "875"
       ]
      },
      {
       "output_type": "stream",
       "stream": "stdout",
       "text": [
        "\n",
        "876"
       ]
      },
      {
       "output_type": "stream",
       "stream": "stdout",
       "text": [
        "\n",
        "877"
       ]
      },
      {
       "output_type": "stream",
       "stream": "stdout",
       "text": [
        "\n",
        "878"
       ]
      },
      {
       "output_type": "stream",
       "stream": "stdout",
       "text": [
        "\n",
        "879"
       ]
      },
      {
       "output_type": "stream",
       "stream": "stdout",
       "text": [
        "\n",
        "880"
       ]
      },
      {
       "output_type": "stream",
       "stream": "stdout",
       "text": [
        "\n",
        "881"
       ]
      },
      {
       "output_type": "stream",
       "stream": "stdout",
       "text": [
        "\n",
        "882"
       ]
      },
      {
       "output_type": "stream",
       "stream": "stdout",
       "text": [
        "\n",
        "883"
       ]
      },
      {
       "output_type": "stream",
       "stream": "stdout",
       "text": [
        "\n",
        "884"
       ]
      },
      {
       "output_type": "stream",
       "stream": "stdout",
       "text": [
        "\n",
        "885"
       ]
      },
      {
       "output_type": "stream",
       "stream": "stdout",
       "text": [
        "\n",
        "886"
       ]
      },
      {
       "output_type": "stream",
       "stream": "stdout",
       "text": [
        "\n",
        "887"
       ]
      },
      {
       "output_type": "stream",
       "stream": "stdout",
       "text": [
        "\n",
        "888"
       ]
      },
      {
       "output_type": "stream",
       "stream": "stdout",
       "text": [
        "\n",
        "889"
       ]
      },
      {
       "output_type": "stream",
       "stream": "stdout",
       "text": [
        "\n",
        "890"
       ]
      },
      {
       "output_type": "stream",
       "stream": "stdout",
       "text": [
        "\n",
        "891"
       ]
      },
      {
       "output_type": "stream",
       "stream": "stdout",
       "text": [
        "\n",
        "892"
       ]
      },
      {
       "output_type": "stream",
       "stream": "stdout",
       "text": [
        "\n",
        "893"
       ]
      },
      {
       "output_type": "stream",
       "stream": "stdout",
       "text": [
        "\n",
        "894"
       ]
      },
      {
       "output_type": "stream",
       "stream": "stdout",
       "text": [
        "\n",
        "895"
       ]
      },
      {
       "output_type": "stream",
       "stream": "stdout",
       "text": [
        "\n",
        "896"
       ]
      },
      {
       "output_type": "stream",
       "stream": "stdout",
       "text": [
        "\n",
        "897"
       ]
      },
      {
       "output_type": "stream",
       "stream": "stdout",
       "text": [
        "\n",
        "898"
       ]
      },
      {
       "output_type": "stream",
       "stream": "stdout",
       "text": [
        "\n",
        "899"
       ]
      },
      {
       "output_type": "stream",
       "stream": "stdout",
       "text": [
        "\n",
        "900"
       ]
      },
      {
       "output_type": "stream",
       "stream": "stdout",
       "text": [
        "\n",
        "901"
       ]
      },
      {
       "output_type": "stream",
       "stream": "stdout",
       "text": [
        "\n",
        "902"
       ]
      },
      {
       "output_type": "stream",
       "stream": "stdout",
       "text": [
        "\n",
        "903"
       ]
      },
      {
       "output_type": "stream",
       "stream": "stdout",
       "text": [
        "\n",
        "904"
       ]
      },
      {
       "output_type": "stream",
       "stream": "stdout",
       "text": [
        "\n",
        "905"
       ]
      },
      {
       "output_type": "stream",
       "stream": "stdout",
       "text": [
        "\n",
        "906"
       ]
      },
      {
       "output_type": "stream",
       "stream": "stdout",
       "text": [
        "\n",
        "907"
       ]
      },
      {
       "output_type": "stream",
       "stream": "stdout",
       "text": [
        "\n",
        "908"
       ]
      },
      {
       "output_type": "stream",
       "stream": "stdout",
       "text": [
        "\n",
        "909"
       ]
      },
      {
       "output_type": "stream",
       "stream": "stdout",
       "text": [
        "\n",
        "910"
       ]
      },
      {
       "output_type": "stream",
       "stream": "stdout",
       "text": [
        "\n",
        "911"
       ]
      },
      {
       "output_type": "stream",
       "stream": "stdout",
       "text": [
        "\n",
        "912"
       ]
      },
      {
       "output_type": "stream",
       "stream": "stdout",
       "text": [
        "\n",
        "913"
       ]
      },
      {
       "output_type": "stream",
       "stream": "stdout",
       "text": [
        "\n",
        "914"
       ]
      },
      {
       "output_type": "stream",
       "stream": "stdout",
       "text": [
        "\n",
        "915"
       ]
      },
      {
       "output_type": "stream",
       "stream": "stdout",
       "text": [
        "\n",
        "916"
       ]
      },
      {
       "output_type": "stream",
       "stream": "stdout",
       "text": [
        "\n",
        "917"
       ]
      },
      {
       "output_type": "stream",
       "stream": "stdout",
       "text": [
        "\n",
        "918"
       ]
      },
      {
       "output_type": "stream",
       "stream": "stdout",
       "text": [
        "\n",
        "919"
       ]
      },
      {
       "output_type": "stream",
       "stream": "stdout",
       "text": [
        "\n",
        "920"
       ]
      },
      {
       "output_type": "stream",
       "stream": "stdout",
       "text": [
        "\n",
        "921"
       ]
      },
      {
       "output_type": "stream",
       "stream": "stdout",
       "text": [
        "\n",
        "922"
       ]
      },
      {
       "output_type": "stream",
       "stream": "stdout",
       "text": [
        "\n",
        "923"
       ]
      },
      {
       "output_type": "stream",
       "stream": "stdout",
       "text": [
        "\n",
        "924"
       ]
      },
      {
       "output_type": "stream",
       "stream": "stdout",
       "text": [
        "\n",
        "925"
       ]
      },
      {
       "output_type": "stream",
       "stream": "stdout",
       "text": [
        "\n",
        "926"
       ]
      },
      {
       "output_type": "stream",
       "stream": "stdout",
       "text": [
        "\n",
        "927"
       ]
      },
      {
       "output_type": "stream",
       "stream": "stdout",
       "text": [
        "\n",
        "928"
       ]
      },
      {
       "output_type": "stream",
       "stream": "stdout",
       "text": [
        "\n",
        "929"
       ]
      },
      {
       "output_type": "stream",
       "stream": "stdout",
       "text": [
        "\n",
        "930"
       ]
      },
      {
       "output_type": "stream",
       "stream": "stdout",
       "text": [
        "\n",
        "931"
       ]
      },
      {
       "output_type": "stream",
       "stream": "stdout",
       "text": [
        "\n",
        "932"
       ]
      },
      {
       "output_type": "stream",
       "stream": "stdout",
       "text": [
        "\n",
        "933"
       ]
      },
      {
       "output_type": "stream",
       "stream": "stdout",
       "text": [
        "\n",
        "934"
       ]
      },
      {
       "output_type": "stream",
       "stream": "stdout",
       "text": [
        "\n",
        "935"
       ]
      },
      {
       "output_type": "stream",
       "stream": "stdout",
       "text": [
        "\n",
        "936"
       ]
      },
      {
       "output_type": "stream",
       "stream": "stdout",
       "text": [
        "\n",
        "937"
       ]
      },
      {
       "output_type": "stream",
       "stream": "stdout",
       "text": [
        "\n",
        "938"
       ]
      },
      {
       "output_type": "stream",
       "stream": "stdout",
       "text": [
        "\n",
        "939"
       ]
      },
      {
       "output_type": "stream",
       "stream": "stdout",
       "text": [
        "\n",
        "940"
       ]
      },
      {
       "output_type": "stream",
       "stream": "stdout",
       "text": [
        "\n",
        "941"
       ]
      },
      {
       "output_type": "stream",
       "stream": "stdout",
       "text": [
        "\n",
        "942"
       ]
      },
      {
       "output_type": "stream",
       "stream": "stdout",
       "text": [
        "\n",
        "943"
       ]
      },
      {
       "output_type": "stream",
       "stream": "stdout",
       "text": [
        "\n",
        "944"
       ]
      },
      {
       "output_type": "stream",
       "stream": "stdout",
       "text": [
        "\n",
        "945"
       ]
      },
      {
       "output_type": "stream",
       "stream": "stdout",
       "text": [
        "\n",
        "946"
       ]
      },
      {
       "output_type": "stream",
       "stream": "stdout",
       "text": [
        "\n",
        "947"
       ]
      },
      {
       "output_type": "stream",
       "stream": "stdout",
       "text": [
        "\n",
        "948"
       ]
      },
      {
       "output_type": "stream",
       "stream": "stdout",
       "text": [
        "\n",
        "949"
       ]
      },
      {
       "output_type": "stream",
       "stream": "stdout",
       "text": [
        "\n",
        "950"
       ]
      },
      {
       "output_type": "stream",
       "stream": "stdout",
       "text": [
        "\n",
        "951"
       ]
      },
      {
       "output_type": "stream",
       "stream": "stdout",
       "text": [
        "\n",
        "952"
       ]
      },
      {
       "output_type": "stream",
       "stream": "stdout",
       "text": [
        "\n",
        "953"
       ]
      },
      {
       "output_type": "stream",
       "stream": "stdout",
       "text": [
        "\n",
        "954"
       ]
      },
      {
       "output_type": "stream",
       "stream": "stdout",
       "text": [
        "\n",
        "955"
       ]
      },
      {
       "output_type": "stream",
       "stream": "stdout",
       "text": [
        "\n",
        "956"
       ]
      },
      {
       "output_type": "stream",
       "stream": "stdout",
       "text": [
        "\n",
        "957"
       ]
      },
      {
       "output_type": "stream",
       "stream": "stdout",
       "text": [
        "\n",
        "958"
       ]
      },
      {
       "output_type": "stream",
       "stream": "stdout",
       "text": [
        "\n",
        "959"
       ]
      },
      {
       "output_type": "stream",
       "stream": "stdout",
       "text": [
        "\n",
        "960"
       ]
      },
      {
       "output_type": "stream",
       "stream": "stdout",
       "text": [
        "\n",
        "961"
       ]
      },
      {
       "output_type": "stream",
       "stream": "stdout",
       "text": [
        "\n",
        "962"
       ]
      },
      {
       "output_type": "stream",
       "stream": "stdout",
       "text": [
        "\n",
        "963"
       ]
      },
      {
       "output_type": "stream",
       "stream": "stdout",
       "text": [
        "\n",
        "964"
       ]
      },
      {
       "output_type": "stream",
       "stream": "stdout",
       "text": [
        "\n",
        "965"
       ]
      },
      {
       "output_type": "stream",
       "stream": "stdout",
       "text": [
        "\n",
        "966"
       ]
      },
      {
       "output_type": "stream",
       "stream": "stdout",
       "text": [
        "\n",
        "967"
       ]
      },
      {
       "output_type": "stream",
       "stream": "stdout",
       "text": [
        "\n",
        "968"
       ]
      },
      {
       "output_type": "stream",
       "stream": "stdout",
       "text": [
        "\n",
        "969"
       ]
      },
      {
       "output_type": "stream",
       "stream": "stdout",
       "text": [
        "\n",
        "970"
       ]
      },
      {
       "output_type": "stream",
       "stream": "stdout",
       "text": [
        "\n",
        "971"
       ]
      },
      {
       "output_type": "stream",
       "stream": "stdout",
       "text": [
        "\n",
        "972"
       ]
      },
      {
       "output_type": "stream",
       "stream": "stdout",
       "text": [
        "\n",
        "973"
       ]
      },
      {
       "output_type": "stream",
       "stream": "stdout",
       "text": [
        "\n",
        "974"
       ]
      },
      {
       "output_type": "stream",
       "stream": "stdout",
       "text": [
        "\n",
        "975"
       ]
      },
      {
       "output_type": "stream",
       "stream": "stdout",
       "text": [
        "\n",
        "976"
       ]
      },
      {
       "output_type": "stream",
       "stream": "stdout",
       "text": [
        "\n",
        "977"
       ]
      },
      {
       "output_type": "stream",
       "stream": "stdout",
       "text": [
        "\n",
        "978"
       ]
      },
      {
       "output_type": "stream",
       "stream": "stdout",
       "text": [
        "\n",
        "979"
       ]
      },
      {
       "output_type": "stream",
       "stream": "stdout",
       "text": [
        "\n",
        "980"
       ]
      },
      {
       "output_type": "stream",
       "stream": "stdout",
       "text": [
        "\n",
        "981"
       ]
      },
      {
       "output_type": "stream",
       "stream": "stdout",
       "text": [
        "\n",
        "982"
       ]
      },
      {
       "output_type": "stream",
       "stream": "stdout",
       "text": [
        "\n",
        "983"
       ]
      },
      {
       "output_type": "stream",
       "stream": "stdout",
       "text": [
        "\n",
        "984"
       ]
      },
      {
       "output_type": "stream",
       "stream": "stdout",
       "text": [
        "\n",
        "985"
       ]
      },
      {
       "output_type": "stream",
       "stream": "stdout",
       "text": [
        "\n",
        "986"
       ]
      },
      {
       "output_type": "stream",
       "stream": "stdout",
       "text": [
        "\n",
        "987"
       ]
      },
      {
       "output_type": "stream",
       "stream": "stdout",
       "text": [
        "\n",
        "988"
       ]
      },
      {
       "output_type": "stream",
       "stream": "stdout",
       "text": [
        "\n",
        "989"
       ]
      },
      {
       "output_type": "stream",
       "stream": "stdout",
       "text": [
        "\n",
        "990"
       ]
      },
      {
       "output_type": "stream",
       "stream": "stdout",
       "text": [
        "\n",
        "991"
       ]
      },
      {
       "output_type": "stream",
       "stream": "stdout",
       "text": [
        "\n",
        "992"
       ]
      },
      {
       "output_type": "stream",
       "stream": "stdout",
       "text": [
        "\n",
        "993"
       ]
      },
      {
       "output_type": "stream",
       "stream": "stdout",
       "text": [
        "\n",
        "994"
       ]
      },
      {
       "output_type": "stream",
       "stream": "stdout",
       "text": [
        "\n",
        "995"
       ]
      },
      {
       "output_type": "stream",
       "stream": "stdout",
       "text": [
        "\n",
        "996"
       ]
      },
      {
       "output_type": "stream",
       "stream": "stdout",
       "text": [
        "\n",
        "997"
       ]
      },
      {
       "output_type": "stream",
       "stream": "stdout",
       "text": [
        "\n",
        "998"
       ]
      },
      {
       "output_type": "stream",
       "stream": "stdout",
       "text": [
        "\n",
        "999"
       ]
      },
      {
       "output_type": "stream",
       "stream": "stdout",
       "text": [
        "\n",
        "1000"
       ]
      },
      {
       "output_type": "stream",
       "stream": "stdout",
       "text": [
        "\n",
        "1001"
       ]
      },
      {
       "output_type": "stream",
       "stream": "stdout",
       "text": [
        "\n",
        "1002"
       ]
      },
      {
       "output_type": "stream",
       "stream": "stdout",
       "text": [
        "\n",
        "1003"
       ]
      },
      {
       "output_type": "stream",
       "stream": "stdout",
       "text": [
        "\n",
        "1004"
       ]
      },
      {
       "output_type": "stream",
       "stream": "stdout",
       "text": [
        "\n",
        "1005"
       ]
      },
      {
       "output_type": "stream",
       "stream": "stdout",
       "text": [
        "\n",
        "1006"
       ]
      },
      {
       "output_type": "stream",
       "stream": "stdout",
       "text": [
        "\n",
        "1007"
       ]
      },
      {
       "output_type": "stream",
       "stream": "stdout",
       "text": [
        "\n",
        "1008"
       ]
      },
      {
       "output_type": "stream",
       "stream": "stdout",
       "text": [
        "\n",
        "1009"
       ]
      },
      {
       "output_type": "stream",
       "stream": "stdout",
       "text": [
        "\n",
        "1010"
       ]
      },
      {
       "output_type": "stream",
       "stream": "stdout",
       "text": [
        "\n",
        "1011"
       ]
      },
      {
       "output_type": "stream",
       "stream": "stdout",
       "text": [
        "\n",
        "1012"
       ]
      },
      {
       "output_type": "stream",
       "stream": "stdout",
       "text": [
        "\n",
        "1013"
       ]
      },
      {
       "output_type": "stream",
       "stream": "stdout",
       "text": [
        "\n",
        "1014"
       ]
      },
      {
       "output_type": "stream",
       "stream": "stdout",
       "text": [
        "\n",
        "1015"
       ]
      },
      {
       "output_type": "stream",
       "stream": "stdout",
       "text": [
        "\n",
        "1016"
       ]
      },
      {
       "output_type": "stream",
       "stream": "stdout",
       "text": [
        "\n",
        "1017"
       ]
      },
      {
       "output_type": "stream",
       "stream": "stdout",
       "text": [
        "\n",
        "1018"
       ]
      },
      {
       "output_type": "stream",
       "stream": "stdout",
       "text": [
        "\n",
        "1019"
       ]
      },
      {
       "output_type": "stream",
       "stream": "stdout",
       "text": [
        "\n",
        "1020"
       ]
      },
      {
       "output_type": "stream",
       "stream": "stdout",
       "text": [
        "\n",
        "1021"
       ]
      },
      {
       "output_type": "stream",
       "stream": "stdout",
       "text": [
        "\n",
        "1022"
       ]
      },
      {
       "output_type": "stream",
       "stream": "stdout",
       "text": [
        "\n",
        "1023"
       ]
      },
      {
       "output_type": "stream",
       "stream": "stdout",
       "text": [
        "\n",
        "1024"
       ]
      },
      {
       "output_type": "stream",
       "stream": "stdout",
       "text": [
        "\n",
        "1025"
       ]
      },
      {
       "output_type": "stream",
       "stream": "stdout",
       "text": [
        "\n",
        "1026"
       ]
      },
      {
       "output_type": "stream",
       "stream": "stdout",
       "text": [
        "\n",
        "1027"
       ]
      },
      {
       "output_type": "stream",
       "stream": "stdout",
       "text": [
        "\n",
        "1028"
       ]
      },
      {
       "output_type": "stream",
       "stream": "stdout",
       "text": [
        "\n",
        "1029"
       ]
      },
      {
       "output_type": "stream",
       "stream": "stdout",
       "text": [
        "\n",
        "1030"
       ]
      },
      {
       "output_type": "stream",
       "stream": "stdout",
       "text": [
        "\n",
        "1031"
       ]
      },
      {
       "output_type": "stream",
       "stream": "stdout",
       "text": [
        "\n",
        "1032"
       ]
      },
      {
       "output_type": "stream",
       "stream": "stdout",
       "text": [
        "\n",
        "1033"
       ]
      },
      {
       "output_type": "stream",
       "stream": "stdout",
       "text": [
        "\n",
        "1034"
       ]
      },
      {
       "output_type": "stream",
       "stream": "stdout",
       "text": [
        "\n",
        "1035"
       ]
      },
      {
       "output_type": "stream",
       "stream": "stdout",
       "text": [
        "\n",
        "1036"
       ]
      },
      {
       "output_type": "stream",
       "stream": "stdout",
       "text": [
        "\n",
        "1037"
       ]
      },
      {
       "output_type": "stream",
       "stream": "stdout",
       "text": [
        "\n",
        "1038"
       ]
      },
      {
       "output_type": "stream",
       "stream": "stdout",
       "text": [
        "\n",
        "1039"
       ]
      },
      {
       "output_type": "stream",
       "stream": "stdout",
       "text": [
        "\n",
        "1040"
       ]
      },
      {
       "output_type": "stream",
       "stream": "stdout",
       "text": [
        "\n",
        "1041"
       ]
      },
      {
       "output_type": "stream",
       "stream": "stdout",
       "text": [
        "\n",
        "1042"
       ]
      },
      {
       "output_type": "stream",
       "stream": "stdout",
       "text": [
        "\n",
        "1043"
       ]
      },
      {
       "output_type": "stream",
       "stream": "stdout",
       "text": [
        "\n",
        "1044"
       ]
      },
      {
       "output_type": "stream",
       "stream": "stdout",
       "text": [
        "\n",
        "1045"
       ]
      },
      {
       "output_type": "stream",
       "stream": "stdout",
       "text": [
        "\n",
        "1046"
       ]
      },
      {
       "output_type": "stream",
       "stream": "stdout",
       "text": [
        "\n",
        "1047"
       ]
      },
      {
       "output_type": "stream",
       "stream": "stdout",
       "text": [
        "\n",
        "1048"
       ]
      },
      {
       "output_type": "stream",
       "stream": "stdout",
       "text": [
        "\n",
        "1049"
       ]
      },
      {
       "output_type": "stream",
       "stream": "stdout",
       "text": [
        "\n",
        "1050"
       ]
      },
      {
       "output_type": "stream",
       "stream": "stdout",
       "text": [
        "\n",
        "1051"
       ]
      },
      {
       "output_type": "stream",
       "stream": "stdout",
       "text": [
        "\n",
        "1052"
       ]
      },
      {
       "output_type": "stream",
       "stream": "stdout",
       "text": [
        "\n",
        "1053"
       ]
      },
      {
       "output_type": "stream",
       "stream": "stdout",
       "text": [
        "\n",
        "1054"
       ]
      },
      {
       "output_type": "stream",
       "stream": "stdout",
       "text": [
        "\n",
        "1055"
       ]
      },
      {
       "output_type": "stream",
       "stream": "stdout",
       "text": [
        "\n",
        "1056"
       ]
      },
      {
       "output_type": "stream",
       "stream": "stdout",
       "text": [
        "\n",
        "1057"
       ]
      },
      {
       "output_type": "stream",
       "stream": "stdout",
       "text": [
        "\n",
        "1058"
       ]
      },
      {
       "output_type": "stream",
       "stream": "stdout",
       "text": [
        "\n",
        "1059"
       ]
      },
      {
       "output_type": "stream",
       "stream": "stdout",
       "text": [
        "\n",
        "1060"
       ]
      },
      {
       "output_type": "stream",
       "stream": "stdout",
       "text": [
        "\n",
        "1061"
       ]
      },
      {
       "output_type": "stream",
       "stream": "stdout",
       "text": [
        "\n",
        "1062"
       ]
      },
      {
       "output_type": "stream",
       "stream": "stdout",
       "text": [
        "\n",
        "1063"
       ]
      },
      {
       "output_type": "stream",
       "stream": "stdout",
       "text": [
        "\n",
        "1064"
       ]
      },
      {
       "output_type": "stream",
       "stream": "stdout",
       "text": [
        "\n",
        "1065"
       ]
      },
      {
       "output_type": "stream",
       "stream": "stdout",
       "text": [
        "\n",
        "1066"
       ]
      },
      {
       "output_type": "stream",
       "stream": "stdout",
       "text": [
        "\n",
        "1067"
       ]
      },
      {
       "output_type": "stream",
       "stream": "stdout",
       "text": [
        "\n",
        "1068"
       ]
      },
      {
       "output_type": "stream",
       "stream": "stdout",
       "text": [
        "\n",
        "1069"
       ]
      },
      {
       "output_type": "stream",
       "stream": "stdout",
       "text": [
        "\n",
        "1070"
       ]
      },
      {
       "output_type": "stream",
       "stream": "stdout",
       "text": [
        "\n",
        "1071"
       ]
      },
      {
       "output_type": "stream",
       "stream": "stdout",
       "text": [
        "\n",
        "1072"
       ]
      },
      {
       "output_type": "stream",
       "stream": "stdout",
       "text": [
        "\n",
        "1073"
       ]
      },
      {
       "output_type": "stream",
       "stream": "stdout",
       "text": [
        "\n",
        "1074"
       ]
      },
      {
       "output_type": "stream",
       "stream": "stdout",
       "text": [
        "\n",
        "1075"
       ]
      },
      {
       "output_type": "stream",
       "stream": "stdout",
       "text": [
        "\n",
        "1076"
       ]
      },
      {
       "output_type": "stream",
       "stream": "stdout",
       "text": [
        "\n",
        "1077"
       ]
      },
      {
       "output_type": "stream",
       "stream": "stdout",
       "text": [
        "\n",
        "1078"
       ]
      },
      {
       "output_type": "stream",
       "stream": "stdout",
       "text": [
        "\n",
        "1079"
       ]
      },
      {
       "output_type": "stream",
       "stream": "stdout",
       "text": [
        "\n",
        "1080"
       ]
      },
      {
       "output_type": "stream",
       "stream": "stdout",
       "text": [
        "\n",
        "1081"
       ]
      },
      {
       "output_type": "stream",
       "stream": "stdout",
       "text": [
        "\n",
        "1082"
       ]
      },
      {
       "output_type": "stream",
       "stream": "stdout",
       "text": [
        "\n",
        "1083"
       ]
      },
      {
       "output_type": "stream",
       "stream": "stdout",
       "text": [
        "\n",
        "1084"
       ]
      },
      {
       "output_type": "stream",
       "stream": "stdout",
       "text": [
        "\n",
        "1085"
       ]
      },
      {
       "output_type": "stream",
       "stream": "stdout",
       "text": [
        "\n",
        "1086"
       ]
      },
      {
       "output_type": "stream",
       "stream": "stdout",
       "text": [
        "\n",
        "1087"
       ]
      },
      {
       "output_type": "stream",
       "stream": "stdout",
       "text": [
        "\n",
        "1088"
       ]
      },
      {
       "output_type": "stream",
       "stream": "stdout",
       "text": [
        "\n",
        "1089"
       ]
      },
      {
       "output_type": "stream",
       "stream": "stdout",
       "text": [
        "\n",
        "1090"
       ]
      },
      {
       "output_type": "stream",
       "stream": "stdout",
       "text": [
        "\n",
        "1091"
       ]
      },
      {
       "output_type": "stream",
       "stream": "stdout",
       "text": [
        "\n",
        "1092"
       ]
      },
      {
       "output_type": "stream",
       "stream": "stdout",
       "text": [
        "\n",
        "1093"
       ]
      },
      {
       "output_type": "stream",
       "stream": "stdout",
       "text": [
        "\n",
        "1094"
       ]
      },
      {
       "output_type": "stream",
       "stream": "stdout",
       "text": [
        "\n",
        "1095"
       ]
      },
      {
       "output_type": "stream",
       "stream": "stdout",
       "text": [
        "\n",
        "1096"
       ]
      },
      {
       "output_type": "stream",
       "stream": "stdout",
       "text": [
        "\n",
        "1097"
       ]
      },
      {
       "output_type": "stream",
       "stream": "stdout",
       "text": [
        "\n",
        "1098"
       ]
      },
      {
       "output_type": "stream",
       "stream": "stdout",
       "text": [
        "\n",
        "1099"
       ]
      },
      {
       "output_type": "stream",
       "stream": "stdout",
       "text": [
        "\n",
        "1100"
       ]
      },
      {
       "output_type": "stream",
       "stream": "stdout",
       "text": [
        "\n",
        "1101"
       ]
      },
      {
       "output_type": "stream",
       "stream": "stdout",
       "text": [
        "\n",
        "1102"
       ]
      },
      {
       "output_type": "stream",
       "stream": "stdout",
       "text": [
        "\n",
        "1103"
       ]
      },
      {
       "output_type": "stream",
       "stream": "stdout",
       "text": [
        "\n",
        "1104"
       ]
      },
      {
       "output_type": "stream",
       "stream": "stdout",
       "text": [
        "\n",
        "1105"
       ]
      },
      {
       "output_type": "stream",
       "stream": "stdout",
       "text": [
        "\n",
        "1106"
       ]
      },
      {
       "output_type": "stream",
       "stream": "stdout",
       "text": [
        "\n",
        "1107"
       ]
      },
      {
       "output_type": "stream",
       "stream": "stdout",
       "text": [
        "\n",
        "1108"
       ]
      },
      {
       "output_type": "stream",
       "stream": "stdout",
       "text": [
        "\n",
        "1109"
       ]
      },
      {
       "output_type": "stream",
       "stream": "stdout",
       "text": [
        "\n",
        "1110"
       ]
      },
      {
       "output_type": "stream",
       "stream": "stdout",
       "text": [
        "\n",
        "1111"
       ]
      },
      {
       "output_type": "stream",
       "stream": "stdout",
       "text": [
        "\n",
        "1112"
       ]
      },
      {
       "output_type": "stream",
       "stream": "stdout",
       "text": [
        "\n",
        "1113"
       ]
      },
      {
       "output_type": "stream",
       "stream": "stdout",
       "text": [
        "\n",
        "1114"
       ]
      },
      {
       "output_type": "stream",
       "stream": "stdout",
       "text": [
        "\n",
        "1115"
       ]
      },
      {
       "output_type": "stream",
       "stream": "stdout",
       "text": [
        "\n",
        "1116"
       ]
      },
      {
       "output_type": "stream",
       "stream": "stdout",
       "text": [
        "\n",
        "1117"
       ]
      },
      {
       "output_type": "stream",
       "stream": "stdout",
       "text": [
        "\n",
        "1118"
       ]
      },
      {
       "output_type": "stream",
       "stream": "stdout",
       "text": [
        "\n",
        "1119"
       ]
      },
      {
       "output_type": "stream",
       "stream": "stdout",
       "text": [
        "\n",
        "1120"
       ]
      },
      {
       "output_type": "stream",
       "stream": "stdout",
       "text": [
        "\n",
        "1121"
       ]
      },
      {
       "output_type": "stream",
       "stream": "stdout",
       "text": [
        "\n",
        "1122"
       ]
      },
      {
       "output_type": "stream",
       "stream": "stdout",
       "text": [
        "\n",
        "1123"
       ]
      },
      {
       "output_type": "stream",
       "stream": "stdout",
       "text": [
        "\n",
        "1124"
       ]
      },
      {
       "output_type": "stream",
       "stream": "stdout",
       "text": [
        "\n",
        "1125"
       ]
      },
      {
       "output_type": "stream",
       "stream": "stdout",
       "text": [
        "\n",
        "1126"
       ]
      },
      {
       "output_type": "stream",
       "stream": "stdout",
       "text": [
        "\n",
        "1127"
       ]
      },
      {
       "output_type": "stream",
       "stream": "stdout",
       "text": [
        "\n",
        "1128"
       ]
      },
      {
       "output_type": "stream",
       "stream": "stdout",
       "text": [
        "\n",
        "1129"
       ]
      },
      {
       "output_type": "stream",
       "stream": "stdout",
       "text": [
        "\n",
        "1130"
       ]
      },
      {
       "output_type": "stream",
       "stream": "stdout",
       "text": [
        "\n",
        "1131"
       ]
      },
      {
       "output_type": "stream",
       "stream": "stdout",
       "text": [
        "\n",
        "1132"
       ]
      },
      {
       "output_type": "stream",
       "stream": "stdout",
       "text": [
        "\n",
        "1133"
       ]
      },
      {
       "output_type": "stream",
       "stream": "stdout",
       "text": [
        "\n",
        "1134"
       ]
      },
      {
       "output_type": "stream",
       "stream": "stdout",
       "text": [
        "\n",
        "1135"
       ]
      },
      {
       "output_type": "stream",
       "stream": "stdout",
       "text": [
        "\n",
        "1136"
       ]
      },
      {
       "output_type": "stream",
       "stream": "stdout",
       "text": [
        "\n",
        "1137"
       ]
      },
      {
       "output_type": "stream",
       "stream": "stdout",
       "text": [
        "\n",
        "1138"
       ]
      },
      {
       "output_type": "stream",
       "stream": "stdout",
       "text": [
        "\n",
        "1139"
       ]
      },
      {
       "output_type": "stream",
       "stream": "stdout",
       "text": [
        "\n",
        "1140"
       ]
      },
      {
       "output_type": "stream",
       "stream": "stdout",
       "text": [
        "\n",
        "1141"
       ]
      },
      {
       "output_type": "stream",
       "stream": "stdout",
       "text": [
        "\n",
        "1142"
       ]
      },
      {
       "output_type": "stream",
       "stream": "stdout",
       "text": [
        "\n",
        "1143"
       ]
      },
      {
       "output_type": "stream",
       "stream": "stdout",
       "text": [
        "\n",
        "1144"
       ]
      },
      {
       "output_type": "stream",
       "stream": "stdout",
       "text": [
        "\n",
        "1145"
       ]
      },
      {
       "output_type": "stream",
       "stream": "stdout",
       "text": [
        "\n",
        "1146"
       ]
      },
      {
       "output_type": "stream",
       "stream": "stdout",
       "text": [
        "\n",
        "1147"
       ]
      },
      {
       "output_type": "stream",
       "stream": "stdout",
       "text": [
        "\n",
        "1148"
       ]
      },
      {
       "output_type": "stream",
       "stream": "stdout",
       "text": [
        "\n",
        "1149"
       ]
      },
      {
       "output_type": "stream",
       "stream": "stdout",
       "text": [
        "\n",
        "1150"
       ]
      },
      {
       "output_type": "stream",
       "stream": "stdout",
       "text": [
        "\n",
        "1151"
       ]
      },
      {
       "output_type": "stream",
       "stream": "stdout",
       "text": [
        "\n",
        "1152"
       ]
      },
      {
       "output_type": "stream",
       "stream": "stdout",
       "text": [
        "\n",
        "1153"
       ]
      },
      {
       "output_type": "stream",
       "stream": "stdout",
       "text": [
        "\n",
        "1154"
       ]
      },
      {
       "output_type": "stream",
       "stream": "stdout",
       "text": [
        "\n",
        "1155"
       ]
      },
      {
       "output_type": "stream",
       "stream": "stdout",
       "text": [
        "\n",
        "1156"
       ]
      },
      {
       "output_type": "stream",
       "stream": "stdout",
       "text": [
        "\n",
        "1157"
       ]
      },
      {
       "output_type": "stream",
       "stream": "stdout",
       "text": [
        "\n",
        "1158"
       ]
      },
      {
       "output_type": "stream",
       "stream": "stdout",
       "text": [
        "\n",
        "1159"
       ]
      },
      {
       "output_type": "stream",
       "stream": "stdout",
       "text": [
        "\n",
        "1160"
       ]
      },
      {
       "output_type": "stream",
       "stream": "stdout",
       "text": [
        "\n",
        "1161"
       ]
      },
      {
       "output_type": "stream",
       "stream": "stdout",
       "text": [
        "\n",
        "1162"
       ]
      },
      {
       "output_type": "stream",
       "stream": "stdout",
       "text": [
        "\n",
        "1163"
       ]
      },
      {
       "output_type": "stream",
       "stream": "stdout",
       "text": [
        "\n",
        "1164"
       ]
      },
      {
       "output_type": "stream",
       "stream": "stdout",
       "text": [
        "\n",
        "1165"
       ]
      },
      {
       "output_type": "stream",
       "stream": "stdout",
       "text": [
        "\n",
        "1166"
       ]
      },
      {
       "output_type": "stream",
       "stream": "stdout",
       "text": [
        "\n",
        "1167"
       ]
      },
      {
       "output_type": "stream",
       "stream": "stdout",
       "text": [
        "\n",
        "1168"
       ]
      },
      {
       "output_type": "stream",
       "stream": "stdout",
       "text": [
        "\n",
        "1169"
       ]
      },
      {
       "output_type": "stream",
       "stream": "stdout",
       "text": [
        "\n",
        "1170"
       ]
      },
      {
       "output_type": "stream",
       "stream": "stdout",
       "text": [
        "\n",
        "1171"
       ]
      },
      {
       "output_type": "stream",
       "stream": "stdout",
       "text": [
        "\n",
        "1172"
       ]
      },
      {
       "output_type": "stream",
       "stream": "stdout",
       "text": [
        "\n",
        "1173"
       ]
      },
      {
       "output_type": "stream",
       "stream": "stdout",
       "text": [
        "\n",
        "1174"
       ]
      },
      {
       "output_type": "stream",
       "stream": "stdout",
       "text": [
        "\n",
        "1175"
       ]
      },
      {
       "output_type": "stream",
       "stream": "stdout",
       "text": [
        "\n",
        "1176"
       ]
      },
      {
       "output_type": "stream",
       "stream": "stdout",
       "text": [
        "\n",
        "1177"
       ]
      },
      {
       "output_type": "stream",
       "stream": "stdout",
       "text": [
        "\n",
        "1178"
       ]
      },
      {
       "output_type": "stream",
       "stream": "stdout",
       "text": [
        "\n",
        "1179"
       ]
      },
      {
       "output_type": "stream",
       "stream": "stdout",
       "text": [
        "\n",
        "1180"
       ]
      },
      {
       "output_type": "stream",
       "stream": "stdout",
       "text": [
        "\n",
        "1181"
       ]
      },
      {
       "output_type": "stream",
       "stream": "stdout",
       "text": [
        "\n",
        "1182"
       ]
      },
      {
       "output_type": "stream",
       "stream": "stdout",
       "text": [
        "\n",
        "1183"
       ]
      },
      {
       "output_type": "stream",
       "stream": "stdout",
       "text": [
        "\n",
        "1184"
       ]
      },
      {
       "output_type": "stream",
       "stream": "stdout",
       "text": [
        "\n",
        "1185"
       ]
      },
      {
       "output_type": "stream",
       "stream": "stdout",
       "text": [
        "\n",
        "1186"
       ]
      },
      {
       "output_type": "stream",
       "stream": "stdout",
       "text": [
        "\n",
        "1187"
       ]
      },
      {
       "output_type": "stream",
       "stream": "stdout",
       "text": [
        "\n",
        "1188"
       ]
      },
      {
       "output_type": "stream",
       "stream": "stdout",
       "text": [
        "\n",
        "1189"
       ]
      },
      {
       "output_type": "stream",
       "stream": "stdout",
       "text": [
        "\n",
        "1190"
       ]
      },
      {
       "output_type": "stream",
       "stream": "stdout",
       "text": [
        "\n",
        "1191"
       ]
      },
      {
       "output_type": "stream",
       "stream": "stdout",
       "text": [
        "\n",
        "1192"
       ]
      },
      {
       "output_type": "stream",
       "stream": "stdout",
       "text": [
        "\n",
        "1193"
       ]
      },
      {
       "output_type": "stream",
       "stream": "stdout",
       "text": [
        "\n",
        "1194"
       ]
      },
      {
       "output_type": "stream",
       "stream": "stdout",
       "text": [
        "\n",
        "1195"
       ]
      },
      {
       "output_type": "stream",
       "stream": "stdout",
       "text": [
        "\n",
        "1196"
       ]
      },
      {
       "output_type": "stream",
       "stream": "stdout",
       "text": [
        "\n",
        "1197"
       ]
      },
      {
       "output_type": "stream",
       "stream": "stdout",
       "text": [
        "\n",
        "1198"
       ]
      },
      {
       "output_type": "stream",
       "stream": "stdout",
       "text": [
        "\n",
        "1199"
       ]
      },
      {
       "output_type": "stream",
       "stream": "stdout",
       "text": [
        "\n",
        "1200"
       ]
      },
      {
       "output_type": "stream",
       "stream": "stdout",
       "text": [
        "\n",
        "1201"
       ]
      },
      {
       "output_type": "stream",
       "stream": "stdout",
       "text": [
        "\n",
        "1202"
       ]
      },
      {
       "output_type": "stream",
       "stream": "stdout",
       "text": [
        "\n",
        "1203"
       ]
      },
      {
       "output_type": "stream",
       "stream": "stdout",
       "text": [
        "\n",
        "1204"
       ]
      },
      {
       "output_type": "stream",
       "stream": "stdout",
       "text": [
        "\n",
        "1205"
       ]
      },
      {
       "output_type": "stream",
       "stream": "stdout",
       "text": [
        "\n",
        "1206"
       ]
      },
      {
       "output_type": "stream",
       "stream": "stdout",
       "text": [
        "\n",
        "1207"
       ]
      },
      {
       "output_type": "stream",
       "stream": "stdout",
       "text": [
        "\n",
        "1208"
       ]
      },
      {
       "output_type": "stream",
       "stream": "stdout",
       "text": [
        "\n",
        "1209"
       ]
      },
      {
       "output_type": "stream",
       "stream": "stdout",
       "text": [
        "\n",
        "1210"
       ]
      },
      {
       "output_type": "stream",
       "stream": "stdout",
       "text": [
        "\n",
        "1211"
       ]
      },
      {
       "output_type": "stream",
       "stream": "stdout",
       "text": [
        "\n",
        "1212"
       ]
      },
      {
       "output_type": "stream",
       "stream": "stdout",
       "text": [
        "\n",
        "1213"
       ]
      },
      {
       "output_type": "stream",
       "stream": "stdout",
       "text": [
        "\n",
        "1214"
       ]
      },
      {
       "output_type": "stream",
       "stream": "stdout",
       "text": [
        "\n",
        "1215"
       ]
      },
      {
       "output_type": "stream",
       "stream": "stdout",
       "text": [
        "\n",
        "1216"
       ]
      },
      {
       "output_type": "stream",
       "stream": "stdout",
       "text": [
        "\n",
        "1217"
       ]
      },
      {
       "output_type": "stream",
       "stream": "stdout",
       "text": [
        "\n",
        "1218"
       ]
      },
      {
       "output_type": "stream",
       "stream": "stdout",
       "text": [
        "\n",
        "1219"
       ]
      },
      {
       "output_type": "stream",
       "stream": "stdout",
       "text": [
        "\n",
        "1220"
       ]
      },
      {
       "output_type": "stream",
       "stream": "stdout",
       "text": [
        "\n",
        "1221"
       ]
      },
      {
       "output_type": "stream",
       "stream": "stdout",
       "text": [
        "\n",
        "1222"
       ]
      },
      {
       "output_type": "stream",
       "stream": "stdout",
       "text": [
        "\n",
        "1223"
       ]
      },
      {
       "output_type": "stream",
       "stream": "stdout",
       "text": [
        "\n",
        "1224"
       ]
      },
      {
       "output_type": "stream",
       "stream": "stdout",
       "text": [
        "\n",
        "1225"
       ]
      },
      {
       "output_type": "stream",
       "stream": "stdout",
       "text": [
        "\n",
        "1226"
       ]
      },
      {
       "output_type": "stream",
       "stream": "stdout",
       "text": [
        "\n",
        "1227"
       ]
      },
      {
       "output_type": "stream",
       "stream": "stdout",
       "text": [
        "\n",
        "1228"
       ]
      },
      {
       "output_type": "stream",
       "stream": "stdout",
       "text": [
        "\n",
        "1229"
       ]
      },
      {
       "output_type": "stream",
       "stream": "stdout",
       "text": [
        "\n",
        "1230"
       ]
      },
      {
       "output_type": "stream",
       "stream": "stdout",
       "text": [
        "\n",
        "1231"
       ]
      },
      {
       "output_type": "stream",
       "stream": "stdout",
       "text": [
        "\n",
        "1232"
       ]
      },
      {
       "output_type": "stream",
       "stream": "stdout",
       "text": [
        "\n",
        "1233"
       ]
      },
      {
       "output_type": "stream",
       "stream": "stdout",
       "text": [
        "\n",
        "1234"
       ]
      },
      {
       "output_type": "stream",
       "stream": "stdout",
       "text": [
        "\n",
        "1235"
       ]
      },
      {
       "output_type": "stream",
       "stream": "stdout",
       "text": [
        "\n",
        "1236"
       ]
      },
      {
       "output_type": "stream",
       "stream": "stdout",
       "text": [
        "\n",
        "1237"
       ]
      },
      {
       "output_type": "stream",
       "stream": "stdout",
       "text": [
        "\n",
        "1238"
       ]
      },
      {
       "output_type": "stream",
       "stream": "stdout",
       "text": [
        "\n",
        "1239"
       ]
      },
      {
       "output_type": "stream",
       "stream": "stdout",
       "text": [
        "\n",
        "1240"
       ]
      },
      {
       "output_type": "stream",
       "stream": "stdout",
       "text": [
        "\n",
        "1241"
       ]
      },
      {
       "output_type": "stream",
       "stream": "stdout",
       "text": [
        "\n",
        "1242"
       ]
      },
      {
       "output_type": "stream",
       "stream": "stdout",
       "text": [
        "\n",
        "1243"
       ]
      },
      {
       "output_type": "stream",
       "stream": "stdout",
       "text": [
        "\n",
        "1244"
       ]
      },
      {
       "output_type": "stream",
       "stream": "stdout",
       "text": [
        "\n",
        "1245"
       ]
      },
      {
       "output_type": "stream",
       "stream": "stdout",
       "text": [
        "\n",
        "1246"
       ]
      },
      {
       "output_type": "stream",
       "stream": "stdout",
       "text": [
        "\n",
        "1247"
       ]
      },
      {
       "output_type": "stream",
       "stream": "stdout",
       "text": [
        "\n",
        "1248"
       ]
      },
      {
       "output_type": "stream",
       "stream": "stdout",
       "text": [
        "\n",
        "1249"
       ]
      },
      {
       "output_type": "stream",
       "stream": "stdout",
       "text": [
        "\n",
        "1250"
       ]
      },
      {
       "output_type": "stream",
       "stream": "stdout",
       "text": [
        "\n",
        "1251"
       ]
      },
      {
       "output_type": "stream",
       "stream": "stdout",
       "text": [
        "\n",
        "1252"
       ]
      },
      {
       "output_type": "stream",
       "stream": "stdout",
       "text": [
        "\n",
        "1253"
       ]
      },
      {
       "output_type": "stream",
       "stream": "stdout",
       "text": [
        "\n",
        "1254"
       ]
      },
      {
       "output_type": "stream",
       "stream": "stdout",
       "text": [
        "\n",
        "1255"
       ]
      },
      {
       "output_type": "stream",
       "stream": "stdout",
       "text": [
        "\n",
        "1256"
       ]
      },
      {
       "output_type": "stream",
       "stream": "stdout",
       "text": [
        "\n",
        "1257"
       ]
      },
      {
       "output_type": "stream",
       "stream": "stdout",
       "text": [
        "\n",
        "1258"
       ]
      },
      {
       "output_type": "stream",
       "stream": "stdout",
       "text": [
        "\n",
        "1259"
       ]
      },
      {
       "output_type": "stream",
       "stream": "stdout",
       "text": [
        "\n",
        "1260"
       ]
      },
      {
       "output_type": "stream",
       "stream": "stdout",
       "text": [
        "\n",
        "1261"
       ]
      },
      {
       "output_type": "stream",
       "stream": "stdout",
       "text": [
        "\n",
        "1262"
       ]
      },
      {
       "output_type": "stream",
       "stream": "stdout",
       "text": [
        "\n",
        "1263"
       ]
      },
      {
       "output_type": "stream",
       "stream": "stdout",
       "text": [
        "\n",
        "1264"
       ]
      },
      {
       "output_type": "stream",
       "stream": "stdout",
       "text": [
        "\n",
        "1265"
       ]
      },
      {
       "output_type": "stream",
       "stream": "stdout",
       "text": [
        "\n",
        "1266"
       ]
      },
      {
       "output_type": "stream",
       "stream": "stdout",
       "text": [
        "\n",
        "1267"
       ]
      },
      {
       "output_type": "stream",
       "stream": "stdout",
       "text": [
        "\n",
        "1268"
       ]
      },
      {
       "output_type": "stream",
       "stream": "stdout",
       "text": [
        "\n",
        "1269"
       ]
      },
      {
       "output_type": "stream",
       "stream": "stdout",
       "text": [
        "\n",
        "1270"
       ]
      },
      {
       "output_type": "stream",
       "stream": "stdout",
       "text": [
        "\n",
        "1271"
       ]
      },
      {
       "output_type": "stream",
       "stream": "stdout",
       "text": [
        "\n",
        "1272"
       ]
      },
      {
       "output_type": "stream",
       "stream": "stdout",
       "text": [
        "\n",
        "1273"
       ]
      },
      {
       "output_type": "stream",
       "stream": "stdout",
       "text": [
        "\n",
        "1274"
       ]
      },
      {
       "output_type": "stream",
       "stream": "stdout",
       "text": [
        "\n",
        "1275"
       ]
      },
      {
       "output_type": "stream",
       "stream": "stdout",
       "text": [
        "\n",
        "1276"
       ]
      },
      {
       "output_type": "stream",
       "stream": "stdout",
       "text": [
        "\n",
        "1277"
       ]
      },
      {
       "output_type": "stream",
       "stream": "stdout",
       "text": [
        "\n",
        "1278"
       ]
      },
      {
       "output_type": "stream",
       "stream": "stdout",
       "text": [
        "\n",
        "1279"
       ]
      },
      {
       "output_type": "stream",
       "stream": "stdout",
       "text": [
        "\n",
        "1280"
       ]
      },
      {
       "output_type": "stream",
       "stream": "stdout",
       "text": [
        "\n",
        "1281"
       ]
      },
      {
       "output_type": "stream",
       "stream": "stdout",
       "text": [
        "\n",
        "1282"
       ]
      },
      {
       "output_type": "stream",
       "stream": "stdout",
       "text": [
        "\n",
        "1283"
       ]
      },
      {
       "output_type": "stream",
       "stream": "stdout",
       "text": [
        "\n",
        "1284"
       ]
      },
      {
       "output_type": "stream",
       "stream": "stdout",
       "text": [
        "\n",
        "1285"
       ]
      },
      {
       "output_type": "stream",
       "stream": "stdout",
       "text": [
        "\n",
        "1286"
       ]
      },
      {
       "output_type": "stream",
       "stream": "stdout",
       "text": [
        "\n",
        "1287"
       ]
      },
      {
       "output_type": "stream",
       "stream": "stdout",
       "text": [
        "\n",
        "1288"
       ]
      },
      {
       "output_type": "stream",
       "stream": "stdout",
       "text": [
        "\n",
        "1289"
       ]
      },
      {
       "output_type": "stream",
       "stream": "stdout",
       "text": [
        "\n",
        "1290"
       ]
      },
      {
       "output_type": "stream",
       "stream": "stdout",
       "text": [
        "\n",
        "1291"
       ]
      },
      {
       "output_type": "stream",
       "stream": "stdout",
       "text": [
        "\n",
        "1292"
       ]
      },
      {
       "output_type": "stream",
       "stream": "stdout",
       "text": [
        "\n",
        "1293"
       ]
      },
      {
       "output_type": "stream",
       "stream": "stdout",
       "text": [
        "\n",
        "1294"
       ]
      },
      {
       "output_type": "stream",
       "stream": "stdout",
       "text": [
        "\n",
        "1295"
       ]
      },
      {
       "output_type": "stream",
       "stream": "stdout",
       "text": [
        "\n",
        "1296"
       ]
      },
      {
       "output_type": "stream",
       "stream": "stdout",
       "text": [
        "\n",
        "1297"
       ]
      },
      {
       "output_type": "stream",
       "stream": "stdout",
       "text": [
        "\n",
        "1298"
       ]
      },
      {
       "output_type": "stream",
       "stream": "stdout",
       "text": [
        "\n",
        "1299"
       ]
      },
      {
       "output_type": "stream",
       "stream": "stdout",
       "text": [
        "\n",
        "1300"
       ]
      },
      {
       "output_type": "stream",
       "stream": "stdout",
       "text": [
        "\n",
        "1301"
       ]
      },
      {
       "output_type": "stream",
       "stream": "stdout",
       "text": [
        "\n",
        "1302"
       ]
      },
      {
       "output_type": "stream",
       "stream": "stdout",
       "text": [
        "\n",
        "1303"
       ]
      },
      {
       "output_type": "stream",
       "stream": "stdout",
       "text": [
        "\n",
        "1304"
       ]
      },
      {
       "output_type": "stream",
       "stream": "stdout",
       "text": [
        "\n",
        "1305"
       ]
      },
      {
       "output_type": "stream",
       "stream": "stdout",
       "text": [
        "\n",
        "1306"
       ]
      },
      {
       "output_type": "stream",
       "stream": "stdout",
       "text": [
        "\n",
        "1307"
       ]
      },
      {
       "output_type": "stream",
       "stream": "stdout",
       "text": [
        "\n",
        "1308"
       ]
      },
      {
       "output_type": "stream",
       "stream": "stdout",
       "text": [
        "\n",
        "1309"
       ]
      },
      {
       "output_type": "stream",
       "stream": "stdout",
       "text": [
        "\n",
        "1310"
       ]
      },
      {
       "output_type": "stream",
       "stream": "stdout",
       "text": [
        "\n",
        "1311"
       ]
      },
      {
       "output_type": "stream",
       "stream": "stdout",
       "text": [
        "\n",
        "1312"
       ]
      },
      {
       "output_type": "stream",
       "stream": "stdout",
       "text": [
        "\n",
        "1313"
       ]
      },
      {
       "output_type": "stream",
       "stream": "stdout",
       "text": [
        "\n",
        "1314"
       ]
      },
      {
       "output_type": "stream",
       "stream": "stdout",
       "text": [
        "\n",
        "1315"
       ]
      },
      {
       "output_type": "stream",
       "stream": "stdout",
       "text": [
        "\n",
        "1316"
       ]
      },
      {
       "output_type": "stream",
       "stream": "stdout",
       "text": [
        "\n",
        "1317"
       ]
      },
      {
       "output_type": "stream",
       "stream": "stdout",
       "text": [
        "\n",
        "1318"
       ]
      },
      {
       "output_type": "stream",
       "stream": "stdout",
       "text": [
        "\n",
        "1319"
       ]
      },
      {
       "output_type": "stream",
       "stream": "stdout",
       "text": [
        "\n",
        "1320"
       ]
      },
      {
       "output_type": "stream",
       "stream": "stdout",
       "text": [
        "\n",
        "1321"
       ]
      },
      {
       "output_type": "stream",
       "stream": "stdout",
       "text": [
        "\n",
        "1322"
       ]
      },
      {
       "output_type": "stream",
       "stream": "stdout",
       "text": [
        "\n",
        "1323"
       ]
      },
      {
       "output_type": "stream",
       "stream": "stdout",
       "text": [
        "\n",
        "1324"
       ]
      },
      {
       "output_type": "stream",
       "stream": "stdout",
       "text": [
        "\n",
        "1325"
       ]
      },
      {
       "output_type": "stream",
       "stream": "stdout",
       "text": [
        "\n",
        "1326"
       ]
      },
      {
       "output_type": "stream",
       "stream": "stdout",
       "text": [
        "\n",
        "1327"
       ]
      },
      {
       "output_type": "stream",
       "stream": "stdout",
       "text": [
        "\n",
        "1328"
       ]
      },
      {
       "output_type": "stream",
       "stream": "stdout",
       "text": [
        "\n",
        "1329"
       ]
      },
      {
       "output_type": "stream",
       "stream": "stdout",
       "text": [
        "\n",
        "1330"
       ]
      },
      {
       "output_type": "stream",
       "stream": "stdout",
       "text": [
        "\n",
        "1331"
       ]
      },
      {
       "output_type": "stream",
       "stream": "stdout",
       "text": [
        "\n",
        "1332"
       ]
      },
      {
       "output_type": "stream",
       "stream": "stdout",
       "text": [
        "\n",
        "1333"
       ]
      },
      {
       "output_type": "stream",
       "stream": "stdout",
       "text": [
        "\n",
        "1334"
       ]
      },
      {
       "output_type": "stream",
       "stream": "stdout",
       "text": [
        "\n",
        "1335"
       ]
      },
      {
       "output_type": "stream",
       "stream": "stdout",
       "text": [
        "\n",
        "1336"
       ]
      },
      {
       "output_type": "stream",
       "stream": "stdout",
       "text": [
        "\n",
        "1337"
       ]
      },
      {
       "output_type": "stream",
       "stream": "stdout",
       "text": [
        "\n",
        "1338"
       ]
      },
      {
       "output_type": "stream",
       "stream": "stdout",
       "text": [
        "\n",
        "1339"
       ]
      },
      {
       "output_type": "stream",
       "stream": "stdout",
       "text": [
        "\n",
        "1340"
       ]
      },
      {
       "output_type": "stream",
       "stream": "stdout",
       "text": [
        "\n",
        "1341"
       ]
      },
      {
       "output_type": "stream",
       "stream": "stdout",
       "text": [
        "\n",
        "1342"
       ]
      },
      {
       "output_type": "stream",
       "stream": "stdout",
       "text": [
        "\n",
        "1343"
       ]
      },
      {
       "output_type": "stream",
       "stream": "stdout",
       "text": [
        "\n",
        "1344"
       ]
      },
      {
       "output_type": "stream",
       "stream": "stdout",
       "text": [
        "\n",
        "1345"
       ]
      },
      {
       "output_type": "stream",
       "stream": "stdout",
       "text": [
        "\n",
        "1346"
       ]
      },
      {
       "output_type": "stream",
       "stream": "stdout",
       "text": [
        "\n",
        "1347"
       ]
      },
      {
       "output_type": "stream",
       "stream": "stdout",
       "text": [
        "\n",
        "1348"
       ]
      },
      {
       "output_type": "stream",
       "stream": "stdout",
       "text": [
        "\n",
        "1349"
       ]
      },
      {
       "output_type": "stream",
       "stream": "stdout",
       "text": [
        "\n",
        "1350"
       ]
      },
      {
       "output_type": "stream",
       "stream": "stdout",
       "text": [
        "\n",
        "1351"
       ]
      },
      {
       "output_type": "stream",
       "stream": "stdout",
       "text": [
        "\n",
        "1352"
       ]
      },
      {
       "output_type": "stream",
       "stream": "stdout",
       "text": [
        "\n",
        "1353"
       ]
      },
      {
       "output_type": "stream",
       "stream": "stdout",
       "text": [
        "\n",
        "1354"
       ]
      },
      {
       "output_type": "stream",
       "stream": "stdout",
       "text": [
        "\n",
        "1355"
       ]
      },
      {
       "output_type": "stream",
       "stream": "stdout",
       "text": [
        "\n",
        "1356"
       ]
      },
      {
       "output_type": "stream",
       "stream": "stdout",
       "text": [
        "\n",
        "1357"
       ]
      },
      {
       "output_type": "stream",
       "stream": "stdout",
       "text": [
        "\n",
        "1358"
       ]
      },
      {
       "output_type": "stream",
       "stream": "stdout",
       "text": [
        "\n",
        "1359"
       ]
      },
      {
       "output_type": "stream",
       "stream": "stdout",
       "text": [
        "\n",
        "1360"
       ]
      },
      {
       "output_type": "stream",
       "stream": "stdout",
       "text": [
        "\n",
        "1361"
       ]
      },
      {
       "output_type": "stream",
       "stream": "stdout",
       "text": [
        "\n",
        "1362"
       ]
      },
      {
       "output_type": "stream",
       "stream": "stdout",
       "text": [
        "\n",
        "1363"
       ]
      },
      {
       "output_type": "stream",
       "stream": "stdout",
       "text": [
        "\n",
        "1364"
       ]
      },
      {
       "output_type": "stream",
       "stream": "stdout",
       "text": [
        "\n",
        "1365"
       ]
      },
      {
       "output_type": "stream",
       "stream": "stdout",
       "text": [
        "\n",
        "1366"
       ]
      },
      {
       "output_type": "stream",
       "stream": "stdout",
       "text": [
        "\n",
        "1367"
       ]
      },
      {
       "output_type": "stream",
       "stream": "stdout",
       "text": [
        "\n",
        "1368"
       ]
      },
      {
       "output_type": "stream",
       "stream": "stdout",
       "text": [
        "\n",
        "1369"
       ]
      },
      {
       "output_type": "stream",
       "stream": "stdout",
       "text": [
        "\n",
        "1370"
       ]
      },
      {
       "output_type": "stream",
       "stream": "stdout",
       "text": [
        "\n",
        "1371"
       ]
      },
      {
       "output_type": "stream",
       "stream": "stdout",
       "text": [
        "\n",
        "1372"
       ]
      },
      {
       "output_type": "stream",
       "stream": "stdout",
       "text": [
        "\n",
        "1373"
       ]
      },
      {
       "output_type": "stream",
       "stream": "stdout",
       "text": [
        "\n",
        "1374"
       ]
      },
      {
       "output_type": "stream",
       "stream": "stdout",
       "text": [
        "\n",
        "1375"
       ]
      },
      {
       "output_type": "stream",
       "stream": "stdout",
       "text": [
        "\n",
        "1376"
       ]
      },
      {
       "output_type": "stream",
       "stream": "stdout",
       "text": [
        "\n",
        "1377"
       ]
      },
      {
       "output_type": "stream",
       "stream": "stdout",
       "text": [
        "\n",
        "1378"
       ]
      },
      {
       "output_type": "stream",
       "stream": "stdout",
       "text": [
        "\n",
        "1379"
       ]
      },
      {
       "output_type": "stream",
       "stream": "stdout",
       "text": [
        "\n",
        "1380"
       ]
      },
      {
       "output_type": "stream",
       "stream": "stdout",
       "text": [
        "\n",
        "1381"
       ]
      },
      {
       "output_type": "stream",
       "stream": "stdout",
       "text": [
        "\n",
        "1382"
       ]
      },
      {
       "output_type": "stream",
       "stream": "stdout",
       "text": [
        "\n",
        "1383"
       ]
      },
      {
       "output_type": "stream",
       "stream": "stdout",
       "text": [
        "\n",
        "1384"
       ]
      },
      {
       "output_type": "stream",
       "stream": "stdout",
       "text": [
        "\n",
        "1385"
       ]
      },
      {
       "output_type": "stream",
       "stream": "stdout",
       "text": [
        "\n",
        "1386"
       ]
      },
      {
       "output_type": "stream",
       "stream": "stdout",
       "text": [
        "\n",
        "1387"
       ]
      },
      {
       "output_type": "stream",
       "stream": "stdout",
       "text": [
        "\n",
        "1388"
       ]
      },
      {
       "output_type": "stream",
       "stream": "stdout",
       "text": [
        "\n",
        "1389"
       ]
      },
      {
       "output_type": "stream",
       "stream": "stdout",
       "text": [
        "\n",
        "1390"
       ]
      },
      {
       "output_type": "stream",
       "stream": "stdout",
       "text": [
        "\n",
        "1391"
       ]
      },
      {
       "output_type": "stream",
       "stream": "stdout",
       "text": [
        "\n",
        "1392"
       ]
      },
      {
       "output_type": "stream",
       "stream": "stdout",
       "text": [
        "\n",
        "1393"
       ]
      },
      {
       "output_type": "stream",
       "stream": "stdout",
       "text": [
        "\n",
        "1394"
       ]
      },
      {
       "output_type": "stream",
       "stream": "stdout",
       "text": [
        "\n",
        "1395"
       ]
      },
      {
       "output_type": "stream",
       "stream": "stdout",
       "text": [
        "\n",
        "1396"
       ]
      },
      {
       "output_type": "stream",
       "stream": "stdout",
       "text": [
        "\n",
        "1397"
       ]
      },
      {
       "output_type": "stream",
       "stream": "stdout",
       "text": [
        "\n",
        "1398"
       ]
      },
      {
       "output_type": "stream",
       "stream": "stdout",
       "text": [
        "\n",
        "1399"
       ]
      },
      {
       "output_type": "stream",
       "stream": "stdout",
       "text": [
        "\n",
        "1400"
       ]
      },
      {
       "output_type": "stream",
       "stream": "stdout",
       "text": [
        "\n",
        "1401"
       ]
      },
      {
       "output_type": "stream",
       "stream": "stdout",
       "text": [
        "\n",
        "1402"
       ]
      },
      {
       "output_type": "stream",
       "stream": "stdout",
       "text": [
        "\n",
        "1403"
       ]
      },
      {
       "output_type": "stream",
       "stream": "stdout",
       "text": [
        "\n",
        "1404"
       ]
      },
      {
       "output_type": "stream",
       "stream": "stdout",
       "text": [
        "\n",
        "1405"
       ]
      },
      {
       "output_type": "stream",
       "stream": "stdout",
       "text": [
        "\n",
        "1406"
       ]
      },
      {
       "output_type": "stream",
       "stream": "stdout",
       "text": [
        "\n",
        "1407"
       ]
      },
      {
       "output_type": "stream",
       "stream": "stdout",
       "text": [
        "\n",
        "1408"
       ]
      },
      {
       "output_type": "stream",
       "stream": "stdout",
       "text": [
        "\n",
        "1409"
       ]
      },
      {
       "output_type": "stream",
       "stream": "stdout",
       "text": [
        "\n",
        "1410"
       ]
      },
      {
       "output_type": "stream",
       "stream": "stdout",
       "text": [
        "\n",
        "1411"
       ]
      },
      {
       "output_type": "stream",
       "stream": "stdout",
       "text": [
        "\n",
        "1412"
       ]
      },
      {
       "output_type": "stream",
       "stream": "stdout",
       "text": [
        "\n",
        "1413"
       ]
      },
      {
       "output_type": "stream",
       "stream": "stdout",
       "text": [
        "\n",
        "1414"
       ]
      },
      {
       "output_type": "stream",
       "stream": "stdout",
       "text": [
        "\n",
        "1415"
       ]
      },
      {
       "output_type": "stream",
       "stream": "stdout",
       "text": [
        "\n",
        "1416"
       ]
      },
      {
       "output_type": "stream",
       "stream": "stdout",
       "text": [
        "\n",
        "1417"
       ]
      },
      {
       "output_type": "stream",
       "stream": "stdout",
       "text": [
        "\n",
        "1418"
       ]
      },
      {
       "output_type": "stream",
       "stream": "stdout",
       "text": [
        "\n",
        "1419"
       ]
      },
      {
       "output_type": "stream",
       "stream": "stdout",
       "text": [
        "\n",
        "1420"
       ]
      },
      {
       "output_type": "stream",
       "stream": "stdout",
       "text": [
        "\n",
        "1421"
       ]
      },
      {
       "output_type": "stream",
       "stream": "stdout",
       "text": [
        "\n",
        "1422"
       ]
      },
      {
       "output_type": "stream",
       "stream": "stdout",
       "text": [
        "\n",
        "1423"
       ]
      },
      {
       "output_type": "stream",
       "stream": "stdout",
       "text": [
        "\n",
        "1424"
       ]
      },
      {
       "output_type": "stream",
       "stream": "stdout",
       "text": [
        "\n",
        "1425"
       ]
      },
      {
       "output_type": "stream",
       "stream": "stdout",
       "text": [
        "\n",
        "1426"
       ]
      },
      {
       "output_type": "stream",
       "stream": "stdout",
       "text": [
        "\n",
        "1427"
       ]
      },
      {
       "output_type": "stream",
       "stream": "stdout",
       "text": [
        "\n",
        "1428"
       ]
      },
      {
       "output_type": "stream",
       "stream": "stdout",
       "text": [
        "\n",
        "1429"
       ]
      },
      {
       "output_type": "stream",
       "stream": "stdout",
       "text": [
        "\n",
        "1430"
       ]
      },
      {
       "output_type": "stream",
       "stream": "stdout",
       "text": [
        "\n",
        "1431"
       ]
      },
      {
       "output_type": "stream",
       "stream": "stdout",
       "text": [
        "\n",
        "1432"
       ]
      },
      {
       "output_type": "stream",
       "stream": "stdout",
       "text": [
        "\n",
        "1433"
       ]
      },
      {
       "output_type": "stream",
       "stream": "stdout",
       "text": [
        "\n",
        "1434"
       ]
      },
      {
       "output_type": "stream",
       "stream": "stdout",
       "text": [
        "\n",
        "1435"
       ]
      },
      {
       "output_type": "stream",
       "stream": "stdout",
       "text": [
        "\n",
        "1436"
       ]
      },
      {
       "output_type": "stream",
       "stream": "stdout",
       "text": [
        "\n",
        "1437"
       ]
      },
      {
       "output_type": "stream",
       "stream": "stdout",
       "text": [
        "\n",
        "1438"
       ]
      },
      {
       "output_type": "stream",
       "stream": "stdout",
       "text": [
        "\n",
        "1439"
       ]
      },
      {
       "output_type": "stream",
       "stream": "stdout",
       "text": [
        "\n",
        "1440"
       ]
      },
      {
       "output_type": "stream",
       "stream": "stdout",
       "text": [
        "\n",
        "1441"
       ]
      },
      {
       "output_type": "stream",
       "stream": "stdout",
       "text": [
        "\n",
        "1442"
       ]
      },
      {
       "output_type": "stream",
       "stream": "stdout",
       "text": [
        "\n",
        "1443"
       ]
      },
      {
       "output_type": "stream",
       "stream": "stdout",
       "text": [
        "\n",
        "1444"
       ]
      },
      {
       "output_type": "stream",
       "stream": "stdout",
       "text": [
        "\n",
        "1445"
       ]
      },
      {
       "output_type": "stream",
       "stream": "stdout",
       "text": [
        "\n",
        "1446"
       ]
      },
      {
       "output_type": "stream",
       "stream": "stdout",
       "text": [
        "\n",
        "1447"
       ]
      },
      {
       "output_type": "stream",
       "stream": "stdout",
       "text": [
        "\n",
        "1448"
       ]
      },
      {
       "output_type": "stream",
       "stream": "stdout",
       "text": [
        "\n",
        "1449"
       ]
      },
      {
       "output_type": "stream",
       "stream": "stdout",
       "text": [
        "\n",
        "1450"
       ]
      },
      {
       "output_type": "stream",
       "stream": "stdout",
       "text": [
        "\n",
        "1451"
       ]
      },
      {
       "output_type": "stream",
       "stream": "stdout",
       "text": [
        "\n",
        "1452"
       ]
      },
      {
       "output_type": "stream",
       "stream": "stdout",
       "text": [
        "\n",
        "1453"
       ]
      },
      {
       "output_type": "stream",
       "stream": "stdout",
       "text": [
        "\n",
        "1454"
       ]
      },
      {
       "output_type": "stream",
       "stream": "stdout",
       "text": [
        "\n",
        "1455"
       ]
      },
      {
       "output_type": "stream",
       "stream": "stdout",
       "text": [
        "\n",
        "1456"
       ]
      },
      {
       "output_type": "stream",
       "stream": "stdout",
       "text": [
        "\n",
        "1457"
       ]
      },
      {
       "output_type": "stream",
       "stream": "stdout",
       "text": [
        "\n",
        "1458"
       ]
      },
      {
       "output_type": "stream",
       "stream": "stdout",
       "text": [
        "\n",
        "1459"
       ]
      },
      {
       "output_type": "stream",
       "stream": "stdout",
       "text": [
        "\n",
        "1460"
       ]
      },
      {
       "output_type": "stream",
       "stream": "stdout",
       "text": [
        "\n",
        "1461"
       ]
      },
      {
       "output_type": "stream",
       "stream": "stdout",
       "text": [
        "\n",
        "1462"
       ]
      },
      {
       "output_type": "stream",
       "stream": "stdout",
       "text": [
        "\n",
        "1463"
       ]
      },
      {
       "output_type": "stream",
       "stream": "stdout",
       "text": [
        "\n",
        "1464"
       ]
      },
      {
       "output_type": "stream",
       "stream": "stdout",
       "text": [
        "\n",
        "1465"
       ]
      },
      {
       "output_type": "stream",
       "stream": "stdout",
       "text": [
        "\n",
        "1466"
       ]
      },
      {
       "output_type": "stream",
       "stream": "stdout",
       "text": [
        "\n",
        "1467"
       ]
      },
      {
       "output_type": "stream",
       "stream": "stdout",
       "text": [
        "\n",
        "1468"
       ]
      },
      {
       "output_type": "stream",
       "stream": "stdout",
       "text": [
        "\n",
        "1469"
       ]
      },
      {
       "output_type": "stream",
       "stream": "stdout",
       "text": [
        "\n",
        "1470"
       ]
      },
      {
       "output_type": "stream",
       "stream": "stdout",
       "text": [
        "\n",
        "1471"
       ]
      },
      {
       "output_type": "stream",
       "stream": "stdout",
       "text": [
        "\n",
        "1472"
       ]
      },
      {
       "output_type": "stream",
       "stream": "stdout",
       "text": [
        "\n",
        "1473"
       ]
      },
      {
       "output_type": "stream",
       "stream": "stdout",
       "text": [
        "\n",
        "1474"
       ]
      },
      {
       "output_type": "stream",
       "stream": "stdout",
       "text": [
        "\n",
        "1475"
       ]
      },
      {
       "output_type": "stream",
       "stream": "stdout",
       "text": [
        "\n",
        "1476"
       ]
      },
      {
       "output_type": "stream",
       "stream": "stdout",
       "text": [
        "\n",
        "1477"
       ]
      },
      {
       "output_type": "stream",
       "stream": "stdout",
       "text": [
        "\n",
        "1478"
       ]
      },
      {
       "output_type": "stream",
       "stream": "stdout",
       "text": [
        "\n",
        "1479"
       ]
      },
      {
       "output_type": "stream",
       "stream": "stdout",
       "text": [
        "\n",
        "1480"
       ]
      },
      {
       "output_type": "stream",
       "stream": "stdout",
       "text": [
        "\n",
        "1481"
       ]
      },
      {
       "output_type": "stream",
       "stream": "stdout",
       "text": [
        "\n",
        "1482"
       ]
      },
      {
       "output_type": "stream",
       "stream": "stdout",
       "text": [
        "\n",
        "1483"
       ]
      },
      {
       "output_type": "stream",
       "stream": "stdout",
       "text": [
        "\n",
        "1484"
       ]
      },
      {
       "output_type": "stream",
       "stream": "stdout",
       "text": [
        "\n",
        "1485"
       ]
      },
      {
       "output_type": "stream",
       "stream": "stdout",
       "text": [
        "\n",
        "1486"
       ]
      },
      {
       "output_type": "stream",
       "stream": "stdout",
       "text": [
        "\n",
        "1487"
       ]
      },
      {
       "output_type": "stream",
       "stream": "stdout",
       "text": [
        "\n",
        "1488"
       ]
      },
      {
       "output_type": "stream",
       "stream": "stdout",
       "text": [
        "\n",
        "1489"
       ]
      },
      {
       "output_type": "stream",
       "stream": "stdout",
       "text": [
        "\n",
        "1490"
       ]
      },
      {
       "output_type": "stream",
       "stream": "stdout",
       "text": [
        "\n",
        "1491"
       ]
      },
      {
       "output_type": "stream",
       "stream": "stdout",
       "text": [
        "\n",
        "1492"
       ]
      },
      {
       "output_type": "stream",
       "stream": "stdout",
       "text": [
        "\n",
        "1493"
       ]
      },
      {
       "output_type": "stream",
       "stream": "stdout",
       "text": [
        "\n",
        "1494"
       ]
      },
      {
       "output_type": "stream",
       "stream": "stdout",
       "text": [
        "\n",
        "1495"
       ]
      },
      {
       "output_type": "stream",
       "stream": "stdout",
       "text": [
        "\n",
        "1496"
       ]
      },
      {
       "output_type": "stream",
       "stream": "stdout",
       "text": [
        "\n",
        "1497"
       ]
      },
      {
       "output_type": "stream",
       "stream": "stdout",
       "text": [
        "\n",
        "1498"
       ]
      },
      {
       "output_type": "stream",
       "stream": "stdout",
       "text": [
        "\n",
        "1499"
       ]
      },
      {
       "output_type": "stream",
       "stream": "stdout",
       "text": [
        "\n",
        "1500"
       ]
      },
      {
       "output_type": "stream",
       "stream": "stdout",
       "text": [
        "\n",
        "1501"
       ]
      },
      {
       "output_type": "stream",
       "stream": "stdout",
       "text": [
        "\n",
        "1502"
       ]
      },
      {
       "output_type": "stream",
       "stream": "stdout",
       "text": [
        "\n",
        "1503"
       ]
      },
      {
       "output_type": "stream",
       "stream": "stdout",
       "text": [
        "\n",
        "1504"
       ]
      },
      {
       "output_type": "stream",
       "stream": "stdout",
       "text": [
        "\n",
        "1505"
       ]
      },
      {
       "output_type": "stream",
       "stream": "stdout",
       "text": [
        "\n",
        "1506"
       ]
      },
      {
       "output_type": "stream",
       "stream": "stdout",
       "text": [
        "\n",
        "1507"
       ]
      },
      {
       "output_type": "stream",
       "stream": "stdout",
       "text": [
        "\n",
        "1508"
       ]
      },
      {
       "output_type": "stream",
       "stream": "stdout",
       "text": [
        "\n",
        "1509"
       ]
      },
      {
       "output_type": "stream",
       "stream": "stdout",
       "text": [
        "\n",
        "1510"
       ]
      },
      {
       "output_type": "stream",
       "stream": "stdout",
       "text": [
        "\n",
        "1511"
       ]
      },
      {
       "output_type": "stream",
       "stream": "stdout",
       "text": [
        "\n",
        "1512"
       ]
      },
      {
       "output_type": "stream",
       "stream": "stdout",
       "text": [
        "\n",
        "1513"
       ]
      },
      {
       "output_type": "stream",
       "stream": "stdout",
       "text": [
        "\n",
        "1514"
       ]
      },
      {
       "output_type": "stream",
       "stream": "stdout",
       "text": [
        "\n",
        "1515"
       ]
      },
      {
       "output_type": "stream",
       "stream": "stdout",
       "text": [
        "\n",
        "1516"
       ]
      },
      {
       "output_type": "stream",
       "stream": "stdout",
       "text": [
        "\n",
        "1517"
       ]
      },
      {
       "output_type": "stream",
       "stream": "stdout",
       "text": [
        "\n",
        "1518"
       ]
      },
      {
       "output_type": "stream",
       "stream": "stdout",
       "text": [
        "\n",
        "1519"
       ]
      },
      {
       "output_type": "stream",
       "stream": "stdout",
       "text": [
        "\n",
        "1520"
       ]
      },
      {
       "output_type": "stream",
       "stream": "stdout",
       "text": [
        "\n",
        "1521"
       ]
      },
      {
       "output_type": "stream",
       "stream": "stdout",
       "text": [
        "\n",
        "1522"
       ]
      },
      {
       "output_type": "stream",
       "stream": "stdout",
       "text": [
        "\n",
        "1523"
       ]
      },
      {
       "output_type": "stream",
       "stream": "stdout",
       "text": [
        "\n",
        "1524"
       ]
      },
      {
       "output_type": "stream",
       "stream": "stdout",
       "text": [
        "\n",
        "1525"
       ]
      },
      {
       "output_type": "stream",
       "stream": "stdout",
       "text": [
        "\n",
        "1526"
       ]
      },
      {
       "output_type": "stream",
       "stream": "stdout",
       "text": [
        "\n",
        "1527"
       ]
      },
      {
       "output_type": "stream",
       "stream": "stdout",
       "text": [
        "\n",
        "1528"
       ]
      },
      {
       "output_type": "stream",
       "stream": "stdout",
       "text": [
        "\n",
        "1529"
       ]
      },
      {
       "output_type": "stream",
       "stream": "stdout",
       "text": [
        "\n",
        "1530"
       ]
      },
      {
       "output_type": "stream",
       "stream": "stdout",
       "text": [
        "\n",
        "1531"
       ]
      },
      {
       "output_type": "stream",
       "stream": "stdout",
       "text": [
        "\n",
        "1532"
       ]
      },
      {
       "output_type": "stream",
       "stream": "stdout",
       "text": [
        "\n",
        "1533"
       ]
      },
      {
       "output_type": "stream",
       "stream": "stdout",
       "text": [
        "\n",
        "1534"
       ]
      },
      {
       "output_type": "stream",
       "stream": "stdout",
       "text": [
        "\n",
        "1535"
       ]
      },
      {
       "output_type": "stream",
       "stream": "stdout",
       "text": [
        "\n",
        "1536"
       ]
      },
      {
       "output_type": "stream",
       "stream": "stdout",
       "text": [
        "\n",
        "1537"
       ]
      },
      {
       "output_type": "stream",
       "stream": "stdout",
       "text": [
        "\n",
        "1538"
       ]
      },
      {
       "output_type": "stream",
       "stream": "stdout",
       "text": [
        "\n",
        "1539"
       ]
      },
      {
       "output_type": "stream",
       "stream": "stdout",
       "text": [
        "\n",
        "1540"
       ]
      },
      {
       "output_type": "stream",
       "stream": "stdout",
       "text": [
        "\n",
        "1541"
       ]
      },
      {
       "output_type": "stream",
       "stream": "stdout",
       "text": [
        "\n",
        "1542"
       ]
      },
      {
       "output_type": "stream",
       "stream": "stdout",
       "text": [
        "\n",
        "1543"
       ]
      },
      {
       "output_type": "stream",
       "stream": "stdout",
       "text": [
        "\n",
        "1544"
       ]
      },
      {
       "output_type": "stream",
       "stream": "stdout",
       "text": [
        "\n",
        "1545"
       ]
      },
      {
       "output_type": "stream",
       "stream": "stdout",
       "text": [
        "\n",
        "1546"
       ]
      },
      {
       "output_type": "stream",
       "stream": "stdout",
       "text": [
        "\n",
        "1547"
       ]
      },
      {
       "output_type": "stream",
       "stream": "stdout",
       "text": [
        "\n",
        "1548"
       ]
      },
      {
       "output_type": "stream",
       "stream": "stdout",
       "text": [
        "\n",
        "1549"
       ]
      },
      {
       "output_type": "stream",
       "stream": "stdout",
       "text": [
        "\n",
        "1550"
       ]
      },
      {
       "output_type": "stream",
       "stream": "stdout",
       "text": [
        "\n",
        "1551"
       ]
      },
      {
       "output_type": "stream",
       "stream": "stdout",
       "text": [
        "\n",
        "1552"
       ]
      },
      {
       "output_type": "stream",
       "stream": "stdout",
       "text": [
        "\n",
        "1553"
       ]
      },
      {
       "output_type": "stream",
       "stream": "stdout",
       "text": [
        "\n",
        "1554"
       ]
      },
      {
       "output_type": "stream",
       "stream": "stdout",
       "text": [
        "\n",
        "1555"
       ]
      },
      {
       "output_type": "stream",
       "stream": "stdout",
       "text": [
        "\n",
        "1556"
       ]
      },
      {
       "output_type": "stream",
       "stream": "stdout",
       "text": [
        "\n",
        "1557"
       ]
      },
      {
       "output_type": "stream",
       "stream": "stdout",
       "text": [
        "\n",
        "1558"
       ]
      },
      {
       "output_type": "stream",
       "stream": "stdout",
       "text": [
        "\n",
        "1559"
       ]
      },
      {
       "output_type": "stream",
       "stream": "stdout",
       "text": [
        "\n",
        "1560"
       ]
      },
      {
       "output_type": "stream",
       "stream": "stdout",
       "text": [
        "\n",
        "1561"
       ]
      },
      {
       "output_type": "stream",
       "stream": "stdout",
       "text": [
        "\n",
        "1562"
       ]
      },
      {
       "output_type": "stream",
       "stream": "stdout",
       "text": [
        "\n",
        "1563"
       ]
      },
      {
       "output_type": "stream",
       "stream": "stdout",
       "text": [
        "\n",
        "1564"
       ]
      },
      {
       "output_type": "stream",
       "stream": "stdout",
       "text": [
        "\n",
        "1565"
       ]
      },
      {
       "output_type": "stream",
       "stream": "stdout",
       "text": [
        "\n",
        "1566"
       ]
      },
      {
       "output_type": "stream",
       "stream": "stdout",
       "text": [
        "\n",
        "1567"
       ]
      },
      {
       "output_type": "stream",
       "stream": "stdout",
       "text": [
        "\n",
        "1568"
       ]
      },
      {
       "output_type": "stream",
       "stream": "stdout",
       "text": [
        "\n",
        "1569"
       ]
      },
      {
       "output_type": "stream",
       "stream": "stdout",
       "text": [
        "\n",
        "1570"
       ]
      },
      {
       "output_type": "stream",
       "stream": "stdout",
       "text": [
        "\n",
        "1571"
       ]
      },
      {
       "output_type": "stream",
       "stream": "stdout",
       "text": [
        "\n",
        "1572"
       ]
      },
      {
       "output_type": "stream",
       "stream": "stdout",
       "text": [
        "\n",
        "1573"
       ]
      },
      {
       "output_type": "stream",
       "stream": "stdout",
       "text": [
        "\n",
        "1574"
       ]
      },
      {
       "output_type": "stream",
       "stream": "stdout",
       "text": [
        "\n",
        "1575"
       ]
      },
      {
       "output_type": "stream",
       "stream": "stdout",
       "text": [
        "\n",
        "1576"
       ]
      },
      {
       "output_type": "stream",
       "stream": "stdout",
       "text": [
        "\n",
        "1577"
       ]
      },
      {
       "output_type": "stream",
       "stream": "stdout",
       "text": [
        "\n",
        "1578"
       ]
      },
      {
       "output_type": "stream",
       "stream": "stdout",
       "text": [
        "\n",
        "1579"
       ]
      },
      {
       "output_type": "stream",
       "stream": "stdout",
       "text": [
        "\n",
        "1580"
       ]
      },
      {
       "output_type": "stream",
       "stream": "stdout",
       "text": [
        "\n",
        "1581"
       ]
      },
      {
       "output_type": "stream",
       "stream": "stdout",
       "text": [
        "\n",
        "1582"
       ]
      },
      {
       "output_type": "stream",
       "stream": "stdout",
       "text": [
        "\n",
        "1583"
       ]
      },
      {
       "output_type": "stream",
       "stream": "stdout",
       "text": [
        "\n",
        "1584"
       ]
      },
      {
       "output_type": "stream",
       "stream": "stdout",
       "text": [
        "\n",
        "1585"
       ]
      },
      {
       "output_type": "stream",
       "stream": "stdout",
       "text": [
        "\n",
        "1586"
       ]
      },
      {
       "output_type": "stream",
       "stream": "stdout",
       "text": [
        "\n",
        "1587"
       ]
      },
      {
       "output_type": "stream",
       "stream": "stdout",
       "text": [
        "\n",
        "1588"
       ]
      },
      {
       "output_type": "stream",
       "stream": "stdout",
       "text": [
        "\n",
        "1589"
       ]
      },
      {
       "output_type": "stream",
       "stream": "stdout",
       "text": [
        "\n",
        "1590"
       ]
      },
      {
       "output_type": "stream",
       "stream": "stdout",
       "text": [
        "\n",
        "1591"
       ]
      },
      {
       "output_type": "stream",
       "stream": "stdout",
       "text": [
        "\n",
        "1592"
       ]
      },
      {
       "output_type": "stream",
       "stream": "stdout",
       "text": [
        "\n",
        "1593"
       ]
      },
      {
       "output_type": "stream",
       "stream": "stdout",
       "text": [
        "\n",
        "1594"
       ]
      },
      {
       "output_type": "stream",
       "stream": "stdout",
       "text": [
        "\n",
        "1595"
       ]
      },
      {
       "output_type": "stream",
       "stream": "stdout",
       "text": [
        "\n",
        "1596"
       ]
      },
      {
       "output_type": "stream",
       "stream": "stdout",
       "text": [
        "\n",
        "1597"
       ]
      },
      {
       "output_type": "stream",
       "stream": "stdout",
       "text": [
        "\n",
        "1598"
       ]
      },
      {
       "output_type": "stream",
       "stream": "stdout",
       "text": [
        "\n",
        "1599"
       ]
      },
      {
       "output_type": "stream",
       "stream": "stdout",
       "text": [
        "\n",
        "1600"
       ]
      },
      {
       "output_type": "stream",
       "stream": "stdout",
       "text": [
        "\n",
        "1601"
       ]
      },
      {
       "output_type": "stream",
       "stream": "stdout",
       "text": [
        "\n",
        "1602"
       ]
      },
      {
       "output_type": "stream",
       "stream": "stdout",
       "text": [
        "\n",
        "1603"
       ]
      },
      {
       "output_type": "stream",
       "stream": "stdout",
       "text": [
        "\n",
        "1604"
       ]
      },
      {
       "output_type": "stream",
       "stream": "stdout",
       "text": [
        "\n",
        "1605"
       ]
      },
      {
       "output_type": "stream",
       "stream": "stdout",
       "text": [
        "\n",
        "1606"
       ]
      },
      {
       "output_type": "stream",
       "stream": "stdout",
       "text": [
        "\n",
        "1607"
       ]
      },
      {
       "output_type": "stream",
       "stream": "stdout",
       "text": [
        "\n",
        "1608"
       ]
      },
      {
       "output_type": "stream",
       "stream": "stdout",
       "text": [
        "\n",
        "1609"
       ]
      },
      {
       "output_type": "stream",
       "stream": "stdout",
       "text": [
        "\n",
        "1610"
       ]
      },
      {
       "output_type": "stream",
       "stream": "stdout",
       "text": [
        "\n",
        "1611"
       ]
      },
      {
       "output_type": "stream",
       "stream": "stdout",
       "text": [
        "\n",
        "1612"
       ]
      },
      {
       "output_type": "stream",
       "stream": "stdout",
       "text": [
        "\n",
        "1613"
       ]
      },
      {
       "output_type": "stream",
       "stream": "stdout",
       "text": [
        "\n",
        "1614"
       ]
      },
      {
       "output_type": "stream",
       "stream": "stdout",
       "text": [
        "\n",
        "1615"
       ]
      },
      {
       "output_type": "stream",
       "stream": "stdout",
       "text": [
        "\n",
        "1616"
       ]
      },
      {
       "output_type": "stream",
       "stream": "stdout",
       "text": [
        "\n",
        "1617"
       ]
      },
      {
       "output_type": "stream",
       "stream": "stdout",
       "text": [
        "\n",
        "1618"
       ]
      },
      {
       "output_type": "stream",
       "stream": "stdout",
       "text": [
        "\n",
        "1619"
       ]
      },
      {
       "output_type": "stream",
       "stream": "stdout",
       "text": [
        "\n",
        "1620"
       ]
      },
      {
       "output_type": "stream",
       "stream": "stdout",
       "text": [
        "\n",
        "1621"
       ]
      },
      {
       "output_type": "stream",
       "stream": "stdout",
       "text": [
        "\n",
        "1622"
       ]
      },
      {
       "output_type": "stream",
       "stream": "stdout",
       "text": [
        "\n",
        "1623"
       ]
      },
      {
       "output_type": "stream",
       "stream": "stdout",
       "text": [
        "\n"
       ]
      }
     ],
     "prompt_number": 8
    },
    {
     "cell_type": "code",
     "collapsed": false,
     "input": [
      "\n",
      "\n",
      "k = 256\n",
      "n_sample = k * 500\n",
      " \n",
      "# choose n_sample descriptors at random\n",
      "sample_indices = np.random.choice(features.shape[0], n_sample)\n",
      "sample = features[sample_indices]\n",
      " \n",
      "# until now sample was in uint8. Convert to float32\n",
      "sample = sample.astype('float32')\n",
      " \n",
      "# compute mean and covariance matrix for the PCA\n",
      "mean = sample.mean(axis = 0)\n",
      "sample = sample - mean\n",
      "cov = np.dot(sample.T, sample)\n",
      " \n",
      "# compute PCA matrix and keep only 64 dimensions\n",
      "eigvals, eigvecs = np.linalg.eig(cov)\n",
      "perm = eigvals.argsort()                   # sort by increasing eigenvalue\n",
      "pca_transform = eigvecs[:, perm[64:128]]   # eigenvectors for the 64 last eigenvalues\n",
      " \n",
      "# transform sample with PCA (note that numpy imposes line-vectors,\n",
      "# so we right-multiply the vectors)\n",
      "sample = np.dot(sample, pca_transform)\n",
      " \n",
      "# train GMM\n",
      "gmm = ynumpy.gmm_learn(sample, k)"
     ],
     "language": "python",
     "metadata": {},
     "outputs": [],
     "prompt_number": 11
    },
    {
     "cell_type": "code",
     "collapsed": false,
     "input": [
      "image_fvs = []\n",
      "for image_desc in daisy_features:\n",
      "   # apply the PCA to the image descriptor\n",
      "   image_desc = image_desc.astype('float32')\n",
      "   image_desc = np.dot(image_desc - mean, pca_transform)\n",
      "   # compute the Fisher vector, using only the derivative w.r.t mu\n",
      "   fv = ynumpy.fisher(gmm, image_desc, include = 'mu')\n",
      "   image_fvs.append(fv)\n",
      "\n",
      "# make one matrix with all FVs\n",
      "image_fvs = np.vstack(image_fvs)\n",
      "\n",
      "# normalizations are done on all descriptors at once\n",
      "\n",
      "# power-normalization\n",
      "image_fvs = np.sign(image_fvs) * np.abs(image_fvs) ** 0.5\n",
      "\n",
      "# L2 normalize\n",
      "norms = np.sqrt(np.sum(image_fvs ** 2, 1))\n",
      "image_fvs /= norms.reshape(-1, 1)\n",
      "\n",
      "# handle images with 0 local descriptor (100 = far away from \"normal\" images)\n",
      "image_fvs[np.isnan(image_fvs)] = 100"
     ],
     "language": "python",
     "metadata": {},
     "outputs": [],
     "prompt_number": 13
    },
    {
     "cell_type": "code",
     "collapsed": false,
     "input": [
      "#pickle.dump(daisy_features,open('daisy_features','w'))"
     ],
     "language": "python",
     "metadata": {},
     "outputs": [
      {
       "ename": "IOError",
       "evalue": "[Errno 28] No space left on device",
       "output_type": "pyerr",
       "traceback": [
        "\u001b[1;31m---------------------------------------------------------------------------\u001b[0m\n\u001b[1;31mIOError\u001b[0m                                   Traceback (most recent call last)",
        "\u001b[1;32m<ipython-input-15-348028c79b75>\u001b[0m in \u001b[0;36m<module>\u001b[1;34m()\u001b[0m\n\u001b[1;32m----> 1\u001b[1;33m \u001b[0mpickle\u001b[0m\u001b[1;33m.\u001b[0m\u001b[0mdump\u001b[0m\u001b[1;33m(\u001b[0m\u001b[0mdaisy_features\u001b[0m\u001b[1;33m,\u001b[0m\u001b[0mopen\u001b[0m\u001b[1;33m(\u001b[0m\u001b[1;34m'daisy_features'\u001b[0m\u001b[1;33m,\u001b[0m\u001b[1;34m'w'\u001b[0m\u001b[1;33m)\u001b[0m\u001b[1;33m)\u001b[0m\u001b[1;33m\u001b[0m\u001b[0m\n\u001b[0m",
        "\u001b[1;32m/home/ankit/anaconda/lib/python2.7/pickle.pyc\u001b[0m in \u001b[0;36mdump\u001b[1;34m(obj, file, protocol)\u001b[0m\n\u001b[0;32m   1368\u001b[0m \u001b[1;33m\u001b[0m\u001b[0m\n\u001b[0;32m   1369\u001b[0m \u001b[1;32mdef\u001b[0m \u001b[0mdump\u001b[0m\u001b[1;33m(\u001b[0m\u001b[0mobj\u001b[0m\u001b[1;33m,\u001b[0m \u001b[0mfile\u001b[0m\u001b[1;33m,\u001b[0m \u001b[0mprotocol\u001b[0m\u001b[1;33m=\u001b[0m\u001b[0mNone\u001b[0m\u001b[1;33m)\u001b[0m\u001b[1;33m:\u001b[0m\u001b[1;33m\u001b[0m\u001b[0m\n\u001b[1;32m-> 1370\u001b[1;33m     \u001b[0mPickler\u001b[0m\u001b[1;33m(\u001b[0m\u001b[0mfile\u001b[0m\u001b[1;33m,\u001b[0m \u001b[0mprotocol\u001b[0m\u001b[1;33m)\u001b[0m\u001b[1;33m.\u001b[0m\u001b[0mdump\u001b[0m\u001b[1;33m(\u001b[0m\u001b[0mobj\u001b[0m\u001b[1;33m)\u001b[0m\u001b[1;33m\u001b[0m\u001b[0m\n\u001b[0m\u001b[0;32m   1371\u001b[0m \u001b[1;33m\u001b[0m\u001b[0m\n\u001b[0;32m   1372\u001b[0m \u001b[1;32mdef\u001b[0m \u001b[0mdumps\u001b[0m\u001b[1;33m(\u001b[0m\u001b[0mobj\u001b[0m\u001b[1;33m,\u001b[0m \u001b[0mprotocol\u001b[0m\u001b[1;33m=\u001b[0m\u001b[0mNone\u001b[0m\u001b[1;33m)\u001b[0m\u001b[1;33m:\u001b[0m\u001b[1;33m\u001b[0m\u001b[0m\n",
        "\u001b[1;32m/home/ankit/anaconda/lib/python2.7/pickle.pyc\u001b[0m in \u001b[0;36mdump\u001b[1;34m(self, obj)\u001b[0m\n\u001b[0;32m    222\u001b[0m         \u001b[1;32mif\u001b[0m \u001b[0mself\u001b[0m\u001b[1;33m.\u001b[0m\u001b[0mproto\u001b[0m \u001b[1;33m>=\u001b[0m \u001b[1;36m2\u001b[0m\u001b[1;33m:\u001b[0m\u001b[1;33m\u001b[0m\u001b[0m\n\u001b[0;32m    223\u001b[0m             \u001b[0mself\u001b[0m\u001b[1;33m.\u001b[0m\u001b[0mwrite\u001b[0m\u001b[1;33m(\u001b[0m\u001b[0mPROTO\u001b[0m \u001b[1;33m+\u001b[0m \u001b[0mchr\u001b[0m\u001b[1;33m(\u001b[0m\u001b[0mself\u001b[0m\u001b[1;33m.\u001b[0m\u001b[0mproto\u001b[0m\u001b[1;33m)\u001b[0m\u001b[1;33m)\u001b[0m\u001b[1;33m\u001b[0m\u001b[0m\n\u001b[1;32m--> 224\u001b[1;33m         \u001b[0mself\u001b[0m\u001b[1;33m.\u001b[0m\u001b[0msave\u001b[0m\u001b[1;33m(\u001b[0m\u001b[0mobj\u001b[0m\u001b[1;33m)\u001b[0m\u001b[1;33m\u001b[0m\u001b[0m\n\u001b[0m\u001b[0;32m    225\u001b[0m         \u001b[0mself\u001b[0m\u001b[1;33m.\u001b[0m\u001b[0mwrite\u001b[0m\u001b[1;33m(\u001b[0m\u001b[0mSTOP\u001b[0m\u001b[1;33m)\u001b[0m\u001b[1;33m\u001b[0m\u001b[0m\n\u001b[0;32m    226\u001b[0m \u001b[1;33m\u001b[0m\u001b[0m\n",
        "\u001b[1;32m/home/ankit/anaconda/lib/python2.7/pickle.pyc\u001b[0m in \u001b[0;36msave\u001b[1;34m(self, obj)\u001b[0m\n\u001b[0;32m    329\u001b[0m \u001b[1;33m\u001b[0m\u001b[0m\n\u001b[0;32m    330\u001b[0m         \u001b[1;31m# Save the reduce() output and finally memoize the object\u001b[0m\u001b[1;33m\u001b[0m\u001b[1;33m\u001b[0m\u001b[0m\n\u001b[1;32m--> 331\u001b[1;33m         \u001b[0mself\u001b[0m\u001b[1;33m.\u001b[0m\u001b[0msave_reduce\u001b[0m\u001b[1;33m(\u001b[0m\u001b[0mobj\u001b[0m\u001b[1;33m=\u001b[0m\u001b[0mobj\u001b[0m\u001b[1;33m,\u001b[0m \u001b[1;33m*\u001b[0m\u001b[0mrv\u001b[0m\u001b[1;33m)\u001b[0m\u001b[1;33m\u001b[0m\u001b[0m\n\u001b[0m\u001b[0;32m    332\u001b[0m \u001b[1;33m\u001b[0m\u001b[0m\n\u001b[0;32m    333\u001b[0m     \u001b[1;32mdef\u001b[0m \u001b[0mpersistent_id\u001b[0m\u001b[1;33m(\u001b[0m\u001b[0mself\u001b[0m\u001b[1;33m,\u001b[0m \u001b[0mobj\u001b[0m\u001b[1;33m)\u001b[0m\u001b[1;33m:\u001b[0m\u001b[1;33m\u001b[0m\u001b[0m\n",
        "\u001b[1;32m/home/ankit/anaconda/lib/python2.7/pickle.pyc\u001b[0m in \u001b[0;36msave_reduce\u001b[1;34m(self, func, args, state, listitems, dictitems, obj)\u001b[0m\n\u001b[0;32m    417\u001b[0m \u001b[1;33m\u001b[0m\u001b[0m\n\u001b[0;32m    418\u001b[0m         \u001b[1;32mif\u001b[0m \u001b[0mstate\u001b[0m \u001b[1;32mis\u001b[0m \u001b[1;32mnot\u001b[0m \u001b[0mNone\u001b[0m\u001b[1;33m:\u001b[0m\u001b[1;33m\u001b[0m\u001b[0m\n\u001b[1;32m--> 419\u001b[1;33m             \u001b[0msave\u001b[0m\u001b[1;33m(\u001b[0m\u001b[0mstate\u001b[0m\u001b[1;33m)\u001b[0m\u001b[1;33m\u001b[0m\u001b[0m\n\u001b[0m\u001b[0;32m    420\u001b[0m             \u001b[0mwrite\u001b[0m\u001b[1;33m(\u001b[0m\u001b[0mBUILD\u001b[0m\u001b[1;33m)\u001b[0m\u001b[1;33m\u001b[0m\u001b[0m\n\u001b[0;32m    421\u001b[0m \u001b[1;33m\u001b[0m\u001b[0m\n",
        "\u001b[1;32m/home/ankit/anaconda/lib/python2.7/pickle.pyc\u001b[0m in \u001b[0;36msave\u001b[1;34m(self, obj)\u001b[0m\n\u001b[0;32m    284\u001b[0m         \u001b[0mf\u001b[0m \u001b[1;33m=\u001b[0m \u001b[0mself\u001b[0m\u001b[1;33m.\u001b[0m\u001b[0mdispatch\u001b[0m\u001b[1;33m.\u001b[0m\u001b[0mget\u001b[0m\u001b[1;33m(\u001b[0m\u001b[0mt\u001b[0m\u001b[1;33m)\u001b[0m\u001b[1;33m\u001b[0m\u001b[0m\n\u001b[0;32m    285\u001b[0m         \u001b[1;32mif\u001b[0m \u001b[0mf\u001b[0m\u001b[1;33m:\u001b[0m\u001b[1;33m\u001b[0m\u001b[0m\n\u001b[1;32m--> 286\u001b[1;33m             \u001b[0mf\u001b[0m\u001b[1;33m(\u001b[0m\u001b[0mself\u001b[0m\u001b[1;33m,\u001b[0m \u001b[0mobj\u001b[0m\u001b[1;33m)\u001b[0m \u001b[1;31m# Call unbound method with explicit self\u001b[0m\u001b[1;33m\u001b[0m\u001b[0m\n\u001b[0m\u001b[0;32m    287\u001b[0m             \u001b[1;32mreturn\u001b[0m\u001b[1;33m\u001b[0m\u001b[0m\n\u001b[0;32m    288\u001b[0m \u001b[1;33m\u001b[0m\u001b[0m\n",
        "\u001b[1;32m/home/ankit/anaconda/lib/python2.7/pickle.pyc\u001b[0m in \u001b[0;36msave_tuple\u001b[1;34m(self, obj)\u001b[0m\n\u001b[0;32m    560\u001b[0m         \u001b[0mwrite\u001b[0m\u001b[1;33m(\u001b[0m\u001b[0mMARK\u001b[0m\u001b[1;33m)\u001b[0m\u001b[1;33m\u001b[0m\u001b[0m\n\u001b[0;32m    561\u001b[0m         \u001b[1;32mfor\u001b[0m \u001b[0melement\u001b[0m \u001b[1;32min\u001b[0m \u001b[0mobj\u001b[0m\u001b[1;33m:\u001b[0m\u001b[1;33m\u001b[0m\u001b[0m\n\u001b[1;32m--> 562\u001b[1;33m             \u001b[0msave\u001b[0m\u001b[1;33m(\u001b[0m\u001b[0melement\u001b[0m\u001b[1;33m)\u001b[0m\u001b[1;33m\u001b[0m\u001b[0m\n\u001b[0m\u001b[0;32m    563\u001b[0m \u001b[1;33m\u001b[0m\u001b[0m\n\u001b[0;32m    564\u001b[0m         \u001b[1;32mif\u001b[0m \u001b[0mid\u001b[0m\u001b[1;33m(\u001b[0m\u001b[0mobj\u001b[0m\u001b[1;33m)\u001b[0m \u001b[1;32min\u001b[0m \u001b[0mmemo\u001b[0m\u001b[1;33m:\u001b[0m\u001b[1;33m\u001b[0m\u001b[0m\n",
        "\u001b[1;32m/home/ankit/anaconda/lib/python2.7/pickle.pyc\u001b[0m in \u001b[0;36msave\u001b[1;34m(self, obj)\u001b[0m\n\u001b[0;32m    284\u001b[0m         \u001b[0mf\u001b[0m \u001b[1;33m=\u001b[0m \u001b[0mself\u001b[0m\u001b[1;33m.\u001b[0m\u001b[0mdispatch\u001b[0m\u001b[1;33m.\u001b[0m\u001b[0mget\u001b[0m\u001b[1;33m(\u001b[0m\u001b[0mt\u001b[0m\u001b[1;33m)\u001b[0m\u001b[1;33m\u001b[0m\u001b[0m\n\u001b[0;32m    285\u001b[0m         \u001b[1;32mif\u001b[0m \u001b[0mf\u001b[0m\u001b[1;33m:\u001b[0m\u001b[1;33m\u001b[0m\u001b[0m\n\u001b[1;32m--> 286\u001b[1;33m             \u001b[0mf\u001b[0m\u001b[1;33m(\u001b[0m\u001b[0mself\u001b[0m\u001b[1;33m,\u001b[0m \u001b[0mobj\u001b[0m\u001b[1;33m)\u001b[0m \u001b[1;31m# Call unbound method with explicit self\u001b[0m\u001b[1;33m\u001b[0m\u001b[0m\n\u001b[0m\u001b[0;32m    287\u001b[0m             \u001b[1;32mreturn\u001b[0m\u001b[1;33m\u001b[0m\u001b[0m\n\u001b[0;32m    288\u001b[0m \u001b[1;33m\u001b[0m\u001b[0m\n",
        "\u001b[1;32m/home/ankit/anaconda/lib/python2.7/pickle.pyc\u001b[0m in \u001b[0;36msave_list\u001b[1;34m(self, obj)\u001b[0m\n\u001b[0;32m    598\u001b[0m \u001b[1;33m\u001b[0m\u001b[0m\n\u001b[0;32m    599\u001b[0m         \u001b[0mself\u001b[0m\u001b[1;33m.\u001b[0m\u001b[0mmemoize\u001b[0m\u001b[1;33m(\u001b[0m\u001b[0mobj\u001b[0m\u001b[1;33m)\u001b[0m\u001b[1;33m\u001b[0m\u001b[0m\n\u001b[1;32m--> 600\u001b[1;33m         \u001b[0mself\u001b[0m\u001b[1;33m.\u001b[0m\u001b[0m_batch_appends\u001b[0m\u001b[1;33m(\u001b[0m\u001b[0miter\u001b[0m\u001b[1;33m(\u001b[0m\u001b[0mobj\u001b[0m\u001b[1;33m)\u001b[0m\u001b[1;33m)\u001b[0m\u001b[1;33m\u001b[0m\u001b[0m\n\u001b[0m\u001b[0;32m    601\u001b[0m \u001b[1;33m\u001b[0m\u001b[0m\n\u001b[0;32m    602\u001b[0m     \u001b[0mdispatch\u001b[0m\u001b[1;33m[\u001b[0m\u001b[0mListType\u001b[0m\u001b[1;33m]\u001b[0m \u001b[1;33m=\u001b[0m \u001b[0msave_list\u001b[0m\u001b[1;33m\u001b[0m\u001b[0m\n",
        "\u001b[1;32m/home/ankit/anaconda/lib/python2.7/pickle.pyc\u001b[0m in \u001b[0;36m_batch_appends\u001b[1;34m(self, items)\u001b[0m\n\u001b[0;32m    613\u001b[0m         \u001b[1;32mif\u001b[0m \u001b[1;32mnot\u001b[0m \u001b[0mself\u001b[0m\u001b[1;33m.\u001b[0m\u001b[0mbin\u001b[0m\u001b[1;33m:\u001b[0m\u001b[1;33m\u001b[0m\u001b[0m\n\u001b[0;32m    614\u001b[0m             \u001b[1;32mfor\u001b[0m \u001b[0mx\u001b[0m \u001b[1;32min\u001b[0m \u001b[0mitems\u001b[0m\u001b[1;33m:\u001b[0m\u001b[1;33m\u001b[0m\u001b[0m\n\u001b[1;32m--> 615\u001b[1;33m                 \u001b[0msave\u001b[0m\u001b[1;33m(\u001b[0m\u001b[0mx\u001b[0m\u001b[1;33m)\u001b[0m\u001b[1;33m\u001b[0m\u001b[0m\n\u001b[0m\u001b[0;32m    616\u001b[0m                 \u001b[0mwrite\u001b[0m\u001b[1;33m(\u001b[0m\u001b[0mAPPEND\u001b[0m\u001b[1;33m)\u001b[0m\u001b[1;33m\u001b[0m\u001b[0m\n\u001b[0;32m    617\u001b[0m             \u001b[1;32mreturn\u001b[0m\u001b[1;33m\u001b[0m\u001b[0m\n",
        "\u001b[1;32m/home/ankit/anaconda/lib/python2.7/pickle.pyc\u001b[0m in \u001b[0;36msave\u001b[1;34m(self, obj)\u001b[0m\n\u001b[0;32m    329\u001b[0m \u001b[1;33m\u001b[0m\u001b[0m\n\u001b[0;32m    330\u001b[0m         \u001b[1;31m# Save the reduce() output and finally memoize the object\u001b[0m\u001b[1;33m\u001b[0m\u001b[1;33m\u001b[0m\u001b[0m\n\u001b[1;32m--> 331\u001b[1;33m         \u001b[0mself\u001b[0m\u001b[1;33m.\u001b[0m\u001b[0msave_reduce\u001b[0m\u001b[1;33m(\u001b[0m\u001b[0mobj\u001b[0m\u001b[1;33m=\u001b[0m\u001b[0mobj\u001b[0m\u001b[1;33m,\u001b[0m \u001b[1;33m*\u001b[0m\u001b[0mrv\u001b[0m\u001b[1;33m)\u001b[0m\u001b[1;33m\u001b[0m\u001b[0m\n\u001b[0m\u001b[0;32m    332\u001b[0m \u001b[1;33m\u001b[0m\u001b[0m\n\u001b[0;32m    333\u001b[0m     \u001b[1;32mdef\u001b[0m \u001b[0mpersistent_id\u001b[0m\u001b[1;33m(\u001b[0m\u001b[0mself\u001b[0m\u001b[1;33m,\u001b[0m \u001b[0mobj\u001b[0m\u001b[1;33m)\u001b[0m\u001b[1;33m:\u001b[0m\u001b[1;33m\u001b[0m\u001b[0m\n",
        "\u001b[1;32m/home/ankit/anaconda/lib/python2.7/pickle.pyc\u001b[0m in \u001b[0;36msave_reduce\u001b[1;34m(self, func, args, state, listitems, dictitems, obj)\u001b[0m\n\u001b[0;32m    417\u001b[0m \u001b[1;33m\u001b[0m\u001b[0m\n\u001b[0;32m    418\u001b[0m         \u001b[1;32mif\u001b[0m \u001b[0mstate\u001b[0m \u001b[1;32mis\u001b[0m \u001b[1;32mnot\u001b[0m \u001b[0mNone\u001b[0m\u001b[1;33m:\u001b[0m\u001b[1;33m\u001b[0m\u001b[0m\n\u001b[1;32m--> 419\u001b[1;33m             \u001b[0msave\u001b[0m\u001b[1;33m(\u001b[0m\u001b[0mstate\u001b[0m\u001b[1;33m)\u001b[0m\u001b[1;33m\u001b[0m\u001b[0m\n\u001b[0m\u001b[0;32m    420\u001b[0m             \u001b[0mwrite\u001b[0m\u001b[1;33m(\u001b[0m\u001b[0mBUILD\u001b[0m\u001b[1;33m)\u001b[0m\u001b[1;33m\u001b[0m\u001b[0m\n\u001b[0;32m    421\u001b[0m \u001b[1;33m\u001b[0m\u001b[0m\n",
        "\u001b[1;32m/home/ankit/anaconda/lib/python2.7/pickle.pyc\u001b[0m in \u001b[0;36msave\u001b[1;34m(self, obj)\u001b[0m\n\u001b[0;32m    284\u001b[0m         \u001b[0mf\u001b[0m \u001b[1;33m=\u001b[0m \u001b[0mself\u001b[0m\u001b[1;33m.\u001b[0m\u001b[0mdispatch\u001b[0m\u001b[1;33m.\u001b[0m\u001b[0mget\u001b[0m\u001b[1;33m(\u001b[0m\u001b[0mt\u001b[0m\u001b[1;33m)\u001b[0m\u001b[1;33m\u001b[0m\u001b[0m\n\u001b[0;32m    285\u001b[0m         \u001b[1;32mif\u001b[0m \u001b[0mf\u001b[0m\u001b[1;33m:\u001b[0m\u001b[1;33m\u001b[0m\u001b[0m\n\u001b[1;32m--> 286\u001b[1;33m             \u001b[0mf\u001b[0m\u001b[1;33m(\u001b[0m\u001b[0mself\u001b[0m\u001b[1;33m,\u001b[0m \u001b[0mobj\u001b[0m\u001b[1;33m)\u001b[0m \u001b[1;31m# Call unbound method with explicit self\u001b[0m\u001b[1;33m\u001b[0m\u001b[0m\n\u001b[0m\u001b[0;32m    287\u001b[0m             \u001b[1;32mreturn\u001b[0m\u001b[1;33m\u001b[0m\u001b[0m\n\u001b[0;32m    288\u001b[0m \u001b[1;33m\u001b[0m\u001b[0m\n",
        "\u001b[1;32m/home/ankit/anaconda/lib/python2.7/pickle.pyc\u001b[0m in \u001b[0;36msave_tuple\u001b[1;34m(self, obj)\u001b[0m\n\u001b[0;32m    560\u001b[0m         \u001b[0mwrite\u001b[0m\u001b[1;33m(\u001b[0m\u001b[0mMARK\u001b[0m\u001b[1;33m)\u001b[0m\u001b[1;33m\u001b[0m\u001b[0m\n\u001b[0;32m    561\u001b[0m         \u001b[1;32mfor\u001b[0m \u001b[0melement\u001b[0m \u001b[1;32min\u001b[0m \u001b[0mobj\u001b[0m\u001b[1;33m:\u001b[0m\u001b[1;33m\u001b[0m\u001b[0m\n\u001b[1;32m--> 562\u001b[1;33m             \u001b[0msave\u001b[0m\u001b[1;33m(\u001b[0m\u001b[0melement\u001b[0m\u001b[1;33m)\u001b[0m\u001b[1;33m\u001b[0m\u001b[0m\n\u001b[0m\u001b[0;32m    563\u001b[0m \u001b[1;33m\u001b[0m\u001b[0m\n\u001b[0;32m    564\u001b[0m         \u001b[1;32mif\u001b[0m \u001b[0mid\u001b[0m\u001b[1;33m(\u001b[0m\u001b[0mobj\u001b[0m\u001b[1;33m)\u001b[0m \u001b[1;32min\u001b[0m \u001b[0mmemo\u001b[0m\u001b[1;33m:\u001b[0m\u001b[1;33m\u001b[0m\u001b[0m\n",
        "\u001b[1;32m/home/ankit/anaconda/lib/python2.7/pickle.pyc\u001b[0m in \u001b[0;36msave\u001b[1;34m(self, obj)\u001b[0m\n\u001b[0;32m    284\u001b[0m         \u001b[0mf\u001b[0m \u001b[1;33m=\u001b[0m \u001b[0mself\u001b[0m\u001b[1;33m.\u001b[0m\u001b[0mdispatch\u001b[0m\u001b[1;33m.\u001b[0m\u001b[0mget\u001b[0m\u001b[1;33m(\u001b[0m\u001b[0mt\u001b[0m\u001b[1;33m)\u001b[0m\u001b[1;33m\u001b[0m\u001b[0m\n\u001b[0;32m    285\u001b[0m         \u001b[1;32mif\u001b[0m \u001b[0mf\u001b[0m\u001b[1;33m:\u001b[0m\u001b[1;33m\u001b[0m\u001b[0m\n\u001b[1;32m--> 286\u001b[1;33m             \u001b[0mf\u001b[0m\u001b[1;33m(\u001b[0m\u001b[0mself\u001b[0m\u001b[1;33m,\u001b[0m \u001b[0mobj\u001b[0m\u001b[1;33m)\u001b[0m \u001b[1;31m# Call unbound method with explicit self\u001b[0m\u001b[1;33m\u001b[0m\u001b[0m\n\u001b[0m\u001b[0;32m    287\u001b[0m             \u001b[1;32mreturn\u001b[0m\u001b[1;33m\u001b[0m\u001b[0m\n\u001b[0;32m    288\u001b[0m \u001b[1;33m\u001b[0m\u001b[0m\n",
        "\u001b[1;32m/home/ankit/anaconda/lib/python2.7/pickle.pyc\u001b[0m in \u001b[0;36msave_string\u001b[1;34m(self, obj, pack)\u001b[0m\n\u001b[0;32m    486\u001b[0m                 \u001b[0mself\u001b[0m\u001b[1;33m.\u001b[0m\u001b[0mwrite\u001b[0m\u001b[1;33m(\u001b[0m\u001b[0mBINSTRING\u001b[0m \u001b[1;33m+\u001b[0m \u001b[0mpack\u001b[0m\u001b[1;33m(\u001b[0m\u001b[1;34m\"<i\"\u001b[0m\u001b[1;33m,\u001b[0m \u001b[0mn\u001b[0m\u001b[1;33m)\u001b[0m \u001b[1;33m+\u001b[0m \u001b[0mobj\u001b[0m\u001b[1;33m)\u001b[0m\u001b[1;33m\u001b[0m\u001b[0m\n\u001b[0;32m    487\u001b[0m         \u001b[1;32melse\u001b[0m\u001b[1;33m:\u001b[0m\u001b[1;33m\u001b[0m\u001b[0m\n\u001b[1;32m--> 488\u001b[1;33m             \u001b[0mself\u001b[0m\u001b[1;33m.\u001b[0m\u001b[0mwrite\u001b[0m\u001b[1;33m(\u001b[0m\u001b[0mSTRING\u001b[0m \u001b[1;33m+\u001b[0m \u001b[0mrepr\u001b[0m\u001b[1;33m(\u001b[0m\u001b[0mobj\u001b[0m\u001b[1;33m)\u001b[0m \u001b[1;33m+\u001b[0m \u001b[1;34m'\\n'\u001b[0m\u001b[1;33m)\u001b[0m\u001b[1;33m\u001b[0m\u001b[0m\n\u001b[0m\u001b[0;32m    489\u001b[0m         \u001b[0mself\u001b[0m\u001b[1;33m.\u001b[0m\u001b[0mmemoize\u001b[0m\u001b[1;33m(\u001b[0m\u001b[0mobj\u001b[0m\u001b[1;33m)\u001b[0m\u001b[1;33m\u001b[0m\u001b[0m\n\u001b[0;32m    490\u001b[0m     \u001b[0mdispatch\u001b[0m\u001b[1;33m[\u001b[0m\u001b[0mStringType\u001b[0m\u001b[1;33m]\u001b[0m \u001b[1;33m=\u001b[0m \u001b[0msave_string\u001b[0m\u001b[1;33m\u001b[0m\u001b[0m\n",
        "\u001b[1;31mIOError\u001b[0m: [Errno 28] No space left on device"
       ]
      }
     ],
     "prompt_number": 15
    },
    {
     "cell_type": "code",
     "collapsed": false,
     "input": [
      "mx = 0\n",
      "for x in lbp_features:\n",
      "    print x.shape\n",
      "    v = np.max(x)\n",
      "    if v > mx:\n",
      "        mx = v\n",
      "print mx"
     ],
     "language": "python",
     "metadata": {},
     "outputs": [
      {
       "output_type": "stream",
       "stream": "stdout",
       "text": [
        "(129, 129)\n",
        "(90, 90)\n",
        "(125, 125)\n",
        "(108, 108)\n",
        "(90, 90)\n",
        "(108, 108)\n",
        "(108, 108)\n",
        "(108, 108)\n",
        "(90, 90)\n",
        "(108, 108)\n",
        "(90, 90)\n",
        "(108, 108)\n",
        "(90, 90)\n",
        "(108, 108)\n",
        "(108, 108)\n",
        "(108, 108)\n",
        "(108, 108)\n",
        "(90, 90)\n",
        "(90, 90)\n",
        "(90, 90)\n",
        "(108, 107)\n",
        "(90, 90)\n",
        "(108, 108)\n",
        "(108, 108)\n",
        "(90, 90)\n",
        "(108, 108)\n",
        "(108, 108)\n",
        "(90, 90)\n",
        "(108, 108)\n",
        "(90, 90)\n",
        "(108, 108)\n",
        "(108, 108)\n",
        "(90, 90)\n",
        "(90, 90)\n",
        "(90, 90)\n",
        "(90, 90)\n",
        "(90, 90)\n",
        "(108, 108)\n",
        "(108, 108)\n",
        "(108, 108)\n",
        "(108, 108)\n",
        "(129, 129)\n",
        "(108, 108)\n",
        "(108, 108)\n",
        "(108, 108)\n",
        "(90, 90)\n",
        "(108, 108)\n",
        "(108, 108)\n",
        "(108, 108)\n",
        "(108, 108)\n",
        "(108, 108)\n",
        "(108, 108)\n",
        "(108, 108)\n",
        "(108, 108)\n",
        "(108, 108)\n",
        "(108, 108)\n",
        "(108, 108)\n",
        "(90, 90)\n",
        "(90, 90)\n",
        "(108, 108)\n",
        "(108, 108)\n",
        "(108, 108)\n",
        "(108, 108)\n",
        "(90, 90)\n",
        "(129, 129)\n",
        "(108, 108)\n",
        "(108, 108)\n",
        "(90, 90)\n",
        "(90, 90)\n",
        "(108, 108)\n",
        "(108, 108)\n",
        "(108, 108)\n",
        "(90, 90)\n",
        "(75, 75)\n",
        "(90, 90)\n",
        "(108, 108)\n",
        "(108, 108)\n",
        "(90, 90)\n",
        "(108, 108)\n",
        "(90, 90)\n",
        "(108, 108)\n",
        "(108, 108)\n",
        "(108, 108)\n",
        "(129, 129)\n",
        "(108, 108)\n",
        "(90, 90)\n",
        "(108, 108)\n",
        "(90, 90)\n",
        "(108, 108)\n",
        "(108, 108)\n",
        "(108, 108)\n",
        "(108, 108)\n",
        "(90, 90)\n",
        "(108, 108)\n",
        "(90, 90)\n",
        "(108, 108)\n",
        "(108, 108)\n",
        "(90, 90)\n",
        "(90, 90)\n",
        "(90, 90)\n",
        "(108, 108)\n",
        "(108, 108)\n",
        "(108, 108)\n",
        "(108, 108)\n",
        "(90, 90)\n",
        "(108, 108)\n",
        "(90, 90)\n",
        "(108, 108)\n",
        "(90, 90)\n",
        "(90, 90)\n",
        "(108, 108)\n",
        "(108, 108)\n",
        "(90, 90)\n",
        "(108, 108)\n",
        "(90, 90)\n",
        "(90, 90)\n",
        "(90, 90)\n",
        "(108, 108)\n",
        "(108, 108)\n",
        "(108, 108)\n",
        "(90, 90)\n",
        "(108, 108)\n",
        "(90, 90)\n",
        "(108, 108)\n",
        "(129, 129)\n",
        "(108, 108)\n",
        "(108, 108)\n",
        "(108, 108)\n",
        "(108, 108)\n",
        "(108, 108)\n",
        "(108, 108)\n",
        "(90, 90)\n",
        "(108, 108)\n",
        "(108, 108)\n",
        "(90, 90)\n",
        "(90, 90)\n",
        "(108, 108)\n",
        "(108, 108)\n",
        "(108, 108)\n",
        "(108, 108)\n",
        "(108, 108)\n",
        "(108, 108)\n",
        "(108, 108)\n",
        "(108, 108)\n",
        "(108, 108)\n",
        "(108, 108)\n",
        "(108, 108)\n",
        "(90, 90)\n",
        "(108, 108)\n",
        "(108, 108)\n",
        "(108, 108)\n",
        "(108, 108)\n",
        "(108, 108)\n",
        "(90, 90)\n",
        "(108, 108)\n",
        "(108, 108)\n",
        "(108, 108)\n",
        "(90, 90)\n",
        "(108, 108)\n",
        "(108, 108)\n",
        "(108, 108)\n",
        "(90, 90)\n",
        "(129, 129)\n",
        "(108, 108)\n",
        "(108, 108)\n",
        "(108, 108)\n",
        "(108, 108)\n",
        "(108, 108)\n",
        "(108, 108)\n",
        "(108, 108)\n",
        "(108, 108)\n",
        "(108, 108)\n",
        "(108, 108)\n",
        "(108, 108)\n",
        "(108, 108)\n",
        "(108, 108)\n",
        "(129, 129)\n",
        "(90, 90)\n",
        "(108, 108)\n",
        "(90, 90)\n",
        "(108, 108)\n",
        "(108, 108)\n",
        "(108, 108)\n",
        "(108, 108)\n",
        "(108, 108)\n",
        "(108, 108)\n",
        "(108, 108)\n",
        "(108, 108)\n",
        "(129, 129)\n",
        "(108, 108)\n",
        "(90, 90)\n",
        "(129, 129)\n",
        "(108, 108)\n",
        "(90, 90)\n",
        "(90, 90)\n",
        "(90, 90)\n",
        "(90, 90)\n",
        "(90, 90)\n",
        "(90, 90)\n",
        "(108, 108)\n",
        "(108, 108)\n",
        "(108, 108)\n",
        "(108, 108)\n",
        "(74, 75)\n",
        "(108, 108)\n",
        "(108, 108)\n",
        "(108, 108)\n",
        "(90, 90)\n",
        "(108, 108)\n",
        "(108, 108)\n",
        "(90, 90)\n",
        "(108, 108)\n",
        "(108, 108)\n",
        "(108, 108)\n",
        "(108, 108)\n",
        "(108, 108)\n",
        "(90, 90)\n",
        "(90, 90)\n",
        "(108, 108)\n",
        "(108, 108)\n",
        "(108, 108)\n",
        "(90, 90)\n",
        "(108, 108)\n",
        "(108, 108)\n",
        "(108, 108)\n",
        "(108, 108)\n",
        "(108, 108)\n",
        "(90, 90)\n",
        "(108, 108)\n",
        "(90, 90)\n",
        "(108, 108)\n",
        "(90, 90)\n",
        "(108, 108)\n",
        "(108, 108)\n",
        "(108, 108)\n",
        "(108, 108)\n",
        "(108, 108)\n",
        "(108, 108)\n",
        "(90, 90)\n",
        "(108, 108)\n",
        "(108, 108)\n",
        "(108, 108)\n",
        "(108, 108)\n",
        "(90, 90)\n",
        "(74, 75)\n",
        "(108, 108)\n",
        "(108, 108)\n",
        "(108, 108)\n",
        "(90, 90)\n",
        "(108, 108)\n",
        "(90, 90)\n",
        "(108, 108)\n",
        "(108, 108)\n",
        "(90, 90)\n",
        "(90, 90)\n",
        "(108, 108)\n",
        "(90, 90)\n",
        "(108, 108)\n",
        "(129, 129)\n",
        "(108, 108)\n",
        "(108, 108)\n",
        "(108, 108)\n",
        "(129, 129)\n",
        "(108, 108)\n",
        "(108, 108)\n",
        "(108, 108)\n",
        "(90, 90)\n",
        "(108, 108)\n",
        "(108, 108)\n",
        "(129, 129)\n",
        "(108, 108)\n",
        "(108, 108)\n",
        "(108, 108)\n",
        "(129, 129)\n",
        "(90, 90)\n",
        "(90, 90)\n",
        "(108, 108)\n",
        "(108, 108)\n",
        "(108, 108)\n",
        "(108, 108)\n",
        "(108, 108)\n",
        "(108, 108)\n",
        "(90, 90)\n",
        "(108, 108)\n",
        "(108, 108)\n",
        "(108, 108)\n",
        "(108, 108)\n",
        "(90, 90)\n",
        "(108, 108)\n",
        "(108, 108)\n",
        "(90, 90)\n",
        "(108, 108)\n",
        "(108, 108)\n",
        "(90, 90)\n",
        "(90, 90)\n",
        "(108, 108)\n",
        "(108, 108)\n",
        "(108, 108)\n",
        "(90, 90)\n",
        "(108, 108)\n",
        "(90, 90)\n",
        "(108, 108)\n",
        "(108, 108)\n",
        "(108, 108)\n",
        "(108, 108)\n",
        "(129, 129)\n",
        "(108, 108)\n",
        "(90, 90)\n",
        "(90, 90)\n",
        "(90, 90)\n",
        "(129, 129)\n",
        "(108, 108)\n",
        "(108, 108)\n",
        "(108, 108)\n",
        "(90, 90)\n",
        "(90, 90)\n",
        "(108, 108)\n",
        "(108, 108)\n",
        "(108, 108)\n",
        "(90, 90)\n",
        "(108, 108)\n",
        "(108, 108)\n",
        "(108, 108)\n",
        "(90, 90)\n",
        "(90, 90)\n",
        "(90, 90)\n",
        "(108, 108)\n",
        "(108, 108)\n",
        "(108, 108)\n",
        "(108, 108)\n",
        "(108, 108)\n",
        "(108, 108)\n",
        "(108, 108)\n",
        "(108, 108)\n",
        "(108, 108)\n",
        "(90, 90)\n",
        "(108, 108)\n",
        "(108, 108)\n",
        "(108, 108)\n",
        "(108, 108)\n",
        "(90, 90)\n",
        "(108, 108)\n",
        "(129, 129)\n",
        "(108, 108)\n",
        "(90, 90)\n",
        "(108, 108)\n",
        "(108, 108)\n",
        "(108, 108)\n",
        "(108, 108)\n",
        "(108, 108)\n",
        "(90, 90)\n",
        "(108, 108)\n",
        "(129, 129)\n",
        "(108, 108)\n",
        "(154, 155)\n",
        "(90, 90)\n",
        "(108, 108)\n",
        "(108, 108)\n",
        "(108, 108)\n",
        "(108, 108)\n",
        "(108, 108)\n",
        "(108, 108)\n",
        "(108, 108)\n",
        "(90, 90)\n",
        "(108, 108)\n",
        "(108, 108)\n",
        "(108, 108)\n",
        "(90, 90)\n",
        "(108, 108)\n",
        "(90, 90)\n",
        "(90, 90)\n",
        "(108, 108)\n",
        "(108, 108)\n",
        "(90, 90)\n",
        "(108, 108)\n",
        "(108, 108)\n",
        "(108, 108)\n",
        "(108, 108)\n",
        "(90, 90)\n",
        "(108, 108)\n",
        "(125, 125)\n",
        "(108, 108)\n",
        "(108, 108)\n",
        "(108, 108)\n",
        "(108, 108)\n",
        "(108, 108)\n",
        "(108, 108)\n",
        "(108, 108)\n",
        "(108, 108)\n",
        "(108, 108)\n",
        "(108, 108)\n",
        "(90, 90)\n",
        "(90, 90)\n",
        "(108, 108)\n",
        "(108, 108)\n",
        "(90, 90)\n",
        "(108, 108)\n",
        "(108, 108)\n",
        "(108, 108)\n",
        "(108, 108)\n",
        "(90, 90)\n",
        "(108, 108)\n",
        "(108, 108)\n",
        "(108, 108)\n",
        "(108, 108)\n",
        "(108, 108)\n",
        "(108, 108)\n",
        "(129, 129)\n",
        "(108, 108)\n",
        "(108, 108)\n",
        "(108, 108)\n",
        "(108, 108)\n",
        "(108, 108)\n",
        "(108, 108)\n",
        "(108, 108)\n",
        "(108, 108)\n",
        "(108, 108)\n",
        "(108, 108)\n",
        "(108, 108)\n",
        "(108, 108)\n",
        "(108, 108)\n",
        "(90, 90)\n",
        "(90, 90)\n",
        "(108, 108)\n",
        "(108, 108)\n",
        "(90, 90)\n",
        "(108, 108)\n",
        "(108, 108)\n",
        "(108, 108)\n",
        "(108, 108)\n",
        "(90, 90)\n",
        "(108, 108)\n",
        "(108, 108)\n",
        "(108, 108)\n",
        "(108, 108)\n",
        "(108, 108)\n",
        "(129, 129)\n",
        "(108, 108)\n",
        "(108, 108)\n",
        "(108, 108)\n",
        "(108, 108)\n",
        "(108, 108)\n",
        "(108, 108)\n",
        "(108, 108)\n",
        "(90, 90)\n",
        "(90, 90)\n",
        "(108, 108)\n",
        "(108, 108)\n",
        "(108, 108)\n",
        "(108, 108)\n",
        "(90, 90)\n",
        "(108, 108)\n",
        "(108, 108)\n",
        "(108, 108)\n",
        "(108, 108)\n",
        "(108, 108)\n",
        "(108, 108)\n",
        "(108, 108)\n",
        "(108, 108)\n",
        "(108, 108)\n",
        "(108, 108)\n",
        "(108, 108)\n",
        "(90, 90)\n",
        "(108, 102)\n",
        "(129, 129)\n",
        "(108, 108)\n",
        "(108, 108)\n",
        "(108, 108)\n",
        "(108, 108)\n",
        "(108, 108)\n",
        "(108, 108)\n",
        "(90, 90)\n",
        "(108, 108)\n",
        "(129, 129)\n",
        "(108, 108)\n",
        "(108, 108)\n",
        "(108, 108)\n",
        "(108, 108)\n",
        "(108, 108)\n",
        "(108, 108)\n",
        "(108, 108)\n",
        "(108, 108)\n",
        "(129, 129)\n",
        "(90, 90)\n",
        "(108, 108)\n",
        "(90, 90)\n",
        "(108, 108)\n",
        "(108, 108)\n",
        "(90, 90)\n",
        "(108, 108)\n",
        "(108, 108)\n",
        "(108, 108)\n",
        "(90, 90)\n",
        "(108, 108)\n",
        "(108, 108)\n",
        "(108, 108)\n",
        "(108, 108)\n",
        "(108, 108)\n",
        "(108, 108)\n",
        "(108, 108)\n",
        "(90, 90)\n",
        "(108, 108)\n",
        "(108, 108)\n",
        "(108, 108)\n",
        "(90, 90)\n",
        "(108, 108)\n",
        "(108, 108)\n",
        "(129, 129)\n",
        "(108, 108)\n",
        "(108, 108)\n",
        "(108, 108)\n",
        "(90, 90)\n",
        "(108, 108)\n",
        "(108, 108)\n",
        "(108, 108)\n",
        "(90, 90)\n",
        "(90, 90)\n",
        "(90, 90)\n",
        "(90, 90)\n",
        "(108, 108)\n",
        "(90, 90)\n",
        "(108, 108)\n",
        "(108, 108)\n",
        "(90, 90)\n",
        "(90, 90)\n",
        "(108, 108)\n",
        "(108, 108)\n",
        "(108, 108)\n",
        "(108, 108)\n",
        "(108, 108)\n",
        "(90, 90)\n",
        "(89, 85)\n",
        "(108, 108)\n",
        "(108, 108)\n",
        "(125, 125)\n",
        "(90, 90)\n",
        "(90, 90)\n",
        "(108, 108)\n",
        "(108, 108)\n",
        "(90, 90)\n",
        "(90, 90)\n",
        "(90, 90)\n",
        "(108, 108)\n",
        "(108, 108)\n",
        "(90, 90)\n",
        "(108, 108)\n",
        "(108, 108)\n",
        "(90, 90)\n",
        "(108, 108)\n",
        "(108, 108)\n",
        "(108, 108)\n",
        "(108, 108)\n",
        "(108, 108)\n",
        "(108, 108)\n",
        "(90, 90)\n",
        "(108, 108)\n",
        "(108, 108)\n",
        "(108, 108)\n",
        "(108, 108)\n",
        "(90, 90)\n",
        "(108, 108)\n",
        "(108, 108)\n",
        "(108, 108)\n",
        "(108, 108)\n",
        "(108, 108)\n",
        "(108, 108)\n",
        "(108, 108)\n",
        "(108, 108)\n",
        "(90, 90)\n",
        "(90, 90)\n",
        "(108, 108)\n",
        "(108, 108)\n",
        "(108, 108)\n",
        "(108, 108)\n",
        "(90, 90)\n",
        "(108, 108)\n",
        "(108, 108)\n",
        "(108, 108)\n",
        "(108, 108)\n",
        "(108, 108)\n",
        "(108, 108)\n",
        "(108, 108)\n",
        "(108, 108)\n",
        "(108, 108)\n",
        "(108, 108)\n",
        "(108, 108)\n",
        "(108, 108)\n",
        "(90, 90)\n",
        "(108, 108)\n",
        "(108, 108)\n",
        "(108, 108)\n",
        "(90, 90)\n",
        "(108, 108)\n",
        "(108, 108)\n",
        "(108, 108)\n",
        "(108, 108)\n",
        "(108, 108)\n",
        "(108, 108)\n",
        "(108, 108)\n",
        "(129, 129)\n",
        "(129, 129)\n",
        "(108, 108)\n",
        "(108, 108)\n",
        "(108, 108)\n",
        "(108, 108)\n",
        "(108, 108)\n",
        "(129, 129)\n",
        "(108, 108)\n",
        "(108, 108)\n",
        "(90, 90)\n",
        "(108, 108)\n",
        "(108, 108)\n",
        "(108, 108)\n",
        "(129, 129)\n",
        "(90, 90)\n",
        "(108, 108)\n",
        "(108, 108)\n",
        "(108, 108)\n",
        "(108, 108)\n",
        "(108, 108)\n",
        "(108, 108)\n",
        "(108, 108)\n",
        "(108, 108)\n",
        "(108, 108)\n",
        "(108, 108)\n",
        "(108, 108)\n",
        "(108, 108)\n",
        "(90, 90)\n",
        "(108, 108)\n",
        "(108, 108)\n",
        "(90, 90)\n",
        "(108, 108)\n",
        "(90, 85)\n",
        "(108, 108)\n",
        "(108, 108)\n",
        "(90, 90)\n",
        "(108, 108)\n",
        "(108, 108)\n",
        "(108, 108)\n",
        "(108, 108)\n",
        "(108, 108)\n",
        "(90, 90)\n",
        "(129, 129)\n",
        "(108, 108)\n",
        "(90, 90)\n",
        "(108, 108)\n",
        "(108, 108)\n",
        "(108, 108)\n",
        "(108, 108)\n",
        "(129, 129)\n",
        "(108, 108)\n",
        "(108, 108)\n",
        "(129, 129)\n",
        "(108, 108)\n",
        "(108, 108)\n",
        "(90, 90)\n",
        "(129, 129)\n",
        "(129, 129)\n",
        "(108, 108)\n",
        "(108, 108)\n",
        "(108, 108)\n",
        "(129, 129)\n",
        "(129, 129)\n",
        "(129, 129)\n",
        "(90, 90)\n",
        "(108, 108)\n",
        "(90, 90)\n",
        "(108, 108)\n",
        "(108, 108)\n",
        "(108, 108)\n",
        "(108, 108)\n",
        "(108, 108)\n",
        "(108, 108)\n",
        "(108, 108)\n",
        "(108, 108)\n",
        "(90, 90)\n",
        "(108, 108)\n",
        "(108, 108)\n",
        "(108, 108)\n",
        "(108, 108)\n",
        "(108, 108)\n",
        "(108, 108)\n",
        "(108, 108)\n",
        "(108, 108)\n",
        "(108, 108)\n",
        "(90, 90)\n",
        "(90, 90)\n",
        "(108, 108)\n",
        "(108, 108)\n",
        "(90, 90)\n",
        "(90, 90)\n",
        "(108, 108)\n",
        "(90, 90)\n",
        "(90, 90)\n",
        "(108, 108)\n",
        "(90, 90)\n",
        "(90, 90)\n",
        "(108, 108)\n",
        "(108, 108)\n",
        "(108, 108)\n",
        "(90, 90)\n",
        "(90, 90)\n",
        "(108, 108)\n",
        "(108, 108)\n",
        "(129, 129)\n",
        "(90, 90)\n",
        "(90, 90)\n",
        "(108, 108)\n",
        "(108, 108)\n",
        "(108, 108)\n",
        "(90, 90)\n",
        "(108, 108)\n",
        "(108, 108)\n",
        "(129, 129)\n",
        "(90, 90)\n",
        "(108, 108)\n",
        "(108, 108)\n",
        "(108, 108)\n",
        "(108, 108)\n",
        "(90, 90)\n",
        "(90, 90)\n",
        "(108, 108)\n",
        "(108, 108)\n",
        "(90, 90)\n",
        "(108, 108)\n",
        "(108, 108)\n",
        "(108, 108)\n",
        "(108, 108)\n",
        "(154, 155)\n",
        "(108, 108)\n",
        "(108, 108)\n",
        "(108, 108)\n",
        "(108, 108)\n",
        "(108, 108)\n",
        "(108, 108)\n",
        "(129, 129)\n",
        "(90, 90)\n",
        "(108, 108)\n",
        "(90, 90)\n",
        "(90, 90)\n",
        "(108, 108)\n",
        "(108, 108)\n",
        "(90, 90)\n",
        "(90, 90)\n",
        "(108, 108)\n",
        "(108, 108)\n",
        "(108, 108)\n",
        "(108, 108)\n",
        "(108, 108)\n",
        "(108, 108)\n",
        "(90, 90)\n",
        "(90, 90)\n",
        "(108, 108)\n",
        "(108, 108)\n",
        "(108, 108)\n",
        "(108, 108)\n",
        "(108, 108)\n",
        "(108, 108)\n",
        "(108, 108)\n",
        "(90, 90)\n",
        "(108, 108)\n",
        "(108, 108)\n",
        "(108, 108)\n",
        "(129, 129)\n",
        "(90, 90)\n",
        "(108, 108)\n",
        "(90, 90)\n",
        "(108, 108)\n",
        "(108, 108)\n",
        "(108, 108)\n",
        "(90, 90)\n",
        "(108, 108)\n",
        "(129, 129)\n",
        "(154, 155)\n",
        "(108, 108)\n",
        "(90, 90)\n",
        "(108, 108)\n",
        "(108, 108)\n",
        "(108, 108)\n",
        "(90, 90)\n",
        "(74, 75)\n",
        "(90, 90)\n",
        "(108, 108)\n",
        "(108, 108)\n",
        "(90, 90)\n",
        "(108, 108)\n",
        "(108, 108)\n",
        "(108, 108)\n",
        "(108, 108)\n",
        "(108, 108)\n",
        "(108, 108)\n",
        "(108, 108)\n",
        "(108, 108)\n",
        "(108, 108)\n",
        "(108, 108)\n",
        "(108, 108)\n",
        "(108, 108)\n",
        "(108, 108)\n",
        "(108, 108)\n",
        "(90, 90)\n",
        "(108, 108)\n",
        "(90, 90)\n",
        "(108, 108)\n",
        "(108, 108)\n",
        "(90, 90)\n",
        "(108, 108)\n",
        "(90, 90)\n",
        "(108, 108)\n",
        "(108, 108)\n",
        "(108, 108)\n",
        "(108, 108)\n",
        "(108, 108)\n",
        "(108, 108)\n",
        "(108, 108)\n",
        "(90, 90)\n",
        "(90, 90)\n",
        "(108, 108)\n",
        "(108, 108)\n",
        "(108, 108)\n",
        "(108, 108)\n",
        "(129, 129)\n",
        "(108, 108)\n",
        "(108, 108)\n",
        "(108, 108)\n",
        "(90, 90)\n",
        "(108, 108)\n",
        "(108, 108)\n",
        "(108, 108)\n",
        "(108, 108)\n",
        "(90, 90)\n",
        "(108, 108)\n",
        "(108, 108)\n",
        "(108, 108)\n",
        "(108, 108)\n",
        "(108, 108)\n",
        "(90, 90)\n",
        "(108, 108)\n",
        "(108, 108)\n",
        "(90, 90)\n",
        "(90, 90)\n",
        "(129, 129)\n",
        "(108, 108)\n",
        "(108, 108)\n",
        "(108, 108)\n",
        "(108, 108)\n",
        "(108, 108)\n",
        "(108, 108)\n",
        "(108, 108)\n",
        "(108, 108)\n",
        "(108, 108)\n",
        "(108, 108)\n",
        "(108, 108)\n",
        "(90, 90)\n",
        "(108, 108)\n",
        "(90, 90)\n",
        "(108, 108)\n",
        "(90, 90)\n",
        "(108, 108)\n",
        "(108, 108)\n",
        "(108, 108)\n",
        "(108, 108)\n",
        "(90, 90)\n",
        "(108, 108)\n",
        "(75, 75)\n",
        "(90, 90)\n",
        "(108, 108)\n",
        "(108, 108)\n",
        "(155, 155)\n",
        "(90, 85)\n",
        "(108, 108)\n",
        "(90, 90)\n",
        "(108, 108)\n",
        "(108, 108)\n",
        "(90, 90)\n",
        "(129, 129)\n",
        "(108, 108)\n",
        "(108, 108)\n",
        "(108, 108)\n",
        "(108, 108)\n",
        "(108, 108)\n",
        "(108, 108)\n",
        "(108, 108)\n",
        "(108, 108)\n",
        "(108, 108)\n",
        "(108, 108)\n",
        "(108, 108)\n",
        "(90, 90)\n",
        "(129, 129)\n",
        "(108, 108)\n",
        "(90, 90)\n",
        "(108, 108)\n",
        "(108, 108)\n",
        "(108, 108)\n",
        "(108, 108)\n",
        "(108, 108)\n",
        "(108, 108)\n",
        "(108, 108)\n",
        "(90, 90)\n",
        "(108, 108)\n",
        "(108, 108)\n",
        "(155, 155)\n",
        "(108, 108)\n",
        "(108, 108)\n",
        "(108, 108)\n",
        "(129, 129)\n",
        "(108, 108)\n",
        "(108, 108)\n",
        "(108, 108)\n",
        "(108, 108)\n",
        "(108, 108)\n",
        "(90, 90)\n",
        "(90, 90)\n",
        "(108, 108)\n",
        "(90, 90)\n",
        "(108, 108)\n",
        "(90, 90)\n",
        "(90, 90)\n",
        "(108, 108)\n",
        "(108, 108)\n",
        "(108, 108)\n",
        "(108, 108)\n",
        "(108, 108)\n",
        "(90, 90)\n",
        "(108, 108)\n",
        "(90, 90)\n",
        "(108, 108)\n",
        "(90, 90)\n",
        "(108, 108)\n",
        "(108, 108)\n",
        "(108, 108)\n",
        "(102, 102)\n",
        "(108, 108)\n",
        "(108, 108)\n",
        "(108, 108)\n",
        "(108, 108)\n",
        "(108, 100)\n",
        "(108, 108)\n",
        "(108, 108)\n",
        "(90, 90)\n",
        "(108, 108)\n",
        "(108, 108)\n",
        "(108, 108)\n",
        "(90, 90)\n",
        "(90, 90)\n",
        "(90, 90)\n",
        "(108, 108)\n",
        "(90, 90)\n",
        "(108, 108)\n",
        "(108, 108)\n",
        "(108, 108)\n",
        "(90, 90)\n",
        "(108, 108)\n",
        "(108, 108)\n",
        "(108, 108)\n",
        "(129, 129)\n",
        "(108, 108)\n",
        "(108, 108)\n",
        "(108, 108)\n",
        "(129, 129)\n",
        "(108, 108)\n",
        "(108, 108)\n",
        "(108, 108)\n",
        "(90, 90)\n",
        "(129, 129)\n",
        "(108, 108)\n",
        "(90, 90)\n",
        "(108, 108)\n",
        "(90, 90)\n",
        "(108, 108)\n",
        "(108, 108)\n",
        "(108, 108)\n",
        "(108, 108)\n",
        "(75, 75)\n",
        "(129, 129)\n",
        "(108, 108)\n",
        "(108, 108)\n",
        "(108, 108)\n",
        "(108, 108)\n",
        "(108, 108)\n",
        "(129, 129)\n",
        "(108, 108)\n",
        "(108, 108)\n",
        "(108, 108)\n",
        "(108, 108)\n",
        "(108, 108)\n",
        "(108, 108)\n",
        "(108, 108)\n",
        "(108, 108)\n",
        "(108, 108)\n",
        "(108, 108)\n",
        "(108, 108)\n",
        "(129, 129)\n",
        "(108, 108)\n",
        "(108, 108)\n",
        "(108, 108)\n",
        "(108, 108)\n",
        "(108, 108)\n",
        "(129, 129)\n",
        "(108, 108)\n",
        "(108, 108)\n",
        "(108, 108)\n",
        "(108, 108)\n",
        "(129, 129)\n",
        "(108, 108)\n",
        "(108, 108)\n",
        "(108, 108)\n",
        "(108, 108)\n",
        "(108, 108)\n",
        "(108, 108)\n",
        "(90, 90)\n",
        "(90, 90)\n",
        "(108, 108)\n",
        "(90, 90)\n",
        "(108, 108)\n",
        "(90, 90)\n",
        "(108, 108)\n",
        "(108, 108)\n",
        "(108, 108)\n",
        "(108, 108)\n",
        "(108, 108)\n",
        "(90, 90)\n",
        "(90, 90)\n",
        "(108, 108)\n",
        "(90, 90)\n",
        "(108, 108)\n",
        "(108, 108)\n",
        "(90, 90)\n",
        "(108, 108)\n",
        "(108, 108)\n",
        "(90, 90)\n",
        "(108, 108)\n",
        "(129, 129)\n",
        "(108, 108)\n",
        "(108, 108)\n",
        "(90, 90)\n",
        "(108, 108)\n",
        "(74, 75)\n",
        "(108, 108)\n",
        "(129, 129)\n",
        "(108, 108)\n",
        "(90, 90)\n",
        "(108, 108)\n",
        "(108, 108)\n",
        "(108, 108)\n",
        "(108, 108)\n",
        "(108, 108)\n",
        "(108, 108)\n",
        "(90, 90)\n",
        "(108, 108)\n",
        "(108, 108)\n",
        "(90, 90)\n",
        "(108, 108)\n",
        "(108, 108)\n",
        "(129, 129)\n",
        "(90, 90)\n",
        "(90, 90)\n",
        "(108, 108)\n",
        "(108, 108)\n",
        "(108, 108)\n",
        "(90, 90)\n",
        "(90, 90)\n",
        "(108, 108)\n",
        "(108, 108)\n",
        "(108, 108)\n",
        "(90, 90)\n",
        "(90, 90)\n",
        "(108, 108)\n",
        "(108, 108)\n",
        "(90, 90)\n",
        "(108, 108)\n",
        "(108, 108)\n",
        "(108, 108)\n",
        "(108, 108)\n",
        "(90, 90)\n",
        "(108, 108)\n",
        "(90, 90)\n",
        "(108, 108)\n",
        "(108, 108)\n",
        "(74, 75)\n",
        "(108, 108)\n",
        "(108, 108)\n",
        "(108, 108)\n",
        "(90, 90)\n",
        "(108, 108)\n",
        "(90, 90)\n",
        "(108, 108)\n",
        "(108, 108)\n",
        "(108, 108)\n",
        "(90, 90)\n",
        "(108, 108)\n",
        "(129, 129)\n",
        "(129, 129)\n",
        "(108, 108)\n",
        "(108, 108)\n",
        "(108, 108)\n",
        "(108, 108)\n",
        "(108, 108)\n",
        "(108, 108)\n",
        "(108, 108)\n",
        "(108, 108)\n",
        "(108, 108)\n",
        "(90, 90)"
       ]
      },
      {
       "output_type": "stream",
       "stream": "stdout",
       "text": [
        "\n",
        "(108, 108)\n",
        "(108, 108)\n",
        "(108, 108)\n",
        "(108, 108)\n",
        "(108, 108)\n",
        "(90, 90)\n",
        "(108, 108)\n",
        "(108, 108)\n",
        "(108, 108)\n",
        "(108, 108)\n",
        "(129, 129)\n",
        "(108, 108)\n",
        "(108, 108)\n",
        "(108, 108)\n",
        "(108, 108)\n",
        "(108, 108)\n",
        "(90, 90)\n",
        "(108, 108)\n",
        "(108, 108)\n",
        "(108, 108)\n",
        "(108, 108)\n",
        "(108, 108)\n",
        "(90, 90)\n",
        "(90, 90)\n",
        "(90, 90)\n",
        "(90, 90)\n",
        "(108, 108)\n",
        "(90, 90)\n",
        "(108, 108)\n",
        "(108, 108)\n",
        "(108, 108)\n",
        "(108, 108)\n",
        "(108, 108)\n",
        "(90, 90)\n",
        "(108, 108)\n",
        "(108, 108)\n",
        "(108, 108)\n",
        "(108, 108)\n",
        "(129, 129)\n",
        "(108, 108)\n",
        "(90, 90)\n",
        "(90, 90)\n",
        "(108, 108)\n",
        "(108, 108)\n",
        "(90, 90)\n",
        "(108, 108)\n",
        "(90, 90)\n",
        "(90, 90)\n",
        "(108, 108)\n",
        "(108, 108)\n",
        "(90, 90)\n",
        "(108, 108)\n",
        "(108, 108)\n",
        "(108, 108)\n",
        "(108, 108)\n",
        "(108, 108)\n",
        "(108, 108)\n",
        "(90, 90)\n",
        "(108, 108)\n",
        "(108, 108)\n",
        "(108, 108)\n",
        "(90, 90)\n",
        "(90, 90)\n",
        "(108, 108)\n",
        "(108, 108)\n",
        "(90, 90)\n",
        "(108, 108)\n",
        "(108, 108)\n",
        "(108, 108)\n",
        "(108, 108)\n",
        "(108, 108)\n",
        "(108, 108)\n",
        "(108, 108)\n",
        "(90, 90)\n",
        "(90, 90)\n",
        "(90, 90)\n",
        "(90, 90)\n",
        "(75, 75)\n",
        "(108, 108)\n",
        "(108, 108)\n",
        "(108, 108)\n",
        "(125, 125)\n",
        "(74, 75)\n",
        "(90, 90)\n",
        "(108, 108)\n",
        "(108, 108)\n",
        "(108, 108)\n",
        "(90, 90)\n",
        "(108, 108)\n",
        "(74, 75)\n",
        "(90, 90)\n",
        "(108, 108)\n",
        "(90, 90)\n",
        "(108, 108)\n",
        "(90, 90)\n",
        "(108, 108)\n",
        "(129, 129)\n",
        "(108, 108)\n",
        "(90, 90)\n",
        "(154, 155)\n",
        "(108, 108)\n",
        "(108, 108)\n",
        "(90, 90)\n",
        "(108, 108)\n",
        "(108, 108)\n",
        "(90, 90)\n",
        "(108, 108)\n",
        "(108, 108)\n",
        "(90, 90)\n",
        "(108, 108)\n",
        "(108, 108)\n",
        "(108, 108)\n",
        "(74, 75)\n",
        "(129, 129)\n",
        "(186, 186)\n",
        "(108, 108)\n",
        "(108, 108)\n",
        "(108, 108)\n",
        "(90, 90)\n",
        "(90, 90)\n",
        "(108, 108)\n",
        "(108, 108)\n",
        "(129, 129)\n",
        "(90, 90)\n",
        "(108, 108)\n",
        "(90, 90)\n",
        "(90, 90)\n",
        "(108, 108)\n",
        "(108, 108)\n",
        "(108, 108)\n",
        "(108, 108)\n",
        "(90, 90)\n",
        "(90, 90)\n",
        "(90, 90)\n",
        "(108, 108)\n",
        "(108, 108)\n",
        "(108, 108)\n",
        "(129, 129)\n",
        "(108, 108)\n",
        "(108, 108)\n",
        "(90, 90)\n",
        "(90, 90)\n",
        "(108, 108)\n",
        "(108, 108)\n",
        "(108, 108)\n",
        "(108, 108)\n",
        "(108, 108)\n",
        "(108, 108)\n",
        "(108, 108)\n",
        "(108, 108)\n",
        "(108, 108)\n",
        "(108, 108)\n",
        "(108, 108)\n",
        "(108, 108)\n",
        "(90, 90)\n",
        "(90, 90)\n",
        "(129, 129)\n",
        "(90, 90)\n",
        "(90, 90)\n",
        "(108, 108)\n",
        "(108, 108)\n",
        "(108, 108)\n",
        "(90, 90)\n",
        "(108, 108)\n",
        "(108, 108)\n",
        "(108, 108)\n",
        "(108, 108)\n",
        "(129, 129)\n",
        "(108, 108)\n",
        "(108, 108)\n",
        "(90, 90)\n",
        "(108, 108)\n",
        "(108, 108)\n",
        "(108, 108)\n",
        "(108, 108)\n",
        "(108, 108)\n",
        "(90, 90)\n",
        "(129, 129)\n",
        "(108, 108)\n",
        "(108, 108)\n",
        "(108, 108)\n",
        "(108, 108)\n",
        "(129, 129)\n",
        "(108, 108)\n",
        "(108, 108)\n",
        "(108, 108)\n",
        "(108, 108)\n",
        "(108, 108)\n",
        "(108, 108)\n",
        "(108, 108)\n",
        "(90, 90)\n",
        "(108, 108)\n",
        "(108, 108)\n",
        "(108, 108)\n",
        "(108, 108)\n",
        "(108, 108)\n",
        "(90, 90)\n",
        "(108, 108)\n",
        "(108, 108)\n",
        "(108, 108)\n",
        "(90, 90)\n",
        "(108, 108)\n",
        "(90, 90)\n",
        "(108, 108)\n",
        "(108, 108)\n",
        "(108, 108)\n",
        "(108, 108)\n",
        "(108, 108)\n",
        "(108, 108)\n",
        "(108, 108)\n",
        "(90, 90)\n",
        "(129, 129)\n",
        "(108, 108)\n",
        "(108, 108)\n",
        "(108, 108)\n",
        "(108, 108)\n",
        "(108, 108)\n",
        "(108, 108)\n",
        "(90, 90)\n",
        "(108, 108)\n",
        "(108, 108)\n",
        "(90, 90)\n",
        "(108, 108)\n",
        "(90, 90)\n",
        "(90, 90)\n",
        "(108, 108)\n",
        "(108, 108)\n",
        "(108, 108)\n",
        "(108, 108)\n",
        "(108, 108)\n",
        "(108, 108)\n",
        "(108, 108)\n",
        "(108, 108)\n",
        "(108, 108)\n",
        "(108, 108)\n",
        "(108, 108)\n",
        "(90, 90)\n",
        "(108, 108)\n",
        "(108, 108)\n",
        "(108, 108)\n",
        "(108, 108)\n",
        "(129, 129)\n",
        "(108, 108)\n",
        "(108, 108)\n",
        "(108, 108)\n",
        "(108, 108)\n",
        "(108, 108)\n",
        "(90, 90)\n",
        "(108, 108)\n",
        "(108, 108)\n",
        "(90, 90)\n",
        "(108, 108)\n",
        "(108, 108)\n",
        "(108, 108)\n",
        "(108, 108)\n",
        "(90, 90)\n",
        "(90, 90)\n",
        "(108, 108)\n",
        "(108, 108)\n",
        "(108, 108)\n",
        "(108, 108)\n",
        "(90, 90)\n",
        "(108, 108)\n",
        "(90, 90)\n",
        "(108, 108)\n",
        "(108, 108)\n",
        "(90, 90)\n",
        "(90, 90)\n",
        "(108, 108)\n",
        "(108, 108)\n",
        "(90, 90)\n",
        "(108, 108)\n",
        "(108, 108)\n",
        "(108, 108)\n",
        "(90, 90)\n",
        "(108, 108)\n",
        "(90, 90)\n",
        "(108, 108)\n",
        "(90, 90)\n",
        "(108, 108)\n",
        "(90, 90)\n",
        "(90, 90)\n",
        "(90, 90)\n",
        "(129, 129)\n",
        "(90, 90)\n",
        "(90, 90)\n",
        "(90, 90)\n",
        "(108, 108)\n",
        "(90, 90)\n",
        "(108, 108)\n",
        "(129, 129)\n",
        "(108, 108)\n",
        "(90, 90)\n",
        "(108, 108)\n",
        "(108, 108)\n",
        "(108, 108)\n",
        "(108, 108)\n",
        "(90, 90)\n",
        "(108, 108)\n",
        "(90, 90)\n",
        "(108, 108)\n",
        "(108, 108)\n",
        "(108, 108)\n",
        "(108, 108)\n",
        "(90, 90)\n",
        "(108, 108)\n",
        "(108, 108)\n",
        "(108, 108)\n",
        "(108, 108)\n",
        "(108, 108)\n",
        "(108, 108)\n",
        "(90, 90)\n",
        "(108, 108)\n",
        "(108, 108)\n",
        "(108, 108)\n",
        "(90, 90)\n",
        "(108, 108)\n",
        "(90, 90)\n",
        "(108, 108)\n",
        "(90, 90)\n",
        "(108, 108)\n",
        "(90, 90)\n",
        "(108, 108)\n",
        "(108, 108)\n",
        "(90, 90)\n",
        "(90, 90)\n",
        "(108, 90)\n",
        "(90, 90)\n",
        "(108, 108)\n",
        "(108, 108)\n",
        "(108, 108)\n",
        "(90, 90)\n",
        "(90, 90)\n",
        "(108, 108)\n",
        "(90, 90)\n",
        "(108, 108)\n",
        "(108, 108)\n",
        "(108, 108)\n",
        "(108, 108)\n",
        "(108, 108)\n",
        "(108, 108)\n",
        "(108, 108)\n",
        "(108, 108)\n",
        "(108, 108)\n",
        "(90, 90)\n",
        "(108, 108)\n",
        "(108, 108)\n",
        "(90, 90)\n",
        "(108, 108)\n",
        "(90, 90)\n",
        "(108, 108)\n",
        "(108, 108)\n",
        "(129, 129)\n",
        "(129, 129)\n",
        "(108, 108)\n",
        "(108, 108)\n",
        "(108, 108)\n",
        "(108, 108)\n",
        "(108, 108)\n",
        "(108, 108)\n",
        "(90, 90)\n",
        "(90, 90)\n",
        "(129, 129)\n",
        "(108, 108)\n",
        "(108, 108)\n",
        "(108, 108)\n",
        "(90, 90)\n",
        "(74, 75)\n",
        "(108, 108)\n",
        "(108, 108)\n",
        "(90, 90)\n",
        "(74, 75)\n",
        "(74, 75)\n",
        "(90, 90)\n",
        "(90, 90)\n",
        "(125, 125)\n",
        "(90, 90)\n",
        "(108, 108)\n",
        "(108, 108)\n",
        "(108, 108)\n",
        "(90, 90)\n",
        "(108, 108)\n",
        "(108, 108)\n",
        "(90, 90)\n",
        "(108, 108)\n",
        "(108, 108)\n",
        "(108, 108)\n",
        "(108, 108)\n",
        "(90, 90)\n",
        "(108, 108)\n",
        "(108, 108)\n",
        "(108, 108)\n",
        "(108, 108)\n",
        "(108, 108)\n",
        "(108, 108)\n",
        "(90, 90)\n",
        "(74, 75)\n",
        "(108, 108)\n",
        "(108, 108)\n",
        "(90, 90)\n",
        "(108, 108)\n",
        "(108, 108)\n",
        "(90, 90)\n",
        "(108, 108)\n",
        "(108, 108)\n",
        "(90, 90)\n",
        "(108, 108)\n",
        "(108, 108)\n",
        "(108, 108)\n",
        "(108, 108)\n",
        "(108, 108)\n",
        "(74, 75)\n",
        "(90, 90)\n",
        "(90, 90)\n",
        "(90, 90)\n",
        "(90, 90)\n",
        "(90, 90)\n",
        "(108, 108)\n",
        "(108, 108)\n",
        "(108, 108)\n",
        "(90, 90)\n",
        "(108, 108)\n",
        "(108, 108)\n",
        "(108, 108)\n",
        "(129, 129)\n",
        "(90, 90)\n",
        "(108, 108)\n",
        "(90, 90)\n",
        "(108, 108)\n",
        "(108, 108)\n",
        "(108, 108)\n",
        "(108, 108)\n",
        "(108, 108)\n",
        "(108, 108)\n",
        "(108, 108)\n",
        "(108, 108)\n",
        "(108, 108)\n",
        "(108, 108)\n",
        "(108, 108)\n",
        "(108, 108)\n",
        "(108, 108)\n",
        "(108, 108)\n",
        "(90, 90)\n",
        "(90, 90)\n",
        "(108, 108)\n",
        "(129, 129)\n",
        "(108, 108)\n",
        "(108, 108)\n",
        "(108, 108)\n",
        "(108, 108)\n",
        "(108, 108)\n",
        "(108, 108)\n",
        "(90, 90)\n",
        "(108, 108)\n",
        "(108, 108)\n",
        "(108, 108)\n",
        "(108, 108)\n",
        "(90, 90)\n",
        "(90, 90)\n",
        "(108, 108)\n",
        "(108, 108)\n",
        "(108, 108)\n",
        "(90, 90)\n",
        "(129, 129)\n",
        "(108, 108)\n",
        "(108, 108)\n",
        "(108, 108)\n",
        "(90, 90)\n",
        "(108, 108)\n",
        "(108, 108)\n",
        "(108, 108)\n",
        "(108, 108)\n",
        "(90, 90)\n",
        "(108, 108)\n",
        "(90, 90)\n",
        "(108, 108)\n",
        "(108, 108)\n",
        "(108, 108)\n",
        "(108, 108)\n",
        "(108, 108)\n",
        "(108, 108)\n",
        "(108, 108)\n",
        "(129, 129)\n",
        "(108, 108)\n",
        "(108, 108)\n",
        "(108, 108)\n",
        "(108, 108)\n",
        "(108, 108)\n",
        "(90, 90)\n",
        "(90, 90)\n",
        "(108, 108)\n",
        "(90, 90)\n",
        "(90, 90)\n",
        "(108, 108)\n",
        "(108, 108)\n",
        "(108, 108)\n",
        "(108, 108)\n",
        "(108, 108)\n",
        "(108, 108)\n",
        "(90, 90)\n",
        "(108, 108)\n",
        "(90, 90)\n",
        "(90, 90)\n",
        "(90, 90)\n",
        "(108, 108)\n",
        "(108, 108)\n",
        "(555, 554)\n",
        "(555, 555)\n",
        "(958, 959)\n",
        "(799, 799)\n",
        "(321, 321)\n",
        "(223, 223)\n",
        "(665, 666)\n",
        "(958, 958)\n",
        "(462, 462)\n",
        "(385, 385)\n",
        "(385, 385)\n",
        "(462, 462)\n",
        "(555, 555)\n",
        "(555, 555)\n",
        "(666, 666)\n",
        "(462, 462)\n",
        "17.0\n"
       ]
      }
     ],
     "prompt_number": 13
    },
    {
     "cell_type": "code",
     "collapsed": false,
     "input": [
      "lbp_feat = []\n",
      "for x in lbp_features:\n",
      "    lbp_feat.extend(np.atleast_2d(x.flatten()).T.tolist())"
     ],
     "language": "python",
     "metadata": {},
     "outputs": [
      {
       "ename": "NameError",
       "evalue": "name 'lbp_features' is not defined",
       "output_type": "pyerr",
       "traceback": [
        "\u001b[1;31m---------------------------------------------------------------------------\u001b[0m\n\u001b[1;31mNameError\u001b[0m                                 Traceback (most recent call last)",
        "\u001b[1;32m<ipython-input-1-b9a4d3e6e8d1>\u001b[0m in \u001b[0;36m<module>\u001b[1;34m()\u001b[0m\n\u001b[0;32m      1\u001b[0m \u001b[0mlbp_feat\u001b[0m \u001b[1;33m=\u001b[0m \u001b[1;33m[\u001b[0m\u001b[1;33m]\u001b[0m\u001b[1;33m\u001b[0m\u001b[0m\n\u001b[1;32m----> 2\u001b[1;33m \u001b[1;32mfor\u001b[0m \u001b[0mx\u001b[0m \u001b[1;32min\u001b[0m \u001b[0mlbp_features\u001b[0m\u001b[1;33m:\u001b[0m\u001b[1;33m\u001b[0m\u001b[0m\n\u001b[0m\u001b[0;32m      3\u001b[0m     \u001b[0mlbp_feat\u001b[0m\u001b[1;33m.\u001b[0m\u001b[0mextend\u001b[0m\u001b[1;33m(\u001b[0m\u001b[0mnp\u001b[0m\u001b[1;33m.\u001b[0m\u001b[0matleast_2d\u001b[0m\u001b[1;33m(\u001b[0m\u001b[0mx\u001b[0m\u001b[1;33m.\u001b[0m\u001b[0mflatten\u001b[0m\u001b[1;33m(\u001b[0m\u001b[1;33m)\u001b[0m\u001b[1;33m)\u001b[0m\u001b[1;33m.\u001b[0m\u001b[0mT\u001b[0m\u001b[1;33m.\u001b[0m\u001b[0mtolist\u001b[0m\u001b[1;33m(\u001b[0m\u001b[1;33m)\u001b[0m\u001b[1;33m)\u001b[0m\u001b[1;33m\u001b[0m\u001b[0m\n",
        "\u001b[1;31mNameError\u001b[0m: name 'lbp_features' is not defined"
       ]
      }
     ],
     "prompt_number": 1
    },
    {
     "cell_type": "code",
     "collapsed": false,
     "input": [
      "len(lbp_feat)"
     ],
     "language": "python",
     "metadata": {},
     "outputs": [
      {
       "metadata": {},
       "output_type": "pyout",
       "prompt_number": 20,
       "text": [
        "1624"
       ]
      }
     ],
     "prompt_number": 20
    },
    {
     "cell_type": "code",
     "collapsed": false,
     "input": [
      "features = np.array(lbp_feat).flatten()"
     ],
     "language": "python",
     "metadata": {},
     "outputs": [],
     "prompt_number": 21
    },
    {
     "cell_type": "code",
     "collapsed": false,
     "input": [
      "features.shape"
     ],
     "language": "python",
     "metadata": {},
     "outputs": [
      {
       "metadata": {},
       "output_type": "pyout",
       "prompt_number": 23,
       "text": [
        "(1624,)"
       ]
      }
     ],
     "prompt_number": 23
    },
    {
     "cell_type": "code",
     "collapsed": false,
     "input": [
      "\n",
      "k = 256\n",
      "n_sample = k * 500\n",
      "\n",
      "# choose n_sample descriptors at random\n",
      "sample_indices = np.random.choice(features.shape[0], n_sample)\n",
      "sample = features[sample_indices]\n",
      "\n",
      "# until now sample was in uint8. Convert to float32\n",
      "sample = sample.astype('float32')\n",
      "\n",
      "# compute mean and covariance matrix for the PCA\n",
      "mean = sample.mean(axis = 0)\n",
      "sample = sample - mean\n",
      "cov = np.dot(sample.T, sample)\n",
      "\n",
      "# compute PCA matrix and keep only 64 dimensions\n",
      "#eigvals, eigvecs = np.linalg.eig(cov)\n",
      "#perm = eigvals.argsort()                   # sort by increasing eigenvalue\n",
      "#pca_transform = eigvecs[:, perm[64:128]]   # eigenvectors for the 64 last eigenvalues\n",
      "\n",
      "# transform sample with PCA (note that numpy imposes line-vectors,\n",
      "# so we right-multiply the vectors)\n",
      "#sample = np.dot(sample, pca_transform)\n",
      "\n",
      "# train GMM\n",
      "gmm = ynumpy.gmm_learn(sample, k)"
     ],
     "language": "python",
     "metadata": {},
     "outputs": [
      {
       "ename": "ValueError",
       "evalue": "setting an array element with a sequence.",
       "output_type": "pyerr",
       "traceback": [
        "\u001b[1;31m---------------------------------------------------------------------------\u001b[0m\n\u001b[1;31mValueError\u001b[0m                                Traceback (most recent call last)",
        "\u001b[1;32m<ipython-input-24-738db4290183>\u001b[0m in \u001b[0;36m<module>\u001b[1;34m()\u001b[0m\n\u001b[0;32m      8\u001b[0m \u001b[1;33m\u001b[0m\u001b[0m\n\u001b[0;32m      9\u001b[0m \u001b[1;31m# until now sample was in uint8. Convert to float32\u001b[0m\u001b[1;33m\u001b[0m\u001b[1;33m\u001b[0m\u001b[0m\n\u001b[1;32m---> 10\u001b[1;33m \u001b[0msample\u001b[0m \u001b[1;33m=\u001b[0m \u001b[0msample\u001b[0m\u001b[1;33m.\u001b[0m\u001b[0mastype\u001b[0m\u001b[1;33m(\u001b[0m\u001b[1;34m'float32'\u001b[0m\u001b[1;33m)\u001b[0m\u001b[1;33m\u001b[0m\u001b[0m\n\u001b[0m\u001b[0;32m     11\u001b[0m \u001b[1;33m\u001b[0m\u001b[0m\n\u001b[0;32m     12\u001b[0m \u001b[1;31m# compute mean and covariance matrix for the PCA\u001b[0m\u001b[1;33m\u001b[0m\u001b[1;33m\u001b[0m\u001b[0m\n",
        "\u001b[1;31mValueError\u001b[0m: setting an array element with a sequence."
       ]
      }
     ],
     "prompt_number": 24
    },
    {
     "cell_type": "code",
     "collapsed": false,
     "input": [
      "daisy_features"
     ],
     "language": "python",
     "metadata": {},
     "outputs": [
      {
       "metadata": {},
       "output_type": "pyout",
       "prompt_number": 129,
       "text": [
        "array([ array([[ 0.00126065,  0.00163411,  0.00189276, ...,  0.00415043,\n",
        "         0.00345136,  0.00292851],\n",
        "       [ 0.00091272,  0.00152846,  0.00209464, ...,  0.00418223,\n",
        "         0.00348564,  0.00320775],\n",
        "       [ 0.00073893,  0.0016308 ,  0.00249504, ...,  0.00413989,\n",
        "         0.00347453,  0.00348149],\n",
        "       ..., \n",
        "       [ 0.00247075,  0.00293986,  0.00222982, ...,  0.02592308,\n",
        "         0.00669473,  0.00201979],\n",
        "       [ 0.00295826,  0.00345648,  0.00216901, ...,  0.02622307,\n",
        "         0.00671175,  0.00190719],\n",
        "       [ 0.00262819,  0.00315383,  0.00194301, ...,  0.02533886,\n",
        "         0.00645641,  0.00175308]]),\n",
        "       array([[ 0.00096947,  0.00095286,  0.00160076, ...,  0.00886462,\n",
        "         0.00346451,  0.00093127],\n",
        "       [ 0.00094386,  0.00085216,  0.00172477, ...,  0.00878567,\n",
        "         0.00334577,  0.00088578],\n",
        "       [ 0.00123121,  0.00101799,  0.00181637, ...,  0.00876511,\n",
        "         0.00328911,  0.00087075],\n",
        "       ..., \n",
        "       [ 0.00682287,  0.01421931,  0.00973763, ...,  0.00454328,\n",
        "         0.00636141,  0.00574639],\n",
        "       [ 0.00534083,  0.01163917,  0.00920353, ...,  0.00413732,\n",
        "         0.00604079,  0.00587834],\n",
        "       [ 0.00404005,  0.0087908 ,  0.00813366, ...,  0.00378156,\n",
        "         0.00575446,  0.00598767]]),\n",
        "       array([[ 0.0049852 ,  0.00688072,  0.00675023, ...,  0.00313726,\n",
        "         0.0009826 ,  0.00087885],\n",
        "       [ 0.00473944,  0.00677082,  0.007271  , ...,  0.00288431,\n",
        "         0.00094861,  0.00089587],\n",
        "       [ 0.00389972,  0.00603029,  0.0080086 , ...,  0.0026655 ,\n",
        "         0.00091724,  0.00090323],\n",
        "       ..., \n",
        "       [ 0.0287484 ,  0.01350545,  0.00225471, ...,  0.00042478,\n",
        "         0.00150343,  0.006874  ],\n",
        "       [ 0.03104319,  0.01433282,  0.00236563, ...,  0.0004094 ,\n",
        "         0.00132173,  0.00577027],\n",
        "       [ 0.03163066,  0.01442853,  0.00236426, ...,  0.00040891,\n",
        "         0.00119865,  0.00495503]]),\n",
        "       array([[ 0.00800668,  0.01410775,  0.00963684, ...,  0.00516805,\n",
        "         0.00273944,  0.0022007 ],\n",
        "       [ 0.00865041,  0.01417995,  0.00867767, ...,  0.00561133,\n",
        "         0.00284053,  0.00195097],\n",
        "       [ 0.0079507 ,  0.01264692,  0.00801186, ...,  0.00591991,\n",
        "         0.00289087,  0.00172101],\n",
        "       ..., \n",
        "       [ 0.0060275 ,  0.00532307,  0.00219408, ...,  0.0022296 ,\n",
        "         0.0022888 ,  0.00278427],\n",
        "       [ 0.00606196,  0.00523571,  0.00199598, ...,  0.00246989,\n",
        "         0.00259483,  0.00278858],\n",
        "       [ 0.00606028,  0.00520956,  0.00197275, ...,  0.0027313 ,\n",
        "         0.00294692,  0.00285162]]),\n",
        "       array([[ 0.00027207,  0.00019809,  0.00052913, ...,  0.00786831,\n",
        "         0.00237194,  0.00054615],\n",
        "       [ 0.00027335,  0.00024659,  0.00067418, ...,  0.00763358,\n",
        "         0.00238294,  0.00061272],\n",
        "       [ 0.00023634,  0.00028811,  0.0009614 , ...,  0.00736546,\n",
        "         0.00243744,  0.00071407],\n",
        "       ..., \n",
        "       [ 0.02009685,  0.02084475,  0.00575302, ...,  0.00106592,\n",
        "         0.00099782,  0.00383207],\n",
        "       [ 0.02660301,  0.02857582,  0.00797855, ...,  0.00101064,\n",
        "         0.00093948,  0.00354358],\n",
        "       [ 0.02996912,  0.03284238,  0.00932089, ...,  0.00099505,\n",
        "         0.00091225,  0.00335087]]),\n",
        "       array([[ 0.00055579,  0.00241433,  0.00841824, ...,  0.0053766 ,\n",
        "         0.00403167,  0.00954095],\n",
        "       [ 0.00058259,  0.00278036,  0.00840948, ...,  0.00589595,\n",
        "         0.00439967,  0.01158572],\n",
        "       [ 0.0006313 ,  0.00288848,  0.00753473, ...,  0.00646738,\n",
        "         0.00475388,  0.01357249],\n",
        "       ..., \n",
        "       [ 0.00683821,  0.0129058 ,  0.0096252 , ...,  0.00169342,\n",
        "         0.00131997,  0.00192528],\n",
        "       [ 0.00651682,  0.01223062,  0.00914517, ...,  0.00171424,\n",
        "         0.00135041,  0.00186827],\n",
        "       [ 0.00618044,  0.01084911,  0.00813332, ...,  0.00170464,\n",
        "         0.00136275,  0.00180146]]),\n",
        "       array([[ 0.00283049,  0.00402917,  0.00434058, ...,  0.01217179,\n",
        "         0.00849998,  0.00305626],\n",
        "       [ 0.00362883,  0.00474687,  0.00452269, ...,  0.01264021,\n",
        "         0.00892661,  0.00310795],\n",
        "       [ 0.00433572,  0.00506712,  0.00412104, ...,  0.01298147,\n",
        "         0.00930141,  0.00315054],\n",
        "       ..., \n",
        "       [ 0.02618058,  0.03273185,  0.01066268, ...,  0.00107639,\n",
        "         0.00119548,  0.00356413],\n",
        "       [ 0.02411854,  0.03049057,  0.0102297 , ...,  0.00115904,\n",
        "         0.00123823,  0.00337526],\n",
        "       [ 0.01888269,  0.02426343,  0.00853478, ...,  0.0012706 ,\n",
        "         0.00131081,  0.00326682]]),\n",
        "       array([[ 0.00902941,  0.00592427,  0.00148889, ...,  0.00813959,\n",
        "         0.00558666,  0.00642392],\n",
        "       [ 0.01447292,  0.00919328,  0.0020668 , ...,  0.00907859,\n",
        "         0.00583557,  0.00568396],\n",
        "       [ 0.01888469,  0.01138533,  0.00242637, ...,  0.01017494,\n",
        "         0.00609416,  0.00497027],\n",
        "       ..., \n",
        "       [ 0.00185164,  0.00243761,  0.0028799 , ...,  0.00434078,\n",
        "         0.0037466 ,  0.00745132],\n",
        "       [ 0.00228407,  0.00207369,  0.00244589, ...,  0.00472223,\n",
        "         0.00391178,  0.00737004],\n",
        "       [ 0.00396174,  0.00234173,  0.00202084, ...,  0.00504955,\n",
        "         0.00400884,  0.00713584]]),\n",
        "       array([[ 0.00040061,  0.00140059,  0.00350688, ...,  0.00972912,\n",
        "         0.00594082,  0.00168947],\n",
        "       [ 0.0005341 ,  0.00172802,  0.00387333, ...,  0.00855642,\n",
        "         0.00523448,  0.00158221],\n",
        "       [ 0.0008996 ,  0.00250221,  0.00438544, ...,  0.00748127,\n",
        "         0.00460938,  0.00149101],\n",
        "       ..., \n",
        "       [ 0.01179927,  0.01138761,  0.00371063, ...,  0.00412414,\n",
        "         0.00195985,  0.0020805 ],\n",
        "       [ 0.01462189,  0.01368158,  0.00390345, ...,  0.00408028,\n",
        "         0.00194313,  0.00183391],\n",
        "       [ 0.01500847,  0.01399709,  0.00391609, ...,  0.00399445,\n",
        "         0.0019129 ,  0.001618  ]]),\n",
        "       array([[ 0.00102564,  0.00249614,  0.00464296, ...,  0.00672261,\n",
        "         0.00701198,  0.0106593 ],\n",
        "       [ 0.00160581,  0.00327656,  0.00488998, ...,  0.00704859,\n",
        "         0.00672895,  0.00999942],\n",
        "       [ 0.00292576,  0.00451379,  0.00496544, ...,  0.00736491,\n",
        "         0.00644757,  0.00908472],\n",
        "       ..., \n",
        "       [ 0.00268703,  0.00139983,  0.00134381, ...,  0.00642714,\n",
        "         0.0025744 ,  0.0014289 ],\n",
        "       [ 0.00105367,  0.00075743,  0.00130275, ...,  0.00679288,\n",
        "         0.0027535 ,  0.00146182],\n",
        "       [ 0.00038574,  0.0004236 ,  0.00119277, ...,  0.00705597,\n",
        "         0.00291622,  0.00150747]]),\n",
        "       array([[ 0.00052175,  0.00131564,  0.00300141, ...,  0.00497003,\n",
        "         0.00421196,  0.00212135],\n",
        "       [ 0.00052639,  0.00147336,  0.00330552, ...,  0.00484641,\n",
        "         0.00413267,  0.00208629],\n",
        "       [ 0.00065308,  0.00174629,  0.00353853, ...,  0.00470392,\n",
        "         0.00403505,  0.00203876],\n",
        "       ..., \n",
        "       [ 0.01637481,  0.01760656,  0.00600823, ...,  0.00066337,\n",
        "         0.0006697 ,  0.00217994],\n",
        "       [ 0.01679061,  0.0180018 ,  0.00650267, ...,  0.00067099,\n",
        "         0.00063843,  0.00196194],\n",
        "       [ 0.0147542 ,  0.01661423,  0.00696315, ...,  0.00069604,\n",
        "         0.00062741,  0.00180643]]),\n",
        "       array([[ 0.00214471,  0.00173727,  0.00185391, ...,  0.00732859,\n",
        "         0.00352648,  0.00439531],\n",
        "       [ 0.00370065,  0.00286213,  0.00200141, ...,  0.00746196,\n",
        "         0.00365781,  0.00429559],\n",
        "       [ 0.00637077,  0.00466597,  0.00212482, ...,  0.00770297,\n",
        "         0.00384655,  0.00421904],\n",
        "       ..., \n",
        "       [ 0.00869125,  0.02037716,  0.01229904, ...,  0.00132085,\n",
        "         0.00139945,  0.00211982],\n",
        "       [ 0.0081007 ,  0.01973513,  0.01207966, ...,  0.00140877,\n",
        "         0.00144401,  0.00200613],\n",
        "       [ 0.00764849,  0.01869215,  0.01133945, ...,  0.00148293,\n",
        "         0.00148407,  0.00190317]]),\n",
        "       array([[ 0.0013162 ,  0.00152398,  0.0031065 , ...,  0.00552655,\n",
        "         0.00323127,  0.00275655],\n",
        "       [ 0.00101556,  0.00131787,  0.00296583, ...,  0.00493165,\n",
        "         0.00295124,  0.0022997 ],\n",
        "       [ 0.00084932,  0.00127961,  0.00275439, ...,  0.00448732,\n",
        "         0.00276159,  0.00196511],\n",
        "       ..., \n",
        "       [ 0.00310765,  0.00366313,  0.00220653, ...,  0.00339402,\n",
        "         0.00427854,  0.01120573],\n",
        "       [ 0.00219404,  0.00251274,  0.00204149, ...,  0.00363876,\n",
        "         0.00445519,  0.01095003],\n",
        "       [ 0.00360607,  0.00311233,  0.00199772, ...,  0.00369874,\n",
        "         0.00441929,  0.01024742]]),\n",
        "       array([[ 0.00844277,  0.00575527,  0.00168464, ...,  0.00694308,\n",
        "         0.00465209,  0.00581254],\n",
        "       [ 0.01368454,  0.01018512,  0.00263457, ...,  0.00684266,\n",
        "         0.00466912,  0.00517619],\n",
        "       [ 0.02033145,  0.01615294,  0.00401424, ...,  0.00680045,\n",
        "         0.00473783,  0.00465955],\n",
        "       ..., \n",
        "       [ 0.01050372,  0.01801253,  0.00882051, ...,  0.00128669,\n",
        "         0.00160925,  0.00628377],\n",
        "       [ 0.01042799,  0.01634214,  0.00805471, ...,  0.00138735,\n",
        "         0.0016623 ,  0.0061928 ],\n",
        "       [ 0.01078772,  0.01477238,  0.00728915, ...,  0.00144903,\n",
        "         0.00167422,  0.00596878]]),\n",
        "       array([[ 0.00246896,  0.00391826,  0.00337744, ...,  0.009196  ,\n",
        "         0.0055649 ,  0.00315609],\n",
        "       [ 0.00202689,  0.00330653,  0.00309841, ...,  0.00931322,\n",
        "         0.00549887,  0.00333228],\n",
        "       [ 0.00165526,  0.00291696,  0.00298959, ...,  0.00946759,\n",
        "         0.00545485,  0.00358385],\n",
        "       ..., \n",
        "       [ 0.0177133 ,  0.01973954,  0.00642135, ...,  0.00624949,\n",
        "         0.00274725,  0.00317483],\n",
        "       [ 0.01598316,  0.01816136,  0.00610827, ...,  0.00682484,\n",
        "         0.00293724,  0.00297392],\n",
        "       [ 0.0121397 ,  0.01414223,  0.00512198, ...,  0.00738982,\n",
        "         0.00313551,  0.00281852]]),\n",
        "       array([[ 0.00502423,  0.00337221,  0.00190468, ...,  0.00979003,\n",
        "         0.00261038,  0.00133971],\n",
        "       [ 0.00554648,  0.00371823,  0.00176465, ...,  0.00913605,\n",
        "         0.00244192,  0.00124049],\n",
        "       [ 0.0055419 ,  0.00413939,  0.0020522 , ...,  0.0082893 ,\n",
        "         0.00225746,  0.00117777],\n",
        "       ..., \n",
        "       [ 0.00235351,  0.00621281,  0.00645408, ...,  0.0040323 ,\n",
        "         0.00277506,  0.00317053],\n",
        "       [ 0.00306148,  0.00769252,  0.00680209, ...,  0.00412626,\n",
        "         0.00291308,  0.00327158],\n",
        "       [ 0.00337314,  0.00848663,  0.00704466, ...,  0.00414029,\n",
        "         0.00298112,  0.00329676]]),\n",
        "       array([[ 0.00299112,  0.00329157,  0.00281012, ...,  0.01459275,\n",
        "         0.00831786,  0.00563461],\n",
        "       [ 0.00282172,  0.00353132,  0.00326803, ...,  0.0162658 ,\n",
        "         0.00898079,  0.00556434],\n",
        "       [ 0.00357453,  0.00423703,  0.00354941, ...,  0.01773981,\n",
        "         0.00958723,  0.00545774],\n",
        "       ..., \n",
        "       [ 0.00809664,  0.01345162,  0.00892848, ...,  0.00129701,\n",
        "         0.00120624,  0.00197284],\n",
        "       [ 0.0065448 ,  0.01140804,  0.00864362, ...,  0.00134178,\n",
        "         0.00122822,  0.00180302],\n",
        "       [ 0.00498791,  0.00938887,  0.00786085, ...,  0.0013707 ,\n",
        "         0.00124213,  0.00164974]]),\n",
        "       array([[ 0.0004067 ,  0.00140712,  0.00306436, ...,  0.00420771,\n",
        "         0.00216348,  0.00111896],\n",
        "       [ 0.00055478,  0.0019    ,  0.00386285, ...,  0.0039246 ,\n",
        "         0.00216668,  0.00117613],\n",
        "       [ 0.00074966,  0.00250564,  0.0050086 , ...,  0.00366625,\n",
        "         0.00217695,  0.00123834],\n",
        "       ..., \n",
        "       [ 0.00577294,  0.00866211,  0.00686104, ...,  0.00168882,\n",
        "         0.0022732 ,  0.00403542],\n",
        "       [ 0.00548375,  0.00780789,  0.0061919 , ...,  0.00154948,\n",
        "         0.00217719,  0.00406491],\n",
        "       [ 0.00558174,  0.00754145,  0.00590078, ...,  0.00143117,\n",
        "         0.00208971,  0.00407325]]),\n",
        "       array([[ 0.00076661,  0.0020229 ,  0.00354334, ...,  0.00507776,\n",
        "         0.00235519,  0.00095389],\n",
        "       [ 0.00093988,  0.00283914,  0.00512137, ...,  0.00478872,\n",
        "         0.00234321,  0.0009858 ],\n",
        "       [ 0.00096852,  0.00345027,  0.00701071, ...,  0.00457042,\n",
        "         0.00236556,  0.00102741],\n",
        "       ..., \n",
        "       [ 0.01380784,  0.01657239,  0.00637905, ...,  0.00078702,\n",
        "         0.00131584,  0.0054945 ],\n",
        "       [ 0.01493014,  0.01915299,  0.00783486, ...,  0.00078287,\n",
        "         0.0012264 ,  0.00514488],\n",
        "       [ 0.01665091,  0.02185113,  0.00901614, ...,  0.00078569,\n",
        "         0.00116199,  0.0048942 ]]),\n",
        "       array([[ 0.00094288,  0.00254574,  0.00572747, ...,  0.00452289,\n",
        "         0.00446988,  0.00589169],\n",
        "       [ 0.00065028,  0.0018047 ,  0.00471497, ...,  0.00503116,\n",
        "         0.00464688,  0.00690454],\n",
        "       [ 0.00066361,  0.00147063,  0.00395805, ...,  0.00581361,\n",
        "         0.00493563,  0.00795748],\n",
        "       ..., \n",
        "       [ 0.01514896,  0.01930211,  0.00655333, ...,  0.00224624,\n",
        "         0.00215764,  0.00348896],\n",
        "       [ 0.01634264,  0.02042217,  0.00669375, ...,  0.00221852,\n",
        "         0.00200878,  0.00319041],\n",
        "       [ 0.01644801,  0.02115954,  0.00711553, ...,  0.00220096,\n",
        "         0.00190076,  0.00297615]]),\n",
        "       array([[ 0.00884333,  0.00351128,  0.00072424, ...,  0.00282605,\n",
        "         0.00744325,  0.01234193],\n",
        "       [ 0.01003966,  0.00339707,  0.00062109, ...,  0.00260053,\n",
        "         0.00634518,  0.01041919],\n",
        "       [ 0.01236668,  0.00376679,  0.00061377, ...,  0.00242115,\n",
        "         0.00535986,  0.008654  ],\n",
        "       ..., \n",
        "       [ 0.00303854,  0.01151094,  0.01830797, ...,  0.00108835,\n",
        "         0.00118341,  0.0020648 ],\n",
        "       [ 0.00357879,  0.01300459,  0.01889693, ...,  0.00114576,\n",
        "         0.00124685,  0.00208267],\n",
        "       [ 0.00463877,  0.01526917,  0.01897402, ...,  0.00120387,\n",
        "         0.00130677,  0.00209557]]),\n",
        "       array([[ 0.00650362,  0.00545436,  0.00216971, ...,  0.01792078,\n",
        "         0.00684507,  0.00220253],\n",
        "       [ 0.00449149,  0.00392986,  0.00185015, ...,  0.01589917,\n",
        "         0.00626172,  0.00196645],\n",
        "       [ 0.00248601,  0.00234032,  0.00158741, ...,  0.01408661,\n",
        "         0.00575325,  0.00179195],\n",
        "       ..., \n",
        "       [ 0.00120375,  0.00657111,  0.01480357, ...,  0.00432123,\n",
        "         0.00315633,  0.00462485],\n",
        "       [ 0.00143087,  0.00708875,  0.01425253, ...,  0.00413288,\n",
        "         0.00312397,  0.00476016],\n",
        "       [ 0.00180118,  0.00803657,  0.01410037, ...,  0.00392822,\n",
        "         0.00304596,  0.0047876 ]]),\n",
        "       array([[ 0.00033205,  0.00091955,  0.0035889 , ...,  0.00765752,\n",
        "         0.00243284,  0.00053534],\n",
        "       [ 0.00026745,  0.00070795,  0.00326008, ...,  0.00672095,\n",
        "         0.00216953,  0.00050104],\n",
        "       [ 0.00022872,  0.00054138,  0.00274975, ...,  0.00590107,\n",
        "         0.00193715,  0.00047242],\n",
        "       ..., \n",
        "       [ 0.00031934,  0.00077656,  0.00453858, ...,  0.00373503,\n",
        "         0.0009517 ,  0.00031402],\n",
        "       [ 0.00031755,  0.00075901,  0.00415986, ...,  0.00300571,\n",
        "         0.0007988 ,  0.00027762],\n",
        "       [ 0.00038227,  0.00074995,  0.0033774 , ...,  0.00248924,\n",
        "         0.00069702,  0.00025742]]),\n",
        "       array([[ 0.00288457,  0.00160282,  0.00132298, ...,  0.00207463,\n",
        "         0.00100244,  0.00216917],\n",
        "       [ 0.00469371,  0.00242224,  0.00102263, ...,  0.0020149 ,\n",
        "         0.00117466,  0.00264186],\n",
        "       [ 0.00581834,  0.00290322,  0.00087426, ...,  0.00201306,\n",
        "         0.00140961,  0.00332358],\n",
        "       ..., \n",
        "       [ 0.01201268,  0.01502949,  0.00829797, ...,  0.00417055,\n",
        "         0.00442201,  0.0045103 ],\n",
        "       [ 0.01122995,  0.01497656,  0.00915241, ...,  0.00412004,\n",
        "         0.00440148,  0.00433362],\n",
        "       [ 0.01088055,  0.01415545,  0.00914096, ...,  0.00407298,\n",
        "         0.00440544,  0.00423171]]),\n",
        "       array([[ 0.00043458,  0.00150875,  0.00507665, ...,  0.01315362,\n",
        "         0.01015883,  0.00358344],\n",
        "       [ 0.00039432,  0.00172711,  0.00564368, ...,  0.01267836,\n",
        "         0.0101852 ,  0.00381709],\n",
        "       [ 0.00035361,  0.00169709,  0.00569008, ...,  0.01216603,\n",
        "         0.01025842,  0.00411013],\n",
        "       ..., \n",
        "       [ 0.01447702,  0.02228456,  0.00919909, ...,  0.00169439,\n",
        "         0.00106092,  0.00219411],\n",
        "       [ 0.01414487,  0.02292532,  0.00973202, ...,  0.00161161,\n",
        "         0.00102577,  0.0020049 ],\n",
        "       [ 0.01182222,  0.01987781,  0.00892063, ...,  0.00154588,\n",
        "         0.00100839,  0.00185631]]),\n",
        "       array([[ 0.00133848,  0.00152965,  0.0014835 , ...,  0.00924416,\n",
        "         0.00378052,  0.00256959],\n",
        "       [ 0.0014843 ,  0.0010109 ,  0.00109207, ...,  0.00977018,\n",
        "         0.00390271,  0.0024083 ],\n",
        "       [ 0.00235742,  0.00115185,  0.00086794, ...,  0.01005752,\n",
        "         0.00394438,  0.00222174],\n",
        "       ..., \n",
        "       [ 0.00116955,  0.00140306,  0.00098734, ...,  0.00694619,\n",
        "         0.00303013,  0.00179753],\n",
        "       [ 0.00060388,  0.00060438,  0.00068464, ...,  0.00679833,\n",
        "         0.00309566,  0.00178553],\n",
        "       [ 0.00047788,  0.00032483,  0.00050486, ...,  0.00665754,\n",
        "         0.0031782 ,  0.00180176]]),\n",
        "       array([[ 0.00088982,  0.00141875,  0.00196201, ...,  0.017553  ,\n",
        "         0.01223863,  0.00298989],\n",
        "       [ 0.00068955,  0.00085663,  0.00128482, ...,  0.01823641,\n",
        "         0.01305074,  0.00317483],\n",
        "       [ 0.00052267,  0.00050015,  0.00083064, ...,  0.01889321,\n",
        "         0.01389581,  0.00338338],\n",
        "       ..., \n",
        "       [ 0.00432018,  0.00406568,  0.00191293, ...,  0.00399659,\n",
        "         0.0011611 ,  0.00183502],\n",
        "       [ 0.00308377,  0.002999  ,  0.00180837, ...,  0.00434529,\n",
        "         0.00120414,  0.00159443],\n",
        "       [ 0.00338717,  0.00288147,  0.00179088, ...,  0.00457095,\n",
        "         0.00122469,  0.00134939]]),\n",
        "       array([[ 0.00093616,  0.00201417,  0.00271272, ...,  0.00922263,\n",
        "         0.0046945 ,  0.001728  ],\n",
        "       [ 0.00150189,  0.00307177,  0.00320576, ...,  0.00832649,\n",
        "         0.00443291,  0.00188242],\n",
        "       [ 0.00210474,  0.0041232 ,  0.00371725, ...,  0.00749949,\n",
        "         0.00423482,  0.00205328],\n",
        "       ..., \n",
        "       [ 0.00795448,  0.00763221,  0.00307584, ...,  0.0009109 ,\n",
        "         0.00161718,  0.00530514],\n",
        "       [ 0.01305196,  0.01242742,  0.00398972, ...,  0.00089794,\n",
        "         0.00155382,  0.00493823],\n",
        "       [ 0.01837849,  0.01863472,  0.00559893, ...,  0.00089284,\n",
        "         0.00150151,  0.00461231]]),\n",
        "       array([[ 0.00869521,  0.0054399 ,  0.00192675, ...,  0.00443751,\n",
        "         0.00232183,  0.00154538],\n",
        "       [ 0.00720954,  0.00463548,  0.00185448, ...,  0.00550321,\n",
        "         0.00291007,  0.00157541],\n",
        "       [ 0.004906  ,  0.00357849,  0.00189997, ...,  0.0066683 ,\n",
        "         0.00362485,  0.00168657],\n",
        "       ..., \n",
        "       [ 0.0023595 ,  0.00272177,  0.00157819, ...,  0.00651842,\n",
        "         0.00376065,  0.00339117],\n",
        "       [ 0.00205306,  0.00214884,  0.00126181, ...,  0.00619   ,\n",
        "         0.00386247,  0.00362296],\n",
        "       [ 0.00198088,  0.00186213,  0.00120397, ...,  0.00580016,\n",
        "         0.00391609,  0.00380282]]),\n",
        "       array([[ 0.00096287,  0.00029256,  0.00042837, ...,  0.01016866,\n",
        "         0.00494401,  0.00201226],\n",
        "       [ 0.001219  ,  0.00033482,  0.00044554, ...,  0.00969463,\n",
        "         0.00476498,  0.00194826],\n",
        "       [ 0.00127491,  0.0003637 ,  0.00053637, ...,  0.00913861,\n",
        "         0.00459274,  0.00191474],\n",
        "       ..., \n",
        "       [ 0.00120808,  0.00089631,  0.00110724, ...,  0.00345956,\n",
        "         0.00342104,  0.00866095],\n",
        "       [ 0.00250926,  0.00157812,  0.00115246, ...,  0.00304661,\n",
        "         0.00323893,  0.00795202],\n",
        "       [ 0.00613278,  0.00360732,  0.00139112, ...,  0.00269409,\n",
        "         0.00302762,  0.0071793 ]]),\n",
        "       array([[ 0.0044276 ,  0.00534922,  0.00360696, ...,  0.00698659,\n",
        "         0.00365105,  0.00691944],\n",
        "       [ 0.00401996,  0.00489097,  0.00316219, ...,  0.00710147,\n",
        "         0.00369732,  0.0067839 ],\n",
        "       [ 0.00464116,  0.00493654,  0.00271536, ...,  0.00714643,\n",
        "         0.00371563,  0.00656   ],\n",
        "       ..., \n",
        "       [ 0.00851409,  0.02111283,  0.01926565, ...,  0.00201772,\n",
        "         0.00279185,  0.00335924],\n",
        "       [ 0.00950513,  0.02180374,  0.01771307, ...,  0.00211548,\n",
        "         0.00283   ,  0.00340873],\n",
        "       [ 0.00958549,  0.02093541,  0.01577176, ...,  0.00222292,\n",
        "         0.00288635,  0.00347877]]),\n",
        "       array([[ 0.0077252 ,  0.0054915 ,  0.00212752, ...,  0.0086317 ,\n",
        "         0.00414504,  0.00230034],\n",
        "       [ 0.0053575 ,  0.00415389,  0.00182413, ...,  0.00828181,\n",
        "         0.00401699,  0.00223178],\n",
        "       [ 0.00308609,  0.00261686,  0.00146053, ...,  0.00782156,\n",
        "         0.00387991,  0.00221254],\n",
        "       ..., \n",
        "       [ 0.00872351,  0.01180362,  0.00523948, ...,  0.00530845,\n",
        "         0.00324373,  0.00303783],\n",
        "       [ 0.00429725,  0.00646144,  0.00366389, ...,  0.00578055,\n",
        "         0.00352579,  0.00310087],\n",
        "       [ 0.00227836,  0.00389895,  0.00284454, ...,  0.00635785,\n",
        "         0.00388082,  0.00322152]]),\n",
        "       array([[ 0.00261031,  0.00375582,  0.00638861, ...,  0.00392698,\n",
        "         0.002095  ,  0.00108817],\n",
        "       [ 0.00176026,  0.00311929,  0.00613578, ...,  0.00428236,\n",
        "         0.00239846,  0.00117635],\n",
        "       [ 0.00131545,  0.00250977,  0.00528473, ...,  0.00462752,\n",
        "         0.00273599,  0.00129209],\n",
        "       ..., \n",
        "       [ 0.00140971,  0.00175332,  0.00164207, ...,  0.00308283,\n",
        "         0.00141363,  0.00135005],\n",
        "       [ 0.00114305,  0.00150434,  0.00146013, ...,  0.0028703 ,\n",
        "         0.00140531,  0.00128458],\n",
        "       [ 0.00098883,  0.00144742,  0.0015301 , ...,  0.00269313,\n",
        "         0.00142121,  0.00125028]]),\n",
        "       array([[ 0.00045846,  0.0005761 ,  0.00210911, ...,  0.00517209,\n",
        "         0.00138403,  0.00048256],\n",
        "       [ 0.00061263,  0.00074457,  0.00194873, ...,  0.00522977,\n",
        "         0.00141402,  0.0004699 ],\n",
        "       [ 0.00069522,  0.00089048,  0.00181952, ...,  0.0052928 ,\n",
        "         0.00144504,  0.00045945],\n",
        "       ..., \n",
        "       [ 0.01047811,  0.02279528,  0.01289134, ...,  0.00039714,\n",
        "         0.00089004,  0.00343801],\n",
        "       [ 0.0099075 ,  0.02126336,  0.0118558 , ...,  0.00040839,\n",
        "         0.00087226,  0.003461  ],\n",
        "       [ 0.00946935,  0.01959269,  0.01037671, ...,  0.00042885,\n",
        "         0.000869  ,  0.00351285]]),\n",
        "       array([[ 0.01269613,  0.0083918 ,  0.00397985, ...,  0.00576318,\n",
        "         0.00373857,  0.00297896],\n",
        "       [ 0.00789474,  0.00621423,  0.00379285, ...,  0.00520522,\n",
        "         0.00334346,  0.00257935],\n",
        "       [ 0.00590398,  0.00525633,  0.00344839, ...,  0.00473585,\n",
        "         0.00304164,  0.00231435],\n",
        "       ..., \n",
        "       [ 0.00267044,  0.00717356,  0.01105228, ...,  0.00438273,\n",
        "         0.00261665,  0.00258316],\n",
        "       [ 0.00355218,  0.00717087,  0.00948792, ...,  0.00439659,\n",
        "         0.00257624,  0.0025007 ],\n",
        "       [ 0.00478093,  0.00739325,  0.00808209, ...,  0.00436108,\n",
        "         0.00252274,  0.00240985]]),\n",
        "       array([[ 0.00193377,  0.00317138,  0.00260409, ...,  0.00408144,\n",
        "         0.00321219,  0.00223252],\n",
        "       [ 0.00200814,  0.00335709,  0.00263111, ...,  0.00398652,\n",
        "         0.00345151,  0.00237449],\n",
        "       [ 0.00228193,  0.00352816,  0.0025971 , ...,  0.00400001,\n",
        "         0.00379444,  0.0025669 ],\n",
        "       ..., \n",
        "       [ 0.00181082,  0.00181654,  0.0013629 , ...,  0.00658914,\n",
        "         0.0036522 ,  0.00186106],\n",
        "       [ 0.00231653,  0.00175101,  0.00097737, ...,  0.0068228 ,\n",
        "         0.00387191,  0.00189278],\n",
        "       [ 0.00248482,  0.00157799,  0.00071555, ...,  0.00698749,\n",
        "         0.00406209,  0.00193086]]),\n",
        "       array([[ 0.00014018,  0.00013319,  0.00056024, ...,  0.01294465,\n",
        "         0.00489923,  0.00082915],\n",
        "       [ 0.00013779,  0.00012516,  0.00051063, ...,  0.01264708,\n",
        "         0.00483912,  0.0008335 ],\n",
        "       [ 0.0001301 ,  0.00011842,  0.00047914, ...,  0.01231313,\n",
        "         0.00478101,  0.00084111],\n",
        "       ..., \n",
        "       [ 0.00082937,  0.00219571,  0.00642245, ...,  0.00167859,\n",
        "         0.00121937,  0.0014783 ],\n",
        "       [ 0.00185593,  0.00362378,  0.00678154, ...,  0.0018021 ,\n",
        "         0.00129475,  0.00151652],\n",
        "       [ 0.00351157,  0.00535755,  0.00656347, ...,  0.00197171,\n",
        "         0.00138777,  0.00155379]]),\n",
        "       array([[ 0.00057583,  0.00105019,  0.00250966, ...,  0.01355716,\n",
        "         0.00874279,  0.00280839],\n",
        "       [ 0.00038279,  0.0007744 ,  0.00258218, ...,  0.01426273,\n",
        "         0.00944633,  0.00289767],\n",
        "       [ 0.00026198,  0.00064768,  0.00268482, ...,  0.01479344,\n",
        "         0.01008225,  0.00300988],\n",
        "       ..., \n",
        "       [ 0.00546078,  0.00958871,  0.00547172, ...,  0.00833737,\n",
        "         0.00370297,  0.00289174],\n",
        "       [ 0.00367353,  0.00630253,  0.00397896, ...,  0.00837062,\n",
        "         0.00371182,  0.00277975],\n",
        "       [ 0.00197887,  0.00338691,  0.00282984, ...,  0.00830829,\n",
        "         0.00369469,  0.00268194]]),\n",
        "       array([[ 0.00160533,  0.00229647,  0.00292048, ...,  0.01518184,\n",
        "         0.00756254,  0.00261131],\n",
        "       [ 0.00114734,  0.00171466,  0.0028952 , ...,  0.01500707,\n",
        "         0.00744271,  0.00255288],\n",
        "       [ 0.00089728,  0.00137712,  0.00276795, ...,  0.01472382,\n",
        "         0.00728389,  0.00250346],\n",
        "       ..., \n",
        "       [ 0.0041376 ,  0.0025183 ,  0.0025862 , ...,  0.00622498,\n",
        "         0.00309336,  0.00180876],\n",
        "       [ 0.00473696,  0.00240229,  0.00234051, ...,  0.00538467,\n",
        "         0.00293999,  0.00183909],\n",
        "       [ 0.00462387,  0.0021441 ,  0.00213251, ...,  0.00462103,\n",
        "         0.00279414,  0.00186355]]),\n",
        "       array([[ 0.00398632,  0.00707266,  0.00566432, ...,  0.01070217,\n",
        "         0.00399061,  0.001843  ],\n",
        "       [ 0.00305354,  0.00558513,  0.00551203, ...,  0.01108131,\n",
        "         0.00408421,  0.00175401],\n",
        "       [ 0.00282718,  0.00523103,  0.00562353, ...,  0.01134898,\n",
        "         0.00416691,  0.00167871],\n",
        "       ..., \n",
        "       [ 0.00153859,  0.00127319,  0.00135601, ...,  0.00489909,\n",
        "         0.00469415,  0.00345642],\n",
        "       [ 0.00163598,  0.00104298,  0.00145258, ...,  0.00486783,\n",
        "         0.00492632,  0.00354611],\n",
        "       [ 0.0019213 ,  0.00122753,  0.00194479, ...,  0.0047693 ,\n",
        "         0.00507112,  0.00357306]]),\n",
        "       array([[ 0.00383664,  0.00397487,  0.00455966, ...,  0.01385074,\n",
        "         0.00338031,  0.00087056],\n",
        "       [ 0.00185247,  0.00223413,  0.00474798, ...,  0.01423707,\n",
        "         0.00342348,  0.00082352],\n",
        "       [ 0.00078566,  0.0012432 ,  0.00463647, ...,  0.01456418,\n",
        "         0.00345395,  0.00079778],\n",
        "       ..., \n",
        "       [ 0.00887929,  0.01235833,  0.00571329, ...,  0.00612546,\n",
        "         0.00442677,  0.00332799],\n",
        "       [ 0.00815219,  0.01192109,  0.00562723, ...,  0.00662529,\n",
        "         0.00483739,  0.00339083],\n",
        "       [ 0.00656159,  0.01008257,  0.00521937, ...,  0.0069761 ,\n",
        "         0.00513863,  0.00340869]]),\n",
        "       array([[ 0.0034786 ,  0.00497706,  0.00619944, ...,  0.00614289,\n",
        "         0.00762133,  0.00703065],\n",
        "       [ 0.00295054,  0.00386991,  0.00500707, ...,  0.00616891,\n",
        "         0.00775967,  0.007428  ],\n",
        "       [ 0.00243765,  0.003027  ,  0.0040353 , ...,  0.00612807,\n",
        "         0.00780943,  0.00798032],\n",
        "       ..., \n",
        "       [ 0.00089466,  0.00061272,  0.00147584, ...,  0.00568663,\n",
        "         0.00596719,  0.00524816],\n",
        "       [ 0.00090205,  0.00094372,  0.00201175, ...,  0.0056891 ,\n",
        "         0.00574372,  0.00498535],\n",
        "       [ 0.00155171,  0.00176064,  0.00241191, ...,  0.0056292 ,\n",
        "         0.00548077,  0.00469706]]),\n",
        "       array([[ 0.00063964,  0.00133876,  0.00475963, ...,  0.00933165,\n",
        "         0.00424406,  0.00199596],\n",
        "       [ 0.000549  ,  0.00165529,  0.00622745, ...,  0.00849252,\n",
        "         0.00398247,  0.00189051],\n",
        "       [ 0.00081954,  0.00253495,  0.00788982, ...,  0.00776158,\n",
        "         0.00373478,  0.00179092],\n",
        "       ..., \n",
        "       [ 0.00764869,  0.01103956,  0.00594928, ...,  0.0010664 ,\n",
        "         0.00166804,  0.00746151],\n",
        "       [ 0.00683604,  0.00998859,  0.0051946 , ...,  0.00111493,\n",
        "         0.00173375,  0.00769757],\n",
        "       [ 0.00646861,  0.00883454,  0.00442209, ...,  0.00112719,\n",
        "         0.00173793,  0.00764297]]),\n",
        "       array([[ 0.02879038,  0.01006544,  0.00174632, ...,  0.00633372,\n",
        "         0.00310486,  0.00285802],\n",
        "       [ 0.02253512,  0.00870305,  0.00178172, ...,  0.00627989,\n",
        "         0.00289087,  0.00223049],\n",
        "       [ 0.01533183,  0.0071236 ,  0.00189738, ...,  0.0062837 ,\n",
        "         0.00275304,  0.00179145],\n",
        "       ..., \n",
        "       [ 0.0085404 ,  0.01164721,  0.00688013, ...,  0.00258947,\n",
        "         0.00139128,  0.00184399],\n",
        "       [ 0.0068068 ,  0.010142  ,  0.00692479, ...,  0.00247863,\n",
        "         0.0013539 ,  0.00176237],\n",
        "       [ 0.00542277,  0.00920104,  0.00702321, ...,  0.00236392,\n",
        "         0.00132399,  0.00169798]]),\n",
        "       array([[ 0.00044059,  0.00126193,  0.00273805, ...,  0.01466402,\n",
        "         0.00620146,  0.0016866 ],\n",
        "       [ 0.00041989,  0.00123996,  0.00305203, ...,  0.01437602,\n",
        "         0.00604485,  0.00162066],\n",
        "       [ 0.00050456,  0.00152364,  0.00370085, ...,  0.01394229,\n",
        "         0.00583066,  0.00155943],\n",
        "       ..., \n",
        "       [ 0.00078266,  0.00100839,  0.00152641, ...,  0.0032387 ,\n",
        "         0.00158627,  0.00169834],\n",
        "       [ 0.00045236,  0.00050773,  0.00113297, ...,  0.00335656,\n",
        "         0.00166597,  0.00171042],\n",
        "       [ 0.00073349,  0.00062906,  0.00093326, ...,  0.00348182,\n",
        "         0.00174713,  0.00172915]]),\n",
        "       array([[ 0.00050611,  0.00069102,  0.00172152, ...,  0.00885851,\n",
        "         0.0033057 ,  0.00098408],\n",
        "       [ 0.00041668,  0.00061706,  0.00157201, ...,  0.00824317,\n",
        "         0.00320771,  0.00097975],\n",
        "       [ 0.00038936,  0.00050582,  0.00130248, ...,  0.0076528 ,\n",
        "         0.00312304,  0.00100118],\n",
        "       ..., \n",
        "       [ 0.00192519,  0.00470082,  0.00554359, ...,  0.00669255,\n",
        "         0.00265453,  0.00192004],\n",
        "       [ 0.00280614,  0.0061115 ,  0.0060606 , ...,  0.00700219,\n",
        "         0.00277365,  0.0018868 ],\n",
        "       [ 0.00423771,  0.00834215,  0.00655386, ...,  0.00715724,\n",
        "         0.00284065,  0.00183624]]),\n",
        "       array([[ 0.00016289,  0.00055159,  0.00318926, ...,  0.00610959,\n",
        "         0.00133678,  0.00028168],\n",
        "       [ 0.00018735,  0.00067146,  0.00352639, ...,  0.00548764,\n",
        "         0.00121044,  0.00028263],\n",
        "       [ 0.00025189,  0.00100092,  0.00435421, ...,  0.00493423,\n",
        "         0.00110025,  0.00029349],\n",
        "       ..., \n",
        "       [ 0.00620656,  0.01296439,  0.00953646, ...,  0.00131354,\n",
        "         0.00106791,  0.00296335],\n",
        "       [ 0.00809401,  0.0167412 ,  0.01056644, ...,  0.00124958,\n",
        "         0.00111664,  0.00318406],\n",
        "       [ 0.0092733 ,  0.01851319,  0.01068441, ...,  0.00118431,\n",
        "         0.001158  ,  0.00337138]]),\n",
        "       array([[ 0.01348689,  0.00362835,  0.00072944, ...,  0.00526012,\n",
        "         0.00202396,  0.0014605 ],\n",
        "       [ 0.01046025,  0.00313309,  0.00074837, ...,  0.00555697,\n",
        "         0.00207327,  0.00124294],\n",
        "       [ 0.00654355,  0.00234073,  0.00075128, ...,  0.00582858,\n",
        "         0.0021358 ,  0.00107713],\n",
        "       ..., \n",
        "       [ 0.01530647,  0.01212949,  0.0030747 , ...,  0.00272554,\n",
        "         0.00197238,  0.00554206],\n",
        "       [ 0.02521384,  0.02035614,  0.00486899, ...,  0.00217689,\n",
        "         0.00167485,  0.00482397],\n",
        "       [ 0.03320577,  0.02745694,  0.00651362, ...,  0.00180311,\n",
        "         0.00146738,  0.00426169]]),\n",
        "       array([[ 0.00393228,  0.00630122,  0.00771976, ...,  0.00490781,\n",
        "         0.00107665,  0.00092317],\n",
        "       [ 0.00569967,  0.00789293,  0.00653003, ...,  0.00527628,\n",
        "         0.00116993,  0.00085012],\n",
        "       [ 0.00633809,  0.0082103 ,  0.00565236, ...,  0.00562739,\n",
        "         0.0012705 ,  0.00077173],\n",
        "       ..., \n",
        "       [ 0.00073947,  0.00033639,  0.00031565, ...,  0.0155585 ,\n",
        "         0.00723564,  0.00715142],\n",
        "       [ 0.00107269,  0.00034577,  0.00025316, ...,  0.01596733,\n",
        "         0.00725124,  0.00675126],\n",
        "       [ 0.00201924,  0.00060247,  0.00022965, ...,  0.01596123,\n",
        "         0.00711592,  0.00627259]]),\n",
        "       array([[ 0.01061674,  0.00929427,  0.00712964, ...,  0.0054117 ,\n",
        "         0.00253621,  0.00289607],\n",
        "       [ 0.00745129,  0.00959565,  0.00900288, ...,  0.00594692,\n",
        "         0.0024476 ,  0.00240268],\n",
        "       [ 0.00529463,  0.00923216,  0.00962186, ...,  0.00641405,\n",
        "         0.00236129,  0.00195277],\n",
        "       ..., \n",
        "       [ 0.01354008,  0.01857763,  0.0090722 , ...,  0.00741334,\n",
        "         0.0036887 ,  0.00341538],\n",
        "       [ 0.01148523,  0.01383528,  0.0062338 , ...,  0.00748685,\n",
        "         0.00388091,  0.0032964 ],\n",
        "       [ 0.0077638 ,  0.00843576,  0.00379908, ...,  0.00760708,\n",
        "         0.00411168,  0.00325908]]),\n",
        "       array([[ 0.01513229,  0.00771362,  0.00272833, ...,  0.00330533,\n",
        "         0.00176529,  0.00316432],\n",
        "       [ 0.01238308,  0.00774027,  0.00319249, ...,  0.00371199,\n",
        "         0.00189149,  0.00283651],\n",
        "       [ 0.01274242,  0.00869917,  0.00356395, ...,  0.00407964,\n",
        "         0.00202306,  0.00254282],\n",
        "       ..., \n",
        "       [ 0.00277848,  0.00213434,  0.00158928, ...,  0.00889579,\n",
        "         0.0035314 ,  0.00211222],\n",
        "       [ 0.00167078,  0.00170681,  0.00162644, ...,  0.0087726 ,\n",
        "         0.00351383,  0.00201672],\n",
        "       [ 0.00195312,  0.00227998,  0.00185096, ...,  0.0086684 ,\n",
        "         0.00350427,  0.00194533]]),\n",
        "       array([[ 0.02036752,  0.0156255 ,  0.00386559, ...,  0.00311867,\n",
        "         0.00172529,  0.00510758],\n",
        "       [ 0.02755277,  0.02092874,  0.00489025, ...,  0.00335835,\n",
        "         0.00159513,  0.00418476],\n",
        "       [ 0.03299831,  0.02561602,  0.00587461, ...,  0.00369106,\n",
        "         0.0015269 ,  0.00345336],\n",
        "       ..., \n",
        "       [ 0.0030023 ,  0.00420339,  0.00423481, ...,  0.00339866,\n",
        "         0.00222976,  0.00641677],\n",
        "       [ 0.00441395,  0.00557809,  0.00417945, ...,  0.00279765,\n",
        "         0.00210764,  0.00673928],\n",
        "       [ 0.00650836,  0.00764983,  0.00435741, ...,  0.00228906,\n",
        "         0.00200533,  0.00699083]]),\n",
        "       array([[ 0.00384173,  0.00610351,  0.00495765, ...,  0.00591735,\n",
        "         0.00456105,  0.00474679],\n",
        "       [ 0.00351787,  0.00586778,  0.00467016, ...,  0.00554462,\n",
        "         0.00451171,  0.00473519],\n",
        "       [ 0.00367932,  0.00527056,  0.00397694, ...,  0.00526781,\n",
        "         0.00445928,  0.00465226],\n",
        "       ..., \n",
        "       [ 0.00429554,  0.00515589,  0.00358871, ...,  0.00253863,\n",
        "         0.00260583,  0.00477605],\n",
        "       [ 0.00717751,  0.00691298,  0.00308921, ...,  0.00241223,\n",
        "         0.00249814,  0.004596  ],\n",
        "       [ 0.01206059,  0.01047731,  0.00334917, ...,  0.00232218,\n",
        "         0.00239636,  0.00437251]]),\n",
        "       array([[ 0.00237345,  0.0017769 ,  0.00156086, ...,  0.0125944 ,\n",
        "         0.00461882,  0.00340338],\n",
        "       [ 0.00464044,  0.00323527,  0.0019383 , ...,  0.01174725,\n",
        "         0.00421454,  0.0029495 ],\n",
        "       [ 0.00832452,  0.00555196,  0.00245681, ...,  0.01085428,\n",
        "         0.00382337,  0.00253058],\n",
        "       ..., \n",
        "       [ 0.00368296,  0.00602737,  0.0055606 , ...,  0.00501891,\n",
        "         0.0052878 ,  0.00546905],\n",
        "       [ 0.00430216,  0.00565922,  0.0051437 , ...,  0.00452312,\n",
        "         0.00517884,  0.00550411],\n",
        "       [ 0.00668905,  0.00690402,  0.00479886, ...,  0.00414096,\n",
        "         0.00512476,  0.0055516 ]]),\n",
        "       array([[ 0.00478352,  0.0046218 ,  0.00387941, ...,  0.00505762,\n",
        "         0.00182196,  0.00102442],\n",
        "       [ 0.00574769,  0.00543136,  0.00388709, ...,  0.00507633,\n",
        "         0.00175233,  0.00089334],\n",
        "       [ 0.00567864,  0.005424  ,  0.00380161, ...,  0.00506585,\n",
        "         0.00169572,  0.00079164],\n",
        "       ..., \n",
        "       [ 0.00122894,  0.00214416,  0.00263781, ...,  0.00320667,\n",
        "         0.0044443 ,  0.00376879],\n",
        "       [ 0.00107985,  0.00212461,  0.00326329, ...,  0.00338721,\n",
        "         0.00492341,  0.00407917],\n",
        "       [ 0.00127689,  0.0021842 ,  0.00388402, ...,  0.00356015,\n",
        "         0.00536949,  0.00434161]]),\n",
        "       array([[ 0.02182815,  0.0152394 ,  0.00414407, ...,  0.00737404,\n",
        "         0.00229807,  0.00175411],\n",
        "       [ 0.02505046,  0.01822824,  0.00511931, ...,  0.0079834 ,\n",
        "         0.00241876,  0.00147877],\n",
        "       [ 0.02192544,  0.01717795,  0.00575256, ...,  0.00865607,\n",
        "         0.00258484,  0.00127051],\n",
        "       ..., \n",
        "       [ 0.00687783,  0.0066161 ,  0.00255386, ...,  0.00442828,\n",
        "         0.00187708,  0.00265748],\n",
        "       [ 0.0122504 ,  0.01197872,  0.00381292, ...,  0.00396832,\n",
        "         0.001733  ,  0.00255272],\n",
        "       [ 0.01808439,  0.01841452,  0.00568339, ...,  0.00362534,\n",
        "         0.00163577,  0.00250025]]),\n",
        "       array([[ 0.00927189,  0.01553853,  0.00739968, ...,  0.01019985,\n",
        "         0.00435806,  0.00260427],\n",
        "       [ 0.01242764,  0.02095656,  0.00938502, ...,  0.00930926,\n",
        "         0.00402664,  0.00245272],\n",
        "       [ 0.01379342,  0.02360832,  0.01049346, ...,  0.00859992,\n",
        "         0.00377493,  0.00230473],\n",
        "       ..., \n",
        "       [ 0.02337221,  0.01677816,  0.00374669, ...,  0.00050395,\n",
        "         0.00067146,  0.00238458],\n",
        "       [ 0.02400561,  0.01781603,  0.00406971, ...,  0.00049966,\n",
        "         0.00064915,  0.00215153],\n",
        "       [ 0.01999974,  0.01554111,  0.00385283, ...,  0.00051188,\n",
        "         0.0006429 ,  0.00196785]]),\n",
        "       array([[ 0.00287738,  0.0041407 ,  0.00480914, ...,  0.00820387,\n",
        "         0.00554077,  0.00256837],\n",
        "       [ 0.00193714,  0.00278583,  0.00383098, ...,  0.00841674,\n",
        "         0.00555139,  0.00246788],\n",
        "       [ 0.0010979 ,  0.00149951,  0.00277076, ...,  0.00862806,\n",
        "         0.00552665,  0.00234787],\n",
        "       ..., \n",
        "       [ 0.00729761,  0.00637492,  0.00224718, ...,  0.00464078,\n",
        "         0.00202688,  0.00245753],\n",
        "       [ 0.0110778 ,  0.00934139,  0.002708  , ...,  0.00494442,\n",
        "         0.00207211,  0.00245797],\n",
        "       [ 0.01372588,  0.01122042,  0.00297015, ...,  0.00523281,\n",
        "         0.00211266,  0.00243107]]),\n",
        "       array([[ 0.00027374,  0.00017397,  0.00059766, ...,  0.00663684,\n",
        "         0.00247999,  0.0009637 ],\n",
        "       [ 0.00026505,  0.00018242,  0.00067055, ...,  0.00562802,\n",
        "         0.00220398,  0.00092426],\n",
        "       [ 0.00030673,  0.00019546,  0.00070592, ...,  0.00477457,\n",
        "         0.00200225,  0.00091319],\n",
        "       ..., \n",
        "       [ 0.00728676,  0.0084225 ,  0.00374962, ...,  0.00261455,\n",
        "         0.00157359,  0.00208013],\n",
        "       [ 0.00755019,  0.0089141 ,  0.00375767, ...,  0.00295482,\n",
        "         0.00173402,  0.00215142],\n",
        "       [ 0.00657845,  0.00800241,  0.0035343 , ...,  0.00327942,\n",
        "         0.00189538,  0.00222599]]),\n",
        "       array([[ 0.00765813,  0.00551777,  0.00289841, ...,  0.0028541 ,\n",
        "         0.00249405,  0.00815459],\n",
        "       [ 0.01379236,  0.00817623,  0.00297766, ...,  0.00240732,\n",
        "         0.00210456,  0.0066895 ],\n",
        "       [ 0.02195169,  0.01141695,  0.00305672, ...,  0.00205098,\n",
        "         0.00178364,  0.005453  ],\n",
        "       ..., \n",
        "       [ 0.0062494 ,  0.00751225,  0.00605506, ...,  0.00284949,\n",
        "         0.0014034 ,  0.00125193],\n",
        "       [ 0.00761865,  0.00825829,  0.00610498, ...,  0.00310436,\n",
        "         0.00149418,  0.00118006],\n",
        "       [ 0.00876117,  0.00874888,  0.00555091, ...,  0.00332813,\n",
        "         0.00157424,  0.00111721]]),\n",
        "       array([[ 0.00017888,  0.00015409,  0.00048692, ...,  0.02118425,\n",
        "         0.01277766,  0.00332867],\n",
        "       [ 0.00016655,  0.00013449,  0.00047918, ...,  0.02102229,\n",
        "         0.01328246,  0.00349587],\n",
        "       [ 0.00015853,  0.00013274,  0.00050712, ...,  0.02056799,\n",
        "         0.01368452,  0.00368804],\n",
        "       ..., \n",
        "       [ 0.00082491,  0.00255349,  0.00698706, ...,  0.00575317,\n",
        "         0.00393136,  0.00172973],\n",
        "       [ 0.00049312,  0.00161152,  0.00736849, ...,  0.00542618,\n",
        "         0.00381992,  0.00168183],\n",
        "       [ 0.00055019,  0.00152263,  0.00784826, ...,  0.00521092,\n",
        "         0.00376108,  0.0016629 ]]),\n",
        "       array([[ 0.01545015,  0.0091702 ,  0.00287205, ...,  0.00587475,\n",
        "         0.00251799,  0.00204625],\n",
        "       [ 0.0148647 ,  0.00907739,  0.00272379, ...,  0.00630504,\n",
        "         0.00267446,  0.00203984],\n",
        "       [ 0.01180386,  0.0079535 ,  0.00288481, ...,  0.00666676,\n",
        "         0.00280563,  0.0020566 ],\n",
        "       ..., \n",
        "       [ 0.00614715,  0.00236999,  0.00052458, ...,  0.00161701,\n",
        "         0.00229335,  0.00538474],\n",
        "       [ 0.00982642,  0.00384309,  0.00074371, ...,  0.00140027,\n",
        "         0.0023256 ,  0.00570644],\n",
        "       [ 0.01327209,  0.0055717 ,  0.00111583, ...,  0.00125584,\n",
        "         0.00238996,  0.00602277]]),\n",
        "       array([[ 0.00113612,  0.00077044,  0.00124188, ...,  0.00760349,\n",
        "         0.00521403,  0.00327958],\n",
        "       [ 0.00257886,  0.00131033,  0.00110665, ...,  0.00765832,\n",
        "         0.00492812,  0.00311894],\n",
        "       [ 0.00524512,  0.00246445,  0.00115301, ...,  0.00772725,\n",
        "         0.00469132,  0.00300977],\n",
        "       ..., \n",
        "       [ 0.01376097,  0.02036601,  0.00760819, ...,  0.00260228,\n",
        "         0.00099305,  0.00162976],\n",
        "       [ 0.00935746,  0.01315221,  0.00504022, ...,  0.00290952,\n",
        "         0.00105419,  0.00147553],\n",
        "       [ 0.00526922,  0.00727852,  0.00334703, ...,  0.0032379 ,\n",
        "         0.00113028,  0.00134386]]),\n",
        "       array([[ 0.00305827,  0.00819535,  0.01239055, ...,  0.00504045,\n",
        "         0.0040766 ,  0.00281314],\n",
        "       [ 0.00448697,  0.0092201 ,  0.01159077, ...,  0.00460354,\n",
        "         0.00406508,  0.00293295],\n",
        "       [ 0.00571874,  0.00937553,  0.01050495, ...,  0.00417085,\n",
        "         0.0040196 ,  0.00300051],\n",
        "       ..., \n",
        "       [ 0.00119776,  0.00091617,  0.00125979, ...,  0.00278988,\n",
        "         0.00226893,  0.00201936],\n",
        "       [ 0.00231034,  0.00142397,  0.00124464, ...,  0.00294453,\n",
        "         0.00236128,  0.00218583],\n",
        "       [ 0.00367999,  0.00203754,  0.00113326, ...,  0.00309978,\n",
        "         0.00245582,  0.00237596]]),\n",
        "       array([[ 0.00098328,  0.00099271,  0.0016217 , ...,  0.00513232,\n",
        "         0.00660288,  0.00376217],\n",
        "       [ 0.00110678,  0.00121905,  0.0016323 , ...,  0.00511841,\n",
        "         0.00680069,  0.00398647],\n",
        "       [ 0.001421  ,  0.00153858,  0.00163354, ...,  0.00514441,\n",
        "         0.00701305,  0.00422988],\n",
        "       ..., \n",
        "       [ 0.01144828,  0.01779359,  0.01236334, ...,  0.00021932,\n",
        "         0.00028679,  0.00121942],\n",
        "       [ 0.00916137,  0.01538271,  0.01213814, ...,  0.00021725,\n",
        "         0.00028332,  0.00121767],\n",
        "       [ 0.00704605,  0.01430659,  0.01289068, ...,  0.00021648,\n",
        "         0.00028081,  0.00121768]]),\n",
        "       array([[ 0.00192891,  0.00183354,  0.0014328 , ...,  0.00836612,\n",
        "         0.00599394,  0.01761763],\n",
        "       [ 0.0016993 ,  0.00195114,  0.00172777, ...,  0.00949626,\n",
        "         0.00606107,  0.01748543],\n",
        "       [ 0.00165558,  0.00226567,  0.00199344, ...,  0.0107769 ,\n",
        "         0.00612828,  0.01682973],\n",
        "       ..., \n",
        "       [ 0.00906154,  0.01376119,  0.00600228, ...,  0.00118598,\n",
        "         0.00120314,  0.00339879],\n",
        "       [ 0.00905691,  0.01496401,  0.0068491 , ...,  0.00133778,\n",
        "         0.0012876 ,  0.00335053],\n",
        "       [ 0.00997689,  0.01655059,  0.00755802, ...,  0.0014762 ,\n",
        "         0.00136222,  0.0032803 ]]),\n",
        "       array([[ 0.00057911,  0.00104022,  0.00189256, ...,  0.00724996,\n",
        "         0.00387959,  0.00351919],\n",
        "       [ 0.00077667,  0.00141712,  0.00215583, ...,  0.00739166,\n",
        "         0.00379303,  0.00351949],\n",
        "       [ 0.00084115,  0.00161903,  0.00278977, ...,  0.00756173,\n",
        "         0.00367559,  0.00342262],\n",
        "       ..., \n",
        "       [ 0.00337857,  0.00481219,  0.00277014, ...,  0.00152034,\n",
        "         0.00121371,  0.00233292],\n",
        "       [ 0.00357376,  0.00528863,  0.00309418, ...,  0.00143586,\n",
        "         0.00119589,  0.00238193],\n",
        "       [ 0.00375401,  0.00574245,  0.00360269, ...,  0.00137382,\n",
        "         0.00119301,  0.00244723]]),\n",
        "       array([[ 0.01076714,  0.02256222,  0.01476507, ...,  0.00342022,\n",
        "         0.0037177 ,  0.0022056 ],\n",
        "       [ 0.01020575,  0.02311464,  0.01609561, ...,  0.00294134,\n",
        "         0.00342101,  0.00218563],\n",
        "       [ 0.00926089,  0.02236154,  0.01600159, ...,  0.00253099,\n",
        "         0.00315173,  0.00217123],\n",
        "       ..., \n",
        "       [ 0.01531634,  0.01180145,  0.003155  , ...,  0.00128688,\n",
        "         0.00161409,  0.00751975],\n",
        "       [ 0.01744897,  0.01235902,  0.00295737, ...,  0.00135197,\n",
        "         0.0015153 ,  0.00674442],\n",
        "       [ 0.01894505,  0.01249285,  0.0028676 , ...,  0.00140029,\n",
        "         0.00141337,  0.00598453]]),\n",
        "       array([[ 0.01411043,  0.01016006,  0.00233969, ...,  0.00506784,\n",
        "         0.0023457 ,  0.00660478],\n",
        "       [ 0.01998221,  0.01406896,  0.00299995, ...,  0.00555576,\n",
        "         0.00228066,  0.00539321],\n",
        "       [ 0.02575765,  0.01809857,  0.00374017, ...,  0.00609478,\n",
        "         0.00227262,  0.0043966 ],\n",
        "       ..., \n",
        "       [ 0.00956716,  0.00983282,  0.00695791, ...,  0.00075418,\n",
        "         0.00182183,  0.00708307],\n",
        "       [ 0.00995904,  0.01003453,  0.00660578, ...,  0.00072511,\n",
        "         0.00191288,  0.00757473],\n",
        "       [ 0.01127257,  0.01047143,  0.00568428, ...,  0.00070216,\n",
        "         0.00198402,  0.00795354]]),\n",
        "       array([[ 0.00020235,  0.00034539,  0.00185454, ...,  0.00665941,\n",
        "         0.00167523,  0.00046499],\n",
        "       [ 0.00018446,  0.00028694,  0.00154501, ...,  0.00626483,\n",
        "         0.00162906,  0.00047502],\n",
        "       [ 0.00017326,  0.00027027,  0.00147713, ...,  0.00596449,\n",
        "         0.00160913,  0.00048595],\n",
        "       ..., \n",
        "       [ 0.01120613,  0.00935041,  0.01306706, ...,  0.0016225 ,\n",
        "         0.0024358 ,  0.00252995],\n",
        "       [ 0.01274353,  0.00858775,  0.00952421, ...,  0.00154414,\n",
        "         0.00222476,  0.00227731],\n",
        "       [ 0.01293017,  0.00729207,  0.00633369, ...,  0.00150879,\n",
        "         0.00209225,  0.00210143]]),\n",
        "       array([[ 0.02453573,  0.01310713,  0.0028697 , ...,  0.0027893 ,\n",
        "         0.00138265,  0.00300533],\n",
        "       [ 0.02501014,  0.01329897,  0.00269062, ...,  0.00310567,\n",
        "         0.00143005,  0.00270468],\n",
        "       [ 0.02095407,  0.01105917,  0.00224709, ...,  0.00353888,\n",
        "         0.00150889,  0.00243746],\n",
        "       ..., \n",
        "       [ 0.01045287,  0.02224999,  0.01215004, ...,  0.00047894,\n",
        "         0.00084589,  0.00267503],\n",
        "       [ 0.01085272,  0.02331246,  0.01299246, ...,  0.00051776,\n",
        "         0.00088456,  0.00264198],\n",
        "       [ 0.01046411,  0.0232176 ,  0.01369361, ...,  0.00055467,\n",
        "         0.00092158,  0.00261722]]),\n",
        "       array([[ 0.02571441,  0.01605342,  0.00325388, ...,  0.00409856,\n",
        "         0.00207589,  0.00560291],\n",
        "       [ 0.03070334,  0.01895388,  0.00372031, ...,  0.00451197,\n",
        "         0.00198138,  0.00445277],\n",
        "       [ 0.03330546,  0.02054901,  0.00399797, ...,  0.00505883,\n",
        "         0.00196319,  0.00358714],\n",
        "       ..., \n",
        "       [ 0.00705691,  0.00931095,  0.00636117, ...,  0.00333903,\n",
        "         0.00495579,  0.00606957],\n",
        "       [ 0.00566518,  0.00721803,  0.00522314, ...,  0.00319687,\n",
        "         0.00514517,  0.00653428],\n",
        "       [ 0.00491539,  0.00614652,  0.00480818, ...,  0.00308222,\n",
        "         0.00533679,  0.00697606]]),\n",
        "       array([[ 0.00011914,  0.00020014,  0.00112914, ...,  0.0095237 ,\n",
        "         0.00253896,  0.00052423],\n",
        "       [ 0.00012905,  0.00018105,  0.00098098, ...,  0.00929632,\n",
        "         0.00247473,  0.00050768],\n",
        "       [ 0.00014988,  0.00016584,  0.00083759, ...,  0.00910997,\n",
        "         0.00243104,  0.0005026 ],\n",
        "       ..., \n",
        "       [ 0.00666237,  0.00380371,  0.00134627, ...,  0.00367324,\n",
        "         0.00237321,  0.00252791],\n",
        "       [ 0.00772324,  0.00503818,  0.00192754, ...,  0.00332299,\n",
        "         0.00214804,  0.00236719],\n",
        "       [ 0.00918696,  0.00660388,  0.00249362, ...,  0.00303802,\n",
        "         0.00197493,  0.00223113]]),\n",
        "       array([[ 0.00300818,  0.00402659,  0.00374514, ...,  0.01162899,\n",
        "         0.00549648,  0.00350687],\n",
        "       [ 0.002982  ,  0.00440818,  0.00413541, ...,  0.01359913,\n",
        "         0.00579125,  0.00338497],\n",
        "       [ 0.00325254,  0.00537973,  0.00481111, ...,  0.01578581,\n",
        "         0.00614717,  0.00327113],\n",
        "       ..., \n",
        "       [ 0.00952942,  0.01679351,  0.0098264 , ...,  0.00114676,\n",
        "         0.00096754,  0.00198078],\n",
        "       [ 0.01119026,  0.01832946,  0.0098028 , ...,  0.00113332,\n",
        "         0.00093069,  0.00185864],\n",
        "       [ 0.01162334,  0.0184629 ,  0.00967679, ...,  0.00112392,\n",
        "         0.00090736,  0.00175823]]),\n",
        "       array([[ 0.0013111 ,  0.00196316,  0.0030055 , ...,  0.00863417,\n",
        "         0.00438648,  0.0016611 ],\n",
        "       [ 0.00169129,  0.00230587,  0.00278075, ...,  0.00842844,\n",
        "         0.00444146,  0.00177447],\n",
        "       [ 0.00185937,  0.00238901,  0.00233613, ...,  0.00812488,\n",
        "         0.00447115,  0.00190988],\n",
        "       ..., \n",
        "       [ 0.00353458,  0.00183273,  0.00131488, ...,  0.00418219,\n",
        "         0.00563155,  0.00875141],\n",
        "       [ 0.00293229,  0.00197341,  0.00212912, ...,  0.00366085,\n",
        "         0.00556776,  0.00937529],\n",
        "       [ 0.00301864,  0.00259536,  0.00296575, ...,  0.0032172 ,\n",
        "         0.00547432,  0.0098229 ]]),\n",
        "       array([[ 0.00128762,  0.00158787,  0.00335028, ...,  0.01184648,\n",
        "         0.0052004 ,  0.00261209],\n",
        "       [ 0.00066774,  0.00169084,  0.00387117, ...,  0.01146232,\n",
        "         0.00531852,  0.00258346],\n",
        "       [ 0.00055532,  0.0018013 ,  0.00385137, ...,  0.01095123,\n",
        "         0.00538146,  0.00256933],\n",
        "       ..., \n",
        "       [ 0.02033804,  0.01008895,  0.00216917, ...,  0.00198244,\n",
        "         0.00155407,  0.00415176],\n",
        "       [ 0.03053629,  0.01507801,  0.00275639, ...,  0.00182823,\n",
        "         0.00142041,  0.00346923],\n",
        "       [ 0.0361328 ,  0.01787837,  0.00313276, ...,  0.00175766,\n",
        "         0.00134915,  0.00299113]]),\n",
        "       array([[ 0.00341593,  0.00317319,  0.0020687 , ...,  0.02146534,\n",
        "         0.00947326,  0.00432673],\n",
        "       [ 0.00279346,  0.00263302,  0.00184779, ...,  0.02246473,\n",
        "         0.00997219,  0.00443291],\n",
        "       [ 0.00199065,  0.00206955,  0.00198428, ...,  0.02300673,\n",
        "         0.01036   ,  0.00456822],\n",
        "       ..., \n",
        "       [ 0.00079827,  0.00112524,  0.00157285, ...,  0.00379584,\n",
        "         0.00193597,  0.00175859],\n",
        "       [ 0.00060698,  0.001206  ,  0.00200899, ...,  0.00361883,\n",
        "         0.00198069,  0.00185038],\n",
        "       [ 0.0006699 ,  0.00145247,  0.00247569, ...,  0.00346468,\n",
        "         0.00202668,  0.00191932]]),\n",
        "       array([[ 0.00300635,  0.00180512,  0.00055598, ...,  0.00358888,\n",
        "         0.00310915,  0.00226586],\n",
        "       [ 0.00460487,  0.00261636,  0.00067735, ...,  0.00398673,\n",
        "         0.00373716,  0.00271048],\n",
        "       [ 0.00570965,  0.0031249 ,  0.00074785, ...,  0.00438828,\n",
        "         0.00444222,  0.00324993],\n",
        "       ..., \n",
        "       [ 0.00742016,  0.00428492,  0.0018354 , ...,  0.00172507,\n",
        "         0.0015676 ,  0.00487272],\n",
        "       [ 0.01483189,  0.00766814,  0.00206118, ...,  0.0014798 ,\n",
        "         0.00142492,  0.0045561 ],\n",
        "       [ 0.02421046,  0.01243083,  0.00261841, ...,  0.00131337,\n",
        "         0.0013341 ,  0.00435441]]),\n",
        "       array([[ 0.00858278,  0.00901237,  0.00578699, ...,  0.01391482,\n",
        "         0.00935472,  0.00338619],\n",
        "       [ 0.00726008,  0.00780388,  0.00641826, ...,  0.01333974,\n",
        "         0.00889338,  0.0030367 ],\n",
        "       [ 0.00466333,  0.005458  ,  0.0068722 , ...,  0.01265379,\n",
        "         0.00833544,  0.00271088],\n",
        "       ..., \n",
        "       [ 0.01200018,  0.00992859,  0.00350096, ...,  0.00441212,\n",
        "         0.00214923,  0.00227597],\n",
        "       [ 0.00610551,  0.00596224,  0.00261858, ...,  0.00527518,\n",
        "         0.00253015,  0.00235522],\n",
        "       [ 0.00291709,  0.00338539,  0.00184971, ...,  0.00617639,\n",
        "         0.00292902,  0.00243924]]),\n",
        "       array([[ 0.00138303,  0.00351815,  0.00501414, ...,  0.00675997,\n",
        "         0.00477863,  0.00187898],\n",
        "       [ 0.00149708,  0.00435558,  0.00658725, ...,  0.00663721,\n",
        "         0.00458092,  0.00173024],\n",
        "       [ 0.00157199,  0.00517876,  0.00815644, ...,  0.00642854,\n",
        "         0.00438527,  0.00162541],\n",
        "       ..., \n",
        "       [ 0.0033528 ,  0.00938404,  0.01686609, ...,  0.00224484,\n",
        "         0.0019679 ,  0.00154976],\n",
        "       [ 0.00193751,  0.00672747,  0.01755291, ...,  0.00207638,\n",
        "         0.00195312,  0.00153791],\n",
        "       [ 0.00150397,  0.00606712,  0.0190514 , ...,  0.00194863,\n",
        "         0.00195428,  0.00153342]]),\n",
        "       array([[ 0.00043963,  0.00081092,  0.00275687, ...,  0.00583448,\n",
        "         0.00203417,  0.00071141],\n",
        "       [ 0.0004277 ,  0.00074302,  0.00245183, ...,  0.00545353,\n",
        "         0.0019086 ,  0.00072204],\n",
        "       [ 0.00045332,  0.00070504,  0.00219597, ...,  0.00511864,\n",
        "         0.0018091 ,  0.00074094],\n",
        "       ..., \n",
        "       [ 0.01099604,  0.00566147,  0.0042127 , ...,  0.00447549,\n",
        "         0.00617465,  0.00537693],\n",
        "       [ 0.01734593,  0.00728565,  0.00322151, ...,  0.00447469,\n",
        "         0.00578464,  0.00452025],\n",
        "       [ 0.02272324,  0.00821411,  0.00234042, ...,  0.0045449 ,\n",
        "         0.00557097,  0.00391659]]),\n",
        "       array([[ 0.00316051,  0.00196462,  0.00094706, ...,  0.00423015,\n",
        "         0.00183707,  0.00433836],\n",
        "       [ 0.00778932,  0.00423789,  0.00110717, ...,  0.00418952,\n",
        "         0.00176817,  0.00382125],\n",
        "       [ 0.01528297,  0.00789729,  0.00156937, ...,  0.00406734,\n",
        "         0.0016638 ,  0.00323621],\n",
        "       ..., \n",
        "       [ 0.00375056,  0.00425158,  0.00335747, ...,  0.01192353,\n",
        "         0.00366675,  0.00214777],\n",
        "       [ 0.00377203,  0.00402486,  0.00316479, ...,  0.01019473,\n",
        "         0.00322153,  0.001904  ],\n",
        "       [ 0.00327488,  0.00335306,  0.0029276 , ...,  0.00864945,\n",
        "         0.00281821,  0.00169134]]),\n",
        "       array([[ 0.00081624,  0.00212656,  0.00567539, ...,  0.01460032,\n",
        "         0.00833724,  0.00432138],\n",
        "       [ 0.0006817 ,  0.00221149,  0.00605917, ...,  0.01282326,\n",
        "         0.0077199 ,  0.00423528],\n",
        "       [ 0.00064699,  0.00227659,  0.00609935, ...,  0.01130464,\n",
        "         0.00720357,  0.00415866],\n",
        "       ..., \n",
        "       [ 0.00059853,  0.00083784,  0.00134954, ...,  0.00752569,\n",
        "         0.00391952,  0.00168099],\n",
        "       [ 0.00059719,  0.00052868,  0.00102721, ...,  0.00754995,\n",
        "         0.00401511,  0.00173206],\n",
        "       [ 0.00068531,  0.00047337,  0.0009505 , ...,  0.00751269,\n",
        "         0.00407902,  0.00177614]]),\n",
        "       array([[ 0.00472169,  0.00560284,  0.00395138, ...,  0.00646354,\n",
        "         0.00575341,  0.01426618],\n",
        "       [ 0.00555862,  0.00675308,  0.00501675, ...,  0.00574998,\n",
        "         0.00505824,  0.01213253],\n",
        "       [ 0.00758882,  0.00800414,  0.00572599, ...,  0.00496473,\n",
        "         0.00433116,  0.00999536],\n",
        "       ..., \n",
        "       [ 0.00482564,  0.00861457,  0.00630311, ...,  0.00580518,\n",
        "         0.0036187 ,  0.00310144],\n",
        "       [ 0.00663036,  0.01030648,  0.00689726, ...,  0.00552136,\n",
        "         0.00347118,  0.00284537],\n",
        "       [ 0.00954565,  0.01118567,  0.00683641, ...,  0.00522778,\n",
        "         0.00330265,  0.00257674]]),\n",
        "       array([[ 0.00199586,  0.00125034,  0.00164101, ...,  0.00765347,\n",
        "         0.00662089,  0.00391701],\n",
        "       [ 0.00199893,  0.00135187,  0.00170879, ...,  0.00813332,\n",
        "         0.00687479,  0.00380058],\n",
        "       [ 0.0018384 ,  0.00157885,  0.00199361, ...,  0.00869396,\n",
        "         0.0071796 ,  0.00371372],\n",
        "       ..., \n",
        "       [ 0.00156456,  0.00152342,  0.00156243, ...,  0.00523133,\n",
        "         0.00459822,  0.00299698],\n",
        "       [ 0.00144697,  0.00118355,  0.00186174, ...,  0.0053171 ,\n",
        "         0.00477872,  0.00306439],\n",
        "       [ 0.00145433,  0.00114226,  0.00255318, ...,  0.00538243,\n",
        "         0.00493541,  0.00312724]]),\n",
        "       array([[ 0.00070069,  0.00236757,  0.00565585, ...,  0.00368468,\n",
        "         0.00173192,  0.00054764],\n",
        "       [ 0.00060437,  0.00239142,  0.00650327, ...,  0.00363431,\n",
        "         0.00174561,  0.00056284],\n",
        "       [ 0.0005259 ,  0.00242753,  0.00711566, ...,  0.00358017,\n",
        "         0.00175552,  0.00058152],\n",
        "       ..., \n",
        "       [ 0.02254791,  0.02930727,  0.01004324, ...,  0.00282412,\n",
        "         0.00145841,  0.00324825],\n",
        "       [ 0.02290626,  0.03092897,  0.01085497, ...,  0.00288291,\n",
        "         0.00145326,  0.00307658],\n",
        "       [ 0.01959214,  0.02728838,  0.00989254, ...,  0.00299086,\n",
        "         0.00147093,  0.00294187]]),\n",
        "       array([[ 0.00072594,  0.00034287,  0.00014781, ...,  0.00708086,\n",
        "         0.00424912,  0.00775273],\n",
        "       [ 0.0011193 ,  0.00056891,  0.00018954, ...,  0.00741797,\n",
        "         0.00427332,  0.00776536],\n",
        "       [ 0.00273783,  0.00142217,  0.0003632 , ...,  0.00769134,\n",
        "         0.00418302,  0.007363  ],\n",
        "       ..., \n",
        "       [ 0.00733175,  0.00691339,  0.00249802, ...,  0.00383398,\n",
        "         0.00237984,  0.00276729],\n",
        "       [ 0.00605791,  0.0048558 ,  0.00177356, ...,  0.00401611,\n",
        "         0.00252479,  0.00277643],\n",
        "       [ 0.00565406,  0.00413399,  0.00159267, ...,  0.00421257,\n",
        "         0.00268764,  0.00280887]]),\n",
        "       array([[ 0.00100469,  0.00317151,  0.00523241, ...,  0.00442242,\n",
        "         0.00325563,  0.00140229],\n",
        "       [ 0.00122375,  0.00430525,  0.0066116 , ...,  0.00412442,\n",
        "         0.0034111 ,  0.0015417 ],\n",
        "       [ 0.0014566 ,  0.00557162,  0.0083104 , ...,  0.00391254,\n",
        "         0.00361913,  0.00170546],\n",
        "       ..., \n",
        "       [ 0.01939052,  0.00990477,  0.0020407 , ...,  0.00397981,\n",
        "         0.00555448,  0.0075129 ],\n",
        "       [ 0.01906756,  0.00986652,  0.00227053, ...,  0.0035729 ,\n",
        "         0.00520977,  0.00675379],\n",
        "       [ 0.01432002,  0.00762696,  0.00240681, ...,  0.00323951,\n",
        "         0.00490909,  0.00614737]]),\n",
        "       array([[ 0.00315202,  0.01192962,  0.01566819, ...,  0.00227681,\n",
        "         0.00088735,  0.00099907],\n",
        "       [ 0.00310152,  0.01172817,  0.01451825, ...,  0.00289875,\n",
        "         0.00112656,  0.00113788],\n",
        "       [ 0.0029663 ,  0.01073013,  0.01267664, ...,  0.00365457,\n",
        "         0.00143522,  0.00133131],\n",
        "       ..., \n",
        "       [ 0.00232513,  0.00426172,  0.00421418, ...,  0.00218919,\n",
        "         0.00188678,  0.00324313],\n",
        "       [ 0.00236178,  0.00519282,  0.00517404, ...,  0.00195598,\n",
        "         0.00169076,  0.00326711],\n",
        "       [ 0.00357138,  0.00742615,  0.00608831, ...,  0.00174834,\n",
        "         0.00151533,  0.0032723 ]]),\n",
        "       array([[ 0.00013806,  0.00013731,  0.00056834, ...,  0.00654752,\n",
        "         0.00493742,  0.00552022],\n",
        "       [ 0.00020225,  0.00016328,  0.00053696, ...,  0.00590123,\n",
        "         0.00487251,  0.00610431],\n",
        "       [ 0.00048328,  0.00029233,  0.00055419, ...,  0.0054127 ,\n",
        "         0.00477013,  0.00653708],\n",
        "       ..., \n",
        "       [ 0.00616757,  0.00379436,  0.00147658, ...,  0.00248786,\n",
        "         0.00274043,  0.00442302],\n",
        "       [ 0.0047925 ,  0.00328463,  0.00158268, ...,  0.00248732,\n",
        "         0.00270551,  0.00421173],\n",
        "       [ 0.00429808,  0.00325387,  0.00166054, ...,  0.00246257,\n",
        "         0.00264533,  0.00397567]]),\n",
        "       array([[ 0.00062435,  0.00020918,  0.00039021, ...,  0.0125107 ,\n",
        "         0.00466377,  0.00090114],\n",
        "       [ 0.00063883,  0.00021137,  0.00036203, ...,  0.01188272,\n",
        "         0.00444607,  0.00087979],\n",
        "       [ 0.00062067,  0.00021606,  0.00037119, ...,  0.01124413,\n",
        "         0.0042504 ,  0.00087088],\n",
        "       ..., \n",
        "       [ 0.00439581,  0.00153961,  0.00071762, ...,  0.01221634,\n",
        "         0.00754288,  0.00277992],\n",
        "       [ 0.00566096,  0.00180328,  0.00058457, ...,  0.0122951 ,\n",
        "         0.00773118,  0.00282983],\n",
        "       [ 0.00563308,  0.00164181,  0.00043772, ...,  0.01234454,\n",
        "         0.0079416 ,  0.00290422]]),\n",
        "       array([[ 0.01211967,  0.00966153,  0.0033774 , ...,  0.00829454,\n",
        "         0.00362617,  0.00259204],\n",
        "       [ 0.00746197,  0.00550437,  0.00232867, ...,  0.00989047,\n",
        "         0.00416187,  0.00230304],\n",
        "       [ 0.00515719,  0.00324657,  0.0016211 , ...,  0.01147569,\n",
        "         0.00471812,  0.00204703],\n",
        "       ..., \n",
        "       [ 0.00915898,  0.00691701,  0.00362746, ...,  0.00458179,\n",
        "         0.00153429,  0.00140837],\n",
        "       [ 0.01428228,  0.00906649,  0.00300438, ...,  0.00493081,\n",
        "         0.0016174 ,  0.00131257],\n",
        "       [ 0.01827397,  0.0115116 ,  0.00304283, ...,  0.0052798 ,\n",
        "         0.00170782,  0.00124008]]),\n",
        "       array([[ 0.01631224,  0.01788732,  0.00571217, ...,  0.00537553,\n",
        "         0.00160295,  0.00137412],\n",
        "       [ 0.01734922,  0.01958868,  0.00643648, ...,  0.00530164,\n",
        "         0.00163558,  0.00127486],\n",
        "       [ 0.01436366,  0.01695565,  0.00640532, ...,  0.00527555,\n",
        "         0.00167965,  0.00116997],\n",
        "       ..., \n",
        "       [ 0.00268291,  0.00175752,  0.0013035 , ...,  0.00554406,\n",
        "         0.00266983,  0.00361311],\n",
        "       [ 0.00162145,  0.00170813,  0.00173743, ...,  0.0052514 ,\n",
        "         0.00263319,  0.00356249],\n",
        "       [ 0.00228051,  0.00314882,  0.00251962, ...,  0.00486255,\n",
        "         0.00254815,  0.00346441]]),\n",
        "       array([[ 0.00105487,  0.00052887,  0.00060414, ...,  0.01521565,\n",
        "         0.01084719,  0.00437492],\n",
        "       [ 0.00163834,  0.00087466,  0.00069835, ...,  0.01567061,\n",
        "         0.0114008 ,  0.0045874 ],\n",
        "       [ 0.00233936,  0.00137073,  0.00087142, ...,  0.01608046,\n",
        "         0.01197731,  0.00482099],\n",
        "       ..., \n",
        "       [ 0.00130666,  0.00195384,  0.00527023, ...,  0.00402358,\n",
        "         0.00893337,  0.01028481],\n",
        "       [ 0.00067134,  0.00171861,  0.00675265, ...,  0.00383075,\n",
        "         0.0092183 ,  0.0106236 ],\n",
        "       [ 0.00042597,  0.00176198,  0.00860011, ...,  0.00368258,\n",
        "         0.00941504,  0.01083586]]),\n",
        "       array([[ 0.00015743,  0.00034221,  0.00184737, ...,  0.00757924,\n",
        "         0.00437331,  0.00333342],\n",
        "       [ 0.00022245,  0.00038627,  0.0019011 , ...,  0.00773326,\n",
        "         0.00494255,  0.00396729],\n",
        "       [ 0.00039029,  0.00046955,  0.00180983, ...,  0.0080449 ,\n",
        "         0.00567616,  0.00470015],\n",
        "       ..., \n",
        "       [ 0.00578145,  0.0042223 ,  0.00181503, ...,  0.00537455,\n",
        "         0.00315216,  0.00415144],\n",
        "       [ 0.0099406 ,  0.00734038,  0.00227047, ...,  0.00487054,\n",
        "         0.002859  ,  0.0039839 ],\n",
        "       [ 0.01352206,  0.01020645,  0.00285264, ...,  0.00443356,\n",
        "         0.00261173,  0.00381503]]),\n",
        "       array([[ 0.00016998,  0.00031939,  0.00171343, ...,  0.00803561,\n",
        "         0.00305267,  0.00075758],\n",
        "       [ 0.00016953,  0.00028963,  0.00155791, ...,  0.00768641,\n",
        "         0.00302852,  0.00077087],\n",
        "       [ 0.00019254,  0.0002842 ,  0.0013672 , ...,  0.00738711,\n",
        "         0.00304229,  0.00080945],\n",
        "       ..., \n",
        "       [ 0.00212475,  0.00430137,  0.00551388, ...,  0.00753511,\n",
        "         0.00184414,  0.00064086],\n",
        "       [ 0.00107233,  0.00298692,  0.0067543 , ...,  0.00703998,\n",
        "         0.00174494,  0.00054725],\n",
        "       [ 0.00062904,  0.00252018,  0.00827506, ...,  0.00659381,\n",
        "         0.00166174,  0.00047905]]),\n",
        "       array([[ 0.00318622,  0.01217908,  0.01860199, ...,  0.00706286,\n",
        "         0.0120155 ,  0.02495176],\n",
        "       [ 0.003266  ,  0.01134166,  0.01578687, ...,  0.00841799,\n",
        "         0.01273201,  0.025395  ],\n",
        "       [ 0.00321244,  0.01009232,  0.01317504, ...,  0.0100384 ,\n",
        "         0.01334111,  0.02510294],\n",
        "       ..., \n",
        "       [ 0.00834348,  0.00629793,  0.0024009 , ...,  0.00262415,\n",
        "         0.00142343,  0.00203373],\n",
        "       [ 0.00499342,  0.00413485,  0.00211784, ...,  0.00256969,\n",
        "         0.00140013,  0.00191922],\n",
        "       [ 0.00285353,  0.00235588,  0.00162858, ...,  0.0025548 ,\n",
        "         0.00139728,  0.00184883]]),\n",
        "       array([[ 0.0003464 ,  0.00066116,  0.00200273, ...,  0.00565613,\n",
        "         0.00297139,  0.00160722],\n",
        "       [ 0.00051388,  0.00096176,  0.00215684, ...,  0.00502831,\n",
        "         0.00292505,  0.00174935],\n",
        "       [ 0.00075118,  0.00137753,  0.00242734, ...,  0.00446652,\n",
        "         0.00289645,  0.00192317],\n",
        "       ..., \n",
        "       [ 0.00609437,  0.010852  ,  0.00677332, ...,  0.00134569,\n",
        "         0.00170372,  0.005819  ],\n",
        "       [ 0.00701483,  0.00873792,  0.00483511, ...,  0.00127356,\n",
        "         0.00157965,  0.00521793],\n",
        "       [ 0.01090236,  0.00784151,  0.00337108, ...,  0.00120686,\n",
        "         0.00146176,  0.00463573]]),\n",
        "       array([[ 0.00360267,  0.00210479,  0.00167395, ...,  0.00474363,\n",
        "         0.00225115,  0.00479457],\n",
        "       [ 0.00520777,  0.00337816,  0.00200185, ...,  0.00434579,\n",
        "         0.00213724,  0.00467675],\n",
        "       [ 0.00860765,  0.00573792,  0.00262868, ...,  0.00405116,\n",
        "         0.00204748,  0.00450443],\n",
        "       ..., \n",
        "       [ 0.00231771,  0.00227143,  0.00222881, ...,  0.00242032,\n",
        "         0.00227475,  0.00559628],\n",
        "       [ 0.00339136,  0.00337633,  0.00277609, ...,  0.00222058,\n",
        "         0.00220012,  0.00569624],\n",
        "       [ 0.0042179 ,  0.00410168,  0.00292303, ...,  0.00204253,\n",
        "         0.00211215,  0.00566052]]),\n",
        "       array([[ 0.00018481,  0.00020446,  0.00092514, ...,  0.0118499 ,\n",
        "         0.00555234,  0.00185104],\n",
        "       [ 0.00017575,  0.00018171,  0.00079048, ...,  0.01120429,\n",
        "         0.0057361 ,  0.00206617],\n",
        "       [ 0.00016221,  0.00016671,  0.00072296, ...,  0.01065916,\n",
        "         0.00601355,  0.00231435],\n",
        "       ..., \n",
        "       [ 0.00656926,  0.00284253,  0.00113154, ...,  0.00148225,\n",
        "         0.00143027,  0.00629047],\n",
        "       [ 0.00514496,  0.00333881,  0.00177882, ...,  0.00115891,\n",
        "         0.00130994,  0.00638429],\n",
        "       [ 0.00547208,  0.0054669 ,  0.00281866, ...,  0.00090743,\n",
        "         0.00121666,  0.00640736]]),\n",
        "       array([[ 0.00583066,  0.00448557,  0.00176319, ...,  0.00351929,\n",
        "         0.00380752,  0.00382682],\n",
        "       [ 0.00666607,  0.00543075,  0.00207097, ...,  0.00325449,\n",
        "         0.00345401,  0.00370474],\n",
        "       [ 0.00722702,  0.00635962,  0.00244989, ...,  0.00309862,\n",
        "         0.00314362,  0.00352172],\n",
        "       ..., \n",
        "       [ 0.00574985,  0.00430686,  0.00257419, ...,  0.00202705,\n",
        "         0.00136469,  0.00142755],\n",
        "       [ 0.00589308,  0.00450655,  0.00283654, ...,  0.0020568 ,\n",
        "         0.00144259,  0.00138591],\n",
        "       [ 0.00472796,  0.00396252,  0.00304295, ...,  0.0021264 ,\n",
        "         0.00154724,  0.00137584]]),\n",
        "       array([[ 0.01071073,  0.00341421,  0.00072522, ...,  0.00855542,\n",
        "         0.00366666,  0.00239964],\n",
        "       [ 0.00873621,  0.00286196,  0.00065873, ...,  0.00937512,\n",
        "         0.00385752,  0.00204218],\n",
        "       [ 0.00629133,  0.00226274,  0.0006174 , ...,  0.00996772,\n",
        "         0.00398671,  0.00173812],\n",
        "       ..., \n",
        "       [ 0.0001844 ,  0.00010887,  0.00029974, ...,  0.0102536 ,\n",
        "         0.00792064,  0.00250354],\n",
        "       [ 0.00017873,  0.00010927,  0.000312  , ...,  0.01050936,\n",
        "         0.00867901,  0.00279735],\n",
        "       [ 0.00017657,  0.00010878,  0.00031459, ...,  0.01084789,\n",
        "         0.00953562,  0.00315294]]),\n",
        "       array([[ 0.00267702,  0.00399956,  0.00354227, ...,  0.0038509 ,\n",
        "         0.004511  ,  0.01426887],\n",
        "       [ 0.00294632,  0.0037862 ,  0.00288585, ...,  0.00408652,\n",
        "         0.00426359,  0.01319211],\n",
        "       [ 0.00400657,  0.00403014,  0.0023977 , ...,  0.00444263,\n",
        "         0.0040099 ,  0.01184365],\n",
        "       ..., \n",
        "       [ 0.00154194,  0.00338685,  0.00503127, ...,  0.00663392,\n",
        "         0.00445315,  0.00227467],\n",
        "       [ 0.00106267,  0.00263536,  0.00454607, ...,  0.00673241,\n",
        "         0.00448451,  0.00217913],\n",
        "       [ 0.00081109,  0.00184354,  0.00363641, ...,  0.00673307,\n",
        "         0.00446715,  0.00208507]]),\n",
        "       array([[ 0.00039207,  0.00058428,  0.00150881, ...,  0.01643013,\n",
        "         0.0052135 ,  0.00151035],\n",
        "       [ 0.00031684,  0.00047787,  0.00166856, ...,  0.01495103,\n",
        "         0.00475815,  0.00137923],\n",
        "       [ 0.00025803,  0.00041343,  0.00180423, ...,  0.01337932,\n",
        "         0.00429043,  0.0012633 ],\n",
        "       ..., \n",
        "       [ 0.0200293 ,  0.0055003 ,  0.00086652, ...,  0.00285635,\n",
        "         0.00189114,  0.00389781],\n",
        "       [ 0.02223387,  0.00561133,  0.0008545 , ...,  0.00279967,\n",
        "         0.00158422,  0.00305108],\n",
        "       [ 0.02235027,  0.00536366,  0.00084051, ...,  0.00281244,\n",
        "         0.0013649 ,  0.00241071]]),\n",
        "       array([[ 0.00200024,  0.00172895,  0.00101942, ...,  0.0169405 ,\n",
        "         0.00442121,  0.00157064],\n",
        "       [ 0.00159371,  0.00113197,  0.00082757, ...,  0.01570246,\n",
        "         0.00419712,  0.00135927],\n",
        "       [ 0.00121895,  0.00086634,  0.0009926 , ...,  0.0138672 ,\n",
        "         0.00384743,  0.00118428],\n",
        "       ..., \n",
        "       [ 0.00259646,  0.00350775,  0.00197115, ...,  0.00719063,\n",
        "         0.00486539,  0.00351683],\n",
        "       [ 0.00377469,  0.00466795,  0.00226856, ...,  0.00787272,\n",
        "         0.00532168,  0.00369081],\n",
        "       [ 0.00483099,  0.00521444,  0.00217433, ...,  0.00828917,\n",
        "         0.00561552,  0.00377073]]),\n",
        "       array([[ 0.00111443,  0.00049449,  0.00073523, ...,  0.00690264,\n",
        "         0.00240531,  0.00077667],\n",
        "       [ 0.00162558,  0.00060931,  0.00054423, ...,  0.00740093,\n",
        "         0.00239883,  0.00072624],\n",
        "       [ 0.00185641,  0.00060824,  0.00035427, ...,  0.00790689,\n",
        "         0.00239389,  0.00067205],\n",
        "       ..., \n",
        "       [ 0.00388512,  0.00707047,  0.01853552, ...,  0.00187947,\n",
        "         0.00405364,  0.00365154],\n",
        "       [ 0.00377218,  0.00622024,  0.01639491, ...,  0.00178465,\n",
        "         0.00386046,  0.00331012],\n",
        "       [ 0.00390465,  0.00518442,  0.01354582, ...,  0.00172096,\n",
        "         0.00373196,  0.00306293]]),\n",
        "       array([[ 0.00117359,  0.0012236 ,  0.00319638, ...,  0.00423652,\n",
        "         0.00117274,  0.00052231],\n",
        "       [ 0.00078768,  0.00097607,  0.00351712, ...,  0.0034033 ,\n",
        "         0.00099871,  0.00053234],\n",
        "       [ 0.00050741,  0.00076938,  0.00317049, ...,  0.00277009,\n",
        "         0.00087448,  0.00057062],\n",
        "       ..., \n",
        "       [ 0.00584786,  0.01221143,  0.00890373, ...,  0.00104952,\n",
        "         0.00169416,  0.00286791],\n",
        "       [ 0.00601416,  0.01431375,  0.01096904, ...,  0.000984  ,\n",
        "         0.00154472,  0.00262808],\n",
        "       [ 0.00679158,  0.01657769,  0.01261581, ...,  0.00091797,\n",
        "         0.00139241,  0.00238823]]),\n",
        "       array([[ 0.00382077,  0.00512771,  0.00795586, ...,  0.00376631,\n",
        "         0.00119085,  0.00170023],\n",
        "       [ 0.004684  ,  0.00595612,  0.00724293, ...,  0.00311764,\n",
        "         0.00108337,  0.00172365],\n",
        "       [ 0.00442224,  0.00552435,  0.00596913, ...,  0.00266741,\n",
        "         0.00103676,  0.00184485],\n",
        "       ..., \n",
        "       [ 0.01130333,  0.01183122,  0.00601729, ...,  0.00485922,\n",
        "         0.00278086,  0.0032722 ],\n",
        "       [ 0.00995087,  0.01007133,  0.00538608, ...,  0.00472832,\n",
        "         0.00274019,  0.00318381],\n",
        "       [ 0.00761033,  0.00758371,  0.00530465, ...,  0.00458448,\n",
        "         0.00269812,  0.00312264]]),\n",
        "       array([[ 0.00297727,  0.00442035,  0.00265975, ...,  0.00142563,\n",
        "         0.00095985,  0.00183149],\n",
        "       [ 0.00386385,  0.00670608,  0.00378723, ...,  0.00120736,\n",
        "         0.00087469,  0.00183696],\n",
        "       [ 0.00553167,  0.01036697,  0.00543427, ...,  0.00105735,\n",
        "         0.00081293,  0.00180299],\n",
        "       ..., \n",
        "       [ 0.01048542,  0.00664707,  0.00267291, ...,  0.00165261,\n",
        "         0.00147426,  0.00217551],\n",
        "       [ 0.00802521,  0.0074183 ,  0.00351274, ...,  0.00148159,\n",
        "         0.00131259,  0.00203582],\n",
        "       [ 0.00776843,  0.00910993,  0.00431037, ...,  0.00134921,\n",
        "         0.00119566,  0.00193314]]),\n",
        "       array([[ 0.00189409,  0.00583626,  0.01113665, ...,  0.00164676,\n",
        "         0.0017255 ,  0.00126246],\n",
        "       [ 0.00192582,  0.00593252,  0.01095042, ...,  0.00170865,\n",
        "         0.00178352,  0.00129263],\n",
        "       [ 0.00199188,  0.00647654,  0.01096556, ...,  0.00176875,\n",
        "         0.00183281,  0.00132142],\n",
        "       ..., \n",
        "       [ 0.00908674,  0.01287165,  0.00679051, ...,  0.0047573 ,\n",
        "         0.00245448,  0.0046939 ],\n",
        "       [ 0.01205434,  0.01534845,  0.00649576, ...,  0.00518463,\n",
        "         0.00248017,  0.00415623],\n",
        "       [ 0.01484055,  0.0166119 ,  0.00595117, ...,  0.00553905,\n",
        "         0.00250345,  0.00369731]]),\n",
        "       array([[ 0.00111951,  0.00100186,  0.0011117 , ...,  0.00288624,\n",
        "         0.0016365 ,  0.00220295],\n",
        "       [ 0.00195704,  0.00166997,  0.00120742, ...,  0.00252733,\n",
        "         0.00162663,  0.0023951 ],\n",
        "       [ 0.00285931,  0.00250141,  0.00144478, ...,  0.00220193,\n",
        "         0.00158467,  0.00251271],\n",
        "       ..., \n",
        "       [ 0.00942155,  0.01883189,  0.01191878, ...,  0.00045822,\n",
        "         0.00072948,  0.00329769],\n",
        "       [ 0.00956746,  0.01988008,  0.01277786, ...,  0.00042788,\n",
        "         0.0007198 ,  0.00328805],\n",
        "       [ 0.0095555 ,  0.0204847 ,  0.01361517, ...,  0.00041457,\n",
        "         0.00071677,  0.00328385]]),\n",
        "       array([[ 0.00545419,  0.00412635,  0.0027738 , ...,  0.01198272,\n",
        "         0.00891483,  0.00687292],\n",
        "       [ 0.00867562,  0.00612455,  0.00249975, ...,  0.01198126,\n",
        "         0.00898944,  0.00630514],\n",
        "       [ 0.01086707,  0.00754323,  0.00239543, ...,  0.01165347,\n",
        "         0.00886681,  0.00562591],\n",
        "       ..., \n",
        "       [ 0.00081968,  0.00040928,  0.0005383 , ...,  0.00370351,\n",
        "         0.00389805,  0.01097089],\n",
        "       [ 0.00085939,  0.00052053,  0.00062714, ...,  0.00324648,\n",
        "         0.0037036 ,  0.01032474],\n",
        "       [ 0.00198195,  0.00123907,  0.00078894, ...,  0.00280392,\n",
        "         0.00342372,  0.00937891]]),\n",
        "       array([[ 0.0002736 ,  0.00077695,  0.00197118, ...,  0.0066533 ,\n",
        "         0.00291702,  0.00087139],\n",
        "       [ 0.00034009,  0.00095332,  0.00204601, ...,  0.00624643,\n",
        "         0.0029534 ,  0.00092338],\n",
        "       [ 0.00039985,  0.00103271,  0.00201744, ...,  0.00590705,\n",
        "         0.0030217 ,  0.0009925 ],\n",
        "       ..., \n",
        "       [ 0.00661693,  0.01255919,  0.00953974, ...,  0.00247853,\n",
        "         0.00225671,  0.00728304],\n",
        "       [ 0.00498415,  0.01031309,  0.00925164, ...,  0.00251006,\n",
        "         0.00240517,  0.00797414],\n",
        "       [ 0.00415225,  0.0088184 ,  0.00845048, ...,  0.00251963,\n",
        "         0.00252876,  0.00854038]]),\n",
        "       array([[ 0.00193851,  0.00518768,  0.01053225, ...,  0.00717908,\n",
        "         0.0058294 ,  0.00554298],\n",
        "       [ 0.00163309,  0.00462601,  0.0105597 , ...,  0.00692668,\n",
        "         0.00525579,  0.00534124],\n",
        "       [ 0.00198141,  0.00473463,  0.00977962, ...,  0.00662317,\n",
        "         0.00467042,  0.0050533 ],\n",
        "       ..., \n",
        "       [ 0.00982368,  0.00502584,  0.00400625, ...,  0.00311598,\n",
        "         0.00447426,  0.00500785],\n",
        "       [ 0.01090541,  0.00479683,  0.0033848 , ...,  0.00315422,\n",
        "         0.00423172,  0.00454513],\n",
        "       [ 0.01147916,  0.00426702,  0.00271906, ...,  0.00319167,\n",
        "         0.00404705,  0.00418242]]),\n",
        "       array([[ 0.00986655,  0.00928898,  0.00445707, ...,  0.00317343,\n",
        "         0.00166785,  0.00142547],\n",
        "       [ 0.00721432,  0.00843232,  0.00453244, ...,  0.00388836,\n",
        "         0.00191705,  0.00141086],\n",
        "       [ 0.00502677,  0.00695663,  0.00426164, ...,  0.00468009,\n",
        "         0.00221291,  0.00145972],\n",
        "       ..., \n",
        "       [ 0.00567969,  0.00367577,  0.00143923, ...,  0.00271386,\n",
        "         0.00230762,  0.00253497],\n",
        "       [ 0.00507941,  0.00385348,  0.00196142, ...,  0.00236053,\n",
        "         0.00213041,  0.00259311],\n",
        "       [ 0.00481162,  0.00481831,  0.00334556, ...,  0.00207824,\n",
        "         0.00200866,  0.00268275]]),\n",
        "       array([[ 0.00180677,  0.00232224,  0.00190442, ...,  0.00512327,\n",
        "         0.0031081 ,  0.0018494 ],\n",
        "       [ 0.00206002,  0.00238952,  0.00173126, ...,  0.00447461,\n",
        "         0.00271624,  0.00184169],\n",
        "       [ 0.00227404,  0.00254344,  0.00168298, ...,  0.0039477 ,\n",
        "         0.00242462,  0.00186075],\n",
        "       ..., \n",
        "       [ 0.00083836,  0.00144771,  0.00197578, ...,  0.00485483,\n",
        "         0.00206546,  0.0018369 ],\n",
        "       [ 0.0014698 ,  0.00231505,  0.00216919, ...,  0.00511102,\n",
        "         0.00213389,  0.00179764],\n",
        "       [ 0.00208771,  0.00307537,  0.00219235, ...,  0.00534465,\n",
        "         0.00219188,  0.00174658]]),\n",
        "       array([[ 0.00059565,  0.00053691,  0.00073235, ...,  0.00263501,\n",
        "         0.00196966,  0.00125335],\n",
        "       [ 0.00047794,  0.00049355,  0.00092092, ...,  0.00264731,\n",
        "         0.00217014,  0.00137399],\n",
        "       [ 0.00041067,  0.00053577,  0.00123888, ...,  0.00268067,\n",
        "         0.00235447,  0.00146659],\n",
        "       ..., \n",
        "       [ 0.00251862,  0.00664805,  0.00764572, ...,  0.00919996,\n",
        "         0.00568438,  0.00389474],\n",
        "       [ 0.00194284,  0.00545047,  0.00682296, ...,  0.00902552,\n",
        "         0.00599756,  0.00398692],\n",
        "       [ 0.00154535,  0.0046503 ,  0.00621229, ...,  0.00861297,\n",
        "         0.00610572,  0.0039754 ]]),\n",
        "       array([[ 0.00010482,  0.00031822,  0.00183436, ...,  0.01639927,\n",
        "         0.00375603,  0.0012406 ],\n",
        "       [ 0.00010131,  0.00029855,  0.00179216, ...,  0.0138297 ,\n",
        "         0.00332685,  0.00115354],\n",
        "       [ 0.00012137,  0.00031867,  0.00193663, ...,  0.01143957,\n",
        "         0.00292297,  0.00107701],\n",
        "       ..., \n",
        "       [ 0.00089428,  0.00070392,  0.0006553 , ...,  0.0096526 ,\n",
        "         0.00282965,  0.0007784 ],\n",
        "       [ 0.00156122,  0.00176684,  0.00124126, ...,  0.00928483,\n",
        "         0.00270754,  0.00073176],\n",
        "       [ 0.00277167,  0.00379072,  0.00233858, ...,  0.00886421,\n",
        "         0.00258591,  0.00069204]]),\n",
        "       array([[ 0.00030346,  0.00088215,  0.00416849, ...,  0.0086913 ,\n",
        "         0.00370829,  0.00137805],\n",
        "       [ 0.00035755,  0.00077335,  0.00378609, ...,  0.0084351 ,\n",
        "         0.00361316,  0.0012919 ],\n",
        "       [ 0.00061407,  0.00087705,  0.00337772, ...,  0.00826295,\n",
        "         0.00355576,  0.00122445],\n",
        "       ..., \n",
        "       [ 0.00645951,  0.00960301,  0.00454457, ...,  0.00317206,\n",
        "         0.00206727,  0.00171661],\n",
        "       [ 0.00439686,  0.00655328,  0.00340278, ...,  0.00311204,\n",
        "         0.00208469,  0.00176367],\n",
        "       [ 0.00325986,  0.00482035,  0.00280424, ...,  0.00307965,\n",
        "         0.00212454,  0.00182366]]),\n",
        "       array([[ 0.00582944,  0.01040883,  0.00530692, ...,  0.00887312,\n",
        "         0.00281482,  0.00125694],\n",
        "       [ 0.00507911,  0.00929253,  0.0052706 , ...,  0.0074248 ,\n",
        "         0.00235666,  0.0010481 ],\n",
        "       [ 0.00386921,  0.00718722,  0.00491451, ...,  0.00598991,\n",
        "         0.00193543,  0.00087003],\n",
        "       ..., \n",
        "       [ 0.00952774,  0.01553043,  0.00733238, ...,  0.00556354,\n",
        "         0.00312484,  0.00234072],\n",
        "       [ 0.01053109,  0.01765364,  0.00840486, ...,  0.00612961,\n",
        "         0.00333874,  0.00235975],\n",
        "       [ 0.01062003,  0.01796379,  0.00862928, ...,  0.00665613,\n",
        "         0.00355514,  0.00239383]]),\n",
        "       array([[ 0.00161102,  0.00401963,  0.00339836, ...,  0.00151788,\n",
        "         0.00107932,  0.00238096],\n",
        "       [ 0.00159005,  0.00418703,  0.00376851, ...,  0.00144522,\n",
        "         0.00108969,  0.00266512],\n",
        "       [ 0.00158324,  0.00410722,  0.00392613, ...,  0.00138852,\n",
        "         0.00110307,  0.00292284],\n",
        "       ..., \n",
        "       [ 0.00288251,  0.00876796,  0.00961619, ...,  0.0065396 ,\n",
        "         0.00346716,  0.00336617],\n",
        "       [ 0.00286803,  0.00732634,  0.00680167, ...,  0.00711537,\n",
        "         0.00362736,  0.00315642],\n",
        "       [ 0.00259301,  0.00521288,  0.00425438, ...,  0.00764389,\n",
        "         0.00376395,  0.00295542]]),\n",
        "       array([[ 0.00205883,  0.0027097 ,  0.00416727, ...,  0.00579282,\n",
        "         0.00340008,  0.00245978],\n",
        "       [ 0.00208939,  0.00268825,  0.004051  , ...,  0.00607172,\n",
        "         0.00358293,  0.00247203],\n",
        "       [ 0.00256566,  0.00317547,  0.00407271, ...,  0.00628344,\n",
        "         0.00375775,  0.00248922],\n",
        "       ..., \n",
        "       [ 0.00365377,  0.00522108,  0.004438  , ...,  0.00336761,\n",
        "         0.00383846,  0.004823  ],\n",
        "       [ 0.00401932,  0.00560291,  0.00461085, ...,  0.00336899,\n",
        "         0.00405093,  0.00509058],\n",
        "       [ 0.00478763,  0.00593782,  0.00451163, ...,  0.00335691,\n",
        "         0.00424797,  0.00534935]]),\n",
        "       array([[ 0.0029899 ,  0.00822926,  0.008688  , ...,  0.00607494,\n",
        "         0.00424424,  0.00176812],\n",
        "       [ 0.00278604,  0.008163  ,  0.00885884, ...,  0.00595342,\n",
        "         0.00420469,  0.00172266],\n",
        "       [ 0.00258694,  0.0078785 ,  0.00885904, ...,  0.00580177,\n",
        "         0.00414966,  0.00168649],\n",
        "       ..., \n",
        "       [ 0.00347453,  0.00345935,  0.00262572, ...,  0.00351834,\n",
        "         0.00125256,  0.00113137],\n",
        "       [ 0.00233001,  0.0028062 ,  0.00321692, ...,  0.00370203,\n",
        "         0.00121841,  0.00096053],\n",
        "       [ 0.0016059 ,  0.00255124,  0.00377873, ...,  0.00384784,\n",
        "         0.00117401,  0.00080739]]),\n",
        "       array([[ 0.00019345,  0.00024883,  0.00121338, ...,  0.01104375,\n",
        "         0.0045345 ,  0.00097493],\n",
        "       [ 0.00018008,  0.00021795,  0.00101358, ...,  0.01086358,\n",
        "         0.00466226,  0.00099882],\n",
        "       [ 0.00020561,  0.00023828,  0.00095046, ...,  0.01084603,\n",
        "         0.00483693,  0.00103478],\n",
        "       ..., \n",
        "       [ 0.0018221 ,  0.00162766,  0.00270724, ...,  0.00545336,\n",
        "         0.00169862,  0.0014126 ],\n",
        "       [ 0.00105671,  0.00116223,  0.00274753, ...,  0.00479148,\n",
        "         0.00161338,  0.00139652],\n",
        "       [ 0.00092376,  0.00117437,  0.00261992, ...,  0.0043022 ,\n",
        "         0.0015802 ,  0.00141881]]),\n",
        "       array([[ 0.00179333,  0.00404421,  0.0038349 , ...,  0.00281006,\n",
        "         0.00127098,  0.0026675 ],\n",
        "       [ 0.00266629,  0.0057118 ,  0.00470397, ...,  0.002659  ,\n",
        "         0.00125449,  0.00292094],\n",
        "       [ 0.00350417,  0.00749728,  0.00586598, ...,  0.00262002,\n",
        "         0.00124155,  0.00308368],\n",
        "       ..., \n",
        "       [ 0.01709125,  0.01775877,  0.00515563, ...,  0.0063944 ,\n",
        "         0.0034299 ,  0.00275037],\n",
        "       [ 0.01282298,  0.0137806 ,  0.00435996, ...,  0.00729552,\n",
        "         0.0038996 ,  0.00270544],\n",
        "       [ 0.0082827 ,  0.00931495,  0.00349855, ...,  0.00814277,\n",
        "         0.00435474,  0.00268882]]),\n",
        "       array([[ 0.00278125,  0.002935  ,  0.00307952, ...,  0.0056883 ,\n",
        "         0.00209522,  0.00564886],\n",
        "       [ 0.00487957,  0.00452173,  0.00331956, ...,  0.00565758,\n",
        "         0.00207476,  0.00548301],\n",
        "       [ 0.00658512,  0.00558938,  0.00339941, ...,  0.00564673,\n",
        "         0.00204019,  0.00521591],\n",
        "       ..., \n",
        "       [ 0.00807511,  0.00604615,  0.00216243, ...,  0.00185598,\n",
        "         0.00177568,  0.00413012],\n",
        "       [ 0.01086624,  0.007765  ,  0.0021637 , ...,  0.00190015,\n",
        "         0.00182962,  0.00400656],\n",
        "       [ 0.01365808,  0.00960876,  0.00240599, ...,  0.00196463,\n",
        "         0.00188573,  0.00386465]]),\n",
        "       array([[ 0.00689392,  0.00897934,  0.00679252, ...,  0.00570436,\n",
        "         0.00174097,  0.00259004],\n",
        "       [ 0.0087806 ,  0.00936597,  0.00616058, ...,  0.00552675,\n",
        "         0.00172943,  0.00267176],\n",
        "       [ 0.00991864,  0.00978699,  0.00552263, ...,  0.00528394,\n",
        "         0.00170479,  0.00276271],\n",
        "       ..., \n",
        "       [ 0.00461185,  0.00312344,  0.00211334, ...,  0.00540163,\n",
        "         0.00774106,  0.00549616],\n",
        "       [ 0.00447941,  0.00304037,  0.00243956, ...,  0.00523398,\n",
        "         0.00758792,  0.00522846],\n",
        "       [ 0.00490686,  0.00339596,  0.0029256 , ...,  0.00509134,\n",
        "         0.00746226,  0.00500858]]),\n",
        "       array([[ 0.00841327,  0.01632203,  0.01202273, ...,  0.00445309,\n",
        "         0.00250343,  0.00245879],\n",
        "       [ 0.00768305,  0.01557447,  0.01184148, ...,  0.0046381 ,\n",
        "         0.00249335,  0.00244838],\n",
        "       [ 0.00704963,  0.01412269,  0.0105746 , ...,  0.00479917,\n",
        "         0.00248398,  0.002477  ],\n",
        "       ..., \n",
        "       [ 0.01816085,  0.02263368,  0.00831592, ...,  0.0026293 ,\n",
        "         0.00309404,  0.00380011],\n",
        "       [ 0.02029573,  0.02679101,  0.00987631, ...,  0.002735  ,\n",
        "         0.00339699,  0.00390465],\n",
        "       [ 0.02152378,  0.02888953,  0.01050607, ...,  0.00287923,\n",
        "         0.00372636,  0.00406127]]),\n",
        "       array([[ 0.00230848,  0.00163935,  0.0018372 , ...,  0.01470866,\n",
        "         0.00431354,  0.00162025],\n",
        "       [ 0.00148117,  0.00124554,  0.00181921, ...,  0.01270446,\n",
        "         0.00372212,  0.00147689],\n",
        "       [ 0.00105236,  0.00101601,  0.0017926 , ...,  0.01103099,\n",
        "         0.00323836,  0.00138369],\n",
        "       ..., \n",
        "       [ 0.01654317,  0.01975857,  0.0061517 , ...,  0.0028527 ,\n",
        "         0.00233441,  0.00723858],\n",
        "       [ 0.01665699,  0.02032314,  0.00638411, ...,  0.00285438,\n",
        "         0.00240606,  0.00746982],\n",
        "       [ 0.01511322,  0.01904062,  0.00619529, ...,  0.00283319,\n",
        "         0.0024583 ,  0.00765369]]),\n",
        "       array([[ 0.00375672,  0.00492836,  0.00355161, ...,  0.00752145,\n",
        "         0.00247276,  0.00119991],\n",
        "       [ 0.00256316,  0.00337653,  0.0033619 , ...,  0.00710689,\n",
        "         0.00237394,  0.00112982],\n",
        "       [ 0.0013962 ,  0.00201531,  0.00357421, ...,  0.00674538,\n",
        "         0.00235157,  0.00109695],\n",
        "       ..., \n",
        "       [ 0.00580156,  0.00441788,  0.00205556, ...,  0.00464911,\n",
        "         0.00527425,  0.01042678],\n",
        "       [ 0.00918131,  0.0054314 ,  0.00191041, ...,  0.00463378,\n",
        "         0.00555376,  0.01089211],\n",
        "       [ 0.01198145,  0.0060355 ,  0.00171465, ...,  0.00453999,\n",
        "         0.00571705,  0.0111067 ]]),\n",
        "       array([[ 0.00169622,  0.00408607,  0.00832832, ...,  0.01024876,\n",
        "         0.0038675 ,  0.0019336 ],\n",
        "       [ 0.00232738,  0.00481674,  0.00802076, ...,  0.01018248,\n",
        "         0.00349873,  0.00156214],\n",
        "       [ 0.0025134 ,  0.00469586,  0.00715012, ...,  0.00994937,\n",
        "         0.00315022,  0.0012469 ],\n",
        "       ..., \n",
        "       [ 0.00242714,  0.00313498,  0.00583387, ...,  0.00573379,\n",
        "         0.00743631,  0.00825977],\n",
        "       [ 0.00296673,  0.00320013,  0.00456627, ...,  0.00554079,\n",
        "         0.00814214,  0.0090853 ],\n",
        "       [ 0.00315404,  0.00320966,  0.00408251, ...,  0.00546031,\n",
        "         0.0088962 ,  0.00990564]]),\n",
        "       array([[ 0.00056594,  0.00088645,  0.00134072, ...,  0.00544956,\n",
        "         0.00329278,  0.00234409],\n",
        "       [ 0.00094987,  0.00160025,  0.00174493, ...,  0.00550358,\n",
        "         0.00367448,  0.00254196],\n",
        "       [ 0.00136734,  0.00263691,  0.00251723, ...,  0.00569275,\n",
        "         0.00411702,  0.00269195],\n",
        "       ..., \n",
        "       [ 0.00085988,  0.0030989 ,  0.00879008, ...,  0.00254491,\n",
        "         0.00267984,  0.00533907],\n",
        "       [ 0.00072488,  0.00211209,  0.00697257, ...,  0.00241558,\n",
        "         0.00268693,  0.00561675],\n",
        "       [ 0.00092286,  0.00160359,  0.00537184, ...,  0.0022744 ,\n",
        "         0.0026523 ,  0.00575232]]),\n",
        "       array([[ 0.01036433,  0.00575388,  0.00167581, ...,  0.00541543,\n",
        "         0.00152166,  0.00148635],\n",
        "       [ 0.00574092,  0.00342765,  0.00156205, ...,  0.00548312,\n",
        "         0.0015292 ,  0.0015092 ],\n",
        "       [ 0.00271952,  0.00189404,  0.00154131, ...,  0.00549065,\n",
        "         0.00153595,  0.00155533],\n",
        "       ..., \n",
        "       [ 0.01393209,  0.02080586,  0.00839508, ...,  0.00277244,\n",
        "         0.00131029,  0.00359859],\n",
        "       [ 0.01195401,  0.01807461,  0.00808391, ...,  0.00254814,\n",
        "         0.00127949,  0.00357422],\n",
        "       [ 0.00844184,  0.01323657,  0.00758836, ...,  0.0023781 ,\n",
        "         0.00127174,  0.00360113]]),\n",
        "       array([[ 0.00029303,  0.00126117,  0.00454507, ...,  0.01656151,\n",
        "         0.01082905,  0.00285545],\n",
        "       [ 0.00025579,  0.0013056 ,  0.00523926, ...,  0.01668647,\n",
        "         0.01068756,  0.00270626],\n",
        "       [ 0.00026565,  0.00150096,  0.00607767, ...,  0.01663738,\n",
        "         0.01047879,  0.00257273],\n",
        "       ..., \n",
        "       [ 0.00161386,  0.00303671,  0.00315378, ...,  0.00407031,\n",
        "         0.00998788,  0.00971221],\n",
        "       [ 0.0015676 ,  0.00368601,  0.00407706, ...,  0.00436123,\n",
        "         0.01109992,  0.01078154],\n",
        "       [ 0.00146461,  0.0041581 ,  0.00517428, ...,  0.00464581,\n",
        "         0.01214202,  0.01175984]]),\n",
        "       array([[ 0.0004083 ,  0.00132289,  0.00400177, ...,  0.00578098,\n",
        "         0.00225628,  0.00064323],\n",
        "       [ 0.00041498,  0.00176754,  0.00497464, ...,  0.00500237,\n",
        "         0.0020006 ,  0.0006017 ],\n",
        "       [ 0.00043269,  0.00208994,  0.00556956, ...,  0.00427976,\n",
        "         0.00175087,  0.00055671],\n",
        "       ..., \n",
        "       [ 0.00647105,  0.00510345,  0.00203245, ...,  0.00365418,\n",
        "         0.00230572,  0.0022129 ],\n",
        "       [ 0.00609143,  0.00493882,  0.00230378, ...,  0.0040615 ,\n",
        "         0.00247695,  0.00227731],\n",
        "       [ 0.00591856,  0.00461067,  0.00228839, ...,  0.00447767,\n",
        "         0.00265937,  0.00234494]]),\n",
        "       array([[ 0.0027532 ,  0.00325545,  0.0030532 , ...,  0.00246761,\n",
        "         0.00193843,  0.00103927],\n",
        "       [ 0.00191956,  0.0032483 ,  0.00431844, ...,  0.00225825,\n",
        "         0.00177587,  0.00092981],\n",
        "       [ 0.00153981,  0.00382807,  0.00625589, ...,  0.00204718,\n",
        "         0.00161503,  0.00083925],\n",
        "       ..., \n",
        "       [ 0.00053095,  0.00093489,  0.00155939, ...,  0.00870046,\n",
        "         0.00713006,  0.00564183],\n",
        "       [ 0.00062776,  0.00112304,  0.00188477, ...,  0.00797306,\n",
        "         0.00717977,  0.00572244],\n",
        "       [ 0.00076743,  0.0012508 ,  0.0022063 , ...,  0.00727075,\n",
        "         0.00711435,  0.00569443]]),\n",
        "       array([[ 0.00288658,  0.00143264,  0.00138354, ...,  0.0077532 ,\n",
        "         0.00431227,  0.00525489],\n",
        "       [ 0.00171174,  0.0009399 ,  0.00182326, ...,  0.00770475,\n",
        "         0.00450152,  0.00560644],\n",
        "       [ 0.00105424,  0.00072694,  0.00224217, ...,  0.0075206 ,\n",
        "         0.00456184,  0.00578072],\n",
        "       ..., \n",
        "       [ 0.00186407,  0.00508189,  0.0082581 , ...,  0.00191315,\n",
        "         0.0013793 ,  0.00266956],\n",
        "       [ 0.00177658,  0.00440992,  0.00681193, ...,  0.00191498,\n",
        "         0.00145436,  0.00278944],\n",
        "       [ 0.00293248,  0.00573768,  0.00590579, ...,  0.00189273,\n",
        "         0.00150811,  0.00287181]]),\n",
        "       array([[ 0.00232503,  0.00438634,  0.00353907, ...,  0.01190959,\n",
        "         0.00619775,  0.00198171],\n",
        "       [ 0.00193482,  0.0038554 ,  0.00328187, ...,  0.01253062,\n",
        "         0.00616044,  0.00179022],\n",
        "       [ 0.00166096,  0.00356525,  0.00326777, ...,  0.01300778,\n",
        "         0.00608042,  0.00161825],\n",
        "       ..., \n",
        "       [ 0.00068229,  0.00105939,  0.00135262, ...,  0.00126723,\n",
        "         0.00047197,  0.00026143],\n",
        "       [ 0.00038957,  0.00085792,  0.00140478, ...,  0.00095452,\n",
        "         0.00037183,  0.00021387],\n",
        "       [ 0.00027227,  0.00083481,  0.00159354, ...,  0.00071963,\n",
        "         0.00029635,  0.00017729]]),\n",
        "       array([[ 0.00416219,  0.00306045,  0.00132863, ...,  0.00560597,\n",
        "         0.00300456,  0.0042118 ],\n",
        "       [ 0.00423525,  0.00367821,  0.00184188, ...,  0.00560654,\n",
        "         0.00308368,  0.00498937],\n",
        "       [ 0.00414146,  0.00401796,  0.00231512, ...,  0.00560347,\n",
        "         0.00317189,  0.00589048],\n",
        "       ..., \n",
        "       [ 0.01888694,  0.0248029 ,  0.0102244 , ...,  0.00093369,\n",
        "         0.00101092,  0.00251989],\n",
        "       [ 0.02048145,  0.02434553,  0.00904032, ...,  0.00102453,\n",
        "         0.00106082,  0.0023744 ],\n",
        "       [ 0.01911609,  0.02174858,  0.00828503, ...,  0.00111786,\n",
        "         0.00111965,  0.00226373]]),\n",
        "       array([[ 0.00016798,  0.00022468,  0.00103773, ...,  0.0129944 ,\n",
        "         0.00371727,  0.00069323],\n",
        "       [ 0.00018929,  0.00021232,  0.00101073, ...,  0.01236704,\n",
        "         0.00345209,  0.0006212 ],\n",
        "       [ 0.00021704,  0.00021071,  0.00094795, ...,  0.01169375,\n",
        "         0.00320696,  0.00056473],\n",
        "       ..., \n",
        "       [ 0.0004764 ,  0.00093499,  0.00187553, ...,  0.00275684,\n",
        "         0.0013243 ,  0.00083575],\n",
        "       [ 0.00051444,  0.0009577 ,  0.0020497 , ...,  0.00235317,\n",
        "         0.0012489 ,  0.00087919],\n",
        "       [ 0.00058916,  0.00119947,  0.00272953, ...,  0.00203973,\n",
        "         0.00119458,  0.00092647]]),\n",
        "       array([[ 0.00050627,  0.000471  ,  0.00123328, ...,  0.00749784,\n",
        "         0.00225855,  0.00085118],\n",
        "       [ 0.00023818,  0.00031171,  0.00133793, ...,  0.0068132 ,\n",
        "         0.00210782,  0.00076234],\n",
        "       [ 0.00017482,  0.00028666,  0.00151094, ...,  0.00608891,\n",
        "         0.00197028,  0.00071419],\n",
        "       ..., \n",
        "       [ 0.00523043,  0.00786193,  0.00550993, ...,  0.00726513,\n",
        "         0.0038554 ,  0.00271604],\n",
        "       [ 0.00665688,  0.00897907,  0.00502079, ...,  0.00807957,\n",
        "         0.00433491,  0.00283604],\n",
        "       [ 0.00749822,  0.00936027,  0.0044484 , ...,  0.00865908,\n",
        "         0.00469356,  0.00289869]]),\n",
        "       array([[ 0.02665525,  0.02024127,  0.00465964, ...,  0.00883083,\n",
        "         0.00401699,  0.00366326],\n",
        "       [ 0.03039043,  0.02392708,  0.00578315, ...,  0.00923061,\n",
        "         0.00406524,  0.00308391],\n",
        "       [ 0.02817933,  0.02351713,  0.00629924, ...,  0.00962525,\n",
        "         0.00412831,  0.00261134],\n",
        "       ..., \n",
        "       [ 0.00317217,  0.00721095,  0.00729419, ...,  0.0005643 ,\n",
        "         0.00058418,  0.00181324],\n",
        "       [ 0.00350497,  0.00655665,  0.00609773, ...,  0.00051787,\n",
        "         0.00058838,  0.00189271],\n",
        "       [ 0.00463617,  0.00741668,  0.0061055 , ...,  0.00047468,\n",
        "         0.00058968,  0.00196416]]),\n",
        "       array([[ 0.03115686,  0.02369961,  0.00527235, ...,  0.00642445,\n",
        "         0.00530602,  0.00421453],\n",
        "       [ 0.03203323,  0.02548938,  0.00584816, ...,  0.00671347,\n",
        "         0.0052263 ,  0.00368426],\n",
        "       [ 0.02606127,  0.02164788,  0.00519594, ...,  0.00718659,\n",
        "         0.00536616,  0.00329848],\n",
        "       ..., \n",
        "       [ 0.0050033 ,  0.00660846,  0.00736804, ...,  0.00065196,\n",
        "         0.00121653,  0.00378805],\n",
        "       [ 0.00364862,  0.00639859,  0.00864582, ...,  0.0005968 ,\n",
        "         0.0011986 ,  0.00379563],\n",
        "       [ 0.00374996,  0.0075985 ,  0.00991909, ...,  0.00054575,\n",
        "         0.00117509,  0.00377158]]),\n",
        "       array([[ 0.00627842,  0.00324282,  0.0012062 , ...,  0.00299767,\n",
        "         0.00292411,  0.01126286],\n",
        "       [ 0.01214234,  0.00593873,  0.00144865, ...,  0.00298626,\n",
        "         0.00263785,  0.00913345],\n",
        "       [ 0.01910503,  0.00912981,  0.00177724, ...,  0.00305457,\n",
        "         0.00243918,  0.0073647 ],\n",
        "       ..., \n",
        "       [ 0.023618  ,  0.01785762,  0.00493586, ...,  0.00111511,\n",
        "         0.00120669,  0.00220059],\n",
        "       [ 0.02361853,  0.0196427 ,  0.00568429, ...,  0.00093652,\n",
        "         0.00099742,  0.00191677],\n",
        "       [ 0.02070384,  0.02011373,  0.00702201, ...,  0.00081463,\n",
        "         0.00085904,  0.00173134]]),\n",
        "       array([[ 0.00030178,  0.00031995,  0.00158316, ...,  0.01247093,\n",
        "         0.00321476,  0.00064282],\n",
        "       [ 0.00022948,  0.00032893,  0.00177736, ...,  0.0112927 ,\n",
        "         0.00284315,  0.00055233],\n",
        "       [ 0.0001884 ,  0.00035612,  0.00202419, ...,  0.01017522,\n",
        "         0.00251955,  0.00048551],\n",
        "       ..., \n",
        "       [ 0.00019425,  0.00067795,  0.00391461, ...,  0.00597149,\n",
        "         0.00246443,  0.00104772],\n",
        "       [ 0.00019363,  0.00068358,  0.00394847, ...,  0.00571556,\n",
        "         0.00259029,  0.00106131],\n",
        "       [ 0.00021309,  0.00072836,  0.00391205, ...,  0.00552107,\n",
        "         0.00273922,  0.00110101]]),\n",
        "       array([[ 0.0025792 ,  0.00271527,  0.00459099, ...,  0.01261994,\n",
        "         0.00507277,  0.00225414],\n",
        "       [ 0.00194938,  0.00267908,  0.00493659, ...,  0.01430931,\n",
        "         0.00548121,  0.00208221],\n",
        "       [ 0.00133922,  0.002404  ,  0.00465795, ...,  0.01593392,\n",
        "         0.00589364,  0.00192852],\n",
        "       ..., \n",
        "       [ 0.00509234,  0.00919761,  0.00668699, ...,  0.00054982,\n",
        "         0.00116612,  0.0038582 ],\n",
        "       [ 0.0044021 ,  0.00707937,  0.00542423, ...,  0.00057312,\n",
        "         0.00127225,  0.00415298],\n",
        "       [ 0.00540527,  0.00670462,  0.00435789, ...,  0.00059434,\n",
        "         0.00136287,  0.00438512]]),\n",
        "       array([[ 0.01288688,  0.01008576,  0.0032663 , ...,  0.00253801,\n",
        "         0.00153562,  0.001773  ],\n",
        "       [ 0.0124446 ,  0.01232248,  0.00456212, ...,  0.00243715,\n",
        "         0.00158017,  0.00183771],\n",
        "       [ 0.01148615,  0.01390522,  0.00593536, ...,  0.00243139,\n",
        "         0.00164961,  0.00189908],\n",
        "       ..., \n",
        "       [ 0.00243581,  0.00099776,  0.00059083, ...,  0.00114322,\n",
        "         0.00161508,  0.00154556],\n",
        "       [ 0.00207668,  0.00098982,  0.00074724, ...,  0.00120902,\n",
        "         0.00168123,  0.00145157],\n",
        "       [ 0.00178221,  0.00104948,  0.00096437, ...,  0.00129023,\n",
        "         0.00177297,  0.0013955 ]]),\n",
        "       array([[ 0.00742783,  0.00608836,  0.00371028, ...,  0.00535422,\n",
        "         0.0040503 ,  0.00209696],\n",
        "       [ 0.00470691,  0.00436144,  0.00357242, ...,  0.00588167,\n",
        "         0.00456108,  0.002111  ],\n",
        "       [ 0.00272226,  0.00305567,  0.00360367, ...,  0.00628457,\n",
        "         0.00497884,  0.00211299],\n",
        "       ..., \n",
        "       [ 0.00506501,  0.00885416,  0.00833463, ...,  0.00284715,\n",
        "         0.00157885,  0.00204031],\n",
        "       [ 0.00391584,  0.00803142,  0.0076318 , ...,  0.00266071,\n",
        "         0.00151852,  0.00201486],\n",
        "       [ 0.00331223,  0.00645096,  0.00562814, ...,  0.00249623,\n",
        "         0.00146952,  0.00199605]]),\n",
        "       array([[ 0.00229516,  0.00041149,  0.00014155, ...,  0.00804182,\n",
        "         0.00816745,  0.00739097],\n",
        "       [ 0.00199666,  0.00038387,  0.00014703, ...,  0.00819193,\n",
        "         0.00760052,  0.00693968],\n",
        "       [ 0.00180896,  0.00044061,  0.00017655, ...,  0.00830492,\n",
        "         0.00703897,  0.00634251],\n",
        "       ..., \n",
        "       [ 0.00363051,  0.0034503 ,  0.00127565, ...,  0.01475919,\n",
        "         0.00725215,  0.00529694],\n",
        "       [ 0.00520746,  0.00543741,  0.00191299, ...,  0.01470449,\n",
        "         0.00725912,  0.00506982],\n",
        "       [ 0.00727949,  0.00817152,  0.00281213, ...,  0.0141823 ,\n",
        "         0.00704126,  0.00473901]]),\n",
        "       array([[ 0.001293  ,  0.00209722,  0.00326641, ...,  0.01517306,\n",
        "         0.0033491 ,  0.00210065],\n",
        "       [ 0.00131028,  0.00206255,  0.00331523, ...,  0.01313883,\n",
        "         0.00301765,  0.0019866 ],\n",
        "       [ 0.00108658,  0.00182431,  0.00329286, ...,  0.01108736,\n",
        "         0.00268458,  0.00182997],\n",
        "       ..., \n",
        "       [ 0.01257667,  0.01777013,  0.0067234 , ...,  0.00500972,\n",
        "         0.00245102,  0.00222608],\n",
        "       [ 0.00901457,  0.01230552,  0.00480889, ...,  0.00529421,\n",
        "         0.00264887,  0.00211931],\n",
        "       [ 0.00547471,  0.00736719,  0.0032876 , ...,  0.00562393,\n",
        "         0.00287212,  0.00205045]]),\n",
        "       array([[ 0.0018133 ,  0.00776845,  0.01379567, ...,  0.00316065,\n",
        "         0.00323814,  0.00883748],\n",
        "       [ 0.00182726,  0.00698894,  0.01305065, ...,  0.0034017 ,\n",
        "         0.00314354,  0.00845483],\n",
        "       [ 0.00250253,  0.00740768,  0.01217496, ...,  0.00364649,\n",
        "         0.00299496,  0.0077741 ],\n",
        "       ..., \n",
        "       [ 0.00248909,  0.00314676,  0.00184901, ...,  0.01300809,\n",
        "         0.00634759,  0.00299702],\n",
        "       [ 0.00459043,  0.00570096,  0.00263016, ...,  0.0127398 ,\n",
        "         0.00622769,  0.00281063],\n",
        "       [ 0.00667378,  0.00854532,  0.00367136, ...,  0.01224556,\n",
        "         0.00600463,  0.00261074]]),\n",
        "       array([[ 0.01006428,  0.00493296,  0.00197118, ...,  0.00352085,\n",
        "         0.00205274,  0.00228376],\n",
        "       [ 0.00872404,  0.00429161,  0.00194024, ...,  0.00359211,\n",
        "         0.00207936,  0.00225781],\n",
        "       [ 0.00581092,  0.00307202,  0.00214928, ...,  0.00368596,\n",
        "         0.00211669,  0.00224042],\n",
        "       ..., \n",
        "       [ 0.007069  ,  0.00258481,  0.00124119, ...,  0.00072507,\n",
        "         0.00072866,  0.00103333],\n",
        "       [ 0.00426987,  0.00188151,  0.00127765, ...,  0.00076861,\n",
        "         0.00075104,  0.00099324],\n",
        "       [ 0.00296456,  0.00148766,  0.00124273, ...,  0.00082304,\n",
        "         0.00079022,  0.00097324]]),\n",
        "       array([[ 0.00368901,  0.00166912,  0.00059366, ...,  0.00786519,\n",
        "         0.00921222,  0.00658976],\n",
        "       [ 0.003219  ,  0.001092  ,  0.00038499, ...,  0.00811542,\n",
        "         0.00877821,  0.00659345],\n",
        "       [ 0.00307755,  0.00088503,  0.00035419, ...,  0.00835748,\n",
        "         0.00828872,  0.00664873],\n",
        "       ..., \n",
        "       [ 0.00272376,  0.00640901,  0.00794097, ...,  0.00131333,\n",
        "         0.00212582,  0.00852943],\n",
        "       [ 0.00371341,  0.0078062 ,  0.00786245, ...,  0.00130465,\n",
        "         0.00208712,  0.00847928],\n",
        "       [ 0.00566538,  0.00993558,  0.00762873, ...,  0.00128197,\n",
        "         0.00200575,  0.00817311]]),\n",
        "       array([[ 0.00115269,  0.00261157,  0.0065551 , ...,  0.00228051,\n",
        "         0.00131479,  0.00089433],\n",
        "       [ 0.00094207,  0.00281952,  0.00679059, ...,  0.00214758,\n",
        "         0.00129924,  0.0009387 ],\n",
        "       [ 0.00125513,  0.00375293,  0.00701141, ...,  0.00203104,\n",
        "         0.0012872 ,  0.00099586],\n",
        "       ..., \n",
        "       [ 0.00477068,  0.00512351,  0.00325633, ...,  0.00390261,\n",
        "         0.00243677,  0.0031879 ],\n",
        "       [ 0.00669872,  0.00712474,  0.00344162, ...,  0.00412352,\n",
        "         0.00256211,  0.00306542],\n",
        "       [ 0.0086236 ,  0.00930574,  0.00381714, ...,  0.00424627,\n",
        "         0.0026326 ,  0.00291322]]),\n",
        "       array([[ 0.00134699,  0.00231125,  0.005384  , ...,  0.00739414,\n",
        "         0.00451943,  0.00282222],\n",
        "       [ 0.00144881,  0.00186619,  0.00473556, ...,  0.00741379,\n",
        "         0.00450938,  0.00258748],\n",
        "       [ 0.00183804,  0.0018094 ,  0.00418956, ...,  0.00738397,\n",
        "         0.00447867,  0.00237522],\n",
        "       ..., \n",
        "       [ 0.00084115,  0.0022556 ,  0.00816395, ...,  0.00108218,\n",
        "         0.00186191,  0.00361124],\n",
        "       [ 0.00141607,  0.00344837,  0.00934332, ...,  0.00102841,\n",
        "         0.00184478,  0.00337101],\n",
        "       [ 0.00266605,  0.00511135,  0.00974656, ...,  0.00100562,\n",
        "         0.00184893,  0.00317476]]),\n",
        "       array([[ 0.00777177,  0.00538181,  0.00345071, ...,  0.00497851,\n",
        "         0.00362163,  0.00350202],\n",
        "       [ 0.0057258 ,  0.00416743,  0.00343213, ...,  0.0053817 ,\n",
        "         0.00370431,  0.00335744],\n",
        "       [ 0.00343993,  0.00289224,  0.00360712, ...,  0.0058174 ,\n",
        "         0.00378709,  0.00319658],\n",
        "       ..., \n",
        "       [ 0.00205545,  0.00384406,  0.00230171, ...,  0.00351226,\n",
        "         0.00155054,  0.00128255],\n",
        "       [ 0.00148661,  0.00273054,  0.00181843, ...,  0.00345592,\n",
        "         0.00162199,  0.00128416],\n",
        "       [ 0.00134633,  0.0022664 ,  0.00157734, ...,  0.00332322,\n",
        "         0.00166577,  0.00127438]]),\n",
        "       array([[ 0.00497508,  0.00917832,  0.0104821 , ...,  0.00398566,\n",
        "         0.00269508,  0.00354909],\n",
        "       [ 0.00554082,  0.00959824,  0.01060045, ...,  0.00434895,\n",
        "         0.00280989,  0.00351479],\n",
        "       [ 0.00613528,  0.00952031,  0.00988104, ...,  0.00466248,\n",
        "         0.00289736,  0.00340712],\n",
        "       ..., \n",
        "       [ 0.00298325,  0.00195095,  0.00119554, ...,  0.00141113,\n",
        "         0.0009377 ,  0.00143381],\n",
        "       [ 0.00363783,  0.00186024,  0.00084757, ...,  0.0014369 ,\n",
        "         0.00097128,  0.00129107],\n",
        "       [ 0.00363997,  0.00154782,  0.00055952, ...,  0.00148275,\n",
        "         0.00102605,  0.00118485]]),\n",
        "       array([[ 0.00014259,  0.00039959,  0.00235028, ...,  0.00811579,\n",
        "         0.00505914,  0.00208577],\n",
        "       [ 0.0001622 ,  0.00043966,  0.00263377, ...,  0.00784927,\n",
        "         0.00532344,  0.00229516],\n",
        "       [ 0.00018472,  0.00049078,  0.00288051, ...,  0.00754375,\n",
        "         0.00557204,  0.00249758],\n",
        "       ..., \n",
        "       [ 0.00766717,  0.00576322,  0.00271782, ...,  0.00407711,\n",
        "         0.00141296,  0.00112494],\n",
        "       [ 0.00453009,  0.00456391,  0.00271546, ...,  0.00403   ,\n",
        "         0.00141572,  0.00110024],\n",
        "       [ 0.00227948,  0.00300467,  0.00237039, ...,  0.00398765,\n",
        "         0.00143695,  0.00111503]]),\n",
        "       array([[ 0.00258896,  0.01054451,  0.0125722 , ...,  0.01622445,\n",
        "         0.00717505,  0.0020844 ],\n",
        "       [ 0.00211554,  0.00856675,  0.01038268, ...,  0.01539542,\n",
        "         0.00669623,  0.00189708],\n",
        "       [ 0.00164944,  0.00653335,  0.00830014, ...,  0.01415657,\n",
        "         0.00610015,  0.00169623],\n",
        "       ..., \n",
        "       [ 0.00126315,  0.00451695,  0.00695161, ...,  0.00453928,\n",
        "         0.00244182,  0.00185034],\n",
        "       [ 0.0014148 ,  0.00489383,  0.00726398, ...,  0.00507459,\n",
        "         0.00277426,  0.00194262],\n",
        "       [ 0.00207211,  0.00623195,  0.00809402, ...,  0.00549921,\n",
        "         0.00304845,  0.00200299]]),\n",
        "       array([[ 0.00674444,  0.00649943,  0.00561643, ...,  0.00179226,\n",
        "         0.00106443,  0.00103724],\n",
        "       [ 0.00416331,  0.00489377,  0.00558543, ...,  0.00217599,\n",
        "         0.00119724,  0.00096777],\n",
        "       [ 0.00365116,  0.00450556,  0.00509161, ...,  0.00263494,\n",
        "         0.00137172,  0.00092079],\n",
        "       ..., \n",
        "       [ 0.00661663,  0.00623265,  0.00256647, ...,  0.0140562 ,\n",
        "         0.00615799,  0.0024024 ],\n",
        "       [ 0.00535046,  0.00490788,  0.00223907, ...,  0.01401683,\n",
        "         0.0061343 ,  0.00230308],\n",
        "       [ 0.00360651,  0.00322522,  0.00185795, ...,  0.01409146,\n",
        "         0.00617668,  0.00225454]]),\n",
        "       array([[ 0.0227589 ,  0.02016408,  0.00651453, ...,  0.00138833,\n",
        "         0.00112664,  0.00329436],\n",
        "       [ 0.0185904 ,  0.01855659,  0.00685756, ...,  0.00165304,\n",
        "         0.00115646,  0.0030167 ],\n",
        "       [ 0.01579054,  0.01692016,  0.00672975, ...,  0.00199234,\n",
        "         0.00121698,  0.0027874 ],\n",
        "       ..., \n",
        "       [ 0.00891148,  0.00881111,  0.00335922, ...,  0.0040384 ,\n",
        "         0.00233712,  0.00277462],\n",
        "       [ 0.01070439,  0.01100979,  0.0039366 , ...,  0.00418974,\n",
        "         0.0024803 ,  0.00261164],\n",
        "       [ 0.01042601,  0.01129182,  0.00408113, ...,  0.00429192,\n",
        "         0.0025967 ,  0.00246025]]),\n",
        "       array([[ 0.00544056,  0.00427797,  0.00191103, ...,  0.00279764,\n",
        "         0.00164413,  0.00084526],\n",
        "       [ 0.00328983,  0.00298138,  0.00216666, ...,  0.00328284,\n",
        "         0.0020416 ,  0.00088922],\n",
        "       [ 0.00165882,  0.00194198,  0.00241483, ...,  0.00382592,\n",
        "         0.00251017,  0.00097584],\n",
        "       ..., \n",
        "       [ 0.00953776,  0.0093361 ,  0.00537457, ...,  0.00275491,\n",
        "         0.00186801,  0.002733  ],\n",
        "       [ 0.00579538,  0.00641378,  0.00469096, ...,  0.00272944,\n",
        "         0.00191267,  0.0027465 ],\n",
        "       [ 0.00317171,  0.00411072,  0.00370884, ...,  0.00270443,\n",
        "         0.00195962,  0.00277468]]),\n",
        "       array([[ 0.00223186,  0.005931  ,  0.01687774, ...,  0.0035566 ,\n",
        "         0.0025615 ,  0.00169143],\n",
        "       [ 0.00303573,  0.00662693,  0.01571295, ...,  0.00372833,\n",
        "         0.00287821,  0.00190227],\n",
        "       [ 0.00438982,  0.00756065,  0.01362697, ...,  0.00390968,\n",
        "         0.00327171,  0.0021791 ],\n",
        "       ..., \n",
        "       [ 0.00024386,  0.00024645,  0.0009847 , ...,  0.00786313,\n",
        "         0.00343478,  0.00269223],\n",
        "       [ 0.00028365,  0.00025072,  0.00095503, ...,  0.00720434,\n",
        "         0.00350142,  0.00303671],\n",
        "       [ 0.00032079,  0.00025258,  0.00087042, ...,  0.00671965,\n",
        "         0.00364958,  0.00345761]]),\n",
        "       array([[ 0.00641637,  0.00895051,  0.00495226, ...,  0.00610314,\n",
        "         0.00438643,  0.0025431 ],\n",
        "       [ 0.00721618,  0.00954033,  0.00474207, ...,  0.00664083,\n",
        "         0.00499269,  0.00272631],\n",
        "       [ 0.00730395,  0.0090333 ,  0.00439072, ...,  0.00713588,\n",
        "         0.00566934,  0.00295936],\n",
        "       ..., \n",
        "       [ 0.00460495,  0.00363344,  0.00190756, ...,  0.00198163,\n",
        "         0.00237879,  0.00403378],\n",
        "       [ 0.00318382,  0.00284011,  0.00193983, ...,  0.00210503,\n",
        "         0.00274995,  0.0044845 ],\n",
        "       [ 0.00180809,  0.00189324,  0.0018564 , ...,  0.00222584,\n",
        "         0.00314455,  0.00499954]]),\n",
        "       array([[ 0.002562  ,  0.00275084,  0.00265793, ...,  0.00268658,\n",
        "         0.00164684,  0.00245455],\n",
        "       [ 0.00180187,  0.00200219,  0.00228559, ...,  0.00307504,\n",
        "         0.00184303,  0.00247406],\n",
        "       [ 0.00209027,  0.00171416,  0.00186002, ...,  0.00360166,\n",
        "         0.00208367,  0.00244862],\n",
        "       ..., \n",
        "       [ 0.00283874,  0.00346436,  0.00250461, ...,  0.00152875,\n",
        "         0.00161525,  0.0024109 ],\n",
        "       [ 0.00272015,  0.00347376,  0.00252637, ...,  0.00158596,\n",
        "         0.00169084,  0.00247222],\n",
        "       [ 0.00278442,  0.00336725,  0.00227511, ...,  0.00164113,\n",
        "         0.00176327,  0.00253832]]),\n",
        "       array([[ 0.0003008 ,  0.00150172,  0.00765787, ...,  0.00280169,\n",
        "         0.00246439,  0.00206051],\n",
        "       [ 0.00029752,  0.00149704,  0.00745618, ...,  0.00269156,\n",
        "         0.00261227,  0.00232358],\n",
        "       [ 0.0003035 ,  0.0015734 ,  0.00724986, ...,  0.0026192 ,\n",
        "         0.0027649 ,  0.00263062],\n",
        "       ..., \n",
        "       [ 0.0098396 ,  0.01326938,  0.00533113, ...,  0.00393687,\n",
        "         0.00171287,  0.00196203],\n",
        "       [ 0.00707655,  0.00909403,  0.00397226, ...,  0.00405168,\n",
        "         0.00177512,  0.00183431],\n",
        "       [ 0.00417791,  0.00527216,  0.00284001, ...,  0.00411846,\n",
        "         0.00182646,  0.00172686]]),\n",
        "       array([[ 0.01165996,  0.01067214,  0.00513438, ...,  0.00318358,\n",
        "         0.00190588,  0.00197049],\n",
        "       [ 0.00901508,  0.00912719,  0.00489865, ...,  0.00368971,\n",
        "         0.00216834,  0.00173535],\n",
        "       [ 0.00658833,  0.00753162,  0.00432543, ...,  0.00427689,\n",
        "         0.00253531,  0.00159114],\n",
        "       ..., \n",
        "       [ 0.03037681,  0.01704283,  0.00324449, ...,  0.0012126 ,\n",
        "         0.00102694,  0.00243589],\n",
        "       [ 0.03291206,  0.01836702,  0.00339656, ...,  0.00109863,\n",
        "         0.00093659,  0.00217573],\n",
        "       [ 0.02839774,  0.01594905,  0.00298579, ...,  0.00104922,\n",
        "         0.00089168,  0.00198906]]),\n",
        "       array([[ 0.00542762,  0.00982117,  0.01042151, ...,  0.00238625,\n",
        "         0.00252616,  0.00386823],\n",
        "       [ 0.0075997 ,  0.01253221,  0.01078281, ...,  0.00262663,\n",
        "         0.0027356 ,  0.00392976],\n",
        "       [ 0.00848364,  0.01378658,  0.01132916, ...,  0.00290676,\n",
        "         0.00292308,  0.003911  ],\n",
        "       ..., \n",
        "       [ 0.00071648,  0.00041329,  0.00063041, ...,  0.00381728,\n",
        "         0.0018308 ,  0.00102365],\n",
        "       [ 0.00054863,  0.00033973,  0.00055928, ...,  0.00426954,\n",
        "         0.00204254,  0.00097427],\n",
        "       [ 0.00058921,  0.00041416,  0.00053637, ...,  0.00480439,\n",
        "         0.00229721,  0.00096621]]),\n",
        "       array([[ 0.00027933,  0.0006558 ,  0.0023345 , ...,  0.01066771,\n",
        "         0.00239196,  0.00172783],\n",
        "       [ 0.00021996,  0.0006732 ,  0.00301309, ...,  0.00909591,\n",
        "         0.00211579,  0.00153576],\n",
        "       [ 0.00023543,  0.00072369,  0.00361078, ...,  0.00797589,\n",
        "         0.00193616,  0.00137086],\n",
        "       ..., \n",
        "       [ 0.006228  ,  0.00637034,  0.00340734, ...,  0.00090768,\n",
        "         0.00096976,  0.00465026],\n",
        "       [ 0.00387354,  0.00426371,  0.00301706, ...,  0.00083402,\n",
        "         0.0010115 ,  0.00513749],\n",
        "       [ 0.00317709,  0.00408988,  0.00324362, ...,  0.00075742,\n",
        "         0.00104097,  0.00552081]]),\n",
        "       array([[ 0.00265252,  0.00189902,  0.00255628, ...,  0.00566988,\n",
        "         0.0031229 ,  0.00229891],\n",
        "       [ 0.00308121,  0.00179955,  0.00175491, ...,  0.00576728,\n",
        "         0.00318662,  0.00233049],\n",
        "       [ 0.00274123,  0.00147239,  0.00132036, ...,  0.00595238,\n",
        "         0.00324215,  0.00233156],\n",
        "       ..., \n",
        "       [ 0.00397391,  0.00264379,  0.00120231, ...,  0.00134086,\n",
        "         0.00114454,  0.00132026],\n",
        "       [ 0.00456048,  0.00305194,  0.00134365, ...,  0.00122615,\n",
        "         0.0011908 ,  0.0013636 ],\n",
        "       [ 0.00543486,  0.00364898,  0.00150342, ...,  0.00115399,\n",
        "         0.00124495,  0.00139152]]),\n",
        "       array([[ 0.00025761,  0.00058183,  0.00267971, ...,  0.00468453,\n",
        "         0.0010093 ,  0.00157175],\n",
        "       [ 0.00038765,  0.00065179,  0.00302617, ...,  0.00434182,\n",
        "         0.00093783,  0.0014218 ],\n",
        "       [ 0.00090089,  0.00097948,  0.00314472, ...,  0.00415961,\n",
        "         0.00089223,  0.00127215],\n",
        "       ..., \n",
        "       [ 0.00194725,  0.00524786,  0.00569105, ...,  0.00208571,\n",
        "         0.00275679,  0.00712836],\n",
        "       [ 0.00200953,  0.0036093 ,  0.00369452, ...,  0.00211074,\n",
        "         0.00292531,  0.00733023],\n",
        "       [ 0.00331673,  0.00351205,  0.00241513, ...,  0.00210083,\n",
        "         0.00302036,  0.00733533]]),\n",
        "       array([[ 0.00453968,  0.00480915,  0.00280819, ...,  0.00651935,\n",
        "         0.00296206,  0.00162386],\n",
        "       [ 0.00359045,  0.0036878 ,  0.0026705 , ...,  0.00789496,\n",
        "         0.00333093,  0.0016006 ],\n",
        "       [ 0.00255231,  0.00257234,  0.00240555, ...,  0.00930621,\n",
        "         0.00370113,  0.00160353],\n",
        "       ..., \n",
        "       [ 0.0213166 ,  0.019428  ,  0.00514969, ...,  0.00085243,\n",
        "         0.00085423,  0.0030199 ],\n",
        "       [ 0.02204849,  0.02335263,  0.00690362, ...,  0.00089216,\n",
        "         0.00085226,  0.00292124],\n",
        "       [ 0.02072401,  0.02535444,  0.00826426, ...,  0.00095457,\n",
        "         0.00087088,  0.0028691 ]]),\n",
        "       array([[ 0.01642426,  0.01336257,  0.00629207, ...,  0.00214922,\n",
        "         0.00200495,  0.00310678],\n",
        "       [ 0.0119682 ,  0.01404511,  0.00916423, ...,  0.00246849,\n",
        "         0.00200367,  0.00276902],\n",
        "       [ 0.00911459,  0.01535909,  0.01245393, ...,  0.00289158,\n",
        "         0.00209164,  0.0025198 ],\n",
        "       ..., \n",
        "       [ 0.00510997,  0.00770682,  0.00418088, ...,  0.01324645,\n",
        "         0.00480157,  0.00221312],\n",
        "       [ 0.00621158,  0.00828274,  0.00429319, ...,  0.01265705,\n",
        "         0.00461435,  0.00203479],\n",
        "       [ 0.00662438,  0.00803446,  0.00413673, ...,  0.01225833,\n",
        "         0.00449798,  0.00191036]]),\n",
        "       array([[ 0.00383608,  0.00753226,  0.00803714, ...,  0.00627569,\n",
        "         0.00463307,  0.00348521],\n",
        "       [ 0.00502147,  0.00855805,  0.0072437 , ...,  0.0064639 ,\n",
        "         0.00460112,  0.00339897],\n",
        "       [ 0.00554398,  0.00876425,  0.00702024, ...,  0.00662329,\n",
        "         0.0045511 ,  0.00329418],\n",
        "       ..., \n",
        "       [ 0.00171847,  0.0035594 ,  0.00373441, ...,  0.00256393,\n",
        "         0.00257865,  0.0020284 ],\n",
        "       [ 0.00136466,  0.00303516,  0.00350813, ...,  0.00269878,\n",
        "         0.00284187,  0.0020439 ],\n",
        "       [ 0.00119376,  0.0025097 ,  0.00317009, ...,  0.00287816,\n",
        "         0.00315627,  0.00210396]]),\n",
        "       array([[ 0.00431074,  0.00335667,  0.00189628, ...,  0.00491828,\n",
        "         0.002353  ,  0.00184796],\n",
        "       [ 0.00521663,  0.00378013,  0.00186366, ...,  0.00561904,\n",
        "         0.00233649,  0.00165086],\n",
        "       [ 0.00649968,  0.00445231,  0.00176317, ...,  0.00647929,\n",
        "         0.00235498,  0.0014654 ],\n",
        "       ..., \n",
        "       [ 0.00190585,  0.00153537,  0.00063972, ...,  0.00471907,\n",
        "         0.00564305,  0.01589881],\n",
        "       [ 0.0028069 ,  0.00181121,  0.00059382, ...,  0.00420261,\n",
        "         0.0056326 ,  0.01552365],\n",
        "       [ 0.0054592 ,  0.00295936,  0.0007209 , ...,  0.00364303,\n",
        "         0.00531887,  0.014207  ]]),\n",
        "       array([[ 0.00269998,  0.00680673,  0.01451097, ...,  0.00321813,\n",
        "         0.00222315,  0.00216588],\n",
        "       [ 0.00219264,  0.00713874,  0.0155031 , ...,  0.00371332,\n",
        "         0.00240781,  0.00213039],\n",
        "       [ 0.00230441,  0.00788206,  0.01491376, ...,  0.00425501,\n",
        "         0.00260393,  0.00207739],\n",
        "       ..., \n",
        "       [ 0.00306356,  0.00229796,  0.0016794 , ...,  0.00399951,\n",
        "         0.00305628,  0.00225916],\n",
        "       [ 0.0029471 ,  0.0021328 ,  0.00167747, ...,  0.00414141,\n",
        "         0.00328098,  0.0024803 ],\n",
        "       [ 0.00228516,  0.00181827,  0.00202158, ...,  0.00421611,\n",
        "         0.00346016,  0.00267834]]),\n",
        "       array([[ 0.02767359,  0.01209842,  0.00196844, ...,  0.00610631,\n",
        "         0.0018992 ,  0.00367586],\n",
        "       [ 0.02628679,  0.01134485,  0.00184728, ...,  0.00627898,\n",
        "         0.00185105,  0.00298695],\n",
        "       [ 0.02206129,  0.00943234,  0.00157903, ...,  0.00641164,\n",
        "         0.00184945,  0.00251708],\n",
        "       ..., \n",
        "       [ 0.00286126,  0.00815123,  0.00958944, ...,  0.00163855,\n",
        "         0.00184445,  0.00308095],\n",
        "       [ 0.00375004,  0.00930147,  0.00957796, ...,  0.00170162,\n",
        "         0.00190738,  0.00303065],\n",
        "       [ 0.00514509,  0.01070841,  0.00913318, ...,  0.0017727 ,\n",
        "         0.00197009,  0.00298016]]),\n",
        "       array([[ 0.00125413,  0.00204464,  0.00226516, ...,  0.00723353,\n",
        "         0.00446868,  0.00153304],\n",
        "       [ 0.00173488,  0.00322383,  0.00384707, ...,  0.00686449,\n",
        "         0.00442709,  0.00159487],\n",
        "       [ 0.00193877,  0.00437075,  0.00627666, ...,  0.00643032,\n",
        "         0.00437519,  0.0016764 ],\n",
        "       ..., \n",
        "       [ 0.00209973,  0.00154935,  0.00112442, ...,  0.00409453,\n",
        "         0.0023356 ,  0.00201533],\n",
        "       [ 0.0032605 ,  0.00216974,  0.0010566 , ...,  0.00415307,\n",
        "         0.00245069,  0.00211295],\n",
        "       [ 0.0046284 ,  0.00312274,  0.00112687, ...,  0.00421991,\n",
        "         0.00256675,  0.0022117 ]]),\n",
        "       array([[ 0.00022607,  0.00091795,  0.00430858, ...,  0.00979033,\n",
        "         0.00390451,  0.00242908],\n",
        "       [ 0.00034337,  0.00119768,  0.00453551, ...,  0.01020585,\n",
        "         0.00407766,  0.00284616],\n",
        "       [ 0.0005079 ,  0.00160467,  0.00469232, ...,  0.01039165,\n",
        "         0.00415506,  0.00326801],\n",
        "       ..., \n",
        "       [ 0.00584549,  0.00478402,  0.00257107, ...,  0.00475034,\n",
        "         0.00269571,  0.00332785],\n",
        "       [ 0.00357088,  0.00301957,  0.00246679, ...,  0.00457427,\n",
        "         0.00273528,  0.00335152],\n",
        "       [ 0.00273992,  0.00243126,  0.00275356, ...,  0.00437413,\n",
        "         0.00275604,  0.0033756 ]]),\n",
        "       array([[ 0.00815624,  0.00713403,  0.00554566, ...,  0.00263156,\n",
        "         0.00176898,  0.00189076],\n",
        "       [ 0.01097701,  0.0095671 ,  0.00520618, ...,  0.00279432,\n",
        "         0.00195256,  0.00189258],\n",
        "       [ 0.01227744,  0.01121395,  0.00496426, ...,  0.00308462,\n",
        "         0.00221586,  0.00191369],\n",
        "       ..., \n",
        "       [ 0.00789679,  0.010386  ,  0.00806988, ...,  0.00253517,\n",
        "         0.00178376,  0.00207282],\n",
        "       [ 0.00611478,  0.0101647 ,  0.00920372, ...,  0.00245117,\n",
        "         0.0018038 ,  0.0020476 ],\n",
        "       [ 0.00554998,  0.01028528,  0.00958036, ...,  0.00243555,\n",
        "         0.0018784 ,  0.00205839]]),\n",
        "       array([[ 0.00612828,  0.01049472,  0.00792551, ...,  0.00542425,\n",
        "         0.00334325,  0.00345347],\n",
        "       [ 0.00565018,  0.00846676,  0.00587249, ...,  0.00558334,\n",
        "         0.00327115,  0.00316341],\n",
        "       [ 0.00546875,  0.00669732,  0.00410859, ...,  0.00563922,\n",
        "         0.00315717,  0.00284357],\n",
        "       ..., \n",
        "       [ 0.00021852,  0.0005444 ,  0.00202007, ...,  0.00340205,\n",
        "         0.00263767,  0.00649106],\n",
        "       [ 0.0001547 ,  0.00029864,  0.00118087, ...,  0.003185  ,\n",
        "         0.00279442,  0.00757123],\n",
        "       [ 0.00014136,  0.00018421,  0.00075469, ...,  0.0029315 ,\n",
        "         0.00290834,  0.0085293 ]]),\n",
        "       array([[ 0.00018563,  0.00019954,  0.00088766, ...,  0.00996243,\n",
        "         0.0032146 ,  0.00269777],\n",
        "       [ 0.00016721,  0.0002711 ,  0.00129665, ...,  0.00857298,\n",
        "         0.00300144,  0.00278126],\n",
        "       [ 0.00018432,  0.00039413,  0.00191193, ...,  0.00721698,\n",
        "         0.00278121,  0.00281363],\n",
        "       ..., \n",
        "       [ 0.00963288,  0.01213352,  0.00462441, ...,  0.01564416,\n",
        "         0.00445897,  0.00249198],\n",
        "       [ 0.01048452,  0.01230147,  0.00431407, ...,  0.01496367,\n",
        "         0.00426552,  0.00218828],\n",
        "       [ 0.01070426,  0.01171945,  0.00382341, ...,  0.01399973,\n",
        "         0.00400355,  0.00190895]]),\n",
        "       array([[ 0.00712901,  0.02521512,  0.02785743, ...,  0.00112074,\n",
        "         0.00121486,  0.00227732],\n",
        "       [ 0.00606104,  0.02267602,  0.0269198 , ...,  0.00130554,\n",
        "         0.0012986 ,  0.00221923],\n",
        "       [ 0.00486039,  0.01905783,  0.02528533, ...,  0.00154362,\n",
        "         0.00142714,  0.00217505],\n",
        "       ..., \n",
        "       [ 0.01526739,  0.00605458,  0.00266304, ...,  0.00185861,\n",
        "         0.00216499,  0.00472529],\n",
        "       [ 0.02300908,  0.00790593,  0.00242471, ...,  0.00158593,\n",
        "         0.00176224,  0.00378356],\n",
        "       [ 0.02840312,  0.00888812,  0.0020556 , ...,  0.00140428,\n",
        "         0.00146421,  0.00306626]]),\n",
        "       array([[ 0.00524366,  0.00428819,  0.00158029, ...,  0.00359846,\n",
        "         0.0042179 ,  0.00336045],\n",
        "       [ 0.00360963,  0.00247729,  0.00103162, ...,  0.0039485 ,\n",
        "         0.00448513,  0.00343748],\n",
        "       [ 0.00255823,  0.00139966,  0.00071934, ...,  0.00431123,\n",
        "         0.00475682,  0.00350565],\n",
        "       ..., \n",
        "       [ 0.0268631 ,  0.0098767 ,  0.00211265, ...,  0.00187432,\n",
        "         0.00200869,  0.00216897],\n",
        "       [ 0.02085788,  0.00753027,  0.00209889, ...,  0.00196366,\n",
        "         0.00210946,  0.00200606],\n",
        "       [ 0.01276297,  0.00487136,  0.00242521, ...,  0.00212449,\n",
        "         0.00227202,  0.00191347]]),\n",
        "       array([[ 0.00771913,  0.00697473,  0.00328925, ...,  0.00362921,\n",
        "         0.00203277,  0.00145156],\n",
        "       [ 0.00671031,  0.00559647,  0.00287271, ...,  0.00401137,\n",
        "         0.00229196,  0.0014004 ],\n",
        "       [ 0.00545295,  0.00442386,  0.00290439, ...,  0.00440571,\n",
        "         0.00261554,  0.0014107 ],\n",
        "       ..., \n",
        "       [ 0.00989653,  0.00941844,  0.00329625, ...,  0.00189563,\n",
        "         0.00104734,  0.00151228],\n",
        "       [ 0.00509424,  0.00512228,  0.00210974, ...,  0.00205126,\n",
        "         0.00110747,  0.00144086],\n",
        "       [ 0.00256773,  0.0026309 ,  0.00136479, ...,  0.00226742,\n",
        "         0.00119871,  0.00138284]]),\n",
        "       array([[ 0.00509247,  0.00504045,  0.00307645, ...,  0.0057799 ,\n",
        "         0.00241198,  0.00384849],\n",
        "       [ 0.00607732,  0.00632962,  0.00351764, ...,  0.00605478,\n",
        "         0.00232568,  0.00344071],\n",
        "       [ 0.00658683,  0.00758106,  0.00422983, ...,  0.00631485,\n",
        "         0.00227237,  0.0030135 ],\n",
        "       ..., \n",
        "       [ 0.01218565,  0.0136264 ,  0.00517334, ...,  0.00413038,\n",
        "         0.00228088,  0.00326107],\n",
        "       [ 0.01557587,  0.01611175,  0.00520282, ...,  0.00426477,\n",
        "         0.00231856,  0.00300586],\n",
        "       [ 0.01602413,  0.01602922,  0.00489932, ...,  0.00434882,\n",
        "         0.00234351,  0.00277476]]),\n",
        "       array([[ 0.00236387,  0.00244064,  0.00214522, ...,  0.01571086,\n",
        "         0.00629859,  0.00334584],\n",
        "       [ 0.001571  ,  0.00182151,  0.00263975, ...,  0.01289405,\n",
        "         0.00530414,  0.00297913],\n",
        "       [ 0.00105747,  0.00145913,  0.00357675, ...,  0.0106681 ,\n",
        "         0.00452882,  0.00269043],\n",
        "       ..., \n",
        "       [ 0.02644436,  0.01023088,  0.00219463, ...,  0.00164145,\n",
        "         0.00160282,  0.00235309],\n",
        "       [ 0.02718567,  0.0103827 ,  0.0019555 , ...,  0.00154331,\n",
        "         0.00154186,  0.002129  ],\n",
        "       [ 0.02231402,  0.00839586,  0.00149294, ...,  0.00152053,\n",
        "         0.0015477 ,  0.00200029]]),\n",
        "       array([[ 0.0080361 ,  0.02257536,  0.02116126, ...,  0.00102801,\n",
        "         0.00095725,  0.00182688],\n",
        "       [ 0.00855343,  0.02219466,  0.02000977, ...,  0.0011974 ,\n",
        "         0.00102785,  0.0017377 ],\n",
        "       [ 0.00843877,  0.02049485,  0.01828346, ...,  0.00141704,\n",
        "         0.00111738,  0.00164142],\n",
        "       ..., \n",
        "       [ 0.00146787,  0.00158941,  0.00174274, ...,  0.0055625 ,\n",
        "         0.00294653,  0.00224698],\n",
        "       [ 0.00160869,  0.00165444,  0.00149842, ...,  0.00617224,\n",
        "         0.00324414,  0.00219917],\n",
        "       [ 0.00166755,  0.00156273,  0.00119218, ...,  0.00674632,\n",
        "         0.00353155,  0.00216207]]),\n",
        "       array([[ 0.00028339,  0.00022694,  0.0003453 , ...,  0.03306615,\n",
        "         0.01411989,  0.00528244],\n",
        "       [ 0.00061457,  0.00050964,  0.00058175, ...,  0.03328608,\n",
        "         0.01361417,  0.0047744 ],\n",
        "       [ 0.00103844,  0.0009246 ,  0.00098172, ...,  0.033143  ,\n",
        "         0.01306382,  0.00433036],\n",
        "       ..., \n",
        "       [ 0.00197519,  0.00223403,  0.00164492, ...,  0.01521866,\n",
        "         0.00529096,  0.00170761],\n",
        "       [ 0.00145096,  0.00171922,  0.00144259, ...,  0.01443149,\n",
        "         0.00512454,  0.00163757],\n",
        "       [ 0.00110398,  0.0014143 ,  0.00152192, ...,  0.01375486,\n",
        "         0.00498676,  0.00158855]]),\n",
        "       array([[ 0.00923526,  0.01015119,  0.00406013, ...,  0.00208347,\n",
        "         0.00155538,  0.0031963 ],\n",
        "       [ 0.00922647,  0.0103805 ,  0.00415887, ...,  0.002299  ,\n",
        "         0.00159813,  0.00292636],\n",
        "       [ 0.00902288,  0.01030908,  0.00440439, ...,  0.00253863,\n",
        "         0.00164777,  0.00261492],\n",
        "       ..., \n",
        "       [ 0.00542284,  0.0067226 ,  0.00279518, ...,  0.01713146,\n",
        "         0.0054752 ,  0.0023433 ],\n",
        "       [ 0.00418031,  0.00510549,  0.00239004, ...,  0.01747898,\n",
        "         0.00558667,  0.00231605],\n",
        "       [ 0.00286583,  0.00348565,  0.00228405, ...,  0.01714311,\n",
        "         0.00548906,  0.00222235]]),\n",
        "       array([[ 0.00102868,  0.00106347,  0.00276472, ...,  0.00745589,\n",
        "         0.00370462,  0.00278942],\n",
        "       [ 0.002559  ,  0.00193443,  0.00260109, ...,  0.00664978,\n",
        "         0.00334595,  0.00258055],\n",
        "       [ 0.00559958,  0.00361364,  0.00240357, ...,  0.00606356,\n",
        "         0.00307818,  0.00238699],\n",
        "       ..., \n",
        "       [ 0.00182416,  0.00208621,  0.00173996, ...,  0.00305135,\n",
        "         0.00279036,  0.00678157],\n",
        "       [ 0.00236081,  0.00222177,  0.0015765 , ...,  0.00255635,\n",
        "         0.00245011,  0.00606489],\n",
        "       [ 0.00449245,  0.00305574,  0.00157928, ...,  0.00210982,\n",
        "         0.0021165 ,  0.00531537]]),\n",
        "       array([[ 0.00388186,  0.00392085,  0.00463637, ...,  0.00086761,\n",
        "         0.00093494,  0.00115902],\n",
        "       [ 0.00347413,  0.00465154,  0.00643794, ...,  0.00080415,\n",
        "         0.00098028,  0.00120618],\n",
        "       [ 0.00332943,  0.0059227 ,  0.0087583 , ...,  0.0007814 ,\n",
        "         0.00102606,  0.00125087],\n",
        "       ..., \n",
        "       [ 0.00931949,  0.02576922,  0.01746717, ...,  0.00070863,\n",
        "         0.00070062,  0.00108455],\n",
        "       [ 0.00767832,  0.02072889,  0.01401706, ...,  0.00076371,\n",
        "         0.00076615,  0.00115359],\n",
        "       [ 0.00621232,  0.01624357,  0.01101383, ...,  0.00083472,\n",
        "         0.00084878,  0.00123976]]),\n",
        "       array([[ 0.00885992,  0.00520154,  0.00180592, ...,  0.00518833,\n",
        "         0.00191758,  0.00224394],\n",
        "       [ 0.00720417,  0.00362494,  0.00111009, ...,  0.00488969,\n",
        "         0.00168207,  0.00209579],\n",
        "       [ 0.00709103,  0.00319134,  0.00096296, ...,  0.00450615,\n",
        "         0.00146781,  0.0019629 ],\n",
        "       ..., \n",
        "       [ 0.01334474,  0.01290764,  0.00646044, ...,  0.00112022,\n",
        "         0.00116466,  0.00275597],\n",
        "       [ 0.01310318,  0.01141768,  0.00646543, ...,  0.00112206,\n",
        "         0.00123749,  0.00297547],\n",
        "       [ 0.01088238,  0.00939113,  0.00674927, ...,  0.00113706,\n",
        "         0.00131626,  0.00319926]]),\n",
        "       array([[ 0.00466672,  0.0085777 ,  0.00841006, ...,  0.00352959,\n",
        "         0.00149701,  0.000916  ],\n",
        "       [ 0.00250486,  0.00606101,  0.00818422, ...,  0.00401128,\n",
        "         0.00165401,  0.00082124],\n",
        "       [ 0.00125725,  0.00409069,  0.00695779, ...,  0.00446327,\n",
        "         0.00180805,  0.00074776],\n",
        "       ..., \n",
        "       [ 0.0037134 ,  0.00748086,  0.00954156, ...,  0.0026455 ,\n",
        "         0.0021824 ,  0.00327837],\n",
        "       [ 0.00509367,  0.00845702,  0.00932103, ...,  0.00279001,\n",
        "         0.00238884,  0.00345865],\n",
        "       [ 0.00617723,  0.0089    ,  0.00809615, ...,  0.00289516,\n",
        "         0.00254805,  0.00356987]]),\n",
        "       array([[ 0.00617076,  0.00685791,  0.0045769 , ...,  0.00256007,\n",
        "         0.00166344,  0.0028409 ],\n",
        "       [ 0.00337883,  0.00457678,  0.00458612, ...,  0.00251622,\n",
        "         0.00173853,  0.00298777],\n",
        "       [ 0.00151291,  0.00269579,  0.0042372 , ...,  0.00252875,\n",
        "         0.00181964,  0.00308614],\n",
        "       ..., \n",
        "       [ 0.01369347,  0.01899814,  0.00753292, ...,  0.0068474 ,\n",
        "         0.00273141,  0.00184293],\n",
        "       [ 0.0159271 ,  0.02187432,  0.00837009, ...,  0.006718  ,\n",
        "         0.00272921,  0.00172011],\n",
        "       [ 0.01589341,  0.02214616,  0.00864203, ...,  0.00656833,\n",
        "         0.00271882,  0.00162171]]),\n",
        "       array([[ 0.00713429,  0.0086245 ,  0.0041932 , ...,  0.00357751,\n",
        "         0.0028208 ,  0.00329767],\n",
        "       [ 0.00722441,  0.00874227,  0.00388937, ...,  0.00380308,\n",
        "         0.00299314,  0.00333315],\n",
        "       [ 0.00610284,  0.00714835,  0.00317953, ...,  0.00410588,\n",
        "         0.00319638,  0.00335418],\n",
        "       ..., \n",
        "       [ 0.00065263,  0.0005433 ,  0.00098156, ...,  0.00267399,\n",
        "         0.00222069,  0.00222644],\n",
        "       [ 0.00077201,  0.00047724,  0.00075083, ...,  0.00274504,\n",
        "         0.0024098 ,  0.00234313],\n",
        "       [ 0.00091321,  0.00052148,  0.00074071, ...,  0.00280113,\n",
        "         0.00260247,  0.00247259]]),\n",
        "       array([[ 0.00341517,  0.00334801,  0.00246593, ...,  0.00525907,\n",
        "         0.00377085,  0.00810405],\n",
        "       [ 0.00347112,  0.00328559,  0.00263434, ...,  0.00529941,\n",
        "         0.00361481,  0.00696122],\n",
        "       [ 0.00464255,  0.0039247 ,  0.00287292, ...,  0.00522893,\n",
        "         0.00340283,  0.0057587 ],\n",
        "       ..., \n",
        "       [ 0.00313861,  0.00572975,  0.00612102, ...,  0.00416226,\n",
        "         0.00217382,  0.0029815 ],\n",
        "       [ 0.00533191,  0.00813336,  0.00646666, ...,  0.00439151,\n",
        "         0.00223845,  0.00289281],\n",
        "       [ 0.00824574,  0.01143811,  0.0066804 , ...,  0.00455116,\n",
        "         0.0022783 ,  0.00277185]]),\n",
        "       array([[ 0.00471585,  0.00555398,  0.0035173 , ...,  0.00575638,\n",
        "         0.00325833,  0.00217583],\n",
        "       [ 0.00424677,  0.00462332,  0.00310729, ...,  0.00609285,\n",
        "         0.00347121,  0.00207372],\n",
        "       [ 0.00473269,  0.00446297,  0.00285516, ...,  0.00641336,\n",
        "         0.00371634,  0.00201234],\n",
        "       ..., \n",
        "       [ 0.00522113,  0.0056    ,  0.00238828, ...,  0.00376552,\n",
        "         0.00269364,  0.00488535],\n",
        "       [ 0.00446663,  0.00405097,  0.00190048, ...,  0.00341501,\n",
        "         0.0024545 ,  0.00444016],\n",
        "       [ 0.00558856,  0.00366929,  0.00154636, ...,  0.00309562,\n",
        "         0.00222374,  0.00398494]]),\n",
        "       array([[ 0.01699977,  0.01507678,  0.00466965, ...,  0.00251473,\n",
        "         0.0030594 ,  0.00603208],\n",
        "       [ 0.01930639,  0.01833212,  0.00576479, ...,  0.00252175,\n",
        "         0.00284566,  0.00518409],\n",
        "       [ 0.01831106,  0.01881679,  0.00629562, ...,  0.00256113,\n",
        "         0.002684  ,  0.00446446],\n",
        "       ..., \n",
        "       [ 0.0024466 ,  0.00313581,  0.00311226, ...,  0.00198216,\n",
        "         0.001929  ,  0.00332498],\n",
        "       [ 0.00239676,  0.0030859 ,  0.00325926, ...,  0.00185408,\n",
        "         0.00190688,  0.00340562],\n",
        "       [ 0.00304369,  0.00420127,  0.00385495, ...,  0.00173773,\n",
        "         0.00186567,  0.00341882]]),\n",
        "       array([[ 0.00366218,  0.00715674,  0.00811952, ...,  0.00370657,\n",
        "         0.00291359,  0.00340293],\n",
        "       [ 0.00485479,  0.00705293,  0.00679722, ...,  0.00401847,\n",
        "         0.00307233,  0.0034066 ],\n",
        "       [ 0.0057687 ,  0.00644157,  0.00585388, ...,  0.00431425,\n",
        "         0.00322311,  0.00340708],\n",
        "       ..., \n",
        "       [ 0.00252577,  0.0034492 ,  0.00186674, ...,  0.00295225,\n",
        "         0.00221169,  0.00196302],\n",
        "       [ 0.00165999,  0.00222874,  0.00134713, ...,  0.00318822,\n",
        "         0.00243416,  0.00194903],\n",
        "       [ 0.00096745,  0.00121627,  0.00091961, ...,  0.00342056,\n",
        "         0.00266932,  0.00197864]]),\n",
        "       array([[ 0.00109012,  0.00093781,  0.00095439, ...,  0.00149015,\n",
        "         0.00122569,  0.00473549],\n",
        "       [ 0.00231217,  0.00246852,  0.0014794 , ...,  0.00123153,\n",
        "         0.00116971,  0.00472133],\n",
        "       [ 0.00441338,  0.00565701,  0.00295661, ...,  0.00104174,\n",
        "         0.00109006,  0.00448032],\n",
        "       ..., \n",
        "       [ 0.00059141,  0.00161839,  0.00372646, ...,  0.00600146,\n",
        "         0.00391655,  0.00128587],\n",
        "       [ 0.00031436,  0.00106523,  0.00301605, ...,  0.00605783,\n",
        "         0.00416912,  0.0013583 ],\n",
        "       [ 0.00020677,  0.00075733,  0.0025365 , ...,  0.00608676,\n",
        "         0.00437651,  0.00141873]]),\n",
        "       array([[ 0.00982679,  0.00832576,  0.00201452, ...,  0.00121815,\n",
        "         0.00174287,  0.00491489],\n",
        "       [ 0.01118832,  0.00922385,  0.00221385, ...,  0.00107736,\n",
        "         0.0019751 ,  0.00548059],\n",
        "       [ 0.01161534,  0.0093206 ,  0.00227034, ...,  0.0010534 ,\n",
        "         0.00229787,  0.00612836],\n",
        "       ..., \n",
        "       [ 0.00376996,  0.00784863,  0.00684728, ...,  0.00803484,\n",
        "         0.00321462,  0.0016546 ],\n",
        "       [ 0.00463433,  0.00928667,  0.00793447, ...,  0.00858003,\n",
        "         0.00345229,  0.00172283],\n",
        "       [ 0.00519256,  0.00995145,  0.00807659, ...,  0.00904317,\n",
        "         0.0036599 ,  0.00177116]]),\n",
        "       array([[ 0.00086206,  0.00511422,  0.01179378, ...,  0.00292148,\n",
        "         0.00069338,  0.00089861],\n",
        "       [ 0.00084849,  0.00490936,  0.01111937, ...,  0.00332003,\n",
        "         0.00081544,  0.0010968 ],\n",
        "       [ 0.00092872,  0.00498396,  0.01060231, ...,  0.0036732 ,\n",
        "         0.00095078,  0.00132367],\n",
        "       ..., \n",
        "       [ 0.00681686,  0.00671134,  0.00303794, ...,  0.00716542,\n",
        "         0.00435949,  0.00271329],\n",
        "       [ 0.00478168,  0.00506506,  0.00270004, ...,  0.00776396,\n",
        "         0.00476457,  0.00280422],\n",
        "       [ 0.00344958,  0.00408804,  0.00267966, ...,  0.0081896 ,\n",
        "         0.00507391,  0.00286755]]),\n",
        "       array([[ 0.00472977,  0.00722444,  0.00533517, ...,  0.00283196,\n",
        "         0.00317972,  0.00191513],\n",
        "       [ 0.00501718,  0.00684886,  0.00533599, ...,  0.00256853,\n",
        "         0.00299979,  0.00184774],\n",
        "       [ 0.00615707,  0.00792911,  0.00559168, ...,  0.00233984,\n",
        "         0.00281449,  0.00177477],\n",
        "       ..., \n",
        "       [ 0.00596343,  0.00353665,  0.00311835, ...,  0.00353263,\n",
        "         0.00197345,  0.00326907],\n",
        "       [ 0.00445191,  0.0044313 ,  0.00396909, ...,  0.00321473,\n",
        "         0.00189174,  0.0032823 ],\n",
        "       [ 0.00520918,  0.0065428 ,  0.00450446, ...,  0.00299106,\n",
        "         0.00185867,  0.00334439]]),\n",
        "       array([[ 0.00792573,  0.00947696,  0.00408636, ...,  0.00366915,\n",
        "         0.00148077,  0.00140245],\n",
        "       [ 0.00948691,  0.01165632,  0.00508219, ...,  0.00352615,\n",
        "         0.00149029,  0.00131075],\n",
        "       [ 0.00978557,  0.01226855,  0.0057613 , ...,  0.0035242 ,\n",
        "         0.00156041,  0.00122669],\n",
        "       ..., \n",
        "       [ 0.00555154,  0.00534219,  0.00740515, ...,  0.00597138,\n",
        "         0.00174391,  0.00078794],\n",
        "       [ 0.00408909,  0.00614235,  0.01043561, ...,  0.00520069,\n",
        "         0.00154906,  0.00071256],\n",
        "       [ 0.00276599,  0.00701087,  0.01328955, ...,  0.00457137,\n",
        "         0.00139566,  0.00066144]]),\n",
        "       array([[ 0.00571464,  0.0054393 ,  0.00494664, ...,  0.00339025,\n",
        "         0.00204566,  0.00187667],\n",
        "       [ 0.00618555,  0.00521366,  0.00418822, ...,  0.00383653,\n",
        "         0.00215328,  0.00175781],\n",
        "       [ 0.00663085,  0.00527938,  0.0033669 , ...,  0.00431436,\n",
        "         0.00228713,  0.00165382],\n",
        "       ..., \n",
        "       [ 0.00407614,  0.00393837,  0.0019343 , ...,  0.00367831,\n",
        "         0.00374235,  0.00875255],\n",
        "       [ 0.00242298,  0.00222259,  0.00159373, ...,  0.00315056,\n",
        "         0.00343597,  0.00790265],\n",
        "       [ 0.00273615,  0.00187729,  0.00145313, ...,  0.00267802,\n",
        "         0.00310734,  0.00699093]]),\n",
        "       array([[ 0.00373453,  0.00383349,  0.0049884 , ...,  0.00230191,\n",
        "         0.00082963,  0.00129499],\n",
        "       [ 0.00577052,  0.00555401,  0.00463086, ...,  0.00211532,\n",
        "         0.00080122,  0.00119384],\n",
        "       [ 0.00717804,  0.00686509,  0.00420081, ...,  0.00208655,\n",
        "         0.0008169 ,  0.00112158],\n",
        "       ..., \n",
        "       [ 0.0037072 ,  0.00595951,  0.00455043, ...,  0.00465219,\n",
        "         0.00203065,  0.00190516],\n",
        "       [ 0.00287063,  0.00436341,  0.00297906, ...,  0.00459143,\n",
        "         0.00203553,  0.00188231],\n",
        "       [ 0.00227387,  0.00315271,  0.00200414, ...,  0.00452066,\n",
        "         0.00203746,  0.00188395]]),\n",
        "       array([[ 0.00114594,  0.00177165,  0.00281308, ...,  0.00840772,\n",
        "         0.00415175,  0.00440782],\n",
        "       [ 0.00148327,  0.00163845,  0.00264748, ...,  0.00735117,\n",
        "         0.00382858,  0.00390151],\n",
        "       [ 0.00293898,  0.00232682,  0.00258754, ...,  0.00638269,\n",
        "         0.00354106,  0.00340298],\n",
        "       ..., \n",
        "       [ 0.00359828,  0.00937096,  0.01015785, ...,  0.00168256,\n",
        "         0.00119346,  0.00204865],\n",
        "       [ 0.00355679,  0.00845158,  0.00865459, ...,  0.0017061 ,\n",
        "         0.00118693,  0.00203057],\n",
        "       [ 0.00342393,  0.00723093,  0.00740016, ...,  0.00170388,\n",
        "         0.00117072,  0.00199282]]),\n",
        "       array([[ 0.00373782,  0.00398046,  0.00349632, ...,  0.00528487,\n",
        "         0.00275488,  0.00237123],\n",
        "       [ 0.00373319,  0.00375535,  0.00317049, ...,  0.00592022,\n",
        "         0.00292406,  0.00235298],\n",
        "       [ 0.00371482,  0.00366406,  0.00303711, ...,  0.00653402,\n",
        "         0.00307967,  0.00230751],\n",
        "       ..., \n",
        "       [ 0.00493162,  0.00218601,  0.00172914, ...,  0.00307797,\n",
        "         0.00449937,  0.00350464],\n",
        "       [ 0.0067063 ,  0.00254016,  0.00116935, ...,  0.00339623,\n",
        "         0.00511028,  0.00372336],\n",
        "       [ 0.00786087,  0.00288305,  0.00089086, ...,  0.00374386,\n",
        "         0.0057664 ,  0.00397286]]),\n",
        "       array([[ 0.00418851,  0.0055711 ,  0.00483192, ...,  0.00528387,\n",
        "         0.00376279,  0.00268192],\n",
        "       [ 0.00640763,  0.00765052,  0.00509591, ...,  0.00472432,\n",
        "         0.0034931 ,  0.00274397],\n",
        "       [ 0.00832149,  0.00923271,  0.0048886 , ...,  0.00430297,\n",
        "         0.00322122,  0.00274308],\n",
        "       ..., \n",
        "       [ 0.00154871,  0.00207023,  0.00242815, ...,  0.00706322,\n",
        "         0.00520397,  0.00544509],\n",
        "       [ 0.00208313,  0.00242052,  0.002389  , ...,  0.00688744,\n",
        "         0.00502021,  0.00526642],\n",
        "       [ 0.00327569,  0.00362233,  0.00308038, ...,  0.00667711,\n",
        "         0.0047972 ,  0.0050354 ]]),\n",
        "       array([[ 0.0024849 ,  0.00151128,  0.00083148, ...,  0.00759108,\n",
        "         0.00369018,  0.00169305],\n",
        "       [ 0.00171509,  0.00133226,  0.00111216, ...,  0.00820361,\n",
        "         0.00398981,  0.00167681],\n",
        "       [ 0.00131575,  0.00127398,  0.00151947, ...,  0.00853828,\n",
        "         0.0041841 ,  0.00165085],\n",
        "       ..., \n",
        "       [ 0.0025269 ,  0.00313405,  0.0030033 , ...,  0.00207759,\n",
        "         0.00175072,  0.00376753],\n",
        "       [ 0.00333915,  0.00300615,  0.00223858, ...,  0.00191969,\n",
        "         0.00170865,  0.00383515],\n",
        "       [ 0.00424743,  0.0032271 ,  0.00185437, ...,  0.00174977,\n",
        "         0.00162999,  0.00377946]]),\n",
        "       array([[ 0.0012764 ,  0.00256262,  0.01175853, ...,  0.00151253,\n",
        "         0.00142194,  0.00206628],\n",
        "       [ 0.00105152,  0.00328164,  0.01572562, ...,  0.00136411,\n",
        "         0.00127707,  0.00194667],\n",
        "       [ 0.00094827,  0.00415811,  0.01909011, ...,  0.00123227,\n",
        "         0.00114309,  0.00185478],\n",
        "       ..., \n",
        "       [ 0.00502616,  0.01166295,  0.01159948, ...,  0.00833825,\n",
        "         0.00577821,  0.00485602],\n",
        "       [ 0.00484023,  0.01055505,  0.01023584, ...,  0.00868529,\n",
        "         0.00619997,  0.0050471 ],\n",
        "       [ 0.00386305,  0.00807629,  0.00858173, ...,  0.00895534,\n",
        "         0.00657789,  0.00523081]]),\n",
        "       array([[ 0.0067311 ,  0.00597046,  0.004607  , ...,  0.00763353,\n",
        "         0.00470994,  0.00382817],\n",
        "       [ 0.00812241,  0.00631571,  0.00416599, ...,  0.00878126,\n",
        "         0.00500051,  0.00353512],\n",
        "       [ 0.00891229,  0.00633037,  0.00361856, ...,  0.01007364,\n",
        "         0.00542891,  0.00334353],\n",
        "       ..., \n",
        "       [ 0.00190702,  0.00308674,  0.00437638, ...,  0.00191322,\n",
        "         0.00403074,  0.00570785],\n",
        "       [ 0.00260607,  0.00305619,  0.00313514, ...,  0.00213747,\n",
        "         0.00444391,  0.00611506],\n",
        "       [ 0.00325451,  0.00303678,  0.0023041 , ...,  0.00238472,\n",
        "         0.00487901,  0.00652843]]),\n",
        "       array([[ 0.00167978,  0.00281518,  0.00498096, ...,  0.0064359 ,\n",
        "         0.00420178,  0.00229642],\n",
        "       [ 0.0008099 ,  0.00149687,  0.00378882, ...,  0.00672898,\n",
        "         0.00471397,  0.00244061],\n",
        "       [ 0.00049817,  0.00077497,  0.00253359, ...,  0.00699981,\n",
        "         0.00521205,  0.00258016],\n",
        "       ..., \n",
        "       [ 0.0046066 ,  0.00314526,  0.00183568, ...,  0.01519851,\n",
        "         0.00464944,  0.00212535],\n",
        "       [ 0.00355638,  0.00252805,  0.00171054, ...,  0.01516858,\n",
        "         0.0046159 ,  0.00197385],\n",
        "       [ 0.00347342,  0.00238407,  0.00160707, ...,  0.01470901,\n",
        "         0.00446585,  0.00181718]]),\n",
        "       array([[ 0.00015968,  0.00049687,  0.00313756, ...,  0.00807234,\n",
        "         0.00290193,  0.00056598],\n",
        "       [ 0.00015184,  0.00040815,  0.00257437, ...,  0.00828678,\n",
        "         0.00311134,  0.0006191 ],\n",
        "       [ 0.00014715,  0.00034188,  0.00211617, ...,  0.00851104,\n",
        "         0.00333392,  0.00068493],\n",
        "       ..., \n",
        "       [ 0.0044419 ,  0.00852278,  0.00643402, ...,  0.01082257,\n",
        "         0.00490388,  0.00277548],\n",
        "       [ 0.00543834,  0.00991911,  0.00661283, ...,  0.01125835,\n",
        "         0.00523156,  0.00281822],\n",
        "       [ 0.00569589,  0.01005859,  0.00640888, ...,  0.0114142 ,\n",
        "         0.00541121,  0.00279343]]),\n",
        "       array([[ 0.0042395 ,  0.01229424,  0.01744952, ...,  0.00295809,\n",
        "         0.00169964,  0.00174481],\n",
        "       [ 0.00560844,  0.01288163,  0.01476743, ...,  0.00339487,\n",
        "         0.00180506,  0.00155829],\n",
        "       [ 0.00686404,  0.01281306,  0.01197464, ...,  0.00386579,\n",
        "         0.00196477,  0.00140423],\n",
        "       ..., \n",
        "       [ 0.00715006,  0.00285162,  0.00104901, ...,  0.00256743,\n",
        "         0.00350526,  0.00486579],\n",
        "       [ 0.00995712,  0.0030599 ,  0.00089729, ...,  0.0024232 ,\n",
        "         0.00324638,  0.00427164],\n",
        "       [ 0.01236774,  0.00318652,  0.00084517, ...,  0.00230699,\n",
        "         0.00303654,  0.0037843 ]]),\n",
        "       array([[ 0.00358642,  0.00399468,  0.00279598, ...,  0.0019653 ,\n",
        "         0.00205947,  0.00279557],\n",
        "       [ 0.00382076,  0.0029919 ,  0.00200983, ...,  0.00197056,\n",
        "         0.00200554,  0.00257816],\n",
        "       [ 0.00615419,  0.00349496,  0.00149706, ...,  0.00199081,\n",
        "         0.00196929,  0.00236349],\n",
        "       ..., \n",
        "       [ 0.00466007,  0.00969918,  0.00748288, ...,  0.00225849,\n",
        "         0.00210035,  0.00396809],\n",
        "       [ 0.00581427,  0.01049981,  0.0067413 , ...,  0.00231909,\n",
        "         0.00220254,  0.00401816],\n",
        "       [ 0.00783437,  0.01235816,  0.00638829, ...,  0.00233548,\n",
        "         0.00226202,  0.00400388]]),\n",
        "       array([[ 0.00115618,  0.00290244,  0.0052007 , ...,  0.00743326,\n",
        "         0.00660217,  0.00274482],\n",
        "       [ 0.00126005,  0.00254994,  0.00427691, ...,  0.00715907,\n",
        "         0.0067487 ,  0.00282951],\n",
        "       [ 0.00132093,  0.00230852,  0.00345183, ...,  0.00683579,\n",
        "         0.00681323,  0.00289266],\n",
        "       ..., \n",
        "       [ 0.00087246,  0.00224506,  0.00642298, ...,  0.00297346,\n",
        "         0.00319364,  0.00773818],\n",
        "       [ 0.0014512 ,  0.0024494 ,  0.00551653, ...,  0.00249652,\n",
        "         0.00303736,  0.00802216],\n",
        "       [ 0.00308437,  0.00310677,  0.00445981, ...,  0.0021371 ,\n",
        "         0.00289963,  0.00816808]]),\n",
        "       array([[ 0.0066979 ,  0.00214154,  0.00106485, ...,  0.00650329,\n",
        "         0.00526746,  0.00451753],\n",
        "       [ 0.00714357,  0.0023778 ,  0.00157016, ...,  0.00635949,\n",
        "         0.00494346,  0.00418878],\n",
        "       [ 0.00636294,  0.00252189,  0.0025225 , ...,  0.00624721,\n",
        "         0.00464247,  0.00387534],\n",
        "       ..., \n",
        "       [ 0.00155371,  0.00113111,  0.00080039, ...,  0.00244996,\n",
        "         0.00215214,  0.00170159],\n",
        "       [ 0.0017487 ,  0.00111989,  0.00080383, ...,  0.0027178 ,\n",
        "         0.00241704,  0.00174788],\n",
        "       [ 0.00261222,  0.00171757,  0.00107441, ...,  0.00303487,\n",
        "         0.00271377,  0.00181146]]),\n",
        "       array([[ 0.00888367,  0.00973256,  0.00379478, ...,  0.00268704,\n",
        "         0.00181726,  0.00580412],\n",
        "       [ 0.00810616,  0.00833015,  0.00324182, ...,  0.0029844 ,\n",
        "         0.00190249,  0.00548583],\n",
        "       [ 0.00729515,  0.00672008,  0.00287259, ...,  0.00329333,\n",
        "         0.00198259,  0.0049868 ],\n",
        "       ..., \n",
        "       [ 0.00584949,  0.00861917,  0.00533121, ...,  0.00295613,\n",
        "         0.00192812,  0.00388586],\n",
        "       [ 0.00802256,  0.01126388,  0.00626415, ...,  0.00286058,\n",
        "         0.00197246,  0.00396226],\n",
        "       [ 0.01040265,  0.01341027,  0.00640519, ...,  0.00277136,\n",
        "         0.00200473,  0.0039717 ]]),\n",
        "       array([[ 0.00918983,  0.00525363,  0.00149721, ...,  0.00576108,\n",
        "         0.00445486,  0.00314437],\n",
        "       [ 0.00722065,  0.00468489,  0.00155941, ...,  0.00633975,\n",
        "         0.00474938,  0.00303553],\n",
        "       [ 0.00527243,  0.00389974,  0.00160464, ...,  0.00696536,\n",
        "         0.00506015,  0.00293582],\n",
        "       ..., \n",
        "       [ 0.00342165,  0.00211586,  0.00120915, ...,  0.00169858,\n",
        "         0.00136194,  0.00105546],\n",
        "       [ 0.00284651,  0.00220181,  0.00134493, ...,  0.00171765,\n",
        "         0.00146975,  0.00106857],\n",
        "       [ 0.00263667,  0.00272407,  0.00180159, ...,  0.00177564,\n",
        "         0.00162211,  0.00111656]]),\n",
        "       array([[ 0.00313304,  0.00970741,  0.01218281, ...,  0.00543313,\n",
        "         0.00284275,  0.00117374],\n",
        "       [ 0.00189455,  0.00663874,  0.01038228, ...,  0.0059054 ,\n",
        "         0.00325053,  0.00119755],\n",
        "       [ 0.00124728,  0.0049253 ,  0.0088984 , ...,  0.00627548,\n",
        "         0.00364973,  0.00124554],\n",
        "       ..., \n",
        "       [ 0.00203618,  0.00223697,  0.00250722, ...,  0.00611934,\n",
        "         0.00241214,  0.00224541],\n",
        "       [ 0.00166094,  0.0017071 ,  0.00201391, ...,  0.0063744 ,\n",
        "         0.00245871,  0.00230273],\n",
        "       [ 0.00116204,  0.00131502,  0.00183904, ...,  0.00656267,\n",
        "         0.00247836,  0.00232936]]),\n",
        "       array([[ 0.00390608,  0.0029651 ,  0.00172061, ...,  0.01472243,\n",
        "         0.00411942,  0.00238264],\n",
        "       [ 0.00313437,  0.00248352,  0.00198443, ...,  0.01160261,\n",
        "         0.00335711,  0.00222823],\n",
        "       [ 0.0021089 ,  0.00181921,  0.00252745, ...,  0.0090242 ,\n",
        "         0.00274199,  0.00210597],\n",
        "       ..., \n",
        "       [ 0.00647994,  0.00684006,  0.00334586, ...,  0.01170423,\n",
        "         0.00419558,  0.00360282],\n",
        "       [ 0.00604435,  0.00621428,  0.003255  , ...,  0.01076206,\n",
        "         0.00393034,  0.00337463],\n",
        "       [ 0.00558719,  0.0054801 ,  0.0030156 , ...,  0.0099523 ,\n",
        "         0.0037111 ,  0.00319982]]),\n",
        "       array([[ 0.00232243,  0.00359338,  0.00482787, ...,  0.00225804,\n",
        "         0.0016375 ,  0.00265437],\n",
        "       [ 0.00159367,  0.00286689,  0.00480461, ...,  0.00195098,\n",
        "         0.00155434,  0.00280986],\n",
        "       [ 0.00246193,  0.0034583 ,  0.00458067, ...,  0.0017205 ,\n",
        "         0.00147407,  0.00291028],\n",
        "       ..., \n",
        "       [ 0.00196475,  0.00295411,  0.00319911, ...,  0.00493954,\n",
        "         0.00365596,  0.00350088],\n",
        "       [ 0.00267299,  0.00427683,  0.00356919, ...,  0.00467928,\n",
        "         0.00383492,  0.00378161],\n",
        "       [ 0.00422831,  0.00616954,  0.00379978, ...,  0.00451496,\n",
        "         0.00403685,  0.0040523 ]]),\n",
        "       array([[ 0.00130453,  0.00091163,  0.00187852, ...,  0.00579639,\n",
        "         0.00239017,  0.00091278],\n",
        "       [ 0.00238119,  0.00131987,  0.00131239, ...,  0.00613848,\n",
        "         0.00263081,  0.00097346],\n",
        "       [ 0.0032523 ,  0.00161584,  0.00099169, ...,  0.00656243,\n",
        "         0.00291295,  0.00103857],\n",
        "       ..., \n",
        "       [ 0.00032875,  0.00116381,  0.00416995, ...,  0.00459778,\n",
        "         0.00527044,  0.00276559],\n",
        "       [ 0.00029881,  0.00106684,  0.00345133, ...,  0.00513731,\n",
        "         0.00593713,  0.00312235],\n",
        "       [ 0.00025688,  0.00093073,  0.00257577, ...,  0.00569052,\n",
        "         0.0065888 ,  0.00347551]]),\n",
        "       array([[ 0.00078669,  0.00199393,  0.00529021, ...,  0.01064133,\n",
        "         0.01242621,  0.00601462],\n",
        "       [ 0.00113337,  0.00260147,  0.00576004, ...,  0.01054118,\n",
        "         0.01296123,  0.00651516],\n",
        "       [ 0.00142572,  0.00295122,  0.00594443, ...,  0.01044492,\n",
        "         0.01352479,  0.0070453 ],\n",
        "       ..., \n",
        "       [ 0.00731552,  0.00587134,  0.00233808, ...,  0.00165322,\n",
        "         0.00140573,  0.00235157],\n",
        "       [ 0.00761729,  0.00594731,  0.00228637, ...,  0.00159217,\n",
        "         0.00148948,  0.00265111],\n",
        "       [ 0.00683209,  0.00513962,  0.00202118, ...,  0.00156206,\n",
        "         0.00160258,  0.00299165]]),\n",
        "       array([[ 0.00164754,  0.00272886,  0.00448595, ...,  0.0096758 ,\n",
        "         0.00371506,  0.00102875],\n",
        "       [ 0.00171257,  0.00236195,  0.00422043, ...,  0.01001757,\n",
        "         0.00391791,  0.00106568],\n",
        "       [ 0.0015667 ,  0.00218674,  0.00429356, ...,  0.01025304,\n",
        "         0.00413345,  0.00112149],\n",
        "       ..., \n",
        "       [ 0.01726708,  0.02328372,  0.00848557, ...,  0.00174663,\n",
        "         0.00188787,  0.00311677],\n",
        "       [ 0.01660982,  0.02302053,  0.00854106, ...,  0.00169047,\n",
        "         0.0019242 ,  0.0030177 ],\n",
        "       [ 0.01331809,  0.01890217,  0.00738686, ...,  0.00167827,\n",
        "         0.00199334,  0.00295409]]),\n",
        "       array([[ 0.01510331,  0.01019607,  0.00333078, ...,  0.00719484,\n",
        "         0.00267993,  0.00158547],\n",
        "       [ 0.01340682,  0.01050339,  0.003895  , ...,  0.00681978,\n",
        "         0.00243072,  0.00131337],\n",
        "       [ 0.01001563,  0.00883624,  0.00384004, ...,  0.00642593,\n",
        "         0.0022478 ,  0.00110028],\n",
        "       ..., \n",
        "       [ 0.00312817,  0.00211555,  0.00169399, ...,  0.01025146,\n",
        "         0.00400553,  0.00133297],\n",
        "       [ 0.0022485 ,  0.00146678,  0.00120252, ...,  0.00997168,\n",
        "         0.00390684,  0.00124805],\n",
        "       [ 0.00130356,  0.00086134,  0.00085204, ...,  0.00965566,\n",
        "         0.00380728,  0.00118391]]),\n",
        "       array([[ 0.00029119,  0.00070483,  0.00269272, ...,  0.0149389 ,\n",
        "         0.00513029,  0.00124148],\n",
        "       [ 0.0001774 ,  0.00045393,  0.00213483, ...,  0.01463362,\n",
        "         0.00503515,  0.00114113],\n",
        "       [ 0.00014186,  0.00031691,  0.0016108 , ...,  0.01401479,\n",
        "         0.00483859,  0.00104628],\n",
        "       ..., \n",
        "       [ 0.00933748,  0.00464195,  0.00175245, ...,  0.00798322,\n",
        "         0.00541271,  0.00787293],\n",
        "       [ 0.00616769,  0.00335217,  0.00229035, ...,  0.00741238,\n",
        "         0.00530528,  0.00796474],\n",
        "       [ 0.00392373,  0.00275989,  0.0031569 , ...,  0.00684755,\n",
        "         0.0051662 ,  0.00800056]]),\n",
        "       array([[ 0.00290455,  0.0102779 ,  0.01461324, ...,  0.00319888,\n",
        "         0.0015137 ,  0.0005697 ],\n",
        "       [ 0.00232736,  0.00939541,  0.01655391, ...,  0.00300432,\n",
        "         0.00146254,  0.00054532],\n",
        "       [ 0.00183836,  0.00863739,  0.01828944, ...,  0.00280193,\n",
        "         0.00140062,  0.00052177],\n",
        "       ..., \n",
        "       [ 0.00837705,  0.01097666,  0.00419444, ...,  0.00181793,\n",
        "         0.0019124 ,  0.00552503],\n",
        "       [ 0.00938866,  0.01306653,  0.00507995, ...,  0.0017997 ,\n",
        "         0.00184678,  0.00548127],\n",
        "       [ 0.0097986 ,  0.01448469,  0.00592434, ...,  0.0017704 ,\n",
        "         0.00177238,  0.00533337]]),\n",
        "       array([[ 0.00280868,  0.00170089,  0.00122638, ...,  0.00811158,\n",
        "         0.00223917,  0.00112956],\n",
        "       [ 0.00107713,  0.00091717,  0.00126775, ...,  0.00953565,\n",
        "         0.00255057,  0.00096823],\n",
        "       [ 0.00058708,  0.00062704,  0.00120017, ...,  0.01051232,\n",
        "         0.00275381,  0.00082377],\n",
        "       ..., \n",
        "       [ 0.01063191,  0.01778303,  0.00837541, ...,  0.00337222,\n",
        "         0.00348202,  0.0065296 ],\n",
        "       [ 0.0083548 ,  0.01430648,  0.00728159, ...,  0.00406694,\n",
        "         0.00414617,  0.0072733 ],\n",
        "       [ 0.00619986,  0.01100571,  0.00616546, ...,  0.00475519,\n",
        "         0.00480286,  0.00797793]]),\n",
        "       array([[ 0.00054336,  0.00183629,  0.00378497, ...,  0.0060077 ,\n",
        "         0.00259772,  0.00074945],\n",
        "       [ 0.0010509 ,  0.00344157,  0.00501848, ...,  0.00544113,\n",
        "         0.00244649,  0.00073544],\n",
        "       [ 0.00184947,  0.00587273,  0.00688651, ...,  0.00491823,\n",
        "         0.00229545,  0.0007172 ],\n",
        "       ..., \n",
        "       [ 0.00217395,  0.00313214,  0.00288649, ...,  0.00625053,\n",
        "         0.00371285,  0.00284345],\n",
        "       [ 0.00232407,  0.00323617,  0.00295881, ...,  0.00547475,\n",
        "         0.00335929,  0.00285398],\n",
        "       [ 0.00203765,  0.00306791,  0.003178  , ...,  0.00483128,\n",
        "         0.00306676,  0.00286838]]),\n",
        "       array([[ 0.00186703,  0.00159927,  0.00183527, ...,  0.00807435,\n",
        "         0.00412386,  0.00175752],\n",
        "       [ 0.00308951,  0.00263839,  0.00234008, ...,  0.00828134,\n",
        "         0.00411723,  0.00162028],\n",
        "       [ 0.00372734,  0.0033628 ,  0.00309039, ...,  0.0083631 ,\n",
        "         0.00408935,  0.00149346],\n",
        "       ..., \n",
        "       [ 0.00228321,  0.00286476,  0.00189061, ...,  0.010782  ,\n",
        "         0.00690983,  0.00544933],\n",
        "       [ 0.00165107,  0.00178706,  0.0012978 , ...,  0.0105178 ,\n",
        "         0.00696394,  0.00534207],\n",
        "       [ 0.0019483 ,  0.00123508,  0.00085954, ...,  0.01014781,\n",
        "         0.00691473,  0.00517157]]),\n",
        "       array([[ 0.00030253,  0.00064639,  0.00206045, ...,  0.02323139,\n",
        "         0.02204619,  0.00624905],\n",
        "       [ 0.0002858 ,  0.00063777,  0.00228226, ...,  0.02258556,\n",
        "         0.0214753 ,  0.0061235 ],\n",
        "       [ 0.00039032,  0.00084768,  0.00245819, ...,  0.02166698,\n",
        "         0.02056026,  0.00589849],\n",
        "       ..., \n",
        "       [ 0.01371156,  0.01724277,  0.00592124, ...,  0.00144999,\n",
        "         0.00117259,  0.00335421],\n",
        "       [ 0.01793138,  0.02308786,  0.00762472, ...,  0.00127303,\n",
        "         0.0011668 ,  0.00331834],\n",
        "       [ 0.01986639,  0.02668365,  0.00906492, ...,  0.0011397 ,\n",
        "         0.00117123,  0.00330722]]),\n",
        "       array([[ 0.00046237,  0.00078163,  0.00287446, ...,  0.01372575,\n",
        "         0.01010168,  0.00328402],\n",
        "       [ 0.00066407,  0.00107526,  0.00311972, ...,  0.01319298,\n",
        "         0.00995443,  0.0033496 ],\n",
        "       [ 0.00083402,  0.00140933,  0.00330979, ...,  0.01265176,\n",
        "         0.00971833,  0.0033902 ],\n",
        "       ..., \n",
        "       [ 0.00492901,  0.00390353,  0.00107782, ...,  0.00310683,\n",
        "         0.00176519,  0.00232957],\n",
        "       [ 0.00193655,  0.00154443,  0.00057022, ...,  0.00380293,\n",
        "         0.00209658,  0.00239747],\n",
        "       [ 0.00083537,  0.00063211,  0.00041325, ...,  0.00448002,\n",
        "         0.00243473,  0.00249041]]),\n",
        "       array([[ 0.00024247,  0.00081882,  0.00350023, ...,  0.00461137,\n",
        "         0.00142507,  0.00056641],\n",
        "       [ 0.00022815,  0.00059202,  0.00279452, ...,  0.00405835,\n",
        "         0.00133565,  0.00057977],\n",
        "       [ 0.00027445,  0.00051552,  0.0023005 , ...,  0.00358634,\n",
        "         0.00127592,  0.00060078],\n",
        "       ..., \n",
        "       [ 0.00204047,  0.00440819,  0.00526816, ...,  0.00154555,\n",
        "         0.00128698,  0.00082732],\n",
        "       [ 0.00179792,  0.00435245,  0.0057952 , ...,  0.00164277,\n",
        "         0.00132286,  0.00081679],\n",
        "       [ 0.00178291,  0.00462404,  0.00659758, ...,  0.00176226,\n",
        "         0.00136303,  0.00080867]]),\n",
        "       array([[ 0.00140331,  0.00219346,  0.00306501, ...,  0.00844782,\n",
        "         0.00316283,  0.00124332],\n",
        "       [ 0.00116088,  0.0020525 ,  0.00329581, ...,  0.00862595,\n",
        "         0.00310979,  0.00114603],\n",
        "       [ 0.0011779 ,  0.00222646,  0.00368693, ...,  0.0088231 ,\n",
        "         0.00305751,  0.00105166],\n",
        "       ..., \n",
        "       [ 0.00397589,  0.00342179,  0.00196698, ...,  0.00336929,\n",
        "         0.00337493,  0.00364197],\n",
        "       [ 0.00268576,  0.00253892,  0.00210431, ...,  0.00303005,\n",
        "         0.00337084,  0.00367135],\n",
        "       [ 0.00163522,  0.00162731,  0.00196195, ...,  0.00276899,\n",
        "         0.00339134,  0.00372203]]),\n",
        "       array([[ 0.00041913,  0.00057003,  0.00108156, ...,  0.00680072,\n",
        "         0.00210671,  0.00055386],\n",
        "       [ 0.00046991,  0.00052612,  0.00108609, ...,  0.006604  ,\n",
        "         0.00202391,  0.00053834],\n",
        "       [ 0.00050788,  0.00053368,  0.00120668, ...,  0.00652084,\n",
        "         0.00197463,  0.00052913],\n",
        "       ..., \n",
        "       [ 0.01736083,  0.01074323,  0.00237109, ...,  0.00057211,\n",
        "         0.00060933,  0.0018776 ],\n",
        "       [ 0.00955616,  0.00609703,  0.00161807, ...,  0.00063263,\n",
        "         0.00062894,  0.00172704],\n",
        "       [ 0.00500528,  0.0033016 ,  0.00116103, ...,  0.00071444,\n",
        "         0.00067051,  0.00162942]]),\n",
        "       array([[ 0.00335769,  0.00328811,  0.00216914, ...,  0.00694044,\n",
        "         0.00470275,  0.00274518],\n",
        "       [ 0.00298624,  0.0027464 ,  0.0017667 , ...,  0.00712842,\n",
        "         0.0049688 ,  0.00283416],\n",
        "       [ 0.00285805,  0.00273293,  0.00172709, ...,  0.00734068,\n",
        "         0.00528199,  0.00292921],\n",
        "       ..., \n",
        "       [ 0.00484679,  0.01327949,  0.02313997, ...,  0.00364236,\n",
        "         0.00475756,  0.00299816],\n",
        "       [ 0.00512171,  0.01326812,  0.02322236, ...,  0.00347564,\n",
        "         0.00484017,  0.00303164],\n",
        "       [ 0.00486482,  0.01216122,  0.02229182, ...,  0.00337841,\n",
        "         0.00498666,  0.00311105]]),\n",
        "       array([[ 0.00383378,  0.00596929,  0.00359596, ...,  0.00306981,\n",
        "         0.00157079,  0.00190387],\n",
        "       [ 0.00278604,  0.00381966,  0.00249368, ...,  0.00372012,\n",
        "         0.00181587,  0.00190449],\n",
        "       [ 0.00237544,  0.00281955,  0.00201477, ...,  0.00443886,\n",
        "         0.00207459,  0.0018926 ],\n",
        "       ..., \n",
        "       [ 0.00233428,  0.00355351,  0.0034441 , ...,  0.01533732,\n",
        "         0.0045934 ,  0.00131055],\n",
        "       [ 0.00228414,  0.00322447,  0.00318841, ...,  0.01517417,\n",
        "         0.00464161,  0.00129883],\n",
        "       [ 0.00170633,  0.00243921,  0.00292203, ...,  0.01451091,\n",
        "         0.00452798,  0.00125817]]),\n",
        "       array([[ 0.0171489 ,  0.00537426,  0.00171392, ...,  0.00451358,\n",
        "         0.00301246,  0.00184815],\n",
        "       [ 0.01916083,  0.00566809,  0.00129297, ...,  0.00496892,\n",
        "         0.00297731,  0.001571  ],\n",
        "       [ 0.01672875,  0.00484422,  0.0011433 , ...,  0.00549525,\n",
        "         0.00300146,  0.0013482 ],\n",
        "       ..., \n",
        "       [ 0.00444761,  0.00736053,  0.00501821, ...,  0.0039271 ,\n",
        "         0.00317867,  0.00349732],\n",
        "       [ 0.00404485,  0.00666421,  0.00429975, ...,  0.00401567,\n",
        "         0.00345426,  0.0036393 ],\n",
        "       [ 0.00493797,  0.00747491,  0.0040904 , ...,  0.00407947,\n",
        "         0.00367582,  0.00372279]]),\n",
        "       array([[ 0.00514761,  0.00399926,  0.00191365, ...,  0.00624863,\n",
        "         0.00345441,  0.00172326],\n",
        "       [ 0.00465515,  0.00352274,  0.00156123, ...,  0.00672045,\n",
        "         0.003547  ,  0.00162977],\n",
        "       [ 0.00369048,  0.00288979,  0.00163512, ...,  0.0071574 ,\n",
        "         0.00357028,  0.00151865],\n",
        "       ..., \n",
        "       [ 0.00105377,  0.0014114 ,  0.00196209, ...,  0.00764231,\n",
        "         0.00190313,  0.00130846],\n",
        "       [ 0.00044064,  0.00067732,  0.00140282, ...,  0.00832764,\n",
        "         0.00200697,  0.00111868],\n",
        "       [ 0.00028211,  0.00047638,  0.00112732, ...,  0.00881657,\n",
        "         0.00207546,  0.00095908]]),\n",
        "       array([[ 0.01870217,  0.01116643,  0.00356457, ...,  0.00657017,\n",
        "         0.00346014,  0.00526759],\n",
        "       [ 0.01381817,  0.00918325,  0.00378662, ...,  0.00719147,\n",
        "         0.00347467,  0.00494654],\n",
        "       [ 0.00911388,  0.0067359 ,  0.00375581, ...,  0.00778781,\n",
        "         0.00348059,  0.00464722],\n",
        "       ..., \n",
        "       [ 0.00419753,  0.01151987,  0.01190565, ...,  0.00151665,\n",
        "         0.00249402,  0.00664862],\n",
        "       [ 0.00516472,  0.01276769,  0.01239112, ...,  0.00143417,\n",
        "         0.00250783,  0.00679132],\n",
        "       [ 0.00651783,  0.01477802,  0.01290478, ...,  0.00136393,\n",
        "         0.00252242,  0.00691034]]),\n",
        "       array([[ 0.01308577,  0.01200833,  0.0040925 , ...,  0.00678396,\n",
        "         0.00423409,  0.00342975],\n",
        "       [ 0.01010975,  0.00986632,  0.00382994, ...,  0.00726943,\n",
        "         0.00454812,  0.00336788],\n",
        "       [ 0.00810578,  0.00867589,  0.00387974, ...,  0.00773569,\n",
        "         0.00489569,  0.00334637],\n",
        "       ..., \n",
        "       [ 0.00430312,  0.00682657,  0.00602399, ...,  0.00071969,\n",
        "         0.00091726,  0.0018433 ],\n",
        "       [ 0.00327996,  0.00594672,  0.00617288, ...,  0.00059436,\n",
        "         0.00083818,  0.00183969],\n",
        "       [ 0.00303262,  0.0055708 ,  0.0057786 , ...,  0.00050032,\n",
        "         0.00077939,  0.00183218]]),\n",
        "       array([[ 0.00127017,  0.00173909,  0.0051363 , ...,  0.00430965,\n",
        "         0.00264287,  0.00115651],\n",
        "       [ 0.00086636,  0.00141907,  0.00524719, ...,  0.00414008,\n",
        "         0.0026363 ,  0.00114696],\n",
        "       [ 0.00054497,  0.00114225,  0.0050041 , ...,  0.00399969,\n",
        "         0.0026086 ,  0.00112298],\n",
        "       ..., \n",
        "       [ 0.00686236,  0.00494212,  0.00271153, ...,  0.00445376,\n",
        "         0.00286995,  0.00458912],\n",
        "       [ 0.01229547,  0.00825018,  0.00282915, ...,  0.00398521,\n",
        "         0.00256149,  0.0043438 ],\n",
        "       [ 0.01737874,  0.01133133,  0.00293354, ...,  0.00363332,\n",
        "         0.00233295,  0.00413467]]),\n",
        "       array([[ 0.00107592,  0.00058128,  0.00036561, ...,  0.00683447,\n",
        "         0.00590822,  0.00288886],\n",
        "       [ 0.00067277,  0.00027894,  0.0002437 , ...,  0.00610035,\n",
        "         0.00584462,  0.00315707],\n",
        "       [ 0.00062976,  0.00017771,  0.00016752, ...,  0.00558014,\n",
        "         0.00591289,  0.00349096],\n",
        "       ..., \n",
        "       [ 0.00116852,  0.00158044,  0.001723  , ...,  0.00278065,\n",
        "         0.00121705,  0.00077717],\n",
        "       [ 0.00149623,  0.00204344,  0.00184582, ...,  0.0025826 ,\n",
        "         0.00130094,  0.00087151],\n",
        "       [ 0.00174244,  0.00240169,  0.00184946, ...,  0.00242241,\n",
        "         0.00142042,  0.0009963 ]]),\n",
        "       array([[ 0.00315895,  0.00684515,  0.00554985, ...,  0.00467711,\n",
        "         0.00370208,  0.00570584],\n",
        "       [ 0.00292631,  0.00667861,  0.00608854, ...,  0.00439021,\n",
        "         0.00322539,  0.00513708],\n",
        "       [ 0.00308024,  0.00614322,  0.00595162, ...,  0.00407937,\n",
        "         0.0027117 ,  0.00440871],\n",
        "       ..., \n",
        "       [ 0.01060123,  0.00998103,  0.00467284, ...,  0.0070512 ,\n",
        "         0.00571681,  0.00621068],\n",
        "       [ 0.01341484,  0.01326189,  0.00569282, ...,  0.00695314,\n",
        "         0.00525392,  0.00583914],\n",
        "       [ 0.0132804 ,  0.01446018,  0.00667919, ...,  0.00687459,\n",
        "         0.00487172,  0.00549503]]),\n",
        "       array([[ 0.00545912,  0.00514221,  0.00259379, ...,  0.00243352,\n",
        "         0.00163303,  0.00235821],\n",
        "       [ 0.00743983,  0.00843509,  0.00493685, ...,  0.00222844,\n",
        "         0.00145554,  0.00209989],\n",
        "       [ 0.00872754,  0.01175457,  0.00888748, ...,  0.00205777,\n",
        "         0.00130892,  0.00187597],\n",
        "       ..., \n",
        "       [ 0.0028782 ,  0.00329717,  0.0019985 , ...,  0.01369458,\n",
        "         0.00520178,  0.0018222 ],\n",
        "       [ 0.00205124,  0.00220489,  0.00139647, ...,  0.013491  ,\n",
        "         0.00512485,  0.00176707],\n",
        "       [ 0.00140952,  0.00132535,  0.00103719, ...,  0.01341298,\n",
        "         0.00510952,  0.00175063]]),\n",
        "       array([[ 0.00054085,  0.00136461,  0.00281042, ...,  0.01569371,\n",
        "         0.01746327,  0.00652572],\n",
        "       [ 0.00080822,  0.00179619,  0.00293518, ...,  0.01661913,\n",
        "         0.01914328,  0.00720338],\n",
        "       [ 0.00111968,  0.00213351,  0.0027386 , ...,  0.01773032,\n",
        "         0.02101221,  0.00795049],\n",
        "       ..., \n",
        "       [ 0.00307068,  0.00848251,  0.00905019, ...,  0.00304422,\n",
        "         0.00144181,  0.00236259],\n",
        "       [ 0.0025751 ,  0.00805283,  0.00974542, ...,  0.00323832,\n",
        "         0.0015004 ,  0.00244832],\n",
        "       [ 0.00239021,  0.00760828,  0.01027692, ...,  0.0033454 ,\n",
        "         0.00153177,  0.00249603]]),\n",
        "       array([[ 0.00029973,  0.00090773,  0.00182075, ...,  0.00819899,\n",
        "         0.00274162,  0.00061653],\n",
        "       [ 0.00028585,  0.0009863 ,  0.00209364, ...,  0.00792748,\n",
        "         0.00268186,  0.00064726],\n",
        "       [ 0.0002363 ,  0.00086797,  0.0021426 , ...,  0.00757235,\n",
        "         0.00259357,  0.00067294],\n",
        "       ..., \n",
        "       [ 0.00229044,  0.00349772,  0.00228999, ...,  0.0018276 ,\n",
        "         0.00207848,  0.00239009],\n",
        "       [ 0.00225475,  0.00394814,  0.00279381, ...,  0.00182138,\n",
        "         0.00212075,  0.0024328 ],\n",
        "       [ 0.00220825,  0.00436677,  0.00345899, ...,  0.00182809,\n",
        "         0.00217286,  0.00247558]]),\n",
        "       array([[ 0.01528034,  0.00900218,  0.00315731, ...,  0.00613837,\n",
        "         0.00420577,  0.00296994],\n",
        "       [ 0.01875525,  0.01126779,  0.00335656, ...,  0.00581116,\n",
        "         0.00400971,  0.00261328],\n",
        "       [ 0.01895047,  0.01178434,  0.00342063, ...,  0.00550532,\n",
        "         0.00386496,  0.00232929],\n",
        "       ..., \n",
        "       [ 0.00261859,  0.00190233,  0.00102604, ...,  0.00231874,\n",
        "         0.00167382,  0.0018391 ],\n",
        "       [ 0.00410502,  0.00333605,  0.00157788, ...,  0.00237442,\n",
        "         0.00161823,  0.00173515],\n",
        "       [ 0.00554275,  0.00513041,  0.00245706, ...,  0.00241828,\n",
        "         0.00155953,  0.00163443]]),\n",
        "       array([[ 0.00030064,  0.00063401,  0.00261683, ...,  0.00413203,\n",
        "         0.00147475,  0.00102605],\n",
        "       [ 0.00020043,  0.00065636,  0.00326487, ...,  0.00407215,\n",
        "         0.00154597,  0.00102558],\n",
        "       [ 0.00017326,  0.00071036,  0.00366494, ...,  0.00402929,\n",
        "         0.00163664,  0.00104554],\n",
        "       ..., \n",
        "       [ 0.01394135,  0.01573231,  0.00569016, ...,  0.0045721 ,\n",
        "         0.00196936,  0.0031003 ],\n",
        "       [ 0.01363468,  0.01630339,  0.00605736, ...,  0.00433923,\n",
        "         0.001869  ,  0.00289227],\n",
        "       [ 0.01070806,  0.01393029,  0.00564065, ...,  0.00415561,\n",
        "         0.00178959,  0.0027124 ]]),\n",
        "       array([[ 0.00193368,  0.0014482 ,  0.00154091, ...,  0.00816771,\n",
        "         0.00372534,  0.00193171],\n",
        "       [ 0.00068121,  0.00065656,  0.00178595, ...,  0.00772355,\n",
        "         0.00396971,  0.00209376],\n",
        "       [ 0.00028223,  0.0003983 ,  0.00188646, ...,  0.00719214,\n",
        "         0.00420447,  0.00230585],\n",
        "       ..., \n",
        "       [ 0.00274228,  0.00164957,  0.00119228, ...,  0.00423232,\n",
        "         0.00288976,  0.00483788],\n",
        "       [ 0.00249599,  0.00140771,  0.00112408, ...,  0.00390155,\n",
        "         0.00271767,  0.00475678],\n",
        "       [ 0.00380391,  0.001985  ,  0.0011298 , ...,  0.00358398,\n",
        "         0.00254646,  0.00466568]]),\n",
        "       array([[ 0.00536635,  0.00450956,  0.00168187, ...,  0.00305634,\n",
        "         0.00149063,  0.00158714],\n",
        "       [ 0.00722737,  0.00637516,  0.00213217, ...,  0.00262847,\n",
        "         0.00153543,  0.00180449],\n",
        "       [ 0.00804635,  0.00783064,  0.00273011, ...,  0.00224722,\n",
        "         0.00161236,  0.00205002],\n",
        "       ..., \n",
        "       [ 0.00521656,  0.00374625,  0.00307388, ...,  0.00912199,\n",
        "         0.00816736,  0.00535464],\n",
        "       [ 0.00289166,  0.00212534,  0.00225145, ...,  0.0091034 ,\n",
        "         0.0083299 ,  0.00543536],\n",
        "       [ 0.00141789,  0.00112106,  0.00167452, ...,  0.00907131,\n",
        "         0.00846168,  0.0055105 ]]),\n",
        "       array([[ 0.00089998,  0.00287131,  0.00347248, ...,  0.00491828,\n",
        "         0.00321906,  0.00119646],\n",
        "       [ 0.00140371,  0.00479044,  0.00541513, ...,  0.00447761,\n",
        "         0.00321208,  0.00122771],\n",
        "       [ 0.00203749,  0.00720459,  0.00789641, ...,  0.00407523,\n",
        "         0.00319213,  0.00125628],\n",
        "       ..., \n",
        "       [ 0.01971783,  0.01843862,  0.00557018, ...,  0.00366154,\n",
        "         0.00279843,  0.00542562],\n",
        "       [ 0.0274439 ,  0.02538581,  0.0071086 , ...,  0.00364726,\n",
        "         0.00275604,  0.00493135],\n",
        "       [ 0.02976192,  0.02778737,  0.00776701, ...,  0.00368856,\n",
        "         0.0027651 ,  0.00458155]]),\n",
        "       array([[ 0.00343425,  0.00622567,  0.0042825 , ...,  0.00643695,\n",
        "         0.00298903,  0.00241137],\n",
        "       [ 0.00218775,  0.00379767,  0.00302606, ...,  0.00660024,\n",
        "         0.0030802 ,  0.00248029],\n",
        "       [ 0.0014663 ,  0.00222513,  0.00215067, ...,  0.0067799 ,\n",
        "         0.00318733,  0.00255848],\n",
        "       ..., \n",
        "       [ 0.00074592,  0.00119503,  0.00211128, ...,  0.01040088,\n",
        "         0.00733965,  0.00677136],\n",
        "       [ 0.000974  ,  0.00149153,  0.00244823, ...,  0.0108976 ,\n",
        "         0.00800304,  0.00714754],\n",
        "       [ 0.00135947,  0.00202581,  0.00283875, ...,  0.01121634,\n",
        "         0.00852252,  0.00742871]]),\n",
        "       array([[ 0.00191159,  0.00214477,  0.00214143, ...,  0.00588967,\n",
        "         0.00337721,  0.00211255],\n",
        "       [ 0.00144348,  0.00149162,  0.00166012, ...,  0.00611444,\n",
        "         0.00395622,  0.00240018],\n",
        "       [ 0.00126405,  0.00127356,  0.00148441, ...,  0.00625315,\n",
        "         0.00457529,  0.00272143],\n",
        "       ..., \n",
        "       [ 0.00581388,  0.00539609,  0.00889238, ...,  0.00239119,\n",
        "         0.00212632,  0.00223692],\n",
        "       [ 0.00501823,  0.00575503,  0.00858733, ...,  0.00227976,\n",
        "         0.00206559,  0.00222573],\n",
        "       [ 0.00463743,  0.00582158,  0.00725606, ...,  0.00224223,\n",
        "         0.00207544,  0.00228879]]),\n",
        "       array([[ 0.00320318,  0.00872491,  0.01448983, ...,  0.00469306,\n",
        "         0.00165481,  0.00085156],\n",
        "       [ 0.00209525,  0.0067335 ,  0.01416309, ...,  0.00472903,\n",
        "         0.00167745,  0.00083982],\n",
        "       [ 0.00130116,  0.00494996,  0.0129247 , ...,  0.00470169,\n",
        "         0.00170852,  0.00083857],\n",
        "       ..., \n",
        "       [ 0.00116257,  0.00210025,  0.00249937, ...,  0.00284062,\n",
        "         0.00205618,  0.00288689],\n",
        "       [ 0.00085753,  0.00163065,  0.00219183, ...,  0.00313558,\n",
        "         0.00220537,  0.00283706],\n",
        "       [ 0.00098611,  0.00148268,  0.00194496, ...,  0.00341606,\n",
        "         0.00234241,  0.00277697]]),\n",
        "       array([[ 0.00016511,  0.00065624,  0.00431006, ...,  0.00458431,\n",
        "         0.00152072,  0.00039679],\n",
        "       [ 0.00015915,  0.00064503,  0.00427819, ...,  0.0045826 ,\n",
        "         0.00166805,  0.0004309 ],\n",
        "       [ 0.00015474,  0.00060604,  0.00404206, ...,  0.00471219,\n",
        "         0.00187033,  0.00048001],\n",
        "       ..., \n",
        "       [ 0.00470209,  0.00380061,  0.00225255, ...,  0.00794312,\n",
        "         0.00955754,  0.00668729],\n",
        "       [ 0.00390155,  0.00319424,  0.00215744, ...,  0.00794411,\n",
        "         0.0097715 ,  0.00679318],\n",
        "       [ 0.00264597,  0.00241705,  0.00218837, ...,  0.00799102,\n",
        "         0.01001524,  0.00692723]]),\n",
        "       array([[ 0.00432833,  0.00633239,  0.00512924, ...,  0.00411608,\n",
        "         0.0013524 ,  0.00090716],\n",
        "       [ 0.00484832,  0.00785274,  0.00544099, ...,  0.00399249,\n",
        "         0.00131625,  0.00084552],\n",
        "       [ 0.00483242,  0.00876191,  0.00588637, ...,  0.00400942,\n",
        "         0.0013235 ,  0.00080321],\n",
        "       ..., \n",
        "       [ 0.01061143,  0.00601577,  0.001351  , ...,  0.00466808,\n",
        "         0.00291203,  0.00418154],\n",
        "       [ 0.0070785 ,  0.00362672,  0.00082607, ...,  0.00485292,\n",
        "         0.00302471,  0.00426227],\n",
        "       [ 0.00423936,  0.0019657 ,  0.00050447, ...,  0.00495142,\n",
        "         0.0031064 ,  0.00434744]]),\n",
        "       array([[ 0.00090486,  0.00151882,  0.00250528, ...,  0.01281525,\n",
        "         0.00858903,  0.0066791 ],\n",
        "       [ 0.00113217,  0.0019845 ,  0.00307749, ...,  0.01235306,\n",
        "         0.00831593,  0.00633412],\n",
        "       [ 0.0012875 ,  0.00224221,  0.00346538, ...,  0.01189073,\n",
        "         0.00791344,  0.00585301],\n",
        "       ..., \n",
        "       [ 0.00052837,  0.00150765,  0.00347897, ...,  0.00321772,\n",
        "         0.00431597,  0.00492804],\n",
        "       [ 0.00073502,  0.0016632 ,  0.00314549, ...,  0.00325737,\n",
        "         0.0045035 ,  0.00502614],\n",
        "       [ 0.00141945,  0.00258035,  0.00322904, ...,  0.0032815 ,\n",
        "         0.00465127,  0.00508041]]),\n",
        "       array([[ 0.00093525,  0.00019614,  0.00021726, ...,  0.01865037,\n",
        "         0.01057804,  0.00444977],\n",
        "       [ 0.00086306,  0.00019063,  0.00022002, ...,  0.01828629,\n",
        "         0.00950954,  0.00403389],\n",
        "       [ 0.00084158,  0.0001985 ,  0.0002167 , ...,  0.01755143,\n",
        "         0.00845397,  0.00363002],\n",
        "       ..., \n",
        "       [ 0.00174316,  0.00091407,  0.00062027, ...,  0.00295242,\n",
        "         0.00201648,  0.00139206],\n",
        "       [ 0.00177589,  0.00101713,  0.00055831, ...,  0.00293346,\n",
        "         0.00194388,  0.00131478],\n",
        "       [ 0.00214482,  0.00151003,  0.00071194, ...,  0.00288417,\n",
        "         0.0018617 ,  0.00124549]]),\n",
        "       array([[ 0.00315297,  0.00474163,  0.00607176, ...,  0.00981035,\n",
        "         0.00626616,  0.00440534],\n",
        "       [ 0.00275659,  0.00331185,  0.004307  , ...,  0.01000085,\n",
        "         0.00683406,  0.00479335],\n",
        "       [ 0.001973  ,  0.00214519,  0.00318302, ...,  0.0099795 ,\n",
        "         0.00727478,  0.00515146],\n",
        "       ..., \n",
        "       [ 0.00183936,  0.00212695,  0.00202513, ...,  0.00769611,\n",
        "         0.00949298,  0.00856549],\n",
        "       [ 0.00206523,  0.00219601,  0.00206132, ...,  0.00760881,\n",
        "         0.01061181,  0.00937993],\n",
        "       [ 0.00315722,  0.00254459,  0.00191158, ...,  0.00754826,\n",
        "         0.01159722,  0.01000751]]),\n",
        "       array([[ 0.01939915,  0.01832125,  0.00655406, ...,  0.00393027,\n",
        "         0.00273831,  0.00294855],\n",
        "       [ 0.01045117,  0.01165964,  0.00518299, ...,  0.00485659,\n",
        "         0.00319164,  0.00291014],\n",
        "       [ 0.00523526,  0.0072019 ,  0.00395153, ...,  0.00611528,\n",
        "         0.0038332 ,  0.0029482 ],\n",
        "       ..., \n",
        "       [ 0.00232623,  0.00414212,  0.00582128, ...,  0.00505985,\n",
        "         0.00397787,  0.00379655],\n",
        "       [ 0.00215484,  0.0039629 ,  0.00584233, ...,  0.00498654,\n",
        "         0.00402174,  0.00383049],\n",
        "       [ 0.00193319,  0.00353233,  0.00573086, ...,  0.0048757 ,\n",
        "         0.00403026,  0.0038375 ]]),\n",
        "       array([[ 0.00215545,  0.00131804,  0.00057066, ...,  0.00149284,\n",
        "         0.00111428,  0.00091817],\n",
        "       [ 0.00163903,  0.0011113 ,  0.00057644, ...,  0.00192501,\n",
        "         0.00140495,  0.00091972],\n",
        "       [ 0.00129652,  0.00094554,  0.00062889, ...,  0.00256754,\n",
        "         0.00184996,  0.00100607],\n",
        "       ..., \n",
        "       [ 0.00632804,  0.00762722,  0.00436491, ...,  0.00446273,\n",
        "         0.00302193,  0.00377561],\n",
        "       [ 0.0070235 ,  0.0095364 ,  0.0051521 , ...,  0.00431114,\n",
        "         0.00300663,  0.00347049],\n",
        "       [ 0.00932786,  0.01299101,  0.00608632, ...,  0.00413839,\n",
        "         0.00296244,  0.00318458]]),\n",
        "       array([[ 0.00973866,  0.00539398,  0.00205435, ...,  0.00785556,\n",
        "         0.00196427,  0.00144467],\n",
        "       [ 0.00445213,  0.00297632,  0.00189756, ...,  0.00722218,\n",
        "         0.00180682,  0.00121556],\n",
        "       [ 0.00182971,  0.00164869,  0.00187907, ...,  0.00644175,\n",
        "         0.00164406,  0.00104055],\n",
        "       ..., \n",
        "       [ 0.00388284,  0.00358064,  0.00256677, ...,  0.00914027,\n",
        "         0.00626568,  0.00746045],\n",
        "       [ 0.00366005,  0.00324973,  0.00261773, ...,  0.009826  ,\n",
        "         0.00650325,  0.00790009],\n",
        "       [ 0.00368422,  0.00359357,  0.00321855, ...,  0.01032637,\n",
        "         0.00663139,  0.00818209]]),\n",
        "       array([[ 0.00015073,  0.00055623,  0.00337002, ...,  0.00237691,\n",
        "         0.00105581,  0.00107744],\n",
        "       [ 0.00014185,  0.00047723,  0.0028532 , ...,  0.00225908,\n",
        "         0.00111872,  0.0011877 ],\n",
        "       [ 0.00018352,  0.00051208,  0.00268742, ...,  0.00216818,\n",
        "         0.00118448,  0.00127779],\n",
        "       ..., \n",
        "       [ 0.00732206,  0.01186254,  0.00647432, ...,  0.00350456,\n",
        "         0.00206263,  0.00236376],\n",
        "       [ 0.0056005 ,  0.01051151,  0.006408  , ...,  0.00351989,\n",
        "         0.00208087,  0.00245988],\n",
        "       [ 0.00488854,  0.01014592,  0.00659443, ...,  0.00357717,\n",
        "         0.00212651,  0.00256042]]),\n",
        "       array([[ 0.00369649,  0.00291731,  0.00213627, ...,  0.00317239,\n",
        "         0.00232382,  0.00728766],\n",
        "       [ 0.00462276,  0.00303233,  0.00156462, ...,  0.00286644,\n",
        "         0.0020661 ,  0.00679908],\n",
        "       [ 0.00545727,  0.00292297,  0.00111974, ...,  0.0026079 ,\n",
        "         0.00182682,  0.00624007],\n",
        "       ..., \n",
        "       [ 0.00193207,  0.00138096,  0.00155005, ...,  0.01859637,\n",
        "         0.00581045,  0.00207176],\n",
        "       [ 0.00111346,  0.00093021,  0.00155802, ...,  0.01822294,\n",
        "         0.00556806,  0.0018513 ],\n",
        "       [ 0.00065105,  0.00079266,  0.0015834 , ...,  0.0175348 ,\n",
        "         0.00527967,  0.00166344]]),\n",
        "       array([[ 0.00539822,  0.00332096,  0.00150328, ...,  0.00217869,\n",
        "         0.0024025 ,  0.0051496 ],\n",
        "       [ 0.00610149,  0.00398991,  0.00173923, ...,  0.00191373,\n",
        "         0.00218577,  0.00503958],\n",
        "       [ 0.00626688,  0.00452308,  0.00215122, ...,  0.00170858,\n",
        "         0.00199247,  0.00493444],\n",
        "       ..., \n",
        "       [ 0.00804029,  0.00760137,  0.00393958, ...,  0.00064702,\n",
        "         0.00097216,  0.00278077],\n",
        "       [ 0.0066212 ,  0.00623234,  0.00332846, ...,  0.00060487,\n",
        "         0.00095836,  0.00284754],\n",
        "       [ 0.00518735,  0.00536747,  0.00293897, ...,  0.00057041,\n",
        "         0.00094163,  0.00288111]]),\n",
        "       array([[ 0.00031843,  0.00042877,  0.00188882, ...,  0.0023784 ,\n",
        "         0.00233675,  0.0034226 ],\n",
        "       [ 0.0005666 ,  0.00064931,  0.00177274, ...,  0.00214355,\n",
        "         0.00250013,  0.00394909],\n",
        "       [ 0.00140389,  0.00135466,  0.00175675, ...,  0.00194156,\n",
        "         0.0026707 ,  0.00454212],\n",
        "       ..., \n",
        "       [ 0.0061423 ,  0.00667776,  0.00364118, ...,  0.00402026,\n",
        "         0.00393064,  0.00393143],\n",
        "       [ 0.00612521,  0.00555683,  0.00302777, ...,  0.004177  ,\n",
        "         0.0041026 ,  0.00395162],\n",
        "       [ 0.00572485,  0.00459238,  0.0026878 , ...,  0.00432589,\n",
        "         0.00427108,  0.00398233]]),\n",
        "       array([[ 0.0006721 ,  0.00099987,  0.00174895, ...,  0.00588153,\n",
        "         0.00299509,  0.00242377],\n",
        "       [ 0.00047014,  0.00074394,  0.00168279, ...,  0.00596424,\n",
        "         0.00311865,  0.00250726],\n",
        "       [ 0.00040846,  0.00057524,  0.00156995, ...,  0.00604502,\n",
        "         0.00322864,  0.00255004],\n",
        "       ..., \n",
        "       [ 0.00596495,  0.00577192,  0.00188216, ...,  0.00062354,\n",
        "         0.00059399,  0.00162659],\n",
        "       [ 0.0028826 ,  0.00259206,  0.00097339, ...,  0.00066543,\n",
        "         0.00061661,  0.0014806 ],\n",
        "       [ 0.00161476,  0.00130412,  0.00062335, ...,  0.00070878,\n",
        "         0.00064403,  0.00133629]]),\n",
        "       array([[ 0.00373903,  0.00439334,  0.00290896, ...,  0.00564755,\n",
        "         0.00264848,  0.00250828],\n",
        "       [ 0.00370749,  0.00393312,  0.00234573, ...,  0.00623954,\n",
        "         0.00289518,  0.00258135],\n",
        "       [ 0.00321263,  0.00295518,  0.00173292, ...,  0.006734  ,\n",
        "         0.00311031,  0.00266323],\n",
        "       ..., \n",
        "       [ 0.01546358,  0.01853432,  0.00611399, ...,  0.00184691,\n",
        "         0.00117723,  0.00299825],\n",
        "       [ 0.01562031,  0.01894201,  0.00645287, ...,  0.00157077,\n",
        "         0.00109445,  0.00293673],\n",
        "       [ 0.01335578,  0.01671874,  0.00625187, ...,  0.00134218,\n",
        "         0.00103132,  0.00290114]]),\n",
        "       array([[ 0.0024126 ,  0.00272123,  0.00322339, ...,  0.00871898,\n",
        "         0.00406552,  0.00239777],\n",
        "       [ 0.00247828,  0.00250804,  0.00266124, ...,  0.00865342,\n",
        "         0.00403525,  0.00237688],\n",
        "       [ 0.00220044,  0.00225517,  0.00246764, ...,  0.00854137,\n",
        "         0.00400458,  0.00236728],\n",
        "       ..., \n",
        "       [ 0.00518422,  0.00654607,  0.00359308, ...,  0.01130153,\n",
        "         0.00521437,  0.00317277],\n",
        "       [ 0.00355684,  0.0045676 ,  0.00274804, ...,  0.01197013,\n",
        "         0.00544808,  0.00305258],\n",
        "       [ 0.002143  ,  0.00278784,  0.00194361, ...,  0.01233804,\n",
        "         0.00556693,  0.00292571]]),\n",
        "       array([[ 0.00379136,  0.00264056,  0.00127964, ...,  0.01695058,\n",
        "         0.00993109,  0.00872583],\n",
        "       [ 0.00351817,  0.00239766,  0.00156761, ...,  0.01561096,\n",
        "         0.00986216,  0.00779128],\n",
        "       [ 0.00327949,  0.00233365,  0.00224357, ...,  0.01451808,\n",
        "         0.00982033,  0.00698155],\n",
        "       ..., \n",
        "       [ 0.01912098,  0.02046457,  0.00609749, ...,  0.00344976,\n",
        "         0.00142962,  0.00295904],\n",
        "       [ 0.02448806,  0.02692067,  0.00787212, ...,  0.00320546,\n",
        "         0.00132209,  0.00263296],\n",
        "       [ 0.02520861,  0.02845132,  0.0084192 , ...,  0.00304873,\n",
        "         0.00124669,  0.00236385]]),\n",
        "       array([[ 0.00136087,  0.00365464,  0.00768699, ...,  0.00629362,\n",
        "         0.00349411,  0.00222814],\n",
        "       [ 0.00183238,  0.00438624,  0.00774687, ...,  0.00638854,\n",
        "         0.00349284,  0.00228079],\n",
        "       [ 0.00207737,  0.00439713,  0.00687736, ...,  0.00661695,\n",
        "         0.00355925,  0.00235108],\n",
        "       ..., \n",
        "       [ 0.00242699,  0.00172475,  0.00140067, ...,  0.00591671,\n",
        "         0.00257771,  0.00330123],\n",
        "       [ 0.00115536,  0.00091389,  0.00133725, ...,  0.0056466 ,\n",
        "         0.00254881,  0.00345576],\n",
        "       [ 0.0007171 ,  0.00070202,  0.00132835, ...,  0.00528972,\n",
        "         0.00249087,  0.00356572]]),\n",
        "       array([[ 0.00159323,  0.00173303,  0.00334069, ...,  0.00456255,\n",
        "         0.00363548,  0.00212288],\n",
        "       [ 0.00251623,  0.00205511,  0.00280024, ...,  0.00474011,\n",
        "         0.00376658,  0.00202578],\n",
        "       [ 0.00307687,  0.00236531,  0.00249686, ...,  0.00489761,\n",
        "         0.00388475,  0.00192912],\n",
        "       ..., \n",
        "       [ 0.00412119,  0.00447399,  0.00259848, ...,  0.01120801,\n",
        "         0.00301779,  0.00169588],\n",
        "       [ 0.00597181,  0.00640988,  0.0028804 , ...,  0.01132181,\n",
        "         0.00300786,  0.00151945],\n",
        "       [ 0.00732203,  0.00776425,  0.00297271, ...,  0.01111344,\n",
        "         0.00293128,  0.00134237]]),\n",
        "       array([[ 0.00016646,  0.00072384,  0.00400556, ...,  0.00905584,\n",
        "         0.00432718,  0.0012676 ],\n",
        "       [ 0.00016808,  0.00064147,  0.00371782, ...,  0.00871288,\n",
        "         0.00416159,  0.00124909],\n",
        "       [ 0.00019467,  0.00059664,  0.0034352 , ...,  0.00846381,\n",
        "         0.00402503,  0.00123242],\n",
        "       ..., \n",
        "       [ 0.00414736,  0.00468607,  0.00386451, ...,  0.00334046,\n",
        "         0.00423049,  0.0052823 ],\n",
        "       [ 0.00553706,  0.00589342,  0.00443551, ...,  0.00352368,\n",
        "         0.00430188,  0.00502799],\n",
        "       [ 0.00691219,  0.00733509,  0.00483075, ...,  0.00368879,\n",
        "         0.00435401,  0.004782  ]]),\n",
        "       array([[ 0.03335537,  0.01548877,  0.0028007 , ...,  0.00577984,\n",
        "         0.00195111,  0.00348428],\n",
        "       [ 0.02323072,  0.0106681 ,  0.00212333, ...,  0.00673469,\n",
        "         0.00209553,  0.00305387],\n",
        "       [ 0.01291717,  0.00597562,  0.00159835, ...,  0.00788122,\n",
        "         0.00230418,  0.00275122],\n",
        "       ..., \n",
        "       [ 0.00450895,  0.00980768,  0.01198085, ...,  0.00193727,\n",
        "         0.00180993,  0.00232717],\n",
        "       [ 0.00407142,  0.00914523,  0.0129714 , ...,  0.00209166,\n",
        "         0.00196166,  0.00234345],\n",
        "       [ 0.00346817,  0.0083416 ,  0.0133541 , ...,  0.00225   ,\n",
        "         0.00210609,  0.0023554 ]]),\n",
        "       array([[ 0.00093287,  0.00070073,  0.00187799, ...,  0.00953552,\n",
        "         0.00269335,  0.00138369],\n",
        "       [ 0.00044604,  0.00047966,  0.00194464, ...,  0.00899358,\n",
        "         0.00260537,  0.00152722],\n",
        "       [ 0.00044569,  0.0004754 ,  0.0018197 , ...,  0.00870693,\n",
        "         0.00262504,  0.00182205],\n",
        "       ..., \n",
        "       [ 0.00660056,  0.00699185,  0.00380704, ...,  0.00223814,\n",
        "         0.00310495,  0.0034456 ],\n",
        "       [ 0.00932867,  0.0078701 ,  0.00339746, ...,  0.00238343,\n",
        "         0.00348325,  0.0035916 ],\n",
        "       [ 0.01119643,  0.00812676,  0.00325086, ...,  0.00251455,\n",
        "         0.00382032,  0.00370891]]),\n",
        "       array([[ 0.0011138 ,  0.00146626,  0.00156966, ...,  0.00489756,\n",
        "         0.00144239,  0.00099785],\n",
        "       [ 0.00043375,  0.00073991,  0.00178449, ...,  0.00478979,\n",
        "         0.00140739,  0.00082621],\n",
        "       [ 0.00023794,  0.00055605,  0.00231375, ...,  0.00460585,\n",
        "         0.00135771,  0.00068839],\n",
        "       ..., \n",
        "       [ 0.00914173,  0.00872847,  0.0058294 , ...,  0.00277872,\n",
        "         0.0031772 ,  0.00467795],\n",
        "       [ 0.0094234 ,  0.00971849,  0.00631169, ...,  0.00262352,\n",
        "         0.00306949,  0.00456613],\n",
        "       [ 0.00968229,  0.01076653,  0.00683536, ...,  0.00251116,\n",
        "         0.0029935 ,  0.00449343]]),\n",
        "       array([[ 0.0004064 ,  0.0008264 ,  0.002452  , ...,  0.00729433,\n",
        "         0.00300244,  0.00107992],\n",
        "       [ 0.00040376,  0.00095966,  0.00288237, ...,  0.00680751,\n",
        "         0.0029087 ,  0.00114012],\n",
        "       [ 0.00043104,  0.00124686,  0.00373353, ...,  0.00638692,\n",
        "         0.00285856,  0.00121578],\n",
        "       ..., \n",
        "       [ 0.00184183,  0.00348451,  0.00352879, ...,  0.00155527,\n",
        "         0.00082634,  0.00056533],\n",
        "       [ 0.00158335,  0.00279145,  0.00268872, ...,  0.00132249,\n",
        "         0.00077389,  0.00055521],\n",
        "       [ 0.00141746,  0.00219734,  0.00212192, ...,  0.00111991,\n",
        "         0.00073112,  0.00054931]]),\n",
        "       array([[ 0.009324  ,  0.00606597,  0.00190464, ...,  0.00856249,\n",
        "         0.00277219,  0.00160369],\n",
        "       [ 0.0058824 ,  0.00482326,  0.0023077 , ...,  0.00943118,\n",
        "         0.00289045,  0.00141456],\n",
        "       [ 0.00397331,  0.00459115,  0.00321002, ...,  0.01009035,\n",
        "         0.00296419,  0.00125223],\n",
        "       ..., \n",
        "       [ 0.00268499,  0.00389428,  0.00332909, ...,  0.01162382,\n",
        "         0.00527206,  0.00369368],\n",
        "       [ 0.00338547,  0.0043905 ,  0.00291037, ...,  0.01298874,\n",
        "         0.00587893,  0.00374702],\n",
        "       [ 0.00413607,  0.004885  ,  0.00263425, ...,  0.01390349,\n",
        "         0.00629695,  0.00372575]]),\n",
        "       array([[ 0.00063732,  0.00091599,  0.00128468, ...,  0.00366124,\n",
        "         0.00210224,  0.00150778],\n",
        "       [ 0.00087494,  0.00158189,  0.0019155 , ...,  0.0034225 ,\n",
        "         0.00200805,  0.001526  ],\n",
        "       [ 0.00136577,  0.00261086,  0.00287385, ...,  0.00325139,\n",
        "         0.00192818,  0.00153152],\n",
        "       ..., \n",
        "       [ 0.00010259,  0.00019199,  0.00111876, ...,  0.01020395,\n",
        "         0.02136061,  0.02510043],\n",
        "       [ 0.00011002,  0.00021923,  0.00131168, ...,  0.00974801,\n",
        "         0.02212822,  0.02555769],\n",
        "       [ 0.00011779,  0.00024583,  0.00149618, ...,  0.00930152,\n",
        "         0.02250757,  0.0255852 ]]),\n",
        "       array([[ 0.00871525,  0.00736617,  0.00268102, ...,  0.00439863,\n",
        "         0.00163537,  0.00313374],\n",
        "       [ 0.00449509,  0.00391333,  0.00214077, ...,  0.00453202,\n",
        "         0.00169298,  0.00326915],\n",
        "       [ 0.0029119 ,  0.00238515,  0.00187466, ...,  0.00473066,\n",
        "         0.00176999,  0.00341605],\n",
        "       ..., \n",
        "       [ 0.00847162,  0.00631704,  0.00207406, ...,  0.00726149,\n",
        "         0.00415108,  0.00327939],\n",
        "       [ 0.00968753,  0.00758755,  0.00269273, ...,  0.0078529 ,\n",
        "         0.00445543,  0.00340472],\n",
        "       [ 0.00931868,  0.00814576,  0.00345729, ...,  0.00840669,\n",
        "         0.00475735,  0.00354573]]),\n",
        "       array([[ 0.00287277,  0.00188562,  0.00138971, ...,  0.00489972,\n",
        "         0.00180333,  0.0032372 ],\n",
        "       [ 0.0042861 ,  0.00231329,  0.00130184, ...,  0.00523888,\n",
        "         0.00192303,  0.00342781],\n",
        "       [ 0.00588327,  0.00311892,  0.0012448 , ...,  0.00566837,\n",
        "         0.00206058,  0.00358391],\n",
        "       ..., \n",
        "       [ 0.00638732,  0.01099355,  0.0061595 , ...,  0.00950458,\n",
        "         0.0049594 ,  0.00340012],\n",
        "       [ 0.00470778,  0.00829194,  0.00493581, ...,  0.00992511,\n",
        "         0.00535733,  0.00349561],\n",
        "       [ 0.00386771,  0.0070017 ,  0.00441544, ...,  0.0102022 ,\n",
        "         0.00569422,  0.00357785]]),\n",
        "       array([[ 0.00350642,  0.00586286,  0.00506361, ...,  0.00463735,\n",
        "         0.0029052 ,  0.00305302],\n",
        "       [ 0.0062291 ,  0.00813832,  0.00509916, ...,  0.00440339,\n",
        "         0.00275278,  0.00301479],\n",
        "       [ 0.00948239,  0.01072959,  0.00502891, ...,  0.0043172 ,\n",
        "         0.00263721,  0.00294442],\n",
        "       ..., \n",
        "       [ 0.00834   ,  0.00831337,  0.00420517, ...,  0.00669603,\n",
        "         0.00256979,  0.0027729 ],\n",
        "       [ 0.00813413,  0.00928652,  0.00548077, ...,  0.00692887,\n",
        "         0.00266363,  0.002902  ],\n",
        "       [ 0.00686987,  0.00897466,  0.00645854, ...,  0.00721344,\n",
        "         0.00277867,  0.00303238]]),\n",
        "       array([[ 0.01288424,  0.01293322,  0.00611648, ...,  0.00632341,\n",
        "         0.00205998,  0.0021014 ],\n",
        "       [ 0.01265866,  0.01398228,  0.00629513, ...,  0.00686244,\n",
        "         0.00216895,  0.00189814],\n",
        "       [ 0.0121345 ,  0.01361828,  0.00564169, ...,  0.00734088,\n",
        "         0.00228519,  0.00171077],\n",
        "       ..., \n",
        "       [ 0.00505379,  0.00299527,  0.00142921, ...,  0.00677916,\n",
        "         0.00337413,  0.00527039],\n",
        "       [ 0.00756211,  0.00393085,  0.00127921, ...,  0.00649258,\n",
        "         0.00321947,  0.00488046],\n",
        "       [ 0.01114578,  0.00526424,  0.00123087, ...,  0.00632963,\n",
        "         0.00311295,  0.0045593 ]]),\n",
        "       array([[ 0.00448091,  0.00971546,  0.00688295, ...,  0.00268908,\n",
        "         0.00242228,  0.00178599],\n",
        "       [ 0.00409947,  0.00876273,  0.00619052, ...,  0.002696  ,\n",
        "         0.00245052,  0.00174293],\n",
        "       [ 0.00377913,  0.00778724,  0.00552723, ...,  0.00269427,\n",
        "         0.00243726,  0.00167627],\n",
        "       ..., \n",
        "       [ 0.0141882 ,  0.01791215,  0.00614496, ...,  0.00619145,\n",
        "         0.00436454,  0.00582447],\n",
        "       [ 0.01247694,  0.01600696,  0.00563942, ...,  0.00676211,\n",
        "         0.00468585,  0.00599043],\n",
        "       [ 0.01168263,  0.01382495,  0.0046745 , ...,  0.00719685,\n",
        "         0.0049413 ,  0.00606826]]),\n",
        "       array([[ 0.00805885,  0.00565883,  0.00180031, ...,  0.00806162,\n",
        "         0.00275849,  0.00338908],\n",
        "       [ 0.00751242,  0.00586732,  0.00229371, ...,  0.00789813,\n",
        "         0.00281433,  0.00339685],\n",
        "       [ 0.00542529,  0.00479984,  0.00253671, ...,  0.00763413,\n",
        "         0.00285594,  0.00339099],\n",
        "       ..., \n",
        "       [ 0.00138354,  0.00189594,  0.00156229, ...,  0.00686175,\n",
        "         0.00363869,  0.0034768 ],\n",
        "       [ 0.00066408,  0.00088667,  0.00148764, ...,  0.00651405,\n",
        "         0.00363085,  0.00343019],\n",
        "       [ 0.00052642,  0.0005911 ,  0.00156718, ...,  0.00624099,\n",
        "         0.00364241,  0.00340969]]),\n",
        "       array([[ 0.0020464 ,  0.00145208,  0.00192462, ...,  0.00635883,\n",
        "         0.00261457,  0.00241268],\n",
        "       [ 0.00277885,  0.00223594,  0.00177739, ...,  0.0055651 ,\n",
        "         0.00242666,  0.0023935 ],\n",
        "       [ 0.00390385,  0.00329557,  0.00170097, ...,  0.0049608 ,\n",
        "         0.00229111,  0.00238141],\n",
        "       ..., \n",
        "       [ 0.01012935,  0.02105441,  0.01215292, ...,  0.00520248,\n",
        "         0.00282882,  0.00248954],\n",
        "       [ 0.01043822,  0.02091341,  0.01151002, ...,  0.00570065,\n",
        "         0.00310584,  0.00256485],\n",
        "       [ 0.01000658,  0.01961512,  0.01052663, ...,  0.00607405,\n",
        "         0.00332144,  0.00260906]]),\n",
        "       array([[ 0.00104366,  0.00073047,  0.00109082, ...,  0.00851944,\n",
        "         0.003083  ,  0.00344367],\n",
        "       [ 0.00277948,  0.00173703,  0.00114992, ...,  0.00821565,\n",
        "         0.00308243,  0.00329587],\n",
        "       [ 0.00621115,  0.00376197,  0.00135193, ...,  0.00804008,\n",
        "         0.0031132 ,  0.00311501],\n",
        "       ..., \n",
        "       [ 0.00683132,  0.00188831,  0.00039434, ...,  0.01828444,\n",
        "         0.0090928 ,  0.01188634],\n",
        "       [ 0.00580698,  0.00154812,  0.00038972, ...,  0.01874481,\n",
        "         0.00881461,  0.01110174],\n",
        "       [ 0.00452514,  0.00126569,  0.00047738, ...,  0.01886164,\n",
        "         0.00844909,  0.01029015]]),\n",
        "       array([[ 0.0005798 ,  0.00060483,  0.00091471, ...,  0.00596573,\n",
        "         0.00224621,  0.00440966],\n",
        "       [ 0.00118752,  0.0011482 ,  0.000984  , ...,  0.00626493,\n",
        "         0.00236802,  0.00460942],\n",
        "       [ 0.00241433,  0.0020967 ,  0.00112262, ...,  0.00660483,\n",
        "         0.00247674,  0.00466335],\n",
        "       ..., \n",
        "       [ 0.00392684,  0.00547369,  0.00265852, ...,  0.01057088,\n",
        "         0.00565976,  0.00305581],\n",
        "       [ 0.00395349,  0.00608967,  0.00326013, ...,  0.01018387,\n",
        "         0.00567027,  0.00298123],\n",
        "       [ 0.00563137,  0.0093443 ,  0.0049714 , ...,  0.00973878,\n",
        "         0.00562753,  0.00290953]]),\n",
        "       array([[ 0.00392125,  0.00324587,  0.00237488, ...,  0.00712101,\n",
        "         0.00397502,  0.00807286],\n",
        "       [ 0.00359935,  0.00316948,  0.00251548, ...,  0.0077002 ,\n",
        "         0.00416204,  0.00832475],\n",
        "       [ 0.00466749,  0.00363715,  0.00238818, ...,  0.00817102,\n",
        "         0.00424793,  0.00831471],\n",
        "       ..., \n",
        "       [ 0.01136225,  0.00874377,  0.00272133, ...,  0.00571395,\n",
        "         0.00345689,  0.00434325],\n",
        "       [ 0.00767684,  0.0056175 ,  0.00189567, ...,  0.00618243,\n",
        "         0.00370669,  0.00435905],\n",
        "       [ 0.00617353,  0.00397304,  0.00130909, ...,  0.00661372,\n",
        "         0.00394317,  0.00437871]]),\n",
        "       array([[ 0.01281065,  0.00691445,  0.00142176, ...,  0.00836787,\n",
        "         0.00292271,  0.00248526],\n",
        "       [ 0.01675715,  0.01004832,  0.00219696, ...,  0.0078255 ,\n",
        "         0.00272311,  0.00206439],\n",
        "       [ 0.0171785 ,  0.01119525,  0.00275564, ...,  0.00722894,\n",
        "         0.00253071,  0.00170491],\n",
        "       ..., \n",
        "       [ 0.00680128,  0.01108683,  0.0053887 , ...,  0.00127494,\n",
        "         0.00217118,  0.00430502],\n",
        "       [ 0.00838108,  0.01452599,  0.00693094, ...,  0.00114965,\n",
        "         0.00201615,  0.00416871],\n",
        "       [ 0.00907604,  0.01714465,  0.00872513, ...,  0.00105171,\n",
        "         0.00188136,  0.00401501]]),\n",
        "       array([[ 0.00321941,  0.001809  ,  0.00082649, ...,  0.00690262,\n",
        "         0.00409952,  0.00700642],\n",
        "       [ 0.00296735,  0.00153358,  0.00077387, ...,  0.00723429,\n",
        "         0.00423144,  0.00692445],\n",
        "       [ 0.0036981 ,  0.00168518,  0.00071637, ...,  0.0074825 ,\n",
        "         0.00429806,  0.00661002],\n",
        "       ..., \n",
        "       [ 0.01085183,  0.0140745 ,  0.00569111, ...,  0.00705315,\n",
        "         0.00306236,  0.00483016],\n",
        "       [ 0.00991734,  0.01148679,  0.00419232, ...,  0.00795691,\n",
        "         0.00336735,  0.00485715],\n",
        "       [ 0.0085838 ,  0.00847814,  0.00287512, ...,  0.00863276,\n",
        "         0.00359223,  0.00478809]]),\n",
        "       array([[ 0.00556808,  0.00523491,  0.00349503, ...,  0.00756925,\n",
        "         0.0027578 ,  0.00267982],\n",
        "       [ 0.00317967,  0.00330624,  0.00337262, ...,  0.00699894,\n",
        "         0.00263856,  0.00268899],\n",
        "       [ 0.00154564,  0.00186226,  0.00312972, ...,  0.00654264,\n",
        "         0.00255155,  0.00272913],\n",
        "       ..., \n",
        "       [ 0.01395516,  0.0063285 ,  0.00142504, ...,  0.0060492 ,\n",
        "         0.00320382,  0.00481985],\n",
        "       [ 0.01785388,  0.00759145,  0.00150653, ...,  0.00568556,\n",
        "         0.00296378,  0.00434428],\n",
        "       [ 0.02001466,  0.00828817,  0.00160024, ...,  0.00536319,\n",
        "         0.00276183,  0.00392643]]),\n",
        "       array([[ 0.0018874 ,  0.00061411,  0.00055363, ...,  0.00593663,\n",
        "         0.00165239,  0.0005761 ],\n",
        "       [ 0.00187809,  0.00058016,  0.00072259, ...,  0.00601431,\n",
        "         0.0016745 ,  0.00051133],\n",
        "       [ 0.00153413,  0.00053716,  0.00122018, ...,  0.00607204,\n",
        "         0.00169742,  0.0004669 ],\n",
        "       ..., \n",
        "       [ 0.01607109,  0.02526031,  0.01026926, ...,  0.00290835,\n",
        "         0.00116913,  0.00208053],\n",
        "       [ 0.01369233,  0.0214907 ,  0.00883387, ...,  0.00309258,\n",
        "         0.0012192 ,  0.00203173],\n",
        "       [ 0.00971603,  0.01542814,  0.0067362 , ...,  0.00325788,\n",
        "         0.00126728,  0.00200785]]),\n",
        "       array([[ 0.00242288,  0.00387971,  0.00701867, ...,  0.01144877,\n",
        "         0.00428517,  0.00505145],\n",
        "       [ 0.00341084,  0.00437524,  0.00708295, ...,  0.01202502,\n",
        "         0.00408927,  0.00416617],\n",
        "       [ 0.00587683,  0.00486733,  0.00604908, ...,  0.01233039,\n",
        "         0.00386485,  0.00334179],\n",
        "       ..., \n",
        "       [ 0.01519433,  0.02005632,  0.00745214, ...,  0.00129467,\n",
        "         0.00123932,  0.00320514],\n",
        "       [ 0.01471351,  0.01621497,  0.0058643 , ...,  0.00136624,\n",
        "         0.00124624,  0.00299944],\n",
        "       [ 0.01586815,  0.01312666,  0.0042679 , ...,  0.00147275,\n",
        "         0.00128377,  0.00285945]]),\n",
        "       array([[ 0.00698554,  0.00412393,  0.00188875, ...,  0.00974666,\n",
        "         0.00280042,  0.00127743],\n",
        "       [ 0.00524995,  0.00300278,  0.00168854, ...,  0.00870099,\n",
        "         0.00255883,  0.00101619],\n",
        "       [ 0.00296962,  0.00174307,  0.00157441, ...,  0.00771039,\n",
        "         0.00234399,  0.00082846],\n",
        "       ..., \n",
        "       [ 0.01013107,  0.0147041 ,  0.00718557, ...,  0.00254095,\n",
        "         0.00276183,  0.0044485 ],\n",
        "       [ 0.00942855,  0.01566749,  0.00847287, ...,  0.00261116,\n",
        "         0.00279133,  0.00442953],\n",
        "       [ 0.00878145,  0.016221  ,  0.00935151, ...,  0.00265773,\n",
        "         0.0028136 ,  0.00441221]]),\n",
        "       array([[ 0.00406194,  0.00378685,  0.00191364, ...,  0.01558403,\n",
        "         0.00428045,  0.00148666],\n",
        "       [ 0.00338084,  0.00330369,  0.00182688, ...,  0.01626966,\n",
        "         0.00434686,  0.00128069],\n",
        "       [ 0.0025901 ,  0.00253837,  0.00157044, ...,  0.01643247,\n",
        "         0.00430855,  0.00110871],\n",
        "       ..., \n",
        "       [ 0.00541087,  0.0055229 ,  0.00532517, ...,  0.00199765,\n",
        "         0.00185747,  0.00612943],\n",
        "       [ 0.00683992,  0.00497171,  0.00342164, ...,  0.00205364,\n",
        "         0.00201472,  0.00674862],\n",
        "       [ 0.00796291,  0.00475679,  0.00214149, ...,  0.00206727,\n",
        "         0.00214974,  0.00731757]]),\n",
        "       array([[ 0.00066508,  0.00065398,  0.00213536, ...,  0.00522202,\n",
        "         0.00181451,  0.00065854],\n",
        "       [ 0.00036374,  0.00044266,  0.00156921, ...,  0.00509457,\n",
        "         0.0019081 ,  0.0006455 ],\n",
        "       [ 0.00028283,  0.0003233 ,  0.00112732, ...,  0.00492676,\n",
        "         0.00202627,  0.00065489],\n",
        "       ..., \n",
        "       [ 0.01068383,  0.01425726,  0.00622318, ...,  0.00983034,\n",
        "         0.00422498,  0.00392142],\n",
        "       [ 0.01347254,  0.01709866,  0.006603  , ...,  0.00972555,\n",
        "         0.00417009,  0.00354065],\n",
        "       [ 0.01398552,  0.01728032,  0.00625734, ...,  0.00953032,\n",
        "         0.00408543,  0.00320828]]),\n",
        "       array([[ 0.00014482,  0.00044457,  0.002747  , ...,  0.00431302,\n",
        "         0.00138899,  0.00037599],\n",
        "       [ 0.00015218,  0.00053933,  0.00331382, ...,  0.00446412,\n",
        "         0.00146054,  0.00038997],\n",
        "       [ 0.00015713,  0.00060186,  0.00369858, ...,  0.00465174,\n",
        "         0.00151946,  0.00039789],\n",
        "       ..., \n",
        "       [ 0.0046857 ,  0.01025946,  0.00669958, ...,  0.00482386,\n",
        "         0.00427938,  0.00310574],\n",
        "       [ 0.00357761,  0.00793449,  0.00532903, ...,  0.00506393,\n",
        "         0.0045526 ,  0.00326817],\n",
        "       [ 0.0027175 ,  0.00573904,  0.00394768, ...,  0.00523291,\n",
        "         0.0047597 ,  0.00338686]]),\n",
        "       array([[ 0.00179481,  0.00330579,  0.00477737, ...,  0.00487973,\n",
        "         0.00305771,  0.00218143],\n",
        "       [ 0.0026152 ,  0.00341561,  0.00378782, ...,  0.00515576,\n",
        "         0.00321539,  0.0022139 ],\n",
        "       [ 0.00357332,  0.0033807 ,  0.00297702, ...,  0.00543282,\n",
        "         0.00339495,  0.00226481],\n",
        "       ..., \n",
        "       [ 0.00671885,  0.00532124,  0.00165387, ...,  0.00139673,\n",
        "         0.0008492 ,  0.00132593],\n",
        "       [ 0.00358239,  0.00320861,  0.00121586, ...,  0.00162063,\n",
        "         0.00096671,  0.00123825],\n",
        "       [ 0.00220444,  0.00218527,  0.00109878, ...,  0.00187657,\n",
        "         0.0011125 ,  0.00117094]]),\n",
        "       array([[ 0.00068121,  0.00154488,  0.00214578, ...,  0.01075904,\n",
        "         0.0095773 ,  0.00371255],\n",
        "       [ 0.00105201,  0.00296755,  0.00351107, ...,  0.0102691 ,\n",
        "         0.00912095,  0.00365464],\n",
        "       [ 0.00167866,  0.00503518,  0.00514342, ...,  0.00970179,\n",
        "         0.00863172,  0.00361627],\n",
        "       ..., \n",
        "       [ 0.00070622,  0.00092153,  0.00126771, ...,  0.00778418,\n",
        "         0.00405015,  0.00237892],\n",
        "       [ 0.000452  ,  0.00046405,  0.00104719, ...,  0.00776186,\n",
        "         0.00416878,  0.0025125 ],\n",
        "       [ 0.0004207 ,  0.00044968,  0.00123598, ...,  0.00772184,\n",
        "         0.00428643,  0.00266124]]),\n",
        "       array([[ 0.00055496,  0.00074398,  0.00123705, ...,  0.00493322,\n",
        "         0.00244325,  0.0009439 ],\n",
        "       [ 0.0008397 ,  0.00110485,  0.00132661, ...,  0.00490597,\n",
        "         0.00264709,  0.00100908],\n",
        "       [ 0.00112637,  0.00150435,  0.00141648, ...,  0.00500071,\n",
        "         0.00291346,  0.00109387],\n",
        "       ..., \n",
        "       [ 0.00162461,  0.00172756,  0.00208445, ...,  0.00763713,\n",
        "         0.00282917,  0.00118243],\n",
        "       [ 0.00186798,  0.00219995,  0.00261695, ...,  0.00689632,\n",
        "         0.00269004,  0.00121513],\n",
        "       [ 0.00192303,  0.00259796,  0.00315796, ...,  0.00632196,\n",
        "         0.0026269 ,  0.00128483]]),\n",
        "       array([[ 0.0011386 ,  0.00127539,  0.00109243, ...,  0.00342755,\n",
        "         0.00208359,  0.00095228],\n",
        "       [ 0.00148768,  0.00161112,  0.00111093, ...,  0.00311789,\n",
        "         0.00197051,  0.00091991],\n",
        "       [ 0.00162119,  0.00172856,  0.00108735, ...,  0.00285725,\n",
        "         0.00187412,  0.00089619],\n",
        "       ..., \n",
        "       [ 0.00092841,  0.00177505,  0.00485237, ...,  0.00265439,\n",
        "         0.00148447,  0.00078409],\n",
        "       [ 0.00114391,  0.00249912,  0.00655168, ...,  0.00257226,\n",
        "         0.00137046,  0.00067981],\n",
        "       [ 0.00109456,  0.00287135,  0.00777084, ...,  0.00246778,\n",
        "         0.00126264,  0.0005908 ]]),\n",
        "       array([[ 0.0146999 ,  0.00772686,  0.00165458, ...,  0.01117431,\n",
        "         0.00521949,  0.00309559],\n",
        "       [ 0.01659542,  0.00871102,  0.00175753, ...,  0.0126975 ,\n",
        "         0.00592721,  0.00285718],\n",
        "       [ 0.01454894,  0.00768786,  0.00163449, ...,  0.01440963,\n",
        "         0.00674062,  0.00273387],\n",
        "       ..., \n",
        "       [ 0.00843616,  0.00932348,  0.00424415, ...,  0.00122912,\n",
        "         0.0012135 ,  0.00483998],\n",
        "       [ 0.01285201,  0.01439215,  0.00518153, ...,  0.00111549,\n",
        "         0.00111108,  0.00444689],\n",
        "       [ 0.01826841,  0.02090881,  0.00665559, ...,  0.00104471,\n",
        "         0.00103723,  0.00412469]]),\n",
        "       array([[ 0.00534684,  0.02003523,  0.02121051, ...,  0.00372795,\n",
        "         0.00363617,  0.00163467],\n",
        "       [ 0.00486382,  0.0188553 ,  0.02113651, ...,  0.00367314,\n",
        "         0.00351308,  0.00157288],\n",
        "       [ 0.00419132,  0.01703411,  0.0206612 , ...,  0.00361624,\n",
        "         0.00338886,  0.0015236 ],\n",
        "       ..., \n",
        "       [ 0.01024329,  0.00955808,  0.00370561, ...,  0.00958455,\n",
        "         0.00551944,  0.00539971],\n",
        "       [ 0.01136424,  0.01153888,  0.00406521, ...,  0.00998401,\n",
        "         0.00592102,  0.0053986 ],\n",
        "       [ 0.01131355,  0.01206981,  0.00414997, ...,  0.01013661,\n",
        "         0.00618367,  0.00533795]]),\n",
        "       array([[ 0.00129458,  0.00083137,  0.00054652, ...,  0.00887799,\n",
        "         0.00728989,  0.00392515],\n",
        "       [ 0.00175472,  0.00113976,  0.00054252, ...,  0.00842428,\n",
        "         0.00770786,  0.0043627 ],\n",
        "       [ 0.00267753,  0.00162545,  0.00062137, ...,  0.00786004,\n",
        "         0.00800126,  0.00471951],\n",
        "       ..., \n",
        "       [ 0.00569393,  0.00896009,  0.00434743, ...,  0.00394257,\n",
        "         0.00277313,  0.00334445],\n",
        "       [ 0.00478359,  0.00595708,  0.00294988, ...,  0.00434733,\n",
        "         0.0030648 ,  0.00342812],\n",
        "       [ 0.00468178,  0.00454059,  0.00223152, ...,  0.00478831,\n",
        "         0.00338472,  0.0035373 ]]),\n",
        "       array([[ 0.00248341,  0.00051618,  0.00022733, ...,  0.00304467,\n",
        "         0.00319529,  0.0020281 ],\n",
        "       [ 0.00253781,  0.00045389,  0.00016971, ...,  0.00332289,\n",
        "         0.00330786,  0.00193546],\n",
        "       [ 0.0027698 ,  0.00047595,  0.0001538 , ...,  0.00373091,\n",
        "         0.00350533,  0.00185817],\n",
        "       ..., \n",
        "       [ 0.00766825,  0.01196565,  0.00609996, ...,  0.0026906 ,\n",
        "         0.00370684,  0.00590587],\n",
        "       [ 0.00795674,  0.01269514,  0.00701635, ...,  0.00274153,\n",
        "         0.00384056,  0.00600673],\n",
        "       [ 0.0077005 ,  0.01220807,  0.00747747, ...,  0.00277871,\n",
        "         0.00394273,  0.00605866]]),\n",
        "       array([[ 0.01050989,  0.00868722,  0.00394288, ...,  0.00356726,\n",
        "         0.00224061,  0.00361683],\n",
        "       [ 0.01254871,  0.00996281,  0.00384974, ...,  0.00337884,\n",
        "         0.00222434,  0.00373099],\n",
        "       [ 0.01121982,  0.00873144,  0.00357311, ...,  0.00320012,\n",
        "         0.00221466,  0.00390856],\n",
        "       ..., \n",
        "       [ 0.00672362,  0.00434186,  0.00148051, ...,  0.00161023,\n",
        "         0.00391464,  0.01009969],\n",
        "       [ 0.00610914,  0.00423982,  0.00156345, ...,  0.00149669,\n",
        "         0.0038942 ,  0.0104236 ],\n",
        "       [ 0.00478892,  0.00356916,  0.00156715, ...,  0.00139304,\n",
        "         0.00384191,  0.01057493]]),\n",
        "       array([[ 0.00021055,  0.00021403,  0.00060517, ...,  0.00500638,\n",
        "         0.00140644,  0.00036427],\n",
        "       [ 0.000372  ,  0.00039965,  0.00076044, ...,  0.00440756,\n",
        "         0.00129038,  0.00039714],\n",
        "       [ 0.00076259,  0.00077843,  0.00098834, ...,  0.0038222 ,\n",
        "         0.00118553,  0.0004481 ],\n",
        "       ..., \n",
        "       [ 0.00288428,  0.00376271,  0.00334011, ...,  0.00659687,\n",
        "         0.00359812,  0.00225809],\n",
        "       [ 0.00181354,  0.00217876,  0.00237733, ...,  0.00656382,\n",
        "         0.0035319 ,  0.00216864],\n",
        "       [ 0.00157738,  0.0015044 ,  0.00190558, ...,  0.00651405,\n",
        "         0.00346088,  0.00209051]]),\n",
        "       array([[ 0.01697243,  0.0125408 ,  0.00308773, ...,  0.00256373,\n",
        "         0.00173367,  0.00607511],\n",
        "       [ 0.01935528,  0.01419488,  0.00329126, ...,  0.00320879,\n",
        "         0.00179389,  0.00567148],\n",
        "       [ 0.01933424,  0.01442503,  0.00335082, ...,  0.00407182,\n",
        "         0.00193414,  0.00533091],\n",
        "       ..., \n",
        "       [ 0.00641099,  0.01224631,  0.00812854, ...,  0.00141483,\n",
        "         0.00134263,  0.00266674],\n",
        "       [ 0.00921581,  0.01668199,  0.00925401, ...,  0.00114798,\n",
        "         0.00121618,  0.00256527],\n",
        "       [ 0.01114295,  0.02004611,  0.01002275, ...,  0.00094203,\n",
        "         0.00111287,  0.00247133]]),\n",
        "       array([[ 0.00241752,  0.00140573,  0.00134065, ...,  0.00865361,\n",
        "         0.0027392 ,  0.00100854],\n",
        "       [ 0.00096583,  0.00066556,  0.00119679, ...,  0.00873693,\n",
        "         0.00267384,  0.00079887],\n",
        "       [ 0.00034802,  0.00034924,  0.0012257 , ...,  0.00873707,\n",
        "         0.00261674,  0.00065383],\n",
        "       ..., \n",
        "       [ 0.00439076,  0.00838549,  0.00416906, ...,  0.0074949 ,\n",
        "         0.00549464,  0.00607762],\n",
        "       [ 0.00259441,  0.00484489,  0.00257655, ...,  0.00796502,\n",
        "         0.00592834,  0.00656709],\n",
        "       [ 0.0015052 ,  0.00245146,  0.0014427 , ...,  0.00833953,\n",
        "         0.0062953 ,  0.00699773]]),\n",
        "       array([[ 0.00048756,  0.00131412,  0.00249366, ...,  0.00434676,\n",
        "         0.00241762,  0.00094354],\n",
        "       [ 0.0006593 ,  0.00163106,  0.00266849, ...,  0.00415893,\n",
        "         0.00239423,  0.00096049],\n",
        "       [ 0.0007857 ,  0.00190244,  0.00319274, ...,  0.00398321,\n",
        "         0.00237666,  0.00097783],\n",
        "       ..., \n",
        "       [ 0.01887891,  0.02242751,  0.0076477 , ...,  0.00123188,\n",
        "         0.00134143,  0.00370502],\n",
        "       [ 0.0208131 ,  0.02393908,  0.00781262, ...,  0.00120316,\n",
        "         0.00129903,  0.00334789],\n",
        "       [ 0.02027177,  0.02258691,  0.0071933 , ...,  0.00119109,\n",
        "         0.00128087,  0.00307084]]),\n",
        "       array([[ 0.003765  ,  0.00497282,  0.00367341, ...,  0.0066975 ,\n",
        "         0.00440238,  0.00246567],\n",
        "       [ 0.00433458,  0.00609866,  0.00431242, ...,  0.00628605,\n",
        "         0.00437982,  0.00244553],\n",
        "       [ 0.00402916,  0.00627684,  0.00473626, ...,  0.00587592,\n",
        "         0.0043567 ,  0.00241892],\n",
        "       ..., \n",
        "       [ 0.0111659 ,  0.00818851,  0.00367324, ...,  0.00274047,\n",
        "         0.00126355,  0.00214048],\n",
        "       [ 0.0102946 ,  0.00673234,  0.00314612, ...,  0.00272256,\n",
        "         0.00124875,  0.0020814 ],\n",
        "       [ 0.01006122,  0.00634958,  0.0031401 , ...,  0.00275325,\n",
        "         0.00126556,  0.00207642]]),\n",
        "       array([[ 0.0131403 ,  0.01455432,  0.0053352 , ...,  0.0063917 ,\n",
        "         0.00186244,  0.00103985],\n",
        "       [ 0.00791432,  0.00942533,  0.0043864 , ...,  0.00592579,\n",
        "         0.0017594 ,  0.00087127],\n",
        "       [ 0.00386319,  0.00501733,  0.00333842, ...,  0.00543828,\n",
        "         0.00167884,  0.00076053],\n",
        "       ..., \n",
        "       [ 0.00928255,  0.00462847,  0.00136595, ...,  0.0043384 ,\n",
        "         0.0027771 ,  0.0041232 ],\n",
        "       [ 0.0133098 ,  0.00655561,  0.00152023, ...,  0.00470772,\n",
        "         0.00284341,  0.00367736],\n",
        "       [ 0.01787437,  0.00910005,  0.00188876, ...,  0.00506511,\n",
        "         0.00292865,  0.00331431]]),\n",
        "       array([[ 0.00339618,  0.00267384,  0.00193927, ...,  0.00592342,\n",
        "         0.00707101,  0.00642892],\n",
        "       [ 0.00496299,  0.00397943,  0.00243033, ...,  0.00579415,\n",
        "         0.00683493,  0.00651629],\n",
        "       [ 0.00564861,  0.00488044,  0.00316323, ...,  0.00592505,\n",
        "         0.00661254,  0.00651043],\n",
        "       ..., \n",
        "       [ 0.00536479,  0.00529322,  0.0034375 , ...,  0.0037112 ,\n",
        "         0.00478979,  0.00669538],\n",
        "       [ 0.0056816 ,  0.00590371,  0.00383894, ...,  0.00323322,\n",
        "         0.0045793 ,  0.00676979],\n",
        "       [ 0.00539023,  0.00639254,  0.00457809, ...,  0.00283032,\n",
        "         0.00436171,  0.00675494]]),\n",
        "       array([[ 0.00357064,  0.00544788,  0.00398908, ...,  0.00991943,\n",
        "         0.00437792,  0.00297434],\n",
        "       [ 0.00232212,  0.00382414,  0.00353356, ...,  0.01013105,\n",
        "         0.0047856 ,  0.00331757],\n",
        "       [ 0.00134741,  0.00241179,  0.0030819 , ...,  0.01009007,\n",
        "         0.00516426,  0.0037187 ],\n",
        "       ..., \n",
        "       [ 0.00313452,  0.00153723,  0.00099312, ...,  0.0011232 ,\n",
        "         0.0010797 ,  0.00079216],\n",
        "       [ 0.00228776,  0.00167091,  0.00115529, ...,  0.00107238,\n",
        "         0.00105721,  0.00074064],\n",
        "       [ 0.0018587 ,  0.00186781,  0.00132775, ...,  0.00103732,\n",
        "         0.00105636,  0.00071516]]),\n",
        "       array([[ 0.00090215,  0.00184805,  0.00371279, ...,  0.00427993,\n",
        "         0.00176228,  0.000587  ],\n",
        "       [ 0.00088173,  0.00207551,  0.00467487, ...,  0.00395416,\n",
        "         0.00166892,  0.00063674],\n",
        "       [ 0.00070869,  0.00217587,  0.00583905, ...,  0.00362634,\n",
        "         0.00158019,  0.00070764],\n",
        "       ..., \n",
        "       [ 0.00953596,  0.00970818,  0.00463144, ...,  0.00235023,\n",
        "         0.00213466,  0.00347017],\n",
        "       [ 0.01225385,  0.01229752,  0.00515288, ...,  0.00239117,\n",
        "         0.00204557,  0.00311302],\n",
        "       [ 0.01464704,  0.01470003,  0.00554806, ...,  0.00245433,\n",
        "         0.00198307,  0.00281574]]),\n",
        "       array([[ 0.00777183,  0.01039673,  0.00702897, ...,  0.00682282,\n",
        "         0.00475125,  0.00393852],\n",
        "       [ 0.00756001,  0.00998588,  0.00641258, ...,  0.00753162,\n",
        "         0.00490532,  0.00404248],\n",
        "       [ 0.00573186,  0.00802408,  0.00552604, ...,  0.00850838,\n",
        "         0.00509452,  0.00412826],\n",
        "       ..., \n",
        "       [ 0.00472673,  0.01286007,  0.01115661, ...,  0.00058022,\n",
        "         0.00101653,  0.00243867],\n",
        "       [ 0.0053666 ,  0.01367216,  0.01153226, ...,  0.00051927,\n",
        "         0.00093259,  0.00231954],\n",
        "       [ 0.00609549,  0.01452498,  0.01161451, ...,  0.00046977,\n",
        "         0.00086193,  0.00220797]]),\n",
        "       array([[ 0.00807083,  0.00472408,  0.00196406, ...,  0.00798568,\n",
        "         0.00309768,  0.00283961],\n",
        "       [ 0.0073158 ,  0.00374924,  0.0014778 , ...,  0.00921729,\n",
        "         0.00325777,  0.00255056],\n",
        "       [ 0.00949621,  0.0043561 ,  0.00126368, ...,  0.01072079,\n",
        "         0.00350211,  0.0022669 ],\n",
        "       ..., \n",
        "       [ 0.01237889,  0.02713815,  0.01400208, ...,  0.00231956,\n",
        "         0.00156388,  0.00278071],\n",
        "       [ 0.01234152,  0.02733453,  0.01412371, ...,  0.00259581,\n",
        "         0.00171174,  0.00279111],\n",
        "       [ 0.01184471,  0.02668693,  0.01407456, ...,  0.00286205,\n",
        "         0.00186051,  0.00281213]]),\n",
        "       array([[ 0.00935683,  0.0057044 ,  0.00140282, ...,  0.02063496,\n",
        "         0.00596229,  0.00281922],\n",
        "       [ 0.00806294,  0.00510013,  0.00147318, ...,  0.02229305,\n",
        "         0.0064238 ,  0.00259067],\n",
        "       [ 0.00702685,  0.00472305,  0.001677  , ...,  0.02344296,\n",
        "         0.00683223,  0.00242932],\n",
        "       ..., \n",
        "       [ 0.00828074,  0.01182623,  0.00564579, ...,  0.00085352,\n",
        "         0.00216186,  0.00768216],\n",
        "       [ 0.00738932,  0.01087536,  0.0055688 , ...,  0.0008597 ,\n",
        "         0.00226991,  0.00804664],\n",
        "       [ 0.00665734,  0.00987481,  0.0055255 , ...,  0.0008564 ,\n",
        "         0.00234946,  0.00830357]]),\n",
        "       array([[ 0.00019201,  0.00051677,  0.00222878, ...,  0.00662349,\n",
        "         0.00258039,  0.0006776 ],\n",
        "       [ 0.00020776,  0.00060145,  0.00239379, ...,  0.00640962,\n",
        "         0.00260438,  0.00069361],\n",
        "       [ 0.00021714,  0.00069448,  0.00284313, ...,  0.00619583,\n",
        "         0.00261554,  0.00070587],\n",
        "       ..., \n",
        "       [ 0.00527256,  0.00588795,  0.00315125, ...,  0.00317233,\n",
        "         0.00307404,  0.00515637],\n",
        "       [ 0.00738968,  0.00760243,  0.00306117, ...,  0.00277081,\n",
        "         0.00285395,  0.00504948],\n",
        "       [ 0.0085115 ,  0.00863177,  0.00303903, ...,  0.00246797,\n",
        "         0.0026652 ,  0.00490391]]),\n",
        "       array([[ 0.00037386,  0.0011723 ,  0.00239844, ...,  0.00793064,\n",
        "         0.00597903,  0.00180175],\n",
        "       [ 0.0004414 ,  0.00148102,  0.00292683, ...,  0.00684809,\n",
        "         0.00512951,  0.00162757],\n",
        "       [ 0.00046989,  0.00167469,  0.00337351, ...,  0.0059223 ,\n",
        "         0.00439667,  0.00147074],\n",
        "       ..., \n",
        "       [ 0.01021565,  0.01001775,  0.00361843, ...,  0.00048362,\n",
        "         0.00093211,  0.00271032],\n",
        "       [ 0.01242402,  0.01092728,  0.0032847 , ...,  0.00045339,\n",
        "         0.0009209 ,  0.00267193],\n",
        "       [ 0.01352168,  0.01102106,  0.00289358, ...,  0.00044044,\n",
        "         0.0009309 ,  0.00267749]]),\n",
        "       array([[ 0.00113496,  0.00090986,  0.00117858, ...,  0.00516949,\n",
        "         0.00534978,  0.00313707],\n",
        "       [ 0.00201616,  0.0011811 ,  0.00082857, ...,  0.0047321 ,\n",
        "         0.00519752,  0.00314488],\n",
        "       [ 0.00312034,  0.00148016,  0.00062867, ...,  0.00435902,\n",
        "         0.00500231,  0.00309237],\n",
        "       ..., \n",
        "       [ 0.0042525 ,  0.00420682,  0.00210081, ...,  0.01669745,\n",
        "         0.00622799,  0.00271996],\n",
        "       [ 0.00261876,  0.00272704,  0.00178429, ...,  0.01608384,\n",
        "         0.00622933,  0.00271739],\n",
        "       [ 0.0014096 ,  0.00158566,  0.00168747, ...,  0.01563891,\n",
        "         0.00628782,  0.00276048]]),\n",
        "       array([[ 0.01587587,  0.01835138,  0.00655731, ...,  0.00486034,\n",
        "         0.00490389,  0.00968156],\n",
        "       [ 0.02172095,  0.02326441,  0.00714785, ...,  0.00553576,\n",
        "         0.00460778,  0.00802574],\n",
        "       [ 0.02481906,  0.02495602,  0.00699244, ...,  0.00644086,\n",
        "         0.0044328 ,  0.00660881],\n",
        "       ..., \n",
        "       [ 0.00922495,  0.01882991,  0.01183202, ...,  0.00223075,\n",
        "         0.00172552,  0.00162019],\n",
        "       [ 0.0082763 ,  0.01669008,  0.01075098, ...,  0.00242528,\n",
        "         0.00187242,  0.001616  ],\n",
        "       [ 0.00652887,  0.01366675,  0.00964525, ...,  0.00260894,\n",
        "         0.00201546,  0.00161677]]),\n",
        "       array([[ 0.00176286,  0.00249621,  0.00323708, ...,  0.00935135,\n",
        "         0.00677558,  0.00470043],\n",
        "       [ 0.00166415,  0.00223519,  0.00275866, ...,  0.0097423 ,\n",
        "         0.00695913,  0.00456434],\n",
        "       [ 0.0025737 ,  0.00245146,  0.00229274, ...,  0.01004335,\n",
        "         0.00708678,  0.00436814],\n",
        "       ..., \n",
        "       [ 0.0145628 ,  0.01663804,  0.00649618, ...,  0.00125271,\n",
        "         0.00231225,  0.00470868],\n",
        "       [ 0.0135015 ,  0.01603092,  0.00619913, ...,  0.00121989,\n",
        "         0.00219955,  0.00458863],\n",
        "       [ 0.01232322,  0.01638009,  0.00677636, ...,  0.00121078,\n",
        "         0.00212575,  0.0045111 ]]),\n",
        "       array([[ 0.00228487,  0.00111838,  0.00091499, ...,  0.02019676,\n",
        "         0.00539337,  0.00136214],\n",
        "       [ 0.00146652,  0.00071585,  0.00113572, ...,  0.01755264,\n",
        "         0.00478998,  0.00116699],\n",
        "       [ 0.00076317,  0.0004955 ,  0.00160882, ...,  0.01505322,\n",
        "         0.00421439,  0.00100796],\n",
        "       ..., \n",
        "       [ 0.00551352,  0.00624768,  0.00328305, ...,  0.0068918 ,\n",
        "         0.00538022,  0.00354329],\n",
        "       [ 0.0055795 ,  0.00658884,  0.00373006, ...,  0.00704935,\n",
        "         0.00578056,  0.00387623],\n",
        "       [ 0.0048511 ,  0.00620319,  0.00412179, ...,  0.00722755,\n",
        "         0.00621982,  0.00424325]]),\n",
        "       array([[ 0.00409225,  0.00764605,  0.00793839, ...,  0.00691998,\n",
        "         0.00383697,  0.00270015],\n",
        "       [ 0.00283449,  0.00592159,  0.0075184 , ...,  0.00742266,\n",
        "         0.00392416,  0.00270726],\n",
        "       [ 0.00192679,  0.00433737,  0.00671707, ...,  0.00813684,\n",
        "         0.00403924,  0.0026886 ],\n",
        "       ..., \n",
        "       [ 0.00503248,  0.00780276,  0.00704618, ...,  0.00486683,\n",
        "         0.00462229,  0.00327747],\n",
        "       [ 0.00344725,  0.00574635,  0.00697907, ...,  0.00508192,\n",
        "         0.00486282,  0.00335958],\n",
        "       [ 0.00220705,  0.00410333,  0.00696534, ...,  0.00525298,\n",
        "         0.00507993,  0.00344559]]),\n",
        "       array([[ 0.00029256,  0.00045402,  0.00180947, ...,  0.01141821,\n",
        "         0.0045819 ,  0.00094588],\n",
        "       [ 0.00031417,  0.00046436,  0.00142682, ...,  0.01053863,\n",
        "         0.00432958,  0.00091426],\n",
        "       [ 0.00031357,  0.00045508,  0.0011208 , ...,  0.00978891,\n",
        "         0.00411466,  0.00088686],\n",
        "       ..., \n",
        "       [ 0.00097864,  0.00282538,  0.00555858, ...,  0.006544  ,\n",
        "         0.00263759,  0.00119167],\n",
        "       [ 0.00078733,  0.00282755,  0.00549458, ...,  0.00593583,\n",
        "         0.00261262,  0.00120776],\n",
        "       [ 0.00061249,  0.00226261,  0.00476571, ...,  0.00540892,\n",
        "         0.00260985,  0.00124411]]),\n",
        "       array([[ 0.00910707,  0.00814102,  0.0042704 , ...,  0.00320628,\n",
        "         0.00218407,  0.00216425],\n",
        "       [ 0.0064501 ,  0.00827541,  0.00522111, ...,  0.00333644,\n",
        "         0.00218016,  0.00204419],\n",
        "       [ 0.00572919,  0.00930938,  0.0062314 , ...,  0.00347126,\n",
        "         0.00215656,  0.00194747],\n",
        "       ..., \n",
        "       [ 0.00354812,  0.00408741,  0.00723831, ...,  0.0052003 ,\n",
        "         0.01268216,  0.01856687],\n",
        "       [ 0.00311656,  0.00458352,  0.00771202, ...,  0.005305  ,\n",
        "         0.01253046,  0.01852661],\n",
        "       [ 0.00287822,  0.00491432,  0.00724914, ...,  0.00537179,\n",
        "         0.01233708,  0.01838526]]),\n",
        "       array([[ 0.01079078,  0.0080417 ,  0.00249886, ...,  0.00627705,\n",
        "         0.00254536,  0.00535584],\n",
        "       [ 0.01742712,  0.01307328,  0.00347147, ...,  0.0067409 ,\n",
        "         0.00247683,  0.00432548],\n",
        "       [ 0.02504139,  0.01906733,  0.00473944, ...,  0.00735141,\n",
        "         0.00249584,  0.00355387],\n",
        "       ..., \n",
        "       [ 0.01325832,  0.02198674,  0.00969819, ...,  0.00210829,\n",
        "         0.00201496,  0.00301822],\n",
        "       [ 0.01173677,  0.02155104,  0.01055417, ...,  0.00228199,\n",
        "         0.00220463,  0.00305928],\n",
        "       [ 0.01008888,  0.02074995,  0.01112559, ...,  0.00246768,\n",
        "         0.00240181,  0.00311876]]),\n",
        "       array([[ 0.00041094,  0.00068689,  0.00155612, ...,  0.01392945,\n",
        "         0.00501473,  0.00234696],\n",
        "       [ 0.00034378,  0.00059726,  0.00173212, ...,  0.01572217,\n",
        "         0.00560232,  0.00250236],\n",
        "       [ 0.00052767,  0.0008359 ,  0.00201243, ...,  0.01768675,\n",
        "         0.00625806,  0.00269045],\n",
        "       ..., \n",
        "       [ 0.00733471,  0.01141064,  0.0054581 , ...,  0.0020666 ,\n",
        "         0.00219115,  0.00512985],\n",
        "       [ 0.0066211 ,  0.00876649,  0.00425618, ...,  0.00210577,\n",
        "         0.00227428,  0.00529594],\n",
        "       [ 0.00750841,  0.00710146,  0.00312191, ...,  0.00212131,\n",
        "         0.00233397,  0.00540453]]),\n",
        "       array([[ 0.00223554,  0.00460061,  0.00571886, ...,  0.01057687,\n",
        "         0.0056847 ,  0.0032934 ],\n",
        "       [ 0.00237582,  0.00408474,  0.00475001, ...,  0.01109154,\n",
        "         0.00600072,  0.00314405],\n",
        "       [ 0.00245022,  0.00354859,  0.0039212 , ...,  0.01157719,\n",
        "         0.00633088,  0.00299584],\n",
        "       ..., \n",
        "       [ 0.00305012,  0.00659532,  0.00811685, ...,  0.00951968,\n",
        "         0.01510123,  0.01068362],\n",
        "       [ 0.00149569,  0.00349089,  0.00574438, ...,  0.00949545,\n",
        "         0.01574476,  0.01078653],\n",
        "       [ 0.00065557,  0.00159294,  0.00382297, ...,  0.00940444,\n",
        "         0.01618388,  0.01078376]]),\n",
        "       array([[ 0.01031388,  0.00631459,  0.00200181, ...,  0.00711495,\n",
        "         0.00215886,  0.0008513 ],\n",
        "       [ 0.0058299 ,  0.00423157,  0.00210453, ...,  0.00752118,\n",
        "         0.00236268,  0.00080848],\n",
        "       [ 0.00267965,  0.00252598,  0.00216127, ...,  0.00775374,\n",
        "         0.00252959,  0.00077662],\n",
        "       ..., \n",
        "       [ 0.00448912,  0.00993169,  0.01009981, ...,  0.00182365,\n",
        "         0.00177714,  0.00378483],\n",
        "       [ 0.00572081,  0.01174831,  0.01016756, ...,  0.0014376 ,\n",
        "         0.00158362,  0.00385512],\n",
        "       [ 0.00696935,  0.01399112,  0.01046599, ...,  0.00114835,\n",
        "         0.00143461,  0.00390089]]),\n",
        "       array([[ 0.0049276 ,  0.00895734,  0.00665266, ...,  0.00199177,\n",
        "         0.00120834,  0.00219959],\n",
        "       [ 0.00383441,  0.00836523,  0.0066403 , ...,  0.00267901,\n",
        "         0.00152575,  0.00221792],\n",
        "       [ 0.00371186,  0.00839204,  0.00604359, ...,  0.00359942,\n",
        "         0.0019618 ,  0.00221481],\n",
        "       ..., \n",
        "       [ 0.01195364,  0.00642254,  0.00168778, ...,  0.00478881,\n",
        "         0.00230182,  0.0024315 ],\n",
        "       [ 0.00776836,  0.00404453,  0.00125095, ...,  0.0047419 ,\n",
        "         0.00232673,  0.00224128],\n",
        "       [ 0.00460235,  0.00240081,  0.00107981, ...,  0.00476515,\n",
        "         0.00239211,  0.0021171 ]]),\n",
        "       array([[ 0.00271487,  0.00370134,  0.00447243, ...,  0.00479395,\n",
        "         0.00350677,  0.00247759],\n",
        "       [ 0.00288557,  0.0043403 ,  0.0041852 , ...,  0.00466902,\n",
        "         0.003497  ,  0.00255482],\n",
        "       [ 0.00367033,  0.00590625,  0.00482989, ...,  0.00463119,\n",
        "         0.00355412,  0.00266151],\n",
        "       ..., \n",
        "       [ 0.00639821,  0.00695918,  0.00261355, ...,  0.00282416,\n",
        "         0.00378423,  0.00742234],\n",
        "       [ 0.00312935,  0.00373062,  0.0016125 , ...,  0.00326793,\n",
        "         0.00457023,  0.00873739],\n",
        "       [ 0.0016121 ,  0.00214614,  0.00110895, ...,  0.00366706,\n",
        "         0.00531576,  0.00995512]]),\n",
        "       array([[ 0.00023019,  0.0005213 ,  0.00211725, ...,  0.00980379,\n",
        "         0.00378086,  0.00238803],\n",
        "       [ 0.00017069,  0.00039136,  0.00188616, ...,  0.00920441,\n",
        "         0.00393502,  0.00267314],\n",
        "       [ 0.00014388,  0.00034752,  0.00177297, ...,  0.00863895,\n",
        "         0.00409355,  0.00295472],\n",
        "       ..., \n",
        "       [ 0.01711465,  0.02289037,  0.00938562, ...,  0.00059037,\n",
        "         0.00150349,  0.00499736],\n",
        "       [ 0.01782744,  0.0219567 ,  0.0087554 , ...,  0.00058342,\n",
        "         0.0015082 ,  0.0048584 ],\n",
        "       [ 0.01750709,  0.01985157,  0.00795487, ...,  0.00059678,\n",
        "         0.00155177,  0.0048281 ]]),\n",
        "       array([[ 0.00221285,  0.00398157,  0.0037199 , ...,  0.01553765,\n",
        "         0.01027442,  0.00454043],\n",
        "       [ 0.00268962,  0.00443996,  0.00339077, ...,  0.01562809,\n",
        "         0.01059907,  0.00468265],\n",
        "       [ 0.00247192,  0.00383314,  0.00265571, ...,  0.01571344,\n",
        "         0.0109011 ,  0.00479127],\n",
        "       ..., \n",
        "       [ 0.00736366,  0.01330664,  0.00748037, ...,  0.00513228,\n",
        "         0.00147617,  0.00173612],\n",
        "       [ 0.00464236,  0.00797353,  0.0049623 , ...,  0.00503729,\n",
        "         0.00141686,  0.00151782],\n",
        "       [ 0.00290887,  0.00409801,  0.00292918, ...,  0.0049563 ,\n",
        "         0.00137109,  0.00134695]]),\n",
        "       array([[ 0.000427  ,  0.00027998,  0.00054642, ...,  0.01104458,\n",
        "         0.00428262,  0.00101115],\n",
        "       [ 0.00067545,  0.00047077,  0.00071215, ...,  0.01076175,\n",
        "         0.00430052,  0.00104735],\n",
        "       [ 0.00113415,  0.00083176,  0.00099952, ...,  0.01049016,\n",
        "         0.00434993,  0.00109336],\n",
        "       ..., \n",
        "       [ 0.004153  ,  0.00448589,  0.00150367, ...,  0.00134013,\n",
        "         0.00146512,  0.00193426],\n",
        "       [ 0.00219482,  0.00207299,  0.00078474, ...,  0.00154143,\n",
        "         0.00172198,  0.00188539],\n",
        "       [ 0.00186905,  0.00120812,  0.00047397, ...,  0.00174083,\n",
        "         0.00199826,  0.00185835]]),\n",
        "       array([[ 0.01494171,  0.01079947,  0.00303714, ...,  0.01631598,\n",
        "         0.00721757,  0.00493273],\n",
        "       [ 0.02059441,  0.01427657,  0.00342171, ...,  0.0176206 ,\n",
        "         0.00756813,  0.00428402],\n",
        "       [ 0.02278002,  0.01550048,  0.003524  , ...,  0.01893549,\n",
        "         0.00795825,  0.00376143],\n",
        "       ..., \n",
        "       [ 0.00890511,  0.00804532,  0.00240296, ...,  0.00466008,\n",
        "         0.00473545,  0.0062356 ],\n",
        "       [ 0.00558997,  0.00529535,  0.00188354, ...,  0.00480986,\n",
        "         0.00500074,  0.00645872],\n",
        "       [ 0.00327782,  0.00313154,  0.00136442, ...,  0.00488469,\n",
        "         0.00518413,  0.00660592]]),\n",
        "       array([[ 0.00347533,  0.0021253 ,  0.00114911, ...,  0.00467864,\n",
        "         0.00340663,  0.00384509],\n",
        "       [ 0.00718455,  0.00492797,  0.00194974, ...,  0.0041022 ,\n",
        "         0.00308225,  0.00343153],\n",
        "       [ 0.01376747,  0.0095917 ,  0.00295477, ...,  0.00365811,\n",
        "         0.00281983,  0.00302395],\n",
        "       ..., \n",
        "       [ 0.00231512,  0.00090401,  0.00078879, ...,  0.00869301,\n",
        "         0.00612155,  0.01330455],\n",
        "       [ 0.00278997,  0.00127078,  0.00126409, ...,  0.00805174,\n",
        "         0.00585433,  0.01317417],\n",
        "       [ 0.00296611,  0.00164066,  0.00166083, ...,  0.00735772,\n",
        "         0.00550798,  0.01274466]]),\n",
        "       array([[ 0.00572127,  0.00285256,  0.00075104, ...,  0.00318763,\n",
        "         0.00121343,  0.00151596],\n",
        "       [ 0.01049586,  0.0056414 ,  0.00133407, ...,  0.0032257 ,\n",
        "         0.00113753,  0.00132005],\n",
        "       [ 0.01490987,  0.00863527,  0.00214157, ...,  0.00329222,\n",
        "         0.00109285,  0.00114449],\n",
        "       ..., \n",
        "       [ 0.00959885,  0.005017  ,  0.00156522, ...,  0.00149757,\n",
        "         0.00132102,  0.00444879],\n",
        "       [ 0.01761239,  0.00914508,  0.00211023, ...,  0.00122875,\n",
        "         0.00109374,  0.00365567],\n",
        "       [ 0.0261583 ,  0.01376373,  0.0027975 , ...,  0.00104779,\n",
        "         0.00093354,  0.0030603 ]]),\n",
        "       array([[ 0.0002363 ,  0.00035411,  0.00153227, ...,  0.00889845,\n",
        "         0.00228578,  0.00113552],\n",
        "       [ 0.00020549,  0.00029932,  0.00142414, ...,  0.00733856,\n",
        "         0.00204913,  0.00120903],\n",
        "       [ 0.00024987,  0.00032439,  0.00136886, ...,  0.00608956,\n",
        "         0.00189323,  0.00132238],\n",
        "       ..., \n",
        "       [ 0.00480281,  0.00706422,  0.00435763, ...,  0.00202738,\n",
        "         0.00180148,  0.00313945],\n",
        "       [ 0.00484587,  0.00647624,  0.00363933, ...,  0.00226347,\n",
        "         0.00186138,  0.00295795],\n",
        "       [ 0.00621182,  0.00694707,  0.00321159, ...,  0.00245534,\n",
        "         0.00189618,  0.00276773]]),\n",
        "       array([[ 0.00397765,  0.00581097,  0.00810807, ...,  0.00479991,\n",
        "         0.00360533,  0.00245496],\n",
        "       [ 0.0034199 ,  0.00645583,  0.0100723 , ...,  0.0048666 ,\n",
        "         0.00346566,  0.00228643],\n",
        "       [ 0.00317233,  0.00720632,  0.01134986, ...,  0.00505228,\n",
        "         0.00335539,  0.00210231],\n",
        "       ..., \n",
        "       [ 0.00111411,  0.00077115,  0.00127256, ...,  0.00568689,\n",
        "         0.00733999,  0.00550663],\n",
        "       [ 0.00221618,  0.00116544,  0.00135337, ...,  0.0060153 ,\n",
        "         0.00767924,  0.00557799],\n",
        "       [ 0.00394225,  0.00172866,  0.00133061, ...,  0.00630865,\n",
        "         0.00797409,  0.00562111]]),\n",
        "       array([[ 0.00447333,  0.00252664,  0.00089648, ...,  0.00250381,\n",
        "         0.00188519,  0.00872444],\n",
        "       [ 0.00953803,  0.00505581,  0.00126088, ...,  0.00226463,\n",
        "         0.0015569 ,  0.0068963 ],\n",
        "       [ 0.01785954,  0.00939245,  0.00191919, ...,  0.0020747 ,\n",
        "         0.0012922 ,  0.00539842],\n",
        "       ..., \n",
        "       [ 0.00513271,  0.01089131,  0.00811856, ...,  0.00211795,\n",
        "         0.00238832,  0.00466087],\n",
        "       [ 0.00780085,  0.014315  ,  0.0087244 , ...,  0.00199602,\n",
        "         0.00233318,  0.00459986],\n",
        "       [ 0.01089283,  0.0168738 ,  0.00834915, ...,  0.00190111,\n",
        "         0.00229289,  0.00452432]]),\n",
        "       array([[ 0.00182688,  0.00310613,  0.00386769, ...,  0.00397429,\n",
        "         0.00178569,  0.00123798],\n",
        "       [ 0.00287763,  0.00404106,  0.00332875, ...,  0.00410211,\n",
        "         0.00177045,  0.00109979],\n",
        "       [ 0.00420571,  0.00582149,  0.0035522 , ...,  0.00421351,\n",
        "         0.00175842,  0.00097442],\n",
        "       ..., \n",
        "       [ 0.00513519,  0.00667399,  0.00345043, ...,  0.00487065,\n",
        "         0.00314979,  0.00312759],\n",
        "       [ 0.00692178,  0.00869676,  0.00435549, ...,  0.00495435,\n",
        "         0.00320663,  0.00297464],\n",
        "       [ 0.00907102,  0.01106745,  0.00530235, ...,  0.00505426,\n",
        "         0.00327022,  0.00284706]]),\n",
        "       array([[ 0.00091349,  0.00156009,  0.00274178, ...,  0.0120947 ,\n",
        "         0.00257248,  0.00113674],\n",
        "       [ 0.00167274,  0.00255383,  0.00289554, ...,  0.01219126,\n",
        "         0.00260547,  0.00131634],\n",
        "       [ 0.00231079,  0.00326207,  0.00283885, ...,  0.01198362,\n",
        "         0.00259213,  0.00150382],\n",
        "       ..., \n",
        "       [ 0.00486215,  0.0085929 ,  0.00910938, ...,  0.00138449,\n",
        "         0.00086503,  0.00081387],\n",
        "       [ 0.00566109,  0.00832969,  0.00741647, ...,  0.00132812,\n",
        "         0.0008469 ,  0.00078571],\n",
        "       [ 0.00518287,  0.00680152,  0.00577816, ...,  0.00127833,\n",
        "         0.0008293 ,  0.00076475]]),\n",
        "       array([[ 0.00642256,  0.00438486,  0.00216643, ...,  0.00250104,\n",
        "         0.00080303,  0.00169913],\n",
        "       [ 0.01035421,  0.00668746,  0.00212107, ...,  0.00299839,\n",
        "         0.00086677,  0.00147896],\n",
        "       [ 0.01327478,  0.00861285,  0.00219455, ...,  0.00353178,\n",
        "         0.00094216,  0.00125898],\n",
        "       ..., \n",
        "       [ 0.01312169,  0.02170269,  0.01020641, ...,  0.00323494,\n",
        "         0.00252041,  0.00252953],\n",
        "       [ 0.0135169 ,  0.02218325,  0.01001773, ...,  0.00319795,\n",
        "         0.00250231,  0.00246571],\n",
        "       [ 0.01318143,  0.02104264,  0.00909809, ...,  0.00319758,\n",
        "         0.00251137,  0.00241137]]),\n",
        "       array([[ 0.0029416 ,  0.008446  ,  0.01010224, ...,  0.00517509,\n",
        "         0.0039439 ,  0.00413989],\n",
        "       [ 0.00382048,  0.00946285,  0.00960244, ...,  0.00502198,\n",
        "         0.00389342,  0.00415286],\n",
        "       [ 0.00478827,  0.01042874,  0.00910541, ...,  0.00487493,\n",
        "         0.00384377,  0.00410562],\n",
        "       ..., \n",
        "       [ 0.00069611,  0.00280753,  0.00670904, ...,  0.00303198,\n",
        "         0.00322907,  0.00427884],\n",
        "       [ 0.00087112,  0.00306405,  0.0067826 , ...,  0.0029162 ,\n",
        "         0.00332198,  0.00460949],\n",
        "       [ 0.00127636,  0.00287195,  0.00579321, ...,  0.00279205,\n",
        "         0.00336073,  0.0048353 ]]),\n",
        "       array([[ 0.00253945,  0.00493097,  0.00539589, ...,  0.00464835,\n",
        "         0.00212398,  0.00140726],\n",
        "       [ 0.00197892,  0.00417049,  0.00485147, ...,  0.00520106,\n",
        "         0.00232374,  0.00131481],\n",
        "       [ 0.00159371,  0.00315718,  0.00372998, ...,  0.0056478 ,\n",
        "         0.00250675,  0.00125808],\n",
        "       ..., \n",
        "       [ 0.00800522,  0.00334163,  0.00158452, ...,  0.00214627,\n",
        "         0.00195772,  0.00342941],\n",
        "       [ 0.01371077,  0.0047756 ,  0.00160604, ...,  0.00174843,\n",
        "         0.00169928,  0.00306736],\n",
        "       [ 0.0203191 ,  0.00667808,  0.00191763, ...,  0.00144681,\n",
        "         0.00149906,  0.00277554]]),\n",
        "       array([[ 0.00218922,  0.00213068,  0.00245328, ...,  0.00685391,\n",
        "         0.00275313,  0.00153682],\n",
        "       [ 0.0014924 ,  0.00205903,  0.002822  , ...,  0.00622352,\n",
        "         0.0025201 ,  0.00144541],\n",
        "       [ 0.00098814,  0.0018824 ,  0.00326827, ...,  0.00557127,\n",
        "         0.00230428,  0.0014006 ],\n",
        "       ..., \n",
        "       [ 0.00083036,  0.00085659,  0.00077718, ...,  0.00764583,\n",
        "         0.00289973,  0.00223151],\n",
        "       [ 0.00032973,  0.00033903,  0.00062214, ...,  0.00773763,\n",
        "         0.00293894,  0.00218377],\n",
        "       [ 0.00018857,  0.00018708,  0.00058462, ...,  0.00772514,\n",
        "         0.00296063,  0.00217648]]),\n",
        "       array([[ 0.01053875,  0.01970622,  0.01354168, ...,  0.0013649 ,\n",
        "         0.00135754,  0.00211697],\n",
        "       [ 0.01013552,  0.02006758,  0.01486058, ...,  0.00149242,\n",
        "         0.00153853,  0.00227032],\n",
        "       [ 0.00894943,  0.01966007,  0.0155835 , ...,  0.00171522,\n",
        "         0.00178505,  0.00243407],\n",
        "       ..., \n",
        "       [ 0.00119606,  0.00469748,  0.00937851, ...,  0.00829242,\n",
        "         0.00647212,  0.00638861],\n",
        "       [ 0.00129598,  0.00538275,  0.01035549, ...,  0.00876608,\n",
        "         0.0065737 ,  0.00630344],\n",
        "       [ 0.00138874,  0.00598074,  0.01120075, ...,  0.00922688,\n",
        "         0.00665858,  0.00618494]]),\n",
        "       array([[ 0.00098809,  0.00137712,  0.0034389 , ...,  0.00905795,\n",
        "         0.0073786 ,  0.00669606],\n",
        "       [ 0.00098329,  0.00158448,  0.00368641, ...,  0.00961589,\n",
        "         0.00791383,  0.00681956],\n",
        "       [ 0.00089882,  0.00175741,  0.00394962, ...,  0.01006538,\n",
        "         0.00840213,  0.00688736],\n",
        "       ..., \n",
        "       [ 0.014277  ,  0.0046061 ,  0.00082427, ...,  0.00262453,\n",
        "         0.00081115,  0.00091042],\n",
        "       [ 0.01001796,  0.00336383,  0.00084056, ...,  0.00280815,\n",
        "         0.0007862 ,  0.00073364],\n",
        "       [ 0.00588789,  0.00211981,  0.00103318, ...,  0.00298307,\n",
        "         0.00077748,  0.00059686]]),\n",
        "       array([[ 0.00076592,  0.00116381,  0.00153618, ...,  0.00604163,\n",
        "         0.00211429,  0.00060724],\n",
        "       [ 0.00057878,  0.00101328,  0.00167581, ...,  0.00539541,\n",
        "         0.00189767,  0.00060899],\n",
        "       [ 0.00036698,  0.00074626,  0.00176981, ...,  0.00488054,\n",
        "         0.00174944,  0.00063097],\n",
        "       ..., \n",
        "       [ 0.00415559,  0.00903883,  0.0089003 , ...,  0.00232097,\n",
        "         0.0037985 ,  0.00551609],\n",
        "       [ 0.00666569,  0.01216512,  0.00944405, ...,  0.00219153,\n",
        "         0.00369818,  0.00538029],\n",
        "       [ 0.01029944,  0.01552933,  0.00932288, ...,  0.0020772 ,\n",
        "         0.00358945,  0.00519477]]),\n",
        "       array([[ 0.00057064,  0.00053834,  0.00169143, ...,  0.00735946,\n",
        "         0.00433273,  0.00228237],\n",
        "       [ 0.00078734,  0.00059117,  0.00123017, ...,  0.00726529,\n",
        "         0.00453035,  0.00246033],\n",
        "       [ 0.00142306,  0.00091382,  0.00103027, ...,  0.00714833,\n",
        "         0.00476821,  0.00267744],\n",
        "       ..., \n",
        "       [ 0.00587573,  0.00773781,  0.0059281 , ...,  0.00659346,\n",
        "         0.00369753,  0.0076266 ],\n",
        "       [ 0.00814666,  0.0094861 ,  0.00602347, ...,  0.0063272 ,\n",
        "         0.00370389,  0.00762857],\n",
        "       [ 0.01006394,  0.01032149,  0.00540851, ...,  0.00601478,\n",
        "         0.00367442,  0.00755414]]),\n",
        "       array([[ 0.00041306,  0.00053649,  0.0010893 , ...,  0.01641786,\n",
        "         0.00453047,  0.00153701],\n",
        "       [ 0.00029022,  0.00044089,  0.00128216, ...,  0.01432918,\n",
        "         0.00402214,  0.00149949],\n",
        "       [ 0.00024688,  0.00042759,  0.0016682 , ...,  0.01253813,\n",
        "         0.00362008,  0.00150101],\n",
        "       ..., \n",
        "       [ 0.00134113,  0.00179359,  0.00460711, ...,  0.0067787 ,\n",
        "         0.00459283,  0.0037257 ],\n",
        "       [ 0.0019146 ,  0.00243448,  0.00567815, ...,  0.00695394,\n",
        "         0.00479644,  0.003851  ],\n",
        "       [ 0.00277428,  0.00313081,  0.00610269, ...,  0.00696681,\n",
        "         0.00489936,  0.00391165]]),\n",
        "       array([[ 0.00019644,  0.0004123 ,  0.0021506 , ...,  0.00265855,\n",
        "         0.0026876 ,  0.00429893],\n",
        "       [ 0.00031844,  0.00037726,  0.00172803, ...,  0.00265383,\n",
        "         0.00308454,  0.00525617],\n",
        "       [ 0.00058572,  0.00043394,  0.00138553, ...,  0.00271685,\n",
        "         0.00352109,  0.00630304],\n",
        "       ..., \n",
        "       [ 0.00870916,  0.01088948,  0.00543601, ...,  0.00096364,\n",
        "         0.00146236,  0.00547234],\n",
        "       [ 0.01218168,  0.01525942,  0.00629701, ...,  0.00089769,\n",
        "         0.00148097,  0.00533201],\n",
        "       [ 0.01674088,  0.02063877,  0.00728864, ...,  0.00085353,\n",
        "         0.00150279,  0.00519161]]),\n",
        "       array([[ 0.00163076,  0.00425933,  0.00748771, ...,  0.00390043,\n",
        "         0.00262015,  0.00113794],\n",
        "       [ 0.00171518,  0.00480245,  0.0068393 , ...,  0.00430243,\n",
        "         0.00297784,  0.00121337],\n",
        "       [ 0.00188196,  0.00527805,  0.00637855, ...,  0.00468062,\n",
        "         0.00333041,  0.0013076 ],\n",
        "       ..., \n",
        "       [ 0.00210276,  0.00257136,  0.00246593, ...,  0.0026702 ,\n",
        "         0.0028487 ,  0.00187861],\n",
        "       [ 0.00256776,  0.00276599,  0.00237104, ...,  0.00294676,\n",
        "         0.00305383,  0.00191171],\n",
        "       [ 0.0028713 ,  0.00271444,  0.0023435 , ...,  0.00322241,\n",
        "         0.00325446,  0.00195482]]),\n",
        "       array([[ 0.00223742,  0.00586371,  0.01055854, ...,  0.01234865,\n",
        "         0.00793942,  0.0027665 ],\n",
        "       [ 0.00262985,  0.00551767,  0.00830843, ...,  0.01295397,\n",
        "         0.00794635,  0.00259292],\n",
        "       [ 0.0024425 ,  0.00435922,  0.00597475, ...,  0.01334286,\n",
        "         0.00786196,  0.00239084],\n",
        "       ..., \n",
        "       [ 0.0057301 ,  0.01000367,  0.00921488, ...,  0.00430251,\n",
        "         0.00211565,  0.00211799],\n",
        "       [ 0.00543442,  0.01281392,  0.01203257, ...,  0.00413776,\n",
        "         0.00214226,  0.002117  ],\n",
        "       [ 0.00588503,  0.01486715,  0.01327655, ...,  0.0040058 ,\n",
        "         0.00219005,  0.00215151]]),\n",
        "       array([[ 0.00019519,  0.00016676,  0.0006269 , ...,  0.01431104,\n",
        "         0.00422965,  0.00075676],\n",
        "       [ 0.00019857,  0.00016767,  0.00061448, ...,  0.01353305,\n",
        "         0.00401659,  0.00072475],\n",
        "       [ 0.00019513,  0.00016793,  0.00061906, ...,  0.01259659,\n",
        "         0.00379056,  0.00070175],\n",
        "       ..., \n",
        "       [ 0.00284833,  0.00249032,  0.00150137, ...,  0.00109705,\n",
        "         0.00139923,  0.00108748],\n",
        "       [ 0.00271133,  0.00228679,  0.00129938, ...,  0.00113813,\n",
        "         0.00148112,  0.00112045],\n",
        "       [ 0.00246418,  0.00215505,  0.00122456, ...,  0.00119428,\n",
        "         0.00159208,  0.00118524]]),\n",
        "       array([[ 0.01592537,  0.00849956,  0.0017889 , ...,  0.0064296 ,\n",
        "         0.00303865,  0.00231174],\n",
        "       [ 0.01576588,  0.00823973,  0.00188564, ...,  0.00789124,\n",
        "         0.00348205,  0.00199379],\n",
        "       [ 0.01319663,  0.00713114,  0.00220272, ...,  0.00953419,\n",
        "         0.00400518,  0.00176136],\n",
        "       ..., \n",
        "       [ 0.00336053,  0.00535974,  0.00458895, ...,  0.00399372,\n",
        "         0.00590261,  0.0157649 ],\n",
        "       [ 0.00236396,  0.00350343,  0.00276184, ...,  0.00384839,\n",
        "         0.00620943,  0.01737717],\n",
        "       [ 0.00139966,  0.00187106,  0.00144373, ...,  0.00368031,\n",
        "         0.00640959,  0.01857886]]),\n",
        "       array([[ 0.00723731,  0.00829854,  0.00561037, ...,  0.00866526,\n",
        "         0.00582835,  0.00253273],\n",
        "       [ 0.00579049,  0.00829531,  0.00647147, ...,  0.00786864,\n",
        "         0.00576215,  0.00257443],\n",
        "       [ 0.00427333,  0.00772964,  0.00686435, ...,  0.0071994 ,\n",
        "         0.00574196,  0.00264185],\n",
        "       ..., \n",
        "       [ 0.00420289,  0.00670668,  0.00513624, ...,  0.00327474,\n",
        "         0.00438444,  0.00746226],\n",
        "       [ 0.00776988,  0.0104427 ,  0.00527058, ...,  0.00321898,\n",
        "         0.00444353,  0.00740901],\n",
        "       [ 0.01303978,  0.01617806,  0.00611127, ...,  0.00316471,\n",
        "         0.00446768,  0.00727655]]),\n",
        "       array([[ 0.01006336,  0.00923217,  0.00353929, ...,  0.00442223,\n",
        "         0.00203612,  0.00296868],\n",
        "       [ 0.01083832,  0.00988195,  0.00390393, ...,  0.004702  ,\n",
        "         0.00207799,  0.00296546],\n",
        "       [ 0.01041161,  0.00999088,  0.00452989, ...,  0.00498433,\n",
        "         0.00211609,  0.00294648],\n",
        "       ..., \n",
        "       [ 0.00293547,  0.00438068,  0.00494882, ...,  0.00194883,\n",
        "         0.00256664,  0.00327756],\n",
        "       [ 0.00319809,  0.0040661 ,  0.00385287, ...,  0.00190572,\n",
        "         0.00263618,  0.00341665],\n",
        "       [ 0.00347203,  0.00360915,  0.00292456, ...,  0.00187454,\n",
        "         0.00271288,  0.00355522]]),\n",
        "       array([[ 0.00235879,  0.00275963,  0.0029477 , ...,  0.0098699 ,\n",
        "         0.00617621,  0.00225286],\n",
        "       [ 0.00251328,  0.00277057,  0.00257538, ...,  0.00998805,\n",
        "         0.00626772,  0.00213249],\n",
        "       [ 0.00235975,  0.00245679,  0.00208954, ...,  0.00995766,\n",
        "         0.00637523,  0.0020617 ],\n",
        "       ..., \n",
        "       [ 0.00528073,  0.00383948,  0.00463802, ...,  0.00241625,\n",
        "         0.00253352,  0.0035617 ],\n",
        "       [ 0.00344468,  0.00349584,  0.00600775, ...,  0.0022434 ,\n",
        "         0.00261833,  0.00379242],\n",
        "       [ 0.00185089,  0.00292322,  0.00715982, ...,  0.00209644,\n",
        "         0.00272415,  0.00404183]]),\n",
        "       array([[ 0.00319318,  0.00224864,  0.00184335, ...,  0.01137509,\n",
        "         0.00610024,  0.0041868 ],\n",
        "       [ 0.00149263,  0.00120265,  0.0015067 , ...,  0.01128835,\n",
        "         0.00616677,  0.0044939 ],\n",
        "       [ 0.00067231,  0.00061424,  0.00127866, ...,  0.01112813,\n",
        "         0.00615378,  0.00475231],\n",
        "       ..., \n",
        "       [ 0.02784344,  0.02252762,  0.00729027, ...,  0.0040577 ,\n",
        "         0.00218021,  0.0016035 ],\n",
        "       [ 0.02336197,  0.01901087,  0.00804694, ...,  0.00362997,\n",
        "         0.00210579,  0.00145378],\n",
        "       [ 0.01600158,  0.01414175,  0.00879   , ...,  0.00327994,\n",
        "         0.00205874,  0.00135105]]),\n",
        "       array([[ 0.00197882,  0.00315407,  0.00259077, ...,  0.00875047,\n",
        "         0.0038572 ,  0.00419297],\n",
        "       [ 0.00152863,  0.00168406,  0.00175516, ...,  0.00802456,\n",
        "         0.00378055,  0.00439916],\n",
        "       [ 0.00264244,  0.00157154,  0.001366  , ...,  0.00730611,\n",
        "         0.00372682,  0.00467143],\n",
        "       ..., \n",
        "       [ 0.00956204,  0.01360224,  0.00607373, ...,  0.00406238,\n",
        "         0.00316265,  0.00388343],\n",
        "       [ 0.01125283,  0.01508609,  0.00601664, ...,  0.00416345,\n",
        "         0.00322007,  0.00365552],\n",
        "       [ 0.0128463 ,  0.016479  ,  0.00596062, ...,  0.00419642,\n",
        "         0.00323908,  0.00343283]]),\n",
        "       array([[ 0.00326162,  0.0049503 ,  0.00379532, ...,  0.01019449,\n",
        "         0.00559546,  0.00228841],\n",
        "       [ 0.0019571 ,  0.00368863,  0.00369941, ...,  0.01083096,\n",
        "         0.00607739,  0.00235753],\n",
        "       [ 0.00123169,  0.00295984,  0.00362048, ...,  0.01135629,\n",
        "         0.0065086 ,  0.00242413],\n",
        "       ..., \n",
        "       [ 0.00340414,  0.0054048 ,  0.00599661, ...,  0.00388742,\n",
        "         0.00705623,  0.00645194],\n",
        "       [ 0.00158875,  0.0029275 ,  0.0053255 , ...,  0.00415304,\n",
        "         0.00790646,  0.0071033 ],\n",
        "       [ 0.00087497,  0.00165288,  0.00452685, ...,  0.00444931,\n",
        "         0.00881247,  0.00782401]]),\n",
        "       array([[ 0.00011349,  0.00023346,  0.00127313, ...,  0.01531687,\n",
        "         0.00744933,  0.00439093],\n",
        "       [ 0.00012504,  0.00023667,  0.00103772, ...,  0.01584021,\n",
        "         0.00766343,  0.00433654],\n",
        "       [ 0.00016617,  0.00027556,  0.00093396, ...,  0.01596558,\n",
        "         0.00766472,  0.00413588],\n",
        "       ..., \n",
        "       [ 0.00558832,  0.0053557 ,  0.00311373, ...,  0.00275745,\n",
        "         0.00358728,  0.00547488],\n",
        "       [ 0.0051745 ,  0.00525112,  0.00369565, ...,  0.00244106,\n",
        "         0.00344525,  0.00553723],\n",
        "       [ 0.004251  ,  0.00489398,  0.00456555, ...,  0.00219251,\n",
        "         0.00331099,  0.00552991]]),\n",
        "       array([[ 0.0058173 ,  0.00806379,  0.0130818 , ...,  0.00433059,\n",
        "         0.00359291,  0.00241368],\n",
        "       [ 0.00373197,  0.00809859,  0.01662691, ...,  0.0040423 ,\n",
        "         0.00368153,  0.00245778],\n",
        "       [ 0.00234209,  0.00821914,  0.01876769, ...,  0.00382674,\n",
        "         0.00377056,  0.00250213],\n",
        "       ..., \n",
        "       [ 0.0054268 ,  0.00374403,  0.00245083, ...,  0.00455618,\n",
        "         0.00436608,  0.00462253],\n",
        "       [ 0.00674324,  0.00425421,  0.00224692, ...,  0.00443947,\n",
        "         0.00444847,  0.00468667],\n",
        "       [ 0.00619086,  0.00365753,  0.00170143, ...,  0.00422857,\n",
        "         0.00440245,  0.00462203]]),\n",
        "       array([[ 0.01526616,  0.00900831,  0.00177371, ...,  0.00632783,\n",
        "         0.00439775,  0.00417582],\n",
        "       [ 0.01043165,  0.00615329,  0.00128398, ...,  0.00617841,\n",
        "         0.0042927 ,  0.00392334],\n",
        "       [ 0.00681995,  0.00420013,  0.00101561, ...,  0.00604577,\n",
        "         0.00416965,  0.00367591],\n",
        "       ..., \n",
        "       [ 0.01073109,  0.00850195,  0.00318644, ...,  0.00662901,\n",
        "         0.0053172 ,  0.00461028],\n",
        "       [ 0.00698192,  0.00601824,  0.00321791, ...,  0.00600136,\n",
        "         0.00537582,  0.00451629],\n",
        "       [ 0.00587287,  0.00552277,  0.00348302, ...,  0.00554499,\n",
        "         0.00551979,  0.00452905]]),\n",
        "       array([[ 0.00195761,  0.00267919,  0.00348709, ...,  0.00768907,\n",
        "         0.00520656,  0.00227988],\n",
        "       [ 0.00213297,  0.00274388,  0.00388608, ...,  0.00780565,\n",
        "         0.00526151,  0.00219067],\n",
        "       [ 0.00222794,  0.00288712,  0.00452635, ...,  0.00789038,\n",
        "         0.00528854,  0.00213126],\n",
        "       ..., \n",
        "       [ 0.0044421 ,  0.00511077,  0.00497609, ...,  0.00417703,\n",
        "         0.00434046,  0.00414142],\n",
        "       [ 0.00323819,  0.00300388,  0.00314567, ...,  0.00433012,\n",
        "         0.00455301,  0.00416387],\n",
        "       [ 0.00261267,  0.00171625,  0.00217255, ...,  0.00447239,\n",
        "         0.00475835,  0.00419201]]),\n",
        "       array([[ 0.00212691,  0.00208996,  0.00165886, ...,  0.00732992,\n",
        "         0.00360353,  0.00181224],\n",
        "       [ 0.00116565,  0.00124059,  0.00138654, ...,  0.00711083,\n",
        "         0.00368126,  0.001799  ],\n",
        "       [ 0.0013161 ,  0.00124321,  0.00121867, ...,  0.00692061,\n",
        "         0.00378443,  0.00179276],\n",
        "       ..., \n",
        "       [ 0.00419701,  0.00592208,  0.0039058 , ...,  0.00094869,\n",
        "         0.00175301,  0.00527634],\n",
        "       [ 0.00449664,  0.00645675,  0.00408851, ...,  0.0008367 ,\n",
        "         0.00162592,  0.0051116 ],\n",
        "       [ 0.00563379,  0.00795958,  0.00450253, ...,  0.0007386 ,\n",
        "         0.00149828,  0.00488086]]),\n",
        "       array([[ 0.0029527 ,  0.00321524,  0.00270207, ...,  0.00598513,\n",
        "         0.00225275,  0.00178199],\n",
        "       [ 0.0022531 ,  0.00214232,  0.00223135, ...,  0.00566297,\n",
        "         0.00206408,  0.00163724],\n",
        "       [ 0.00193607,  0.00144705,  0.00177863, ...,  0.00535904,\n",
        "         0.00188255,  0.00147628],\n",
        "       ..., \n",
        "       [ 0.00065568,  0.0002736 ,  0.00065008, ...,  0.00401285,\n",
        "         0.00255135,  0.00247113],\n",
        "       [ 0.00136262,  0.00035934,  0.00063364, ...,  0.00380079,\n",
        "         0.00258624,  0.00250271],\n",
        "       [ 0.00260547,  0.00052889,  0.0005888 , ...,  0.00361107,\n",
        "         0.00260983,  0.00252244]]),\n",
        "       array([[ 0.00430862,  0.00362958,  0.00267935, ...,  0.01124587,\n",
        "         0.00482004,  0.00404247],\n",
        "       [ 0.00489921,  0.00457906,  0.00344471, ...,  0.01134256,\n",
        "         0.00490042,  0.00361629],\n",
        "       [ 0.00747103,  0.00705248,  0.00452798, ...,  0.0113583 ,\n",
        "         0.00496159,  0.00318477],\n",
        "       ..., \n",
        "       [ 0.02326213,  0.03702305,  0.01433605, ...,  0.00175872,\n",
        "         0.00121809,  0.00348197],\n",
        "       [ 0.02283474,  0.03667923,  0.01425755, ...,  0.0019561 ,\n",
        "         0.00124324,  0.00321357],\n",
        "       [ 0.01982975,  0.0317933 ,  0.01242177, ...,  0.00218394,\n",
        "         0.00129303,  0.00300711]]),\n",
        "       array([[ 0.00043964,  0.00067409,  0.00145694, ...,  0.00861397,\n",
        "         0.00348467,  0.00099294],\n",
        "       [ 0.00034609,  0.00059249,  0.00139633, ...,  0.00792327,\n",
        "         0.00335261,  0.00100529],\n",
        "       [ 0.00034178,  0.00061659,  0.00136411, ...,  0.00730139,\n",
        "         0.00326656,  0.00105774],\n",
        "       ..., \n",
        "       [ 0.00267802,  0.00148927,  0.0007996 , ...,  0.00645118,\n",
        "         0.00314527,  0.00247109],\n",
        "       [ 0.00445999,  0.00237521,  0.00096351, ...,  0.00667341,\n",
        "         0.00326667,  0.00239231],\n",
        "       [ 0.0054928 ,  0.00291475,  0.00108429, ...,  0.00683059,\n",
        "         0.00336537,  0.00233177]]),\n",
        "       array([[ 0.01817799,  0.02173754,  0.00747778, ...,  0.00439874,\n",
        "         0.00143533,  0.00204616],\n",
        "       [ 0.01396952,  0.01704798,  0.00604327, ...,  0.00519533,\n",
        "         0.0015569 ,  0.00180011],\n",
        "       [ 0.01040956,  0.01293403,  0.0047965 , ...,  0.00613336,\n",
        "         0.00171455,  0.00157825],\n",
        "       ..., \n",
        "       [ 0.00350854,  0.00371963,  0.00171497, ...,  0.00346439,\n",
        "         0.00272247,  0.00332323],\n",
        "       [ 0.0031321 ,  0.00334852,  0.00167956, ...,  0.00372211,\n",
        "         0.00299408,  0.00349709],\n",
        "       [ 0.00271527,  0.00294943,  0.00184491, ...,  0.00392155,\n",
        "         0.00322256,  0.00361783]]),\n",
        "       array([[ 0.00083339,  0.00022599,  0.00024607, ...,  0.01254308,\n",
        "         0.0097381 ,  0.00260378],\n",
        "       [ 0.00081628,  0.0002497 ,  0.00022213, ...,  0.01280113,\n",
        "         0.01020263,  0.00276868],\n",
        "       [ 0.00079614,  0.00029059,  0.00021985, ...,  0.01299156,\n",
        "         0.01064297,  0.00293838],\n",
        "       ..., \n",
        "       [ 0.00183114,  0.00157115,  0.0012461 , ...,  0.00426396,\n",
        "         0.00397949,  0.0090676 ],\n",
        "       [ 0.00387048,  0.00219955,  0.00114458, ...,  0.00388846,\n",
        "         0.00350965,  0.00755658],\n",
        "       [ 0.00830778,  0.00366945,  0.00113042, ...,  0.00349708,\n",
        "         0.00304322,  0.00615418]]),\n",
        "       array([[ 0.00382881,  0.00343368,  0.00268888, ...,  0.00656768,\n",
        "         0.00382292,  0.00254167],\n",
        "       [ 0.00460674,  0.00418256,  0.00293706, ...,  0.0067099 ,\n",
        "         0.00404966,  0.00261782],\n",
        "       [ 0.00689005,  0.00609218,  0.00335819, ...,  0.00684726,\n",
        "         0.00430694,  0.00274486],\n",
        "       ..., \n",
        "       [ 0.00096792,  0.00182196,  0.00196126, ...,  0.00466412,\n",
        "         0.002863  ,  0.00214909],\n",
        "       [ 0.00140468,  0.00248937,  0.0022563 , ...,  0.00480417,\n",
        "         0.0030126 ,  0.00229148],\n",
        "       [ 0.00171747,  0.00286386,  0.00241043, ...,  0.00480155,\n",
        "         0.00306399,  0.00235332]]),\n",
        "       array([[ 0.00491459,  0.00743043,  0.00506745, ...,  0.00454853,\n",
        "         0.00493916,  0.0038371 ],\n",
        "       [ 0.00487786,  0.00762641,  0.00566959, ...,  0.00427623,\n",
        "         0.00485686,  0.0038569 ],\n",
        "       [ 0.00481027,  0.00765225,  0.00619856, ...,  0.00405794,\n",
        "         0.00474792,  0.0038239 ],\n",
        "       ..., \n",
        "       [ 0.00412247,  0.00446266,  0.0047376 , ...,  0.00476498,\n",
        "         0.00499325,  0.00423421],\n",
        "       [ 0.00551621,  0.00491152,  0.0042012 , ...,  0.00481129,\n",
        "         0.00512263,  0.00429598],\n",
        "       [ 0.00697195,  0.00584601,  0.00392694, ...,  0.00488494,\n",
        "         0.00528682,  0.00440023]]),\n",
        "       array([[ 0.00254426,  0.00184757,  0.00097549, ...,  0.02108929,\n",
        "         0.00793359,  0.00566867],\n",
        "       [ 0.00229487,  0.00188178,  0.00119016, ...,  0.02254889,\n",
        "         0.00813103,  0.0053715 ],\n",
        "       [ 0.00253104,  0.00225382,  0.00149344, ...,  0.023382  ,\n",
        "         0.00813869,  0.00494811],\n",
        "       ..., \n",
        "       [ 0.0129508 ,  0.01604293,  0.00609707, ...,  0.00263427,\n",
        "         0.00206646,  0.0049523 ],\n",
        "       [ 0.01077947,  0.0145291 ,  0.00584299, ...,  0.00253118,\n",
        "         0.00218652,  0.00509711],\n",
        "       [ 0.00863022,  0.01208066,  0.00518057, ...,  0.00249239,\n",
        "         0.00232808,  0.0052689 ]]),\n",
        "       array([[ 0.00063409,  0.00204819,  0.00457961, ...,  0.00433753,\n",
        "         0.00407007,  0.00257267],\n",
        "       [ 0.00063673,  0.00144273,  0.00302757, ...,  0.00474091,\n",
        "         0.00456142,  0.00271172],\n",
        "       [ 0.0009443 ,  0.00102633,  0.00173862, ...,  0.00511295,\n",
        "         0.00503817,  0.00286713],\n",
        "       ..., \n",
        "       [ 0.00446125,  0.00252157,  0.00148604, ...,  0.01239018,\n",
        "         0.00550086,  0.00237026],\n",
        "       [ 0.00317895,  0.00150908,  0.00083875, ...,  0.01328324,\n",
        "         0.0057304 ,  0.00221485],\n",
        "       [ 0.00182242,  0.00077995,  0.00060202, ...,  0.01411937,\n",
        "         0.00595097,  0.00209695]]),\n",
        "       array([[ 0.0018549 ,  0.00218463,  0.00254182, ...,  0.00653085,\n",
        "         0.00545719,  0.00522595],\n",
        "       [ 0.00176505,  0.00183092,  0.00198014, ...,  0.0066507 ,\n",
        "         0.00552216,  0.00522946],\n",
        "       [ 0.0018917 ,  0.00194072,  0.00231651, ...,  0.00678121,\n",
        "         0.00552769,  0.00509702],\n",
        "       ..., \n",
        "       [ 0.00117965,  0.00158396,  0.00181184, ...,  0.00306881,\n",
        "         0.00174322,  0.00141601],\n",
        "       [ 0.00057792,  0.00122595,  0.0023403 , ...,  0.00331773,\n",
        "         0.00189836,  0.00128093],\n",
        "       [ 0.00041125,  0.00117962,  0.00277433, ...,  0.00352921,\n",
        "         0.0020464 ,  0.00118726]]),\n",
        "       array([[ 0.01304409,  0.00956036,  0.00290974, ...,  0.00879626,\n",
        "         0.00498887,  0.00501426],\n",
        "       [ 0.01832493,  0.0137926 ,  0.00385754, ...,  0.00779076,\n",
        "         0.00456185,  0.00438647],\n",
        "       [ 0.01990476,  0.01576145,  0.00459779, ...,  0.00687288,\n",
        "         0.00418075,  0.00384145],\n",
        "       ..., \n",
        "       [ 0.00763326,  0.00662251,  0.00237581, ...,  0.00309403,\n",
        "         0.0020562 ,  0.00350194],\n",
        "       [ 0.00616291,  0.005245  ,  0.00203206, ...,  0.00291837,\n",
        "         0.00201395,  0.0033255 ],\n",
        "       [ 0.00582827,  0.00473318,  0.00185754, ...,  0.00278372,\n",
        "         0.00199032,  0.00317832]]),\n",
        "       array([[ 0.00208905,  0.00168708,  0.00191348, ...,  0.01337319,\n",
        "         0.00467052,  0.00135475],\n",
        "       [ 0.00124163,  0.00105814,  0.0019984 , ...,  0.01152709,\n",
        "         0.00422728,  0.00126314],\n",
        "       [ 0.00070409,  0.00069462,  0.00217036, ...,  0.00991972,\n",
        "         0.00386764,  0.00120866],\n",
        "       ..., \n",
        "       [ 0.0200148 ,  0.01069629,  0.00553426, ...,  0.00420502,\n",
        "         0.00436802,  0.00310013],\n",
        "       [ 0.01085644,  0.00686187,  0.00651961, ...,  0.00442395,\n",
        "         0.00466715,  0.00303771],\n",
        "       [ 0.00504977,  0.00474233,  0.00756404, ...,  0.0047355 ,\n",
        "         0.00506668,  0.00307495]]),\n",
        "       array([[ 0.00247622,  0.0021293 ,  0.00197102, ...,  0.01070045,\n",
        "         0.00320356,  0.00111559],\n",
        "       [ 0.00244554,  0.00217552,  0.0022156 , ...,  0.0110799 ,\n",
        "         0.00330233,  0.00108246],\n",
        "       [ 0.00228174,  0.00221655,  0.00247238, ...,  0.01095007,\n",
        "         0.00330979,  0.00105274],\n",
        "       ..., \n",
        "       [ 0.00779575,  0.01713767,  0.0101082 , ...,  0.00047814,\n",
        "         0.0005807 ,  0.00159141],\n",
        "       [ 0.00682422,  0.01585675,  0.01002739, ...,  0.00050246,\n",
        "         0.00059393,  0.00152192],\n",
        "       [ 0.00570983,  0.01405513,  0.01002029, ...,  0.00052995,\n",
        "         0.00060885,  0.00146263]]),\n",
        "       array([[ 0.00023582,  0.00051269,  0.00193714, ...,  0.00709197,\n",
        "         0.00192166,  0.00041266],\n",
        "       [ 0.00022396,  0.00041028,  0.00162357, ...,  0.00669042,\n",
        "         0.00188857,  0.00043487],\n",
        "       [ 0.00022672,  0.00035997,  0.00157029, ...,  0.00636446,\n",
        "         0.00189499,  0.00047168],\n",
        "       ..., \n",
        "       [ 0.00555559,  0.00298709,  0.00097428, ...,  0.00356615,\n",
        "         0.00445474,  0.00360674],\n",
        "       [ 0.00495702,  0.002646  ,  0.00088049, ...,  0.0037335 ,\n",
        "         0.00471246,  0.00370624],\n",
        "       [ 0.00436688,  0.00243084,  0.00092389, ...,  0.00389009,\n",
        "         0.00496234,  0.00380594]]),\n",
        "       array([[ 0.00019497,  0.00024053,  0.00111235, ...,  0.01399245,\n",
        "         0.00489785,  0.00083542],\n",
        "       [ 0.00019078,  0.0002404 ,  0.00112941, ...,  0.01326242,\n",
        "         0.00472786,  0.00082939],\n",
        "       [ 0.0001736 ,  0.00023619,  0.00116636, ...,  0.01265359,\n",
        "         0.00460254,  0.00083718],\n",
        "       ..., \n",
        "       [ 0.00727699,  0.0068427 ,  0.00275372, ...,  0.00497257,\n",
        "         0.00425545,  0.00362123],\n",
        "       [ 0.00642139,  0.00605786,  0.00258444, ...,  0.00507532,\n",
        "         0.00428862,  0.0035568 ],\n",
        "       [ 0.00452233,  0.00461376,  0.00255329, ...,  0.00520468,\n",
        "         0.00435792,  0.00353641]]),\n",
        "       array([[ 0.00026317,  0.00017977,  0.00056137, ...,  0.01971256,\n",
        "         0.01810307,  0.00490706],\n",
        "       [ 0.0002598 ,  0.00017026,  0.00050832, ...,  0.02011758,\n",
        "         0.01884966,  0.00515465],\n",
        "       [ 0.00023958,  0.0001551 ,  0.00046004, ...,  0.02064699,\n",
        "         0.01962789,  0.00541273],\n",
        "       ..., \n",
        "       [ 0.00252332,  0.00061411,  0.00030721, ...,  0.0092465 ,\n",
        "         0.00501895,  0.00225956],\n",
        "       [ 0.00252908,  0.00077322,  0.00044829, ...,  0.00874077,\n",
        "         0.00462622,  0.00203745],\n",
        "       [ 0.00267143,  0.00095747,  0.0006692 , ...,  0.00820976,\n",
        "         0.00429677,  0.00187098]]),\n",
        "       array([[ 0.00028408,  0.00088007,  0.0044331 , ...,  0.0038261 ,\n",
        "         0.00123256,  0.00046813],\n",
        "       [ 0.0005276 ,  0.00153125,  0.00571346, ...,  0.00322185,\n",
        "         0.00108525,  0.00044363],\n",
        "       [ 0.00105328,  0.00271838,  0.00740384, ...,  0.00272728,\n",
        "         0.00096667,  0.00042325],\n",
        "       ..., \n",
        "       [ 0.00339381,  0.0031406 ,  0.00228056, ...,  0.00212691,\n",
        "         0.0032057 ,  0.01062504],\n",
        "       [ 0.0030884 ,  0.00317867,  0.00248485, ...,  0.00199578,\n",
        "         0.0032427 ,  0.01073396],\n",
        "       [ 0.00370886,  0.00366077,  0.00269096, ...,  0.00182301,\n",
        "         0.00313943,  0.01030005]]),\n",
        "       array([[ 0.00020258,  0.00068665,  0.00248544, ...,  0.00629442,\n",
        "         0.00428036,  0.00181522],\n",
        "       [ 0.00034897,  0.00097677,  0.00293523, ...,  0.00650739,\n",
        "         0.00455241,  0.00194749],\n",
        "       [ 0.00055004,  0.0012707 ,  0.00331693, ...,  0.0066994 ,\n",
        "         0.00485061,  0.00210452],\n",
        "       ..., \n",
        "       [ 0.00388026,  0.00405745,  0.00187118, ...,  0.00231965,\n",
        "         0.00153708,  0.00146178],\n",
        "       [ 0.00485492,  0.00427141,  0.00159922, ...,  0.00212703,\n",
        "         0.0015899 ,  0.00160838],\n",
        "       [ 0.00526266,  0.00386773,  0.00125803, ...,  0.00194512,\n",
        "         0.00165745,  0.00177788]]),\n",
        "       array([[ 0.00038607,  0.00098379,  0.00419468, ...,  0.0046759 ,\n",
        "         0.00160121,  0.00050143],\n",
        "       [ 0.00056508,  0.00135816,  0.0047572 , ...,  0.00441601,\n",
        "         0.00165177,  0.00052559],\n",
        "       [ 0.00068635,  0.00156924,  0.00466019, ...,  0.00421812,\n",
        "         0.00172965,  0.00056128],\n",
        "       ..., \n",
        "       [ 0.00208819,  0.00242567,  0.00132026, ...,  0.00357727,\n",
        "         0.00331677,  0.00322392],\n",
        "       [ 0.00346167,  0.00470251,  0.00226364, ...,  0.00322548,\n",
        "         0.00313123,  0.00315393],\n",
        "       [ 0.00549216,  0.00817702,  0.0037106 , ...,  0.0029198 ,\n",
        "         0.0029502 ,  0.00305306]]),\n",
        "       array([[ 0.00021756,  0.00049854,  0.00277679, ...,  0.00557743,\n",
        "         0.00244259,  0.00086184],\n",
        "       [ 0.00018944,  0.0005906 ,  0.00337669, ...,  0.00556708,\n",
        "         0.00244217,  0.00086892],\n",
        "       [ 0.00020387,  0.00078038,  0.00411483, ...,  0.0055034 ,\n",
        "         0.00240496,  0.00087492],\n",
        "       ..., \n",
        "       [ 0.00328189,  0.00821528,  0.02098547, ...,  0.00118397,\n",
        "         0.00127783,  0.00107578],\n",
        "       [ 0.0023885 ,  0.00899874,  0.02380279, ...,  0.00130714,\n",
        "         0.00138642,  0.00105113],\n",
        "       [ 0.00212067,  0.00942797,  0.02588968, ...,  0.00142132,\n",
        "         0.00148588,  0.00102817]]),\n",
        "       array([[ 0.00046276,  0.00180446,  0.00561225, ...,  0.00888831,\n",
        "         0.00441157,  0.0013459 ],\n",
        "       [ 0.00041738,  0.00154324,  0.00453689, ...,  0.00840815,\n",
        "         0.00461198,  0.00151991],\n",
        "       [ 0.00041198,  0.00135217,  0.00360606, ...,  0.00803879,\n",
        "         0.00493535,  0.00175018],\n",
        "       ..., \n",
        "       [ 0.00843576,  0.00350624,  0.0026895 , ...,  0.00309174,\n",
        "         0.00206007,  0.00207265],\n",
        "       [ 0.00733614,  0.00356399,  0.00277705, ...,  0.00298562,\n",
        "         0.00187275,  0.00179395],\n",
        "       [ 0.00684663,  0.00364602,  0.00261191, ...,  0.00292146,\n",
        "         0.0017244 ,  0.00158082]]),\n",
        "       array([[ 0.00023652,  0.00055659,  0.00147404, ...,  0.00628552,\n",
        "         0.00305182,  0.00109022],\n",
        "       [ 0.00023731,  0.00055981,  0.00167296, ...,  0.00600472,\n",
        "         0.00305446,  0.00114281],\n",
        "       [ 0.0002351 ,  0.00050209,  0.00167217, ...,  0.00572449,\n",
        "         0.00305876,  0.00120648],\n",
        "       ..., \n",
        "       [ 0.00586606,  0.00647589,  0.00276081, ...,  0.0046411 ,\n",
        "         0.00279309,  0.00574165],\n",
        "       [ 0.00568275,  0.00583825,  0.00246104, ...,  0.00458915,\n",
        "         0.00279996,  0.00565591],\n",
        "       [ 0.00856239,  0.00838866,  0.00297466, ...,  0.00441609,\n",
        "         0.00274099,  0.00545847]]),\n",
        "       array([[ 0.01499748,  0.00644015,  0.00110947, ...,  0.00606109,\n",
        "         0.00308621,  0.00557308],\n",
        "       [ 0.01401748,  0.00610726,  0.00106519, ...,  0.00760068,\n",
        "         0.00330559,  0.00506723],\n",
        "       [ 0.01308316,  0.00590796,  0.00105953, ...,  0.00927987,\n",
        "         0.0035639 ,  0.00454521],\n",
        "       ..., \n",
        "       [ 0.00497171,  0.00479005,  0.00235417, ...,  0.00181787,\n",
        "         0.00169306,  0.00188858],\n",
        "       [ 0.00439407,  0.00591023,  0.00352689, ...,  0.00182384,\n",
        "         0.00171055,  0.00184288],\n",
        "       [ 0.00441691,  0.00808446,  0.0057017 , ...,  0.0018016 ,\n",
        "         0.00171288,  0.00180823]]),\n",
        "       array([[ 0.0016542 ,  0.00155669,  0.00151608, ...,  0.0058208 ,\n",
        "         0.00429976,  0.00287258],\n",
        "       [ 0.00213719,  0.00214441,  0.00168152, ...,  0.00667039,\n",
        "         0.00491585,  0.00291523],\n",
        "       [ 0.00272075,  0.00264806,  0.00167364, ...,  0.00751345,\n",
        "         0.00557968,  0.00299312],\n",
        "       ..., \n",
        "       [ 0.00084578,  0.00059774,  0.00067047, ...,  0.01324865,\n",
        "         0.01802763,  0.01607521],\n",
        "       [ 0.00149613,  0.00100687,  0.00075993, ...,  0.01377772,\n",
        "         0.01920317,  0.01667817],\n",
        "       [ 0.00222686,  0.00136783,  0.00076691, ...,  0.01394486,\n",
        "         0.01970038,  0.01670714]]),\n",
        "       array([[ 0.00031311,  0.00055878,  0.00173766, ...,  0.00660805,\n",
        "         0.00331407,  0.00235004],\n",
        "       [ 0.00022059,  0.00038174,  0.00174904, ...,  0.00623413,\n",
        "         0.00361369,  0.00258979],\n",
        "       [ 0.00019152,  0.00036032,  0.00197693, ...,  0.00595015,\n",
        "         0.00398156,  0.00288054],\n",
        "       ..., \n",
        "       [ 0.00289475,  0.01003115,  0.01176902, ...,  0.00717274,\n",
        "         0.00629847,  0.00408271],\n",
        "       [ 0.00169841,  0.00607711,  0.00948933, ...,  0.00700044,\n",
        "         0.00657796,  0.0044052 ],\n",
        "       [ 0.00087399,  0.00326932,  0.00804691, ...,  0.00686162,\n",
        "         0.00686366,  0.00473498]]),\n",
        "       array([[ 0.0002098 ,  0.00028212,  0.00151139, ...,  0.0074361 ,\n",
        "         0.0028906 ,  0.00086485],\n",
        "       [ 0.00022454,  0.00026871,  0.00139333, ...,  0.00756564,\n",
        "         0.00303584,  0.00100722],\n",
        "       [ 0.00023438,  0.00025781,  0.0012783 , ...,  0.00779693,\n",
        "         0.00322064,  0.00117149],\n",
        "       ..., \n",
        "       [ 0.0012154 ,  0.00187835,  0.00331612, ...,  0.00361977,\n",
        "         0.00289257,  0.00267702],\n",
        "       [ 0.0007962 ,  0.00199607,  0.00379896, ...,  0.00355081,\n",
        "         0.00324704,  0.00333689],\n",
        "       [ 0.00095286,  0.00290894,  0.00451166, ...,  0.00353235,\n",
        "         0.00366329,  0.00407454]]),\n",
        "       array([[ 0.00254627,  0.00124012,  0.00164149, ...,  0.00674665,\n",
        "         0.00226618,  0.00337232],\n",
        "       [ 0.0035109 ,  0.00160057,  0.00176121, ...,  0.00582997,\n",
        "         0.00208471,  0.00351898],\n",
        "       [ 0.00373801,  0.00176664,  0.00216059, ...,  0.00515389,\n",
        "         0.00195411,  0.00367243],\n",
        "       ..., \n",
        "       [ 0.00444396,  0.00260195,  0.00096725, ...,  0.00412808,\n",
        "         0.00243235,  0.00172976],\n",
        "       [ 0.00305041,  0.00159473,  0.00069744, ...,  0.0045021 ,\n",
        "         0.00265836,  0.00164894],\n",
        "       [ 0.00180263,  0.00083929,  0.00057399, ...,  0.00487216,\n",
        "         0.00291422,  0.00161715]]),\n",
        "       array([[ 0.00309792,  0.00276386,  0.00300919, ...,  0.00482852,\n",
        "         0.00313971,  0.00518714],\n",
        "       [ 0.0035758 ,  0.00302906,  0.00302068, ...,  0.00478044,\n",
        "         0.00314299,  0.00512284],\n",
        "       [ 0.00463182,  0.00327241,  0.00270462, ...,  0.00471646,\n",
        "         0.0030915 ,  0.00497671],\n",
        "       ..., \n",
        "       [ 0.00978559,  0.00837167,  0.00286139, ...,  0.00380575,\n",
        "         0.00345521,  0.00563811],\n",
        "       [ 0.00854473,  0.00732218,  0.00265055, ...,  0.00370642,\n",
        "         0.00336947,  0.00535686],\n",
        "       [ 0.00802288,  0.00678519,  0.00277034, ...,  0.00357305,\n",
        "         0.00325731,  0.00506799]]),\n",
        "       array([[ 0.00497347,  0.00423857,  0.00279951, ...,  0.01081291,\n",
        "         0.00462205,  0.00435764],\n",
        "       [ 0.00694607,  0.00528905,  0.00273471, ...,  0.01058478,\n",
        "         0.00466506,  0.00453327],\n",
        "       [ 0.00779174,  0.00566405,  0.00258417, ...,  0.01027533,\n",
        "         0.00469167,  0.00472357],\n",
        "       ..., \n",
        "       [ 0.01980369,  0.01399368,  0.00310279, ...,  0.00164657,\n",
        "         0.00163802,  0.00565687],\n",
        "       [ 0.02035892,  0.01515647,  0.00341215, ...,  0.00162424,\n",
        "         0.00175023,  0.00595884],\n",
        "       [ 0.01836493,  0.01406229,  0.00326768, ...,  0.00162562,\n",
        "         0.00187912,  0.00629775]]),\n",
        "       array([[ 0.00324362,  0.0032231 ,  0.0021372 , ...,  0.01017489,\n",
        "         0.00505789,  0.00388775],\n",
        "       [ 0.00304578,  0.00292478,  0.00181204, ...,  0.0102663 ,\n",
        "         0.00514966,  0.00389903],\n",
        "       [ 0.00264062,  0.0024871 ,  0.00150896, ...,  0.01025406,\n",
        "         0.00519145,  0.0038842 ],\n",
        "       ..., \n",
        "       [ 0.00179388,  0.00180896,  0.00164142, ...,  0.00917943,\n",
        "         0.00279389,  0.003234  ],\n",
        "       [ 0.00172287,  0.00156588,  0.001763  , ...,  0.00823907,\n",
        "         0.00256129,  0.00301055],\n",
        "       [ 0.00210406,  0.00161125,  0.00191014, ...,  0.00747293,\n",
        "         0.00237723,  0.00283527]]),\n",
        "       array([[ 0.00385007,  0.00277332,  0.00157349, ...,  0.00957665,\n",
        "         0.00317253,  0.00218294],\n",
        "       [ 0.00208661,  0.00163541,  0.00149503, ...,  0.00926213,\n",
        "         0.00306894,  0.00209849],\n",
        "       [ 0.00148257,  0.00144386,  0.00151967, ...,  0.00906002,\n",
        "         0.00299015,  0.00200934],\n",
        "       ..., \n",
        "       [ 0.01392631,  0.02850147,  0.01454587, ...,  0.00081312,\n",
        "         0.00117242,  0.00267873],\n",
        "       [ 0.01348349,  0.02504554,  0.01197699, ...,  0.00090442,\n",
        "         0.00129358,  0.00277413],\n",
        "       [ 0.01259297,  0.02085959,  0.00921302, ...,  0.00100471,\n",
        "         0.00142653,  0.00288754]]),\n",
        "       array([[ 0.01293696,  0.00380651,  0.00118986, ...,  0.00402485,\n",
        "         0.00118624,  0.0010913 ],\n",
        "       [ 0.00674133,  0.0020386 ,  0.0014084 , ...,  0.00391226,\n",
        "         0.00112422,  0.00084058],\n",
        "       [ 0.00285525,  0.001013  ,  0.00188126, ...,  0.00374074,\n",
        "         0.00107301,  0.00065995],\n",
        "       ..., \n",
        "       [ 0.00504075,  0.00722373,  0.00486929, ...,  0.00235115,\n",
        "         0.00196413,  0.00327989],\n",
        "       [ 0.00576795,  0.00782382,  0.00476299, ...,  0.00222189,\n",
        "         0.00213486,  0.0034875 ],\n",
        "       [ 0.0049711 ,  0.00668342,  0.0045758 , ...,  0.0021261 ,\n",
        "         0.0023163 ,  0.00368448]]),\n",
        "       array([[ 0.0076774 ,  0.00418333,  0.00277875, ...,  0.00479222,\n",
        "         0.00197131,  0.00226317],\n",
        "       [ 0.00935906,  0.00442859,  0.00246952, ...,  0.00439841,\n",
        "         0.00174359,  0.00196412],\n",
        "       [ 0.00875068,  0.00381423,  0.00203595, ...,  0.00394644,\n",
        "         0.00155008,  0.00172729],\n",
        "       ..., \n",
        "       [ 0.0085858 ,  0.01552708,  0.00881306, ...,  0.00936336,\n",
        "         0.00327855,  0.00172034],\n",
        "       [ 0.00659949,  0.01229233,  0.007646  , ...,  0.00996321,\n",
        "         0.00335557,  0.00159672],\n",
        "       [ 0.00462728,  0.00888345,  0.00625704, ...,  0.01044083,\n",
        "         0.00341984,  0.00149131]]),\n",
        "       array([[ 0.00331489,  0.00397917,  0.00474952, ...,  0.00317986,\n",
        "         0.00331842,  0.00224682],\n",
        "       [ 0.00293782,  0.00444318,  0.0050649 , ...,  0.0033695 ,\n",
        "         0.00337535,  0.0021395 ],\n",
        "       [ 0.00270038,  0.00465193,  0.00478992, ...,  0.0035836 ,\n",
        "         0.00341701,  0.00202703],\n",
        "       ..., \n",
        "       [ 0.02339307,  0.01025855,  0.00169441, ...,  0.00131693,\n",
        "         0.00098319,  0.00222063],\n",
        "       [ 0.01473154,  0.0063869 ,  0.00108051, ...,  0.00144405,\n",
        "         0.00102091,  0.00200917],\n",
        "       [ 0.00786448,  0.00334179,  0.00061367, ...,  0.00164258,\n",
        "         0.00110302,  0.00188841]]),\n",
        "       array([[ 0.00339174,  0.00116513,  0.00069016, ...,  0.00520313,\n",
        "         0.00164495,  0.00112631],\n",
        "       [ 0.00149313,  0.00061599,  0.00083665, ...,  0.00550202,\n",
        "         0.00169933,  0.00097224],\n",
        "       [ 0.00061446,  0.00034831,  0.00095058, ...,  0.00560966,\n",
        "         0.00171717,  0.00085022],\n",
        "       ..., \n",
        "       [ 0.01628356,  0.02118636,  0.00810484, ...,  0.00410209,\n",
        "         0.00288495,  0.00372098],\n",
        "       [ 0.01445831,  0.01990157,  0.00830115, ...,  0.00407907,\n",
        "         0.00293812,  0.00353758],\n",
        "       [ 0.0108433 ,  0.01563795,  0.00730278, ...,  0.00408084,\n",
        "         0.00299544,  0.00336462]]),\n",
        "       array([[ 0.00168106,  0.00234957,  0.00278786, ...,  0.0138352 ,\n",
        "         0.00676584,  0.00249451],\n",
        "       [ 0.00157046,  0.0021006 ,  0.00242547, ...,  0.01312013,\n",
        "         0.00656269,  0.00241417],\n",
        "       [ 0.00162746,  0.00210853,  0.00228074, ...,  0.0123938 ,\n",
        "         0.00634805,  0.00234381],\n",
        "       ..., \n",
        "       [ 0.00084416,  0.00319228,  0.00846863, ...,  0.00076268,\n",
        "         0.00055811,  0.00044844],\n",
        "       [ 0.00084678,  0.00356129,  0.00909924, ...,  0.00079403,\n",
        "         0.00055886,  0.00043434],\n",
        "       [ 0.0008624 ,  0.00373825,  0.00956555, ...,  0.00082331,\n",
        "         0.00056221,  0.00042469]]),\n",
        "       array([[ 0.00028008,  0.00037369,  0.00124474, ...,  0.01118646,\n",
        "         0.00739231,  0.00955794],\n",
        "       [ 0.00034645,  0.00043012,  0.00110818, ...,  0.01144259,\n",
        "         0.00717797,  0.00997403],\n",
        "       [ 0.00050833,  0.00055071,  0.00101853, ...,  0.01208525,\n",
        "         0.00705677,  0.01011671],\n",
        "       ..., \n",
        "       [ 0.00235365,  0.00281927,  0.00159194, ...,  0.01073557,\n",
        "         0.00409133,  0.00152746],\n",
        "       [ 0.00129601,  0.00137065,  0.00091804, ...,  0.0112779 ,\n",
        "         0.00433332,  0.00149019],\n",
        "       [ 0.00064809,  0.00059772,  0.00063589, ...,  0.01152233,\n",
        "         0.00447328,  0.0014595 ]]),\n",
        "       array([[ 0.00060973,  0.00092331,  0.00198549, ...,  0.01065813,\n",
        "         0.00329964,  0.00140315],\n",
        "       [ 0.00045463,  0.00088433,  0.0020238 , ...,  0.0099494 ,\n",
        "         0.0032402 ,  0.00143887],\n",
        "       [ 0.00038013,  0.00087827,  0.00210261, ...,  0.00903705,\n",
        "         0.00310224,  0.00143939],\n",
        "       ..., \n",
        "       [ 0.00312374,  0.00341549,  0.00331917, ...,  0.00570055,\n",
        "         0.01201716,  0.00845466],\n",
        "       [ 0.00373551,  0.00351652,  0.00305703, ...,  0.00571287,\n",
        "         0.01197227,  0.00831546],\n",
        "       [ 0.00398369,  0.00316318,  0.00264429, ...,  0.00569047,\n",
        "         0.01187711,  0.0081711 ]]),\n",
        "       array([[ 0.00023873,  0.00055366,  0.00194797, ...,  0.00357858,\n",
        "         0.00178824,  0.0009259 ],\n",
        "       [ 0.0003997 ,  0.00068746,  0.00181673, ...,  0.00375611,\n",
        "         0.0020786 ,  0.00103177],\n",
        "       [ 0.00071763,  0.00097253,  0.00192985, ...,  0.00409607,\n",
        "         0.00247797,  0.00117553],\n",
        "       ..., \n",
        "       [ 0.00703073,  0.02045675,  0.01842809, ...,  0.00351017,\n",
        "         0.00114268,  0.00072461],\n",
        "       [ 0.00558477,  0.01901842,  0.01981206, ...,  0.00375083,\n",
        "         0.00119102,  0.0007163 ],\n",
        "       [ 0.00448439,  0.01678247,  0.01928879, ...,  0.00397343,\n",
        "         0.00124216,  0.0007114 ]]),\n",
        "       array([[ 0.00319105,  0.00231634,  0.00085815, ...,  0.00655182,\n",
        "         0.00263063,  0.00129166],\n",
        "       [ 0.00292851,  0.00221587,  0.00085228, ...,  0.00771584,\n",
        "         0.00287965,  0.00112332],\n",
        "       [ 0.00248238,  0.00191466,  0.00086359, ...,  0.00862675,\n",
        "         0.0030361 ,  0.00097235],\n",
        "       ..., \n",
        "       [ 0.00231555,  0.00425765,  0.00530698, ...,  0.00375607,\n",
        "         0.00426841,  0.00570186],\n",
        "       [ 0.00247018,  0.00447717,  0.00587897, ...,  0.00387241,\n",
        "         0.00421251,  0.00548706],\n",
        "       [ 0.00256934,  0.00461758,  0.00627771, ...,  0.00393825,\n",
        "         0.00411212,  0.00519953]]),\n",
        "       array([[ 0.00078933,  0.00104651,  0.00120394, ...,  0.00346348,\n",
        "         0.00221812,  0.00283053],\n",
        "       [ 0.0014221 ,  0.00200111,  0.00177382, ...,  0.00319676,\n",
        "         0.00232103,  0.00311666],\n",
        "       [ 0.00220349,  0.00339724,  0.00294349, ...,  0.00308437,\n",
        "         0.00243102,  0.00332295],\n",
        "       ..., \n",
        "       [ 0.00236476,  0.0064253 ,  0.00679644, ...,  0.00464976,\n",
        "         0.0039029 ,  0.00207687],\n",
        "       [ 0.00272906,  0.00763553,  0.00844118, ...,  0.00472818,\n",
        "         0.00410407,  0.00219107],\n",
        "       [ 0.00324506,  0.00885056,  0.01027985, ...,  0.00473742,\n",
        "         0.00423584,  0.00226922]]),\n",
        "       array([[ 0.00313934,  0.00263432,  0.00363695, ...,  0.00274438,\n",
        "         0.00279553,  0.00316649],\n",
        "       [ 0.00348509,  0.00221528,  0.00287179, ...,  0.00272156,\n",
        "         0.00282609,  0.00302712],\n",
        "       [ 0.00352725,  0.00177768,  0.00203144, ...,  0.00272393,\n",
        "         0.00283567,  0.00285075],\n",
        "       ..., \n",
        "       [ 0.00262105,  0.00237657,  0.0014837 , ...,  0.01566993,\n",
        "         0.01085497,  0.00773466],\n",
        "       [ 0.00362969,  0.00355812,  0.00173587, ...,  0.0168811 ,\n",
        "         0.01177814,  0.00810219],\n",
        "       [ 0.00585205,  0.00562182,  0.00228988, ...,  0.01770755,\n",
        "         0.01242496,  0.00829375]]),\n",
        "       array([[ 0.00511474,  0.00236718,  0.00191699, ...,  0.00147771,\n",
        "         0.00156231,  0.00131217],\n",
        "       [ 0.00393019,  0.00238276,  0.00220165, ...,  0.00171994,\n",
        "         0.00152425,  0.00122593],\n",
        "       [ 0.00312539,  0.00254102,  0.00255316, ...,  0.00208387,\n",
        "         0.00155465,  0.00117436],\n",
        "       ..., \n",
        "       [ 0.00613639,  0.019232  ,  0.01723882, ...,  0.00143872,\n",
        "         0.00108215,  0.00098644],\n",
        "       [ 0.0059667 ,  0.01815298,  0.01649324, ...,  0.00152109,\n",
        "         0.00116195,  0.0009801 ],\n",
        "       [ 0.00558062,  0.01660222,  0.01511783, ...,  0.00160452,\n",
        "         0.00124375,  0.00098336]]),\n",
        "       array([[ 0.00278344,  0.00348623,  0.00219028, ...,  0.01206226,\n",
        "         0.00381814,  0.00171707],\n",
        "       [ 0.00246193,  0.00311648,  0.00196131, ...,  0.01058794,\n",
        "         0.00327302,  0.00150018],\n",
        "       [ 0.00196892,  0.00248334,  0.00176081, ...,  0.00922851,\n",
        "         0.00279962,  0.00131837],\n",
        "       ..., \n",
        "       [ 0.00135349,  0.00214155,  0.00312231, ...,  0.00395908,\n",
        "         0.00344476,  0.00580194],\n",
        "       [ 0.00136506,  0.00184837,  0.00281763, ...,  0.00348154,\n",
        "         0.00320344,  0.00535814],\n",
        "       [ 0.00180783,  0.00159833,  0.00259311, ...,  0.00305616,\n",
        "         0.00295477,  0.00488825]]),\n",
        "       array([[ 0.00867975,  0.00366226,  0.00154784, ...,  0.00856524,\n",
        "         0.00341154,  0.00219421],\n",
        "       [ 0.00572472,  0.00216085,  0.00150254, ...,  0.00784511,\n",
        "         0.00307323,  0.00185756],\n",
        "       [ 0.00303926,  0.0012594 ,  0.00187185, ...,  0.00716541,\n",
        "         0.00278603,  0.00160849],\n",
        "       ..., \n",
        "       [ 0.00171096,  0.00121398,  0.00154361, ...,  0.0052434 ,\n",
        "         0.00104327,  0.00031651],\n",
        "       [ 0.00202509,  0.0014442 ,  0.0014287 , ...,  0.00467262,\n",
        "         0.00093073,  0.00028594],\n",
        "       [ 0.00180862,  0.00139048,  0.00142043, ...,  0.00424246,\n",
        "         0.00084812,  0.00026654]]),\n",
        "       array([[ 0.01268758,  0.01311777,  0.00542577, ...,  0.00264931,\n",
        "         0.00436242,  0.00570873],\n",
        "       [ 0.01614592,  0.01455429,  0.00493572, ...,  0.00262869,\n",
        "         0.00401852,  0.00505796],\n",
        "       [ 0.01783131,  0.01359029,  0.00388142, ...,  0.00272085,\n",
        "         0.00378419,  0.00444687],\n",
        "       ..., \n",
        "       [ 0.00174735,  0.00139931,  0.00126414, ...,  0.0046821 ,\n",
        "         0.0040199 ,  0.00414111],\n",
        "       [ 0.0023364 ,  0.00186963,  0.00149113, ...,  0.00484087,\n",
        "         0.00428163,  0.00443601],\n",
        "       [ 0.00320704,  0.00244241,  0.00168562, ...,  0.00497798,\n",
        "         0.00452425,  0.00472065]]),\n",
        "       array([[ 0.00488324,  0.01026225,  0.00958006, ...,  0.00369082,\n",
        "         0.00090903,  0.00038942],\n",
        "       [ 0.00297463,  0.00720516,  0.00900294, ...,  0.00335085,\n",
        "         0.0007941 ,  0.00037827],\n",
        "       [ 0.00164345,  0.00482943,  0.00808344, ...,  0.00304911,\n",
        "         0.00070789,  0.00038062],\n",
        "       ..., \n",
        "       [ 0.00895023,  0.00505404,  0.00114778, ...,  0.00275314,\n",
        "         0.00096012,  0.00152436],\n",
        "       [ 0.0091144 ,  0.00480161,  0.00105599, ...,  0.00308688,\n",
        "         0.00095119,  0.00127427],\n",
        "       [ 0.00830873,  0.00431259,  0.00110495, ...,  0.00342785,\n",
        "         0.00095247,  0.00105807]]),\n",
        "       array([[ 0.0016159 ,  0.00259406,  0.00415686, ...,  0.00796393,\n",
        "         0.00251588,  0.00135303],\n",
        "       [ 0.0009924 ,  0.00163151,  0.00336258, ...,  0.00721617,\n",
        "         0.00234004,  0.00130938],\n",
        "       [ 0.00106915,  0.0013652 ,  0.00256744, ...,  0.0064095 ,\n",
        "         0.00215173,  0.00129124],\n",
        "       ..., \n",
        "       [ 0.0056605 ,  0.0090904 ,  0.0047744 , ...,  0.00111644,\n",
        "         0.00131905,  0.00388166],\n",
        "       [ 0.00677536,  0.01118123,  0.00554028, ...,  0.00109767,\n",
        "         0.00134178,  0.00401214],\n",
        "       [ 0.00665964,  0.0115165 ,  0.00604537, ...,  0.00108121,\n",
        "         0.00135329,  0.00407979]]),\n",
        "       array([[ 0.00191743,  0.00119397,  0.0006783 , ...,  0.01161656,\n",
        "         0.00548072,  0.0060089 ],\n",
        "       [ 0.0018023 ,  0.00107492,  0.00082855, ...,  0.00915273,\n",
        "         0.00500229,  0.00560814],\n",
        "       [ 0.00208551,  0.00117281,  0.00112919, ...,  0.00708726,\n",
        "         0.00454308,  0.00516111],\n",
        "       ..., \n",
        "       [ 0.00327566,  0.00612782,  0.00518046, ...,  0.00165285,\n",
        "         0.00172332,  0.00307511],\n",
        "       [ 0.00383664,  0.00734804,  0.00611036, ...,  0.00164245,\n",
        "         0.00168885,  0.00299037],\n",
        "       [ 0.00487992,  0.00921635,  0.00699802, ...,  0.0016202 ,\n",
        "         0.00164898,  0.00288369]]),\n",
        "       array([[ 0.01256954,  0.00694513,  0.00140077, ...,  0.01158244,\n",
        "         0.00331903,  0.00210949],\n",
        "       [ 0.0112358 ,  0.00648316,  0.00139414, ...,  0.01260889,\n",
        "         0.00328775,  0.00175599],\n",
        "       [ 0.00886444,  0.0051969 ,  0.00129253, ...,  0.01337378,\n",
        "         0.00322721,  0.00145125],\n",
        "       ..., \n",
        "       [ 0.01087853,  0.02190232,  0.01176926, ...,  0.00140855,\n",
        "         0.00128541,  0.00323972],\n",
        "       [ 0.01120709,  0.02338166,  0.01282264, ...,  0.0013284 ,\n",
        "         0.00124759,  0.00307961],\n",
        "       [ 0.01201642,  0.02426547,  0.01300424, ...,  0.00128163,\n",
        "         0.00122466,  0.00293648]]),\n",
        "       array([[ 0.00031155,  0.00015542,  0.00040889, ...,  0.01088005,\n",
        "         0.00348742,  0.00067897],\n",
        "       [ 0.00038393,  0.00015801,  0.00037194, ...,  0.0099915 ,\n",
        "         0.00320033,  0.00063476],\n",
        "       [ 0.00045995,  0.00016023,  0.00033052, ...,  0.00913326,\n",
        "         0.00294503,  0.00059821],\n",
        "       ..., \n",
        "       [ 0.00924434,  0.00738973,  0.00317992, ...,  0.00159984,\n",
        "         0.00644007,  0.01199498],\n",
        "       [ 0.01022806,  0.01020092,  0.00450307, ...,  0.0015112 ,\n",
        "         0.00612389,  0.01156516],\n",
        "       [ 0.01065353,  0.01281541,  0.0060151 , ...,  0.00144905,\n",
        "         0.00585794,  0.01115544]]),\n",
        "       array([[ 0.0011227 ,  0.00161593,  0.00173666, ...,  0.00402627,\n",
        "         0.00262939,  0.00144347],\n",
        "       [ 0.00076269,  0.00111642,  0.00162383, ...,  0.00393494,\n",
        "         0.00274775,  0.00147551],\n",
        "       [ 0.00050177,  0.00074436,  0.0015526 , ...,  0.00384659,\n",
        "         0.0028199 ,  0.00147611],\n",
        "       ..., \n",
        "       [ 0.0060484 ,  0.00621949,  0.00530529, ...,  0.00808472,\n",
        "         0.00437144,  0.003422  ],\n",
        "       [ 0.00667207,  0.00656015,  0.00508578, ...,  0.00837355,\n",
        "         0.00436178,  0.00311011],\n",
        "       [ 0.00691462,  0.00720442,  0.00515873, ...,  0.00847395,\n",
        "         0.00429552,  0.00281836]]),\n",
        "       array([[ 0.01630164,  0.01091054,  0.00350782, ...,  0.00960164,\n",
        "         0.00505992,  0.00421894],\n",
        "       [ 0.01482046,  0.00907654,  0.0029102 , ...,  0.01110813,\n",
        "         0.00532391,  0.0037954 ],\n",
        "       [ 0.01144013,  0.00690864,  0.00258111, ...,  0.01264032,\n",
        "         0.00554801,  0.00336573],\n",
        "       ..., \n",
        "       [ 0.01139946,  0.00709898,  0.00194117, ...,  0.00059562,\n",
        "         0.00237794,  0.01209833],\n",
        "       [ 0.00942013,  0.00717419,  0.00242053, ...,  0.00062449,\n",
        "         0.0026172 ,  0.01341391],\n",
        "       [ 0.00721761,  0.00709879,  0.00307234, ...,  0.00064816,\n",
        "         0.00280076,  0.0144033 ]]),\n",
        "       array([[ 0.00021814,  0.00025358,  0.00113396, ...,  0.01219693,\n",
        "         0.00535792,  0.00141175],\n",
        "       [ 0.0002184 ,  0.0002427 ,  0.00104062, ...,  0.01131415,\n",
        "         0.00531389,  0.00154625],\n",
        "       [ 0.00026335,  0.00025971,  0.00093706, ...,  0.01056401,\n",
        "         0.00538581,  0.00174541],\n",
        "       ..., \n",
        "       [ 0.00047811,  0.00051389,  0.00174288, ...,  0.00834097,\n",
        "         0.00407629,  0.00384648],\n",
        "       [ 0.00037322,  0.00075853,  0.00246345, ...,  0.00779474,\n",
        "         0.00399392,  0.0040935 ],\n",
        "       [ 0.00048251,  0.00117431,  0.00316817, ...,  0.0071734 ,\n",
        "         0.00387034,  0.00428691]]),\n",
        "       array([[ 0.00182287,  0.00098437,  0.00065207, ...,  0.00726346,\n",
        "         0.00218115,  0.00138004],\n",
        "       [ 0.00072897,  0.00042238,  0.00075744, ...,  0.00686596,\n",
        "         0.00207626,  0.00124447],\n",
        "       [ 0.00031992,  0.00026258,  0.00098714, ...,  0.00621755,\n",
        "         0.00191734,  0.00115576],\n",
        "       ..., \n",
        "       [ 0.00293238,  0.00474582,  0.00522527, ...,  0.00565734,\n",
        "         0.00333018,  0.00163174],\n",
        "       [ 0.00272331,  0.00533481,  0.00601696, ...,  0.00605654,\n",
        "         0.00347354,  0.00158092],\n",
        "       [ 0.0023602 ,  0.00540015,  0.00663187, ...,  0.00642306,\n",
        "         0.00360253,  0.00153058]]),\n",
        "       array([[ 0.00098692,  0.00113601,  0.00254933, ...,  0.00722471,\n",
        "         0.00158418,  0.00063583],\n",
        "       [ 0.00038138,  0.00070315,  0.00273848, ...,  0.00635472,\n",
        "         0.00140325,  0.00053518],\n",
        "       [ 0.00023784,  0.00055045,  0.00289483, ...,  0.00543203,\n",
        "         0.00121881,  0.0004622 ],\n",
        "       ..., \n",
        "       [ 0.00314764,  0.00344001,  0.00224241, ...,  0.01356131,\n",
        "         0.00589138,  0.00333195],\n",
        "       [ 0.00172699,  0.00198615,  0.00190819, ...,  0.01344933,\n",
        "         0.0060468 ,  0.00346174],\n",
        "       [ 0.00093154,  0.00109785,  0.00160104, ...,  0.01320637,\n",
        "         0.00613386,  0.00356556]]),\n",
        "       array([[ 0.00390738,  0.00341684,  0.00155105, ...,  0.01066179,\n",
        "         0.00366399,  0.00123792],\n",
        "       [ 0.00327142,  0.0031523 ,  0.00186223, ...,  0.01031461,\n",
        "         0.00371516,  0.00120966],\n",
        "       [ 0.00252693,  0.00263911,  0.00203275, ...,  0.0097997 ,\n",
        "         0.00375794,  0.00120898],\n",
        "       ..., \n",
        "       [ 0.00090191,  0.00077573,  0.00132924, ...,  0.0080545 ,\n",
        "         0.0057656 ,  0.00340732],\n",
        "       [ 0.00084094,  0.00058827,  0.00099016, ...,  0.00862243,\n",
        "         0.00637702,  0.00362409],\n",
        "       [ 0.00103648,  0.00053865,  0.00069804, ...,  0.00919869,\n",
        "         0.00698838,  0.0038351 ]]),\n",
        "       array([[ 0.00015028,  0.00037883,  0.00160842, ...,  0.00566198,\n",
        "         0.00159889,  0.00038419],\n",
        "       [ 0.00015223,  0.00044169,  0.00209508, ...,  0.00580473,\n",
        "         0.00171188,  0.00043726],\n",
        "       [ 0.0001498 ,  0.00048389,  0.00259368, ...,  0.00590262,\n",
        "         0.00182172,  0.00049435],\n",
        "       ..., \n",
        "       [ 0.00181605,  0.00155919,  0.00122098, ...,  0.01283228,\n",
        "         0.00680914,  0.00286881],\n",
        "       [ 0.00204055,  0.00195134,  0.00127759, ...,  0.01302048,\n",
        "         0.00705672,  0.00295709],\n",
        "       [ 0.00248303,  0.00239062,  0.00135622, ...,  0.01299412,\n",
        "         0.00719476,  0.00300576]]),\n",
        "       array([[ 0.00249325,  0.00296368,  0.00524334, ...,  0.0055991 ,\n",
        "         0.00319732,  0.00324202],\n",
        "       [ 0.00237149,  0.00276807,  0.00485755, ...,  0.00620291,\n",
        "         0.00319931,  0.00298313],\n",
        "       [ 0.00217384,  0.00264755,  0.00455196, ...,  0.00697077,\n",
        "         0.0032213 ,  0.002703  ],\n",
        "       ..., \n",
        "       [ 0.00866891,  0.01873375,  0.01264211, ...,  0.00094296,\n",
        "         0.00096678,  0.00214428],\n",
        "       [ 0.0079341 ,  0.01770306,  0.01252761, ...,  0.00088877,\n",
        "         0.00093322,  0.00212313],\n",
        "       [ 0.00755285,  0.01682049,  0.01252706, ...,  0.00083757,\n",
        "         0.00090413,  0.00209783]]),\n",
        "       array([[ 0.00048543,  0.0007963 ,  0.00216483, ...,  0.01761144,\n",
        "         0.00496981,  0.00109488],\n",
        "       [ 0.00025375,  0.00045008,  0.00177072, ...,  0.01616571,\n",
        "         0.00446924,  0.00092839],\n",
        "       [ 0.00019404,  0.00031321,  0.00148676, ...,  0.01476165,\n",
        "         0.00402324,  0.00079621],\n",
        "       ..., \n",
        "       [ 0.00697473,  0.0075533 ,  0.00299064, ...,  0.0082061 ,\n",
        "         0.00771514,  0.00904162],\n",
        "       [ 0.00658337,  0.00722068,  0.00295527, ...,  0.00742613,\n",
        "         0.00753051,  0.00894666],\n",
        "       [ 0.00538611,  0.00587005,  0.00272255, ...,  0.00678456,\n",
        "         0.00738054,  0.00889154]]),\n",
        "       array([[ 0.00293944,  0.00048084,  0.00011636, ...,  0.00414331,\n",
        "         0.00462629,  0.00369582],\n",
        "       [ 0.00318971,  0.00052226,  0.00012252, ...,  0.0049345 ,\n",
        "         0.00476347,  0.00380602],\n",
        "       [ 0.00328127,  0.00053274,  0.00012674, ...,  0.00582708,\n",
        "         0.00492171,  0.00400995],\n",
        "       ..., \n",
        "       [ 0.00774326,  0.01481831,  0.01152758, ...,  0.00335588,\n",
        "         0.00129585,  0.00085758],\n",
        "       [ 0.00905697,  0.01624318,  0.01147526, ...,  0.00338995,\n",
        "         0.00117364,  0.00072328],\n",
        "       [ 0.00874452,  0.01508099,  0.01075999, ...,  0.00344559,\n",
        "         0.00107889,  0.00061677]]),\n",
        "       array([[ 0.00838918,  0.00492599,  0.00122694, ...,  0.00571978,\n",
        "         0.00234199,  0.00180933],\n",
        "       [ 0.00348645,  0.00213009,  0.00084102, ...,  0.00636362,\n",
        "         0.00257523,  0.00161516],\n",
        "       [ 0.00128296,  0.00083066,  0.00068475, ...,  0.00677601,\n",
        "         0.00272873,  0.0014354 ],\n",
        "       ..., \n",
        "       [ 0.00686915,  0.00747082,  0.00397216, ...,  0.00454968,\n",
        "         0.0027675 ,  0.00136628],\n",
        "       [ 0.00438538,  0.00541854,  0.00382549, ...,  0.004819  ,\n",
        "         0.00295067,  0.00130161],\n",
        "       [ 0.00271893,  0.00409669,  0.00360017, ...,  0.0049519 ,\n",
        "         0.00305707,  0.00124277]]),\n",
        "       array([[ 0.00718497,  0.01175276,  0.0082375 , ...,  0.00156293,\n",
        "         0.00133046,  0.00137635],\n",
        "       [ 0.00708838,  0.01092315,  0.00805661, ...,  0.001324  ,\n",
        "         0.00121643,  0.00130412],\n",
        "       [ 0.00677308,  0.01009493,  0.00776974, ...,  0.00113392,\n",
        "         0.00112342,  0.00123259],\n",
        "       ..., \n",
        "       [ 0.00613045,  0.00336647,  0.00256124, ...,  0.00585274,\n",
        "         0.00487474,  0.00247166],\n",
        "       [ 0.0063215 ,  0.00346966,  0.00274025, ...,  0.00611991,\n",
        "         0.00516904,  0.00259964],\n",
        "       [ 0.0054387 ,  0.00307218,  0.00264763, ...,  0.00634983,\n",
        "         0.00544649,  0.00273225]]),\n",
        "       array([[ 0.00663878,  0.00473671,  0.0021703 , ...,  0.00573997,\n",
        "         0.00220139,  0.00190213],\n",
        "       [ 0.00538574,  0.00463297,  0.00221317, ...,  0.00685616,\n",
        "         0.00245744,  0.00170608],\n",
        "       [ 0.00521213,  0.00531965,  0.00249841, ...,  0.00789926,\n",
        "         0.00269102,  0.00151558],\n",
        "       ..., \n",
        "       [ 0.0011764 ,  0.00085296,  0.00077229, ...,  0.0125402 ,\n",
        "         0.00548144,  0.005774  ],\n",
        "       [ 0.00082453,  0.00057116,  0.00063324, ...,  0.01249173,\n",
        "         0.00539441,  0.00558146],\n",
        "       [ 0.00068758,  0.00050011,  0.00063657, ...,  0.01223138,\n",
        "         0.00522936,  0.00532048]]),\n",
        "       array([[ 0.00017146,  0.00021521,  0.00089598, ...,  0.01293933,\n",
        "         0.00453604,  0.00088249],\n",
        "       [ 0.00014481,  0.00016585,  0.00073552, ...,  0.01299338,\n",
        "         0.00449893,  0.00084975],\n",
        "       [ 0.00013608,  0.00013582,  0.0005835 , ...,  0.01284118,\n",
        "         0.00442329,  0.00082934],\n",
        "       ..., \n",
        "       [ 0.00200144,  0.00213239,  0.00231363, ...,  0.00418807,\n",
        "         0.00315961,  0.00555748],\n",
        "       [ 0.00213839,  0.00196475,  0.00302692, ...,  0.00392706,\n",
        "         0.00294191,  0.00500747],\n",
        "       [ 0.00384432,  0.00263193,  0.00363609, ...,  0.0036751 ,\n",
        "         0.00271931,  0.00447219]]),\n",
        "       array([[ 0.00352585,  0.0027753 ,  0.0030318 , ...,  0.00326873,\n",
        "         0.00595107,  0.00775725],\n",
        "       [ 0.00364118,  0.00272629,  0.00295246, ...,  0.00301467,\n",
        "         0.0058473 ,  0.00809904],\n",
        "       [ 0.00377971,  0.00263336,  0.00299406, ...,  0.00276157,\n",
        "         0.00567661,  0.00834464],\n",
        "       ..., \n",
        "       [ 0.00518044,  0.01048757,  0.00806459, ...,  0.00061274,\n",
        "         0.00074283,  0.00219137],\n",
        "       [ 0.00505962,  0.01086129,  0.00778175, ...,  0.00055486,\n",
        "         0.00074227,  0.00234571],\n",
        "       [ 0.0049305 ,  0.01155083,  0.00829927, ...,  0.00050626,\n",
        "         0.00073946,  0.00247722]]),\n",
        "       array([[ 0.00351868,  0.00126946,  0.00037444, ...,  0.01411088,\n",
        "         0.00816374,  0.00313274],\n",
        "       [ 0.00346187,  0.00191007,  0.00063886, ...,  0.01329907,\n",
        "         0.00761081,  0.00296042],\n",
        "       [ 0.00374981,  0.00305362,  0.00115972, ...,  0.0123115 ,\n",
        "         0.00706823,  0.00283516],\n",
        "       ..., \n",
        "       [ 0.0078764 ,  0.01176865,  0.00790738, ...,  0.0025833 ,\n",
        "         0.00227121,  0.00279756],\n",
        "       [ 0.00704045,  0.01307483,  0.00934125, ...,  0.00298087,\n",
        "         0.00251573,  0.0027485 ],\n",
        "       [ 0.00682502,  0.0135198 ,  0.00985345, ...,  0.00335343,\n",
        "         0.0027476 ,  0.00270799]]),\n",
        "       array([[ 0.00064161,  0.00029658,  0.00040533, ...,  0.00755259,\n",
        "         0.00681964,  0.00217573],\n",
        "       [ 0.00078105,  0.00021939,  0.00027729, ...,  0.00781288,\n",
        "         0.00706561,  0.00219995],\n",
        "       [ 0.00086248,  0.00020308,  0.00022266, ...,  0.00805923,\n",
        "         0.00731321,  0.00223824],\n",
        "       ..., \n",
        "       [ 0.00776804,  0.01242795,  0.00830586, ...,  0.00253664,\n",
        "         0.00213047,  0.00222146],\n",
        "       [ 0.00729487,  0.01300805,  0.00883092, ...,  0.0028112 ,\n",
        "         0.00238934,  0.00224977],\n",
        "       [ 0.00671141,  0.01279618,  0.00889034, ...,  0.00305332,\n",
        "         0.002625  ,  0.0022753 ]]),\n",
        "       array([[ 0.003949  ,  0.00321045,  0.00193723, ...,  0.00437443,\n",
        "         0.00124366,  0.00197649],\n",
        "       [ 0.0031443 ,  0.00303825,  0.00216959, ...,  0.0043096 ,\n",
        "         0.00124248,  0.00201173],\n",
        "       [ 0.00426941,  0.00397351,  0.00240564, ...,  0.00418963,\n",
        "         0.00123207,  0.00203133],\n",
        "       ..., \n",
        "       [ 0.00641421,  0.00876032,  0.00421815, ...,  0.0004345 ,\n",
        "         0.00064452,  0.00274808],\n",
        "       [ 0.00809741,  0.01156905,  0.00547517, ...,  0.00044911,\n",
        "         0.00066608,  0.00275579],\n",
        "       [ 0.00976659,  0.01421945,  0.00675451, ...,  0.00046841,\n",
        "         0.0006899 ,  0.00275352]]),\n",
        "       array([[ 0.00021537,  0.00042607,  0.00158831, ...,  0.00597494,\n",
        "         0.001628  ,  0.00040302],\n",
        "       [ 0.0002475 ,  0.00045459,  0.00132645, ...,  0.00578215,\n",
        "         0.00155549,  0.00039338],\n",
        "       [ 0.00026154,  0.00047207,  0.00131564, ...,  0.00560502,\n",
        "         0.00150936,  0.0003947 ],\n",
        "       ..., \n",
        "       [ 0.00143447,  0.00233633,  0.00291038, ...,  0.00813477,\n",
        "         0.00668558,  0.01127132],\n",
        "       [ 0.00093964,  0.00156783,  0.00266493, ...,  0.00710324,\n",
        "         0.00612497,  0.01053893],\n",
        "       [ 0.00098222,  0.00132065,  0.00263885, ...,  0.00624535,\n",
        "         0.00561025,  0.00979493]]),\n",
        "       array([[ 0.00061572,  0.00204708,  0.00680548, ...,  0.00502001,\n",
        "         0.00631734,  0.00540024],\n",
        "       [ 0.00090149,  0.00281592,  0.00768469, ...,  0.00442566,\n",
        "         0.00590383,  0.00525615],\n",
        "       [ 0.00136411,  0.00432059,  0.00928892, ...,  0.00394852,\n",
        "         0.00547512,  0.005021  ],\n",
        "       ..., \n",
        "       [ 0.00431999,  0.00320168,  0.00180546, ...,  0.00707026,\n",
        "         0.00389261,  0.00586283],\n",
        "       [ 0.00447323,  0.00350997,  0.00227458, ...,  0.00755532,\n",
        "         0.00410195,  0.00602743],\n",
        "       [ 0.00428368,  0.00372031,  0.00269037, ...,  0.00781792,\n",
        "         0.00420987,  0.00606238]]),\n",
        "       array([[ 0.00057724,  0.00211347,  0.00557953, ...,  0.00389658,\n",
        "         0.00426378,  0.002602  ],\n",
        "       [ 0.00047251,  0.00165073,  0.00417568, ...,  0.00401863,\n",
        "         0.00434889,  0.00261598],\n",
        "       [ 0.00049016,  0.00142211,  0.0030097 , ...,  0.00414645,\n",
        "         0.00444303,  0.00264669],\n",
        "       ..., \n",
        "       [ 0.00645285,  0.0030243 ,  0.00072392, ...,  0.00184525,\n",
        "         0.00059796,  0.00072128],\n",
        "       [ 0.00768107,  0.0036793 ,  0.00087305, ...,  0.00145343,\n",
        "         0.00049254,  0.0006818 ],\n",
        "       [ 0.00865273,  0.00439838,  0.00111461, ...,  0.00111925,\n",
        "         0.00040157,  0.00063751]]),\n",
        "       array([[ 0.01675459,  0.00736489,  0.00163229, ...,  0.00241453,\n",
        "         0.001128  ,  0.00238569],\n",
        "       [ 0.01303552,  0.00539813,  0.00118785, ...,  0.0025162 ,\n",
        "         0.00110309,  0.00208708],\n",
        "       [ 0.01063834,  0.0040901 ,  0.0009303 , ...,  0.00255268,\n",
        "         0.00107659,  0.00183798],\n",
        "       ..., \n",
        "       [ 0.00285826,  0.00464133,  0.00389296, ...,  0.01137387,\n",
        "         0.003891  ,  0.0020654 ],\n",
        "       [ 0.0018568 ,  0.00328582,  0.00328903, ...,  0.01208989,\n",
        "         0.00407761,  0.00207829],\n",
        "       [ 0.00142209,  0.00214237,  0.00237203, ...,  0.01250826,\n",
        "         0.00417938,  0.00206602]]),\n",
        "       array([[ 0.00060446,  0.00184626,  0.00320346, ...,  0.0130518 ,\n",
        "         0.00623232,  0.0016424 ],\n",
        "       [ 0.00034745,  0.00091476,  0.00208649, ...,  0.01339477,\n",
        "         0.00615309,  0.00151286],\n",
        "       [ 0.00022007,  0.00044214,  0.00137465, ...,  0.01348474,\n",
        "         0.00600063,  0.00139158],\n",
        "       ..., \n",
        "       [ 0.01127096,  0.00410682,  0.00101438, ...,  0.00551913,\n",
        "         0.00264471,  0.00362624],\n",
        "       [ 0.0088534 ,  0.00338373,  0.00097831, ...,  0.00569544,\n",
        "         0.00266294,  0.0034147 ],\n",
        "       [ 0.00692649,  0.00305313,  0.00112082, ...,  0.00582039,\n",
        "         0.00266319,  0.0032112 ]]),\n",
        "       array([[ 0.00042058,  0.00056307,  0.00104613, ...,  0.0142275 ,\n",
        "         0.00486898,  0.00119026],\n",
        "       [ 0.00027916,  0.00042002,  0.00107903, ...,  0.01444764,\n",
        "         0.00498405,  0.00117625],\n",
        "       [ 0.00024155,  0.00040679,  0.00114651, ...,  0.01431614,\n",
        "         0.00498954,  0.00114824],\n",
        "       ..., \n",
        "       [ 0.00362726,  0.00369131,  0.00260039, ...,  0.00958284,\n",
        "         0.00898376,  0.00399139],\n",
        "       [ 0.00272131,  0.00258316,  0.00216018, ...,  0.00932502,\n",
        "         0.00904302,  0.00398458],\n",
        "       [ 0.00187808,  0.00180296,  0.0019365 , ...,  0.00889412,\n",
        "         0.00887986,  0.00389478]]),\n",
        "       array([[ 0.00300856,  0.00377936,  0.00214186, ...,  0.00719721,\n",
        "         0.00302935,  0.00159459],\n",
        "       [ 0.00233452,  0.00280414,  0.00171663, ...,  0.00806765,\n",
        "         0.00327658,  0.00154947],\n",
        "       [ 0.00204717,  0.00218084,  0.0013272 , ...,  0.00884878,\n",
        "         0.0034906 ,  0.00147794],\n",
        "       ..., \n",
        "       [ 0.00167375,  0.00253767,  0.00198464, ...,  0.00660039,\n",
        "         0.00555637,  0.00284106],\n",
        "       [ 0.00173652,  0.00290221,  0.00220764, ...,  0.00623454,\n",
        "         0.00551672,  0.00288417],\n",
        "       [ 0.00183749,  0.00305308,  0.00234646, ...,  0.00588531,\n",
        "         0.00544409,  0.00290327]]),\n",
        "       array([[ 0.00043407,  0.00098969,  0.00363824, ...,  0.00512585,\n",
        "         0.00235494,  0.000934  ],\n",
        "       [ 0.00052425,  0.00089163,  0.00326095, ...,  0.00506328,\n",
        "         0.0024554 ,  0.00095519],\n",
        "       [ 0.00056056,  0.00082514,  0.00301207, ...,  0.00497086,\n",
        "         0.00254036,  0.00097998],\n",
        "       ..., \n",
        "       [ 0.02237275,  0.02439795,  0.00727327, ...,  0.00063071,\n",
        "         0.00104937,  0.00422447],\n",
        "       [ 0.02501345,  0.02860238,  0.00894154, ...,  0.00067801,\n",
        "         0.00105048,  0.00396354],\n",
        "       [ 0.02391888,  0.02987053,  0.01041253, ...,  0.00073768,\n",
        "         0.00107056,  0.00377934]]),\n",
        "       array([[ 0.00167249,  0.00307916,  0.00551598, ...,  0.00911539,\n",
        "         0.00806848,  0.00382868],\n",
        "       [ 0.00151042,  0.0025558 ,  0.00478869, ...,  0.00924742,\n",
        "         0.0084149 ,  0.00404013],\n",
        "       [ 0.00125595,  0.00223133,  0.00464994, ...,  0.00938999,\n",
        "         0.00880274,  0.00430992],\n",
        "       ..., \n",
        "       [ 0.00737841,  0.01768389,  0.01478492, ...,  0.0044946 ,\n",
        "         0.00328209,  0.00201857],\n",
        "       [ 0.00593761,  0.01411945,  0.01390056, ...,  0.00434045,\n",
        "         0.00335981,  0.0021222 ],\n",
        "       [ 0.00475652,  0.01122759,  0.01297671, ...,  0.00420941,\n",
        "         0.00344186,  0.00222694]]),\n",
        "       array([[ 0.00489189,  0.01309212,  0.01149491, ...,  0.00380738,\n",
        "         0.00151132,  0.00123711],\n",
        "       [ 0.00416698,  0.01124383,  0.01067793, ...,  0.00434037,\n",
        "         0.00165416,  0.00117124],\n",
        "       [ 0.00321519,  0.00841852,  0.00894639, ...,  0.00488365,\n",
        "         0.00180073,  0.0011166 ],\n",
        "       ..., \n",
        "       [ 0.00117078,  0.00146322,  0.00169225, ...,  0.0091521 ,\n",
        "         0.0033168 ,  0.00099366],\n",
        "       [ 0.00063018,  0.00075358,  0.00139275, ...,  0.00965299,\n",
        "         0.00358901,  0.00098787],\n",
        "       [ 0.00031523,  0.0004216 ,  0.0014749 , ...,  0.01003471,\n",
        "         0.00382506,  0.00100152]]),\n",
        "       array([[ 0.00034217,  0.00065118,  0.00295032, ...,  0.00560043,\n",
        "         0.00397676,  0.00287768],\n",
        "       [ 0.00058952,  0.00091804,  0.00263798, ...,  0.00611403,\n",
        "         0.00440536,  0.00298425],\n",
        "       [ 0.00104628,  0.00142713,  0.00243916, ...,  0.00664946,\n",
        "         0.00482375,  0.00304941],\n",
        "       ..., \n",
        "       [ 0.00997455,  0.00366868,  0.00174447, ...,  0.00148262,\n",
        "         0.00174277,  0.00335775],\n",
        "       [ 0.01639574,  0.00565007,  0.00166922, ...,  0.0013186 ,\n",
        "         0.00159877,  0.0028715 ],\n",
        "       [ 0.02213616,  0.00736443,  0.00155138, ...,  0.00122414,\n",
        "         0.00151718,  0.00252062]]),\n",
        "       array([[ 0.00358738,  0.00608889,  0.00514944, ...,  0.00543589,\n",
        "         0.00326771,  0.00189109],\n",
        "       [ 0.00418698,  0.00745521,  0.00594736, ...,  0.00496313,\n",
        "         0.00298937,  0.00170364],\n",
        "       [ 0.00607379,  0.01073928,  0.00748207, ...,  0.00451025,\n",
        "         0.00271483,  0.00153222],\n",
        "       ..., \n",
        "       [ 0.00276621,  0.00365626,  0.00310428, ...,  0.002121  ,\n",
        "         0.00071233,  0.00066938],\n",
        "       [ 0.00306641,  0.0038298 ,  0.00332903, ...,  0.00180849,\n",
        "         0.00062728,  0.00061148],\n",
        "       [ 0.00287604,  0.003512  ,  0.00317475, ...,  0.00153889,\n",
        "         0.00055607,  0.00056415]]),\n",
        "       array([[ 0.00047989,  0.00078154,  0.00340224, ...,  0.00437564,\n",
        "         0.00321273,  0.00176122],\n",
        "       [ 0.00093478,  0.00085782,  0.00243074, ...,  0.00488406,\n",
        "         0.00359229,  0.00188704],\n",
        "       [ 0.00205674,  0.00124938,  0.00156362, ...,  0.00551846,\n",
        "         0.00403778,  0.00203809],\n",
        "       ..., \n",
        "       [ 0.00114431,  0.00217735,  0.00238987, ...,  0.00140544,\n",
        "         0.00104386,  0.0013458 ],\n",
        "       [ 0.00110539,  0.00221694,  0.00243418, ...,  0.00152125,\n",
        "         0.00114921,  0.00147578],\n",
        "       [ 0.00107445,  0.00224996,  0.00254587, ...,  0.0016535 ,\n",
        "         0.00127462,  0.00163836]]),\n",
        "       array([[ 0.00037624,  0.00084982,  0.00260257, ...,  0.00741572,\n",
        "         0.00297072,  0.00084958],\n",
        "       [ 0.00026712,  0.00056305,  0.00190371, ...,  0.00719199,\n",
        "         0.00293598,  0.00084237],\n",
        "       [ 0.00017572,  0.00034595,  0.00142549, ...,  0.00697427,\n",
        "         0.00293447,  0.00086253],\n",
        "       ..., \n",
        "       [ 0.00702615,  0.01115272,  0.00552288, ...,  0.0207262 ,\n",
        "         0.00717182,  0.0036056 ],\n",
        "       [ 0.00616392,  0.00989536,  0.0055603 , ...,  0.02089608,\n",
        "         0.00730517,  0.00339176],\n",
        "       [ 0.00539385,  0.00833602,  0.00535719, ...,  0.02035822,\n",
        "         0.00718915,  0.00313143]]),\n",
        "       array([[ 0.00306165,  0.0042431 ,  0.00562788, ...,  0.00849199,\n",
        "         0.00357498,  0.00197823],\n",
        "       [ 0.00260511,  0.00381289,  0.00532682, ...,  0.00888133,\n",
        "         0.00363061,  0.0018132 ],\n",
        "       [ 0.00223303,  0.00349531,  0.00479241, ...,  0.00914975,\n",
        "         0.00363002,  0.00163639],\n",
        "       ..., \n",
        "       [ 0.00375904,  0.00515404,  0.00319698, ...,  0.00669756,\n",
        "         0.00242227,  0.00159819],\n",
        "       [ 0.0027544 ,  0.00341513,  0.00249974, ...,  0.00616753,\n",
        "         0.00225371,  0.00147024],\n",
        "       [ 0.00231835,  0.0026711 ,  0.0022963 , ...,  0.0057075 ,\n",
        "         0.0021218 ,  0.00137511]]),\n",
        "       array([[ 0.00120893,  0.00222647,  0.00384368, ...,  0.00680731,\n",
        "         0.00543607,  0.00466011],\n",
        "       [ 0.00197682,  0.00389683,  0.00483693, ...,  0.00673232,\n",
        "         0.00517109,  0.00421296],\n",
        "       [ 0.00358832,  0.0066233 ,  0.00599952, ...,  0.00669146,\n",
        "         0.0049584 ,  0.00381493],\n",
        "       ..., \n",
        "       [ 0.00561906,  0.0063325 ,  0.00475663, ...,  0.00606685,\n",
        "         0.00696038,  0.00496688],\n",
        "       [ 0.0051649 ,  0.00574655,  0.00459717, ...,  0.00599325,\n",
        "         0.007098  ,  0.00505869],\n",
        "       [ 0.00471301,  0.00554919,  0.00479885, ...,  0.00594328,\n",
        "         0.00723438,  0.00515071]]),\n",
        "       array([[ 0.00291163,  0.00731849,  0.00705856, ...,  0.0145229 ,\n",
        "         0.00396352,  0.00075554],\n",
        "       [ 0.00323749,  0.00782551,  0.00690384, ...,  0.01564499,\n",
        "         0.00432525,  0.0007729 ],\n",
        "       [ 0.00269272,  0.00648992,  0.00605118, ...,  0.01634812,\n",
        "         0.00460457,  0.00078888],\n",
        "       ..., \n",
        "       [ 0.01710892,  0.01869342,  0.00670258, ...,  0.00271517,\n",
        "         0.0015057 ,  0.00229511],\n",
        "       [ 0.01829094,  0.01800015,  0.00544036, ...,  0.0028083 ,\n",
        "         0.00135957,  0.00194939],\n",
        "       [ 0.01706028,  0.01558259,  0.00432109, ...,  0.00296153,\n",
        "         0.00125557,  0.0016495 ]]),\n",
        "       array([[ 0.00015193,  0.00019622,  0.00096204, ...,  0.01251308,\n",
        "         0.00301371,  0.00077468],\n",
        "       [ 0.00015123,  0.000221  ,  0.00114999, ...,  0.01105128,\n",
        "         0.00267209,  0.00077768],\n",
        "       [ 0.00015786,  0.00025428,  0.00138154, ...,  0.0096207 ,\n",
        "         0.00233937,  0.00077901],\n",
        "       ..., \n",
        "       [ 0.00488606,  0.00743291,  0.00634057, ...,  0.00119452,\n",
        "         0.00249331,  0.00519205],\n",
        "       [ 0.00676733,  0.00789367,  0.0057963 , ...,  0.0011711 ,\n",
        "         0.00237533,  0.00494793],\n",
        "       [ 0.01024702,  0.00870515,  0.00471379, ...,  0.00116313,\n",
        "         0.00224749,  0.00466711]]),\n",
        "       array([[ 0.00335173,  0.00147553,  0.00032126, ...,  0.01707294,\n",
        "         0.00813843,  0.00727667],\n",
        "       [ 0.00391719,  0.00169868,  0.00043916, ...,  0.01715395,\n",
        "         0.00810227,  0.00675284],\n",
        "       [ 0.00456084,  0.00194337,  0.00062718, ...,  0.01722353,\n",
        "         0.00809946,  0.00629691],\n",
        "       ..., \n",
        "       [ 0.00705865,  0.00861951,  0.0046521 , ...,  0.003127  ,\n",
        "         0.0025907 ,  0.00355436],\n",
        "       [ 0.00915514,  0.01155534,  0.00557938, ...,  0.00327136,\n",
        "         0.00265751,  0.00345547],\n",
        "       [ 0.01119216,  0.01444629,  0.00632462, ...,  0.0033602 ,\n",
        "         0.00267431,  0.00330402]]),\n",
        "       array([[ 0.0043693 ,  0.0037435 ,  0.00269166, ...,  0.00484823,\n",
        "         0.00131817,  0.00259591],\n",
        "       [ 0.00608251,  0.00516102,  0.00275385, ...,  0.00459449,\n",
        "         0.00130554,  0.00266972],\n",
        "       [ 0.00627207,  0.00547873,  0.003022  , ...,  0.0043006 ,\n",
        "         0.00127712,  0.00268608],\n",
        "       ..., \n",
        "       [ 0.00811572,  0.00955778,  0.00361375, ...,  0.0021703 ,\n",
        "         0.00317441,  0.00636127],\n",
        "       [ 0.00659659,  0.00741133,  0.0029911 , ...,  0.0017086 ,\n",
        "         0.00278762,  0.0062461 ],\n",
        "       [ 0.00631333,  0.00588327,  0.00226141, ...,  0.00135075,\n",
        "         0.0024604 ,  0.0060995 ]])], dtype=object)"
       ]
      }
     ],
     "prompt_number": 129
    },
    {
     "cell_type": "code",
     "collapsed": false,
     "input": [
      "test_img= open('/run/user/1000/x.jpg','w')\n",
      "img_n='/run/user/1000/x.jpg'\n",
      "test_img.write(data[100][0])\n",
      "test_img.close()\n"
     ],
     "language": "python",
     "metadata": {},
     "outputs": [],
     "prompt_number": 59
    },
    {
     "cell_type": "code",
     "collapsed": false,
     "input": [
      "\n",
      "img.shape\n"
     ],
     "language": "python",
     "metadata": {},
     "outputs": [
      {
       "metadata": {},
       "output_type": "pyout",
       "prompt_number": 122,
       "text": [
        "(250, 250, 3)"
       ]
      }
     ],
     "prompt_number": 122
    },
    {
     "cell_type": "code",
     "collapsed": false,
     "input": [
      "len(dets)"
     ],
     "language": "python",
     "metadata": {},
     "outputs": [
      {
       "metadata": {},
       "output_type": "pyout",
       "prompt_number": 120,
       "text": [
        "0"
       ]
      }
     ],
     "prompt_number": 120
    },
    {
     "cell_type": "code",
     "collapsed": false,
     "input": [
      "img=plt.imread(img_n)"
     ],
     "language": "python",
     "metadata": {},
     "outputs": [],
     "prompt_number": 62
    },
    {
     "cell_type": "code",
     "collapsed": false,
     "input": [
      "plt.imshow(det_face)"
     ],
     "language": "python",
     "metadata": {},
     "outputs": [
      {
       "metadata": {},
       "output_type": "pyout",
       "prompt_number": 124,
       "text": [
        "<matplotlib.image.AxesImage at 0x7f305812afd0>"
       ]
      },
      {
       "metadata": {},
       "output_type": "display_data",
       "png": "[encoded data removed]",
       "text": [
        "<matplotlib.figure.Figure at 0x7f30581c8390>"
       ]
      }
     ],
     "prompt_number": 124
    },
    {
     "cell_type": "code",
     "collapsed": false,
     "input": [
      "blob"
     ],
     "language": "python",
     "metadata": {},
     "outputs": [
      {
       "metadata": {},
       "output_type": "pyout",
       "prompt_number": 99,
       "text": [
        "<read-write buffer ptr 0x7023aa0, size 288996 at 0x7023a60>"
       ]
      }
     ],
     "prompt_number": 99
    },
    {
     "cell_type": "code",
     "collapsed": false,
     "input": [
      "count=0\n",
      "for d in data:\n",
      "    name[d]=count\n",
      "    count+=1"
     ],
     "language": "python",
     "metadata": {},
     "outputs": [],
     "prompt_number": 83
    },
    {
     "cell_type": "code",
     "collapsed": false,
     "input": [],
     "language": "python",
     "metadata": {},
     "outputs": [
      {
       "metadata": {},
       "output_type": "pyout",
       "prompt_number": 84,
       "text": [
        "{(u'Abdoulaye_Wade\\x00',): 0,\n",
        " (u'Abdulaziz_Kamilov\\x00',): 1,\n",
        " (u'Abdullah_Gul\\x00',): 2,\n",
        " (u'Adelina_Avila\\x00',): 3,\n",
        " (u'Adolfo_Rodriguez_Saa\\x00',): 4,\n",
        " (u'Adrian_Fernandez\\x00',): 5,\n",
        " (u'Ahmad_Jbarah\\x00',): 6,\n",
        " (u'Ahmad_Masood\\x00',): 7,\n",
        " (u'Ahmed_Chalabi\\x00',): 8,\n",
        " (u'Aicha_El_Ouafi\\x00',): 9,\n",
        " (u'Aishwarya_Rai\\x00',): 10,\n",
        " (u'Al_Gore\\x00',): 11,\n",
        " (u'Al_Pacino\\x00',): 12,\n",
        " (u'Alanis_Morissette\\x00',): 13,\n",
        " (u'Alanna_Ubach\\x00',): 14,\n",
        " (u'Alberto_Sordi\\x00',): 15,\n",
        " (u'Alejandro_Atchugarry\\x00',): 16,\n",
        " (u'Alex_Barros\\x00',): 17,\n",
        " (u'Alex_Cabrera\\x00',): 18,\n",
        " (u'Alex_Gonzalez\\x00',): 19,\n",
        " (u'Alex_Sink\\x00',): 20,\n",
        " (u'Alexa_Vega\\x00',): 21,\n",
        " (u'Alexander_Losyukov\\x00',): 22,\n",
        " (u'Alexandra_Rozovskaya\\x00',): 23,\n",
        " (u'Aline_Chretien\\x00',): 24,\n",
        " (u'Alison_Lohman\\x00',): 25,\n",
        " (u'Alistair_MacDonald\\x00',): 26,\n",
        " (u'Allan_Houston\\x00',): 27,\n",
        " (u'Allyson_Felix\\x00',): 28,\n",
        " (u'Amanda_Coetzer\\x00',): 29,\n",
        " (u'Ambrose_Lee\\x00',): 30,\n",
        " (u'Amram_Mitzna\\x00',): 31,\n",
        " (u'Amy_Redford\\x00',): 32,\n",
        " (u'Amy_Yasbeck\\x00',): 33,\n",
        " (u'Ana_Guevara\\x00',): 34,\n",
        " (u'Anders_Fogh_Rasmussen\\x00',): 35,\n",
        " (u'Andre_Bucher\\x00',): 36,\n",
        " (u'Andrea_Yates\\x00',): 37,\n",
        " (u'Andreas_Vinciguerra\\x00',): 38,\n",
        " (u'Andres_Pastrana\\x00',): 39,\n",
        " (u'Andrew_Luster\\x00',): 40,\n",
        " (u'Andrew_Weissmann\\x00',): 41,\n",
        " (u'Andy_Madikians\\x00',): 42,\n",
        " (u'Andy_Roddick\\x00',): 43,\n",
        " (u'Andy_Rooney\\x00',): 44,\n",
        " (u'Andy_Warhol\\x00',): 45,\n",
        " (u'Anette_Hosoi\\x00',): 46,\n",
        " (u'Angela_Merkel\\x00',): 47,\n",
        " (u'Anibal_Ibarra\\x00',): 48,\n",
        " (u'Ann_Morgan\\x00',): 49,\n",
        " (u'Anna_Chicherova\\x00',): 50,\n",
        " (u'Anna_Nicole_Smith\\x00',): 51,\n",
        " (u'Anthony_Lee_Johnson\\x00',): 52,\n",
        " (u'Antonio_Palocci\\x00',): 53,\n",
        " (u'Aretha_Franklin\\x00',): 54,\n",
        " (u'Ariel_Sharon\\x00',): 55,\n",
        " (u'Armand_Sargen\\x00',): 56,\n",
        " (u'Art_Cooper\\x00',): 57,\n",
        " (u'Assad_Ahmadi\\x00',): 58,\n",
        " (u'Astou_Ndiaye-Diatta\\x00',): 59,\n",
        " (u'Audrey_Sauret\\x00',): 60,\n",
        " (u'Azra_Akin\\x00',): 61,\n",
        " (u'BB_King\\x00',): 62,\n",
        " (u'BJ_Habibie\\x00',): 63,\n",
        " (u'Barbara_Bodine\\x00',): 64,\n",
        " (u'Barbora_Strycova\\x00',): 65,\n",
        " (u'Barrett_Jackman\\x00',): 66,\n",
        " (u'Barry_Alvarez\\x00',): 67,\n",
        " (u'Ben_Cahoon\\x00',): 68,\n",
        " (u'Ben_Kingsley\\x00',): 69,\n",
        " (u'Benjamin_McKenzie\\x00',): 70,\n",
        " (u'Bernadette_Peters\\x00',): 71,\n",
        " (u'Bernard_Landry\\x00',): 72,\n",
        " (u'Bernard_Lord\\x00',): 73,\n",
        " (u'Bernard_Siegel\\x00',): 74,\n",
        " (u'Bertrand_Bonello\\x00',): 75,\n",
        " (u'Beth_Blough\\x00',): 76,\n",
        " (u'Bettina_Rheims\\x00',): 77,\n",
        " (u'Biljana_Plavsic\\x00',): 78,\n",
        " (u'Bill_Bradley\\x00',): 79,\n",
        " (u'Bill_Byrne\\x00',): 80,\n",
        " (u'Bill_Herrion\\x00',): 81,\n",
        " (u'Bill_King\\x00',): 82,\n",
        " (u'Bill_Sizemore\\x00',): 83,\n",
        " (u'Billy_Bob_Thornton\\x00',): 84,\n",
        " (u'Billy_Tibbets\\x00',): 85,\n",
        " (u'Blythe_Hartley\\x00',): 86,\n",
        " (u'Bob_Cantrell\\x00',): 87,\n",
        " (u'Bob_Krueger\\x00',): 88,\n",
        " (u'Brajesh_Mishra\\x00',): 89,\n",
        " (u'Brandon_Boyd\\x00',): 90,\n",
        " (u'Brandon_Fails\\x00',): 91,\n",
        " (u'Brandon_Inge\\x00',): 92,\n",
        " (u'Brandon_Jones\\x00',): 93,\n",
        " (u'Brandon_Lloyd\\x00',): 94,\n",
        " (u'Branko_Crvenkovski\\x00',): 95,\n",
        " (u'Brendan_Stai\\x00',): 96,\n",
        " (u'Brian_Gregory\\x00',): 97,\n",
        " (u'Brian_Meadors\\x00',): 98,\n",
        " (u'Brian_Scalabrine\\x00',): 99,\n",
        " (u'Britney_Spears\\x00',): 100,\n",
        " (u'Brooke_Gordon\\x00',): 101,\n",
        " (u'Brooke_Shields\\x00',): 102,\n",
        " (u'Bruce_Paltrow\\x00',): 103,\n",
        " (u'Bryan_Adams\\x00',): 104,\n",
        " (u'Bryan_Murray\\x00',): 105,\n",
        " (u'Bryan_Thomas\\x00',): 106,\n",
        " (u'Calvin_Joseph_Coleman\\x00',): 107,\n",
        " (u'Carin_Koch\\x00',): 108,\n",
        " (u'Carl_Levin\\x00',): 109,\n",
        " (u'Carlos_Ruiz\\x00',): 110,\n",
        " (u'Caroline_Kennedy\\x00',): 111,\n",
        " (u'Casey_Crowder\\x00',): 112,\n",
        " (u'Cate_Blanchett\\x00',): 113,\n",
        " (u'Catherine_Woodard\\x00',): 114,\n",
        " (u'Catherine_Zeta-Jones\\x00',): 115,\n",
        " (u'Cecilia_Cheung\\x00',): 116,\n",
        " (u'Celso_Lafer\\x00',): 117,\n",
        " (u'Chang_Dae-whan\\x00',): 118,\n",
        " (u'Chante_Jawan_Mallard\\x00',): 119,\n",
        " (u'Charles_Bronson\\x00',): 120,\n",
        " (u'Charlie_Deane\\x00',): 121,\n",
        " (u'Charlie_Sheen\\x00',): 122,\n",
        " (u'Charlotte_Casiraghi\\x00',): 123,\n",
        " (u'Chen_Kaige\\x00',): 124,\n",
        " (u'Chin-Feng_Chen\\x00',): 125,\n",
        " (u'Chip_Burrus\\x00',): 126,\n",
        " (u'Chistian_Stahl\\x00',): 127,\n",
        " (u'Choi_Sung-hong\\x00',): 128,\n",
        " (u'Chok_Tong_Goh\\x00',): 129,\n",
        " (u'Chris_Andrews\\x00',): 130,\n",
        " (u'Chris_Forsyth\\x00',): 131,\n",
        " (u'Chris_Gratton\\x00',): 132,\n",
        " (u'Chris_Hernandez\\x00',): 133,\n",
        " (u'Chris_Tucker\\x00',): 134,\n",
        " (u'Christian_Gimenez\\x00',): 135,\n",
        " (u'Christian_Von_Wernich\\x00',): 136,\n",
        " (u'Christine_Gregoire\\x00',): 137,\n",
        " (u'Christine_Todd_Whitman\\x00',): 138,\n",
        " (u'Christopher_Patten\\x00',): 139,\n",
        " (u'Christopher_Russell\\x00',): 140,\n",
        " (u'Chyung_Dai-chul\\x00',): 141,\n",
        " (u'Cindy_Crawford\\x00',): 142,\n",
        " (u'Cindy_Taylor\\x00',): 143,\n",
        " (u'Claire_Leger\\x00',): 144,\n",
        " (u'Claudette_Robinson\\x00',): 145,\n",
        " (u'Claudio_Abbado\\x00',): 146,\n",
        " (u'Clifford_Etienne\\x00',): 147,\n",
        " (u'Colin_Campbell\\x00',): 148,\n",
        " (u'Compay_Segundo\\x00',): 149,\n",
        " (u'Condoleezza_Rice\\x00',): 150,\n",
        " (u'Corey_Maggette\\x00',): 151,\n",
        " (u'Craig_David\\x00',): 152,\n",
        " (u'Craig_Fitzgibbon\\x00',): 153,\n",
        " (u'Cristina_Fernandez\\x00',): 154,\n",
        " (u'Daisy_Fuentes\\x00',): 155,\n",
        " (u'Dale_Earnhardt_Jr\\x00',): 156,\n",
        " (u'Dana_Vollmer\\x00',): 157,\n",
        " (u'Daniel_Osorno\\x00',): 158,\n",
        " (u'Daniel_Pearl\\x00',): 159,\n",
        " (u'Daniele_Bergamin\\x00',): 160,\n",
        " (u'Danis_Tanovic\\x00',): 161,\n",
        " (u'Darcy_Regier\\x00',): 162,\n",
        " (u'Darrell_Dickey\\x00',): 163,\n",
        " (u'Darryl_McDaniels\\x00',): 164,\n",
        " (u'Dave_Matthews\\x00',): 165,\n",
        " (u'Dave_Ragone\\x00',): 166,\n",
        " (u'David_Canary\\x00',): 167,\n",
        " (u'David_Dewhurst\\x00',): 168,\n",
        " (u'David_Dodge\\x00',): 169,\n",
        " (u'David_Hasselhoff\\x00',): 170,\n",
        " (u'David_Ho\\x00',): 171,\n",
        " (u'David_Myers\\x00',): 172,\n",
        " (u'David_Provost\\x00',): 173,\n",
        " (u'David_Sibleyk\\x00',): 174,\n",
        " (u'David_Zeplowitz\\x00',): 175,\n",
        " (u'Dean_Jacek\\x00',): 176,\n",
        " (u'Dean_Sheremet\\x00',): 177,\n",
        " (u'Deniz_Baykal\\x00',): 178,\n",
        " (u'Denzel_Washington\\x00',): 179,\n",
        " (u'Desiree_Lemosi\\x00',): 180,\n",
        " (u'Diane_Green\\x00',): 181,\n",
        " (u'Diane_Ladd\\x00',): 182,\n",
        " (u'Dianne_Reeves\\x00',): 183,\n",
        " (u'Dick_Bennett\\x00',): 184,\n",
        " (u'Dick_Posthumus\\x00',): 185,\n",
        " (u'Dieter_Zetsche\\x00',): 186,\n",
        " (u'Dinah_Turner\\x00',): 187,\n",
        " (u'Dolma_Tsering\\x00',): 188,\n",
        " (u'Dominique_Perben\\x00',): 189,\n",
        " (u'Don_Henley\\x00',): 190,\n",
        " (u'Donald_Evans\\x00',): 191,\n",
        " (u'Donald_Keck\\x00',): 192,\n",
        " (u'Donald_Keyser\\x00',): 193,\n",
        " (u'Donna_Brazile\\x00',): 194,\n",
        " (u'Donna_Ralston\\x00',): 195,\n",
        " (u'Donnie_Brennan\\x00',): 196,\n",
        " (u'Doris_Schroeder\\x00',): 197,\n",
        " (u'Doug_Duncan\\x00',): 198,\n",
        " (u'Doug_Moe\\x00',): 199,\n",
        " (u'Douglas_Paal\\x00',): 200,\n",
        " (u'Dragan_Covic\\x00',): 201,\n",
        " (u'Duncan_Fletcher\\x00',): 202,\n",
        " (u'Earl_Campbell\\x00',): 203,\n",
        " (u'Edie_Falco\\x00',): 204,\n",
        " (u'Edmund_Stoiber\\x00',): 205,\n",
        " (u'Efrain_Rios_Montt\\x00',): 206,\n",
        " (u'Einars_Repse\\x00',): 207,\n",
        " (u'Elena_Tihomirova\\x00',): 208,\n",
        " (u'Eliza_Dushku\\x00',): 209,\n",
        " (u'Eliza_Manningham-Buller\\x00',): 210,\n",
        " (u'Elizabeth_Regan\\x00',): 211,\n",
        " (u'Ellen_Pompeo\\x00',): 212,\n",
        " (u'Elvis_Presley\\x00',): 213,\n",
        " (u'Emily_Robison\\x00',): 214,\n",
        " (u'Emma_Nicholson\\x00',): 215,\n",
        " (u'Emma_Watson\\x00',): 216,\n",
        " (u'Emmanuel_Filiberto\\x00',): 217,\n",
        " (u'Enrique_Haroldo_Gorriaran_Merlo\\x00',): 218,\n",
        " (u'Eric_Christian_Olsen\\x00',): 219,\n",
        " (u'Eric_Hinske\\x00',): 220,\n",
        " (u'Eric_Shinseki\\x00',): 221,\n",
        " (u'Erick_Barkley\\x00',): 222,\n",
        " (u'Erin_Hershey_Presley\\x00',): 223,\n",
        " (u'Ernest_Hollings\\x00',): 224,\n",
        " (u'Erskine_Bowles\\x00',): 225,\n",
        " (u'Erwin_Abdullah\\x00',): 226,\n",
        " (u'Evander_Holyfield\\x00',): 227,\n",
        " (u'Fabian_Vargas\\x00',): 228,\n",
        " (u'Fabricio_Oberto\\x00',): 229,\n",
        " (u'Fayssal_Mekdad\\x00',): 230,\n",
        " (u'Federico_Trillo\\x00',): 231,\n",
        " (u'Ferenc_Madl\\x00',): 232,\n",
        " (u'Flor_Montulo\\x00',): 233,\n",
        " (u'Francisco_Garcia\\x00',): 234,\n",
        " (u'Frank_Beamer\\x00',): 235,\n",
        " (u'Frank_Zappa\\x00',): 236,\n",
        " (u'Franklin_Damann\\x00',): 237,\n",
        " (u'Franz_Muentefering\\x00',): 238,\n",
        " (u'Gabriel_Farhi\\x00',): 239,\n",
        " (u'Gael_Garcia_Bermal\\x00',): 240,\n",
        " (u'Gala_Leon_Garcia\\x00',): 241,\n",
        " (u'Gao_Qiang\\x00',): 242,\n",
        " (u'Garry_Alejano\\x00',): 243,\n",
        " (u'Gary_Bergeron\\x00',): 244,\n",
        " (u'Gary_Coleman\\x00',): 245,\n",
        " (u'Gary_Gitnick\\x00',): 246,\n",
        " (u'Gary_Williams\\x00',): 247,\n",
        " (u'Gavyn_Arthur\\x00',): 248,\n",
        " (u'George_Lucas\\x00',): 249,\n",
        " (u'George_Maxwell_Richards\\x00',): 250,\n",
        " (u'Georgi_Parvanov\\x00',): 251,\n",
        " (u'Gerald_Fitch\\x00',): 252,\n",
        " (u'Gerard_Tronche\\x00',): 253,\n",
        " (u'Gerardo_Gambala\\x00',): 254,\n",
        " (u'Gerhard_Schroeder\\x00',): 255,\n",
        " (u'German_Khan\\x00',): 256,\n",
        " (u'Gholamreza_Aghazadeh\\x00',): 257,\n",
        " (u'Giancarlo_Fisichella\\x00',): 258,\n",
        " (u'Gilberto_Simoni\\x00',): 259,\n",
        " (u'Gilles_Panizzi\\x00',): 260,\n",
        " (u'Gina_Torres\\x00',): 261,\n",
        " (u'Gisele_Bundchen\\x00',): 262,\n",
        " (u'Giselle_Estefania_Tavarelli\\x00',): 263,\n",
        " (u'Gong_Ruina\\x00',): 264,\n",
        " (u'Goran_Zivkovic\\x00',): 265,\n",
        " (u'Grace_Kelly\\x00',): 266,\n",
        " (u'Gracia_Burnham\\x00',): 267,\n",
        " (u'Grady_Irvin_Jr\\x00',): 268,\n",
        " (u'Graham_Bentley\\x00',): 269,\n",
        " (u'Gregg_Popovich\\x00',): 270,\n",
        " (u'Guido_Westerwelle\\x00',): 271,\n",
        " (u'Gustavo_Cisneros\\x00',): 272,\n",
        " (u'Gwendal_Peizerat\\x00',): 273,\n",
        " (u'Hal_McCoy\\x00',): 274,\n",
        " (u'Hama_Arba_Diallo\\x00',): 275,\n",
        " (u'Hamad_Bin_Jassim\\x00',): 276,\n",
        " (u'Hamid_Karzai\\x00',): 277,\n",
        " (u'Hank_Aaron\\x00',): 278,\n",
        " (u'Hank_McKinnell\\x00',): 279,\n",
        " (u'Hans_Eichel\\x00',): 280,\n",
        " (u'Harbhajan_Singh\\x00',): 281,\n",
        " (u'Harold_Scott\\x00',): 282,\n",
        " (u'Harry_Belafonte\\x00',): 283,\n",
        " (u'Harry_Schmidt\\x00',): 284,\n",
        " (u'Hartmut_Mehdorn\\x00',): 285,\n",
        " (u'Hashan_Tillakaratne\\x00',): 286,\n",
        " (u'Hassanal_Bolkiah\\x00',): 287,\n",
        " (u'Haydar_Aliyev\\x00',): 288,\n",
        " (u'Heather_Whitestone_McCallum\\x00',): 289,\n",
        " (u'Hedayat_Amin_Arsala\\x00',): 290,\n",
        " (u'Heidi_Klum\\x00',): 291,\n",
        " (u'Helen_Darling\\x00',): 292,\n",
        " (u'Henk_Bekedam\\x00',): 293,\n",
        " (u'Henry_Castellanos\\x00',): 294,\n",
        " (u'Hernan_Crespo\\x00',): 295,\n",
        " (u'Hideki_Matsui\\x00',): 296,\n",
        " (u'Hideki_Sato\\x00',): 297,\n",
        " (u'Hisao_Oguchi\\x00',): 298,\n",
        " (u'Hitomi_Soga\\x00',): 299,\n",
        " (u'Hrithik_Roshan\\x00',): 300,\n",
        " (u'Hugo_Colace\\x00',): 301,\n",
        " (u'Hunter_Bates\\x00',): 302,\n",
        " (u'Iban_Mayo\\x00',): 303,\n",
        " (u'Ilie_Nastase\\x00',): 304,\n",
        " (u'Imelda_Marcos\\x00',): 305,\n",
        " (u'Inocencio_Arias\\x00',): 306,\n",
        " (u'Intisar_Ajouri\\x00',): 307,\n",
        " (u'Ion_Tiriac\\x00',): 308,\n",
        " (u'Irene_Kahn\\x00',): 309,\n",
        " (u'Irina_Framtsova\\x00',): 310,\n",
        " (u'Isaiah_Washington\\x00',): 311,\n",
        " (u'Iva_Majoli\\x00',): 312,\n",
        " (u'Iveta_Benesova\\x00',): 313,\n",
        " (u'Jacqueline_Marris\\x00',): 314,\n",
        " (u'James_Becker\\x00',): 315,\n",
        " (u'James_Cameron\\x00',): 316,\n",
        " (u'James_Coburn\\x00',): 317,\n",
        " (u'James_Coviello\\x00',): 318,\n",
        " (u'James_Hughes\\x00',): 319,\n",
        " (u'James_Kelly\\x00',): 320,\n",
        " (u'James_McPherson\\x00',): 321,\n",
        " (u'James_Morris\\x00',): 322,\n",
        " (u'James_Murdoch\\x00',): 323,\n",
        " (u'James_Robertson_Jr\\x00',): 324,\n",
        " (u'James_Williams\\x00',): 325,\n",
        " (u'Jamling_Norgay\\x00',): 326,\n",
        " (u'Janet_Thorpe\\x00',): 327,\n",
        " (u'Janice_Abreu\\x00',): 328,\n",
        " (u'Janice_Goldfinger\\x00',): 329,\n",
        " (u'Janine_Pietsch\\x00',): 330,\n",
        " (u'Jaqueline_Godoy\\x00',): 331,\n",
        " (u'Jason_Biggs\\x00',): 332,\n",
        " (u'Jason_Campbell\\x00',): 333,\n",
        " (u'Jason_Lezak\\x00',): 334,\n",
        " (u'Javier_Camara\\x00',): 335,\n",
        " (u'Jaymon_Crabb\\x00',): 336,\n",
        " (u'Jeanette_Gray\\x00',): 337,\n",
        " (u'Jeff_Bzdelik\\x00',): 338,\n",
        " (u'Jeffery_Hendren\\x00',): 339,\n",
        " (u'Jeffrey_Ashby\\x00',): 340,\n",
        " (u'Jennifer_Furminger\\x00',): 341,\n",
        " (u'Jennifer_Tilly\\x00',): 342,\n",
        " (u'Jerome_Jenkins\\x00',): 343,\n",
        " (u'Jerry_Jones\\x00',): 344,\n",
        " (u'Jerry_Sexton\\x00',): 345,\n",
        " (u'Jesse_Jackson\\x00',): 346,\n",
        " (u'Jia_Qinglin\\x00',): 347,\n",
        " (u'Jim_Bollman\\x00',): 348,\n",
        " (u'Jim_Harrick\\x00',): 349,\n",
        " (u'Jim_Letten\\x00',): 350,\n",
        " (u'Jim_Otto\\x00',): 351,\n",
        " (u'Jim_Ryan\\x00',): 352,\n",
        " (u'Jim_Spinoza\\x00',): 353,\n",
        " (u'Jim_Thome\\x00',): 354,\n",
        " (u'Jim_Wong\\x00',): 355,\n",
        " (u'Jimmy_Iovine\\x00',): 356,\n",
        " (u'Jimmy_Lee\\x00',): 357,\n",
        " (u'Joe_Calzaghe\\x00',): 358,\n",
        " (u'Joe_Finley\\x00',): 359,\n",
        " (u'Joe_Leonard\\x00',): 360,\n",
        " (u'Joe_Mantello\\x00',): 361,\n",
        " (u'Joe_Pantoliano\\x00',): 362,\n",
        " (u'Joel_Todd\\x00',): 363,\n",
        " (u'Joey_Buttafuoco\\x00',): 364,\n",
        " (u'John_Anderson\\x00',): 365,\n",
        " (u'John_Engler\\x00',): 366,\n",
        " (u'John_Gruden\\x00',): 367,\n",
        " (u'John_Herrington\\x00',): 368,\n",
        " (u'John_Manley\\x00',): 369,\n",
        " (u'John_McEnroe\\x00',): 370,\n",
        " (u'John_Moxley\\x00',): 371,\n",
        " (u'John_Perrota\\x00',): 372,\n",
        " (u'John_Rusnak\\x00',): 373,\n",
        " (u'John_Sidgmore\\x00',): 374,\n",
        " (u'Johnny_Carson\\x00',): 375,\n",
        " (u'Jolanta_Kwasniewski\\x00',): 376,\n",
        " (u'Jon_Corzine\\x00',): 377,\n",
        " (u'Jon_Kitna\\x00',): 378,\n",
        " (u'Jonathan_Byrd\\x00',): 379,\n",
        " (u'Jonathan_Horton\\x00',): 380,\n",
        " (u'Jorge_Marquez-Ruarte\\x00',): 381,\n",
        " (u'Joschka_Fischer\\x00',): 382,\n",
        " (u'Jose_Lina\\x00',): 383,\n",
        " (u'Jose_Lopez_Beltran\\x00',): 384,\n",
        " (u'Jose_Woldenberg\\x00',): 385,\n",
        " (u'Josh_Kronfeld\\x00',): 386,\n",
        " (u'Juan_Antonio_Samaranch\\x00',): 387,\n",
        " (u'Juan_Valencia_Osorio\\x00',): 388,\n",
        " (u'Judd_Davies\\x00',): 389,\n",
        " (u'Judy_Locy\\x00',): 390,\n",
        " (u'Juergen_Braehmer\\x00',): 391,\n",
        " (u'Juergen_Schrempp\\x00',): 392,\n",
        " (u'Justin_Gatlin\\x00',): 393,\n",
        " (u'Justin_Wilson\\x00',): 394,\n",
        " (u'Kajsa_Bergqvist\\x00',): 395,\n",
        " (u'Kaoru_Hasuike\\x00',): 396,\n",
        " (u'Kareena_Kapoor\\x00',): 397,\n",
        " (u'Karen_Clarkson\\x00',): 398,\n",
        " (u'Katherine_Harris\\x00',): 399,\n",
        " (u'Kathleen_Glynn\\x00',): 400,\n",
        " (u'Kathryn_Bigelow\\x00',): 401,\n",
        " (u'Kathy_Baker\\x00',): 402,\n",
        " (u'Katie_Wagner\\x00',): 403,\n",
        " (u'Keith_Foulke\\x00',): 404,\n",
        " (u'Keith_Lowen\\x00',): 405,\n",
        " (u'Keith_Urban\\x00',): 406,\n",
        " (u'Keith_Van_Horn\\x00',): 407,\n",
        " (u'Kelly_Osbourne\\x00',): 408,\n",
        " (u'Ken_Dorsey\\x00',): 409,\n",
        " (u'Ken_Kutaragi\\x00',): 410,\n",
        " (u'Kenny_Brack\\x00',): 411,\n",
        " (u'Kevin_Marshall\\x00',): 412,\n",
        " (u'Kevin_Sorbo\\x00',): 413,\n",
        " (u'Khalid_Khannouchi\\x00',): 414,\n",
        " (u'Kim_Clijsters\\x00',): 415,\n",
        " (u'Kim_Dae-jung\\x00',): 416,\n",
        " (u'Kim_Yong-il\\x00',): 417,\n",
        " (u'Kimberly_Stewart\\x00',): 418,\n",
        " (u'Kimi_Raikkonen\\x00',): 419,\n",
        " (u'Kimora_Lee\\x00',): 420,\n",
        " (u'King_Gyanendra\\x00',): 421,\n",
        " (u'Kirsten_Clark\\x00',): 422,\n",
        " (u'Kjell_Magne_Bondevik\\x00',): 423,\n",
        " (u'Kofi_Annan\\x00',): 424,\n",
        " (u'Kristanna_Loken\\x00',): 425,\n",
        " (u'Kurt_Thomas\\x00',): 426,\n",
        " (u'Kurt_Warner\\x00',): 427,\n",
        " (u'Kyra_Sedgwick\\x00',): 428,\n",
        " (u'LK_Advani\\x00',): 429,\n",
        " (u'Lana_Clarkson\\x00',): 430,\n",
        " (u'Lane_Bryant\\x00',): 431,\n",
        " (u'Larry_Beinfest\\x00',): 432,\n",
        " (u'Larry_Flynt\\x00',): 433,\n",
        " (u'Larry_Lindsey\\x00',): 434,\n",
        " (u'Lars_Burgsmuller\\x00',): 435,\n",
        " (u'Laura_Pausini\\x00',): 436,\n",
        " (u'Lawrence_Di_Rita\\x00',): 437,\n",
        " (u'Lee_Ann_Knight\\x00',): 438,\n",
        " (u'Lee_Byung-woong\\x00',): 439,\n",
        " (u'Lee_Hyung-taik\\x00',): 440,\n",
        " (u'Lee_Tae-sik\\x00',): 441,\n",
        " (u'Leland_Chapman\\x00',): 442,\n",
        " (u'Lennart_Johansson\\x00',): 443,\n",
        " (u'Leonard_Schrank\\x00',): 444,\n",
        " (u'Leslie_Wiser_Jr\\x00',): 445,\n",
        " (u'Lili_Marinho\\x00',): 446,\n",
        " (u'Lili_Taylor\\x00',): 447,\n",
        " (u'Lincoln_Chafee\\x00',): 448,\n",
        " (u'Linda_Franklin\\x00',): 449,\n",
        " (u'Linda_Ham\\x00',): 450,\n",
        " (u'Linda_Mason\\x00',): 451,\n",
        " (u'Liu_Ye\\x00',): 452,\n",
        " (u'Lucia_Kenny_Anthony\\x00',): 453,\n",
        " (u'Ludwig_Ovalle\\x00',): 454,\n",
        " (u'Luis_Sanchez\\x00',): 455,\n",
        " (u'Luke_Ridnour\\x00',): 456,\n",
        " (u'Luke_Smith\\x00',): 457,\n",
        " (u'Luke_Walton\\x00',): 458,\n",
        " (u'Lutz_Freitag\\x00',): 459,\n",
        " (u'Lynne_Slepian\\x00',): 460,\n",
        " (u'Maha_Habib\\x00',): 461,\n",
        " (u'Manuel_Gehring\\x00',): 462,\n",
        " (u'Marc_Bulger\\x00',): 463,\n",
        " (u'Marcus_Garrettson\\x00',): 464,\n",
        " (u'Marcus_Gronholm\\x00',): 465,\n",
        " (u'Margerry_Bakley\\x00',): 466,\n",
        " (u'Maria_Burks\\x00',): 467,\n",
        " (u'Mariana_Gonzalez\\x00',): 468,\n",
        " (u'Mariana_Ohata\\x00',): 469,\n",
        " (u'Marieta_Chrousala\\x00',): 470,\n",
        " (u'Mario_Dominguez\\x00',): 471,\n",
        " (u'Marion_Fahnestock\\x00',): 472,\n",
        " (u'Mark_Bellhorn\\x00',): 473,\n",
        " (u'Mark_Lazarus\\x00',): 474,\n",
        " (u'Mark_Richt\\x00',): 475,\n",
        " (u'Mark_Sisk\\x00',): 476,\n",
        " (u'Mark_Warner\\x00',): 477,\n",
        " (u'Marta_Dominguz\\x00',): 478,\n",
        " (u'Martin_Brooke\\x00',): 479,\n",
        " (u'Martin_Gecht\\x00',): 480,\n",
        " (u'Martin_Sheen\\x00',): 481,\n",
        " (u'Martina_Hingis\\x00',): 482,\n",
        " (u'Martina_McBride\\x00',): 483,\n",
        " (u'Mary_Elizabeth_Mastrantonio\\x00',): 484,\n",
        " (u'Mary_Lou_Markakis\\x00',): 485,\n",
        " (u'Massoud_Barzani\\x00',): 486,\n",
        " (u'Matt_Dillon\\x00',): 487,\n",
        " (u'Matt_Doherty\\x00',): 488,\n",
        " (u'Matt_Siebrandt\\x00',): 489,\n",
        " (u'Matthew_Broderick\\x00',): 490,\n",
        " (u'Mauro_Viza\\x00',): 491,\n",
        " (u'Max_Mosley\\x00',): 492,\n",
        " (u'Mayumi_Moriyama\\x00',): 493,\n",
        " (u'Mehdi_Baala\\x00',): 494,\n",
        " (u'Mel_Brooks\\x00',): 495,\n",
        " (u'Melina_Kanakaredes\\x00',): 496,\n",
        " (u'Mercedes_Amor\\x00',): 497,\n",
        " (u'Mesut_Yilmaz\\x00',): 498,\n",
        " (u'Michael_Capellas\\x00',): 499,\n",
        " (u'Michael_Deutsch\\x00',): 500,\n",
        " (u'Michael_Jasny\\x00',): 501,\n",
        " (u'Michael_Keaton\\x00',): 502,\n",
        " (u'Michael_Lopez-Alegria\\x00',): 503,\n",
        " (u'Michael_McNeely\\x00',): 504,\n",
        " (u'Michael_Shane_Jolly\\x00',): 505,\n",
        " (u'Michel_Duclos\\x00',): 506,\n",
        " (u'Michel_Therrien\\x00',): 507,\n",
        " (u'Mickey_Gilley\\x00',): 508,\n",
        " (u'Micky_Ward\\x00',): 509,\n",
        " (u'Miguel_Aldana_Ibarra\\x00',): 510,\n",
        " (u'Miguel_Angel_Rodriguez\\x00',): 511,\n",
        " (u'Mike_Alden\\x00',): 512,\n",
        " (u'Mike_Bair\\x00',): 513,\n",
        " (u'Mike_Davis\\x00',): 514,\n",
        " (u'Mike_Helton\\x00',): 515,\n",
        " (u'Mike_Matthews\\x00',): 516,\n",
        " (u'Mike_Samp\\x00',): 517,\n",
        " (u'Mike_Smith\\x00',): 518,\n",
        " (u'Mike_Szymanczyk\\x00',): 519,\n",
        " (u'Mohamed_Hammam\\x00',): 520,\n",
        " (u'Mohammad_Aktar\\x00',): 521,\n",
        " (u'Mohammad_Khatami\\x00',): 522,\n",
        " (u'Mohammed_Al_Hindi\\x00',): 523,\n",
        " (u'Mohammed_Baqir_al-Hakim\\x00',): 524,\n",
        " (u'Momir_Nikolic\\x00',): 525,\n",
        " (u'Monica_Gabrielle\\x00',): 526,\n",
        " (u'Monique_Garbrecht-Enfeldt\\x00',): 527,\n",
        " (u'Muhammad_Saeed_al-Sahhaf\\x00',): 528,\n",
        " (u'Naji_Sabri\\x00',): 529,\n",
        " (u'Nancy_Greenlaw\\x00',): 530,\n",
        " (u'Nancy_Smith\\x00',): 531,\n",
        " (u'Narendra_Modi\\x00',): 532,\n",
        " (u'Nasser_al-Kidwa\\x00',): 533,\n",
        " (u'Nastassia_Kinski\\x00',): 534,\n",
        " (u'Natalia_Motuziuk\\x00',): 535,\n",
        " (u'Natalya_Sazanovich\\x00',): 536,\n",
        " (u'Natanaela_Barnova\\x00',): 537,\n",
        " (u'Natasha_Henstridge\\x00',): 538,\n",
        " (u'Nate_Huffman\\x00',): 539,\n",
        " (u'Nawabzada_Nasrullah_Khan\\x00',): 540,\n",
        " (u'Nick_Markakis\\x00',): 541,\n",
        " (u'Nick_Rimando\\x00',): 542,\n",
        " (u'Nicola_Bono\\x00',): 543,\n",
        " (u'Nicolas_Macrozonaris\\x00',): 544,\n",
        " (u'Nicolas_Massu\\x00',): 545,\n",
        " (u'Nikolay_Davydenko\\x00',): 546,\n",
        " (u'Nizar_Trabelsi\\x00',): 547,\n",
        " (u'Nobuyuki_Idei\\x00',): 548,\n",
        " (u'Norm_Macdonald\\x00',): 549,\n",
        " (u'Nuon_Chea\\x00',): 550,\n",
        " (u'Oliver_Neuville\\x00',): 551,\n",
        " (u'Olivia_Newton-John\\x00',): 552,\n",
        " (u'Olivier_Rochus\\x00',): 553,\n",
        " (u'Oscar_DLeon\\x00',): 554,\n",
        " (u'Ozzy_Osbourne\\x00',): 555,\n",
        " (u'Paddy_Long\\x00',): 556,\n",
        " (u'Padraig_Harrington\\x00',): 557,\n",
        " (u'Pascal_Quignard\\x00',): 558,\n",
        " (u'Pat_Riley\\x00',): 559,\n",
        " (u'Patrice_Chereau\\x00',): 560,\n",
        " (u'Patrick_Coleman\\x00',): 561,\n",
        " (u'Patrick_Dennehy\\x00',): 562,\n",
        " (u'Patrick_Roy\\x00',): 563,\n",
        " (u'Paul_Coppin\\x00',): 564,\n",
        " (u'Paul_Hogan\\x00',): 565,\n",
        " (u'Paul_Johnson\\x00',): 566,\n",
        " (u'Paul_Lockhart\\x00',): 567,\n",
        " (u'Paul_Reiser\\x00',): 568,\n",
        " (u'Paul_Walker\\x00',): 569,\n",
        " (u'Paula_Prentiss\\x00',): 570,\n",
        " (u'Pauley_Perrette\\x00',): 571,\n",
        " (u'Pauline_Phillips\\x00',): 572,\n",
        " (u'Perry_Farrell\\x00',): 573,\n",
        " (u'Perry_Gibbs\\x00',): 574,\n",
        " (u'Peter_Albertsen\\x00',): 575,\n",
        " (u'Peter_Care\\x00',): 576,\n",
        " (u'Peter_Caruana\\x00',): 577,\n",
        " (u'Peter_Fisher\\x00',): 578,\n",
        " (u'Peter_Goldmark\\x00',): 579,\n",
        " (u'Peter_Harrison\\x00',): 580,\n",
        " (u'Peter_Hartz\\x00',): 581,\n",
        " (u'Peter_Harvey\\x00',): 582,\n",
        " (u'Peter_Rasch\\x00',): 583,\n",
        " (u'Peter_Rasmussen\\x00',): 584,\n",
        " (u'Phil_Bredesen\\x00',): 585,\n",
        " (u'Pierre_Boulanger\\x00',): 586,\n",
        " (u'Pinar_del_Rio\\x00',): 587,\n",
        " (u'Placido_Domingo\\x00',): 588,\n",
        " (u'Prince_Claus\\x00',): 589,\n",
        " (u'Prince_Edward\\x00',): 590,\n",
        " (u'Priyanka_Chopra\\x00',): 591,\n",
        " (u'Radovan_Karadzic\\x00',): 592,\n",
        " (u'Rainer_Geulen\\x00',): 593,\n",
        " (u'Raja_Qureshi\\x00',): 594,\n",
        " (u'Raja_Zafar-ul-Haq\\x00',): 595,\n",
        " (u'Rand_Beers\\x00',): 596,\n",
        " (u'Rand_Miller\\x00',): 597,\n",
        " (u'Raoul_Ruiz\\x00',): 598,\n",
        " (u'Raul_Cubas\\x00',): 599,\n",
        " (u'Red_Auerbach\\x00',): 600,\n",
        " (u'Ren_Qingjin\\x00',): 601,\n",
        " (u'Richard_Crenna\\x00',): 602,\n",
        " (u'Richard_Daley\\x00',): 603,\n",
        " (u'Richard_Jewell\\x00',): 604,\n",
        " (u'Richard_Naughton\\x00',): 605,\n",
        " (u'Richard_Paul_Evans\\x00',): 606,\n",
        " (u'Rick_Lu\\x00',): 607,\n",
        " (u'Rick_Pitino\\x00',): 608,\n",
        " (u'Rick_Romley\\x00',): 609,\n",
        " (u'Ricky_Barnes\\x00',): 610,\n",
        " (u'Rita_Moreno\\x00',): 611,\n",
        " (u'Rita_Wilson\\x00',): 612,\n",
        " (u'Robert_Hyatt\\x00',): 613,\n",
        " (u'Robert_Torricelli\\x00',): 614,\n",
        " (u'Robert_Weitzel\\x00',): 615,\n",
        " (u'Robert_Woody_Johnson\\x00',): 616,\n",
        " (u'Roberta_Combs\\x00',): 617,\n",
        " (u'Roberto_Benigni\\x00',): 618,\n",
        " (u'Roberto_Carlos\\x00',): 619,\n",
        " (u'Roberto_Cercelletta\\x00',): 620,\n",
        " (u'Roberto_Marinho\\x00',): 621,\n",
        " (u'Roberto_Tovar\\x00',): 622,\n",
        " (u'Rod_Blagojevich\\x00',): 623,\n",
        " (u'Rod_Bryden\\x00',): 624,\n",
        " (u'Rodolfo_Abalos\\x00',): 625,\n",
        " (u'Rodrigo_de_la_Cerna\\x00',): 626,\n",
        " (u'Roger_Federer\\x00',): 627,\n",
        " (u'Ron_Gonzales\\x00',): 628,\n",
        " (u'Ronald_Perelman\\x00',): 629,\n",
        " (u'Ronald_Post\\x00',): 630,\n",
        " (u'Ronde_Barber\\x00',): 631,\n",
        " (u'Roy_Jones_Jr\\x00',): 632,\n",
        " (u'Ruben_Wolkowyski\\x00',): 633,\n",
        " (u'Russell_Crowe\\x00',): 634,\n",
        " (u'Ryan_Leaf\\x00',): 635,\n",
        " (u'Sachiko_Yamada\\x00',): 636,\n",
        " (u'Salma_Hayek\\x00',): 637,\n",
        " (u'Sam_Brownback\\x00',): 638,\n",
        " (u'Sam_Torrance\\x00',): 639,\n",
        " (u'Samuel_Waksal\\x00',): 640,\n",
        " (u'Sasha_Cohen\\x00',): 641,\n",
        " (u'Scott_McClellan\\x00',): 642,\n",
        " (u'Scott_Wallach\\x00',): 643,\n",
        " (u'Scott_Weiland\\x00',): 644,\n",
        " (u'Sean_OKeefe\\x00',): 645,\n",
        " (u'Sean_Patrick_Thomas\\x00',): 646,\n",
        " (u'Sebastian_Cuattrin\\x00',): 647,\n",
        " (u'Sebastien_Grosjean\\x00',): 648,\n",
        " (u'Serena_Karlan\\x00',): 649,\n",
        " (u'Sereyvuth_Kem\\x00',): 650,\n",
        " (u'Seydou_Diarra\\x00',): 651,\n",
        " (u'Sherri_Coale\\x00',): 652,\n",
        " (u'Shireen_Amir_Begum\\x00',): 653,\n",
        " (u'Shobha_De\\x00',): 654,\n",
        " (u'Shoshana_Johnson\\x00',): 655,\n",
        " (u'Sidney_Kimmel\\x00',): 656,\n",
        " (u'Silvio_Berlusconi\\x00',): 657,\n",
        " (u'Simon_Larose\\x00',): 658,\n",
        " (u'Sonia_Lopez\\x00',): 659,\n",
        " (u'Soon_Yi\\x00',): 660,\n",
        " (u'Stan_Kasten\\x00',): 661,\n",
        " (u'Stanley_Ho\\x00',): 662,\n",
        " (u'Stanley_Nelson\\x00',): 663,\n",
        " (u'Steffi_Graf\\x00',): 664,\n",
        " (u'Stephane_Rochon\\x00',): 665,\n",
        " (u'Stephanie_Zimbalist\\x00',): 666,\n",
        " (u'Stephen_Ambrose\\x00',): 667,\n",
        " (u'Stephen_Arigbabu\\x00',): 668,\n",
        " (u'Stephen_Daldry\\x00',): 669,\n",
        " (u'Steve_Alford\\x00',): 670,\n",
        " (u'Steve_Blankenship\\x00',): 671,\n",
        " (u'Steve_Karsay\\x00',): 672,\n",
        " (u'Steve_Peace\\x00',): 673,\n",
        " (u'Steve_Redgrave\\x00',): 674,\n",
        " (u'Steven_Craig\\x00',): 675,\n",
        " (u'Steven_Feldman\\x00',): 676,\n",
        " (u'Steven_Seagal\\x00',): 677,\n",
        " (u'Strom_Thurmond\\x00',): 678,\n",
        " (u'Stuart_Townsend\\x00',): 679,\n",
        " (u'Stuart_Whitman\\x00',): 680,\n",
        " (u'Supachai_Panitchpakdi\\x00',): 681,\n",
        " (u'Suzanne_Torrance\\x00',): 682,\n",
        " (u'Suzie_McConnell_Serio\\x00',): 683,\n",
        " (u'Syed_Ibrahim\\x00',): 684,\n",
        " (u'Sylvia_Plachy\\x00',): 685,\n",
        " (u'Takahiro_Mori\\x00',): 686,\n",
        " (u'Tariq_Aziz\\x00',): 687,\n",
        " (u'Tatiana_Gratcheva\\x00',): 688,\n",
        " (u'Tatiana_Panova\\x00',): 689,\n",
        " (u'Tavis_Smiley\\x00',): 690,\n",
        " (u'Teresa_Worbis\\x00',): 691,\n",
        " (u'Terri_Clark\\x00',): 692,\n",
        " (u'Terry_Lynn_Barton\\x00',): 693,\n",
        " (u'Thalia\\x00',): 694,\n",
        " (u'Theresa_May\\x00',): 695,\n",
        " (u'Thierry_Falise\\x00',): 696,\n",
        " (u'Thomas_OBrien\\x00',): 697,\n",
        " (u'Thomas_Ulrich\\x00',): 698,\n",
        " (u'Tia_Mowry\\x00',): 699,\n",
        " (u'Tiffany_Limos\\x00',): 700,\n",
        " (u'Tim_Chapman\\x00',): 701,\n",
        " (u'Tim_Curley\\x00',): 702,\n",
        " (u'Tim_Howard\\x00',): 703,\n",
        " (u'Tim_Salmon\\x00',): 704,\n",
        " (u'Timothy_Wirth\\x00',): 705,\n",
        " (u'Tina_Brown\\x00',): 706,\n",
        " (u'Todd_Haynes\\x00',): 707,\n",
        " (u'Tom_Coverdale\\x00',): 708,\n",
        " (u'Tom_McClintock\\x00',): 709,\n",
        " (u'Tom_Moss\\x00',): 710,\n",
        " (u'Tom_Vilsack\\x00',): 711,\n",
        " (u'Tommy_Lasorda\\x00',): 712,\n",
        " (u'Tommy_Maddox\\x00',): 713,\n",
        " (u'Toni_Braxton\\x00',): 714,\n",
        " (u'Tono_Suratman\\x00',): 715,\n",
        " (u'Tony_Stewart\\x00',): 716,\n",
        " (u'Tora_Takagi\\x00',): 717,\n",
        " (u'Tori_Amos\\x00',): 718,\n",
        " (u'Trent_Lott\\x00',): 719,\n",
        " (u'Trevor_Watson\\x00',): 720,\n",
        " (u'Ty_Votaw\\x00',): 721,\n",
        " (u'Tyra_Banks\\x00',): 722,\n",
        " (u'Uri_Lopolianski\\x00',): 723,\n",
        " (u'Vagit_Alekperov\\x00',): 724,\n",
        " (u'Val_Ackerman\\x00',): 725,\n",
        " (u'Vanessa_Williams\\x00',): 726,\n",
        " (u'Victor_Kraatz\\x00',): 727,\n",
        " (u'Victoria_Beckham\\x00',): 728,\n",
        " (u'Vivica_Fox\\x00',): 729,\n",
        " (u'Walter_Mondale\\x00',): 730,\n",
        " (u'Wanda_de_la_Jesus\\x00',): 731,\n",
        " (u'Wang_Yingfan\\x00',): 732,\n",
        " (u'Warren_Buffett\\x00',): 733,\n",
        " (u'Wayne_Brady\\x00',): 734,\n",
        " (u'Werner_Schlager\\x00',): 735,\n",
        " (u'William_Harrison\\x00',): 736,\n",
        " (u'William_Macy\\x00',): 737,\n",
        " (u'William_Murabito\\x00',): 738,\n",
        " (u'William_Swor\\x00',): 739,\n",
        " (u'Willie_Nelson\\x00',): 740,\n",
        " (u'Wilma_McNabb\\x00',): 741,\n",
        " (u'Wolfgang_Clement\\x00',): 742,\n",
        " (u'Wolfgang_Schwarz\\x00',): 743,\n",
        " (u'Xanana_Gusmao\\x00',): 744,\n",
        " (u'Xavier_Malisse\\x00',): 745,\n",
        " (u'Yang_Pao-yu\\x00',): 746,\n",
        " (u'Zhong_Nanshan\\x00',): 747,\n",
        " (u'Zoe_Ball\\x00',): 748,\n",
        " (u'Zorica_Radovic\\x00',): 749,\n",
        " (u'zz_zz\\x00',): 750}"
       ]
      }
     ],
     "prompt_number": 84
    },
    {
     "cell_type": "code",
     "collapsed": false,
     "input": [],
     "language": "python",
     "metadata": {},
     "outputs": []
    }
   ],
   "metadata": {}
  }
 ]
}