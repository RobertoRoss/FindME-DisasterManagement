{
 "metadata": {
  "name": "",
  "signature": "sha256:28fadcb3dddfc6f3cd1285baa746f9a096d546a43c1f58299f6c1e8525146043"
 },
 "nbformat": 3,
 "nbformat_minor": 0,
 "worksheets": []
}